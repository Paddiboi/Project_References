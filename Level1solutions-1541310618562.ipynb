{
  "cells": [
    {
      "metadata": {},
      "cell_type": "markdown",
      "source": "<img src = 'https://github.com/insaid2018/Term-1/blob/master/Images/INSAID_Full%20Logo.png?raw=true' width=\"240\" height=\"360\">\n# __Assignment: Numpy and Pandas__\n### Level: 1"
    },
    {
      "metadata": {},
      "cell_type": "markdown",
      "source": "### 1. Create a null vector of size 7 but the third and last value as 2."
    },
    {
      "metadata": {
        "trusted": true
      },
      "cell_type": "code",
      "source": "import numpy as np\ndef generate():\n    vec = np.zeros(7)\n    vec[2] = 2\n    vec[-1] = 2\n    print(vec)\ngenerate()",
      "execution_count": 1,
      "outputs": [
        {
          "output_type": "stream",
          "text": "[0. 0. 2. 0. 0. 0. 2.]\n",
          "name": "stdout"
        }
      ]
    },
    {
      "metadata": {},
      "cell_type": "markdown",
      "source": "### 2. Create a vector of size 9 with values ranging from 0 to 2, both excluded."
    },
    {
      "metadata": {
        "trusted": false
      },
      "cell_type": "code",
      "source": "import numpy as np\ndef generate():\n    Vector = np.linspace(0, 2, num = 11, endpoint = True)[ 1:-1 ]\n    print(Vector)\ngenerate()",
      "execution_count": 16,
      "outputs": [
        {
          "name": "stdout",
          "output_type": "stream",
          "text": "[0.2 0.4 0.6 0.8 1.  1.2 1.4 1.6 1.8]\n"
        }
      ]
    },
    {
      "metadata": {},
      "cell_type": "markdown",
      "source": "### 3. Convert the first character of each element in a series to uppercase?And return the new series. Hint: use map and lambda methods."
    },
    {
      "metadata": {
        "trusted": false
      },
      "cell_type": "code",
      "source": "import pandas as pd\nseries = pd.Series(['how', 'to', 'learn', 'data science?'])\ndef generate():\n    new_series = series.map(lambda x: x[0].upper() + x[1:])\n    return new_series\ngenerate()  ",
      "execution_count": 9,
      "outputs": [
        {
          "data": {
            "text/plain": "0              How\n1               To\n2            Learn\n3    Data science?\ndtype: object"
          },
          "execution_count": 9,
          "metadata": {},
          "output_type": "execute_result"
        }
      ]
    },
    {
      "metadata": {},
      "cell_type": "markdown",
      "source": "### 4. Given a 3*3 matrix named matrix_fab, From each element of this matrix subtract the mean of that row, name this matrix as matrix_sub. Divide each element of this matrix by twice of the largest element to get matrix_norm. Print it out."
    },
    {
      "metadata": {
        "trusted": false
      },
      "cell_type": "code",
      "source": "import numpy as np\narr = np.arange(0,9)                                \nmatrix_fab = arr.reshape(3,3)\ndef generate():\n    matrix_sub = matrix_fab - matrix_fab.mean(axis = 1, keepdims = True)\n    max = matrix_sub.max()\n    matrix_norm = matrix_sub/(2*max)\n    print(matrix_norm)\ngenerate()",
      "execution_count": 10,
      "outputs": [
        {
          "name": "stdout",
          "output_type": "stream",
          "text": "[[-0.5  0.   0.5]\n [-0.5  0.   0.5]\n [-0.5  0.   0.5]]\n"
        }
      ]
    },
    {
      "metadata": {},
      "cell_type": "markdown",
      "source": "### 5. Create a random vector of size 12 , sort it in decreasing order, make 4*3 array using it.\nHint: use reshape and sorted function."
    },
    {
      "metadata": {
        "trusted": false
      },
      "cell_type": "code",
      "source": "import numpy as np\ndef generate():\n    rand_vect = np.random.random(12)\n    rand_sort = np.array(sorted(rand_vect,reverse=True))\n    rand_new = rand_sort.reshape(4,3)\n    print(rand_new)\ngenerate()",
      "execution_count": 11,
      "outputs": [
        {
          "name": "stdout",
          "output_type": "stream",
          "text": "[[0.86685908 0.82761388 0.72428245]\n [0.6750039  0.43843945 0.40909213]\n [0.39730975 0.32786399 0.32762578]\n [0.16984344 0.08428224 0.05113456]]\n"
        }
      ]
    },
    {
      "metadata": {},
      "cell_type": "markdown",
      "source": "### 6. Below is Python dictionary data and Python list labels. Create a DataFrame df from this dictionary data which has index as labels. Select the rows where the age is missing, i.e. is NaN."
    },
    {
      "metadata": {
        "trusted": false
      },
      "cell_type": "code",
      "source": "import numpy as np\ndata = {'animal': ['cat', 'cat', 'snake', 'dog', 'dog', 'cat', 'snake', 'cat', 'dog', 'dog'],\n        'age': [2.5, 3, 0.5, np.nan, 5, 2, 4.5, np.nan, 7, 3],\n        'visits': [1, 3, 2, 3, 2, 3, 1, 1, 2, 1],\n        'priority': ['yes', 'yes', 'no', 'yes', 'no', 'no', 'no', 'yes', 'no', 'no']}\n\nlabels = ['a', 'b', 'c', 'd', 'e', 'f', 'g', 'h', 'i', 'j']\nimport pandas as pd\ndef generate():\n    df = pd.DataFrame(data, index=labels)\n    print(df[df['age'].isnull()])\ngenerate()",
      "execution_count": 13,
      "outputs": [
        {
          "name": "stdout",
          "output_type": "stream",
          "text": "  animal  age  visits priority\nd    dog  NaN       3      yes\nh    cat  NaN       1      yes\n"
        }
      ]
    },
    {
      "metadata": {},
      "cell_type": "markdown",
      "source": "### 7. From the give dataframe df, in the 'animal' column change the 'dog' entries to 'Labrador', change the age in row 'd' to 2.7 and calculate the mean age (name it mean_age) for each different animal in df. Print df and return mean_age"
    },
    {
      "metadata": {
        "trusted": false
      },
      "cell_type": "code",
      "source": "import pandas as pd\nimport numpy as np\ndata = {'animal': ['cat', 'cat', 'snake', 'dog', 'dog', 'cat', 'snake', 'cat', 'dog', 'dog'],\n        'age': [2.5, 3, 0.5, np.nan, 5, 2, 4.5, np.nan, 7, 3],\n        'visits': [1, 3, 2, 3, 2, 3, 1, 1, 2, 1],\n        'priority': ['yes', 'yes', 'no', 'yes', 'no', 'no', 'no', 'yes', 'no', 'no']}\n\nlabels = ['a', 'b', 'c', 'd', 'e', 'f', 'g', 'h', 'i', 'j']\ndf = pd.DataFrame(data, index=labels)\ndef generate():\n    df['animal'] = df['animal'].replace('dog', 'Labrador')\n    df.loc['d', 'age'] = 2.7  \n    mean_age = df.groupby('animal')['age'].mean()\n    print(df)\n    return mean_age\ngenerate()",
      "execution_count": 21,
      "outputs": [
        {
          "name": "stdout",
          "output_type": "stream",
          "text": "     animal  age  visits priority\na       cat  2.5       1      yes\nb       cat  3.0       3      yes\nc     snake  0.5       2       no\nd  Labrador  2.7       3      yes\ne  Labrador  5.0       2       no\nf       cat  2.0       3       no\ng     snake  4.5       1       no\nh       cat  NaN       1      yes\ni  Labrador  7.0       2       no\nj  Labrador  3.0       1       no\n"
        },
        {
          "data": {
            "text/plain": "animal\nLabrador    4.425\ncat         2.500\nsnake       2.500\nName: age, dtype: float64"
          },
          "execution_count": 21,
          "metadata": {},
          "output_type": "execute_result"
        }
      ]
    },
    {
      "metadata": {},
      "cell_type": "markdown",
      "source": "### 8.  From the given dataframe get the positions where values of two columns match?"
    },
    {
      "metadata": {
        "trusted": false
      },
      "cell_type": "code",
      "source": "import pandas as pd\nimport numpy as np\ndf = pd.DataFrame({'fruit1': np.random.choice(['apple', 'orange', 'banana'], 10),\n                    'fruit2': np.random.choice(['apple', 'orange', 'banana'], 10)})\ndef generate():\n    s = np.where(df.fruit1 == df.fruit2)\n    print(s)\n    return None\ngenerate()",
      "execution_count": 15,
      "outputs": [
        {
          "name": "stdout",
          "output_type": "stream",
          "text": "(array([5, 7, 9], dtype=int64),)\n"
        }
      ]
    },
    {
      "metadata": {},
      "cell_type": "markdown",
      "source": "### 9. Find the positions of numbers that are multiples of 4 from a series? Print series and return position. Hint: use argwhere."
    },
    {
      "metadata": {
        "trusted": false
      },
      "cell_type": "code",
      "source": "import pandas as pd\nimport numpy as np\ndef generate():\n    series = pd.Series(np.random.randint(1, 10, 7))\n    pos=np.argwhere(series % 4 == 0 )\n    print(series)\n    print(pos)\ngenerate()",
      "execution_count": 29,
      "outputs": [
        {
          "name": "stdout",
          "output_type": "stream",
          "text": "0    8\n1    9\n2    8\n3    1\n4    9\n5    8\n6    5\ndtype: int32\n[[0]\n [2]\n [5]]\n"
        }
      ]
    },
    {
      "metadata": {},
      "cell_type": "markdown",
      "source": "### 10. Stack two given series vertically and horizontally ?"
    },
    {
      "metadata": {
        "trusted": false
      },
      "cell_type": "code",
      "source": "import pandas as pd\nimport numpy as np\nseries1 = pd.Series(range(5))\nseries2 = pd.Series(list('aanyp'))\ndef generate():\n    verti = series1.append(series2)\n    print(verti)\n    hori = pd.concat([series1, series2], axis=1)\n    print(hori)\n    return None\ngenerate()",
      "execution_count": 14,
      "outputs": [
        {
          "name": "stdout",
          "output_type": "stream",
          "text": "0    0\n1    1\n2    2\n3    3\n4    4\n0    a\n1    a\n2    n\n3    y\n4    p\ndtype: object\n   0  1\n0  0  a\n1  1  a\n2  2  n\n3  3  y\n4  4  p\n"
        }
      ]
    }
  ],
  "metadata": {
    "kernelspec": {
      "name": "python3",
      "display_name": "Python 3",
      "language": "python"
    },
    "language_info": {
      "mimetype": "text/x-python",
      "nbconvert_exporter": "python",
      "name": "python",
      "pygments_lexer": "ipython3",
      "version": "3.5.4",
      "file_extension": ".py",
      "codemirror_mode": {
        "version": 3,
        "name": "ipython"
      }
    }
  },
  "nbformat": 4,
  "nbformat_minor": 2
}