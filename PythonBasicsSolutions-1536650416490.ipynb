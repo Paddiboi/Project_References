{
  "cells": [
    {
      "metadata": {},
      "cell_type": "markdown",
      "source": "<img src='https://www.insaid.co/wp-content/uploads/2018/04/INSAID_Logo-1.png' height=\"240\" width=\"360\"/>\n<br/>\n# Python basics"
    },
    {
      "metadata": {
        "collapsed": true
      },
      "cell_type": "markdown",
      "source": "### 1.Write a Python program to print the following string\n\nSample String: \"Welcome to INSAID- International School of AI and Data Science\"\n\n"
    },
    {
      "metadata": {
        "trusted": true
      },
      "cell_type": "code",
      "source": "print(\"Welcome to INSAID- International School of AI and Data Science\")",
      "execution_count": 1,
      "outputs": [
        {
          "output_type": "stream",
          "text": "Welcome to INSAID- International School of AI and Data Science\n",
          "name": "stdout"
        }
      ]
    },
    {
      "metadata": {},
      "cell_type": "markdown",
      "source": "### 1.1 In a “Hello, World!” program, a comment may look like this:"
    },
    {
      "metadata": {
        "trusted": true
      },
      "cell_type": "code",
      "source": "# Print “Hello, World!” to console\nprint(\"Hello, World!\")",
      "execution_count": 2,
      "outputs": [
        {
          "output_type": "stream",
          "text": "Hello, World!\n",
          "name": "stdout"
        }
      ]
    },
    {
      "metadata": {
        "trusted": true
      },
      "cell_type": "code",
      "source": "# Define sharks variable as a list of strings\nlist_sample = ['hammer', 'white', 'fish', 'frilled', 'bullhead', 'requiem']\n\n# For loop that iterates over sharks list and prints each string item\nfor sample in list_sample:\n   print(sample)",
      "execution_count": 3,
      "outputs": [
        {
          "output_type": "stream",
          "text": "hammer\nwhite\nfish\nfrilled\nbullhead\nrequiem\n",
          "name": "stdout"
        }
      ]
    },
    {
      "metadata": {},
      "cell_type": "markdown",
      "source": "### 2.Write a Python Program to Add Two Numbers"
    },
    {
      "metadata": {
        "trusted": true
      },
      "cell_type": "code",
      "source": "# initialise two varaibles\na = 5\nb = 3\n# Add two numbers\nsum = a + b\n\n# Display the sum\nprint(\"the sum of a and b is {}\" .format(sum))",
      "execution_count": 4,
      "outputs": [
        {
          "output_type": "stream",
          "text": "the sum of a and b is 8\n",
          "name": "stdout"
        }
      ]
    },
    {
      "metadata": {},
      "cell_type": "markdown",
      "source": "### 3.Write a Python Program to Find the product of two numbers"
    },
    {
      "metadata": {
        "trusted": true
      },
      "cell_type": "code",
      "source": "# initialise two varaibles\na = 5\nb = 3\n# multiply two numbers\nc = a * b\n\n# Display the sum\nprint(\"the product of a and b is {}\" .format(c))",
      "execution_count": 5,
      "outputs": [
        {
          "output_type": "stream",
          "text": "the product of a and b is 15\n",
          "name": "stdout"
        }
      ]
    },
    {
      "metadata": {},
      "cell_type": "markdown",
      "source": "### 4.Write a python program to find the area of triangle given height and base of the triangle as 3 and 10."
    },
    {
      "metadata": {
        "trusted": true
      },
      "cell_type": "code",
      "source": "# Area of the triangle A= 1/2(base * height)\n\n#given height=3 and base =10\n\nh=3;\n\nb=10;\n\narea_of_triangle = 1/2 * (h* b);\n\nprint(\"the product of a and b is {}\" .format(area_of_triangle))\n",
      "execution_count": 6,
      "outputs": [
        {
          "output_type": "stream",
          "text": "the product of a and b is 15.0\n",
          "name": "stdout"
        }
      ]
    },
    {
      "metadata": {},
      "cell_type": "markdown",
      "source": "### 5.Python Program to Swap Two Variables"
    },
    {
      "metadata": {
        "trusted": true
      },
      "cell_type": "code",
      "source": "# initialise two varaibles\na = 5\nb = 3\n\n# create a temporary variable and swap the values\n\ntemp = a\na = b\nb = temp\n\nprint('The value of x after swapping: {}'.format(a))\nprint('The value of y after swapping: {}'.format(b))",
      "execution_count": 7,
      "outputs": [
        {
          "output_type": "stream",
          "text": "The value of x after swapping: 3\nThe value of y after swapping: 5\n",
          "name": "stdout"
        }
      ]
    },
    {
      "metadata": {},
      "cell_type": "markdown",
      "source": "## Section -"
    },
    {
      "metadata": {
        "collapsed": true
      },
      "cell_type": "markdown",
      "source": "### 1.Write a python program to print datatype of a varaible"
    },
    {
      "metadata": {
        "trusted": true
      },
      "cell_type": "code",
      "source": "a = 1\nprint(a, \"is of type\", type(a))\n\nb = 2.0\nprint(a, \"is of type\", type(a))\n\nc = 1+2j\nprint(a, \"is complex number?\", isinstance(1+2j,complex))",
      "execution_count": 8,
      "outputs": [
        {
          "output_type": "stream",
          "text": "1 is of type <class 'int'>\n1 is of type <class 'int'>\n1 is complex number? True\n",
          "name": "stdout"
        }
      ]
    },
    {
      "metadata": {},
      "cell_type": "markdown",
      "source": "### 2.Write a python program to extract an item or a range of items from a list.\n\n"
    },
    {
      "metadata": {
        "trusted": true
      },
      "cell_type": "code",
      "source": "a = [15,20,35,40,45,30,35,60]\n\nprint(a[2])\n\nprint(a[0:3])\n\nprint(a[5:])\n\nprint(a[:6])",
      "execution_count": 9,
      "outputs": [
        {
          "output_type": "stream",
          "text": "35\n[15, 20, 35]\n[30, 35, 60]\n[15, 20, 35, 40, 45, 30]\n",
          "name": "stdout"
        }
      ]
    },
    {
      "metadata": {},
      "cell_type": "markdown",
      "source": "### 3.Converting Floats to Integers\n"
    },
    {
      "metadata": {
        "trusted": true
      },
      "cell_type": "code",
      "source": "b = 125.0\nc = 390.8\n\nprint(int(b))\nprint(int(c))",
      "execution_count": 10,
      "outputs": [
        {
          "output_type": "stream",
          "text": "125\n390\n",
          "name": "stdout"
        }
      ]
    },
    {
      "metadata": {},
      "cell_type": "markdown",
      "source": "### 4.Converting Numbers to Strings"
    },
    {
      "metadata": {
        "trusted": true
      },
      "cell_type": "code",
      "source": "a = 10\n\nprint(a, \"is of type\", type(a))\n\nb = str(a)\n\nprint(b, \"is of type\", type(b))\n",
      "execution_count": 11,
      "outputs": [
        {
          "output_type": "stream",
          "text": "10 is of type <class 'int'>\n10 is of type <class 'str'>\n",
          "name": "stdout"
        }
      ]
    },
    {
      "metadata": {},
      "cell_type": "markdown",
      "source": "### 5.Converting Strings to Numbers"
    },
    {
      "metadata": {
        "trusted": true
      },
      "cell_type": "code",
      "source": "a = \"50\"\nb = \"108\"\n\nlines_more = int(a) - int(b)\n\nprint(lines_more)",
      "execution_count": 12,
      "outputs": [
        {
          "output_type": "stream",
          "text": "-58\n",
          "name": "stdout"
        }
      ]
    },
    {
      "metadata": {},
      "cell_type": "markdown",
      "source": "### 6.Converting list to Tuples"
    },
    {
      "metadata": {
        "trusted": true
      },
      "cell_type": "code",
      "source": "print(tuple(['request', 'source', 'repository', 'branch']))\n",
      "execution_count": 13,
      "outputs": [
        {
          "output_type": "stream",
          "text": "('request', 'source', 'repository', 'branch')\n",
          "name": "stdout"
        }
      ]
    },
    {
      "metadata": {},
      "cell_type": "markdown",
      "source": "### 7.Converting tuple to Lists"
    },
    {
      "metadata": {
        "trusted": true
      },
      "cell_type": "code",
      "source": "print(list(('blue', 'red', 'white')))",
      "execution_count": 14,
      "outputs": [
        {
          "output_type": "stream",
          "text": "['blue', 'red', 'white']\n",
          "name": "stdout"
        }
      ]
    },
    {
      "metadata": {
        "collapsed": true
      },
      "cell_type": "markdown",
      "source": "### 8.converting strings to lists:"
    },
    {
      "metadata": {
        "trusted": true
      },
      "cell_type": "code",
      "source": "print(list('INSAID'))",
      "execution_count": 15,
      "outputs": [
        {
          "output_type": "stream",
          "text": "['I', 'N', 'S', 'A', 'I', 'D']\n",
          "name": "stdout"
        }
      ]
    },
    {
      "metadata": {},
      "cell_type": "markdown",
      "source": "### 9.Assign different data types to a varibles"
    },
    {
      "metadata": {
        "trusted": true
      },
      "cell_type": "code",
      "source": "my_string = 'Hello, World!'\nmy_flt = 45.06\nmy_bool = 5 > 9 #A Boolean value will return either True or False\nmy_list = ['item_1', 'item_2', 'item_3', 'item_4']\nmy_tuple = ('one', 'two', 'three')\nmy_dict = {'letter': 'g', 'number': 'seven', 'symbol': '&'}",
      "execution_count": 16,
      "outputs": []
    },
    {
      "metadata": {},
      "cell_type": "markdown",
      "source": "## Section-"
    },
    {
      "metadata": {
        "collapsed": true
      },
      "cell_type": "markdown",
      "source": "### Print out a string that uses a formatter"
    },
    {
      "metadata": {
        "trusted": true
      },
      "cell_type": "code",
      "source": "print(\"john has {} cars.\".format(5))\n",
      "execution_count": 17,
      "outputs": [
        {
          "output_type": "stream",
          "text": "john has 5 cars.\n",
          "name": "stdout"
        }
      ]
    },
    {
      "metadata": {},
      "cell_type": "markdown",
      "source": "### We can also assign a variable to be equal to the value of a string that has formatter placeholders:"
    },
    {
      "metadata": {
        "trusted": true
      },
      "cell_type": "code",
      "source": "open_string = \"john likes {}.\"\n\nprint(open_string.format(\"open source\"))",
      "execution_count": 18,
      "outputs": [
        {
          "output_type": "stream",
          "text": "john likes open source.\n",
          "name": "stdout"
        }
      ]
    },
    {
      "metadata": {},
      "cell_type": "markdown",
      "source": "### Using Formatters with Multiple Placeholders"
    },
    {
      "metadata": {
        "trusted": true
      },
      "cell_type": "code",
      "source": "new_open_string = \"john likes {} {}.\"                      #2 {} placeholders\nprint(new_open_string.format(\"open-source\", \"software\"))    #Pass 2 strings into method, separated by a comma",
      "execution_count": 19,
      "outputs": [
        {
          "output_type": "stream",
          "text": "john likes open-source software.\n",
          "name": "stdout"
        }
      ]
    },
    {
      "metadata": {
        "trusted": true
      },
      "cell_type": "code",
      "source": "sammy_string = \"john loves {} {}, and has {} {}.\"                      #4 {} placeholders\nprint(sammy_string.format(\"open-source\", \"software\", 5, \"balloons\"))    #Pass 4 strings into method",
      "execution_count": 20,
      "outputs": [
        {
          "output_type": "stream",
          "text": "john loves open-source software, and has 5 balloons.\n",
          "name": "stdout"
        }
      ]
    },
    {
      "metadata": {},
      "cell_type": "markdown",
      "source": "### Reordering Formatters with Positional and Keyword Arguments\n"
    },
    {
      "metadata": {
        "trusted": true
      },
      "cell_type": "code",
      "source": "print(\"john the {} has a pet {}!\".format(\"shark\", \"pilot fish\"))",
      "execution_count": 21,
      "outputs": [
        {
          "output_type": "stream",
          "text": "john the shark has a pet pilot fish!\n",
          "name": "stdout"
        }
      ]
    },
    {
      "metadata": {},
      "cell_type": "markdown",
      "source": "### We can pass these index numbers into the curly braces that serve as the placeholders in the original string:"
    },
    {
      "metadata": {
        "trusted": true
      },
      "cell_type": "code",
      "source": "\nprint(\"john the {0} has a pet {1}!\".format(\"shark\", \"pilot fish\"))\n\nprint(\"john is a {}, {}, and {} {}!\".format(\"happy\", \"smiling\", \"blue\", \"shark\"))\n",
      "execution_count": 22,
      "outputs": [
        {
          "output_type": "stream",
          "text": "john the shark has a pet pilot fish!\njohn is a happy, smiling, and blue shark!\n",
          "name": "stdout"
        }
      ]
    },
    {
      "metadata": {},
      "cell_type": "markdown",
      "source": "### Python Program to Get String Input from User\n"
    },
    {
      "metadata": {
        "trusted": true
      },
      "cell_type": "code",
      "source": "inputString = input(\"Enter any string: \")\nprint(inputString)",
      "execution_count": 23,
      "outputs": [
        {
          "output_type": "stream",
          "name": "stdout",
          "text": "Enter any string: nbmgog;\nnbmgog;\n"
        }
      ]
    },
    {
      "metadata": {
        "collapsed": true
      },
      "cell_type": "markdown",
      "source": "### Python program for conditional statements\n\n### 1)If the student receives over 65% on her test, report that her grade passes; if not, report that her grade fails"
    },
    {
      "metadata": {
        "trusted": true
      },
      "cell_type": "code",
      "source": "grade = 70\n\nif grade >= 65:\n    print(\"Passing grade\")\n    \n    ",
      "execution_count": 24,
      "outputs": [
        {
          "output_type": "stream",
          "text": "Passing grade\n",
          "name": "stdout"
        }
      ]
    },
    {
      "metadata": {
        "trusted": true
      },
      "cell_type": "code",
      "source": "grade = 60\n\nif grade >= 65:\n    print(\"Passing grade\")\n\nelse:\n    print(\"Failing grade\")",
      "execution_count": 25,
      "outputs": [
        {
          "output_type": "stream",
          "text": "Failing grade\n",
          "name": "stdout"
        }
      ]
    },
    {
      "metadata": {},
      "cell_type": "markdown",
      "source": "### Write a python program calculate whether a bank account balance is below 0."
    },
    {
      "metadata": {
        "trusted": true
      },
      "cell_type": "code",
      "source": "balance = 522\n\nif balance < 0:\n    print(\"Balance is below 0, add funds now or you will be charged a penalty.\")\n\nelse:\n    print(\"Your balance is 0 or above.\")\n",
      "execution_count": 26,
      "outputs": [
        {
          "output_type": "stream",
          "text": "Your balance is 0 or above.\n",
          "name": "stdout"
        }
      ]
    },
    {
      "metadata": {},
      "cell_type": "markdown",
      "source": "### Using Else if statement"
    },
    {
      "metadata": {
        "trusted": true
      },
      "cell_type": "code",
      "source": "balance = 522\n\nif balance < 0:\n    print(\"Balance is below 0, add funds now or you will be charged a penalty.\")\n\nelif balance == 0:\n    print(\"Balance is equal to 0, add funds soon.\")\n\nelse:\n    print(\"Your balance is 0 or above.\")",
      "execution_count": 27,
      "outputs": [
        {
          "output_type": "stream",
          "text": "Your balance is 0 or above.\n",
          "name": "stdout"
        }
      ]
    },
    {
      "metadata": {},
      "cell_type": "markdown",
      "source": "### Python program to print  Fibonacci series between 0 to 50."
    },
    {
      "metadata": {
        "trusted": true
      },
      "cell_type": "code",
      "source": "nterms = 50\n\na = 0\nb = 1\n\ncount = 0\n\nif nterms <= 0:\n   print(\"enter a positive integer\")\nelif nterms == 1:\n   print(\"Fibonacci sequence upto\",nterms,\":\")\n   print(n1)\nelse:\n   print(\"Fibonacci sequence upto\",nterms,\":\")\n   while count < nterms:\n       print(a,end=' , ')\n       nth = a + b\n       # update values\n       a = b\n       b = nth\n       count=count+1\n",
      "execution_count": 28,
      "outputs": [
        {
          "output_type": "stream",
          "text": "Fibonacci sequence upto 50 :\n0 , 1 , 1 , 2 , 3 , 5 , 8 , 13 , 21 , 34 , 55 , 89 , 144 , 233 , 377 , 610 , 987 , 1597 , 2584 , 4181 , 6765 , 10946 , 17711 , 28657 , 46368 , 75025 , 121393 , 196418 , 317811 , 514229 , 832040 , 1346269 , 2178309 , 3524578 , 5702887 , 9227465 , 14930352 , 24157817 , 39088169 , 63245986 , 102334155 , 165580141 , 267914296 , 433494437 , 701408733 , 1134903170 , 1836311903 , 2971215073 , 4807526976 , 7778742049 , ",
          "name": "stdout"
        }
      ]
    },
    {
      "metadata": {},
      "cell_type": "markdown",
      "source": "### Python program to find numbers which are divisible by 7 and multiple of 5 between a range 150 to 270"
    },
    {
      "metadata": {
        "trusted": true
      },
      "cell_type": "code",
      "source": "for number in range(150,270):\n    if number %7==0 and number %5==0 :\n        print(number)",
      "execution_count": 29,
      "outputs": [
        {
          "output_type": "stream",
          "text": "175\n210\n245\n",
          "name": "stdout"
        }
      ]
    },
    {
      "metadata": {},
      "cell_type": "markdown",
      "source": "### Python program to Sum all the items in a list"
    },
    {
      "metadata": {
        "trusted": true
      },
      "cell_type": "code",
      "source": "def sum_list(items):\n    sum_numbers = 0\n    for x in items:\n        sum_numbers += x\n    return sum_numbers\n\nprint(sum_list([20,12,20,22]))",
      "execution_count": 30,
      "outputs": [
        {
          "output_type": "stream",
          "text": "74\n",
          "name": "stdout"
        }
      ]
    },
    {
      "metadata": {},
      "cell_type": "markdown",
      "source": "### Python program to Remove duplicates from a list."
    },
    {
      "metadata": {
        "trusted": true
      },
      "cell_type": "code",
      "source": "a = [10,20,30,40,50,60,70,40,80,50,40]\n\ndup_items = set()\nuniq_items = []\nfor x in a:\n    if x not in dup_items:\n        uniq_items.append(x)\n        dup_items.add(x)\n\nprint(dup_items)",
      "execution_count": 31,
      "outputs": [
        {
          "output_type": "stream",
          "text": "{70, 40, 10, 80, 50, 20, 60, 30}\n",
          "name": "stdout"
        }
      ]
    },
    {
      "metadata": {},
      "cell_type": "markdown",
      "source": "### Python program to Get the largest number from a list."
    },
    {
      "metadata": {
        "trusted": true
      },
      "cell_type": "code",
      "source": "def max_num_in_list( list ):\n    max = list[ 0 ]\n    for a in list:\n        if a > max:\n            max = a\n    return max\nprint(max_num_in_list([1, 12, 28, 0]))",
      "execution_count": 32,
      "outputs": [
        {
          "output_type": "stream",
          "text": "28\n",
          "name": "stdout"
        }
      ]
    },
    {
      "metadata": {},
      "cell_type": "markdown",
      "source": "### Concatenation of Tuples."
    },
    {
      "metadata": {
        "trusted": true
      },
      "cell_type": "code",
      "source": "# Code for concatenating 2 tuples\n \ntuple1 = (0, 1, 2, 3)\ntuple2 = ('python', 'code')\n \n# Concatenating above two\nprint(tuple1 + tuple2)",
      "execution_count": 33,
      "outputs": [
        {
          "output_type": "stream",
          "text": "(0, 1, 2, 3, 'python', 'code')\n",
          "name": "stdout"
        }
      ]
    },
    {
      "metadata": {},
      "cell_type": "markdown",
      "source": "### Nesting of Tuples."
    },
    {
      "metadata": {
        "trusted": true
      },
      "cell_type": "code",
      "source": "# Code for creating nested tuples\n \ntuple1 = (0, 1, 2, 3)\ntuple2 = ('python', 'code')\ntuple3 = (tuple1, tuple2)\nprint(tuple3)\n",
      "execution_count": 34,
      "outputs": [
        {
          "output_type": "stream",
          "text": "((0, 1, 2, 3), ('python', 'code'))\n",
          "name": "stdout"
        }
      ]
    },
    {
      "metadata": {},
      "cell_type": "markdown",
      "source": "### Write a Python program to add an item in a tuple."
    },
    {
      "metadata": {
        "trusted": true
      },
      "cell_type": "code",
      "source": "#create a tuple\ntuplex = (4, 6, 2, 8, 3, 1) \nprint(tuplex)\n#tuples are immutable, so you can not add new elements\n#using merge of tuples with the + operator you can add an element and it will create a new tuple\n\n#adding items in a specific index\ntuplex = tuplex[:6] + (15, 20, 25)\nprint(tuplex)\n",
      "execution_count": 35,
      "outputs": [
        {
          "output_type": "stream",
          "text": "(4, 6, 2, 8, 3, 1)\n(4, 6, 2, 8, 3, 1, 15, 20, 25)\n",
          "name": "stdout"
        }
      ]
    },
    {
      "metadata": {},
      "cell_type": "markdown",
      "source": "### Write a Python program to remove an item from a tuple."
    },
    {
      "metadata": {
        "trusted": true
      },
      "cell_type": "code",
      "source": "#create a tuple\ntuplex = \"I\", \"D\", \"S\", \"P\", \"J\"\nlistx = list(tuplex) \n#use different ways to remove an item of the list\nlistx.remove(\"I\")\ntuplex = tuple(listx)\nprint(tuplex)",
      "execution_count": 36,
      "outputs": [
        {
          "output_type": "stream",
          "text": "('D', 'S', 'P', 'J')\n",
          "name": "stdout"
        }
      ]
    },
    {
      "metadata": {},
      "cell_type": "markdown",
      "source": "### Python Program to Check if a given key already exists in a dictionary."
    },
    {
      "metadata": {
        "trusted": true
      },
      "cell_type": "code",
      "source": "d = {1: 10, 2: 20, 3: 30, 4: 40, 5: 50, 6: 60}\ndef is_key_present(x):\n  if x in d:\n      print('Key is present in the dictionary')\n  else:\n      print('Key is not present in the dictionary')\nis_key_present(5)\nis_key_present(9)",
      "execution_count": 37,
      "outputs": [
        {
          "output_type": "stream",
          "text": "Key is present in the dictionary\nKey is not present in the dictionary\n",
          "name": "stdout"
        }
      ]
    },
    {
      "metadata": {},
      "cell_type": "markdown",
      "source": "### Write a Python script to merge two Python dictionaries."
    },
    {
      "metadata": {
        "trusted": true
      },
      "cell_type": "code",
      "source": "d1 = {'a': 100, 'b': 200}\nd2 = {'x': 300, 'y': 200}\nd = d1.copy()\nd.update(d2)\nprint(d)",
      "execution_count": 38,
      "outputs": [
        {
          "output_type": "stream",
          "text": "{'a': 100, 'b': 200, 'x': 300, 'y': 200}\n",
          "name": "stdout"
        }
      ]
    },
    {
      "metadata": {},
      "cell_type": "markdown",
      "source": "### Write a Python function to find the Max of three numbers."
    },
    {
      "metadata": {
        "trusted": true
      },
      "cell_type": "code",
      "source": "def max_of_two( x, y ):\n    if x > y:\n        return x\n    return y\ndef max_of_three( x, y, z ):\n    return max_of_two( x, max_of_two( y, z ) )\nprint(max_of_three(13, 26, -5))",
      "execution_count": 39,
      "outputs": [
        {
          "output_type": "stream",
          "text": "26\n",
          "name": "stdout"
        }
      ]
    },
    {
      "metadata": {
        "collapsed": true
      },
      "cell_type": "markdown",
      "source": "### Write a Python program to reverse a string."
    },
    {
      "metadata": {
        "trusted": true
      },
      "cell_type": "code",
      "source": "def string_reverse(str1):\n\n    rstr1 = ''\n    index = len(str1)\n    while index > 0:\n        rstr1 += str1[ index - 1 ]\n        index = index - 1\n    return rstr1\nprint(string_reverse('INSAID'))",
      "execution_count": 40,
      "outputs": [
        {
          "output_type": "stream",
          "text": "DIASNI\n",
          "name": "stdout"
        }
      ]
    },
    {
      "metadata": {
        "collapsed": true
      },
      "cell_type": "markdown",
      "source": "### Write a Python function to calculate the factorial of a number "
    },
    {
      "metadata": {
        "trusted": true
      },
      "cell_type": "code",
      "source": "def factorial(n):\n    if n == 0:\n        return 1\n    else:\n        return n * factorial(n-1)\nn=int(input(\"Input a number to compute the factiorial : \"))\nprint(factorial(n))",
      "execution_count": 41,
      "outputs": [
        {
          "output_type": "stream",
          "name": "stdout",
          "text": "Input a number to compute the factiorial : 2\n2\n"
        }
      ]
    },
    {
      "metadata": {},
      "cell_type": "markdown",
      "source": "### Write a Python function to sum all the numbers in a list."
    },
    {
      "metadata": {
        "trusted": true
      },
      "cell_type": "code",
      "source": "def sum(numbers):\n    total = 0\n    for x in numbers:\n        total += x\n    return total\nprint(sum((8, 2, 3, 0, 7)))",
      "execution_count": 42,
      "outputs": [
        {
          "output_type": "stream",
          "text": "20\n",
          "name": "stdout"
        }
      ]
    },
    {
      "metadata": {
        "collapsed": true
      },
      "cell_type": "markdown",
      "source": "### Write a Python function to check whether a number is in a given range."
    },
    {
      "metadata": {
        "trusted": true
      },
      "cell_type": "code",
      "source": "def test_range(n):\n    if n in range(3,9):        # 3<=5 and 9>=5\n        print( \" %s is in the range\" % n)\n    else :\n        print(\"The number is outside the given range.\")\ntest_range(5)",
      "execution_count": 43,
      "outputs": [
        {
          "output_type": "stream",
          "text": " 5 is in the range\n",
          "name": "stdout"
        }
      ]
    },
    {
      "metadata": {},
      "cell_type": "markdown",
      "source": "### Find the value of pi using math module."
    },
    {
      "metadata": {
        "trusted": true
      },
      "cell_type": "code",
      "source": "# import statement example\n# to import standard module math\n\nimport math\nprint(\"The value of pi is\", math.pi)",
      "execution_count": 44,
      "outputs": [
        {
          "output_type": "stream",
          "text": "The value of pi is 3.141592653589793\n",
          "name": "stdout"
        }
      ]
    },
    {
      "metadata": {},
      "cell_type": "markdown",
      "source": "### Write a Python program to read an entire text file.\n\n### Content of text.txt.\n\n### What is Python language?      \n\n#### Python is a widely used high-level, general-purpose, interpreted, dynamic programming language."
    },
    {
      "metadata": {
        "trusted": true
      },
      "cell_type": "code",
      "source": "def file_read(fname):\n        txt = open(fname)\n        print(txt.read())\n\nfile_read('test.txt')",
      "execution_count": 45,
      "outputs": [
        {
          "output_type": "error",
          "ename": "FileNotFoundError",
          "evalue": "[Errno 2] No such file or directory: 'test.txt'",
          "traceback": [
            "\u001b[0;31m---------------------------------------------------------------------------\u001b[0m",
            "\u001b[0;31mFileNotFoundError\u001b[0m                         Traceback (most recent call last)",
            "\u001b[0;32m<ipython-input-45-41082c251bb0>\u001b[0m in \u001b[0;36m<module>\u001b[0;34m()\u001b[0m\n\u001b[1;32m      3\u001b[0m         \u001b[0mprint\u001b[0m\u001b[0;34m(\u001b[0m\u001b[0mtxt\u001b[0m\u001b[0;34m.\u001b[0m\u001b[0mread\u001b[0m\u001b[0;34m(\u001b[0m\u001b[0;34m)\u001b[0m\u001b[0;34m)\u001b[0m\u001b[0;34m\u001b[0m\u001b[0m\n\u001b[1;32m      4\u001b[0m \u001b[0;34m\u001b[0m\u001b[0m\n\u001b[0;32m----> 5\u001b[0;31m \u001b[0mfile_read\u001b[0m\u001b[0;34m(\u001b[0m\u001b[0;34m'test.txt'\u001b[0m\u001b[0;34m)\u001b[0m\u001b[0;34m\u001b[0m\u001b[0m\n\u001b[0m",
            "\u001b[0;32m<ipython-input-45-41082c251bb0>\u001b[0m in \u001b[0;36mfile_read\u001b[0;34m(fname)\u001b[0m\n\u001b[1;32m      1\u001b[0m \u001b[0;32mdef\u001b[0m \u001b[0mfile_read\u001b[0m\u001b[0;34m(\u001b[0m\u001b[0mfname\u001b[0m\u001b[0;34m)\u001b[0m\u001b[0;34m:\u001b[0m\u001b[0;34m\u001b[0m\u001b[0m\n\u001b[0;32m----> 2\u001b[0;31m         \u001b[0mtxt\u001b[0m \u001b[0;34m=\u001b[0m \u001b[0mopen\u001b[0m\u001b[0;34m(\u001b[0m\u001b[0mfname\u001b[0m\u001b[0;34m)\u001b[0m\u001b[0;34m\u001b[0m\u001b[0m\n\u001b[0m\u001b[1;32m      3\u001b[0m         \u001b[0mprint\u001b[0m\u001b[0;34m(\u001b[0m\u001b[0mtxt\u001b[0m\u001b[0;34m.\u001b[0m\u001b[0mread\u001b[0m\u001b[0;34m(\u001b[0m\u001b[0;34m)\u001b[0m\u001b[0;34m)\u001b[0m\u001b[0;34m\u001b[0m\u001b[0m\n\u001b[1;32m      4\u001b[0m \u001b[0;34m\u001b[0m\u001b[0m\n\u001b[1;32m      5\u001b[0m \u001b[0mfile_read\u001b[0m\u001b[0;34m(\u001b[0m\u001b[0;34m'test.txt'\u001b[0m\u001b[0;34m)\u001b[0m\u001b[0;34m\u001b[0m\u001b[0m\n",
            "\u001b[0;31mFileNotFoundError\u001b[0m: [Errno 2] No such file or directory: 'test.txt'"
          ]
        }
      ]
    },
    {
      "metadata": {
        "collapsed": true
      },
      "cell_type": "markdown",
      "source": "### Write a Python program to read a file line by line and store it into a list."
    },
    {
      "metadata": {
        "trusted": true
      },
      "cell_type": "code",
      "source": "def file_read(fname):\n        with open(fname) as f:\n                #Content_list is the list that contains the read lines.     \n                content_list = f.readlines()\n                print(content_list)\n\nfile_read('test.txt')",
      "execution_count": 46,
      "outputs": [
        {
          "output_type": "error",
          "ename": "FileNotFoundError",
          "evalue": "[Errno 2] No such file or directory: 'test.txt'",
          "traceback": [
            "\u001b[0;31m---------------------------------------------------------------------------\u001b[0m",
            "\u001b[0;31mFileNotFoundError\u001b[0m                         Traceback (most recent call last)",
            "\u001b[0;32m<ipython-input-46-9898ee9848c7>\u001b[0m in \u001b[0;36m<module>\u001b[0;34m()\u001b[0m\n\u001b[1;32m      5\u001b[0m                 \u001b[0mprint\u001b[0m\u001b[0;34m(\u001b[0m\u001b[0mcontent_list\u001b[0m\u001b[0;34m)\u001b[0m\u001b[0;34m\u001b[0m\u001b[0m\n\u001b[1;32m      6\u001b[0m \u001b[0;34m\u001b[0m\u001b[0m\n\u001b[0;32m----> 7\u001b[0;31m \u001b[0mfile_read\u001b[0m\u001b[0;34m(\u001b[0m\u001b[0;34m'test.txt'\u001b[0m\u001b[0;34m)\u001b[0m\u001b[0;34m\u001b[0m\u001b[0m\n\u001b[0m",
            "\u001b[0;32m<ipython-input-46-9898ee9848c7>\u001b[0m in \u001b[0;36mfile_read\u001b[0;34m(fname)\u001b[0m\n\u001b[1;32m      1\u001b[0m \u001b[0;32mdef\u001b[0m \u001b[0mfile_read\u001b[0m\u001b[0;34m(\u001b[0m\u001b[0mfname\u001b[0m\u001b[0;34m)\u001b[0m\u001b[0;34m:\u001b[0m\u001b[0;34m\u001b[0m\u001b[0m\n\u001b[0;32m----> 2\u001b[0;31m         \u001b[0;32mwith\u001b[0m \u001b[0mopen\u001b[0m\u001b[0;34m(\u001b[0m\u001b[0mfname\u001b[0m\u001b[0;34m)\u001b[0m \u001b[0;32mas\u001b[0m \u001b[0mf\u001b[0m\u001b[0;34m:\u001b[0m\u001b[0;34m\u001b[0m\u001b[0m\n\u001b[0m\u001b[1;32m      3\u001b[0m                 \u001b[0;31m#Content_list is the list that contains the read lines.\u001b[0m\u001b[0;34m\u001b[0m\u001b[0;34m\u001b[0m\u001b[0m\n\u001b[1;32m      4\u001b[0m                 \u001b[0mcontent_list\u001b[0m \u001b[0;34m=\u001b[0m \u001b[0mf\u001b[0m\u001b[0;34m.\u001b[0m\u001b[0mreadlines\u001b[0m\u001b[0;34m(\u001b[0m\u001b[0;34m)\u001b[0m\u001b[0;34m\u001b[0m\u001b[0m\n\u001b[1;32m      5\u001b[0m                 \u001b[0mprint\u001b[0m\u001b[0;34m(\u001b[0m\u001b[0mcontent_list\u001b[0m\u001b[0;34m)\u001b[0m\u001b[0;34m\u001b[0m\u001b[0m\n",
            "\u001b[0;31mFileNotFoundError\u001b[0m: [Errno 2] No such file or directory: 'test.txt'"
          ]
        }
      ]
    },
    {
      "metadata": {},
      "cell_type": "markdown",
      "source": "### A python program to create user-defined exception."
    },
    {
      "metadata": {
        "trusted": true
      },
      "cell_type": "code",
      "source": "class MyError(Exception):\n \n    # Constructor or Initializer\n    def __init__(self, value):\n        self.value = value\n \n    # __str__ is to print() the value\n    def __str__(self):\n        return('Suchit says a New Exception occured:  '+repr(self.value))\n''' \n# try:\n#     raise(MyError(3/7))\n \n# except MyError as error:\n#     print(error)\n'''\nraise(MyError(3/7))",
      "execution_count": 47,
      "outputs": [
        {
          "output_type": "error",
          "ename": "MyError",
          "evalue": "Suchit says a New Exception occured:  0.42857142857142855",
          "traceback": [
            "\u001b[0;31m---------------------------------------------------------------------------\u001b[0m",
            "\u001b[0;31mMyError\u001b[0m                                   Traceback (most recent call last)",
            "\u001b[0;32m<ipython-input-47-591422216e79>\u001b[0m in \u001b[0;36m<module>\u001b[0;34m()\u001b[0m\n\u001b[1;32m     15\u001b[0m \u001b[0;31m#     print(error)\u001b[0m\u001b[0;34m\u001b[0m\u001b[0;34m\u001b[0m\u001b[0m\n\u001b[1;32m     16\u001b[0m '''\n\u001b[0;32m---> 17\u001b[0;31m \u001b[0;32mraise\u001b[0m\u001b[0;34m(\u001b[0m\u001b[0mMyError\u001b[0m\u001b[0;34m(\u001b[0m\u001b[0;36m3\u001b[0m\u001b[0;34m/\u001b[0m\u001b[0;36m7\u001b[0m\u001b[0;34m)\u001b[0m\u001b[0;34m)\u001b[0m\u001b[0;34m\u001b[0m\u001b[0m\n\u001b[0m",
            "\u001b[0;31mMyError\u001b[0m: Suchit says a New Exception occured:  0.42857142857142855"
          ]
        }
      ]
    },
    {
      "metadata": {},
      "cell_type": "markdown",
      "source": "### Write a Python program to calculate the discriminant value."
    },
    {
      "metadata": {
        "trusted": true
      },
      "cell_type": "code",
      "source": "def discriminant():\n    a_value = float(input('The a value: '))\n    b_value = float(input('The b value: '))\n    c_value = float(input('The c value: '))\n    discriminant = (b_value**2) - (4*a_value*c_value)\n    if discriminant > 0:\n        print('Two Solutions. Discriminant value is:', discriminant)\n    elif discriminant == 0:\n        print('One Solution. Discriminant value is:', discriminant)\n    elif discriminant < 0:\n        print('No Real Solutions. Discriminant value is:', discriminant)\n\n\ndiscriminant()\n",
      "execution_count": 48,
      "outputs": [
        {
          "output_type": "stream",
          "name": "stdout",
          "text": "The a value: 2\nThe b value: 2\nThe c value: 3\nNo Real Solutions. Discriminant value is: -20.0\n"
        }
      ]
    },
    {
      "metadata": {
        "trusted": true
      },
      "cell_type": "code",
      "source": "print('Hello World')",
      "execution_count": 49,
      "outputs": [
        {
          "output_type": "stream",
          "text": "Hello World\n",
          "name": "stdout"
        }
      ]
    },
    {
      "metadata": {
        "trusted": true
      },
      "cell_type": "code",
      "source": "print('What am I typing are you able to see?')",
      "execution_count": 50,
      "outputs": [
        {
          "output_type": "stream",
          "text": "What am I typing are you able to see?\n",
          "name": "stdout"
        }
      ]
    }
  ],
  "metadata": {
    "kernelspec": {
      "name": "python3",
      "display_name": "Python 3",
      "language": "python"
    },
    "language_info": {
      "mimetype": "text/x-python",
      "nbconvert_exporter": "python",
      "name": "python",
      "pygments_lexer": "ipython3",
      "version": "3.5.4",
      "file_extension": ".py",
      "codemirror_mode": {
        "version": 3,
        "name": "ipython"
      }
    }
  },
  "nbformat": 4,
  "nbformat_minor": 2
}