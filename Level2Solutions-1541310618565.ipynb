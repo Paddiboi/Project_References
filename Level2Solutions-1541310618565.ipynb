{
  "cells": [
    {
      "metadata": {},
      "cell_type": "markdown",
      "source": "<img src = 'https://github.com/insaid2018/Term-1/blob/master/Images/INSAID_Full%20Logo.png?raw=true' width=\"240\" height=\"360\">\n# __Assignment: Numpy and Pandas__\n### Level: 2"
    },
    {
      "metadata": {},
      "cell_type": "markdown",
      "source": "### 1. Form a 1D array containing elements from -2(including) to 10(excluding) in arithmetic progression with common difference 1.5 , negate all elements which are between 2 and 7, in place. Print out this new array."
    },
    {
      "metadata": {
        "trusted": false
      },
      "cell_type": "code",
      "source": "import numpy as np\ndef generate():\n    arr = np.arange(-2, 10, 1.5)\n    arr[(arr> 2) & (arr < 7)] *= -1\n    return arr\ngenerate()",
      "execution_count": 42,
      "outputs": [
        {
          "data": {
            "text/plain": "array([-2. , -0.5,  1. , -2.5, -4. , -5.5,  7. ,  8.5])"
          },
          "execution_count": 42,
          "metadata": {},
          "output_type": "execute_result"
        }
      ]
    },
    {
      "metadata": {},
      "cell_type": "markdown",
      "source": "### 2. Create random vector of size 7 and replace the maximum value by 2 and minimum by 7. Sort this array in reverse order. Return the modified vector."
    },
    {
      "metadata": {
        "trusted": false
      },
      "cell_type": "code",
      "source": "import numpy as np\ndef generate():\n    random_vector = np.random.random(7)\n    random_vector[random_vector.argmax()] = 2\n    random_vector[random_vector.argmin()] = 7\n    modified_vector = np.array(sorted(random_vector,reverse = True))\n    return modified_vector\ngenerate()",
      "execution_count": 4,
      "outputs": [
        {
          "data": {
            "text/plain": "array([7.        , 2.        , 0.62828751, 0.61034861, 0.61032376,\n       0.53598851, 0.43433041])"
          },
          "execution_count": 4,
          "metadata": {},
          "output_type": "execute_result"
        }
      ]
    },
    {
      "metadata": {},
      "cell_type": "markdown",
      "source": "### 3. Convert a random 7x2 matrix representing cartesian coordinates to polar coordinates. Print out both.\nHint: use arctan2(). To know more about polar and cartesian coordinates, here's one link:  [polar and cartesian](https://www.mathsisfun.com/polar-cartesian-coordinates.html)."
    },
    {
      "metadata": {
        "trusted": false
      },
      "cell_type": "code",
      "source": "import numpy as np\ndef generate():\n    matrix = np.random.random((7,2))\n    row,column = matrix[:,0], matrix[:,1]\n    radial_coordinate = np.sqrt(row**2 + column**2)\n    angular_coordinate = np.arctan2(column, row)\n    print(radial_coordinate)\n    print(angular_coordinate) \n    return None\ngenerate()",
      "execution_count": 44,
      "outputs": [
        {
          "name": "stdout",
          "output_type": "stream",
          "text": "[1.0458437  0.6601525  0.8194799  0.89887041 1.10774291 0.6894949\n 0.81906525]\n[0.89482235 0.44984808 0.59231601 0.35188332 1.02584175 0.4078043\n 1.52423917]\n"
        }
      ]
    },
    {
      "metadata": {},
      "cell_type": "markdown",
      "source": "### 4. Create an numpy array sequence named num_seq when only the starting point, step size and length of sequence is given."
    },
    {
      "metadata": {
        "trusted": false
      },
      "cell_type": "code",
      "source": "import numpy as np\n\nlength = 15\nstart = 5\nstep = 2\n\ndef generate(start, length, step):\n    end = start + (step*length)\n    num_seq = np.arange(start, end, step)\n    return num_seq\n\ngenerate(start, length, step)",
      "execution_count": 5,
      "outputs": [
        {
          "data": {
            "text/plain": "array([ 5,  7,  9, 11, 13, 15, 17, 19, 21, 23, 25, 27, 29, 31, 33])"
          },
          "execution_count": 5,
          "metadata": {},
          "output_type": "execute_result"
        }
      ]
    },
    {
      "metadata": {},
      "cell_type": "markdown",
      "source": "### 5. Make a 3*3 array using a 1d array of evenly spaced numbers ranging from 0 to 9, name it arr1.<br/> \n### Then transpose it to obtain arr2.  From arr2 subtract a 1*3 array with all elements 1 to get arr4. Return arr4.\nHINT: Use reshape and transpose function."
    },
    {
      "metadata": {
        "trusted": false
      },
      "cell_type": "code",
      "source": "import numpy as np\ndef generate():\n    arr = np.arange(0,9)                                \n    arr1 = arr.reshape(3,3) \n    arr2=arr1.transpose()\n    arr3=np.ones(3,dtype=int)\n    arr4=arr2-arr3\n    return arr4\ngenerate()",
      "execution_count": 6,
      "outputs": [
        {
          "data": {
            "text/plain": "array([[-1,  2,  5],\n       [ 0,  3,  6],\n       [ 1,  4,  7]])"
          },
          "execution_count": 6,
          "metadata": {},
          "output_type": "execute_result"
        }
      ]
    },
    {
      "metadata": {},
      "cell_type": "markdown",
      "source": "### 6. Create a DatetimeIndex that contains each business day of 2016 and use it to index a Series of random numbers. Let's call this Series bus_2k16. Hint: use pd.date_range."
    },
    {
      "metadata": {
        "trusted": true
      },
      "cell_type": "code",
      "source": "import pandas as pd\nimport numpy as np\ndef generate():\n    dti = pd.date_range(start='2016-01-01', end='2016-12-31', freq='B') \n    bus_2k16 = pd.Series(np.random.rand(len(dti)), index=dti)\n    print(bus_2k16)\ngenerate()",
      "execution_count": 2,
      "outputs": [
        {
          "output_type": "stream",
          "text": "2016-01-01    0.197396\n2016-01-04    0.882713\n2016-01-05    0.936723\n2016-01-06    0.099042\n2016-01-07    0.222626\n2016-01-08    0.852258\n2016-01-11    0.816943\n2016-01-12    0.914218\n2016-01-13    0.434846\n2016-01-14    0.029262\n2016-01-15    0.603027\n2016-01-18    0.770215\n2016-01-19    0.252731\n2016-01-20    0.996966\n2016-01-21    0.589482\n2016-01-22    0.079442\n2016-01-25    0.696698\n2016-01-26    0.253586\n2016-01-27    0.498949\n2016-01-28    0.723041\n2016-01-29    0.024924\n2016-02-01    0.841638\n2016-02-02    0.594337\n2016-02-03    0.640402\n2016-02-04    0.016608\n2016-02-05    0.693539\n2016-02-08    0.882241\n2016-02-09    0.194776\n2016-02-10    0.978465\n2016-02-11    0.373243\n                ...   \n2016-11-21    0.219033\n2016-11-22    0.628318\n2016-11-23    0.439148\n2016-11-24    0.855828\n2016-11-25    0.837008\n2016-11-28    0.755991\n2016-11-29    0.564163\n2016-11-30    0.595066\n2016-12-01    0.342463\n2016-12-02    0.758309\n2016-12-05    0.477312\n2016-12-06    0.182739\n2016-12-07    0.910144\n2016-12-08    0.687551\n2016-12-09    0.002512\n2016-12-12    0.617463\n2016-12-13    0.627970\n2016-12-14    0.540670\n2016-12-15    0.543433\n2016-12-16    0.117390\n2016-12-19    0.204691\n2016-12-20    0.200155\n2016-12-21    0.813100\n2016-12-22    0.208096\n2016-12-23    0.651184\n2016-12-26    0.076700\n2016-12-27    0.859468\n2016-12-28    0.761037\n2016-12-29    0.577528\n2016-12-30    0.499890\nFreq: B, dtype: float64\n",
          "name": "stdout"
        }
      ]
    },
    {
      "metadata": {},
      "cell_type": "markdown",
      "source": "###  7. For each calendar month in dataframe bus_2k16, from previous problem. Print out the mean of values also find the sum of the values in bus_2k16 for every Monday."
    },
    {
      "metadata": {
        "trusted": false
      },
      "cell_type": "code",
      "source": "import pandas as pd\nimport numpy as np\ndef generate():\n    dti = pd.date_range(start='2016-01-01', end='2016-12-31', freq='B') \n    bus_2k16 = pd.Series(np.random.rand(len(dti)), index=dti)\n    print(bus_2k16)\n    print(bus_2k16.resample('M').mean())\n    print(bus_2k16[bus_2k16.index.weekday == 0].sum())\n    return None\ngenerate()",
      "execution_count": 10,
      "outputs": [
        {
          "name": "stdout",
          "output_type": "stream",
          "text": "2016-01-01    0.090988\n2016-01-04    0.923917\n2016-01-05    0.427611\n2016-01-06    0.446336\n2016-01-07    0.998900\n2016-01-08    0.602796\n2016-01-11    0.389314\n2016-01-12    0.360058\n2016-01-13    0.599986\n2016-01-14    0.330717\n2016-01-15    0.268258\n2016-01-18    0.965553\n2016-01-19    0.227668\n2016-01-20    0.023907\n2016-01-21    0.387630\n2016-01-22    0.862868\n2016-01-25    0.316829\n2016-01-26    0.541085\n2016-01-27    0.182479\n2016-01-28    0.595381\n2016-01-29    0.186226\n2016-02-01    0.019203\n2016-02-02    0.674416\n2016-02-03    0.286253\n2016-02-04    0.744905\n2016-02-05    0.869371\n2016-02-08    0.924223\n2016-02-09    0.684710\n2016-02-10    0.869907\n2016-02-11    0.035936\n                ...   \n2016-11-21    0.023464\n2016-11-22    0.673554\n2016-11-23    0.211655\n2016-11-24    0.340862\n2016-11-25    0.162169\n2016-11-28    0.032198\n2016-11-29    0.474480\n2016-11-30    0.648598\n2016-12-01    0.921493\n2016-12-02    0.771196\n2016-12-05    0.226596\n2016-12-06    0.660501\n2016-12-07    0.030611\n2016-12-08    0.077918\n2016-12-09    0.674201\n2016-12-12    0.655413\n2016-12-13    0.178616\n2016-12-14    0.781787\n2016-12-15    0.805365\n2016-12-16    0.260691\n2016-12-19    0.364642\n2016-12-20    0.712301\n2016-12-21    0.062823\n2016-12-22    0.925944\n2016-12-23    0.657945\n2016-12-26    0.062054\n2016-12-27    0.574612\n2016-12-28    0.482785\n2016-12-29    0.083547\n2016-12-30    0.157605\nFreq: B, Length: 261, dtype: float64\n2016-01-31    0.463262\n2016-02-29    0.518415\n2016-03-31    0.508402\n2016-04-30    0.443456\n2016-05-31    0.551428\n2016-06-30    0.621532\n2016-07-31    0.511271\n2016-08-31    0.387700\n2016-09-30    0.466508\n2016-10-31    0.478423\n2016-11-30    0.416816\n2016-12-31    0.460393\nFreq: M, dtype: float64\n24.32864881598529\n"
        }
      ]
    },
    {
      "metadata": {},
      "cell_type": "markdown",
      "source": "### 8.Given the dataframe df, In the From_To column split each string on the underscore delimiter _ to give a new temporary DataFrame with the correct values. Also standardise the strings so that only the first letter is uppercase (e.g. \"londON\" should become \"London\".) Assign the correct column names to this temporary DataFrame named as temp. Return temp."
    },
    {
      "metadata": {
        "trusted": false
      },
      "cell_type": "code",
      "source": "import numpy as np\ndf = pd.DataFrame({'From_To': ['LoNDon_paris', 'MAdrid_miLAN', 'londON_StockhOlm', \n                               'Budapest_PaRis', 'Brussels_londOn'],\n              'FlightNumber': [10045, np.nan, 10065, np.nan, 10085],\n              'RecentDelays': [[23, 47], [], [24, 43, 87], [13], [67, 32]],\n                   'Airline': ['KLM(!)', '<Air France> (12)', '(British Airways. )', \n                               '12. Air France', '\"Swiss Air\"']})\nimport pandas as pd\ndef generate():\n    temp = df.From_To.str.split('_', expand=True)\n    temp.columns = ['From', 'To']\n    temp['From'] = temp['From'].str.capitalize()\n    temp['To'] = temp['To'].str.capitalize()\n    return temp\ngenerate()",
      "execution_count": 17,
      "outputs": [
        {
          "data": {
            "text/html": "<div>\n<style scoped>\n    .dataframe tbody tr th:only-of-type {\n        vertical-align: middle;\n    }\n\n    .dataframe tbody tr th {\n        vertical-align: top;\n    }\n\n    .dataframe thead th {\n        text-align: right;\n    }\n</style>\n<table border=\"1\" class=\"dataframe\">\n  <thead>\n    <tr style=\"text-align: right;\">\n      <th></th>\n      <th>From</th>\n      <th>To</th>\n    </tr>\n  </thead>\n  <tbody>\n    <tr>\n      <th>0</th>\n      <td>London</td>\n      <td>Paris</td>\n    </tr>\n    <tr>\n      <th>1</th>\n      <td>Madrid</td>\n      <td>Milan</td>\n    </tr>\n    <tr>\n      <th>2</th>\n      <td>London</td>\n      <td>Stockholm</td>\n    </tr>\n    <tr>\n      <th>3</th>\n      <td>Budapest</td>\n      <td>Paris</td>\n    </tr>\n    <tr>\n      <th>4</th>\n      <td>Brussels</td>\n      <td>London</td>\n    </tr>\n  </tbody>\n</table>\n</div>",
            "text/plain": "       From         To\n0    London      Paris\n1    Madrid      Milan\n2    London  Stockholm\n3  Budapest      Paris\n4  Brussels     London"
          },
          "execution_count": 17,
          "metadata": {},
          "output_type": "execute_result"
        }
      ]
    },
    {
      "metadata": {},
      "cell_type": "markdown",
      "source": "### 9. Given a dataFrame with 10 columns of real numbers. Find that column's label which has the smallest sum? Also count the number of unique rows the dataframe has.\nHint: use idxmin method."
    },
    {
      "metadata": {
        "trusted": false
      },
      "cell_type": "code",
      "source": "import pandas as pd\nimport numpy as np\ndf = pd.DataFrame(np.random.random(size=(4, 10)), columns=list('qrstuvwxyz'))\ndef generate():\n    print(df.sum().idxmin())\n    print(len(df) - df.duplicated(keep=False).sum())\n    return None\ngenerate()",
      "execution_count": 18,
      "outputs": [
        {
          "name": "stdout",
          "output_type": "stream",
          "text": "t\n4\n"
        }
      ]
    },
    {
      "metadata": {},
      "cell_type": "markdown",
      "source": "### 10. Given a dataFrame df with a column 'int' of integers. Print out the dataframe with filtered out rows which contain the same integer as the row immediately above. Also print out the dataframe after subtracting the mean of all integers from each element.\nHint: use drop_duplicates and sub methods"
    },
    {
      "metadata": {
        "trusted": false
      },
      "cell_type": "code",
      "source": "import pandas as pd\ndf = pd.DataFrame({'int': [1, 2, 2, 3, 4, 5, 5, 5, 6, 7, 7]})\ndef generate():\n    print(df.drop_duplicates(subset='int'))\n    print(df.sub(df.mean(axis=0), axis=1))\n    return None\ngenerate()",
      "execution_count": 15,
      "outputs": [
        {
          "name": "stdout",
          "output_type": "stream",
          "text": "   int\n0    1\n1    2\n3    3\n4    4\n5    5\n8    6\n9    7\n         int\n0  -3.272727\n1  -2.272727\n2  -2.272727\n3  -1.272727\n4  -0.272727\n5   0.727273\n6   0.727273\n7   0.727273\n8   1.727273\n9   2.727273\n10  2.727273\n"
        }
      ]
    }
  ],
  "metadata": {
    "kernelspec": {
      "name": "python3",
      "display_name": "Python 3",
      "language": "python"
    },
    "language_info": {
      "mimetype": "text/x-python",
      "nbconvert_exporter": "python",
      "name": "python",
      "pygments_lexer": "ipython3",
      "version": "3.5.4",
      "file_extension": ".py",
      "codemirror_mode": {
        "version": 3,
        "name": "ipython"
      }
    }
  },
  "nbformat": 4,
  "nbformat_minor": 2
}