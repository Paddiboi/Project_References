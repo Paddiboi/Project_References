{
  "cells": [
    {
      "metadata": {},
      "cell_type": "markdown",
      "source": "<img src=\"https://github.com/insaid2018/Term-1/blob/master/Images/INSAID_Full%20Logo.png?raw=true\" width=\"240\" height=\"360\" />\n\n# Model evaluation - Recall Case"
    },
    {
      "metadata": {},
      "cell_type": "markdown",
      "source": "## Table of Content\n\n1. [Problem Statement](#section1)<br>\n2. [Data Loading and Description](#section2)<br>\n3. [Exploratory Data Analysis](#section3)<br>\n4. [Random Forest Classifier](#section4)<br>\n5. [Model evaluation](#section5)<br>\n    - 5.1 [Model evaluation using accuracy score](#section501)<br>\n    - 5.2 [Model Evaluation using confusion matrix](#section502)<br>\n    - 5.3 [Model evaluation using precision score](#section503)<br>\n    - 5.4 [Model evaluation using recall score](#section504)<br>\n    - 5.5 [Model evaluation using f1_score](#section505)<br>\n    - 5.6 [Model evaluation using ROC_AUC curve](#section506)<br>\n    - 5.7 [Choosing better model using recall score](#section507)<br>"
    },
    {
      "metadata": {},
      "cell_type": "markdown",
      "source": "<a id = section1></a>"
    },
    {
      "metadata": {},
      "cell_type": "markdown",
      "source": "## 1. Problem Statement\n\nGiven the __credit card transaction__ dataset, make a model to predict transactions are fradulent or not using random forest algorithm. Evaluate the model using possible __model evaluation techniques__. "
    },
    {
      "metadata": {},
      "cell_type": "markdown",
      "source": "<a id = section2></a>"
    },
    {
      "metadata": {},
      "cell_type": "markdown",
      "source": "## 2. Data Loading and Description"
    },
    {
      "metadata": {},
      "cell_type": "markdown",
      "source": "The datasets contains _transactions made by credit cards in September 2013 by european cardholders_. This dataset presents transactions that occurred in two days, where we have __38 frauds__ out of __10000 transactions__. The dataset is _highly unbalanced_, the positive class (frauds) account for __0.0038%__ of all transactions.\n\nIt contains only __numerical input variables__ which are the result of a PCA transformation. Unfortunately, due to confidentiality issues, we cannot provide the original features and more background information about the data. Features V1, V2, ... V28 are the principal components obtained with PCA, the only features which have not been transformed with PCA are '__Time__' and '__Amount__'. Feature 'Time' contains the seconds elapsed between each transaction and the first transaction in the dataset. The feature 'Amount' is the transaction Amount, this feature can be used for example-dependant cost-senstive learning. Feature '__Class__' is the response variable and it takes value __1__ in case of __fraud__ and __0 otherwise__. \n\n- __False Positive__ are the cases where the we would predict that the transaction would be fraudulent whereas actually it wont be.\n- __False Negative__ would be the case when we would predict that transaction is not fradulent but actually it would be fraudulent.\n\nNow, there's a need to reduce both false positive and false negative, but simultaneous reduction of these two is not possible. So, we need to trade off one of them. Thinking from the perspective of the company, __minimising False negative__ cases is of prime concern as _letting go fradulent transaction would lead to monetary loss and customer dissatisfaction_ whereas classifying non-fradulent transactions as fraud would just involve transaction validation by contacting the customer via call or email, and it wouldnt cost much to the company as compared to the case where there can be huge monetary loss due to fraudulent transaction.  "
    },
    {
      "metadata": {},
      "cell_type": "markdown",
      "source": "__Importing Packages__"
    },
    {
      "metadata": {
        "trusted": true
      },
      "cell_type": "code",
      "source": "import pandas as pd\nimport numpy as np\nfrom sklearn import metrics\nimport matplotlib.pyplot as plt \nplt.rc(\"font\", size=14)\nimport seaborn as sns\nsns.set(style=\"white\")\nsns.set(style=\"whitegrid\", color_codes=True)",
      "execution_count": 1,
      "outputs": []
    },
    {
      "metadata": {},
      "cell_type": "markdown",
      "source": "#### Importing the Dataset"
    },
    {
      "metadata": {
        "colab": {
          "base_uri": "https://localhost:8080/",
          "height": 256
        },
        "colab_type": "code",
        "id": "hj8UmUJeU8tO",
        "outputId": "f18d948e-e1f4-4f7f-c39d-7fe2b00669ba",
        "trusted": true
      },
      "cell_type": "code",
      "source": "fraud = pd.read_csv('https://raw.githubusercontent.com/insaid2018/Term-2/master/CaseStudy/credit_fraud.csv')\nfraud.head()",
      "execution_count": 2,
      "outputs": [
        {
          "output_type": "execute_result",
          "execution_count": 2,
          "data": {
            "text/plain": "   Time        V1        V2        V3        V4        V5        V6        V7  \\\n0     0 -1.359807 -0.072781  2.536347  1.378155 -0.338321  0.462388  0.239599   \n1     0  1.191857  0.266151  0.166480  0.448154  0.060018 -0.082361 -0.078803   \n2     1 -1.358354 -1.340163  1.773209  0.379780 -0.503198  1.800499  0.791461   \n3     1 -0.966272 -0.185226  1.792993 -0.863291 -0.010309  1.247203  0.237609   \n4     2 -1.158233  0.877737  1.548718  0.403034 -0.407193  0.095921  0.592941   \n\n         V8        V9  ...         V21       V22       V23       V24  \\\n0  0.098698  0.363787  ...   -0.018307  0.277838 -0.110474  0.066928   \n1  0.085102 -0.255425  ...   -0.225775 -0.638672  0.101288 -0.339846   \n2  0.247676 -1.514654  ...    0.247998  0.771679  0.909412 -0.689281   \n3  0.377436 -1.387024  ...   -0.108300  0.005274 -0.190321 -1.175575   \n4 -0.270533  0.817739  ...   -0.009431  0.798278 -0.137458  0.141267   \n\n        V25       V26       V27       V28  Amount  Class  \n0  0.128539 -0.189115  0.133558 -0.021053  149.62      0  \n1  0.167170  0.125895 -0.008983  0.014724    2.69      0  \n2 -0.327642 -0.139097 -0.055353 -0.059752  378.66      0  \n3  0.647376 -0.221929  0.062723  0.061458  123.50      0  \n4 -0.206010  0.502292  0.219422  0.215153   69.99      0  \n\n[5 rows x 31 columns]",
            "text/html": "<div>\n<table border=\"1\" class=\"dataframe\">\n  <thead>\n    <tr style=\"text-align: right;\">\n      <th></th>\n      <th>Time</th>\n      <th>V1</th>\n      <th>V2</th>\n      <th>V3</th>\n      <th>V4</th>\n      <th>V5</th>\n      <th>V6</th>\n      <th>V7</th>\n      <th>V8</th>\n      <th>V9</th>\n      <th>...</th>\n      <th>V21</th>\n      <th>V22</th>\n      <th>V23</th>\n      <th>V24</th>\n      <th>V25</th>\n      <th>V26</th>\n      <th>V27</th>\n      <th>V28</th>\n      <th>Amount</th>\n      <th>Class</th>\n    </tr>\n  </thead>\n  <tbody>\n    <tr>\n      <th>0</th>\n      <td>0</td>\n      <td>-1.359807</td>\n      <td>-0.072781</td>\n      <td>2.536347</td>\n      <td>1.378155</td>\n      <td>-0.338321</td>\n      <td>0.462388</td>\n      <td>0.239599</td>\n      <td>0.098698</td>\n      <td>0.363787</td>\n      <td>...</td>\n      <td>-0.018307</td>\n      <td>0.277838</td>\n      <td>-0.110474</td>\n      <td>0.066928</td>\n      <td>0.128539</td>\n      <td>-0.189115</td>\n      <td>0.133558</td>\n      <td>-0.021053</td>\n      <td>149.62</td>\n      <td>0</td>\n    </tr>\n    <tr>\n      <th>1</th>\n      <td>0</td>\n      <td>1.191857</td>\n      <td>0.266151</td>\n      <td>0.166480</td>\n      <td>0.448154</td>\n      <td>0.060018</td>\n      <td>-0.082361</td>\n      <td>-0.078803</td>\n      <td>0.085102</td>\n      <td>-0.255425</td>\n      <td>...</td>\n      <td>-0.225775</td>\n      <td>-0.638672</td>\n      <td>0.101288</td>\n      <td>-0.339846</td>\n      <td>0.167170</td>\n      <td>0.125895</td>\n      <td>-0.008983</td>\n      <td>0.014724</td>\n      <td>2.69</td>\n      <td>0</td>\n    </tr>\n    <tr>\n      <th>2</th>\n      <td>1</td>\n      <td>-1.358354</td>\n      <td>-1.340163</td>\n      <td>1.773209</td>\n      <td>0.379780</td>\n      <td>-0.503198</td>\n      <td>1.800499</td>\n      <td>0.791461</td>\n      <td>0.247676</td>\n      <td>-1.514654</td>\n      <td>...</td>\n      <td>0.247998</td>\n      <td>0.771679</td>\n      <td>0.909412</td>\n      <td>-0.689281</td>\n      <td>-0.327642</td>\n      <td>-0.139097</td>\n      <td>-0.055353</td>\n      <td>-0.059752</td>\n      <td>378.66</td>\n      <td>0</td>\n    </tr>\n    <tr>\n      <th>3</th>\n      <td>1</td>\n      <td>-0.966272</td>\n      <td>-0.185226</td>\n      <td>1.792993</td>\n      <td>-0.863291</td>\n      <td>-0.010309</td>\n      <td>1.247203</td>\n      <td>0.237609</td>\n      <td>0.377436</td>\n      <td>-1.387024</td>\n      <td>...</td>\n      <td>-0.108300</td>\n      <td>0.005274</td>\n      <td>-0.190321</td>\n      <td>-1.175575</td>\n      <td>0.647376</td>\n      <td>-0.221929</td>\n      <td>0.062723</td>\n      <td>0.061458</td>\n      <td>123.50</td>\n      <td>0</td>\n    </tr>\n    <tr>\n      <th>4</th>\n      <td>2</td>\n      <td>-1.158233</td>\n      <td>0.877737</td>\n      <td>1.548718</td>\n      <td>0.403034</td>\n      <td>-0.407193</td>\n      <td>0.095921</td>\n      <td>0.592941</td>\n      <td>-0.270533</td>\n      <td>0.817739</td>\n      <td>...</td>\n      <td>-0.009431</td>\n      <td>0.798278</td>\n      <td>-0.137458</td>\n      <td>0.141267</td>\n      <td>-0.206010</td>\n      <td>0.502292</td>\n      <td>0.219422</td>\n      <td>0.215153</td>\n      <td>69.99</td>\n      <td>0</td>\n    </tr>\n  </tbody>\n</table>\n<p>5 rows × 31 columns</p>\n</div>"
          },
          "metadata": {}
        }
      ]
    },
    {
      "metadata": {},
      "cell_type": "markdown",
      "source": "<a id = section3></a>"
    },
    {
      "metadata": {},
      "cell_type": "markdown",
      "source": "## 3. Exploratory Data Analysis"
    },
    {
      "metadata": {},
      "cell_type": "markdown",
      "source": "#### Check the shape of the dataset"
    },
    {
      "metadata": {
        "colab": {
          "base_uri": "https://localhost:8080/",
          "height": 35
        },
        "colab_type": "code",
        "id": "r-NdDTW3ylAu",
        "outputId": "10d13550-82db-406c-f6bb-ad0dc2474be1",
        "trusted": true
      },
      "cell_type": "code",
      "source": "fraud.shape",
      "execution_count": 3,
      "outputs": [
        {
          "output_type": "execute_result",
          "execution_count": 3,
          "data": {
            "text/plain": "(10000, 31)"
          },
          "metadata": {}
        }
      ]
    },
    {
      "metadata": {},
      "cell_type": "markdown",
      "source": "#### Check the columns present in the dataset"
    },
    {
      "metadata": {
        "colab": {},
        "colab_type": "code",
        "id": "fzrXmgB6yrnK",
        "trusted": true
      },
      "cell_type": "code",
      "source": "fraud.columns",
      "execution_count": 4,
      "outputs": [
        {
          "output_type": "execute_result",
          "execution_count": 4,
          "data": {
            "text/plain": "Index(['Time', 'V1', 'V2', 'V3', 'V4', 'V5', 'V6', 'V7', 'V8', 'V9', 'V10',\n       'V11', 'V12', 'V13', 'V14', 'V15', 'V16', 'V17', 'V18', 'V19', 'V20',\n       'V21', 'V22', 'V23', 'V24', 'V25', 'V26', 'V27', 'V28', 'Amount',\n       'Class'],\n      dtype='object')"
          },
          "metadata": {}
        }
      ]
    },
    {
      "metadata": {
        "trusted": true
      },
      "cell_type": "code",
      "source": "fraud.Class.value_counts()",
      "execution_count": 5,
      "outputs": [
        {
          "output_type": "execute_result",
          "execution_count": 5,
          "data": {
            "text/plain": "0    9962\n1      38\nName: Class, dtype: int64"
          },
          "metadata": {}
        }
      ]
    },
    {
      "metadata": {},
      "cell_type": "markdown",
      "source": "#### Check the descriptive statistics of the dataset"
    },
    {
      "metadata": {
        "trusted": true
      },
      "cell_type": "code",
      "source": "fraud.describe()",
      "execution_count": 6,
      "outputs": [
        {
          "output_type": "execute_result",
          "execution_count": 6,
          "data": {
            "text/plain": "               Time            V1            V2            V3            V4  \\\ncount  10000.000000  10000.000000  10000.000000  10000.000000  10000.000000   \nmean    5966.033400     -0.241862      0.281949      0.906270      0.264148   \nstd     4473.403739      1.521679      1.308139      1.159154      1.441235   \nmin        0.000000    -27.670569    -34.607649    -15.496222     -4.657545   \n25%     2072.750000     -1.013283     -0.208342      0.412799     -0.614424   \n50%     4563.500000     -0.372799      0.288524      0.944361      0.219861   \n75%    10233.250000      1.150864      0.901879      1.602903      1.125666   \nmax    15012.000000      1.960497      8.636214      4.101716     10.463020   \n\n                 V5            V6            V7            V8            V9  \\\ncount  10000.000000  10000.000000  10000.000000  10000.000000  10000.000000   \nmean      -0.046398      0.133108     -0.071689     -0.064778      0.802224   \nstd        1.182935      1.307311      1.077430      1.259064      1.155198   \nmin      -32.092129    -23.496714    -26.548144    -23.632502     -6.329801   \n25%       -0.643390     -0.629934     -0.542336     -0.190747      0.070868   \n50%       -0.152769     -0.152566     -0.055585      0.012865      0.805275   \n75%        0.371081      0.505357      0.476280      0.274533      1.506299   \nmax       34.099309     21.393069     34.303177      5.060381     10.392889   \n\n          ...                V21           V22           V23           V24  \\\ncount     ...       10000.000000  10000.000000  10000.000000  10000.000000   \nmean      ...          -0.051990     -0.152671     -0.033268      0.021335   \nstd       ...           0.913811      0.631083      0.487814      0.594430   \nmin       ...         -11.468435     -8.527145    -15.144340     -2.512377   \n25%       ...          -0.268120     -0.549638     -0.174120     -0.327817   \n50%       ...          -0.123273     -0.136746     -0.045794      0.079976   \n75%       ...           0.032707      0.247490      0.081665      0.410877   \nmax       ...          22.588989      4.534454     13.876221      3.200201   \n\n                V25           V26           V27           V28        Amount  \\\ncount  10000.000000  10000.000000  10000.000000  10000.000000  10000.000000   \nmean       0.087146      0.108140      0.005518      0.002915     63.030188   \nstd        0.428171      0.562793      0.410868      0.266247    184.486158   \nmin       -2.577363     -1.338556     -7.976100     -3.509250      0.000000   \n25%       -0.158137     -0.327974     -0.084489     -0.015753      5.000000   \n50%        0.121001      0.042865     -0.004568      0.015897     15.950000   \n75%        0.359058      0.476394      0.120811      0.077182     50.960000   \nmax        5.525093      3.517346      8.254376      4.860769   7712.430000   \n\n             Class  \ncount  10000.00000  \nmean       0.00380  \nstd        0.06153  \nmin        0.00000  \n25%        0.00000  \n50%        0.00000  \n75%        0.00000  \nmax        1.00000  \n\n[8 rows x 31 columns]",
            "text/html": "<div>\n<table border=\"1\" class=\"dataframe\">\n  <thead>\n    <tr style=\"text-align: right;\">\n      <th></th>\n      <th>Time</th>\n      <th>V1</th>\n      <th>V2</th>\n      <th>V3</th>\n      <th>V4</th>\n      <th>V5</th>\n      <th>V6</th>\n      <th>V7</th>\n      <th>V8</th>\n      <th>V9</th>\n      <th>...</th>\n      <th>V21</th>\n      <th>V22</th>\n      <th>V23</th>\n      <th>V24</th>\n      <th>V25</th>\n      <th>V26</th>\n      <th>V27</th>\n      <th>V28</th>\n      <th>Amount</th>\n      <th>Class</th>\n    </tr>\n  </thead>\n  <tbody>\n    <tr>\n      <th>count</th>\n      <td>10000.000000</td>\n      <td>10000.000000</td>\n      <td>10000.000000</td>\n      <td>10000.000000</td>\n      <td>10000.000000</td>\n      <td>10000.000000</td>\n      <td>10000.000000</td>\n      <td>10000.000000</td>\n      <td>10000.000000</td>\n      <td>10000.000000</td>\n      <td>...</td>\n      <td>10000.000000</td>\n      <td>10000.000000</td>\n      <td>10000.000000</td>\n      <td>10000.000000</td>\n      <td>10000.000000</td>\n      <td>10000.000000</td>\n      <td>10000.000000</td>\n      <td>10000.000000</td>\n      <td>10000.000000</td>\n      <td>10000.00000</td>\n    </tr>\n    <tr>\n      <th>mean</th>\n      <td>5966.033400</td>\n      <td>-0.241862</td>\n      <td>0.281949</td>\n      <td>0.906270</td>\n      <td>0.264148</td>\n      <td>-0.046398</td>\n      <td>0.133108</td>\n      <td>-0.071689</td>\n      <td>-0.064778</td>\n      <td>0.802224</td>\n      <td>...</td>\n      <td>-0.051990</td>\n      <td>-0.152671</td>\n      <td>-0.033268</td>\n      <td>0.021335</td>\n      <td>0.087146</td>\n      <td>0.108140</td>\n      <td>0.005518</td>\n      <td>0.002915</td>\n      <td>63.030188</td>\n      <td>0.00380</td>\n    </tr>\n    <tr>\n      <th>std</th>\n      <td>4473.403739</td>\n      <td>1.521679</td>\n      <td>1.308139</td>\n      <td>1.159154</td>\n      <td>1.441235</td>\n      <td>1.182935</td>\n      <td>1.307311</td>\n      <td>1.077430</td>\n      <td>1.259064</td>\n      <td>1.155198</td>\n      <td>...</td>\n      <td>0.913811</td>\n      <td>0.631083</td>\n      <td>0.487814</td>\n      <td>0.594430</td>\n      <td>0.428171</td>\n      <td>0.562793</td>\n      <td>0.410868</td>\n      <td>0.266247</td>\n      <td>184.486158</td>\n      <td>0.06153</td>\n    </tr>\n    <tr>\n      <th>min</th>\n      <td>0.000000</td>\n      <td>-27.670569</td>\n      <td>-34.607649</td>\n      <td>-15.496222</td>\n      <td>-4.657545</td>\n      <td>-32.092129</td>\n      <td>-23.496714</td>\n      <td>-26.548144</td>\n      <td>-23.632502</td>\n      <td>-6.329801</td>\n      <td>...</td>\n      <td>-11.468435</td>\n      <td>-8.527145</td>\n      <td>-15.144340</td>\n      <td>-2.512377</td>\n      <td>-2.577363</td>\n      <td>-1.338556</td>\n      <td>-7.976100</td>\n      <td>-3.509250</td>\n      <td>0.000000</td>\n      <td>0.00000</td>\n    </tr>\n    <tr>\n      <th>25%</th>\n      <td>2072.750000</td>\n      <td>-1.013283</td>\n      <td>-0.208342</td>\n      <td>0.412799</td>\n      <td>-0.614424</td>\n      <td>-0.643390</td>\n      <td>-0.629934</td>\n      <td>-0.542336</td>\n      <td>-0.190747</td>\n      <td>0.070868</td>\n      <td>...</td>\n      <td>-0.268120</td>\n      <td>-0.549638</td>\n      <td>-0.174120</td>\n      <td>-0.327817</td>\n      <td>-0.158137</td>\n      <td>-0.327974</td>\n      <td>-0.084489</td>\n      <td>-0.015753</td>\n      <td>5.000000</td>\n      <td>0.00000</td>\n    </tr>\n    <tr>\n      <th>50%</th>\n      <td>4563.500000</td>\n      <td>-0.372799</td>\n      <td>0.288524</td>\n      <td>0.944361</td>\n      <td>0.219861</td>\n      <td>-0.152769</td>\n      <td>-0.152566</td>\n      <td>-0.055585</td>\n      <td>0.012865</td>\n      <td>0.805275</td>\n      <td>...</td>\n      <td>-0.123273</td>\n      <td>-0.136746</td>\n      <td>-0.045794</td>\n      <td>0.079976</td>\n      <td>0.121001</td>\n      <td>0.042865</td>\n      <td>-0.004568</td>\n      <td>0.015897</td>\n      <td>15.950000</td>\n      <td>0.00000</td>\n    </tr>\n    <tr>\n      <th>75%</th>\n      <td>10233.250000</td>\n      <td>1.150864</td>\n      <td>0.901879</td>\n      <td>1.602903</td>\n      <td>1.125666</td>\n      <td>0.371081</td>\n      <td>0.505357</td>\n      <td>0.476280</td>\n      <td>0.274533</td>\n      <td>1.506299</td>\n      <td>...</td>\n      <td>0.032707</td>\n      <td>0.247490</td>\n      <td>0.081665</td>\n      <td>0.410877</td>\n      <td>0.359058</td>\n      <td>0.476394</td>\n      <td>0.120811</td>\n      <td>0.077182</td>\n      <td>50.960000</td>\n      <td>0.00000</td>\n    </tr>\n    <tr>\n      <th>max</th>\n      <td>15012.000000</td>\n      <td>1.960497</td>\n      <td>8.636214</td>\n      <td>4.101716</td>\n      <td>10.463020</td>\n      <td>34.099309</td>\n      <td>21.393069</td>\n      <td>34.303177</td>\n      <td>5.060381</td>\n      <td>10.392889</td>\n      <td>...</td>\n      <td>22.588989</td>\n      <td>4.534454</td>\n      <td>13.876221</td>\n      <td>3.200201</td>\n      <td>5.525093</td>\n      <td>3.517346</td>\n      <td>8.254376</td>\n      <td>4.860769</td>\n      <td>7712.430000</td>\n      <td>1.00000</td>\n    </tr>\n  </tbody>\n</table>\n<p>8 rows × 31 columns</p>\n</div>"
          },
          "metadata": {}
        }
      ]
    },
    {
      "metadata": {},
      "cell_type": "markdown",
      "source": "#### Check the info of the dataset"
    },
    {
      "metadata": {
        "trusted": true
      },
      "cell_type": "code",
      "source": "fraud.info()",
      "execution_count": 7,
      "outputs": [
        {
          "output_type": "stream",
          "text": "<class 'pandas.core.frame.DataFrame'>\nRangeIndex: 10000 entries, 0 to 9999\nData columns (total 31 columns):\nTime      10000 non-null int64\nV1        10000 non-null float64\nV2        10000 non-null float64\nV3        10000 non-null float64\nV4        10000 non-null float64\nV5        10000 non-null float64\nV6        10000 non-null float64\nV7        10000 non-null float64\nV8        10000 non-null float64\nV9        10000 non-null float64\nV10       10000 non-null float64\nV11       10000 non-null float64\nV12       10000 non-null float64\nV13       10000 non-null float64\nV14       10000 non-null float64\nV15       10000 non-null float64\nV16       10000 non-null float64\nV17       10000 non-null float64\nV18       10000 non-null float64\nV19       10000 non-null float64\nV20       10000 non-null float64\nV21       10000 non-null float64\nV22       10000 non-null float64\nV23       10000 non-null float64\nV24       10000 non-null float64\nV25       10000 non-null float64\nV26       10000 non-null float64\nV27       10000 non-null float64\nV28       10000 non-null float64\nAmount    10000 non-null float64\nClass     10000 non-null int64\ndtypes: float64(29), int64(2)\nmemory usage: 2.4 MB\n",
          "name": "stdout"
        }
      ]
    },
    {
      "metadata": {},
      "cell_type": "markdown",
      "source": "#### Check the missing values present in the dataset. "
    },
    {
      "metadata": {
        "trusted": true
      },
      "cell_type": "code",
      "source": "fraud.isnull().sum()",
      "execution_count": 8,
      "outputs": [
        {
          "output_type": "execute_result",
          "execution_count": 8,
          "data": {
            "text/plain": "Time      0\nV1        0\nV2        0\nV3        0\nV4        0\nV5        0\nV6        0\nV7        0\nV8        0\nV9        0\nV10       0\nV11       0\nV12       0\nV13       0\nV14       0\nV15       0\nV16       0\nV17       0\nV18       0\nV19       0\nV20       0\nV21       0\nV22       0\nV23       0\nV24       0\nV25       0\nV26       0\nV27       0\nV28       0\nAmount    0\nClass     0\ndtype: int64"
          },
          "metadata": {}
        }
      ]
    },
    {
      "metadata": {},
      "cell_type": "markdown",
      "source": "#### Using RobustScaler, scale the variables 'Time' and 'Amount'.\n- Please refer to the link of RobustScalar - http://scikit-learn.org/stable/modules/generated/sklearn.preprocessing.RobustScaler.html"
    },
    {
      "metadata": {
        "trusted": true
      },
      "cell_type": "code",
      "source": "from sklearn.preprocessing import StandardScaler, RobustScaler\n\n# RobustScaler is less prone to outliers.\n\nstd_scaler = StandardScaler()\nrob_scaler = RobustScaler()\n\nfraud['scaled_amount'] = rob_scaler.fit_transform(fraud['Amount'].values.reshape(-1,1))\nfraud['scaled_time'] = rob_scaler.fit_transform(fraud['Time'].values.reshape(-1,1))\n\nfraud.drop(['Time','Amount'], axis=1, inplace=True)",
      "execution_count": 9,
      "outputs": []
    },
    {
      "metadata": {},
      "cell_type": "markdown",
      "source": "#### Insert the above created new scaled variables to the dataset as index 0 and 1."
    },
    {
      "metadata": {
        "trusted": true
      },
      "cell_type": "code",
      "source": "scaled_amount = fraud['scaled_amount']\nscaled_time = fraud['scaled_time']\n\nfraud.drop(['scaled_amount', 'scaled_time'], axis=1, inplace=True)\nfraud.insert(0, 'scaled_amount', scaled_amount)\nfraud.insert(1, 'scaled_time', scaled_time)\n\n# Amount and Time are Scaled!\n\nfraud.head()",
      "execution_count": 10,
      "outputs": [
        {
          "output_type": "execute_result",
          "execution_count": 10,
          "data": {
            "text/plain": "   scaled_amount  scaled_time        V1        V2        V3        V4  \\\n0       2.908399    -0.559218 -1.359807 -0.072781  2.536347  1.378155   \n1      -0.288512    -0.559218  1.191857  0.266151  0.166480  0.448154   \n2       7.891862    -0.559096 -1.358354 -1.340163  1.773209  0.379780   \n3       2.340078    -0.559096 -0.966272 -0.185226  1.792993 -0.863291   \n4       1.175805    -0.558973 -1.158233  0.877737  1.548718  0.403034   \n\n         V5        V6        V7        V8  ...         V20       V21  \\\n0 -0.338321  0.462388  0.239599  0.098698  ...    0.251412 -0.018307   \n1  0.060018 -0.082361 -0.078803  0.085102  ...   -0.069083 -0.225775   \n2 -0.503198  1.800499  0.791461  0.247676  ...    0.524980  0.247998   \n3 -0.010309  1.247203  0.237609  0.377436  ...   -0.208038 -0.108300   \n4 -0.407193  0.095921  0.592941 -0.270533  ...    0.408542 -0.009431   \n\n        V22       V23       V24       V25       V26       V27       V28  Class  \n0  0.277838 -0.110474  0.066928  0.128539 -0.189115  0.133558 -0.021053      0  \n1 -0.638672  0.101288 -0.339846  0.167170  0.125895 -0.008983  0.014724      0  \n2  0.771679  0.909412 -0.689281 -0.327642 -0.139097 -0.055353 -0.059752      0  \n3  0.005274 -0.190321 -1.175575  0.647376 -0.221929  0.062723  0.061458      0  \n4  0.798278 -0.137458  0.141267 -0.206010  0.502292  0.219422  0.215153      0  \n\n[5 rows x 31 columns]",
            "text/html": "<div>\n<table border=\"1\" class=\"dataframe\">\n  <thead>\n    <tr style=\"text-align: right;\">\n      <th></th>\n      <th>scaled_amount</th>\n      <th>scaled_time</th>\n      <th>V1</th>\n      <th>V2</th>\n      <th>V3</th>\n      <th>V4</th>\n      <th>V5</th>\n      <th>V6</th>\n      <th>V7</th>\n      <th>V8</th>\n      <th>...</th>\n      <th>V20</th>\n      <th>V21</th>\n      <th>V22</th>\n      <th>V23</th>\n      <th>V24</th>\n      <th>V25</th>\n      <th>V26</th>\n      <th>V27</th>\n      <th>V28</th>\n      <th>Class</th>\n    </tr>\n  </thead>\n  <tbody>\n    <tr>\n      <th>0</th>\n      <td>2.908399</td>\n      <td>-0.559218</td>\n      <td>-1.359807</td>\n      <td>-0.072781</td>\n      <td>2.536347</td>\n      <td>1.378155</td>\n      <td>-0.338321</td>\n      <td>0.462388</td>\n      <td>0.239599</td>\n      <td>0.098698</td>\n      <td>...</td>\n      <td>0.251412</td>\n      <td>-0.018307</td>\n      <td>0.277838</td>\n      <td>-0.110474</td>\n      <td>0.066928</td>\n      <td>0.128539</td>\n      <td>-0.189115</td>\n      <td>0.133558</td>\n      <td>-0.021053</td>\n      <td>0</td>\n    </tr>\n    <tr>\n      <th>1</th>\n      <td>-0.288512</td>\n      <td>-0.559218</td>\n      <td>1.191857</td>\n      <td>0.266151</td>\n      <td>0.166480</td>\n      <td>0.448154</td>\n      <td>0.060018</td>\n      <td>-0.082361</td>\n      <td>-0.078803</td>\n      <td>0.085102</td>\n      <td>...</td>\n      <td>-0.069083</td>\n      <td>-0.225775</td>\n      <td>-0.638672</td>\n      <td>0.101288</td>\n      <td>-0.339846</td>\n      <td>0.167170</td>\n      <td>0.125895</td>\n      <td>-0.008983</td>\n      <td>0.014724</td>\n      <td>0</td>\n    </tr>\n    <tr>\n      <th>2</th>\n      <td>7.891862</td>\n      <td>-0.559096</td>\n      <td>-1.358354</td>\n      <td>-1.340163</td>\n      <td>1.773209</td>\n      <td>0.379780</td>\n      <td>-0.503198</td>\n      <td>1.800499</td>\n      <td>0.791461</td>\n      <td>0.247676</td>\n      <td>...</td>\n      <td>0.524980</td>\n      <td>0.247998</td>\n      <td>0.771679</td>\n      <td>0.909412</td>\n      <td>-0.689281</td>\n      <td>-0.327642</td>\n      <td>-0.139097</td>\n      <td>-0.055353</td>\n      <td>-0.059752</td>\n      <td>0</td>\n    </tr>\n    <tr>\n      <th>3</th>\n      <td>2.340078</td>\n      <td>-0.559096</td>\n      <td>-0.966272</td>\n      <td>-0.185226</td>\n      <td>1.792993</td>\n      <td>-0.863291</td>\n      <td>-0.010309</td>\n      <td>1.247203</td>\n      <td>0.237609</td>\n      <td>0.377436</td>\n      <td>...</td>\n      <td>-0.208038</td>\n      <td>-0.108300</td>\n      <td>0.005274</td>\n      <td>-0.190321</td>\n      <td>-1.175575</td>\n      <td>0.647376</td>\n      <td>-0.221929</td>\n      <td>0.062723</td>\n      <td>0.061458</td>\n      <td>0</td>\n    </tr>\n    <tr>\n      <th>4</th>\n      <td>1.175805</td>\n      <td>-0.558973</td>\n      <td>-1.158233</td>\n      <td>0.877737</td>\n      <td>1.548718</td>\n      <td>0.403034</td>\n      <td>-0.407193</td>\n      <td>0.095921</td>\n      <td>0.592941</td>\n      <td>-0.270533</td>\n      <td>...</td>\n      <td>0.408542</td>\n      <td>-0.009431</td>\n      <td>0.798278</td>\n      <td>-0.137458</td>\n      <td>0.141267</td>\n      <td>-0.206010</td>\n      <td>0.502292</td>\n      <td>0.219422</td>\n      <td>0.215153</td>\n      <td>0</td>\n    </tr>\n  </tbody>\n</table>\n<p>5 rows × 31 columns</p>\n</div>"
          },
          "metadata": {}
        }
      ]
    },
    {
      "metadata": {},
      "cell_type": "markdown",
      "source": "<a id = section4></a>"
    },
    {
      "metadata": {},
      "cell_type": "markdown",
      "source": "## 4. Random Forest Classifier"
    },
    {
      "metadata": {},
      "cell_type": "markdown",
      "source": "#### Preparing X and y using pandas"
    },
    {
      "metadata": {
        "trusted": true
      },
      "cell_type": "code",
      "source": "X = fraud.loc[:,fraud.columns != 'Class']\nX.head()",
      "execution_count": 11,
      "outputs": [
        {
          "output_type": "execute_result",
          "execution_count": 11,
          "data": {
            "text/plain": "   scaled_amount  scaled_time        V1        V2        V3        V4  \\\n0       2.908399    -0.559218 -1.359807 -0.072781  2.536347  1.378155   \n1      -0.288512    -0.559218  1.191857  0.266151  0.166480  0.448154   \n2       7.891862    -0.559096 -1.358354 -1.340163  1.773209  0.379780   \n3       2.340078    -0.559096 -0.966272 -0.185226  1.792993 -0.863291   \n4       1.175805    -0.558973 -1.158233  0.877737  1.548718  0.403034   \n\n         V5        V6        V7        V8    ...          V19       V20  \\\n0 -0.338321  0.462388  0.239599  0.098698    ...     0.403993  0.251412   \n1  0.060018 -0.082361 -0.078803  0.085102    ...    -0.145783 -0.069083   \n2 -0.503198  1.800499  0.791461  0.247676    ...    -2.261857  0.524980   \n3 -0.010309  1.247203  0.237609  0.377436    ...    -1.232622 -0.208038   \n4 -0.407193  0.095921  0.592941 -0.270533    ...     0.803487  0.408542   \n\n        V21       V22       V23       V24       V25       V26       V27  \\\n0 -0.018307  0.277838 -0.110474  0.066928  0.128539 -0.189115  0.133558   \n1 -0.225775 -0.638672  0.101288 -0.339846  0.167170  0.125895 -0.008983   \n2  0.247998  0.771679  0.909412 -0.689281 -0.327642 -0.139097 -0.055353   \n3 -0.108300  0.005274 -0.190321 -1.175575  0.647376 -0.221929  0.062723   \n4 -0.009431  0.798278 -0.137458  0.141267 -0.206010  0.502292  0.219422   \n\n        V28  \n0 -0.021053  \n1  0.014724  \n2 -0.059752  \n3  0.061458  \n4  0.215153  \n\n[5 rows x 30 columns]",
            "text/html": "<div>\n<table border=\"1\" class=\"dataframe\">\n  <thead>\n    <tr style=\"text-align: right;\">\n      <th></th>\n      <th>scaled_amount</th>\n      <th>scaled_time</th>\n      <th>V1</th>\n      <th>V2</th>\n      <th>V3</th>\n      <th>V4</th>\n      <th>V5</th>\n      <th>V6</th>\n      <th>V7</th>\n      <th>V8</th>\n      <th>...</th>\n      <th>V19</th>\n      <th>V20</th>\n      <th>V21</th>\n      <th>V22</th>\n      <th>V23</th>\n      <th>V24</th>\n      <th>V25</th>\n      <th>V26</th>\n      <th>V27</th>\n      <th>V28</th>\n    </tr>\n  </thead>\n  <tbody>\n    <tr>\n      <th>0</th>\n      <td>2.908399</td>\n      <td>-0.559218</td>\n      <td>-1.359807</td>\n      <td>-0.072781</td>\n      <td>2.536347</td>\n      <td>1.378155</td>\n      <td>-0.338321</td>\n      <td>0.462388</td>\n      <td>0.239599</td>\n      <td>0.098698</td>\n      <td>...</td>\n      <td>0.403993</td>\n      <td>0.251412</td>\n      <td>-0.018307</td>\n      <td>0.277838</td>\n      <td>-0.110474</td>\n      <td>0.066928</td>\n      <td>0.128539</td>\n      <td>-0.189115</td>\n      <td>0.133558</td>\n      <td>-0.021053</td>\n    </tr>\n    <tr>\n      <th>1</th>\n      <td>-0.288512</td>\n      <td>-0.559218</td>\n      <td>1.191857</td>\n      <td>0.266151</td>\n      <td>0.166480</td>\n      <td>0.448154</td>\n      <td>0.060018</td>\n      <td>-0.082361</td>\n      <td>-0.078803</td>\n      <td>0.085102</td>\n      <td>...</td>\n      <td>-0.145783</td>\n      <td>-0.069083</td>\n      <td>-0.225775</td>\n      <td>-0.638672</td>\n      <td>0.101288</td>\n      <td>-0.339846</td>\n      <td>0.167170</td>\n      <td>0.125895</td>\n      <td>-0.008983</td>\n      <td>0.014724</td>\n    </tr>\n    <tr>\n      <th>2</th>\n      <td>7.891862</td>\n      <td>-0.559096</td>\n      <td>-1.358354</td>\n      <td>-1.340163</td>\n      <td>1.773209</td>\n      <td>0.379780</td>\n      <td>-0.503198</td>\n      <td>1.800499</td>\n      <td>0.791461</td>\n      <td>0.247676</td>\n      <td>...</td>\n      <td>-2.261857</td>\n      <td>0.524980</td>\n      <td>0.247998</td>\n      <td>0.771679</td>\n      <td>0.909412</td>\n      <td>-0.689281</td>\n      <td>-0.327642</td>\n      <td>-0.139097</td>\n      <td>-0.055353</td>\n      <td>-0.059752</td>\n    </tr>\n    <tr>\n      <th>3</th>\n      <td>2.340078</td>\n      <td>-0.559096</td>\n      <td>-0.966272</td>\n      <td>-0.185226</td>\n      <td>1.792993</td>\n      <td>-0.863291</td>\n      <td>-0.010309</td>\n      <td>1.247203</td>\n      <td>0.237609</td>\n      <td>0.377436</td>\n      <td>...</td>\n      <td>-1.232622</td>\n      <td>-0.208038</td>\n      <td>-0.108300</td>\n      <td>0.005274</td>\n      <td>-0.190321</td>\n      <td>-1.175575</td>\n      <td>0.647376</td>\n      <td>-0.221929</td>\n      <td>0.062723</td>\n      <td>0.061458</td>\n    </tr>\n    <tr>\n      <th>4</th>\n      <td>1.175805</td>\n      <td>-0.558973</td>\n      <td>-1.158233</td>\n      <td>0.877737</td>\n      <td>1.548718</td>\n      <td>0.403034</td>\n      <td>-0.407193</td>\n      <td>0.095921</td>\n      <td>0.592941</td>\n      <td>-0.270533</td>\n      <td>...</td>\n      <td>0.803487</td>\n      <td>0.408542</td>\n      <td>-0.009431</td>\n      <td>0.798278</td>\n      <td>-0.137458</td>\n      <td>0.141267</td>\n      <td>-0.206010</td>\n      <td>0.502292</td>\n      <td>0.219422</td>\n      <td>0.215153</td>\n    </tr>\n  </tbody>\n</table>\n<p>5 rows × 30 columns</p>\n</div>"
          },
          "metadata": {}
        }
      ]
    },
    {
      "metadata": {
        "trusted": true
      },
      "cell_type": "code",
      "source": "y = fraud.loc[:,fraud.columns == 'Class']\ny.head()",
      "execution_count": 12,
      "outputs": [
        {
          "output_type": "execute_result",
          "execution_count": 12,
          "data": {
            "text/plain": "   Class\n0      0\n1      0\n2      0\n3      0\n4      0",
            "text/html": "<div>\n<table border=\"1\" class=\"dataframe\">\n  <thead>\n    <tr style=\"text-align: right;\">\n      <th></th>\n      <th>Class</th>\n    </tr>\n  </thead>\n  <tbody>\n    <tr>\n      <th>0</th>\n      <td>0</td>\n    </tr>\n    <tr>\n      <th>1</th>\n      <td>0</td>\n    </tr>\n    <tr>\n      <th>2</th>\n      <td>0</td>\n    </tr>\n    <tr>\n      <th>3</th>\n      <td>0</td>\n    </tr>\n    <tr>\n      <th>4</th>\n      <td>0</td>\n    </tr>\n  </tbody>\n</table>\n</div>"
          },
          "metadata": {}
        }
      ]
    },
    {
      "metadata": {},
      "cell_type": "markdown",
      "source": "####  Spliting X and y into train and test dataset."
    },
    {
      "metadata": {
        "trusted": true
      },
      "cell_type": "code",
      "source": "from sklearn.model_selection import train_test_split\nX_train, X_test, y_train, y_test = train_test_split(X, y, test_size=0.25, random_state=1)",
      "execution_count": 13,
      "outputs": []
    },
    {
      "metadata": {},
      "cell_type": "markdown",
      "source": "#### Checking the shape of X and y of train dataset"
    },
    {
      "metadata": {
        "trusted": true
      },
      "cell_type": "code",
      "source": "print(X_train.shape)\nprint(y_train.shape)",
      "execution_count": 14,
      "outputs": [
        {
          "output_type": "stream",
          "text": "(7500, 30)\n(7500, 1)\n",
          "name": "stdout"
        }
      ]
    },
    {
      "metadata": {},
      "cell_type": "markdown",
      "source": "#### Checking the shape of X and y of test dataset"
    },
    {
      "metadata": {
        "trusted": true
      },
      "cell_type": "code",
      "source": "print(X_test.shape)\nprint(y_test.shape)",
      "execution_count": 15,
      "outputs": [
        {
          "output_type": "stream",
          "text": "(2500, 30)\n(2500, 1)\n",
          "name": "stdout"
        }
      ]
    },
    {
      "metadata": {},
      "cell_type": "markdown",
      "source": "Now, we are going to make 2 models one without any parameter specification and in other we will specify some parameter values. Then in later sections we will compare the performance of these models using various model evaluation techniques."
    },
    {
      "metadata": {},
      "cell_type": "markdown",
      "source": "#### Instantiating Random Forest Classifier using scikit learn with default parameters."
    },
    {
      "metadata": {
        "trusted": true
      },
      "cell_type": "code",
      "source": "from sklearn.ensemble import RandomForestClassifier\nmodel1 = RandomForestClassifier(random_state = 0)",
      "execution_count": 16,
      "outputs": [
        {
          "output_type": "stream",
          "text": "/home/nbuser/anaconda3_420/lib/python3.5/site-packages/sklearn/ensemble/weight_boosting.py:29: DeprecationWarning: numpy.core.umath_tests is an internal NumPy module and should not be imported. It will be removed in a future NumPy release.\n  from numpy.core.umath_tests import inner1d\n",
          "name": "stderr"
        }
      ]
    },
    {
      "metadata": {},
      "cell_type": "markdown",
      "source": "#### Instantiating Random Forest Classifier using scikit learn with:\n- criterion='entropy'\n- n_estimators = 15\n- random_state = 0\n- max_depth = 3\n- min_samples_split=5\n- min_samples_leaf=4\n- max_leaf_nodes=5\n- n_jobs=-1"
    },
    {
      "metadata": {
        "trusted": true
      },
      "cell_type": "code",
      "source": "model2 = RandomForestClassifier(criterion='entropy',\n                                n_estimators=15,\n                                random_state = 0,\n                                max_depth=3,\n                                min_samples_split=5,\n                                min_samples_leaf=4,\n                                max_leaf_nodes=5,\n                                n_jobs=-1,\n                                )",
      "execution_count": 17,
      "outputs": []
    },
    {
      "metadata": {},
      "cell_type": "markdown",
      "source": "#### Fitting the model on X_train and y_train"
    },
    {
      "metadata": {
        "trusted": true
      },
      "cell_type": "code",
      "source": "model1.fit(X_train,y_train)",
      "execution_count": 18,
      "outputs": [
        {
          "output_type": "stream",
          "text": "/home/nbuser/anaconda3_420/lib/python3.5/site-packages/ipykernel/__main__.py:1: DataConversionWarning: A column-vector y was passed when a 1d array was expected. Please change the shape of y to (n_samples,), for example using ravel().\n  if __name__ == '__main__':\n",
          "name": "stderr"
        },
        {
          "output_type": "execute_result",
          "execution_count": 18,
          "data": {
            "text/plain": "RandomForestClassifier(bootstrap=True, class_weight=None, criterion='gini',\n            max_depth=None, max_features='auto', max_leaf_nodes=None,\n            min_impurity_decrease=0.0, min_impurity_split=None,\n            min_samples_leaf=1, min_samples_split=2,\n            min_weight_fraction_leaf=0.0, n_estimators=10, n_jobs=1,\n            oob_score=False, random_state=0, verbose=0, warm_start=False)"
          },
          "metadata": {}
        }
      ]
    },
    {
      "metadata": {
        "trusted": true
      },
      "cell_type": "code",
      "source": "model2.fit(X_train,y_train)",
      "execution_count": 19,
      "outputs": [
        {
          "output_type": "stream",
          "text": "/home/nbuser/anaconda3_420/lib/python3.5/site-packages/ipykernel/__main__.py:1: DataConversionWarning: A column-vector y was passed when a 1d array was expected. Please change the shape of y to (n_samples,), for example using ravel().\n  if __name__ == '__main__':\n",
          "name": "stderr"
        },
        {
          "output_type": "execute_result",
          "execution_count": 19,
          "data": {
            "text/plain": "RandomForestClassifier(bootstrap=True, class_weight=None, criterion='entropy',\n            max_depth=3, max_features='auto', max_leaf_nodes=5,\n            min_impurity_decrease=0.0, min_impurity_split=None,\n            min_samples_leaf=4, min_samples_split=5,\n            min_weight_fraction_leaf=0.0, n_estimators=15, n_jobs=-1,\n            oob_score=False, random_state=0, verbose=0, warm_start=False)"
          },
          "metadata": {}
        }
      ]
    },
    {
      "metadata": {},
      "cell_type": "markdown",
      "source": "#### Using the model for prediction"
    },
    {
      "metadata": {
        "trusted": true
      },
      "cell_type": "code",
      "source": "prediction1 = pd.DataFrame()\nprediction1 = model1.predict(X_test)",
      "execution_count": 20,
      "outputs": []
    },
    {
      "metadata": {
        "trusted": true
      },
      "cell_type": "code",
      "source": "prediction2 = pd.DataFrame()\nprediction2 = model2.predict(X_test)",
      "execution_count": 21,
      "outputs": []
    },
    {
      "metadata": {},
      "cell_type": "markdown",
      "source": "<a id = section5></a>"
    },
    {
      "metadata": {},
      "cell_type": "markdown",
      "source": "## 5. Model evaluation "
    },
    {
      "metadata": {},
      "cell_type": "markdown",
      "source": "<a id = section501></a>"
    },
    {
      "metadata": {},
      "cell_type": "markdown",
      "source": "### 5.1 Model evaluation using accuracy score"
    },
    {
      "metadata": {
        "trusted": true
      },
      "cell_type": "code",
      "source": "from sklearn.metrics import accuracy_score\nprint('Accuracy score for test data with model 1 is:',accuracy_score(y_test, prediction1))\nprint('Accuracy score for test data with model 2 is:',accuracy_score(y_test, prediction2))",
      "execution_count": 22,
      "outputs": [
        {
          "output_type": "stream",
          "text": "Accuracy score for test data with model 1 is: 0.9984\nAccuracy score for test data with model 2 is: 0.9988\n",
          "name": "stdout"
        }
      ]
    },
    {
      "metadata": {},
      "cell_type": "markdown",
      "source": "__Accuracy score__ of both the models are approximately __equal__.<br/>\nTherefore, to comapre between the models we need to use some other evaluation techniques."
    },
    {
      "metadata": {},
      "cell_type": "markdown",
      "source": "<a id = section502></a>"
    },
    {
      "metadata": {},
      "cell_type": "markdown",
      "source": "### 5.2 Model evaluation using confusion matrix"
    },
    {
      "metadata": {
        "trusted": true
      },
      "cell_type": "code",
      "source": "from sklearn.metrics import confusion_matrix\nprint('Confusion matrix for test data with model 2 is:\\n',confusion_matrix(y_test, prediction1))\nprint('Confusion matrix for test data with model 2 is:\\n',confusion_matrix(y_test, prediction2))",
      "execution_count": 23,
      "outputs": [
        {
          "output_type": "stream",
          "text": "Confusion matrix for test data with model 2 is:\n [[2491    2]\n [   2    5]]\nConfusion matrix for test data with model 2 is:\n [[2493    0]\n [   3    4]]\n",
          "name": "stdout"
        }
      ]
    },
    {
      "metadata": {},
      "cell_type": "markdown",
      "source": "Comparing confusion matrix for the two models: \n- No. of __False negative__ cases are __more__ in model2\n- No. of __False positive__ cases are __less__ in model2\n\nCalculating Recall and precision score for a clearer picture of the scenario."
    },
    {
      "metadata": {},
      "cell_type": "markdown",
      "source": "<a id = section503></a>"
    },
    {
      "metadata": {},
      "cell_type": "markdown",
      "source": "### 5.3. Model evaluation using precision score"
    },
    {
      "metadata": {
        "trusted": true
      },
      "cell_type": "code",
      "source": "from sklearn.metrics import precision_score\nprecision1 = precision_score(y_test,prediction1)\nprint('Precision score for test data using model1 is:', precision1)\nprecision2 = precision_score(y_test,prediction2)\nprint('Precision score for test data using model2 is:', precision2)",
      "execution_count": 24,
      "outputs": [
        {
          "output_type": "stream",
          "text": "Precision score for test data using model1 is: 0.7142857142857143\nPrecision score for test data using model2 is: 1.0\n",
          "name": "stdout"
        }
      ]
    },
    {
      "metadata": {},
      "cell_type": "markdown",
      "source": "<a id = section504></a>"
    },
    {
      "metadata": {},
      "cell_type": "markdown",
      "source": "### 5.4 Model evaluation using recall score"
    },
    {
      "metadata": {
        "trusted": true
      },
      "cell_type": "code",
      "source": "from sklearn.metrics import recall_score\nprint('Recall score for test data using model1 is:',recall_score(y_test,prediction1))   \nprint('Recall score for test data using model2 is:',recall_score(y_test,prediction2))",
      "execution_count": 25,
      "outputs": [
        {
          "output_type": "stream",
          "text": "Recall score for test data using model1 is: 0.7142857142857143\nRecall score for test data using model2 is: 0.5714285714285714\n",
          "name": "stdout"
        }
      ]
    },
    {
      "metadata": {},
      "cell_type": "markdown",
      "source": "Recall score of model1 is higher, so __model1 is preferable__ from recall point of view."
    },
    {
      "metadata": {},
      "cell_type": "markdown",
      "source": "<a id = section505></a>"
    },
    {
      "metadata": {},
      "cell_type": "markdown",
      "source": "### 5.5 Model evaluation using F1_score"
    },
    {
      "metadata": {
        "trusted": true
      },
      "cell_type": "code",
      "source": "from sklearn.metrics import f1_score\nprint('F1_score for test data using model1 is:',f1_score(y_test, prediction1))\nprint('F1_score for test data using model2 is:',f1_score(y_test, prediction2))",
      "execution_count": 26,
      "outputs": [
        {
          "output_type": "stream",
          "text": "F1_score for test data using model1 is: 0.7142857142857143\nF1_score for test data using model2 is: 0.7272727272727273\n",
          "name": "stdout"
        }
      ]
    },
    {
      "metadata": {},
      "cell_type": "markdown",
      "source": "F1_score for both the models are approximately __same__."
    },
    {
      "metadata": {},
      "cell_type": "markdown",
      "source": "<a id = section506a>"
    },
    {
      "metadata": {},
      "cell_type": "markdown",
      "source": "### 5.6 Model evaluation using ROC_AUC curve\n- For model1"
    },
    {
      "metadata": {
        "trusted": true
      },
      "cell_type": "code",
      "source": "from sklearn import metrics\nprobs = model1.predict_proba(X_test)\npreds = probs[:,1]\nfpr, tpr, threshold = metrics.roc_curve(y_test, preds)\nroc_auc = metrics.auc(fpr, tpr)\n\nimport matplotlib.pyplot as plt\nplt.title('Receiver Operating Characteristic')\nplt.plot(fpr, tpr, 'b', label = 'AUC = %0.2f' % roc_auc)\nplt.legend(loc = 'lower right')\nplt.plot([0, 1], [0, 1],'r--')\nplt.xlim([0, 1])\nplt.ylim([0, 1])\nplt.ylabel('True Positive Rate')\nplt.xlabel('False Positive Rate')\nplt.show()",
      "execution_count": 27,
      "outputs": [
        {
          "output_type": "display_data",
          "data": {
            "image/png": "[encoded data removed]",
            "text/plain": "<matplotlib.figure.Figure at 0x7f7b8284bc18>"
          },
          "metadata": {}
        }
      ]
    },
    {
      "metadata": {},
      "cell_type": "markdown",
      "source": "- For model2"
    },
    {
      "metadata": {
        "trusted": true
      },
      "cell_type": "code",
      "source": "from sklearn import metrics\nprobs = model2.predict_proba(X_test)\npred = probs[:,1]\nfpr1, tpr1, threshold = metrics.roc_curve(y_test, pred)\nroc_auc = metrics.auc(fpr1, tpr1)\n\n# method I: plt\nimport matplotlib.pyplot as plt\nplt.title('Receiver Operating Characteristic')\nplt.plot(fpr1, tpr1, 'b', label = 'AUC = %0.2f' % roc_auc)\nplt.legend(loc = 'lower right')\nplt.plot([0, 1], [0, 1],'r--')\nplt.xlim([0, 1])\nplt.ylim([0, 1])\nplt.ylabel('True Positive Rate')\nplt.xlabel('False Positive Rate')\nplt.show()",
      "execution_count": 28,
      "outputs": [
        {
          "output_type": "display_data",
          "data": {
            "image/png": "[encoded data removed]",
            "text/plain": "<matplotlib.figure.Figure at 0x7f7b825ff080>"
          },
          "metadata": {}
        }
      ]
    },
    {
      "metadata": {},
      "cell_type": "markdown",
      "source": "Comparing the ROC-AUC curve for both the models, observing that there is __no significant difference__ between the two plots. "
    },
    {
      "metadata": {},
      "cell_type": "markdown",
      "source": "<a id = section5.7></a>"
    },
    {
      "metadata": {},
      "cell_type": "markdown",
      "source": "### 5.7 Choosing better model using recall score"
    },
    {
      "metadata": {},
      "cell_type": "markdown",
      "source": "We have compared the performance of the two models using various model evaluation techinques.<br/>\nOur objective is to __minimize False Negative__ as missing a lot of fradulent transactions is worse than predicting “fraud” on non fraudulent transactions, <br/>as more enquiry will be done on them in further steps. Therefore, among recall & precision scores, we will give more importance to __recall score__.\n\n- Recall score for model1 is: __0.71__\n- Recall score for model2 is: __0.57__\n\nAs recall score of model1 is __better__ than that of model2, hence for predicting fradulent transaction __model1 is preferable.__"
    }
  ],
  "metadata": {
    "kernelspec": {
      "name": "python3",
      "display_name": "Python 3",
      "language": "python"
    },
    "language_info": {
      "mimetype": "text/x-python",
      "nbconvert_exporter": "python",
      "name": "python",
      "file_extension": ".py",
      "version": "3.5.4",
      "pygments_lexer": "ipython3",
      "codemirror_mode": {
        "version": 3,
        "name": "ipython"
      }
    }
  },
  "nbformat": 4,
  "nbformat_minor": 2
}