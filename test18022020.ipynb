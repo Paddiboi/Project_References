{
  "cells": [
    {
      "metadata": {
        "trusted": true
      },
      "cell_type": "code",
      "source": "print(\"Sanket's\")",
      "execution_count": 1,
      "outputs": [
        {
          "output_type": "stream",
          "text": "Sanket's\n",
          "name": "stdout"
        }
      ]
    },
    {
      "metadata": {
        "trusted": true
      },
      "cell_type": "code",
      "source": "'''I found this handy'''\nprint(\"I found this handy\")",
      "execution_count": 4,
      "outputs": [
        {
          "output_type": "stream",
          "text": "I found this handy\n",
          "name": "stdout"
        }
      ]
    },
    {
      "metadata": {
        "trusted": true
      },
      "cell_type": "code",
      "source": "print(\"hello world!\")",
      "execution_count": 5,
      "outputs": [
        {
          "output_type": "stream",
          "text": "hello world!\n",
          "name": "stdout"
        }
      ]
    }
  ],
  "metadata": {
    "kernelspec": {
      "name": "python2",
      "display_name": "Python 2",
      "language": "python"
    },
    "language_info": {
      "mimetype": "text/x-python",
      "nbconvert_exporter": "python",
      "name": "python",
      "pygments_lexer": "ipython2",
      "version": "2.7.15",
      "file_extension": ".py",
      "codemirror_mode": {
        "version": 2,
        "name": "ipython"
      }
    }
  },
  "nbformat": 4,
  "nbformat_minor": 2
}