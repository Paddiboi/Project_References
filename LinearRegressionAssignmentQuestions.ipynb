{
  "cells": [
    {
      "metadata": {},
      "cell_type": "markdown",
      "source": "<img src=\"https://github.com/insaid2018/Term-1/blob/master/Images/INSAID_Full%20Logo.png?raw=true\" width=\"240\" height=\"360\" />\n\n# ASSIGNMENT\n\n###  This is a cars dataset having 156 observation and 16 different variables. You have to create a linear regression model using the provided predictor variables for the prediction of sales value of cars.\n\n#### Note: Please run your code step by step as provided in the sheet or else you may face challenges with the code."
    },
    {
      "metadata": {
        "trusted": true
      },
      "cell_type": "code",
      "source": "import numpy as np                     \n\nimport pandas as pd\npd.set_option('mode.chained_assignment', None)      # To suppress pandas warnings.\npd.set_option('display.max_colwidth', -1)           # To display all the data in each column\npd.options.display.max_columns = 50                 # To display every column of the dataset in head()\n\nimport warnings\nwarnings.filterwarnings('ignore')                   # To suppress all the warnings in the notebook.\n\nimport matplotlib.pyplot as plt\n%matplotlib inline\n\nimport seaborn as sns\nsns.set(style='whitegrid', font_scale=1.3, color_codes=True)      # To apply seaborn styles to the plots.\n\nfrom plotly.offline import init_notebook_mode, iplot\nimport plotly.graph_objs as go\nimport chart_studio.plotly as py\nfrom plotly.subplots import make_subplots\nfrom plotly import tools\ninit_notebook_mode(connected=True)",
      "execution_count": 1,
      "outputs": [
        {
          "output_type": "display_data",
          "data": {
            "text/html": "        <script type=\"text/javascript\">\n        window.PlotlyConfig = {MathJaxConfig: 'local'};\n        if (window.MathJax) {MathJax.Hub.Config({SVG: {font: \"STIX-Web\"}});}\n        if (typeof require !== 'undefined') {\n        require.undef(\"plotly\");\n        requirejs.config({\n            paths: {\n                'plotly': ['https://cdn.plot.ly/plotly-latest.min']\n            }\n        });\n        require(['plotly'], function(Plotly) {\n            window._Plotly = Plotly;\n        });\n        }\n        </script>\n        "
          },
          "metadata": {}
        }
      ]
    },
    {
      "metadata": {},
      "cell_type": "markdown",
      "source": "### Import the dataset."
    },
    {
      "metadata": {
        "scrolled": true,
        "trusted": true
      },
      "cell_type": "code",
      "source": "import pandas as pd\ncar = pd.read_csv(\"https://raw.githubusercontent.com/insaid2018/Term-2/master/Data/car_sales.csv\")\ncar.head()",
      "execution_count": 2,
      "outputs": [
        {
          "output_type": "execute_result",
          "execution_count": 2,
          "data": {
            "text/html": "<div>\n<style scoped>\n    .dataframe tbody tr th:only-of-type {\n        vertical-align: middle;\n    }\n\n    .dataframe tbody tr th {\n        vertical-align: top;\n    }\n\n    .dataframe thead th {\n        text-align: right;\n    }\n</style>\n<table border=\"1\" class=\"dataframe\">\n  <thead>\n    <tr style=\"text-align: right;\">\n      <th></th>\n      <th>Manufacturer</th>\n      <th>Model</th>\n      <th>Sales_in_thousands</th>\n      <th>_year_resale_value</th>\n      <th>Vehicle_type</th>\n      <th>Price_in_thousands</th>\n      <th>Engine_size</th>\n      <th>Horsepower</th>\n      <th>Wheelbase</th>\n      <th>Width</th>\n      <th>Length</th>\n      <th>Curb_weight</th>\n      <th>Fuel_capacity</th>\n      <th>Fuel_efficiency</th>\n      <th>Latest_Launch</th>\n      <th>Power_perf_factor</th>\n    </tr>\n  </thead>\n  <tbody>\n    <tr>\n      <th>0</th>\n      <td>Acura</td>\n      <td>Integra</td>\n      <td>16.919</td>\n      <td>16.360</td>\n      <td>Passenger</td>\n      <td>21.50</td>\n      <td>1.8</td>\n      <td>140</td>\n      <td>101.2</td>\n      <td>67.3</td>\n      <td>172.4</td>\n      <td>2.639</td>\n      <td>13.2</td>\n      <td>28</td>\n      <td>2/2/2012</td>\n      <td>58.280150</td>\n    </tr>\n    <tr>\n      <th>1</th>\n      <td>Acura</td>\n      <td>TL</td>\n      <td>39.384</td>\n      <td>19.875</td>\n      <td>Passenger</td>\n      <td>28.40</td>\n      <td>3.2</td>\n      <td>225</td>\n      <td>108.1</td>\n      <td>70.3</td>\n      <td>192.9</td>\n      <td>3.517</td>\n      <td>17.2</td>\n      <td>25</td>\n      <td>6/3/2011</td>\n      <td>91.370778</td>\n    </tr>\n    <tr>\n      <th>2</th>\n      <td>Acura</td>\n      <td>CL</td>\n      <td>14.114</td>\n      <td>18.225</td>\n      <td>Passenger</td>\n      <td>29.00</td>\n      <td>3.2</td>\n      <td>225</td>\n      <td>106.9</td>\n      <td>70.6</td>\n      <td>192.0</td>\n      <td>3.470</td>\n      <td>17.2</td>\n      <td>26</td>\n      <td>1/4/2012</td>\n      <td>90.345000</td>\n    </tr>\n    <tr>\n      <th>3</th>\n      <td>Acura</td>\n      <td>RL</td>\n      <td>8.588</td>\n      <td>29.725</td>\n      <td>Passenger</td>\n      <td>42.00</td>\n      <td>3.5</td>\n      <td>210</td>\n      <td>114.6</td>\n      <td>71.4</td>\n      <td>196.6</td>\n      <td>3.850</td>\n      <td>18.0</td>\n      <td>22</td>\n      <td>3/10/2011</td>\n      <td>91.389779</td>\n    </tr>\n    <tr>\n      <th>4</th>\n      <td>Audi</td>\n      <td>A4</td>\n      <td>20.397</td>\n      <td>22.255</td>\n      <td>Passenger</td>\n      <td>23.99</td>\n      <td>1.8</td>\n      <td>150</td>\n      <td>102.6</td>\n      <td>68.2</td>\n      <td>178.0</td>\n      <td>2.998</td>\n      <td>16.4</td>\n      <td>27</td>\n      <td>10/8/2011</td>\n      <td>62.777639</td>\n    </tr>\n  </tbody>\n</table>\n</div>",
            "text/plain": "  Manufacturer    Model  Sales_in_thousands  _year_resale_value Vehicle_type  \\\n0  Acura        Integra  16.919              16.360              Passenger     \n1  Acura        TL       39.384              19.875              Passenger     \n2  Acura        CL       14.114              18.225              Passenger     \n3  Acura        RL       8.588               29.725              Passenger     \n4  Audi         A4       20.397              22.255              Passenger     \n\n   Price_in_thousands  Engine_size  Horsepower  Wheelbase  Width  Length  \\\n0  21.50               1.8          140         101.2      67.3   172.4    \n1  28.40               3.2          225         108.1      70.3   192.9    \n2  29.00               3.2          225         106.9      70.6   192.0    \n3  42.00               3.5          210         114.6      71.4   196.6    \n4  23.99               1.8          150         102.6      68.2   178.0    \n\n   Curb_weight  Fuel_capacity  Fuel_efficiency Latest_Launch  \\\n0  2.639        13.2           28               2/2/2012       \n1  3.517        17.2           25               6/3/2011       \n2  3.470        17.2           26               1/4/2012       \n3  3.850        18.0           22               3/10/2011      \n4  2.998        16.4           27               10/8/2011      \n\n   Power_perf_factor  \n0  58.280150          \n1  91.370778          \n2  90.345000          \n3  91.389779          \n4  62.777639          "
          },
          "metadata": {}
        }
      ]
    },
    {
      "metadata": {},
      "cell_type": "markdown",
      "source": "### Check the shape of the dataset."
    },
    {
      "metadata": {
        "trusted": true
      },
      "cell_type": "code",
      "source": "def lr():\n    return car.shape \nlr()",
      "execution_count": 3,
      "outputs": [
        {
          "output_type": "execute_result",
          "execution_count": 3,
          "data": {
            "text/plain": "(156, 16)"
          },
          "metadata": {}
        }
      ]
    },
    {
      "metadata": {},
      "cell_type": "markdown",
      "source": "### Check the descriptive stats of the dataset."
    },
    {
      "metadata": {
        "trusted": true
      },
      "cell_type": "code",
      "source": "def lr():\n    return car.describe()\nlr()",
      "execution_count": 4,
      "outputs": [
        {
          "output_type": "execute_result",
          "execution_count": 4,
          "data": {
            "text/html": "<div>\n<style scoped>\n    .dataframe tbody tr th:only-of-type {\n        vertical-align: middle;\n    }\n\n    .dataframe tbody tr th {\n        vertical-align: top;\n    }\n\n    .dataframe thead th {\n        text-align: right;\n    }\n</style>\n<table border=\"1\" class=\"dataframe\">\n  <thead>\n    <tr style=\"text-align: right;\">\n      <th></th>\n      <th>Sales_in_thousands</th>\n      <th>_year_resale_value</th>\n      <th>Price_in_thousands</th>\n      <th>Engine_size</th>\n      <th>Horsepower</th>\n      <th>Wheelbase</th>\n      <th>Width</th>\n      <th>Length</th>\n      <th>Curb_weight</th>\n      <th>Fuel_capacity</th>\n      <th>Fuel_efficiency</th>\n      <th>Power_perf_factor</th>\n    </tr>\n  </thead>\n  <tbody>\n    <tr>\n      <th>count</th>\n      <td>151.000000</td>\n      <td>156.000000</td>\n      <td>156.000000</td>\n      <td>156.000000</td>\n      <td>156.000000</td>\n      <td>156.000000</td>\n      <td>156.000000</td>\n      <td>156.000000</td>\n      <td>156.000000</td>\n      <td>156.000000</td>\n      <td>156.000000</td>\n      <td>156.000000</td>\n    </tr>\n    <tr>\n      <th>mean</th>\n      <td>52.051742</td>\n      <td>18.063571</td>\n      <td>27.401071</td>\n      <td>3.060897</td>\n      <td>185.948718</td>\n      <td>107.487179</td>\n      <td>71.150000</td>\n      <td>187.343590</td>\n      <td>3.380462</td>\n      <td>17.951923</td>\n      <td>23.833333</td>\n      <td>77.128857</td>\n    </tr>\n    <tr>\n      <th>std</th>\n      <td>68.907116</td>\n      <td>10.076941</td>\n      <td>14.305863</td>\n      <td>1.044653</td>\n      <td>56.700321</td>\n      <td>7.641303</td>\n      <td>3.451872</td>\n      <td>13.431754</td>\n      <td>0.629200</td>\n      <td>3.887921</td>\n      <td>4.256052</td>\n      <td>25.084045</td>\n    </tr>\n    <tr>\n      <th>min</th>\n      <td>0.110000</td>\n      <td>5.160000</td>\n      <td>9.235000</td>\n      <td>1.000000</td>\n      <td>55.000000</td>\n      <td>92.600000</td>\n      <td>62.600000</td>\n      <td>149.400000</td>\n      <td>1.895000</td>\n      <td>10.300000</td>\n      <td>15.000000</td>\n      <td>23.276272</td>\n    </tr>\n    <tr>\n      <th>25%</th>\n      <td>13.630000</td>\n      <td>12.527500</td>\n      <td>18.081250</td>\n      <td>2.300000</td>\n      <td>149.500000</td>\n      <td>103.000000</td>\n      <td>68.400000</td>\n      <td>177.575000</td>\n      <td>2.973000</td>\n      <td>15.800000</td>\n      <td>21.000000</td>\n      <td>60.567577</td>\n    </tr>\n    <tr>\n      <th>50%</th>\n      <td>27.609000</td>\n      <td>17.617500</td>\n      <td>23.099500</td>\n      <td>3.000000</td>\n      <td>177.500000</td>\n      <td>107.000000</td>\n      <td>70.550000</td>\n      <td>187.900000</td>\n      <td>3.355000</td>\n      <td>17.200000</td>\n      <td>24.000000</td>\n      <td>72.160636</td>\n    </tr>\n    <tr>\n      <th>75%</th>\n      <td>65.905500</td>\n      <td>18.089731</td>\n      <td>31.938750</td>\n      <td>3.575000</td>\n      <td>215.000000</td>\n      <td>112.200000</td>\n      <td>73.425000</td>\n      <td>196.125000</td>\n      <td>3.788750</td>\n      <td>19.575000</td>\n      <td>26.000000</td>\n      <td>89.623790</td>\n    </tr>\n    <tr>\n      <th>max</th>\n      <td>540.561000</td>\n      <td>67.550000</td>\n      <td>85.500000</td>\n      <td>8.000000</td>\n      <td>450.000000</td>\n      <td>138.700000</td>\n      <td>79.900000</td>\n      <td>224.500000</td>\n      <td>5.572000</td>\n      <td>32.000000</td>\n      <td>45.000000</td>\n      <td>188.144323</td>\n    </tr>\n  </tbody>\n</table>\n</div>",
            "text/plain": "       Sales_in_thousands  _year_resale_value  Price_in_thousands  \\\ncount  151.000000          156.000000          156.000000           \nmean   52.051742           18.063571           27.401071            \nstd    68.907116           10.076941           14.305863            \nmin    0.110000            5.160000            9.235000             \n25%    13.630000           12.527500           18.081250            \n50%    27.609000           17.617500           23.099500            \n75%    65.905500           18.089731           31.938750            \nmax    540.561000          67.550000           85.500000            \n\n       Engine_size  Horsepower   Wheelbase       Width      Length  \\\ncount  156.000000   156.000000  156.000000  156.000000  156.000000   \nmean   3.060897     185.948718  107.487179  71.150000   187.343590   \nstd    1.044653     56.700321   7.641303    3.451872    13.431754    \nmin    1.000000     55.000000   92.600000   62.600000   149.400000   \n25%    2.300000     149.500000  103.000000  68.400000   177.575000   \n50%    3.000000     177.500000  107.000000  70.550000   187.900000   \n75%    3.575000     215.000000  112.200000  73.425000   196.125000   \nmax    8.000000     450.000000  138.700000  79.900000   224.500000   \n\n       Curb_weight  Fuel_capacity  Fuel_efficiency  Power_perf_factor  \ncount  156.000000   156.000000     156.000000       156.000000         \nmean   3.380462     17.951923      23.833333        77.128857          \nstd    0.629200     3.887921       4.256052         25.084045          \nmin    1.895000     10.300000      15.000000        23.276272          \n25%    2.973000     15.800000      21.000000        60.567577          \n50%    3.355000     17.200000      24.000000        72.160636          \n75%    3.788750     19.575000      26.000000        89.623790          \nmax    5.572000     32.000000      45.000000        188.144323         "
          },
          "metadata": {}
        }
      ]
    },
    {
      "metadata": {},
      "cell_type": "markdown",
      "source": "### Q 1. Write a code to understand the total count and percentage of missing values."
    },
    {
      "metadata": {
        "trusted": true
      },
      "cell_type": "code",
      "source": "def lr():\n    total = car.isnull().sum().sort_values(ascending=False)\n    percent = (car.isnull().sum()/car.isnull().count()).sort_values(ascending=False)\n    missing_data = pd.concat([total, percent], axis=1, keys=['Total', 'Percent'])\n    missing_data.head(20)\n    miss = print(missing_data)\n    return miss\nlr()",
      "execution_count": 5,
      "outputs": [
        {
          "output_type": "stream",
          "text": "                    Total   Percent\nSales_in_thousands  5      0.032051\nPower_perf_factor   0      0.000000\nLatest_Launch       0      0.000000\nFuel_efficiency     0      0.000000\nFuel_capacity       0      0.000000\nCurb_weight         0      0.000000\nLength              0      0.000000\nWidth               0      0.000000\nWheelbase           0      0.000000\nHorsepower          0      0.000000\nEngine_size         0      0.000000\nPrice_in_thousands  0      0.000000\nVehicle_type        0      0.000000\n_year_resale_value  0      0.000000\nModel               0      0.000000\nManufacturer        0      0.000000\n",
          "name": "stdout"
        }
      ]
    },
    {
      "metadata": {},
      "cell_type": "markdown",
      "source": "### Q 2. Impute the missing value using \"median\" groupby Manufacturer. "
    },
    {
      "metadata": {
        "trusted": true
      },
      "cell_type": "code",
      "source": "def lr():\n    car[\"Sales_in_thousands\"].fillna(car.groupby(\"Manufacturer\")[\"Sales_in_thousands\"].transform(\"median\"), inplace=True)\n    return\nlr()\nprint (car.isnull().sum())",
      "execution_count": 6,
      "outputs": [
        {
          "output_type": "stream",
          "text": "Manufacturer          0\nModel                 0\nSales_in_thousands    0\n_year_resale_value    0\nVehicle_type          0\nPrice_in_thousands    0\nEngine_size           0\nHorsepower            0\nWheelbase             0\nWidth                 0\nLength                0\nCurb_weight           0\nFuel_capacity         0\nFuel_efficiency       0\nLatest_Launch         0\nPower_perf_factor     0\ndtype: int64\n",
          "name": "stdout"
        }
      ]
    },
    {
      "metadata": {},
      "cell_type": "markdown",
      "source": "### Q 3. Create a dummy variable for \"Vehicle_type\"  and  drop the original variable."
    },
    {
      "metadata": {
        "trusted": true
      },
      "cell_type": "code",
      "source": "car_dummy =pd.DataFrame()                                                           # Creating an empty data frame\ndef lr(car):\n    dummies = pd.get_dummies(car, columns=['Vehicle_type'], drop_first=True)\n    return dummies\ncar_dummy = lr(car)\n# print(car_dummy)\ncar_dummy",
      "execution_count": 7,
      "outputs": [
        {
          "output_type": "execute_result",
          "execution_count": 7,
          "data": {
            "text/html": "<div>\n<style scoped>\n    .dataframe tbody tr th:only-of-type {\n        vertical-align: middle;\n    }\n\n    .dataframe tbody tr th {\n        vertical-align: top;\n    }\n\n    .dataframe thead th {\n        text-align: right;\n    }\n</style>\n<table border=\"1\" class=\"dataframe\">\n  <thead>\n    <tr style=\"text-align: right;\">\n      <th></th>\n      <th>Manufacturer</th>\n      <th>Model</th>\n      <th>Sales_in_thousands</th>\n      <th>_year_resale_value</th>\n      <th>Price_in_thousands</th>\n      <th>Engine_size</th>\n      <th>Horsepower</th>\n      <th>Wheelbase</th>\n      <th>Width</th>\n      <th>Length</th>\n      <th>Curb_weight</th>\n      <th>Fuel_capacity</th>\n      <th>Fuel_efficiency</th>\n      <th>Latest_Launch</th>\n      <th>Power_perf_factor</th>\n      <th>Vehicle_type_Passenger</th>\n    </tr>\n  </thead>\n  <tbody>\n    <tr>\n      <th>0</th>\n      <td>Acura</td>\n      <td>Integra</td>\n      <td>16.919</td>\n      <td>16.360000</td>\n      <td>21.50</td>\n      <td>1.8</td>\n      <td>140</td>\n      <td>101.2</td>\n      <td>67.3</td>\n      <td>172.4</td>\n      <td>2.639</td>\n      <td>13.2</td>\n      <td>28</td>\n      <td>2/2/2012</td>\n      <td>58.280150</td>\n      <td>1</td>\n    </tr>\n    <tr>\n      <th>1</th>\n      <td>Acura</td>\n      <td>TL</td>\n      <td>39.384</td>\n      <td>19.875000</td>\n      <td>28.40</td>\n      <td>3.2</td>\n      <td>225</td>\n      <td>108.1</td>\n      <td>70.3</td>\n      <td>192.9</td>\n      <td>3.517</td>\n      <td>17.2</td>\n      <td>25</td>\n      <td>6/3/2011</td>\n      <td>91.370778</td>\n      <td>1</td>\n    </tr>\n    <tr>\n      <th>2</th>\n      <td>Acura</td>\n      <td>CL</td>\n      <td>14.114</td>\n      <td>18.225000</td>\n      <td>29.00</td>\n      <td>3.2</td>\n      <td>225</td>\n      <td>106.9</td>\n      <td>70.6</td>\n      <td>192.0</td>\n      <td>3.470</td>\n      <td>17.2</td>\n      <td>26</td>\n      <td>1/4/2012</td>\n      <td>90.345000</td>\n      <td>1</td>\n    </tr>\n    <tr>\n      <th>3</th>\n      <td>Acura</td>\n      <td>RL</td>\n      <td>8.588</td>\n      <td>29.725000</td>\n      <td>42.00</td>\n      <td>3.5</td>\n      <td>210</td>\n      <td>114.6</td>\n      <td>71.4</td>\n      <td>196.6</td>\n      <td>3.850</td>\n      <td>18.0</td>\n      <td>22</td>\n      <td>3/10/2011</td>\n      <td>91.389779</td>\n      <td>1</td>\n    </tr>\n    <tr>\n      <th>4</th>\n      <td>Audi</td>\n      <td>A4</td>\n      <td>20.397</td>\n      <td>22.255000</td>\n      <td>23.99</td>\n      <td>1.8</td>\n      <td>150</td>\n      <td>102.6</td>\n      <td>68.2</td>\n      <td>178.0</td>\n      <td>2.998</td>\n      <td>16.4</td>\n      <td>27</td>\n      <td>10/8/2011</td>\n      <td>62.777639</td>\n      <td>1</td>\n    </tr>\n    <tr>\n      <th>...</th>\n      <td>...</td>\n      <td>...</td>\n      <td>...</td>\n      <td>...</td>\n      <td>...</td>\n      <td>...</td>\n      <td>...</td>\n      <td>...</td>\n      <td>...</td>\n      <td>...</td>\n      <td>...</td>\n      <td>...</td>\n      <td>...</td>\n      <td>...</td>\n      <td>...</td>\n      <td>...</td>\n    </tr>\n    <tr>\n      <th>151</th>\n      <td>Volvo</td>\n      <td>V40</td>\n      <td>3.545</td>\n      <td>18.072975</td>\n      <td>24.40</td>\n      <td>1.9</td>\n      <td>160</td>\n      <td>100.5</td>\n      <td>67.6</td>\n      <td>176.6</td>\n      <td>3.042</td>\n      <td>15.8</td>\n      <td>25</td>\n      <td>9/21/2011</td>\n      <td>66.498812</td>\n      <td>1</td>\n    </tr>\n    <tr>\n      <th>152</th>\n      <td>Volvo</td>\n      <td>S70</td>\n      <td>15.245</td>\n      <td>18.072975</td>\n      <td>27.50</td>\n      <td>2.4</td>\n      <td>168</td>\n      <td>104.9</td>\n      <td>69.3</td>\n      <td>185.9</td>\n      <td>3.208</td>\n      <td>17.9</td>\n      <td>25</td>\n      <td>11/24/2012</td>\n      <td>70.654495</td>\n      <td>1</td>\n    </tr>\n    <tr>\n      <th>153</th>\n      <td>Volvo</td>\n      <td>V70</td>\n      <td>17.531</td>\n      <td>18.072975</td>\n      <td>28.80</td>\n      <td>2.4</td>\n      <td>168</td>\n      <td>104.9</td>\n      <td>69.3</td>\n      <td>186.2</td>\n      <td>3.259</td>\n      <td>17.9</td>\n      <td>25</td>\n      <td>6/25/2011</td>\n      <td>71.155978</td>\n      <td>1</td>\n    </tr>\n    <tr>\n      <th>154</th>\n      <td>Volvo</td>\n      <td>C70</td>\n      <td>3.493</td>\n      <td>18.072975</td>\n      <td>45.50</td>\n      <td>2.3</td>\n      <td>236</td>\n      <td>104.9</td>\n      <td>71.5</td>\n      <td>185.7</td>\n      <td>3.601</td>\n      <td>18.5</td>\n      <td>23</td>\n      <td>4/26/2011</td>\n      <td>101.623357</td>\n      <td>1</td>\n    </tr>\n    <tr>\n      <th>155</th>\n      <td>Volvo</td>\n      <td>S80</td>\n      <td>18.969</td>\n      <td>18.072975</td>\n      <td>36.00</td>\n      <td>2.9</td>\n      <td>201</td>\n      <td>109.9</td>\n      <td>72.1</td>\n      <td>189.8</td>\n      <td>3.600</td>\n      <td>21.1</td>\n      <td>24</td>\n      <td>11/14/2011</td>\n      <td>85.735655</td>\n      <td>1</td>\n    </tr>\n  </tbody>\n</table>\n<p>156 rows × 16 columns</p>\n</div>",
            "text/plain": "    Manufacturer    Model  Sales_in_thousands  _year_resale_value  \\\n0    Acura        Integra  16.919              16.360000            \n1    Acura        TL       39.384              19.875000            \n2    Acura        CL       14.114              18.225000            \n3    Acura        RL       8.588               29.725000            \n4    Audi         A4       20.397              22.255000            \n..    ...         ..          ...                    ...            \n151  Volvo        V40      3.545               18.072975            \n152  Volvo        S70      15.245              18.072975            \n153  Volvo        V70      17.531              18.072975            \n154  Volvo        C70      3.493               18.072975            \n155  Volvo        S80      18.969              18.072975            \n\n     Price_in_thousands  Engine_size  Horsepower  Wheelbase  Width  Length  \\\n0    21.50               1.8          140         101.2      67.3   172.4    \n1    28.40               3.2          225         108.1      70.3   192.9    \n2    29.00               3.2          225         106.9      70.6   192.0    \n3    42.00               3.5          210         114.6      71.4   196.6    \n4    23.99               1.8          150         102.6      68.2   178.0    \n..     ...               ...          ...           ...       ...     ...    \n151  24.40               1.9          160         100.5      67.6   176.6    \n152  27.50               2.4          168         104.9      69.3   185.9    \n153  28.80               2.4          168         104.9      69.3   186.2    \n154  45.50               2.3          236         104.9      71.5   185.7    \n155  36.00               2.9          201         109.9      72.1   189.8    \n\n     Curb_weight  Fuel_capacity  Fuel_efficiency Latest_Launch  \\\n0    2.639        13.2           28               2/2/2012       \n1    3.517        17.2           25               6/3/2011       \n2    3.470        17.2           26               1/4/2012       \n3    3.850        18.0           22               3/10/2011      \n4    2.998        16.4           27               10/8/2011      \n..     ...         ...           ..                     ...      \n151  3.042        15.8           25               9/21/2011      \n152  3.208        17.9           25               11/24/2012     \n153  3.259        17.9           25               6/25/2011      \n154  3.601        18.5           23               4/26/2011      \n155  3.600        21.1           24               11/14/2011     \n\n     Power_perf_factor  Vehicle_type_Passenger  \n0    58.280150          1                       \n1    91.370778          1                       \n2    90.345000          1                       \n3    91.389779          1                       \n4    62.777639          1                       \n..         ...         ..                       \n151  66.498812          1                       \n152  70.654495          1                       \n153  71.155978          1                       \n154  101.623357         1                       \n155  85.735655          1                       \n\n[156 rows x 16 columns]"
          },
          "metadata": {}
        }
      ]
    },
    {
      "metadata": {},
      "cell_type": "markdown",
      "source": "### Q 4. Drop the below mentioned variables which will not help in prediction of sales.\n``` ['Manufacturer', 'Model', 'Latest_Launch'] ```"
    },
    {
      "metadata": {
        "trusted": true
      },
      "cell_type": "code",
      "source": "def lr(car_dummy):\n    car_drop = car_dummy.drop(car_dummy[['Manufacturer', 'Model', 'Latest_Launch']], axis=1)\n    return car_drop\ncar_dummy = lr(car_dummy)\n# print (car_dummy)\ncar_dummy",
      "execution_count": 8,
      "outputs": [
        {
          "output_type": "execute_result",
          "execution_count": 8,
          "data": {
            "text/html": "<div>\n<style scoped>\n    .dataframe tbody tr th:only-of-type {\n        vertical-align: middle;\n    }\n\n    .dataframe tbody tr th {\n        vertical-align: top;\n    }\n\n    .dataframe thead th {\n        text-align: right;\n    }\n</style>\n<table border=\"1\" class=\"dataframe\">\n  <thead>\n    <tr style=\"text-align: right;\">\n      <th></th>\n      <th>Sales_in_thousands</th>\n      <th>_year_resale_value</th>\n      <th>Price_in_thousands</th>\n      <th>Engine_size</th>\n      <th>Horsepower</th>\n      <th>Wheelbase</th>\n      <th>Width</th>\n      <th>Length</th>\n      <th>Curb_weight</th>\n      <th>Fuel_capacity</th>\n      <th>Fuel_efficiency</th>\n      <th>Power_perf_factor</th>\n      <th>Vehicle_type_Passenger</th>\n    </tr>\n  </thead>\n  <tbody>\n    <tr>\n      <th>0</th>\n      <td>16.919</td>\n      <td>16.360000</td>\n      <td>21.50</td>\n      <td>1.8</td>\n      <td>140</td>\n      <td>101.2</td>\n      <td>67.3</td>\n      <td>172.4</td>\n      <td>2.639</td>\n      <td>13.2</td>\n      <td>28</td>\n      <td>58.280150</td>\n      <td>1</td>\n    </tr>\n    <tr>\n      <th>1</th>\n      <td>39.384</td>\n      <td>19.875000</td>\n      <td>28.40</td>\n      <td>3.2</td>\n      <td>225</td>\n      <td>108.1</td>\n      <td>70.3</td>\n      <td>192.9</td>\n      <td>3.517</td>\n      <td>17.2</td>\n      <td>25</td>\n      <td>91.370778</td>\n      <td>1</td>\n    </tr>\n    <tr>\n      <th>2</th>\n      <td>14.114</td>\n      <td>18.225000</td>\n      <td>29.00</td>\n      <td>3.2</td>\n      <td>225</td>\n      <td>106.9</td>\n      <td>70.6</td>\n      <td>192.0</td>\n      <td>3.470</td>\n      <td>17.2</td>\n      <td>26</td>\n      <td>90.345000</td>\n      <td>1</td>\n    </tr>\n    <tr>\n      <th>3</th>\n      <td>8.588</td>\n      <td>29.725000</td>\n      <td>42.00</td>\n      <td>3.5</td>\n      <td>210</td>\n      <td>114.6</td>\n      <td>71.4</td>\n      <td>196.6</td>\n      <td>3.850</td>\n      <td>18.0</td>\n      <td>22</td>\n      <td>91.389779</td>\n      <td>1</td>\n    </tr>\n    <tr>\n      <th>4</th>\n      <td>20.397</td>\n      <td>22.255000</td>\n      <td>23.99</td>\n      <td>1.8</td>\n      <td>150</td>\n      <td>102.6</td>\n      <td>68.2</td>\n      <td>178.0</td>\n      <td>2.998</td>\n      <td>16.4</td>\n      <td>27</td>\n      <td>62.777639</td>\n      <td>1</td>\n    </tr>\n    <tr>\n      <th>...</th>\n      <td>...</td>\n      <td>...</td>\n      <td>...</td>\n      <td>...</td>\n      <td>...</td>\n      <td>...</td>\n      <td>...</td>\n      <td>...</td>\n      <td>...</td>\n      <td>...</td>\n      <td>...</td>\n      <td>...</td>\n      <td>...</td>\n    </tr>\n    <tr>\n      <th>151</th>\n      <td>3.545</td>\n      <td>18.072975</td>\n      <td>24.40</td>\n      <td>1.9</td>\n      <td>160</td>\n      <td>100.5</td>\n      <td>67.6</td>\n      <td>176.6</td>\n      <td>3.042</td>\n      <td>15.8</td>\n      <td>25</td>\n      <td>66.498812</td>\n      <td>1</td>\n    </tr>\n    <tr>\n      <th>152</th>\n      <td>15.245</td>\n      <td>18.072975</td>\n      <td>27.50</td>\n      <td>2.4</td>\n      <td>168</td>\n      <td>104.9</td>\n      <td>69.3</td>\n      <td>185.9</td>\n      <td>3.208</td>\n      <td>17.9</td>\n      <td>25</td>\n      <td>70.654495</td>\n      <td>1</td>\n    </tr>\n    <tr>\n      <th>153</th>\n      <td>17.531</td>\n      <td>18.072975</td>\n      <td>28.80</td>\n      <td>2.4</td>\n      <td>168</td>\n      <td>104.9</td>\n      <td>69.3</td>\n      <td>186.2</td>\n      <td>3.259</td>\n      <td>17.9</td>\n      <td>25</td>\n      <td>71.155978</td>\n      <td>1</td>\n    </tr>\n    <tr>\n      <th>154</th>\n      <td>3.493</td>\n      <td>18.072975</td>\n      <td>45.50</td>\n      <td>2.3</td>\n      <td>236</td>\n      <td>104.9</td>\n      <td>71.5</td>\n      <td>185.7</td>\n      <td>3.601</td>\n      <td>18.5</td>\n      <td>23</td>\n      <td>101.623357</td>\n      <td>1</td>\n    </tr>\n    <tr>\n      <th>155</th>\n      <td>18.969</td>\n      <td>18.072975</td>\n      <td>36.00</td>\n      <td>2.9</td>\n      <td>201</td>\n      <td>109.9</td>\n      <td>72.1</td>\n      <td>189.8</td>\n      <td>3.600</td>\n      <td>21.1</td>\n      <td>24</td>\n      <td>85.735655</td>\n      <td>1</td>\n    </tr>\n  </tbody>\n</table>\n<p>156 rows × 13 columns</p>\n</div>",
            "text/plain": "     Sales_in_thousands  _year_resale_value  Price_in_thousands  Engine_size  \\\n0    16.919              16.360000           21.50               1.8           \n1    39.384              19.875000           28.40               3.2           \n2    14.114              18.225000           29.00               3.2           \n3    8.588               29.725000           42.00               3.5           \n4    20.397              22.255000           23.99               1.8           \n..      ...                    ...             ...               ...           \n151  3.545               18.072975           24.40               1.9           \n152  15.245              18.072975           27.50               2.4           \n153  17.531              18.072975           28.80               2.4           \n154  3.493               18.072975           45.50               2.3           \n155  18.969              18.072975           36.00               2.9           \n\n     Horsepower  Wheelbase  Width  Length  Curb_weight  Fuel_capacity  \\\n0    140         101.2      67.3   172.4   2.639        13.2            \n1    225         108.1      70.3   192.9   3.517        17.2            \n2    225         106.9      70.6   192.0   3.470        17.2            \n3    210         114.6      71.4   196.6   3.850        18.0            \n4    150         102.6      68.2   178.0   2.998        16.4            \n..   ...           ...       ...     ...     ...         ...            \n151  160         100.5      67.6   176.6   3.042        15.8            \n152  168         104.9      69.3   185.9   3.208        17.9            \n153  168         104.9      69.3   186.2   3.259        17.9            \n154  236         104.9      71.5   185.7   3.601        18.5            \n155  201         109.9      72.1   189.8   3.600        21.1            \n\n     Fuel_efficiency  Power_perf_factor  Vehicle_type_Passenger  \n0    28               58.280150          1                       \n1    25               91.370778          1                       \n2    26               90.345000          1                       \n3    22               91.389779          1                       \n4    27               62.777639          1                       \n..   ..                     ...         ..                       \n151  25               66.498812          1                       \n152  25               70.654495          1                       \n153  25               71.155978          1                       \n154  23               101.623357         1                       \n155  24               85.735655          1                       \n\n[156 rows x 13 columns]"
          },
          "metadata": {}
        }
      ]
    },
    {
      "metadata": {},
      "cell_type": "markdown",
      "source": "### Check for outliers using Box Plot"
    },
    {
      "metadata": {
        "trusted": true
      },
      "cell_type": "code",
      "source": "def lr():\n    import seaborn as sns\n    sns.boxplot(data=car_dummy, orient=\"h\", palette=\"Set2\")\n    return None \nlr()",
      "execution_count": 9,
      "outputs": [
        {
          "output_type": "display_data",
          "data": {
            "image/png": "[encoded data removed]",
            "text/plain": "<Figure size 432x288 with 1 Axes>"
          },
          "metadata": {}
        }
      ]
    },
    {
      "metadata": {},
      "cell_type": "markdown",
      "source": "### Q 5. Calculate the Inter quantile range and then drop off outliers for quantile values outside 5 to 95 range."
    },
    {
      "metadata": {
        "trusted": true
      },
      "cell_type": "code",
      "source": "def lr(car_dummy):\n    import pandas as pd\n    Q1 = car_dummy.quantile(0.05)\n    Q3 = car_dummy.quantile(0.95)\n    Q_diff = Q3 - Q1\n    car_out = car_dummy[~((car_dummy < (Q1 - Q_diff))|(car_dummy > (Q3 + Q_diff))).any(axis=1)]\n    print(car_dummy[((car_dummy < (Q1 - Q_diff))|(car_dummy > (Q3 + Q_diff))).any(axis=1)])\n    return car_out\ncar_dummy = lr(car_dummy)\n# print (car_dummy)\ncar_dummy",
      "execution_count": 10,
      "outputs": [
        {
          "output_type": "stream",
          "text": "    Sales_in_thousands  _year_resale_value  Price_in_thousands  Engine_size  \\\n38  0.916               58.470              69.725              8.0           \n55  540.561             15.075              26.935              4.6           \n\n    Horsepower  Wheelbase  Width  Length  Curb_weight  Fuel_capacity  \\\n38  450         96.2       75.7   176.7   3.375        19.0            \n55  220         138.5      79.1   224.5   4.241        25.1            \n\n    Fuel_efficiency  Power_perf_factor  Vehicle_type_Passenger  \n38  16               188.144323         1                       \n55  18               89.401935          0                       \n",
          "name": "stdout"
        },
        {
          "output_type": "execute_result",
          "execution_count": 10,
          "data": {
            "text/html": "<div>\n<style scoped>\n    .dataframe tbody tr th:only-of-type {\n        vertical-align: middle;\n    }\n\n    .dataframe tbody tr th {\n        vertical-align: top;\n    }\n\n    .dataframe thead th {\n        text-align: right;\n    }\n</style>\n<table border=\"1\" class=\"dataframe\">\n  <thead>\n    <tr style=\"text-align: right;\">\n      <th></th>\n      <th>Sales_in_thousands</th>\n      <th>_year_resale_value</th>\n      <th>Price_in_thousands</th>\n      <th>Engine_size</th>\n      <th>Horsepower</th>\n      <th>Wheelbase</th>\n      <th>Width</th>\n      <th>Length</th>\n      <th>Curb_weight</th>\n      <th>Fuel_capacity</th>\n      <th>Fuel_efficiency</th>\n      <th>Power_perf_factor</th>\n      <th>Vehicle_type_Passenger</th>\n    </tr>\n  </thead>\n  <tbody>\n    <tr>\n      <th>0</th>\n      <td>16.919</td>\n      <td>16.360000</td>\n      <td>21.50</td>\n      <td>1.8</td>\n      <td>140</td>\n      <td>101.2</td>\n      <td>67.3</td>\n      <td>172.4</td>\n      <td>2.639</td>\n      <td>13.2</td>\n      <td>28</td>\n      <td>58.280150</td>\n      <td>1</td>\n    </tr>\n    <tr>\n      <th>1</th>\n      <td>39.384</td>\n      <td>19.875000</td>\n      <td>28.40</td>\n      <td>3.2</td>\n      <td>225</td>\n      <td>108.1</td>\n      <td>70.3</td>\n      <td>192.9</td>\n      <td>3.517</td>\n      <td>17.2</td>\n      <td>25</td>\n      <td>91.370778</td>\n      <td>1</td>\n    </tr>\n    <tr>\n      <th>2</th>\n      <td>14.114</td>\n      <td>18.225000</td>\n      <td>29.00</td>\n      <td>3.2</td>\n      <td>225</td>\n      <td>106.9</td>\n      <td>70.6</td>\n      <td>192.0</td>\n      <td>3.470</td>\n      <td>17.2</td>\n      <td>26</td>\n      <td>90.345000</td>\n      <td>1</td>\n    </tr>\n    <tr>\n      <th>3</th>\n      <td>8.588</td>\n      <td>29.725000</td>\n      <td>42.00</td>\n      <td>3.5</td>\n      <td>210</td>\n      <td>114.6</td>\n      <td>71.4</td>\n      <td>196.6</td>\n      <td>3.850</td>\n      <td>18.0</td>\n      <td>22</td>\n      <td>91.389779</td>\n      <td>1</td>\n    </tr>\n    <tr>\n      <th>4</th>\n      <td>20.397</td>\n      <td>22.255000</td>\n      <td>23.99</td>\n      <td>1.8</td>\n      <td>150</td>\n      <td>102.6</td>\n      <td>68.2</td>\n      <td>178.0</td>\n      <td>2.998</td>\n      <td>16.4</td>\n      <td>27</td>\n      <td>62.777639</td>\n      <td>1</td>\n    </tr>\n    <tr>\n      <th>...</th>\n      <td>...</td>\n      <td>...</td>\n      <td>...</td>\n      <td>...</td>\n      <td>...</td>\n      <td>...</td>\n      <td>...</td>\n      <td>...</td>\n      <td>...</td>\n      <td>...</td>\n      <td>...</td>\n      <td>...</td>\n      <td>...</td>\n    </tr>\n    <tr>\n      <th>151</th>\n      <td>3.545</td>\n      <td>18.072975</td>\n      <td>24.40</td>\n      <td>1.9</td>\n      <td>160</td>\n      <td>100.5</td>\n      <td>67.6</td>\n      <td>176.6</td>\n      <td>3.042</td>\n      <td>15.8</td>\n      <td>25</td>\n      <td>66.498812</td>\n      <td>1</td>\n    </tr>\n    <tr>\n      <th>152</th>\n      <td>15.245</td>\n      <td>18.072975</td>\n      <td>27.50</td>\n      <td>2.4</td>\n      <td>168</td>\n      <td>104.9</td>\n      <td>69.3</td>\n      <td>185.9</td>\n      <td>3.208</td>\n      <td>17.9</td>\n      <td>25</td>\n      <td>70.654495</td>\n      <td>1</td>\n    </tr>\n    <tr>\n      <th>153</th>\n      <td>17.531</td>\n      <td>18.072975</td>\n      <td>28.80</td>\n      <td>2.4</td>\n      <td>168</td>\n      <td>104.9</td>\n      <td>69.3</td>\n      <td>186.2</td>\n      <td>3.259</td>\n      <td>17.9</td>\n      <td>25</td>\n      <td>71.155978</td>\n      <td>1</td>\n    </tr>\n    <tr>\n      <th>154</th>\n      <td>3.493</td>\n      <td>18.072975</td>\n      <td>45.50</td>\n      <td>2.3</td>\n      <td>236</td>\n      <td>104.9</td>\n      <td>71.5</td>\n      <td>185.7</td>\n      <td>3.601</td>\n      <td>18.5</td>\n      <td>23</td>\n      <td>101.623357</td>\n      <td>1</td>\n    </tr>\n    <tr>\n      <th>155</th>\n      <td>18.969</td>\n      <td>18.072975</td>\n      <td>36.00</td>\n      <td>2.9</td>\n      <td>201</td>\n      <td>109.9</td>\n      <td>72.1</td>\n      <td>189.8</td>\n      <td>3.600</td>\n      <td>21.1</td>\n      <td>24</td>\n      <td>85.735655</td>\n      <td>1</td>\n    </tr>\n  </tbody>\n</table>\n<p>154 rows × 13 columns</p>\n</div>",
            "text/plain": "     Sales_in_thousands  _year_resale_value  Price_in_thousands  Engine_size  \\\n0    16.919              16.360000           21.50               1.8           \n1    39.384              19.875000           28.40               3.2           \n2    14.114              18.225000           29.00               3.2           \n3    8.588               29.725000           42.00               3.5           \n4    20.397              22.255000           23.99               1.8           \n..      ...                    ...             ...               ...           \n151  3.545               18.072975           24.40               1.9           \n152  15.245              18.072975           27.50               2.4           \n153  17.531              18.072975           28.80               2.4           \n154  3.493               18.072975           45.50               2.3           \n155  18.969              18.072975           36.00               2.9           \n\n     Horsepower  Wheelbase  Width  Length  Curb_weight  Fuel_capacity  \\\n0    140         101.2      67.3   172.4   2.639        13.2            \n1    225         108.1      70.3   192.9   3.517        17.2            \n2    225         106.9      70.6   192.0   3.470        17.2            \n3    210         114.6      71.4   196.6   3.850        18.0            \n4    150         102.6      68.2   178.0   2.998        16.4            \n..   ...           ...       ...     ...     ...         ...            \n151  160         100.5      67.6   176.6   3.042        15.8            \n152  168         104.9      69.3   185.9   3.208        17.9            \n153  168         104.9      69.3   186.2   3.259        17.9            \n154  236         104.9      71.5   185.7   3.601        18.5            \n155  201         109.9      72.1   189.8   3.600        21.1            \n\n     Fuel_efficiency  Power_perf_factor  Vehicle_type_Passenger  \n0    28               58.280150          1                       \n1    25               91.370778          1                       \n2    26               90.345000          1                       \n3    22               91.389779          1                       \n4    27               62.777639          1                       \n..   ..                     ...         ..                       \n151  25               66.498812          1                       \n152  25               70.654495          1                       \n153  25               71.155978          1                       \n154  23               101.623357         1                       \n155  24               85.735655          1                       \n\n[154 rows x 13 columns]"
          },
          "metadata": {}
        }
      ]
    },
    {
      "metadata": {},
      "cell_type": "markdown",
      "source": "### Q 6. Write code to standardize the variable for model building (return value will be numpy.ndarray)."
    },
    {
      "metadata": {
        "trusted": true
      },
      "cell_type": "code",
      "source": "std = pd.DataFrame()\ncar_modify = car_dummy.drop(car_dummy[['Sales_in_thousands']], axis=1)\ndef lr(car_modify):\n    from sklearn.preprocessing import StandardScaler\n    scaler = StandardScaler().fit(car_modify)\n    st = scaler.transform(car_modify)\n    return st\nstd = lr(car_modify)\n# print(std[1])\nstd",
      "execution_count": 14,
      "outputs": [
        {
          "output_type": "execute_result",
          "execution_count": 14,
          "data": {
            "text/plain": "array([[-0.15270566, -0.40386698, -1.26877133, ...,  0.97191732,\n        -0.76842508,  0.58234907],\n       [ 0.2147879 ,  0.09116773,  0.18859201, ...,  0.25690808,\n         0.64045582,  0.58234907],\n       [ 0.04228025,  0.13421423,  0.18859201, ...,  0.4952445 ,\n         0.59678186,  0.58234907],\n       ...,\n       [ 0.02638605,  0.11986539, -0.64418704, ...,  0.25690808,\n        -0.22021826,  0.58234907],\n       [ 0.02638605,  1.31799289, -0.74828442, ..., -0.21976475,\n         1.07697408,  0.58234907],\n       [ 0.02638605,  0.63642335, -0.12370014, ...,  0.01857167,\n         0.40053237,  0.58234907]])"
          },
          "metadata": {}
        }
      ]
    },
    {
      "metadata": {},
      "cell_type": "markdown",
      "source": "### Q 7. Write a code to create a DataFrame from the standardized value calculated above"
    },
    {
      "metadata": {},
      "cell_type": "markdown",
      "source": "### Since the standardized value is a numpy array, add the data to a dataframe with column header as mentioned below in the same order\n\n```['_year_resale_value','Price_in_thousands','Engine_size','Horsepower','Wheelbase','Width','Length','Curb_weight','Fuel_capacity','Fuel_efficiency','Power_perf_factor','Vehicle_type_Passenger'] ```"
    },
    {
      "metadata": {
        "trusted": true
      },
      "cell_type": "code",
      "source": "columns = ['_year_resale_value','Price_in_thousands','Engine_size','Horsepower','Wheelbase','Width','Length','Curb_weight','Fuel_capacity','Fuel_efficiency','Power_perf_factor','Vehicle_type_Passenger']\ndef lr(std):\n    cars= pd.DataFrame(std)\n    cars.columns = columns\n    return cars\ncars = lr(std)\ncars",
      "execution_count": 18,
      "outputs": [
        {
          "output_type": "execute_result",
          "execution_count": 18,
          "data": {
            "text/html": "<div>\n<style scoped>\n    .dataframe tbody tr th:only-of-type {\n        vertical-align: middle;\n    }\n\n    .dataframe tbody tr th {\n        vertical-align: top;\n    }\n\n    .dataframe thead th {\n        text-align: right;\n    }\n</style>\n<table border=\"1\" class=\"dataframe\">\n  <thead>\n    <tr style=\"text-align: right;\">\n      <th></th>\n      <th>_year_resale_value</th>\n      <th>Price_in_thousands</th>\n      <th>Engine_size</th>\n      <th>Horsepower</th>\n      <th>Wheelbase</th>\n      <th>Width</th>\n      <th>Length</th>\n      <th>Curb_weight</th>\n      <th>Fuel_capacity</th>\n      <th>Fuel_efficiency</th>\n      <th>Power_perf_factor</th>\n      <th>Vehicle_type_Passenger</th>\n    </tr>\n  </thead>\n  <tbody>\n    <tr>\n      <th>0</th>\n      <td>-0.152706</td>\n      <td>-0.403867</td>\n      <td>-1.268771</td>\n      <td>-0.835991</td>\n      <td>-0.856756</td>\n      <td>-1.114212</td>\n      <td>-1.126791</td>\n      <td>-1.172960</td>\n      <td>-1.218395</td>\n      <td>0.971917</td>\n      <td>-0.768425</td>\n      <td>0.582349</td>\n    </tr>\n    <tr>\n      <th>1</th>\n      <td>0.214788</td>\n      <td>0.091168</td>\n      <td>0.188592</td>\n      <td>0.778515</td>\n      <td>0.103064</td>\n      <td>-0.227296</td>\n      <td>0.436986</td>\n      <td>0.226478</td>\n      <td>-0.181177</td>\n      <td>0.256908</td>\n      <td>0.640456</td>\n      <td>0.582349</td>\n    </tr>\n    <tr>\n      <th>2</th>\n      <td>0.042280</td>\n      <td>0.134214</td>\n      <td>0.188592</td>\n      <td>0.778515</td>\n      <td>-0.063862</td>\n      <td>-0.138605</td>\n      <td>0.368332</td>\n      <td>0.151565</td>\n      <td>-0.181177</td>\n      <td>0.495244</td>\n      <td>0.596782</td>\n      <td>0.582349</td>\n    </tr>\n    <tr>\n      <th>3</th>\n      <td>1.244606</td>\n      <td>1.066888</td>\n      <td>0.500884</td>\n      <td>0.493602</td>\n      <td>1.007242</td>\n      <td>0.097906</td>\n      <td>0.719229</td>\n      <td>0.757244</td>\n      <td>0.026267</td>\n      <td>-0.458101</td>\n      <td>0.641265</td>\n      <td>0.582349</td>\n    </tr>\n    <tr>\n      <th>4</th>\n      <td>0.463617</td>\n      <td>-0.225224</td>\n      <td>-1.268771</td>\n      <td>-0.646049</td>\n      <td>-0.662010</td>\n      <td>-0.848137</td>\n      <td>-0.699613</td>\n      <td>-0.600753</td>\n      <td>-0.388620</td>\n      <td>0.733581</td>\n      <td>-0.576938</td>\n      <td>0.582349</td>\n    </tr>\n    <tr>\n      <th>...</th>\n      <td>...</td>\n      <td>...</td>\n      <td>...</td>\n      <td>...</td>\n      <td>...</td>\n      <td>...</td>\n      <td>...</td>\n      <td>...</td>\n      <td>...</td>\n      <td>...</td>\n      <td>...</td>\n      <td>...</td>\n    </tr>\n    <tr>\n      <th>149</th>\n      <td>0.026386</td>\n      <td>-0.195809</td>\n      <td>-1.164674</td>\n      <td>-0.456107</td>\n      <td>-0.954129</td>\n      <td>-1.025520</td>\n      <td>-0.806408</td>\n      <td>-0.530621</td>\n      <td>-0.544203</td>\n      <td>0.256908</td>\n      <td>-0.418504</td>\n      <td>0.582349</td>\n    </tr>\n    <tr>\n      <th>150</th>\n      <td>0.026386</td>\n      <td>0.026598</td>\n      <td>-0.644187</td>\n      <td>-0.304154</td>\n      <td>-0.342070</td>\n      <td>-0.522935</td>\n      <td>-0.096987</td>\n      <td>-0.266035</td>\n      <td>0.000337</td>\n      <td>0.256908</td>\n      <td>-0.241570</td>\n      <td>0.582349</td>\n    </tr>\n    <tr>\n      <th>151</th>\n      <td>0.026386</td>\n      <td>0.119865</td>\n      <td>-0.644187</td>\n      <td>-0.304154</td>\n      <td>-0.342070</td>\n      <td>-0.522935</td>\n      <td>-0.074102</td>\n      <td>-0.184747</td>\n      <td>0.000337</td>\n      <td>0.256908</td>\n      <td>-0.220218</td>\n      <td>0.582349</td>\n    </tr>\n    <tr>\n      <th>152</th>\n      <td>0.026386</td>\n      <td>1.317993</td>\n      <td>-0.748284</td>\n      <td>0.987451</td>\n      <td>-0.342070</td>\n      <td>0.127470</td>\n      <td>-0.112243</td>\n      <td>0.360365</td>\n      <td>0.155920</td>\n      <td>-0.219765</td>\n      <td>1.076974</td>\n      <td>0.582349</td>\n    </tr>\n    <tr>\n      <th>153</th>\n      <td>0.026386</td>\n      <td>0.636423</td>\n      <td>-0.123700</td>\n      <td>0.322654</td>\n      <td>0.353451</td>\n      <td>0.304853</td>\n      <td>0.200512</td>\n      <td>0.358771</td>\n      <td>0.830112</td>\n      <td>0.018572</td>\n      <td>0.400532</td>\n      <td>0.582349</td>\n    </tr>\n  </tbody>\n</table>\n<p>154 rows × 12 columns</p>\n</div>",
            "text/plain": "     _year_resale_value  Price_in_thousands  Engine_size  Horsepower  \\\n0   -0.152706           -0.403867           -1.268771    -0.835991     \n1    0.214788            0.091168            0.188592     0.778515     \n2    0.042280            0.134214            0.188592     0.778515     \n3    1.244606            1.066888            0.500884     0.493602     \n4    0.463617           -0.225224           -1.268771    -0.646049     \n..        ...                 ...                 ...          ...     \n149  0.026386           -0.195809           -1.164674    -0.456107     \n150  0.026386            0.026598           -0.644187    -0.304154     \n151  0.026386            0.119865           -0.644187    -0.304154     \n152  0.026386            1.317993           -0.748284     0.987451     \n153  0.026386            0.636423           -0.123700     0.322654     \n\n     Wheelbase     Width    Length  Curb_weight  Fuel_capacity  \\\n0   -0.856756  -1.114212 -1.126791 -1.172960    -1.218395        \n1    0.103064  -0.227296  0.436986  0.226478    -0.181177        \n2   -0.063862  -0.138605  0.368332  0.151565    -0.181177        \n3    1.007242   0.097906  0.719229  0.757244     0.026267        \n4   -0.662010  -0.848137 -0.699613 -0.600753    -0.388620        \n..        ...        ...       ...       ...          ...        \n149 -0.954129  -1.025520 -0.806408 -0.530621    -0.544203        \n150 -0.342070  -0.522935 -0.096987 -0.266035     0.000337        \n151 -0.342070  -0.522935 -0.074102 -0.184747     0.000337        \n152 -0.342070   0.127470 -0.112243  0.360365     0.155920        \n153  0.353451   0.304853  0.200512  0.358771     0.830112        \n\n     Fuel_efficiency  Power_perf_factor  Vehicle_type_Passenger  \n0    0.971917        -0.768425           0.582349                \n1    0.256908         0.640456           0.582349                \n2    0.495244         0.596782           0.582349                \n3   -0.458101         0.641265           0.582349                \n4    0.733581        -0.576938           0.582349                \n..        ...              ...                ...                \n149  0.256908        -0.418504           0.582349                \n150  0.256908        -0.241570           0.582349                \n151  0.256908        -0.220218           0.582349                \n152 -0.219765         1.076974           0.582349                \n153  0.018572         0.400532           0.582349                \n\n[154 rows x 12 columns]"
          },
          "metadata": {}
        }
      ]
    },
    {
      "metadata": {},
      "cell_type": "markdown",
      "source": "### Q 8: Now since all variable may not be of use, please extract only the following variables for training. Preparing X (independent features) for the model building.\n\n```['Price_in_thousands','Engine_size','Wheelbase','Fuel_efficiency','Vehicle_type_Passenger']```"
    },
    {
      "metadata": {
        "trusted": true
      },
      "cell_type": "code",
      "source": "X = pd.DataFrame()\nfeature_cols = ['Price_in_thousands','Engine_size','Wheelbase','Fuel_efficiency','Vehicle_type_Passenger']                \ndef lr(cars):\n    X = cars[feature_cols]\n    return X\nX = lr(cars)\nprint(X)",
      "execution_count": 19,
      "outputs": [
        {
          "output_type": "stream",
          "text": "     Price_in_thousands  Engine_size  Wheelbase  Fuel_efficiency  \\\n0   -0.403867           -1.268771    -0.856756   0.971917          \n1    0.091168            0.188592     0.103064   0.256908          \n2    0.134214            0.188592    -0.063862   0.495244          \n3    1.066888            0.500884     1.007242  -0.458101          \n4   -0.225224           -1.268771    -0.662010   0.733581          \n..        ...                 ...          ...        ...          \n149 -0.195809           -1.164674    -0.954129   0.256908          \n150  0.026598           -0.644187    -0.342070   0.256908          \n151  0.119865           -0.644187    -0.342070   0.256908          \n152  1.317993           -0.748284    -0.342070  -0.219765          \n153  0.636423           -0.123700     0.353451   0.018572          \n\n     Vehicle_type_Passenger  \n0    0.582349                \n1    0.582349                \n2    0.582349                \n3    0.582349                \n4    0.582349                \n..        ...                \n149  0.582349                \n150  0.582349                \n151  0.582349                \n152  0.582349                \n153  0.582349                \n\n[154 rows x 5 columns]\n",
          "name": "stdout"
        }
      ]
    },
    {
      "metadata": {},
      "cell_type": "markdown",
      "source": "### Check for the type and shape of X."
    },
    {
      "metadata": {
        "trusted": true
      },
      "cell_type": "code",
      "source": "def lr():\n    print(type(X))\n    print(X.shape)\nlr()",
      "execution_count": 20,
      "outputs": [
        {
          "output_type": "stream",
          "text": "<class 'pandas.core.frame.DataFrame'>\n(154, 5)\n",
          "name": "stdout"
        }
      ]
    },
    {
      "metadata": {},
      "cell_type": "markdown",
      "source": "### Q 9. Extract y (dependent variable) for model building.\n```['Sales_in_thousands']```"
    },
    {
      "metadata": {
        "trusted": true
      },
      "cell_type": "code",
      "source": "y = pd.DataFrame()\ndef lr(car_dummy):\n    y = car_dummy['Sales_in_thousands']\n    return y\ny = lr(car_dummy)\nprint(y.head())",
      "execution_count": 21,
      "outputs": [
        {
          "output_type": "stream",
          "text": "0    16.919\n1    39.384\n2    14.114\n3    8.588 \n4    20.397\nName: Sales_in_thousands, dtype: float64\n",
          "name": "stdout"
        }
      ]
    },
    {
      "metadata": {},
      "cell_type": "markdown",
      "source": "### Check for the type and shape of y. "
    },
    {
      "metadata": {
        "trusted": true
      },
      "cell_type": "code",
      "source": "def lr():\n    print(type(y))\n    print(y.shape)\nlr()",
      "execution_count": 22,
      "outputs": [
        {
          "output_type": "stream",
          "text": "<class 'pandas.core.series.Series'>\n(154,)\n",
          "name": "stdout"
        }
      ]
    },
    {
      "metadata": {},
      "cell_type": "markdown",
      "source": "<a id=section403></a>"
    },
    {
      "metadata": {},
      "cell_type": "markdown",
      "source": "### Q 10. Split the value of X and y into train and test datasets."
    },
    {
      "metadata": {
        "trusted": true
      },
      "cell_type": "code",
      "source": "from sklearn.cross_validation import train_test_split\ndef lr():\n    return train_test_split(X, y, test_size=0.30, random_state=1)\nX_train, X_test, y_train, y_test = lr()",
      "execution_count": 24,
      "outputs": []
    },
    {
      "metadata": {},
      "cell_type": "markdown",
      "source": "### Check the shape of  X and y of train dataset."
    },
    {
      "metadata": {
        "trusted": true
      },
      "cell_type": "code",
      "source": "def lr():\n    print(X_train.shape)\n    print(y_train.shape)\nlr()",
      "execution_count": 25,
      "outputs": [
        {
          "output_type": "stream",
          "text": "(107, 5)\n(107,)\n",
          "name": "stdout"
        }
      ]
    },
    {
      "metadata": {},
      "cell_type": "markdown",
      "source": "### Check the shape of X and y of test dataset."
    },
    {
      "metadata": {
        "trusted": true
      },
      "cell_type": "code",
      "source": "def lr():\n    print(X_test.shape)\n    print(y_test.shape)\nlr()",
      "execution_count": 26,
      "outputs": [
        {
          "output_type": "stream",
          "text": "(47, 5)\n(47,)\n",
          "name": "stdout"
        }
      ]
    },
    {
      "metadata": {},
      "cell_type": "markdown",
      "source": "<a id=section404></a>"
    },
    {
      "metadata": {},
      "cell_type": "markdown",
      "source": "### Q 11. Instantiate Linear regression model using scikit-learn"
    },
    {
      "metadata": {
        "trusted": true
      },
      "cell_type": "code",
      "source": "from sklearn.linear_model import LinearRegression\ndef lr():\n    linreg = LinearRegression()\n    return linreg\nlinreg = lr()",
      "execution_count": 27,
      "outputs": []
    },
    {
      "metadata": {},
      "cell_type": "markdown",
      "source": "### Q12. Fit the linear model on X_train and y_train."
    },
    {
      "metadata": {
        "trusted": true
      },
      "cell_type": "code",
      "source": "def lr():\n    linreg.fit(X_train, y_train)\nlr()",
      "execution_count": 28,
      "outputs": []
    },
    {
      "metadata": {},
      "cell_type": "markdown",
      "source": "<a id=section405></a>"
    },
    {
      "metadata": {},
      "cell_type": "markdown",
      "source": "### Q 13. Interpret the Model Coefficients."
    },
    {
      "metadata": {
        "trusted": true
      },
      "cell_type": "code",
      "source": "def lr():\n    print('Intercept:',linreg.intercept_)                                            \n    print('Coefficients:',linreg.coef_)\nlr()",
      "execution_count": 29,
      "outputs": [
        {
          "output_type": "stream",
          "text": "Intercept: 54.799449887479796\nCoefficients: [-34.31886407  15.72311289  14.44766121   1.85806809  -0.48786904]\n",
          "name": "stdout"
        }
      ]
    },
    {
      "metadata": {},
      "cell_type": "markdown",
      "source": "### Q.14 Zip the features to pair the feature names with the coefficients."
    },
    {
      "metadata": {
        "trusted": true
      },
      "cell_type": "code",
      "source": "def lr():\n    feature_cols.insert(0,'Intercept')\n    coef = linreg.coef_.tolist()\n    coef.insert(0, linreg.intercept_)\n    eq1 = zip(feature_cols, coef)\n    for c1,c2 in eq1:\n        print(c1,c2)\nlr()",
      "execution_count": 30,
      "outputs": [
        {
          "output_type": "stream",
          "text": "Intercept 54.799449887479796\nPrice_in_thousands -34.31886407296335\nEngine_size 15.723112890831636\nWheelbase 14.447661212265665\nFuel_efficiency 1.8580680932809717\nVehicle_type_Passenger -0.4878690445625889\n",
          "name": "stdout"
        }
      ]
    },
    {
      "metadata": {},
      "cell_type": "markdown",
      "source": "###  Q 15. Predict the train value using the built model."
    },
    {
      "metadata": {
        "trusted": true
      },
      "cell_type": "code",
      "source": "y_pred_train = linreg.predict(X_train)\npred= pd.DataFrame(y_pred_train)\ndef lr():  \n    pred.columns = ['Sales']\n    head = pred.head()\n    return head\nlr()",
      "execution_count": 31,
      "outputs": [
        {
          "output_type": "execute_result",
          "execution_count": 31,
          "data": {
            "text/html": "<div>\n<style scoped>\n    .dataframe tbody tr th:only-of-type {\n        vertical-align: middle;\n    }\n\n    .dataframe tbody tr th {\n        vertical-align: top;\n    }\n\n    .dataframe thead th {\n        text-align: right;\n    }\n</style>\n<table border=\"1\" class=\"dataframe\">\n  <thead>\n    <tr style=\"text-align: right;\">\n      <th></th>\n      <th>Sales</th>\n    </tr>\n  </thead>\n  <tbody>\n    <tr>\n      <th>0</th>\n      <td>53.416651</td>\n    </tr>\n    <tr>\n      <th>1</th>\n      <td>68.933147</td>\n    </tr>\n    <tr>\n      <th>2</th>\n      <td>68.246112</td>\n    </tr>\n    <tr>\n      <th>3</th>\n      <td>34.094284</td>\n    </tr>\n    <tr>\n      <th>4</th>\n      <td>68.870887</td>\n    </tr>\n  </tbody>\n</table>\n</div>",
            "text/plain": "       Sales\n0  53.416651\n1  68.933147\n2  68.246112\n3  34.094284\n4  68.870887"
          },
          "metadata": {}
        }
      ]
    },
    {
      "metadata": {},
      "cell_type": "markdown",
      "source": "### Q 16. Predict the test value using the built model."
    },
    {
      "metadata": {
        "trusted": true
      },
      "cell_type": "code",
      "source": "y_pred_test = linreg.predict(X_test)    \npred_test= pd.DataFrame(y_pred_test)\ndef lr():\n    pred_test.columns=['Sales']\n    head = pred_test.head()\n    return head\nlr()",
      "execution_count": 32,
      "outputs": [
        {
          "output_type": "execute_result",
          "execution_count": 32,
          "data": {
            "text/html": "<div>\n<style scoped>\n    .dataframe tbody tr th:only-of-type {\n        vertical-align: middle;\n    }\n\n    .dataframe tbody tr th {\n        vertical-align: top;\n    }\n\n    .dataframe thead th {\n        text-align: right;\n    }\n</style>\n<table border=\"1\" class=\"dataframe\">\n  <thead>\n    <tr style=\"text-align: right;\">\n      <th></th>\n      <th>Sales</th>\n    </tr>\n  </thead>\n  <tbody>\n    <tr>\n      <th>0</th>\n      <td>53.079190</td>\n    </tr>\n    <tr>\n      <th>1</th>\n      <td>68.257593</td>\n    </tr>\n    <tr>\n      <th>2</th>\n      <td>27.775838</td>\n    </tr>\n    <tr>\n      <th>3</th>\n      <td>45.468436</td>\n    </tr>\n    <tr>\n      <th>4</th>\n      <td>66.711264</td>\n    </tr>\n  </tbody>\n</table>\n</div>",
            "text/plain": "       Sales\n0  53.079190\n1  68.257593\n2  27.775838\n3  45.468436\n4  66.711264"
          },
          "metadata": {}
        }
      ]
    },
    {
      "metadata": {},
      "cell_type": "markdown",
      "source": "<a id=section406></a>"
    },
    {
      "metadata": {},
      "cell_type": "markdown",
      "source": "### Q 17 Evaluate the model using Mean Absolute Error metrics for both train and test."
    },
    {
      "metadata": {
        "trusted": true
      },
      "cell_type": "code",
      "source": "from sklearn import metrics\ndef lr():\n    MAE_train = metrics.mean_absolute_error(y_train, y_pred_train)\n    MAE_test = metrics.mean_absolute_error(y_test, y_pred_test)\n    print('MAE for training set is {}'.format(MAE_train))\n    print('MAE for test set is {}'.format(MAE_test))\nlr()",
      "execution_count": 33,
      "outputs": [
        {
          "output_type": "stream",
          "text": "MAE for training set is 40.88098210192519\nMAE for test set is 39.65688149451963\n",
          "name": "stdout"
        }
      ]
    },
    {
      "metadata": {},
      "cell_type": "markdown",
      "source": "### Q 18 Evaluate the model using Mean Squared Error for both train and test."
    },
    {
      "metadata": {
        "trusted": true
      },
      "cell_type": "code",
      "source": "def lr():\n    MSE_train = metrics.mean_squared_error(y_train, y_pred_train)\n    MSE_test = metrics.mean_squared_error(y_test, y_pred_test)\n    print('MSE for training set is {}'.format(MSE_train))\n    print('MSE for test set is {}'.format(MSE_test))\nlr()",
      "execution_count": 34,
      "outputs": [
        {
          "output_type": "stream",
          "text": "MSE for training set is 3458.107513092643\nMSE for test set is 2877.9380668138374\n",
          "name": "stdout"
        }
      ]
    },
    {
      "metadata": {},
      "cell_type": "markdown",
      "source": "### Q 19 Evaluate the model using Root Mean Squared Error for both train and test."
    },
    {
      "metadata": {
        "trusted": true
      },
      "cell_type": "code",
      "source": "import numpy as np\ndef lr():\n    RMSE_train = np.sqrt( metrics.mean_squared_error(y_train, y_pred_train))\n    RMSE_test = np.sqrt(metrics.mean_squared_error(y_test, y_pred_test))\n    print('RMSE for training set is {}'.format(RMSE_train))\n    print('RMSE for test set is {}'.format(RMSE_test))\nlr()",
      "execution_count": 35,
      "outputs": [
        {
          "output_type": "stream",
          "text": "RMSE for training set is 58.80567585780001\nRMSE for test set is 53.646417092046676\n",
          "name": "stdout"
        }
      ]
    },
    {
      "metadata": {},
      "cell_type": "markdown",
      "source": "### Q 20. Evaluate the model using R-square value for both train and test."
    },
    {
      "metadata": {
        "trusted": true
      },
      "cell_type": "code",
      "source": "from sklearn.metrics import r2_score\ndef lr():\n    R2_train = r2_score(y_train, y_pred_train) \n    R2_test = r2_score(y_test, y_pred_test) \n    print('R2 for training set is {}'.format(R2_train))\n    print('R2 for test set is {}'.format(R2_test))\nlr()",
      "execution_count": 36,
      "outputs": [
        {
          "output_type": "stream",
          "text": "R2 for training set is 0.20693342971854856\nR2 for test set is 0.18716596176154165\n",
          "name": "stdout"
        }
      ]
    }
  ],
  "metadata": {
    "kernelspec": {
      "name": "python3",
      "display_name": "Python 3",
      "language": "python"
    },
    "language_info": {
      "mimetype": "text/x-python",
      "nbconvert_exporter": "python",
      "name": "python",
      "pygments_lexer": "ipython3",
      "version": "3.5.4",
      "file_extension": ".py",
      "codemirror_mode": {
        "version": 3,
        "name": "ipython"
      }
    }
  },
  "nbformat": 4,
  "nbformat_minor": 2
}