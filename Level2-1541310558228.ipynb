{
  "cells": [
    {
      "metadata": {},
      "cell_type": "markdown",
      "source": "<img src = 'https://github.com/insaid2018/Term-1/blob/master/Images/INSAID_Full%20Logo.png?raw=true' width=\"240\" height=\"360\">\n# __Assignment: Numpy and Pandas__\n### Level: 2"
    },
    {
      "metadata": {},
      "cell_type": "markdown",
      "source": "### 1. Form a 1D array containing elements from -2(including) to 10(excluding) in arithmetic progression with common difference 1.5 , negate all elements which are between 2 and 7, in place. Print out this new array."
    },
    {
      "metadata": {
        "trusted": true
      },
      "cell_type": "code",
      "source": "import numpy as np\ndef generate():\n    arr=np.arange(-2,10,1.5)\n    print(arr,\"\\n\\n\")\n    arr[(arr>2) & (arr<7)]*=-1\n   \n    print(arr)\n    \ngenerate()",
      "execution_count": 11,
      "outputs": [
        {
          "output_type": "stream",
          "text": "[-2.  -0.5  1.   2.5  4.   5.5  7.   8.5] \n\n\n[-2.  -0.5  1.  -2.5 -4.  -5.5  7.   8.5]\n",
          "name": "stdout"
        }
      ]
    },
    {
      "metadata": {},
      "cell_type": "markdown",
      "source": "### 2. Create random vector of size 7 and replace the maximum value by 2 and minimum by 7. Sort this array in reverse order. Return the modified vector."
    },
    {
      "metadata": {
        "trusted": true
      },
      "cell_type": "code",
      "source": "import numpy as np\ndef generate():\n    vec=np.random.random(7)\n    vec[vec.argmax()]=2\n    vec[vec.argmin()]=7\n    print(vec,\"\\n\\n\")\n    vec=np.array(sorted(vec, reverse=True))\n    print(vec)\n    \n    \ngenerate()",
      "execution_count": 12,
      "outputs": [
        {
          "output_type": "stream",
          "text": "[2.         0.6779754  0.50118359 0.35135453 0.31636772 7.\n 0.46150409] \n\n\n[7.         2.         0.6779754  0.50118359 0.46150409 0.35135453\n 0.31636772]\n",
          "name": "stdout"
        }
      ]
    },
    {
      "metadata": {},
      "cell_type": "markdown",
      "source": "### 3. Convert a random 7x2 matrix representing cartesian coordinates to polar coordinates. Print out both.\nHint: use arctan2()."
    },
    {
      "metadata": {
        "trusted": true
      },
      "cell_type": "code",
      "source": "import numpy as np\ndef generate():\n    matrix = np.random.random((7,2))\n    print(matrix,\"\\n\\n\")\n    row,column = matrix[:,0], matrix[:,1]\n    radial_coordinate = np.sqrt(row**2 + column**2)\n    angular_coordinate = np.arctan2(column, row)\n    print(radial_coordinate,\"\\n\\n\")\n    print(angular_coordinate,\"\\n\\n\")\ngenerate()",
      "execution_count": 13,
      "outputs": [
        {
          "output_type": "stream",
          "text": "[[0.54741651 0.17420238]\n [0.18418174 0.36211933]\n [0.10906252 0.9684323 ]\n [0.93354012 0.64345124]\n [0.01755425 0.66487091]\n [0.10758204 0.79781164]\n [0.54531805 0.83846587]] \n\n\n[0.5744661  0.40626755 0.97455413 1.13381068 0.66510261 0.80503249\n 1.00019837] \n\n\n[0.30809326 1.10027518 1.45865123 0.60348103 1.54439996 1.43675844\n 0.99415685] \n\n\n",
          "name": "stdout"
        }
      ]
    },
    {
      "metadata": {},
      "cell_type": "markdown",
      "source": "### 4. Create an numpy array sequence named num_seq when only the starting point, step size and length of sequence is given."
    },
    {
      "metadata": {
        "trusted": true
      },
      "cell_type": "code",
      "source": "import numpy as np\n\nlength = 15\nstart = 5\nstep = 2\n\ndef generate(start, length, step):\n    end= start+(step*length)\n    num_seq=np.arange(start,end,step)\n    print(num_seq,\"\\n\\n\")\n    print(end)\n    \ngenerate(start, length, step)",
      "execution_count": 14,
      "outputs": [
        {
          "output_type": "stream",
          "text": "[ 5  7  9 11 13 15 17 19 21 23 25 27 29 31 33] \n\n\n35\n",
          "name": "stdout"
        }
      ]
    },
    {
      "metadata": {},
      "cell_type": "markdown",
      "source": "### 5. Make a 3*3 array using a 1d array of evenly spaced numbers ranging from 0 to 9, name it arr1.<br/> \n### Then transpose it to obtain arr2.  From arr2 subtract a 1*3 array with all elements 1 to get arr4.\nHINT: Use reshape and transpose function."
    },
    {
      "metadata": {
        "trusted": true
      },
      "cell_type": "code",
      "source": "import numpy as np\ndef generate():\n    arr=np.arange(0,9)\n    arr1=arr.reshape(3,3)\n    print(arr,\"\\n\\n\")\n    print(arr1,\"\\n\\n\")\n    arr2=arr1.transpose()\n    print(arr2,\"\\n\\n\")\n    arr3=np.ones((1,3),dtype=int)\n    print(arr3,\"\\n\\n\")\n    arr4=arr2-arr3\n    print(arr4)\ngenerate()",
      "execution_count": 15,
      "outputs": [
        {
          "output_type": "stream",
          "text": "[0 1 2 3 4 5 6 7 8] \n\n\n[[0 1 2]\n [3 4 5]\n [6 7 8]] \n\n\n[[0 3 6]\n [1 4 7]\n [2 5 8]] \n\n\n[[1 1 1]] \n\n\n[[-1  2  5]\n [ 0  3  6]\n [ 1  4  7]]\n",
          "name": "stdout"
        }
      ]
    },
    {
      "metadata": {},
      "cell_type": "markdown",
      "source": "### 6. Create a DatetimeIndex that contains each business day of 2016 and use it to index a Series of random numbers. Let's call this Series bus_2k16. Print it out. Hint: use pd.date_range."
    },
    {
      "metadata": {
        "trusted": true
      },
      "cell_type": "code",
      "source": "import pandas as pd\nimport numpy as np\ndef generate():\n    dti=pd.date_range(start='2016-01-01', end='2016-12-31',freq='B')\n    print(dti,\"\\n\\n\")\n    bus_2k16 = pd.Series(np.random.rand(len(dti)), index=dti)\n    print(bus_2k16)\ngenerate()",
      "execution_count": 16,
      "outputs": [
        {
          "output_type": "stream",
          "text": "DatetimeIndex(['2016-01-01', '2016-01-04', '2016-01-05', '2016-01-06',\n               '2016-01-07', '2016-01-08', '2016-01-11', '2016-01-12',\n               '2016-01-13', '2016-01-14',\n               ...\n               '2016-12-19', '2016-12-20', '2016-12-21', '2016-12-22',\n               '2016-12-23', '2016-12-26', '2016-12-27', '2016-12-28',\n               '2016-12-29', '2016-12-30'],\n              dtype='datetime64[ns]', length=261, freq='B') \n\n\n2016-01-01    0.302386\n2016-01-04    0.327043\n2016-01-05    0.667334\n2016-01-06    0.118037\n2016-01-07    0.015654\n                ...   \n2016-12-26    0.407815\n2016-12-27    0.198449\n2016-12-28    0.509171\n2016-12-29    0.282411\n2016-12-30    0.857603\nFreq: B, Length: 261, dtype: float64\n",
          "name": "stdout"
        }
      ]
    },
    {
      "metadata": {},
      "cell_type": "markdown",
      "source": "###  7. For each calendar month in dataframe bus_2k16, from previous problem. Print out the mean of values also find the sum of the values in bus_2k16 for every Sunday."
    },
    {
      "metadata": {
        "trusted": true
      },
      "cell_type": "code",
      "source": "import pandas as pd\ndef generate():\n    dti=pd.date_range(start='2016-01-01', end='2016-12-31',freq='B')\n    print(dti,\"\\n\\n\")\n    bus_2k16 = pd.Series(np.random.rand(len(dti)), index=dti)\n    print(bus_2k16,\"\\n\\n\")\n    print(bus_2k16.resample('M').mean(),\"\\n\\n\")\n    print(bus_2k16[bus_2k16.index.weekday == 0].sum())\n    return None\ngenerate()",
      "execution_count": 17,
      "outputs": [
        {
          "output_type": "stream",
          "text": "DatetimeIndex(['2016-01-01', '2016-01-04', '2016-01-05', '2016-01-06',\n               '2016-01-07', '2016-01-08', '2016-01-11', '2016-01-12',\n               '2016-01-13', '2016-01-14',\n               ...\n               '2016-12-19', '2016-12-20', '2016-12-21', '2016-12-22',\n               '2016-12-23', '2016-12-26', '2016-12-27', '2016-12-28',\n               '2016-12-29', '2016-12-30'],\n              dtype='datetime64[ns]', length=261, freq='B') \n\n\n2016-01-01    0.454910\n2016-01-04    0.536200\n2016-01-05    0.097072\n2016-01-06    0.751816\n2016-01-07    0.819038\n                ...   \n2016-12-26    0.664097\n2016-12-27    0.980035\n2016-12-28    0.945081\n2016-12-29    0.235161\n2016-12-30    0.258297\nFreq: B, Length: 261, dtype: float64 \n\n\n2016-01-31    0.495173\n2016-02-29    0.526648\n2016-03-31    0.490507\n2016-04-30    0.450561\n2016-05-31    0.591266\n2016-06-30    0.490638\n2016-07-31    0.465181\n2016-08-31    0.451174\n2016-09-30    0.613741\n2016-10-31    0.479780\n2016-11-30    0.465768\n2016-12-31    0.430767\nFreq: M, dtype: float64 \n\n\n27.407499616163733\n",
          "name": "stdout"
        }
      ]
    },
    {
      "metadata": {},
      "cell_type": "markdown",
      "source": "### 8.Given the dataframe df, In the From_To column split each string on the underscore delimiter _ to give a new temporary DataFrame with the correct values. Also standardise the strings so that only the first letter is uppercase (e.g. \"londON\" should become \"London\".) Assign the correct column names to this temporary DataFrame named as temp. Return temp."
    },
    {
      "metadata": {
        "trusted": true
      },
      "cell_type": "code",
      "source": "import numpy as np\ndf = pd.DataFrame({'From_To': ['LoNDon_paris', 'MAdrid_miLAN', 'londON_StockhOlm', \n                               'Budapest_PaRis', 'Brussels_londOn'],\n              'FlightNumber': [10045, np.nan, 10065, np.nan, 10085],\n              'RecentDelays': [[23, 47], [], [24, 43, 87], [13], [67, 32]],\n                   'Airline': ['KLM(!)', '<Air France> (12)', '(British Airways. )', \n                               '12. Air France', '\"Swiss Air\"']})\nimport pandas as pd\ndef generate():\n    print(df,\"\\n\\n\")\n    temp=df['From_To'].str.split('_',expand=True)\n    print(temp,\"\\n\\n\")\n    temp.columns=['From','To']\n    print(temp,\"\\n\\n\")\n    temp['From']=temp['From'].str.capitalize()\n    temp['To']=temp['To'].str.capitalize()\n    print(temp)\ngenerate()",
      "execution_count": 18,
      "outputs": [
        {
          "output_type": "stream",
          "text": "               Airline  FlightNumber           From_To  RecentDelays\n0               KLM(!)       10045.0      LoNDon_paris      [23, 47]\n1    <Air France> (12)           NaN      MAdrid_miLAN            []\n2  (British Airways. )       10065.0  londON_StockhOlm  [24, 43, 87]\n3       12. Air France           NaN    Budapest_PaRis          [13]\n4          \"Swiss Air\"       10085.0   Brussels_londOn      [67, 32] \n\n\n          0          1\n0    LoNDon      paris\n1    MAdrid      miLAN\n2    londON  StockhOlm\n3  Budapest      PaRis\n4  Brussels     londOn \n\n\n       From         To\n0    LoNDon      paris\n1    MAdrid      miLAN\n2    londON  StockhOlm\n3  Budapest      PaRis\n4  Brussels     londOn \n\n\n       From         To\n0    London      Paris\n1    Madrid      Milan\n2    London  Stockholm\n3  Budapest      Paris\n4  Brussels     London\n",
          "name": "stdout"
        }
      ]
    },
    {
      "metadata": {},
      "cell_type": "markdown",
      "source": "### 9. Given a dataFrame with 10 columns of real numbers. Find that column's label which has the smallest sum? Also count the number of unique rows the dataframe has. \nHint: use idxmin method."
    },
    {
      "metadata": {
        "trusted": true
      },
      "cell_type": "code",
      "source": "import numpy as np\nimport pandas as pd\ndf = pd.DataFrame(np.random.random(size=(4, 10)), columns=list('qrstuvwxyz'))\nprint(df)\ndef generate():\n    print(df.sum().idxmin())\n    print(len(df) - df.duplicated(keep=False).sum())\n    return None\ngenerate()",
      "execution_count": 19,
      "outputs": [
        {
          "output_type": "stream",
          "text": "          q         r         s         t         u         v         w  \\\n0  0.601286  0.864936  0.861258  0.892401  0.765567  0.659148  0.529881   \n1  0.409503  0.571092  0.457026  0.841796  0.694899  0.062405  0.667870   \n2  0.846386  0.434078  0.374640  0.618378  0.818071  0.589057  0.254823   \n3  0.428209  0.408760  0.842186  0.339212  0.438450  0.703640  0.991469   \n\n          x         y         z  \n0  0.323829  0.880605  0.258430  \n1  0.327612  0.571939  0.890840  \n2  0.274481  0.202263  0.867253  \n3  0.765352  0.996947  0.636836  \nx\n4\n",
          "name": "stdout"
        }
      ]
    },
    {
      "metadata": {},
      "cell_type": "markdown",
      "source": "### 10. Given a dataFrame df with a column 'int' of integers. Print out the dataframe with filtered out rows which contain the same integer as the row immediately above. Also print out the dataframe after subtracting the mean of all integers from each element .\nHint: use drop_duplicates and sub methods"
    },
    {
      "metadata": {
        "trusted": true
      },
      "cell_type": "code",
      "source": "import pandas as pd\ndf = pd.DataFrame({'int': [1, 2, 2, 3, 4, 5, 5, 5, 6, 7, 7]})\ndef generate():\n    print(df.drop_duplicates(subset='int'))\n    print(df.sub(df.mean(axis=0), axis=1))\n    return None\ngenerate()",
      "execution_count": 20,
      "outputs": [
        {
          "output_type": "stream",
          "text": "   int\n0    1\n1    2\n3    3\n4    4\n5    5\n8    6\n9    7\n         int\n0  -3.272727\n1  -2.272727\n2  -2.272727\n3  -1.272727\n4  -0.272727\n5   0.727273\n6   0.727273\n7   0.727273\n8   1.727273\n9   2.727273\n10  2.727273\n",
          "name": "stdout"
        }
      ]
    }
  ],
  "metadata": {
    "kernelspec": {
      "name": "python3",
      "display_name": "Python 3",
      "language": "python"
    },
    "language_info": {
      "mimetype": "text/x-python",
      "nbconvert_exporter": "python",
      "name": "python",
      "file_extension": ".py",
      "version": "3.5.4",
      "pygments_lexer": "ipython3",
      "codemirror_mode": {
        "version": 3,
        "name": "ipython"
      }
    }
  },
  "nbformat": 4,
  "nbformat_minor": 2
}