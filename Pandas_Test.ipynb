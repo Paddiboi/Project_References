{
  "cells": [
    {
      "metadata": {
        "collapsed": true,
        "trusted": false
      },
      "cell_type": "code",
      "source": "import numpy as np\nimport pandas as pd\n\ncountries = ['india','france','england']\ncapitals = ['new delhi','paris','london']\narr=np.array(capitals)\ndiets = {'a':10,'b':20,'c':30,'d':40,'e':50,'f':60,'g':70,'h':80}",
      "execution_count": 1,
      "outputs": []
    },
    {
      "metadata": {
        "trusted": false
      },
      "cell_type": "code",
      "source": "capitals",
      "execution_count": 12,
      "outputs": [
        {
          "data": {
            "text/plain": "['new delhi', 'paris', 'london']"
          },
          "execution_count": 12,
          "metadata": {},
          "output_type": "execute_result"
        }
      ]
    },
    {
      "metadata": {
        "trusted": false
      },
      "cell_type": "code",
      "source": "pd.Series(data=capitals)",
      "execution_count": 13,
      "outputs": [
        {
          "data": {
            "text/plain": "0    new delhi\n1        paris\n2       london\ndtype: object"
          },
          "execution_count": 13,
          "metadata": {},
          "output_type": "execute_result"
        }
      ]
    },
    {
      "metadata": {
        "trusted": false
      },
      "cell_type": "code",
      "source": "pd.Series(data=capitals,name=\"Capital\")",
      "execution_count": 14,
      "outputs": [
        {
          "data": {
            "text/plain": "0    new delhi\n1        paris\n2       london\nName: Capital, dtype: object"
          },
          "execution_count": 14,
          "metadata": {},
          "output_type": "execute_result"
        }
      ]
    },
    {
      "metadata": {
        "trusted": false
      },
      "cell_type": "code",
      "source": "pd.Series(data=counties,name=\"Country\")",
      "execution_count": 15,
      "outputs": [
        {
          "ename": "NameError",
          "evalue": "name 'counties' is not defined",
          "output_type": "error",
          "traceback": [
            "\u001b[1;31m---------------------------------------------------------------------------\u001b[0m",
            "\u001b[1;31mNameError\u001b[0m                                 Traceback (most recent call last)",
            "\u001b[1;32m<ipython-input-15-69890a9cedfe>\u001b[0m in \u001b[0;36m<module>\u001b[1;34m()\u001b[0m\n\u001b[1;32m----> 1\u001b[1;33m \u001b[0mpd\u001b[0m\u001b[1;33m.\u001b[0m\u001b[0mSeries\u001b[0m\u001b[1;33m(\u001b[0m\u001b[0mdata\u001b[0m\u001b[1;33m=\u001b[0m\u001b[0mcounties\u001b[0m\u001b[1;33m,\u001b[0m\u001b[0mname\u001b[0m\u001b[1;33m=\u001b[0m\u001b[1;34m\"Country\"\u001b[0m\u001b[1;33m)\u001b[0m\u001b[1;33m\u001b[0m\u001b[0m\n\u001b[0m",
            "\u001b[1;31mNameError\u001b[0m: name 'counties' is not defined"
          ]
        }
      ]
    },
    {
      "metadata": {
        "trusted": false
      },
      "cell_type": "code",
      "source": "pd.Series(data=capitals,name=\"Capital\",index=countries)",
      "execution_count": 16,
      "outputs": [
        {
          "data": {
            "text/plain": "india      new delhi\nfrance         paris\nengland       london\nName: Capital, dtype: object"
          },
          "execution_count": 16,
          "metadata": {},
          "output_type": "execute_result"
        }
      ]
    },
    {
      "metadata": {
        "trusted": false
      },
      "cell_type": "code",
      "source": "pd.Series(arr)",
      "execution_count": 17,
      "outputs": [
        {
          "data": {
            "text/plain": "0    new delhi\n1        paris\n2       london\ndtype: object"
          },
          "execution_count": 17,
          "metadata": {},
          "output_type": "execute_result"
        }
      ]
    },
    {
      "metadata": {
        "trusted": false
      },
      "cell_type": "code",
      "source": "pd.Series(diets)",
      "execution_count": 18,
      "outputs": [
        {
          "data": {
            "text/plain": "a    10\nb    20\nc    30\nd    40\ne    50\nf    60\ng    70\nh    80\ndtype: int64"
          },
          "execution_count": 18,
          "metadata": {},
          "output_type": "execute_result"
        }
      ]
    },
    {
      "metadata": {
        "trusted": false
      },
      "cell_type": "code",
      "source": "diets['d']  #python syntax",
      "execution_count": 19,
      "outputs": [
        {
          "data": {
            "text/plain": "40"
          },
          "execution_count": 19,
          "metadata": {},
          "output_type": "execute_result"
        }
      ]
    },
    {
      "metadata": {
        "collapsed": true,
        "trusted": false
      },
      "cell_type": "code",
      "source": "my_series = pd.Series(diets)",
      "execution_count": 20,
      "outputs": []
    },
    {
      "metadata": {
        "trusted": false
      },
      "cell_type": "code",
      "source": "my_series.shape",
      "execution_count": 21,
      "outputs": [
        {
          "data": {
            "text/plain": "(8,)"
          },
          "execution_count": 21,
          "metadata": {},
          "output_type": "execute_result"
        }
      ]
    },
    {
      "metadata": {
        "trusted": false
      },
      "cell_type": "code",
      "source": "my_series",
      "execution_count": 22,
      "outputs": [
        {
          "data": {
            "text/plain": "a    10\nb    20\nc    30\nd    40\ne    50\nf    60\ng    70\nh    80\ndtype: int64"
          },
          "execution_count": 22,
          "metadata": {},
          "output_type": "execute_result"
        }
      ]
    },
    {
      "metadata": {
        "trusted": false
      },
      "cell_type": "code",
      "source": "my_series[0]",
      "execution_count": 23,
      "outputs": [
        {
          "data": {
            "text/plain": "10"
          },
          "execution_count": 23,
          "metadata": {},
          "output_type": "execute_result"
        }
      ]
    },
    {
      "metadata": {
        "trusted": false
      },
      "cell_type": "code",
      "source": "my_series['a']",
      "execution_count": 24,
      "outputs": [
        {
          "data": {
            "text/plain": "10"
          },
          "execution_count": 24,
          "metadata": {},
          "output_type": "execute_result"
        }
      ]
    },
    {
      "metadata": {
        "trusted": false
      },
      "cell_type": "code",
      "source": "my_series[0:3]  # python index is exclusive",
      "execution_count": 25,
      "outputs": [
        {
          "data": {
            "text/plain": "a    10\nb    20\nc    30\ndtype: int64"
          },
          "execution_count": 25,
          "metadata": {},
          "output_type": "execute_result"
        }
      ]
    },
    {
      "metadata": {
        "trusted": false
      },
      "cell_type": "code",
      "source": "my_series['a':'c']  #human define index is inclusive",
      "execution_count": 26,
      "outputs": [
        {
          "data": {
            "text/plain": "a    10\nb    20\nc    30\ndtype: int64"
          },
          "execution_count": 26,
          "metadata": {},
          "output_type": "execute_result"
        }
      ]
    },
    {
      "metadata": {
        "trusted": false
      },
      "cell_type": "code",
      "source": "my_series[3:7]",
      "execution_count": 27,
      "outputs": [
        {
          "data": {
            "text/plain": "d    40\ne    50\nf    60\ng    70\ndtype: int64"
          },
          "execution_count": 27,
          "metadata": {},
          "output_type": "execute_result"
        }
      ]
    },
    {
      "metadata": {
        "trusted": false
      },
      "cell_type": "code",
      "source": "my_series['a']",
      "execution_count": 28,
      "outputs": [
        {
          "data": {
            "text/plain": "10"
          },
          "execution_count": 28,
          "metadata": {},
          "output_type": "execute_result"
        }
      ]
    },
    {
      "metadata": {
        "trusted": false
      },
      "cell_type": "code",
      "source": "my_series[['a','c','e']]",
      "execution_count": 29,
      "outputs": [
        {
          "data": {
            "text/plain": "a    10\nc    30\ne    50\ndtype: int64"
          },
          "execution_count": 29,
          "metadata": {},
          "output_type": "execute_result"
        }
      ]
    },
    {
      "metadata": {
        "trusted": false
      },
      "cell_type": "code",
      "source": "my_series+my_series",
      "execution_count": 30,
      "outputs": [
        {
          "data": {
            "text/plain": "a     20\nb     40\nc     60\nd     80\ne    100\nf    120\ng    140\nh    160\ndtype: int64"
          },
          "execution_count": 30,
          "metadata": {},
          "output_type": "execute_result"
        }
      ]
    },
    {
      "metadata": {
        "trusted": false
      },
      "cell_type": "code",
      "source": "my_series*my_series",
      "execution_count": 31,
      "outputs": [
        {
          "data": {
            "text/plain": "a     100\nb     400\nc     900\nd    1600\ne    2500\nf    3600\ng    4900\nh    6400\ndtype: int64"
          },
          "execution_count": 31,
          "metadata": {},
          "output_type": "execute_result"
        }
      ]
    },
    {
      "metadata": {
        "trusted": false
      },
      "cell_type": "code",
      "source": "my_series.max()",
      "execution_count": 32,
      "outputs": [
        {
          "data": {
            "text/plain": "80"
          },
          "execution_count": 32,
          "metadata": {},
          "output_type": "execute_result"
        }
      ]
    },
    {
      "metadata": {
        "trusted": false
      },
      "cell_type": "code",
      "source": "my_series.min()",
      "execution_count": 33,
      "outputs": [
        {
          "data": {
            "text/plain": "10"
          },
          "execution_count": 33,
          "metadata": {},
          "output_type": "execute_result"
        }
      ]
    },
    {
      "metadata": {
        "trusted": false
      },
      "cell_type": "code",
      "source": "my_series.mean()",
      "execution_count": 34,
      "outputs": [
        {
          "data": {
            "text/plain": "45.0"
          },
          "execution_count": 34,
          "metadata": {},
          "output_type": "execute_result"
        }
      ]
    },
    {
      "metadata": {
        "trusted": false
      },
      "cell_type": "code",
      "source": "df=pd.DataFrame()\nprint(df)",
      "execution_count": 35,
      "outputs": [
        {
          "name": "stdout",
          "output_type": "stream",
          "text": "Empty DataFrame\nColumns: []\nIndex: []\n"
        }
      ]
    },
    {
      "metadata": {
        "trusted": false
      },
      "cell_type": "code",
      "source": "fruits = ['Apple','Banana','Coconut','Dates']\nfruits_df=pd.DataFrame(fruits,columns=['Fruit'])\nprint(fruits_df)",
      "execution_count": 36,
      "outputs": [
        {
          "name": "stdout",
          "output_type": "stream",
          "text": "     Fruit\n0    Apple\n1   Banana\n2  Coconut\n3    Dates\n"
        }
      ]
    },
    {
      "metadata": {
        "trusted": false
      },
      "cell_type": "code",
      "source": "people = [['Rick',60,'O+'],[\"Morty\",10,'O+'],['Summer',45,'A-'],['Beth',18,'B+']]\npeople_df=pd.DataFrame(people,columns=[\"Name\",\"Age\",'Blood Group'])\npeople_df",
      "execution_count": 107,
      "outputs": [
        {
          "data": {
            "text/html": "<div>\n<style>\n    .dataframe thead tr:only-child th {\n        text-align: right;\n    }\n\n    .dataframe thead th {\n        text-align: left;\n    }\n\n    .dataframe tbody tr th {\n        vertical-align: top;\n    }\n</style>\n<table border=\"1\" class=\"dataframe\">\n  <thead>\n    <tr style=\"text-align: right;\">\n      <th></th>\n      <th>Name</th>\n      <th>Age</th>\n      <th>Blood Group</th>\n    </tr>\n  </thead>\n  <tbody>\n    <tr>\n      <th>0</th>\n      <td>Rick</td>\n      <td>60</td>\n      <td>O+</td>\n    </tr>\n    <tr>\n      <th>1</th>\n      <td>Morty</td>\n      <td>10</td>\n      <td>O+</td>\n    </tr>\n    <tr>\n      <th>2</th>\n      <td>Summer</td>\n      <td>45</td>\n      <td>A-</td>\n    </tr>\n    <tr>\n      <th>3</th>\n      <td>Beth</td>\n      <td>18</td>\n      <td>B+</td>\n    </tr>\n  </tbody>\n</table>\n</div>",
            "text/plain": "     Name  Age Blood Group\n0    Rick   60          O+\n1   Morty   10          O+\n2  Summer   45          A-\n3    Beth   18          B+"
          },
          "execution_count": 107,
          "metadata": {},
          "output_type": "execute_result"
        }
      ]
    },
    {
      "metadata": {
        "trusted": false
      },
      "cell_type": "code",
      "source": "people={'Name':['Rick','Morty','Summer','Beth'],'Age':[60,10,45,18],'Blood Group':['O+','O+','A-','B+']}\npeople_df=pd.DataFrame(people,columns=['Name','Age','Blood Group'])\npeople_df",
      "execution_count": 38,
      "outputs": [
        {
          "data": {
            "text/html": "<div>\n<style>\n    .dataframe thead tr:only-child th {\n        text-align: right;\n    }\n\n    .dataframe thead th {\n        text-align: left;\n    }\n\n    .dataframe tbody tr th {\n        vertical-align: top;\n    }\n</style>\n<table border=\"1\" class=\"dataframe\">\n  <thead>\n    <tr style=\"text-align: right;\">\n      <th></th>\n      <th>Name</th>\n      <th>Age</th>\n      <th>Blood Group</th>\n    </tr>\n  </thead>\n  <tbody>\n    <tr>\n      <th>0</th>\n      <td>Rick</td>\n      <td>60</td>\n      <td>O+</td>\n    </tr>\n    <tr>\n      <th>1</th>\n      <td>Morty</td>\n      <td>10</td>\n      <td>O+</td>\n    </tr>\n    <tr>\n      <th>2</th>\n      <td>Summer</td>\n      <td>45</td>\n      <td>A-</td>\n    </tr>\n    <tr>\n      <th>3</th>\n      <td>Beth</td>\n      <td>18</td>\n      <td>B+</td>\n    </tr>\n  </tbody>\n</table>\n</div>",
            "text/plain": "     Name  Age Blood Group\n0    Rick   60          O+\n1   Morty   10          O+\n2  Summer   45          A-\n3    Beth   18          B+"
          },
          "execution_count": 38,
          "metadata": {},
          "output_type": "execute_result"
        }
      ]
    },
    {
      "metadata": {
        "trusted": false
      },
      "cell_type": "code",
      "source": "csv_pd=pd.read_csv('https://raw.githubusercontent.com/insaid2018/Term-1/master/Data/Casestudy/supermarkets.csv')\ncsv_pd",
      "execution_count": 39,
      "outputs": [
        {
          "data": {
            "text/html": "<div>\n<style>\n    .dataframe thead tr:only-child th {\n        text-align: right;\n    }\n\n    .dataframe thead th {\n        text-align: left;\n    }\n\n    .dataframe tbody tr th {\n        vertical-align: top;\n    }\n</style>\n<table border=\"1\" class=\"dataframe\">\n  <thead>\n    <tr style=\"text-align: right;\">\n      <th></th>\n      <th>ID</th>\n      <th>Address</th>\n      <th>City</th>\n      <th>State</th>\n      <th>Country</th>\n      <th>Name</th>\n      <th>Employees</th>\n    </tr>\n  </thead>\n  <tbody>\n    <tr>\n      <th>0</th>\n      <td>1</td>\n      <td>3666 21st St</td>\n      <td>San Francisco</td>\n      <td>CA 94114</td>\n      <td>USA</td>\n      <td>Madeira</td>\n      <td>8</td>\n    </tr>\n    <tr>\n      <th>1</th>\n      <td>2</td>\n      <td>735 Dolores St</td>\n      <td>San Francisco</td>\n      <td>CA 94119</td>\n      <td>USA</td>\n      <td>Bready Shop</td>\n      <td>15</td>\n    </tr>\n    <tr>\n      <th>2</th>\n      <td>3</td>\n      <td>332 Hill St</td>\n      <td>San Francisco</td>\n      <td>California 94114</td>\n      <td>USA</td>\n      <td>Super River</td>\n      <td>25</td>\n    </tr>\n    <tr>\n      <th>3</th>\n      <td>4</td>\n      <td>3995 23rd St</td>\n      <td>San Francisco</td>\n      <td>CA 94114</td>\n      <td>USA</td>\n      <td>Ben's Shop</td>\n      <td>10</td>\n    </tr>\n    <tr>\n      <th>4</th>\n      <td>5</td>\n      <td>1056 Sanchez St</td>\n      <td>San Francisco</td>\n      <td>California</td>\n      <td>USA</td>\n      <td>Sanchez</td>\n      <td>12</td>\n    </tr>\n    <tr>\n      <th>5</th>\n      <td>6</td>\n      <td>551 Alvarado St</td>\n      <td>San Francisco</td>\n      <td>CA 94114</td>\n      <td>USA</td>\n      <td>Richvalley</td>\n      <td>20</td>\n    </tr>\n  </tbody>\n</table>\n</div>",
            "text/plain": "   ID          Address           City             State Country         Name  \\\n0   1     3666 21st St  San Francisco          CA 94114     USA      Madeira   \n1   2   735 Dolores St  San Francisco          CA 94119     USA  Bready Shop   \n2   3      332 Hill St  San Francisco  California 94114     USA  Super River   \n3   4     3995 23rd St  San Francisco          CA 94114     USA   Ben's Shop   \n4   5  1056 Sanchez St  San Francisco        California     USA      Sanchez   \n5   6  551 Alvarado St  San Francisco          CA 94114     USA   Richvalley   \n\n   Employees  \n0          8  \n1         15  \n2         25  \n3         10  \n4         12  \n5         20  "
          },
          "execution_count": 39,
          "metadata": {},
          "output_type": "execute_result"
        }
      ]
    },
    {
      "metadata": {
        "scrolled": true,
        "trusted": false
      },
      "cell_type": "code",
      "source": "csv_pd=pd.read_json('https://raw.githubusercontent.com/insaid2018/Term-1/master/Data/Casestudy/supermarkets.json')\ncsv_pd",
      "execution_count": 40,
      "outputs": [
        {
          "data": {
            "text/html": "<div>\n<style>\n    .dataframe thead tr:only-child th {\n        text-align: right;\n    }\n\n    .dataframe thead th {\n        text-align: left;\n    }\n\n    .dataframe tbody tr th {\n        vertical-align: top;\n    }\n</style>\n<table border=\"1\" class=\"dataframe\">\n  <thead>\n    <tr style=\"text-align: right;\">\n      <th></th>\n      <th>Address</th>\n      <th>City</th>\n      <th>Country</th>\n      <th>Employees</th>\n      <th>ID</th>\n      <th>Name</th>\n      <th>State</th>\n    </tr>\n  </thead>\n  <tbody>\n    <tr>\n      <th>0</th>\n      <td>3666 21st St</td>\n      <td>San Francisco</td>\n      <td>USA</td>\n      <td>8</td>\n      <td>1</td>\n      <td>Madeira</td>\n      <td>CA 94114</td>\n    </tr>\n    <tr>\n      <th>1</th>\n      <td>735 Dolores St</td>\n      <td>San Francisco</td>\n      <td>USA</td>\n      <td>15</td>\n      <td>2</td>\n      <td>Bready Shop</td>\n      <td>CA 94119</td>\n    </tr>\n    <tr>\n      <th>2</th>\n      <td>332 Hill St</td>\n      <td>San Francisco</td>\n      <td>USA</td>\n      <td>25</td>\n      <td>3</td>\n      <td>Super River</td>\n      <td>California 94114</td>\n    </tr>\n    <tr>\n      <th>3</th>\n      <td>3995 23rd St</td>\n      <td>San Francisco</td>\n      <td>USA</td>\n      <td>10</td>\n      <td>4</td>\n      <td>Ben's Shop</td>\n      <td>CA 94114</td>\n    </tr>\n    <tr>\n      <th>4</th>\n      <td>1056 Sanchez St</td>\n      <td>San Francisco</td>\n      <td>USA</td>\n      <td>12</td>\n      <td>5</td>\n      <td>Sanchez</td>\n      <td>California</td>\n    </tr>\n    <tr>\n      <th>5</th>\n      <td>551 Alvarado St</td>\n      <td>San Francisco</td>\n      <td>USA</td>\n      <td>20</td>\n      <td>6</td>\n      <td>Richvalley</td>\n      <td>CA 94114</td>\n    </tr>\n  </tbody>\n</table>\n</div>",
            "text/plain": "           Address           City Country  Employees  ID         Name  \\\n0     3666 21st St  San Francisco     USA          8   1      Madeira   \n1   735 Dolores St  San Francisco     USA         15   2  Bready Shop   \n2      332 Hill St  San Francisco     USA         25   3  Super River   \n3     3995 23rd St  San Francisco     USA         10   4   Ben's Shop   \n4  1056 Sanchez St  San Francisco     USA         12   5      Sanchez   \n5  551 Alvarado St  San Francisco     USA         20   6   Richvalley   \n\n              State  \n0          CA 94114  \n1          CA 94119  \n2  California 94114  \n3          CA 94114  \n4        California  \n5          CA 94114  "
          },
          "execution_count": 40,
          "metadata": {},
          "output_type": "execute_result"
        }
      ]
    },
    {
      "metadata": {
        "trusted": false
      },
      "cell_type": "code",
      "source": "csv_pd=pd.read_csv('C:/Users/SP20635/Desktop/Desk/INSAID/module2/supermarkets.csv')\ncsv_pd",
      "execution_count": 41,
      "outputs": [
        {
          "data": {
            "text/html": "<div>\n<style>\n    .dataframe thead tr:only-child th {\n        text-align: right;\n    }\n\n    .dataframe thead th {\n        text-align: left;\n    }\n\n    .dataframe tbody tr th {\n        vertical-align: top;\n    }\n</style>\n<table border=\"1\" class=\"dataframe\">\n  <thead>\n    <tr style=\"text-align: right;\">\n      <th></th>\n      <th>ID</th>\n      <th>Address</th>\n      <th>City</th>\n      <th>State</th>\n      <th>Country</th>\n      <th>Name</th>\n      <th>Employees</th>\n    </tr>\n  </thead>\n  <tbody>\n    <tr>\n      <th>0</th>\n      <td>1</td>\n      <td>3666 21st St</td>\n      <td>San Francisco</td>\n      <td>CA 94114</td>\n      <td>USA</td>\n      <td>Madeira</td>\n      <td>8</td>\n    </tr>\n    <tr>\n      <th>1</th>\n      <td>2</td>\n      <td>735 Dolores St</td>\n      <td>San Francisco</td>\n      <td>CA 94119</td>\n      <td>USA</td>\n      <td>Bready Shop</td>\n      <td>15</td>\n    </tr>\n    <tr>\n      <th>2</th>\n      <td>3</td>\n      <td>332 Hill St</td>\n      <td>San Francisco</td>\n      <td>California 94114</td>\n      <td>USA</td>\n      <td>Super River</td>\n      <td>25</td>\n    </tr>\n    <tr>\n      <th>3</th>\n      <td>4</td>\n      <td>3995 23rd St</td>\n      <td>San Francisco</td>\n      <td>CA 94114</td>\n      <td>USA</td>\n      <td>Ben's Shop</td>\n      <td>10</td>\n    </tr>\n    <tr>\n      <th>4</th>\n      <td>5</td>\n      <td>1056 Sanchez St</td>\n      <td>San Francisco</td>\n      <td>California</td>\n      <td>USA</td>\n      <td>Sanchez</td>\n      <td>12</td>\n    </tr>\n    <tr>\n      <th>5</th>\n      <td>6</td>\n      <td>551 Alvarado St</td>\n      <td>San Francisco</td>\n      <td>CA 94114</td>\n      <td>USA</td>\n      <td>Richvalley</td>\n      <td>20</td>\n    </tr>\n  </tbody>\n</table>\n</div>",
            "text/plain": "   ID          Address           City             State Country         Name  \\\n0   1     3666 21st St  San Francisco          CA 94114     USA      Madeira   \n1   2   735 Dolores St  San Francisco          CA 94119     USA  Bready Shop   \n2   3      332 Hill St  San Francisco  California 94114     USA  Super River   \n3   4     3995 23rd St  San Francisco          CA 94114     USA   Ben's Shop   \n4   5  1056 Sanchez St  San Francisco        California     USA      Sanchez   \n5   6  551 Alvarado St  San Francisco          CA 94114     USA   Richvalley   \n\n   Employees  \n0          8  \n1         15  \n2         25  \n3         10  \n4         12  \n5         20  "
          },
          "execution_count": 41,
          "metadata": {},
          "output_type": "execute_result"
        }
      ]
    },
    {
      "metadata": {
        "trusted": false
      },
      "cell_type": "code",
      "source": "csv_pd=pd.read_csv('C:/Users/SP20635/Desktop/Desk/INSAID/module2/supermarkets.csv',usecols=(\"ID\",\"Address\",\"City\"))\ncsv_pd",
      "execution_count": 42,
      "outputs": [
        {
          "data": {
            "text/html": "<div>\n<style>\n    .dataframe thead tr:only-child th {\n        text-align: right;\n    }\n\n    .dataframe thead th {\n        text-align: left;\n    }\n\n    .dataframe tbody tr th {\n        vertical-align: top;\n    }\n</style>\n<table border=\"1\" class=\"dataframe\">\n  <thead>\n    <tr style=\"text-align: right;\">\n      <th></th>\n      <th>ID</th>\n      <th>Address</th>\n      <th>City</th>\n    </tr>\n  </thead>\n  <tbody>\n    <tr>\n      <th>0</th>\n      <td>1</td>\n      <td>3666 21st St</td>\n      <td>San Francisco</td>\n    </tr>\n    <tr>\n      <th>1</th>\n      <td>2</td>\n      <td>735 Dolores St</td>\n      <td>San Francisco</td>\n    </tr>\n    <tr>\n      <th>2</th>\n      <td>3</td>\n      <td>332 Hill St</td>\n      <td>San Francisco</td>\n    </tr>\n    <tr>\n      <th>3</th>\n      <td>4</td>\n      <td>3995 23rd St</td>\n      <td>San Francisco</td>\n    </tr>\n    <tr>\n      <th>4</th>\n      <td>5</td>\n      <td>1056 Sanchez St</td>\n      <td>San Francisco</td>\n    </tr>\n    <tr>\n      <th>5</th>\n      <td>6</td>\n      <td>551 Alvarado St</td>\n      <td>San Francisco</td>\n    </tr>\n  </tbody>\n</table>\n</div>",
            "text/plain": "   ID          Address           City\n0   1     3666 21st St  San Francisco\n1   2   735 Dolores St  San Francisco\n2   3      332 Hill St  San Francisco\n3   4     3995 23rd St  San Francisco\n4   5  1056 Sanchez St  San Francisco\n5   6  551 Alvarado St  San Francisco"
          },
          "execution_count": 42,
          "metadata": {},
          "output_type": "execute_result"
        }
      ]
    },
    {
      "metadata": {
        "trusted": false
      },
      "cell_type": "code",
      "source": "csv_pd=pd.read_excel('C:/Users/SP20635/Desktop/Desk/INSAID/module2/supermarkets.xlsx',sheet_name=0)\ncsv_pd",
      "execution_count": 33,
      "outputs": [
        {
          "data": {
            "text/html": "<div>\n<style>\n    .dataframe thead tr:only-child th {\n        text-align: right;\n    }\n\n    .dataframe thead th {\n        text-align: left;\n    }\n\n    .dataframe tbody tr th {\n        vertical-align: top;\n    }\n</style>\n<table border=\"1\" class=\"dataframe\">\n  <thead>\n    <tr style=\"text-align: right;\">\n      <th></th>\n      <th>ID</th>\n      <th>Address</th>\n      <th>City</th>\n      <th>State</th>\n      <th>Country</th>\n      <th>Name</th>\n      <th>Employees</th>\n    </tr>\n  </thead>\n  <tbody>\n    <tr>\n      <th>0</th>\n      <td>1</td>\n      <td>3666 21st St</td>\n      <td>San Francisco</td>\n      <td>CA 94114</td>\n      <td>USA</td>\n      <td>Madeira</td>\n      <td>8</td>\n    </tr>\n    <tr>\n      <th>1</th>\n      <td>2</td>\n      <td>735 Dolores St</td>\n      <td>San Francisco</td>\n      <td>CA 94119</td>\n      <td>USA</td>\n      <td>Bready Shop</td>\n      <td>15</td>\n    </tr>\n    <tr>\n      <th>2</th>\n      <td>3</td>\n      <td>332 Hill St</td>\n      <td>San Francisco</td>\n      <td>California 94114</td>\n      <td>USA</td>\n      <td>Super River</td>\n      <td>25</td>\n    </tr>\n    <tr>\n      <th>3</th>\n      <td>4</td>\n      <td>3995 23rd St</td>\n      <td>San Francisco</td>\n      <td>CA 94114</td>\n      <td>USA</td>\n      <td>Ben's Shop</td>\n      <td>10</td>\n    </tr>\n    <tr>\n      <th>4</th>\n      <td>5</td>\n      <td>1056 Sanchez St</td>\n      <td>San Francisco</td>\n      <td>California</td>\n      <td>USA</td>\n      <td>Sanchez</td>\n      <td>12</td>\n    </tr>\n    <tr>\n      <th>5</th>\n      <td>6</td>\n      <td>551 Alvarado St</td>\n      <td>San Francisco</td>\n      <td>CA 94114</td>\n      <td>USA</td>\n      <td>Richvalley</td>\n      <td>20</td>\n    </tr>\n  </tbody>\n</table>\n</div>",
            "text/plain": "   ID          Address           City             State Country         Name  \\\n0   1     3666 21st St  San Francisco          CA 94114     USA      Madeira   \n1   2   735 Dolores St  San Francisco          CA 94119     USA  Bready Shop   \n2   3      332 Hill St  San Francisco  California 94114     USA  Super River   \n3   4     3995 23rd St  San Francisco          CA 94114     USA   Ben's Shop   \n4   5  1056 Sanchez St  San Francisco        California     USA      Sanchez   \n5   6  551 Alvarado St  San Francisco          CA 94114     USA   Richvalley   \n\n   Employees  \n0          8  \n1         15  \n2         25  \n3         10  \n4         12  \n5         20  "
          },
          "execution_count": 33,
          "metadata": {},
          "output_type": "execute_result"
        }
      ]
    },
    {
      "metadata": {
        "trusted": false
      },
      "cell_type": "code",
      "source": "people_df",
      "execution_count": 103,
      "outputs": [
        {
          "ename": "NameError",
          "evalue": "name 'people_df' is not defined",
          "output_type": "error",
          "traceback": [
            "\u001b[1;31m---------------------------------------------------------------------------\u001b[0m",
            "\u001b[1;31mNameError\u001b[0m                                 Traceback (most recent call last)",
            "\u001b[1;32m<ipython-input-103-2ea7f082b805>\u001b[0m in \u001b[0;36m<module>\u001b[1;34m()\u001b[0m\n\u001b[1;32m----> 1\u001b[1;33m \u001b[0mpeople_df\u001b[0m\u001b[1;33m\u001b[0m\u001b[0m\n\u001b[0m",
            "\u001b[1;31mNameError\u001b[0m: name 'people_df' is not defined"
          ]
        }
      ]
    },
    {
      "metadata": {
        "trusted": false
      },
      "cell_type": "code",
      "source": "people_df.shape",
      "execution_count": 45,
      "outputs": [
        {
          "data": {
            "text/plain": "(4, 3)"
          },
          "execution_count": 45,
          "metadata": {},
          "output_type": "execute_result"
        }
      ]
    },
    {
      "metadata": {
        "trusted": false
      },
      "cell_type": "code",
      "source": "print(people_df.dtypes)",
      "execution_count": 46,
      "outputs": [
        {
          "name": "stdout",
          "output_type": "stream",
          "text": "Name           object\nAge             int64\nBlood Group    object\ndtype: object\n"
        }
      ]
    },
    {
      "metadata": {
        "trusted": false
      },
      "cell_type": "code",
      "source": "people_df.info()",
      "execution_count": 47,
      "outputs": [
        {
          "name": "stdout",
          "output_type": "stream",
          "text": "<class 'pandas.core.frame.DataFrame'>\nRangeIndex: 4 entries, 0 to 3\nData columns (total 3 columns):\nName           4 non-null object\nAge            4 non-null int64\nBlood Group    4 non-null object\ndtypes: int64(1), object(2)\nmemory usage: 176.0+ bytes\n"
        }
      ]
    },
    {
      "metadata": {
        "trusted": false
      },
      "cell_type": "code",
      "source": "people_df.count()",
      "execution_count": 48,
      "outputs": [
        {
          "data": {
            "text/plain": "Name           4\nAge            4\nBlood Group    4\ndtype: int64"
          },
          "execution_count": 48,
          "metadata": {},
          "output_type": "execute_result"
        }
      ]
    },
    {
      "metadata": {
        "trusted": false
      },
      "cell_type": "code",
      "source": "people_df.index",
      "execution_count": 49,
      "outputs": [
        {
          "data": {
            "text/plain": "RangeIndex(start=0, stop=4, step=1)"
          },
          "execution_count": 49,
          "metadata": {},
          "output_type": "execute_result"
        }
      ]
    },
    {
      "metadata": {
        "trusted": false
      },
      "cell_type": "code",
      "source": "people_df.columns",
      "execution_count": 50,
      "outputs": [
        {
          "data": {
            "text/plain": "Index(['Name', 'Age', 'Blood Group'], dtype='object')"
          },
          "execution_count": 50,
          "metadata": {},
          "output_type": "execute_result"
        }
      ]
    },
    {
      "metadata": {
        "trusted": false
      },
      "cell_type": "code",
      "source": "people_df",
      "execution_count": 51,
      "outputs": [
        {
          "data": {
            "text/html": "<div>\n<style>\n    .dataframe thead tr:only-child th {\n        text-align: right;\n    }\n\n    .dataframe thead th {\n        text-align: left;\n    }\n\n    .dataframe tbody tr th {\n        vertical-align: top;\n    }\n</style>\n<table border=\"1\" class=\"dataframe\">\n  <thead>\n    <tr style=\"text-align: right;\">\n      <th></th>\n      <th>Name</th>\n      <th>Age</th>\n      <th>Blood Group</th>\n    </tr>\n  </thead>\n  <tbody>\n    <tr>\n      <th>0</th>\n      <td>Rick</td>\n      <td>60</td>\n      <td>O+</td>\n    </tr>\n    <tr>\n      <th>1</th>\n      <td>Morty</td>\n      <td>10</td>\n      <td>O+</td>\n    </tr>\n    <tr>\n      <th>2</th>\n      <td>Summer</td>\n      <td>45</td>\n      <td>A-</td>\n    </tr>\n    <tr>\n      <th>3</th>\n      <td>Beth</td>\n      <td>18</td>\n      <td>B+</td>\n    </tr>\n  </tbody>\n</table>\n</div>",
            "text/plain": "     Name  Age Blood Group\n0    Rick   60          O+\n1   Morty   10          O+\n2  Summer   45          A-\n3    Beth   18          B+"
          },
          "execution_count": 51,
          "metadata": {},
          "output_type": "execute_result"
        }
      ]
    },
    {
      "metadata": {
        "trusted": false
      },
      "cell_type": "code",
      "source": "new_people_df=people_df.set_index('Name')\nnew_people_df",
      "execution_count": 52,
      "outputs": [
        {
          "data": {
            "text/html": "<div>\n<style>\n    .dataframe thead tr:only-child th {\n        text-align: right;\n    }\n\n    .dataframe thead th {\n        text-align: left;\n    }\n\n    .dataframe tbody tr th {\n        vertical-align: top;\n    }\n</style>\n<table border=\"1\" class=\"dataframe\">\n  <thead>\n    <tr style=\"text-align: right;\">\n      <th></th>\n      <th>Age</th>\n      <th>Blood Group</th>\n    </tr>\n    <tr>\n      <th>Name</th>\n      <th></th>\n      <th></th>\n    </tr>\n  </thead>\n  <tbody>\n    <tr>\n      <th>Rick</th>\n      <td>60</td>\n      <td>O+</td>\n    </tr>\n    <tr>\n      <th>Morty</th>\n      <td>10</td>\n      <td>O+</td>\n    </tr>\n    <tr>\n      <th>Summer</th>\n      <td>45</td>\n      <td>A-</td>\n    </tr>\n    <tr>\n      <th>Beth</th>\n      <td>18</td>\n      <td>B+</td>\n    </tr>\n  </tbody>\n</table>\n</div>",
            "text/plain": "        Age Blood Group\nName                   \nRick     60          O+\nMorty    10          O+\nSummer   45          A-\nBeth     18          B+"
          },
          "execution_count": 52,
          "metadata": {},
          "output_type": "execute_result"
        }
      ]
    },
    {
      "metadata": {
        "trusted": false
      },
      "cell_type": "code",
      "source": "new_people_df.shape",
      "execution_count": 53,
      "outputs": [
        {
          "data": {
            "text/plain": "(4, 2)"
          },
          "execution_count": 53,
          "metadata": {},
          "output_type": "execute_result"
        }
      ]
    },
    {
      "metadata": {
        "trusted": false
      },
      "cell_type": "code",
      "source": "people_df.shape",
      "execution_count": 54,
      "outputs": [
        {
          "data": {
            "text/plain": "(4, 3)"
          },
          "execution_count": 54,
          "metadata": {},
          "output_type": "execute_result"
        }
      ]
    },
    {
      "metadata": {
        "trusted": false
      },
      "cell_type": "code",
      "source": "people_df",
      "execution_count": 55,
      "outputs": [
        {
          "data": {
            "text/html": "<div>\n<style>\n    .dataframe thead tr:only-child th {\n        text-align: right;\n    }\n\n    .dataframe thead th {\n        text-align: left;\n    }\n\n    .dataframe tbody tr th {\n        vertical-align: top;\n    }\n</style>\n<table border=\"1\" class=\"dataframe\">\n  <thead>\n    <tr style=\"text-align: right;\">\n      <th></th>\n      <th>Name</th>\n      <th>Age</th>\n      <th>Blood Group</th>\n    </tr>\n  </thead>\n  <tbody>\n    <tr>\n      <th>0</th>\n      <td>Rick</td>\n      <td>60</td>\n      <td>O+</td>\n    </tr>\n    <tr>\n      <th>1</th>\n      <td>Morty</td>\n      <td>10</td>\n      <td>O+</td>\n    </tr>\n    <tr>\n      <th>2</th>\n      <td>Summer</td>\n      <td>45</td>\n      <td>A-</td>\n    </tr>\n    <tr>\n      <th>3</th>\n      <td>Beth</td>\n      <td>18</td>\n      <td>B+</td>\n    </tr>\n  </tbody>\n</table>\n</div>",
            "text/plain": "     Name  Age Blood Group\n0    Rick   60          O+\n1   Morty   10          O+\n2  Summer   45          A-\n3    Beth   18          B+"
          },
          "execution_count": 55,
          "metadata": {},
          "output_type": "execute_result"
        }
      ]
    },
    {
      "metadata": {
        "trusted": false
      },
      "cell_type": "code",
      "source": "people_df['Age']",
      "execution_count": 56,
      "outputs": [
        {
          "data": {
            "text/plain": "0    60\n1    10\n2    45\n3    18\nName: Age, dtype: int64"
          },
          "execution_count": 56,
          "metadata": {},
          "output_type": "execute_result"
        }
      ]
    },
    {
      "metadata": {
        "trusted": false
      },
      "cell_type": "code",
      "source": "people_df.Age",
      "execution_count": 57,
      "outputs": [
        {
          "data": {
            "text/plain": "0    60\n1    10\n2    45\n3    18\nName: Age, dtype: int64"
          },
          "execution_count": 57,
          "metadata": {},
          "output_type": "execute_result"
        }
      ]
    },
    {
      "metadata": {
        "trusted": false
      },
      "cell_type": "code",
      "source": "people_df[['Name','Blood Group']]",
      "execution_count": 58,
      "outputs": [
        {
          "data": {
            "text/html": "<div>\n<style>\n    .dataframe thead tr:only-child th {\n        text-align: right;\n    }\n\n    .dataframe thead th {\n        text-align: left;\n    }\n\n    .dataframe tbody tr th {\n        vertical-align: top;\n    }\n</style>\n<table border=\"1\" class=\"dataframe\">\n  <thead>\n    <tr style=\"text-align: right;\">\n      <th></th>\n      <th>Name</th>\n      <th>Blood Group</th>\n    </tr>\n  </thead>\n  <tbody>\n    <tr>\n      <th>0</th>\n      <td>Rick</td>\n      <td>O+</td>\n    </tr>\n    <tr>\n      <th>1</th>\n      <td>Morty</td>\n      <td>O+</td>\n    </tr>\n    <tr>\n      <th>2</th>\n      <td>Summer</td>\n      <td>A-</td>\n    </tr>\n    <tr>\n      <th>3</th>\n      <td>Beth</td>\n      <td>B+</td>\n    </tr>\n  </tbody>\n</table>\n</div>",
            "text/plain": "     Name Blood Group\n0    Rick          O+\n1   Morty          O+\n2  Summer          A-\n3    Beth          B+"
          },
          "execution_count": 58,
          "metadata": {},
          "output_type": "execute_result"
        }
      ]
    },
    {
      "metadata": {
        "trusted": false
      },
      "cell_type": "code",
      "source": "people_df['Score']=[10,15,2,35]\npeople_df",
      "execution_count": 108,
      "outputs": [
        {
          "data": {
            "text/html": "<div>\n<style>\n    .dataframe thead tr:only-child th {\n        text-align: right;\n    }\n\n    .dataframe thead th {\n        text-align: left;\n    }\n\n    .dataframe tbody tr th {\n        vertical-align: top;\n    }\n</style>\n<table border=\"1\" class=\"dataframe\">\n  <thead>\n    <tr style=\"text-align: right;\">\n      <th></th>\n      <th>Name</th>\n      <th>Age</th>\n      <th>Blood Group</th>\n      <th>Score</th>\n    </tr>\n  </thead>\n  <tbody>\n    <tr>\n      <th>0</th>\n      <td>Rick</td>\n      <td>60</td>\n      <td>O+</td>\n      <td>10</td>\n    </tr>\n    <tr>\n      <th>1</th>\n      <td>Morty</td>\n      <td>10</td>\n      <td>O+</td>\n      <td>15</td>\n    </tr>\n    <tr>\n      <th>2</th>\n      <td>Summer</td>\n      <td>45</td>\n      <td>A-</td>\n      <td>2</td>\n    </tr>\n    <tr>\n      <th>3</th>\n      <td>Beth</td>\n      <td>18</td>\n      <td>B+</td>\n      <td>35</td>\n    </tr>\n  </tbody>\n</table>\n</div>",
            "text/plain": "     Name  Age Blood Group  Score\n0    Rick   60          O+     10\n1   Morty   10          O+     15\n2  Summer   45          A-      2\n3    Beth   18          B+     35"
          },
          "execution_count": 108,
          "metadata": {},
          "output_type": "execute_result"
        }
      ]
    },
    {
      "metadata": {
        "trusted": false
      },
      "cell_type": "code",
      "source": "print(people_df)",
      "execution_count": 60,
      "outputs": [
        {
          "name": "stdout",
          "output_type": "stream",
          "text": "     Name  Age Blood Group  Score\n0    Rick   60          O+     10\n1   Morty   10          O+     15\n2  Summer   45          A-      2\n3    Beth   18          B+     35\n"
        }
      ]
    },
    {
      "metadata": {
        "trusted": false
      },
      "cell_type": "code",
      "source": "people_df['S+']=people_df['Age']+people_df['Score']\npeople_df",
      "execution_count": 61,
      "outputs": [
        {
          "data": {
            "text/html": "<div>\n<style>\n    .dataframe thead tr:only-child th {\n        text-align: right;\n    }\n\n    .dataframe thead th {\n        text-align: left;\n    }\n\n    .dataframe tbody tr th {\n        vertical-align: top;\n    }\n</style>\n<table border=\"1\" class=\"dataframe\">\n  <thead>\n    <tr style=\"text-align: right;\">\n      <th></th>\n      <th>Name</th>\n      <th>Age</th>\n      <th>Blood Group</th>\n      <th>Score</th>\n      <th>S+</th>\n    </tr>\n  </thead>\n  <tbody>\n    <tr>\n      <th>0</th>\n      <td>Rick</td>\n      <td>60</td>\n      <td>O+</td>\n      <td>10</td>\n      <td>70</td>\n    </tr>\n    <tr>\n      <th>1</th>\n      <td>Morty</td>\n      <td>10</td>\n      <td>O+</td>\n      <td>15</td>\n      <td>25</td>\n    </tr>\n    <tr>\n      <th>2</th>\n      <td>Summer</td>\n      <td>45</td>\n      <td>A-</td>\n      <td>2</td>\n      <td>47</td>\n    </tr>\n    <tr>\n      <th>3</th>\n      <td>Beth</td>\n      <td>18</td>\n      <td>B+</td>\n      <td>35</td>\n      <td>53</td>\n    </tr>\n  </tbody>\n</table>\n</div>",
            "text/plain": "     Name  Age Blood Group  Score  S+\n0    Rick   60          O+     10  70\n1   Morty   10          O+     15  25\n2  Summer   45          A-      2  47\n3    Beth   18          B+     35  53"
          },
          "execution_count": 61,
          "metadata": {},
          "output_type": "execute_result"
        }
      ]
    },
    {
      "metadata": {
        "trusted": false
      },
      "cell_type": "code",
      "source": "people_df.head(2)",
      "execution_count": 62,
      "outputs": [
        {
          "data": {
            "text/html": "<div>\n<style>\n    .dataframe thead tr:only-child th {\n        text-align: right;\n    }\n\n    .dataframe thead th {\n        text-align: left;\n    }\n\n    .dataframe tbody tr th {\n        vertical-align: top;\n    }\n</style>\n<table border=\"1\" class=\"dataframe\">\n  <thead>\n    <tr style=\"text-align: right;\">\n      <th></th>\n      <th>Name</th>\n      <th>Age</th>\n      <th>Blood Group</th>\n      <th>Score</th>\n      <th>S+</th>\n    </tr>\n  </thead>\n  <tbody>\n    <tr>\n      <th>0</th>\n      <td>Rick</td>\n      <td>60</td>\n      <td>O+</td>\n      <td>10</td>\n      <td>70</td>\n    </tr>\n    <tr>\n      <th>1</th>\n      <td>Morty</td>\n      <td>10</td>\n      <td>O+</td>\n      <td>15</td>\n      <td>25</td>\n    </tr>\n  </tbody>\n</table>\n</div>",
            "text/plain": "    Name  Age Blood Group  Score  S+\n0   Rick   60          O+     10  70\n1  Morty   10          O+     15  25"
          },
          "execution_count": 62,
          "metadata": {},
          "output_type": "execute_result"
        }
      ]
    },
    {
      "metadata": {
        "trusted": false
      },
      "cell_type": "code",
      "source": "people_df.tail(2)",
      "execution_count": 63,
      "outputs": [
        {
          "data": {
            "text/html": "<div>\n<style>\n    .dataframe thead tr:only-child th {\n        text-align: right;\n    }\n\n    .dataframe thead th {\n        text-align: left;\n    }\n\n    .dataframe tbody tr th {\n        vertical-align: top;\n    }\n</style>\n<table border=\"1\" class=\"dataframe\">\n  <thead>\n    <tr style=\"text-align: right;\">\n      <th></th>\n      <th>Name</th>\n      <th>Age</th>\n      <th>Blood Group</th>\n      <th>Score</th>\n      <th>S+</th>\n    </tr>\n  </thead>\n  <tbody>\n    <tr>\n      <th>2</th>\n      <td>Summer</td>\n      <td>45</td>\n      <td>A-</td>\n      <td>2</td>\n      <td>47</td>\n    </tr>\n    <tr>\n      <th>3</th>\n      <td>Beth</td>\n      <td>18</td>\n      <td>B+</td>\n      <td>35</td>\n      <td>53</td>\n    </tr>\n  </tbody>\n</table>\n</div>",
            "text/plain": "     Name  Age Blood Group  Score  S+\n2  Summer   45          A-      2  47\n3    Beth   18          B+     35  53"
          },
          "execution_count": 63,
          "metadata": {},
          "output_type": "execute_result"
        }
      ]
    },
    {
      "metadata": {
        "trusted": false
      },
      "cell_type": "code",
      "source": "import pprint\npp = pprint.PrettyPrinter()\npp.pprint(people_df)",
      "execution_count": 64,
      "outputs": [
        {
          "name": "stdout",
          "output_type": "stream",
          "text": "     Name  Age Blood Group  Score  S+\n0    Rick   60          O+     10  70\n1   Morty   10          O+     15  25\n2  Summer   45          A-      2  47\n3    Beth   18          B+     35  53\n"
        }
      ]
    },
    {
      "metadata": {
        "trusted": false
      },
      "cell_type": "code",
      "source": "from IPython.display import display\ndisplay(people_df)",
      "execution_count": 65,
      "outputs": [
        {
          "data": {
            "text/html": "<div>\n<style>\n    .dataframe thead tr:only-child th {\n        text-align: right;\n    }\n\n    .dataframe thead th {\n        text-align: left;\n    }\n\n    .dataframe tbody tr th {\n        vertical-align: top;\n    }\n</style>\n<table border=\"1\" class=\"dataframe\">\n  <thead>\n    <tr style=\"text-align: right;\">\n      <th></th>\n      <th>Name</th>\n      <th>Age</th>\n      <th>Blood Group</th>\n      <th>Score</th>\n      <th>S+</th>\n    </tr>\n  </thead>\n  <tbody>\n    <tr>\n      <th>0</th>\n      <td>Rick</td>\n      <td>60</td>\n      <td>O+</td>\n      <td>10</td>\n      <td>70</td>\n    </tr>\n    <tr>\n      <th>1</th>\n      <td>Morty</td>\n      <td>10</td>\n      <td>O+</td>\n      <td>15</td>\n      <td>25</td>\n    </tr>\n    <tr>\n      <th>2</th>\n      <td>Summer</td>\n      <td>45</td>\n      <td>A-</td>\n      <td>2</td>\n      <td>47</td>\n    </tr>\n    <tr>\n      <th>3</th>\n      <td>Beth</td>\n      <td>18</td>\n      <td>B+</td>\n      <td>35</td>\n      <td>53</td>\n    </tr>\n  </tbody>\n</table>\n</div>",
            "text/plain": "     Name  Age Blood Group  Score  S+\n0    Rick   60          O+     10  70\n1   Morty   10          O+     15  25\n2  Summer   45          A-      2  47\n3    Beth   18          B+     35  53"
          },
          "metadata": {},
          "output_type": "display_data"
        }
      ]
    },
    {
      "metadata": {
        "trusted": false
      },
      "cell_type": "code",
      "source": "people_dfb = people_df[['Name','Score','Blood Group','Age']]\npeople_dfb",
      "execution_count": 66,
      "outputs": [
        {
          "data": {
            "text/html": "<div>\n<style>\n    .dataframe thead tr:only-child th {\n        text-align: right;\n    }\n\n    .dataframe thead th {\n        text-align: left;\n    }\n\n    .dataframe tbody tr th {\n        vertical-align: top;\n    }\n</style>\n<table border=\"1\" class=\"dataframe\">\n  <thead>\n    <tr style=\"text-align: right;\">\n      <th></th>\n      <th>Name</th>\n      <th>Score</th>\n      <th>Blood Group</th>\n      <th>Age</th>\n    </tr>\n  </thead>\n  <tbody>\n    <tr>\n      <th>0</th>\n      <td>Rick</td>\n      <td>10</td>\n      <td>O+</td>\n      <td>60</td>\n    </tr>\n    <tr>\n      <th>1</th>\n      <td>Morty</td>\n      <td>15</td>\n      <td>O+</td>\n      <td>10</td>\n    </tr>\n    <tr>\n      <th>2</th>\n      <td>Summer</td>\n      <td>2</td>\n      <td>A-</td>\n      <td>45</td>\n    </tr>\n    <tr>\n      <th>3</th>\n      <td>Beth</td>\n      <td>35</td>\n      <td>B+</td>\n      <td>18</td>\n    </tr>\n  </tbody>\n</table>\n</div>",
            "text/plain": "     Name  Score Blood Group  Age\n0    Rick     10          O+   60\n1   Morty     15          O+   10\n2  Summer      2          A-   45\n3    Beth     35          B+   18"
          },
          "execution_count": 66,
          "metadata": {},
          "output_type": "execute_result"
        }
      ]
    },
    {
      "metadata": {
        "trusted": false
      },
      "cell_type": "code",
      "source": "people_df",
      "execution_count": 67,
      "outputs": [
        {
          "data": {
            "text/html": "<div>\n<style>\n    .dataframe thead tr:only-child th {\n        text-align: right;\n    }\n\n    .dataframe thead th {\n        text-align: left;\n    }\n\n    .dataframe tbody tr th {\n        vertical-align: top;\n    }\n</style>\n<table border=\"1\" class=\"dataframe\">\n  <thead>\n    <tr style=\"text-align: right;\">\n      <th></th>\n      <th>Name</th>\n      <th>Age</th>\n      <th>Blood Group</th>\n      <th>Score</th>\n      <th>S+</th>\n    </tr>\n  </thead>\n  <tbody>\n    <tr>\n      <th>0</th>\n      <td>Rick</td>\n      <td>60</td>\n      <td>O+</td>\n      <td>10</td>\n      <td>70</td>\n    </tr>\n    <tr>\n      <th>1</th>\n      <td>Morty</td>\n      <td>10</td>\n      <td>O+</td>\n      <td>15</td>\n      <td>25</td>\n    </tr>\n    <tr>\n      <th>2</th>\n      <td>Summer</td>\n      <td>45</td>\n      <td>A-</td>\n      <td>2</td>\n      <td>47</td>\n    </tr>\n    <tr>\n      <th>3</th>\n      <td>Beth</td>\n      <td>18</td>\n      <td>B+</td>\n      <td>35</td>\n      <td>53</td>\n    </tr>\n  </tbody>\n</table>\n</div>",
            "text/plain": "     Name  Age Blood Group  Score  S+\n0    Rick   60          O+     10  70\n1   Morty   10          O+     15  25\n2  Summer   45          A-      2  47\n3    Beth   18          B+     35  53"
          },
          "execution_count": 67,
          "metadata": {},
          "output_type": "execute_result"
        }
      ]
    },
    {
      "metadata": {
        "trusted": false
      },
      "cell_type": "code",
      "source": "people_df['Blood Group'].str[-1:]",
      "execution_count": 68,
      "outputs": [
        {
          "data": {
            "text/plain": "0    +\n1    +\n2    -\n3    +\nName: Blood Group, dtype: object"
          },
          "execution_count": 68,
          "metadata": {},
          "output_type": "execute_result"
        }
      ]
    },
    {
      "metadata": {
        "trusted": false
      },
      "cell_type": "code",
      "source": "type(people_df['Blood Group'])",
      "execution_count": 69,
      "outputs": [
        {
          "data": {
            "text/plain": "pandas.core.series.Series"
          },
          "execution_count": 69,
          "metadata": {},
          "output_type": "execute_result"
        }
      ]
    },
    {
      "metadata": {
        "trusted": false
      },
      "cell_type": "code",
      "source": "people_df['Primary Blood Group']=people_df['Blood Group'].str[:-1]\npeople_df['Sign']=people_df['Blood Group'].str[-1:]\npeople_df",
      "execution_count": 70,
      "outputs": [
        {
          "data": {
            "text/html": "<div>\n<style>\n    .dataframe thead tr:only-child th {\n        text-align: right;\n    }\n\n    .dataframe thead th {\n        text-align: left;\n    }\n\n    .dataframe tbody tr th {\n        vertical-align: top;\n    }\n</style>\n<table border=\"1\" class=\"dataframe\">\n  <thead>\n    <tr style=\"text-align: right;\">\n      <th></th>\n      <th>Name</th>\n      <th>Age</th>\n      <th>Blood Group</th>\n      <th>Score</th>\n      <th>S+</th>\n      <th>Primary Blood Group</th>\n      <th>Sign</th>\n    </tr>\n  </thead>\n  <tbody>\n    <tr>\n      <th>0</th>\n      <td>Rick</td>\n      <td>60</td>\n      <td>O+</td>\n      <td>10</td>\n      <td>70</td>\n      <td>O</td>\n      <td>+</td>\n    </tr>\n    <tr>\n      <th>1</th>\n      <td>Morty</td>\n      <td>10</td>\n      <td>O+</td>\n      <td>15</td>\n      <td>25</td>\n      <td>O</td>\n      <td>+</td>\n    </tr>\n    <tr>\n      <th>2</th>\n      <td>Summer</td>\n      <td>45</td>\n      <td>A-</td>\n      <td>2</td>\n      <td>47</td>\n      <td>A</td>\n      <td>-</td>\n    </tr>\n    <tr>\n      <th>3</th>\n      <td>Beth</td>\n      <td>18</td>\n      <td>B+</td>\n      <td>35</td>\n      <td>53</td>\n      <td>B</td>\n      <td>+</td>\n    </tr>\n  </tbody>\n</table>\n</div>",
            "text/plain": "     Name  Age Blood Group  Score  S+ Primary Blood Group Sign\n0    Rick   60          O+     10  70                   O    +\n1   Morty   10          O+     15  25                   O    +\n2  Summer   45          A-      2  47                   A    -\n3    Beth   18          B+     35  53                   B    +"
          },
          "execution_count": 70,
          "metadata": {},
          "output_type": "execute_result"
        }
      ]
    },
    {
      "metadata": {
        "trusted": false
      },
      "cell_type": "code",
      "source": "people_df['Sum']=people_df['Score']+people_df['Age']\npeople_df",
      "execution_count": 71,
      "outputs": [
        {
          "data": {
            "text/html": "<div>\n<style>\n    .dataframe thead tr:only-child th {\n        text-align: right;\n    }\n\n    .dataframe thead th {\n        text-align: left;\n    }\n\n    .dataframe tbody tr th {\n        vertical-align: top;\n    }\n</style>\n<table border=\"1\" class=\"dataframe\">\n  <thead>\n    <tr style=\"text-align: right;\">\n      <th></th>\n      <th>Name</th>\n      <th>Age</th>\n      <th>Blood Group</th>\n      <th>Score</th>\n      <th>S+</th>\n      <th>Primary Blood Group</th>\n      <th>Sign</th>\n      <th>Sum</th>\n    </tr>\n  </thead>\n  <tbody>\n    <tr>\n      <th>0</th>\n      <td>Rick</td>\n      <td>60</td>\n      <td>O+</td>\n      <td>10</td>\n      <td>70</td>\n      <td>O</td>\n      <td>+</td>\n      <td>70</td>\n    </tr>\n    <tr>\n      <th>1</th>\n      <td>Morty</td>\n      <td>10</td>\n      <td>O+</td>\n      <td>15</td>\n      <td>25</td>\n      <td>O</td>\n      <td>+</td>\n      <td>25</td>\n    </tr>\n    <tr>\n      <th>2</th>\n      <td>Summer</td>\n      <td>45</td>\n      <td>A-</td>\n      <td>2</td>\n      <td>47</td>\n      <td>A</td>\n      <td>-</td>\n      <td>47</td>\n    </tr>\n    <tr>\n      <th>3</th>\n      <td>Beth</td>\n      <td>18</td>\n      <td>B+</td>\n      <td>35</td>\n      <td>53</td>\n      <td>B</td>\n      <td>+</td>\n      <td>53</td>\n    </tr>\n  </tbody>\n</table>\n</div>",
            "text/plain": "     Name  Age Blood Group  Score  S+ Primary Blood Group Sign  Sum\n0    Rick   60          O+     10  70                   O    +   70\n1   Morty   10          O+     15  25                   O    +   25\n2  Summer   45          A-      2  47                   A    -   47\n3    Beth   18          B+     35  53                   B    +   53"
          },
          "execution_count": 71,
          "metadata": {},
          "output_type": "execute_result"
        }
      ]
    },
    {
      "metadata": {
        "trusted": false
      },
      "cell_type": "code",
      "source": "people_df",
      "execution_count": 72,
      "outputs": [
        {
          "data": {
            "text/html": "<div>\n<style>\n    .dataframe thead tr:only-child th {\n        text-align: right;\n    }\n\n    .dataframe thead th {\n        text-align: left;\n    }\n\n    .dataframe tbody tr th {\n        vertical-align: top;\n    }\n</style>\n<table border=\"1\" class=\"dataframe\">\n  <thead>\n    <tr style=\"text-align: right;\">\n      <th></th>\n      <th>Name</th>\n      <th>Age</th>\n      <th>Blood Group</th>\n      <th>Score</th>\n      <th>S+</th>\n      <th>Primary Blood Group</th>\n      <th>Sign</th>\n      <th>Sum</th>\n    </tr>\n  </thead>\n  <tbody>\n    <tr>\n      <th>0</th>\n      <td>Rick</td>\n      <td>60</td>\n      <td>O+</td>\n      <td>10</td>\n      <td>70</td>\n      <td>O</td>\n      <td>+</td>\n      <td>70</td>\n    </tr>\n    <tr>\n      <th>1</th>\n      <td>Morty</td>\n      <td>10</td>\n      <td>O+</td>\n      <td>15</td>\n      <td>25</td>\n      <td>O</td>\n      <td>+</td>\n      <td>25</td>\n    </tr>\n    <tr>\n      <th>2</th>\n      <td>Summer</td>\n      <td>45</td>\n      <td>A-</td>\n      <td>2</td>\n      <td>47</td>\n      <td>A</td>\n      <td>-</td>\n      <td>47</td>\n    </tr>\n    <tr>\n      <th>3</th>\n      <td>Beth</td>\n      <td>18</td>\n      <td>B+</td>\n      <td>35</td>\n      <td>53</td>\n      <td>B</td>\n      <td>+</td>\n      <td>53</td>\n    </tr>\n  </tbody>\n</table>\n</div>",
            "text/plain": "     Name  Age Blood Group  Score  S+ Primary Blood Group Sign  Sum\n0    Rick   60          O+     10  70                   O    +   70\n1   Morty   10          O+     15  25                   O    +   25\n2  Summer   45          A-      2  47                   A    -   47\n3    Beth   18          B+     35  53                   B    +   53"
          },
          "execution_count": 72,
          "metadata": {},
          "output_type": "execute_result"
        }
      ]
    },
    {
      "metadata": {
        "trusted": false
      },
      "cell_type": "code",
      "source": "people_df.drop('Sum',axis=1)",
      "execution_count": 73,
      "outputs": [
        {
          "data": {
            "text/html": "<div>\n<style>\n    .dataframe thead tr:only-child th {\n        text-align: right;\n    }\n\n    .dataframe thead th {\n        text-align: left;\n    }\n\n    .dataframe tbody tr th {\n        vertical-align: top;\n    }\n</style>\n<table border=\"1\" class=\"dataframe\">\n  <thead>\n    <tr style=\"text-align: right;\">\n      <th></th>\n      <th>Name</th>\n      <th>Age</th>\n      <th>Blood Group</th>\n      <th>Score</th>\n      <th>S+</th>\n      <th>Primary Blood Group</th>\n      <th>Sign</th>\n    </tr>\n  </thead>\n  <tbody>\n    <tr>\n      <th>0</th>\n      <td>Rick</td>\n      <td>60</td>\n      <td>O+</td>\n      <td>10</td>\n      <td>70</td>\n      <td>O</td>\n      <td>+</td>\n    </tr>\n    <tr>\n      <th>1</th>\n      <td>Morty</td>\n      <td>10</td>\n      <td>O+</td>\n      <td>15</td>\n      <td>25</td>\n      <td>O</td>\n      <td>+</td>\n    </tr>\n    <tr>\n      <th>2</th>\n      <td>Summer</td>\n      <td>45</td>\n      <td>A-</td>\n      <td>2</td>\n      <td>47</td>\n      <td>A</td>\n      <td>-</td>\n    </tr>\n    <tr>\n      <th>3</th>\n      <td>Beth</td>\n      <td>18</td>\n      <td>B+</td>\n      <td>35</td>\n      <td>53</td>\n      <td>B</td>\n      <td>+</td>\n    </tr>\n  </tbody>\n</table>\n</div>",
            "text/plain": "     Name  Age Blood Group  Score  S+ Primary Blood Group Sign\n0    Rick   60          O+     10  70                   O    +\n1   Morty   10          O+     15  25                   O    +\n2  Summer   45          A-      2  47                   A    -\n3    Beth   18          B+     35  53                   B    +"
          },
          "execution_count": 73,
          "metadata": {},
          "output_type": "execute_result"
        }
      ]
    },
    {
      "metadata": {
        "trusted": false
      },
      "cell_type": "code",
      "source": "people_df",
      "execution_count": 74,
      "outputs": [
        {
          "data": {
            "text/html": "<div>\n<style>\n    .dataframe thead tr:only-child th {\n        text-align: right;\n    }\n\n    .dataframe thead th {\n        text-align: left;\n    }\n\n    .dataframe tbody tr th {\n        vertical-align: top;\n    }\n</style>\n<table border=\"1\" class=\"dataframe\">\n  <thead>\n    <tr style=\"text-align: right;\">\n      <th></th>\n      <th>Name</th>\n      <th>Age</th>\n      <th>Blood Group</th>\n      <th>Score</th>\n      <th>S+</th>\n      <th>Primary Blood Group</th>\n      <th>Sign</th>\n      <th>Sum</th>\n    </tr>\n  </thead>\n  <tbody>\n    <tr>\n      <th>0</th>\n      <td>Rick</td>\n      <td>60</td>\n      <td>O+</td>\n      <td>10</td>\n      <td>70</td>\n      <td>O</td>\n      <td>+</td>\n      <td>70</td>\n    </tr>\n    <tr>\n      <th>1</th>\n      <td>Morty</td>\n      <td>10</td>\n      <td>O+</td>\n      <td>15</td>\n      <td>25</td>\n      <td>O</td>\n      <td>+</td>\n      <td>25</td>\n    </tr>\n    <tr>\n      <th>2</th>\n      <td>Summer</td>\n      <td>45</td>\n      <td>A-</td>\n      <td>2</td>\n      <td>47</td>\n      <td>A</td>\n      <td>-</td>\n      <td>47</td>\n    </tr>\n    <tr>\n      <th>3</th>\n      <td>Beth</td>\n      <td>18</td>\n      <td>B+</td>\n      <td>35</td>\n      <td>53</td>\n      <td>B</td>\n      <td>+</td>\n      <td>53</td>\n    </tr>\n  </tbody>\n</table>\n</div>",
            "text/plain": "     Name  Age Blood Group  Score  S+ Primary Blood Group Sign  Sum\n0    Rick   60          O+     10  70                   O    +   70\n1   Morty   10          O+     15  25                   O    +   25\n2  Summer   45          A-      2  47                   A    -   47\n3    Beth   18          B+     35  53                   B    +   53"
          },
          "execution_count": 74,
          "metadata": {},
          "output_type": "execute_result"
        }
      ]
    },
    {
      "metadata": {
        "collapsed": true,
        "trusted": false
      },
      "cell_type": "code",
      "source": "people_df.drop('Sum',axis=1,inplace=True)",
      "execution_count": 75,
      "outputs": []
    },
    {
      "metadata": {
        "trusted": false
      },
      "cell_type": "code",
      "source": "people_df",
      "execution_count": 76,
      "outputs": [
        {
          "data": {
            "text/html": "<div>\n<style>\n    .dataframe thead tr:only-child th {\n        text-align: right;\n    }\n\n    .dataframe thead th {\n        text-align: left;\n    }\n\n    .dataframe tbody tr th {\n        vertical-align: top;\n    }\n</style>\n<table border=\"1\" class=\"dataframe\">\n  <thead>\n    <tr style=\"text-align: right;\">\n      <th></th>\n      <th>Name</th>\n      <th>Age</th>\n      <th>Blood Group</th>\n      <th>Score</th>\n      <th>S+</th>\n      <th>Primary Blood Group</th>\n      <th>Sign</th>\n    </tr>\n  </thead>\n  <tbody>\n    <tr>\n      <th>0</th>\n      <td>Rick</td>\n      <td>60</td>\n      <td>O+</td>\n      <td>10</td>\n      <td>70</td>\n      <td>O</td>\n      <td>+</td>\n    </tr>\n    <tr>\n      <th>1</th>\n      <td>Morty</td>\n      <td>10</td>\n      <td>O+</td>\n      <td>15</td>\n      <td>25</td>\n      <td>O</td>\n      <td>+</td>\n    </tr>\n    <tr>\n      <th>2</th>\n      <td>Summer</td>\n      <td>45</td>\n      <td>A-</td>\n      <td>2</td>\n      <td>47</td>\n      <td>A</td>\n      <td>-</td>\n    </tr>\n    <tr>\n      <th>3</th>\n      <td>Beth</td>\n      <td>18</td>\n      <td>B+</td>\n      <td>35</td>\n      <td>53</td>\n      <td>B</td>\n      <td>+</td>\n    </tr>\n  </tbody>\n</table>\n</div>",
            "text/plain": "     Name  Age Blood Group  Score  S+ Primary Blood Group Sign\n0    Rick   60          O+     10  70                   O    +\n1   Morty   10          O+     15  25                   O    +\n2  Summer   45          A-      2  47                   A    -\n3    Beth   18          B+     35  53                   B    +"
          },
          "execution_count": 76,
          "metadata": {},
          "output_type": "execute_result"
        }
      ]
    },
    {
      "metadata": {
        "trusted": false
      },
      "cell_type": "code",
      "source": "new_people_df=people_df\nnew_people_df",
      "execution_count": 77,
      "outputs": [
        {
          "data": {
            "text/html": "<div>\n<style>\n    .dataframe thead tr:only-child th {\n        text-align: right;\n    }\n\n    .dataframe thead th {\n        text-align: left;\n    }\n\n    .dataframe tbody tr th {\n        vertical-align: top;\n    }\n</style>\n<table border=\"1\" class=\"dataframe\">\n  <thead>\n    <tr style=\"text-align: right;\">\n      <th></th>\n      <th>Name</th>\n      <th>Age</th>\n      <th>Blood Group</th>\n      <th>Score</th>\n      <th>S+</th>\n      <th>Primary Blood Group</th>\n      <th>Sign</th>\n    </tr>\n  </thead>\n  <tbody>\n    <tr>\n      <th>0</th>\n      <td>Rick</td>\n      <td>60</td>\n      <td>O+</td>\n      <td>10</td>\n      <td>70</td>\n      <td>O</td>\n      <td>+</td>\n    </tr>\n    <tr>\n      <th>1</th>\n      <td>Morty</td>\n      <td>10</td>\n      <td>O+</td>\n      <td>15</td>\n      <td>25</td>\n      <td>O</td>\n      <td>+</td>\n    </tr>\n    <tr>\n      <th>2</th>\n      <td>Summer</td>\n      <td>45</td>\n      <td>A-</td>\n      <td>2</td>\n      <td>47</td>\n      <td>A</td>\n      <td>-</td>\n    </tr>\n    <tr>\n      <th>3</th>\n      <td>Beth</td>\n      <td>18</td>\n      <td>B+</td>\n      <td>35</td>\n      <td>53</td>\n      <td>B</td>\n      <td>+</td>\n    </tr>\n  </tbody>\n</table>\n</div>",
            "text/plain": "     Name  Age Blood Group  Score  S+ Primary Blood Group Sign\n0    Rick   60          O+     10  70                   O    +\n1   Morty   10          O+     15  25                   O    +\n2  Summer   45          A-      2  47                   A    -\n3    Beth   18          B+     35  53                   B    +"
          },
          "execution_count": 77,
          "metadata": {},
          "output_type": "execute_result"
        }
      ]
    },
    {
      "metadata": {
        "collapsed": true,
        "trusted": false
      },
      "cell_type": "code",
      "source": "new_people_df.drop(['Sign',\"Primary Blood Group\"],axis=1,inplace=True)",
      "execution_count": 78,
      "outputs": []
    },
    {
      "metadata": {
        "trusted": false
      },
      "cell_type": "code",
      "source": "new_people_df",
      "execution_count": 79,
      "outputs": [
        {
          "data": {
            "text/html": "<div>\n<style>\n    .dataframe thead tr:only-child th {\n        text-align: right;\n    }\n\n    .dataframe thead th {\n        text-align: left;\n    }\n\n    .dataframe tbody tr th {\n        vertical-align: top;\n    }\n</style>\n<table border=\"1\" class=\"dataframe\">\n  <thead>\n    <tr style=\"text-align: right;\">\n      <th></th>\n      <th>Name</th>\n      <th>Age</th>\n      <th>Blood Group</th>\n      <th>Score</th>\n      <th>S+</th>\n    </tr>\n  </thead>\n  <tbody>\n    <tr>\n      <th>0</th>\n      <td>Rick</td>\n      <td>60</td>\n      <td>O+</td>\n      <td>10</td>\n      <td>70</td>\n    </tr>\n    <tr>\n      <th>1</th>\n      <td>Morty</td>\n      <td>10</td>\n      <td>O+</td>\n      <td>15</td>\n      <td>25</td>\n    </tr>\n    <tr>\n      <th>2</th>\n      <td>Summer</td>\n      <td>45</td>\n      <td>A-</td>\n      <td>2</td>\n      <td>47</td>\n    </tr>\n    <tr>\n      <th>3</th>\n      <td>Beth</td>\n      <td>18</td>\n      <td>B+</td>\n      <td>35</td>\n      <td>53</td>\n    </tr>\n  </tbody>\n</table>\n</div>",
            "text/plain": "     Name  Age Blood Group  Score  S+\n0    Rick   60          O+     10  70\n1   Morty   10          O+     15  25\n2  Summer   45          A-      2  47\n3    Beth   18          B+     35  53"
          },
          "execution_count": 79,
          "metadata": {},
          "output_type": "execute_result"
        }
      ]
    },
    {
      "metadata": {
        "trusted": false
      },
      "cell_type": "code",
      "source": "people_df",
      "execution_count": 80,
      "outputs": [
        {
          "data": {
            "text/html": "<div>\n<style>\n    .dataframe thead tr:only-child th {\n        text-align: right;\n    }\n\n    .dataframe thead th {\n        text-align: left;\n    }\n\n    .dataframe tbody tr th {\n        vertical-align: top;\n    }\n</style>\n<table border=\"1\" class=\"dataframe\">\n  <thead>\n    <tr style=\"text-align: right;\">\n      <th></th>\n      <th>Name</th>\n      <th>Age</th>\n      <th>Blood Group</th>\n      <th>Score</th>\n      <th>S+</th>\n    </tr>\n  </thead>\n  <tbody>\n    <tr>\n      <th>0</th>\n      <td>Rick</td>\n      <td>60</td>\n      <td>O+</td>\n      <td>10</td>\n      <td>70</td>\n    </tr>\n    <tr>\n      <th>1</th>\n      <td>Morty</td>\n      <td>10</td>\n      <td>O+</td>\n      <td>15</td>\n      <td>25</td>\n    </tr>\n    <tr>\n      <th>2</th>\n      <td>Summer</td>\n      <td>45</td>\n      <td>A-</td>\n      <td>2</td>\n      <td>47</td>\n    </tr>\n    <tr>\n      <th>3</th>\n      <td>Beth</td>\n      <td>18</td>\n      <td>B+</td>\n      <td>35</td>\n      <td>53</td>\n    </tr>\n  </tbody>\n</table>\n</div>",
            "text/plain": "     Name  Age Blood Group  Score  S+\n0    Rick   60          O+     10  70\n1   Morty   10          O+     15  25\n2  Summer   45          A-      2  47\n3    Beth   18          B+     35  53"
          },
          "execution_count": 80,
          "metadata": {},
          "output_type": "execute_result"
        }
      ]
    },
    {
      "metadata": {
        "trusted": false
      },
      "cell_type": "code",
      "source": "del people_df['S+']\npeople_df",
      "execution_count": 81,
      "outputs": [
        {
          "data": {
            "text/html": "<div>\n<style>\n    .dataframe thead tr:only-child th {\n        text-align: right;\n    }\n\n    .dataframe thead th {\n        text-align: left;\n    }\n\n    .dataframe tbody tr th {\n        vertical-align: top;\n    }\n</style>\n<table border=\"1\" class=\"dataframe\">\n  <thead>\n    <tr style=\"text-align: right;\">\n      <th></th>\n      <th>Name</th>\n      <th>Age</th>\n      <th>Blood Group</th>\n      <th>Score</th>\n    </tr>\n  </thead>\n  <tbody>\n    <tr>\n      <th>0</th>\n      <td>Rick</td>\n      <td>60</td>\n      <td>O+</td>\n      <td>10</td>\n    </tr>\n    <tr>\n      <th>1</th>\n      <td>Morty</td>\n      <td>10</td>\n      <td>O+</td>\n      <td>15</td>\n    </tr>\n    <tr>\n      <th>2</th>\n      <td>Summer</td>\n      <td>45</td>\n      <td>A-</td>\n      <td>2</td>\n    </tr>\n    <tr>\n      <th>3</th>\n      <td>Beth</td>\n      <td>18</td>\n      <td>B+</td>\n      <td>35</td>\n    </tr>\n  </tbody>\n</table>\n</div>",
            "text/plain": "     Name  Age Blood Group  Score\n0    Rick   60          O+     10\n1   Morty   10          O+     15\n2  Summer   45          A-      2\n3    Beth   18          B+     35"
          },
          "execution_count": 81,
          "metadata": {},
          "output_type": "execute_result"
        }
      ]
    },
    {
      "metadata": {
        "scrolled": true,
        "trusted": false
      },
      "cell_type": "code",
      "source": "new_people_df=people_df.set_index('Name')\nnew_people_df",
      "execution_count": 82,
      "outputs": [
        {
          "data": {
            "text/html": "<div>\n<style>\n    .dataframe thead tr:only-child th {\n        text-align: right;\n    }\n\n    .dataframe thead th {\n        text-align: left;\n    }\n\n    .dataframe tbody tr th {\n        vertical-align: top;\n    }\n</style>\n<table border=\"1\" class=\"dataframe\">\n  <thead>\n    <tr style=\"text-align: right;\">\n      <th></th>\n      <th>Age</th>\n      <th>Blood Group</th>\n      <th>Score</th>\n    </tr>\n    <tr>\n      <th>Name</th>\n      <th></th>\n      <th></th>\n      <th></th>\n    </tr>\n  </thead>\n  <tbody>\n    <tr>\n      <th>Rick</th>\n      <td>60</td>\n      <td>O+</td>\n      <td>10</td>\n    </tr>\n    <tr>\n      <th>Morty</th>\n      <td>10</td>\n      <td>O+</td>\n      <td>15</td>\n    </tr>\n    <tr>\n      <th>Summer</th>\n      <td>45</td>\n      <td>A-</td>\n      <td>2</td>\n    </tr>\n    <tr>\n      <th>Beth</th>\n      <td>18</td>\n      <td>B+</td>\n      <td>35</td>\n    </tr>\n  </tbody>\n</table>\n</div>",
            "text/plain": "        Age Blood Group  Score\nName                          \nRick     60          O+     10\nMorty    10          O+     15\nSummer   45          A-      2\nBeth     18          B+     35"
          },
          "execution_count": 82,
          "metadata": {},
          "output_type": "execute_result"
        }
      ]
    },
    {
      "metadata": {
        "trusted": false
      },
      "cell_type": "code",
      "source": "new_people_df.drop('Summer',axis=0)",
      "execution_count": 83,
      "outputs": [
        {
          "data": {
            "text/html": "<div>\n<style>\n    .dataframe thead tr:only-child th {\n        text-align: right;\n    }\n\n    .dataframe thead th {\n        text-align: left;\n    }\n\n    .dataframe tbody tr th {\n        vertical-align: top;\n    }\n</style>\n<table border=\"1\" class=\"dataframe\">\n  <thead>\n    <tr style=\"text-align: right;\">\n      <th></th>\n      <th>Age</th>\n      <th>Blood Group</th>\n      <th>Score</th>\n    </tr>\n    <tr>\n      <th>Name</th>\n      <th></th>\n      <th></th>\n      <th></th>\n    </tr>\n  </thead>\n  <tbody>\n    <tr>\n      <th>Rick</th>\n      <td>60</td>\n      <td>O+</td>\n      <td>10</td>\n    </tr>\n    <tr>\n      <th>Morty</th>\n      <td>10</td>\n      <td>O+</td>\n      <td>15</td>\n    </tr>\n    <tr>\n      <th>Beth</th>\n      <td>18</td>\n      <td>B+</td>\n      <td>35</td>\n    </tr>\n  </tbody>\n</table>\n</div>",
            "text/plain": "       Age Blood Group  Score\nName                         \nRick    60          O+     10\nMorty   10          O+     15\nBeth    18          B+     35"
          },
          "execution_count": 83,
          "metadata": {},
          "output_type": "execute_result"
        }
      ]
    },
    {
      "metadata": {
        "trusted": false
      },
      "cell_type": "code",
      "source": "new_people_df",
      "execution_count": 84,
      "outputs": [
        {
          "data": {
            "text/html": "<div>\n<style>\n    .dataframe thead tr:only-child th {\n        text-align: right;\n    }\n\n    .dataframe thead th {\n        text-align: left;\n    }\n\n    .dataframe tbody tr th {\n        vertical-align: top;\n    }\n</style>\n<table border=\"1\" class=\"dataframe\">\n  <thead>\n    <tr style=\"text-align: right;\">\n      <th></th>\n      <th>Age</th>\n      <th>Blood Group</th>\n      <th>Score</th>\n    </tr>\n    <tr>\n      <th>Name</th>\n      <th></th>\n      <th></th>\n      <th></th>\n    </tr>\n  </thead>\n  <tbody>\n    <tr>\n      <th>Rick</th>\n      <td>60</td>\n      <td>O+</td>\n      <td>10</td>\n    </tr>\n    <tr>\n      <th>Morty</th>\n      <td>10</td>\n      <td>O+</td>\n      <td>15</td>\n    </tr>\n    <tr>\n      <th>Summer</th>\n      <td>45</td>\n      <td>A-</td>\n      <td>2</td>\n    </tr>\n    <tr>\n      <th>Beth</th>\n      <td>18</td>\n      <td>B+</td>\n      <td>35</td>\n    </tr>\n  </tbody>\n</table>\n</div>",
            "text/plain": "        Age Blood Group  Score\nName                          \nRick     60          O+     10\nMorty    10          O+     15\nSummer   45          A-      2\nBeth     18          B+     35"
          },
          "execution_count": 84,
          "metadata": {},
          "output_type": "execute_result"
        }
      ]
    },
    {
      "metadata": {
        "trusted": false
      },
      "cell_type": "code",
      "source": "people_df",
      "execution_count": 102,
      "outputs": [
        {
          "ename": "NameError",
          "evalue": "name 'people_df' is not defined",
          "output_type": "error",
          "traceback": [
            "\u001b[1;31m---------------------------------------------------------------------------\u001b[0m",
            "\u001b[1;31mNameError\u001b[0m                                 Traceback (most recent call last)",
            "\u001b[1;32m<ipython-input-102-2ea7f082b805>\u001b[0m in \u001b[0;36m<module>\u001b[1;34m()\u001b[0m\n\u001b[1;32m----> 1\u001b[1;33m \u001b[0mpeople_df\u001b[0m\u001b[1;33m\u001b[0m\u001b[0m\n\u001b[0m",
            "\u001b[1;31mNameError\u001b[0m: name 'people_df' is not defined"
          ]
        }
      ]
    },
    {
      "metadata": {
        "trusted": false
      },
      "cell_type": "code",
      "source": "people_df.drop(['Blood Group'],1)",
      "execution_count": 86,
      "outputs": [
        {
          "data": {
            "text/html": "<div>\n<style>\n    .dataframe thead tr:only-child th {\n        text-align: right;\n    }\n\n    .dataframe thead th {\n        text-align: left;\n    }\n\n    .dataframe tbody tr th {\n        vertical-align: top;\n    }\n</style>\n<table border=\"1\" class=\"dataframe\">\n  <thead>\n    <tr style=\"text-align: right;\">\n      <th></th>\n      <th>Name</th>\n      <th>Age</th>\n      <th>Score</th>\n    </tr>\n  </thead>\n  <tbody>\n    <tr>\n      <th>0</th>\n      <td>Rick</td>\n      <td>60</td>\n      <td>10</td>\n    </tr>\n    <tr>\n      <th>1</th>\n      <td>Morty</td>\n      <td>10</td>\n      <td>15</td>\n    </tr>\n    <tr>\n      <th>2</th>\n      <td>Summer</td>\n      <td>45</td>\n      <td>2</td>\n    </tr>\n    <tr>\n      <th>3</th>\n      <td>Beth</td>\n      <td>18</td>\n      <td>35</td>\n    </tr>\n  </tbody>\n</table>\n</div>",
            "text/plain": "     Name  Age  Score\n0    Rick   60     10\n1   Morty   10     15\n2  Summer   45      2\n3    Beth   18     35"
          },
          "execution_count": 86,
          "metadata": {},
          "output_type": "execute_result"
        }
      ]
    },
    {
      "metadata": {
        "trusted": false
      },
      "cell_type": "code",
      "source": "new_people_df",
      "execution_count": 87,
      "outputs": [
        {
          "data": {
            "text/html": "<div>\n<style>\n    .dataframe thead tr:only-child th {\n        text-align: right;\n    }\n\n    .dataframe thead th {\n        text-align: left;\n    }\n\n    .dataframe tbody tr th {\n        vertical-align: top;\n    }\n</style>\n<table border=\"1\" class=\"dataframe\">\n  <thead>\n    <tr style=\"text-align: right;\">\n      <th></th>\n      <th>Age</th>\n      <th>Blood Group</th>\n      <th>Score</th>\n    </tr>\n    <tr>\n      <th>Name</th>\n      <th></th>\n      <th></th>\n      <th></th>\n    </tr>\n  </thead>\n  <tbody>\n    <tr>\n      <th>Rick</th>\n      <td>60</td>\n      <td>O+</td>\n      <td>10</td>\n    </tr>\n    <tr>\n      <th>Morty</th>\n      <td>10</td>\n      <td>O+</td>\n      <td>15</td>\n    </tr>\n    <tr>\n      <th>Summer</th>\n      <td>45</td>\n      <td>A-</td>\n      <td>2</td>\n    </tr>\n    <tr>\n      <th>Beth</th>\n      <td>18</td>\n      <td>B+</td>\n      <td>35</td>\n    </tr>\n  </tbody>\n</table>\n</div>",
            "text/plain": "        Age Blood Group  Score\nName                          \nRick     60          O+     10\nMorty    10          O+     15\nSummer   45          A-      2\nBeth     18          B+     35"
          },
          "execution_count": 87,
          "metadata": {},
          "output_type": "execute_result"
        }
      ]
    },
    {
      "metadata": {
        "trusted": false
      },
      "cell_type": "code",
      "source": "people_df",
      "execution_count": 88,
      "outputs": [
        {
          "data": {
            "text/html": "<div>\n<style>\n    .dataframe thead tr:only-child th {\n        text-align: right;\n    }\n\n    .dataframe thead th {\n        text-align: left;\n    }\n\n    .dataframe tbody tr th {\n        vertical-align: top;\n    }\n</style>\n<table border=\"1\" class=\"dataframe\">\n  <thead>\n    <tr style=\"text-align: right;\">\n      <th></th>\n      <th>Name</th>\n      <th>Age</th>\n      <th>Blood Group</th>\n      <th>Score</th>\n    </tr>\n  </thead>\n  <tbody>\n    <tr>\n      <th>0</th>\n      <td>Rick</td>\n      <td>60</td>\n      <td>O+</td>\n      <td>10</td>\n    </tr>\n    <tr>\n      <th>1</th>\n      <td>Morty</td>\n      <td>10</td>\n      <td>O+</td>\n      <td>15</td>\n    </tr>\n    <tr>\n      <th>2</th>\n      <td>Summer</td>\n      <td>45</td>\n      <td>A-</td>\n      <td>2</td>\n    </tr>\n    <tr>\n      <th>3</th>\n      <td>Beth</td>\n      <td>18</td>\n      <td>B+</td>\n      <td>35</td>\n    </tr>\n  </tbody>\n</table>\n</div>",
            "text/plain": "     Name  Age Blood Group  Score\n0    Rick   60          O+     10\n1   Morty   10          O+     15\n2  Summer   45          A-      2\n3    Beth   18          B+     35"
          },
          "execution_count": 88,
          "metadata": {},
          "output_type": "execute_result"
        }
      ]
    },
    {
      "metadata": {
        "trusted": false
      },
      "cell_type": "code",
      "source": "new_people_df.drop('Summer',0)",
      "execution_count": 89,
      "outputs": [
        {
          "data": {
            "text/html": "<div>\n<style>\n    .dataframe thead tr:only-child th {\n        text-align: right;\n    }\n\n    .dataframe thead th {\n        text-align: left;\n    }\n\n    .dataframe tbody tr th {\n        vertical-align: top;\n    }\n</style>\n<table border=\"1\" class=\"dataframe\">\n  <thead>\n    <tr style=\"text-align: right;\">\n      <th></th>\n      <th>Age</th>\n      <th>Blood Group</th>\n      <th>Score</th>\n    </tr>\n    <tr>\n      <th>Name</th>\n      <th></th>\n      <th></th>\n      <th></th>\n    </tr>\n  </thead>\n  <tbody>\n    <tr>\n      <th>Rick</th>\n      <td>60</td>\n      <td>O+</td>\n      <td>10</td>\n    </tr>\n    <tr>\n      <th>Morty</th>\n      <td>10</td>\n      <td>O+</td>\n      <td>15</td>\n    </tr>\n    <tr>\n      <th>Beth</th>\n      <td>18</td>\n      <td>B+</td>\n      <td>35</td>\n    </tr>\n  </tbody>\n</table>\n</div>",
            "text/plain": "       Age Blood Group  Score\nName                         \nRick    60          O+     10\nMorty   10          O+     15\nBeth    18          B+     35"
          },
          "execution_count": 89,
          "metadata": {},
          "output_type": "execute_result"
        }
      ]
    },
    {
      "metadata": {
        "trusted": false
      },
      "cell_type": "code",
      "source": "new_people_df",
      "execution_count": 90,
      "outputs": [
        {
          "data": {
            "text/html": "<div>\n<style>\n    .dataframe thead tr:only-child th {\n        text-align: right;\n    }\n\n    .dataframe thead th {\n        text-align: left;\n    }\n\n    .dataframe tbody tr th {\n        vertical-align: top;\n    }\n</style>\n<table border=\"1\" class=\"dataframe\">\n  <thead>\n    <tr style=\"text-align: right;\">\n      <th></th>\n      <th>Age</th>\n      <th>Blood Group</th>\n      <th>Score</th>\n    </tr>\n    <tr>\n      <th>Name</th>\n      <th></th>\n      <th></th>\n      <th></th>\n    </tr>\n  </thead>\n  <tbody>\n    <tr>\n      <th>Rick</th>\n      <td>60</td>\n      <td>O+</td>\n      <td>10</td>\n    </tr>\n    <tr>\n      <th>Morty</th>\n      <td>10</td>\n      <td>O+</td>\n      <td>15</td>\n    </tr>\n    <tr>\n      <th>Summer</th>\n      <td>45</td>\n      <td>A-</td>\n      <td>2</td>\n    </tr>\n    <tr>\n      <th>Beth</th>\n      <td>18</td>\n      <td>B+</td>\n      <td>35</td>\n    </tr>\n  </tbody>\n</table>\n</div>",
            "text/plain": "        Age Blood Group  Score\nName                          \nRick     60          O+     10\nMorty    10          O+     15\nSummer   45          A-      2\nBeth     18          B+     35"
          },
          "execution_count": 90,
          "metadata": {},
          "output_type": "execute_result"
        }
      ]
    },
    {
      "metadata": {
        "trusted": false
      },
      "cell_type": "code",
      "source": "csv_pd=pd.read_excel('C:/Users/SP20635/Desktop/Desk/INSAID/module2/supermarkets.xlsx',sheet_name=0)\ncsv_pd",
      "execution_count": 91,
      "outputs": [
        {
          "data": {
            "text/html": "<div>\n<style>\n    .dataframe thead tr:only-child th {\n        text-align: right;\n    }\n\n    .dataframe thead th {\n        text-align: left;\n    }\n\n    .dataframe tbody tr th {\n        vertical-align: top;\n    }\n</style>\n<table border=\"1\" class=\"dataframe\">\n  <thead>\n    <tr style=\"text-align: right;\">\n      <th></th>\n      <th>ID</th>\n      <th>Address</th>\n      <th>City</th>\n      <th>State</th>\n      <th>Country</th>\n      <th>Name</th>\n      <th>Employees</th>\n    </tr>\n  </thead>\n  <tbody>\n    <tr>\n      <th>0</th>\n      <td>1</td>\n      <td>3666 21st St</td>\n      <td>San Francisco</td>\n      <td>CA 94114</td>\n      <td>USA</td>\n      <td>Madeira</td>\n      <td>8</td>\n    </tr>\n    <tr>\n      <th>1</th>\n      <td>2</td>\n      <td>735 Dolores St</td>\n      <td>San Francisco</td>\n      <td>CA 94119</td>\n      <td>USA</td>\n      <td>Bready Shop</td>\n      <td>15</td>\n    </tr>\n    <tr>\n      <th>2</th>\n      <td>3</td>\n      <td>332 Hill St</td>\n      <td>San Francisco</td>\n      <td>California 94114</td>\n      <td>USA</td>\n      <td>Super River</td>\n      <td>25</td>\n    </tr>\n    <tr>\n      <th>3</th>\n      <td>4</td>\n      <td>3995 23rd St</td>\n      <td>San Francisco</td>\n      <td>CA 94114</td>\n      <td>USA</td>\n      <td>Ben's Shop</td>\n      <td>10</td>\n    </tr>\n    <tr>\n      <th>4</th>\n      <td>5</td>\n      <td>1056 Sanchez St</td>\n      <td>San Francisco</td>\n      <td>California</td>\n      <td>USA</td>\n      <td>Sanchez</td>\n      <td>12</td>\n    </tr>\n    <tr>\n      <th>5</th>\n      <td>6</td>\n      <td>551 Alvarado St</td>\n      <td>San Francisco</td>\n      <td>CA 94114</td>\n      <td>USA</td>\n      <td>Richvalley</td>\n      <td>20</td>\n    </tr>\n  </tbody>\n</table>\n</div>",
            "text/plain": "   ID          Address           City             State Country         Name  \\\n0   1     3666 21st St  San Francisco          CA 94114     USA      Madeira   \n1   2   735 Dolores St  San Francisco          CA 94119     USA  Bready Shop   \n2   3      332 Hill St  San Francisco  California 94114     USA  Super River   \n3   4     3995 23rd St  San Francisco          CA 94114     USA   Ben's Shop   \n4   5  1056 Sanchez St  San Francisco        California     USA      Sanchez   \n5   6  551 Alvarado St  San Francisco          CA 94114     USA   Richvalley   \n\n   Employees  \n0          8  \n1         15  \n2         25  \n3         10  \n4         12  \n5         20  "
          },
          "execution_count": 91,
          "metadata": {},
          "output_type": "execute_result"
        }
      ]
    },
    {
      "metadata": {
        "trusted": false
      },
      "cell_type": "code",
      "source": "csv_pd.describe()",
      "execution_count": 92,
      "outputs": [
        {
          "data": {
            "text/html": "<div>\n<style>\n    .dataframe thead tr:only-child th {\n        text-align: right;\n    }\n\n    .dataframe thead th {\n        text-align: left;\n    }\n\n    .dataframe tbody tr th {\n        vertical-align: top;\n    }\n</style>\n<table border=\"1\" class=\"dataframe\">\n  <thead>\n    <tr style=\"text-align: right;\">\n      <th></th>\n      <th>ID</th>\n      <th>Employees</th>\n    </tr>\n  </thead>\n  <tbody>\n    <tr>\n      <th>count</th>\n      <td>6.000000</td>\n      <td>6.000000</td>\n    </tr>\n    <tr>\n      <th>mean</th>\n      <td>3.500000</td>\n      <td>15.000000</td>\n    </tr>\n    <tr>\n      <th>std</th>\n      <td>1.870829</td>\n      <td>6.449806</td>\n    </tr>\n    <tr>\n      <th>min</th>\n      <td>1.000000</td>\n      <td>8.000000</td>\n    </tr>\n    <tr>\n      <th>25%</th>\n      <td>2.250000</td>\n      <td>10.500000</td>\n    </tr>\n    <tr>\n      <th>50%</th>\n      <td>3.500000</td>\n      <td>13.500000</td>\n    </tr>\n    <tr>\n      <th>75%</th>\n      <td>4.750000</td>\n      <td>18.750000</td>\n    </tr>\n    <tr>\n      <th>max</th>\n      <td>6.000000</td>\n      <td>25.000000</td>\n    </tr>\n  </tbody>\n</table>\n</div>",
            "text/plain": "             ID  Employees\ncount  6.000000   6.000000\nmean   3.500000  15.000000\nstd    1.870829   6.449806\nmin    1.000000   8.000000\n25%    2.250000  10.500000\n50%    3.500000  13.500000\n75%    4.750000  18.750000\nmax    6.000000  25.000000"
          },
          "execution_count": 92,
          "metadata": {},
          "output_type": "execute_result"
        }
      ]
    },
    {
      "metadata": {
        "trusted": false
      },
      "cell_type": "code",
      "source": "csv_pd.describe(include='all')",
      "execution_count": 93,
      "outputs": [
        {
          "data": {
            "text/html": "<div>\n<style>\n    .dataframe thead tr:only-child th {\n        text-align: right;\n    }\n\n    .dataframe thead th {\n        text-align: left;\n    }\n\n    .dataframe tbody tr th {\n        vertical-align: top;\n    }\n</style>\n<table border=\"1\" class=\"dataframe\">\n  <thead>\n    <tr style=\"text-align: right;\">\n      <th></th>\n      <th>ID</th>\n      <th>Address</th>\n      <th>City</th>\n      <th>State</th>\n      <th>Country</th>\n      <th>Name</th>\n      <th>Employees</th>\n    </tr>\n  </thead>\n  <tbody>\n    <tr>\n      <th>count</th>\n      <td>6.000000</td>\n      <td>6</td>\n      <td>6</td>\n      <td>6</td>\n      <td>6</td>\n      <td>6</td>\n      <td>6.000000</td>\n    </tr>\n    <tr>\n      <th>unique</th>\n      <td>NaN</td>\n      <td>6</td>\n      <td>1</td>\n      <td>4</td>\n      <td>1</td>\n      <td>6</td>\n      <td>NaN</td>\n    </tr>\n    <tr>\n      <th>top</th>\n      <td>NaN</td>\n      <td>551 Alvarado St</td>\n      <td>San Francisco</td>\n      <td>CA 94114</td>\n      <td>USA</td>\n      <td>Super River</td>\n      <td>NaN</td>\n    </tr>\n    <tr>\n      <th>freq</th>\n      <td>NaN</td>\n      <td>1</td>\n      <td>6</td>\n      <td>3</td>\n      <td>6</td>\n      <td>1</td>\n      <td>NaN</td>\n    </tr>\n    <tr>\n      <th>mean</th>\n      <td>3.500000</td>\n      <td>NaN</td>\n      <td>NaN</td>\n      <td>NaN</td>\n      <td>NaN</td>\n      <td>NaN</td>\n      <td>15.000000</td>\n    </tr>\n    <tr>\n      <th>std</th>\n      <td>1.870829</td>\n      <td>NaN</td>\n      <td>NaN</td>\n      <td>NaN</td>\n      <td>NaN</td>\n      <td>NaN</td>\n      <td>6.449806</td>\n    </tr>\n    <tr>\n      <th>min</th>\n      <td>1.000000</td>\n      <td>NaN</td>\n      <td>NaN</td>\n      <td>NaN</td>\n      <td>NaN</td>\n      <td>NaN</td>\n      <td>8.000000</td>\n    </tr>\n    <tr>\n      <th>25%</th>\n      <td>2.250000</td>\n      <td>NaN</td>\n      <td>NaN</td>\n      <td>NaN</td>\n      <td>NaN</td>\n      <td>NaN</td>\n      <td>10.500000</td>\n    </tr>\n    <tr>\n      <th>50%</th>\n      <td>3.500000</td>\n      <td>NaN</td>\n      <td>NaN</td>\n      <td>NaN</td>\n      <td>NaN</td>\n      <td>NaN</td>\n      <td>13.500000</td>\n    </tr>\n    <tr>\n      <th>75%</th>\n      <td>4.750000</td>\n      <td>NaN</td>\n      <td>NaN</td>\n      <td>NaN</td>\n      <td>NaN</td>\n      <td>NaN</td>\n      <td>18.750000</td>\n    </tr>\n    <tr>\n      <th>max</th>\n      <td>6.000000</td>\n      <td>NaN</td>\n      <td>NaN</td>\n      <td>NaN</td>\n      <td>NaN</td>\n      <td>NaN</td>\n      <td>25.000000</td>\n    </tr>\n  </tbody>\n</table>\n</div>",
            "text/plain": "              ID          Address           City     State Country  \\\ncount   6.000000                6              6         6       6   \nunique       NaN                6              1         4       1   \ntop          NaN  551 Alvarado St  San Francisco  CA 94114     USA   \nfreq         NaN                1              6         3       6   \nmean    3.500000              NaN            NaN       NaN     NaN   \nstd     1.870829              NaN            NaN       NaN     NaN   \nmin     1.000000              NaN            NaN       NaN     NaN   \n25%     2.250000              NaN            NaN       NaN     NaN   \n50%     3.500000              NaN            NaN       NaN     NaN   \n75%     4.750000              NaN            NaN       NaN     NaN   \nmax     6.000000              NaN            NaN       NaN     NaN   \n\n               Name  Employees  \ncount             6   6.000000  \nunique            6        NaN  \ntop     Super River        NaN  \nfreq              1        NaN  \nmean            NaN  15.000000  \nstd             NaN   6.449806  \nmin             NaN   8.000000  \n25%             NaN  10.500000  \n50%             NaN  13.500000  \n75%             NaN  18.750000  \nmax             NaN  25.000000  "
          },
          "execution_count": 93,
          "metadata": {},
          "output_type": "execute_result"
        }
      ]
    },
    {
      "metadata": {
        "collapsed": true,
        "trusted": false
      },
      "cell_type": "code",
      "source": "%matplotlib inline",
      "execution_count": 94,
      "outputs": []
    },
    {
      "metadata": {
        "trusted": false
      },
      "cell_type": "code",
      "source": "csv_pd",
      "execution_count": 95,
      "outputs": [
        {
          "data": {
            "text/html": "<div>\n<style>\n    .dataframe thead tr:only-child th {\n        text-align: right;\n    }\n\n    .dataframe thead th {\n        text-align: left;\n    }\n\n    .dataframe tbody tr th {\n        vertical-align: top;\n    }\n</style>\n<table border=\"1\" class=\"dataframe\">\n  <thead>\n    <tr style=\"text-align: right;\">\n      <th></th>\n      <th>ID</th>\n      <th>Address</th>\n      <th>City</th>\n      <th>State</th>\n      <th>Country</th>\n      <th>Name</th>\n      <th>Employees</th>\n    </tr>\n  </thead>\n  <tbody>\n    <tr>\n      <th>0</th>\n      <td>1</td>\n      <td>3666 21st St</td>\n      <td>San Francisco</td>\n      <td>CA 94114</td>\n      <td>USA</td>\n      <td>Madeira</td>\n      <td>8</td>\n    </tr>\n    <tr>\n      <th>1</th>\n      <td>2</td>\n      <td>735 Dolores St</td>\n      <td>San Francisco</td>\n      <td>CA 94119</td>\n      <td>USA</td>\n      <td>Bready Shop</td>\n      <td>15</td>\n    </tr>\n    <tr>\n      <th>2</th>\n      <td>3</td>\n      <td>332 Hill St</td>\n      <td>San Francisco</td>\n      <td>California 94114</td>\n      <td>USA</td>\n      <td>Super River</td>\n      <td>25</td>\n    </tr>\n    <tr>\n      <th>3</th>\n      <td>4</td>\n      <td>3995 23rd St</td>\n      <td>San Francisco</td>\n      <td>CA 94114</td>\n      <td>USA</td>\n      <td>Ben's Shop</td>\n      <td>10</td>\n    </tr>\n    <tr>\n      <th>4</th>\n      <td>5</td>\n      <td>1056 Sanchez St</td>\n      <td>San Francisco</td>\n      <td>California</td>\n      <td>USA</td>\n      <td>Sanchez</td>\n      <td>12</td>\n    </tr>\n    <tr>\n      <th>5</th>\n      <td>6</td>\n      <td>551 Alvarado St</td>\n      <td>San Francisco</td>\n      <td>CA 94114</td>\n      <td>USA</td>\n      <td>Richvalley</td>\n      <td>20</td>\n    </tr>\n  </tbody>\n</table>\n</div>",
            "text/plain": "   ID          Address           City             State Country         Name  \\\n0   1     3666 21st St  San Francisco          CA 94114     USA      Madeira   \n1   2   735 Dolores St  San Francisco          CA 94119     USA  Bready Shop   \n2   3      332 Hill St  San Francisco  California 94114     USA  Super River   \n3   4     3995 23rd St  San Francisco          CA 94114     USA   Ben's Shop   \n4   5  1056 Sanchez St  San Francisco        California     USA      Sanchez   \n5   6  551 Alvarado St  San Francisco          CA 94114     USA   Richvalley   \n\n   Employees  \n0          8  \n1         15  \n2         25  \n3         10  \n4         12  \n5         20  "
          },
          "execution_count": 95,
          "metadata": {},
          "output_type": "execute_result"
        }
      ]
    },
    {
      "metadata": {
        "trusted": false
      },
      "cell_type": "code",
      "source": "csv_pd.plot.bar(x='ID',y='Employees')",
      "execution_count": 96,
      "outputs": [
        {
          "data": {
            "text/plain": "<matplotlib.axes._subplots.AxesSubplot at 0x2ad89459470>"
          },
          "execution_count": 96,
          "metadata": {},
          "output_type": "execute_result"
        },
        {
          "data": {
            "image/png": "[encoded data removed]",
            "text/plain": "<matplotlib.figure.Figure at 0x2ad89fd6c88>"
          },
          "metadata": {},
          "output_type": "display_data"
        }
      ]
    },
    {
      "metadata": {
        "trusted": false
      },
      "cell_type": "code",
      "source": "csv_pd.plot.line(x='ID',y='Employees')",
      "execution_count": 97,
      "outputs": [
        {
          "data": {
            "text/plain": "<matplotlib.axes._subplots.AxesSubplot at 0x2ad8a005b00>"
          },
          "execution_count": 97,
          "metadata": {},
          "output_type": "execute_result"
        },
        {
          "data": {
            "image/png": "[encoded data removed]",
            "text/plain": "<matplotlib.figure.Figure at 0x2ad89a73a90>"
          },
          "metadata": {},
          "output_type": "display_data"
        }
      ]
    },
    {
      "metadata": {
        "trusted": false
      },
      "cell_type": "code",
      "source": "csv_pd.plot.pie(x='ID',y='Employees')",
      "execution_count": 98,
      "outputs": [
        {
          "data": {
            "text/plain": "<matplotlib.axes._subplots.AxesSubplot at 0x2ad8a201eb8>"
          },
          "execution_count": 98,
          "metadata": {},
          "output_type": "execute_result"
        },
        {
          "data": {
            "image/png": "[encoded data removed]",
            "text/plain": "<matplotlib.figure.Figure at 0x2ad89fd9080>"
          },
          "metadata": {},
          "output_type": "display_data"
        }
      ]
    },
    {
      "metadata": {
        "trusted": false
      },
      "cell_type": "code",
      "source": "csv_pd.plot(kind='bar',x='ID',y='Employees')",
      "execution_count": 99,
      "outputs": [
        {
          "data": {
            "text/plain": "<matplotlib.axes._subplots.AxesSubplot at 0x2ad89ee85f8>"
          },
          "execution_count": 99,
          "metadata": {},
          "output_type": "execute_result"
        },
        {
          "data": {
            "image/png": "[encoded data removed]",
            "text/plain": "<matplotlib.figure.Figure at 0x2ad89f2eda0>"
          },
          "metadata": {},
          "output_type": "display_data"
        }
      ]
    },
    {
      "metadata": {
        "trusted": false
      },
      "cell_type": "code",
      "source": "csv_pd.plot(kind='line',x='ID',y='Employees')",
      "execution_count": 100,
      "outputs": [
        {
          "data": {
            "text/plain": "<matplotlib.axes._subplots.AxesSubplot at 0x2ad8a1f1048>"
          },
          "execution_count": 100,
          "metadata": {},
          "output_type": "execute_result"
        },
        {
          "data": {
            "image/png": "[encoded data removed]",
            "text/plain": "<matplotlib.figure.Figure at 0x2ad8a15d8d0>"
          },
          "metadata": {},
          "output_type": "display_data"
        }
      ]
    },
    {
      "metadata": {
        "trusted": false
      },
      "cell_type": "code",
      "source": "csv_pd.plot(kind='area',x='ID',y='Employees')",
      "execution_count": 101,
      "outputs": [
        {
          "data": {
            "text/plain": "<matplotlib.axes._subplots.AxesSubplot at 0x2ad8a1a2c50>"
          },
          "execution_count": 101,
          "metadata": {},
          "output_type": "execute_result"
        },
        {
          "data": {
            "image/png": "[encoded data removed]",
            "text/plain": "<matplotlib.figure.Figure at 0x2ad8a39c5c0>"
          },
          "metadata": {},
          "output_type": "display_data"
        }
      ]
    },
    {
      "metadata": {
        "trusted": false
      },
      "cell_type": "code",
      "source": "csv_pd.plot(kind='pie',x='ID',y='Employees')",
      "execution_count": 102,
      "outputs": [
        {
          "data": {
            "text/plain": "<matplotlib.axes._subplots.AxesSubplot at 0x2ad8a387dd8>"
          },
          "execution_count": 102,
          "metadata": {},
          "output_type": "execute_result"
        },
        {
          "data": {
            "image/png": "[encoded data removed]",
            "text/plain": "<matplotlib.figure.Figure at 0x2ad8a667588>"
          },
          "metadata": {},
          "output_type": "display_data"
        }
      ]
    },
    {
      "metadata": {
        "trusted": false
      },
      "cell_type": "code",
      "source": "csv_pd.plot(kind='scatter',x='ID',y='Employees')",
      "execution_count": 103,
      "outputs": [
        {
          "data": {
            "text/plain": "<matplotlib.axes._subplots.AxesSubplot at 0x2ad8a673320>"
          },
          "execution_count": 103,
          "metadata": {},
          "output_type": "execute_result"
        },
        {
          "data": {
            "image/png": "[encoded data removed]",
            "text/plain": "<matplotlib.figure.Figure at 0x2ad8a6a20f0>"
          },
          "metadata": {},
          "output_type": "display_data"
        }
      ]
    },
    {
      "metadata": {
        "trusted": false
      },
      "cell_type": "code",
      "source": "import pandas as pd\nmarket_df=pd.read_csv('C:/Users/SP20635/Desktop/Desk/INSAID/module2/supermarkets.csv')\nmarket_df",
      "execution_count": 104,
      "outputs": [
        {
          "data": {
            "text/html": "<div>\n<style>\n    .dataframe thead tr:only-child th {\n        text-align: right;\n    }\n\n    .dataframe thead th {\n        text-align: left;\n    }\n\n    .dataframe tbody tr th {\n        vertical-align: top;\n    }\n</style>\n<table border=\"1\" class=\"dataframe\">\n  <thead>\n    <tr style=\"text-align: right;\">\n      <th></th>\n      <th>ID</th>\n      <th>Address</th>\n      <th>City</th>\n      <th>State</th>\n      <th>Country</th>\n      <th>Name</th>\n      <th>Employees</th>\n    </tr>\n  </thead>\n  <tbody>\n    <tr>\n      <th>0</th>\n      <td>1</td>\n      <td>3666 21st St</td>\n      <td>San Francisco</td>\n      <td>CA 94114</td>\n      <td>USA</td>\n      <td>Madeira</td>\n      <td>8</td>\n    </tr>\n    <tr>\n      <th>1</th>\n      <td>2</td>\n      <td>735 Dolores St</td>\n      <td>San Francisco</td>\n      <td>CA 94119</td>\n      <td>USA</td>\n      <td>Bready Shop</td>\n      <td>15</td>\n    </tr>\n    <tr>\n      <th>2</th>\n      <td>3</td>\n      <td>332 Hill St</td>\n      <td>San Francisco</td>\n      <td>California 94114</td>\n      <td>USA</td>\n      <td>Super River</td>\n      <td>25</td>\n    </tr>\n    <tr>\n      <th>3</th>\n      <td>4</td>\n      <td>3995 23rd St</td>\n      <td>San Francisco</td>\n      <td>CA 94114</td>\n      <td>USA</td>\n      <td>Ben's Shop</td>\n      <td>10</td>\n    </tr>\n    <tr>\n      <th>4</th>\n      <td>5</td>\n      <td>1056 Sanchez St</td>\n      <td>San Francisco</td>\n      <td>California</td>\n      <td>USA</td>\n      <td>Sanchez</td>\n      <td>12</td>\n    </tr>\n    <tr>\n      <th>5</th>\n      <td>6</td>\n      <td>551 Alvarado St</td>\n      <td>San Francisco</td>\n      <td>CA 94114</td>\n      <td>USA</td>\n      <td>Richvalley</td>\n      <td>20</td>\n    </tr>\n  </tbody>\n</table>\n</div>",
            "text/plain": "   ID          Address           City             State Country         Name  \\\n0   1     3666 21st St  San Francisco          CA 94114     USA      Madeira   \n1   2   735 Dolores St  San Francisco          CA 94119     USA  Bready Shop   \n2   3      332 Hill St  San Francisco  California 94114     USA  Super River   \n3   4     3995 23rd St  San Francisco          CA 94114     USA   Ben's Shop   \n4   5  1056 Sanchez St  San Francisco        California     USA      Sanchez   \n5   6  551 Alvarado St  San Francisco          CA 94114     USA   Richvalley   \n\n   Employees  \n0          8  \n1         15  \n2         25  \n3         10  \n4         12  \n5         20  "
          },
          "execution_count": 104,
          "metadata": {},
          "output_type": "execute_result"
        }
      ]
    },
    {
      "metadata": {
        "scrolled": true,
        "trusted": false
      },
      "cell_type": "code",
      "source": "market_df=market_df.set_index('ID')\nmarket_df",
      "execution_count": 105,
      "outputs": [
        {
          "data": {
            "text/html": "<div>\n<style>\n    .dataframe thead tr:only-child th {\n        text-align: right;\n    }\n\n    .dataframe thead th {\n        text-align: left;\n    }\n\n    .dataframe tbody tr th {\n        vertical-align: top;\n    }\n</style>\n<table border=\"1\" class=\"dataframe\">\n  <thead>\n    <tr style=\"text-align: right;\">\n      <th></th>\n      <th>Address</th>\n      <th>City</th>\n      <th>State</th>\n      <th>Country</th>\n      <th>Name</th>\n      <th>Employees</th>\n    </tr>\n    <tr>\n      <th>ID</th>\n      <th></th>\n      <th></th>\n      <th></th>\n      <th></th>\n      <th></th>\n      <th></th>\n    </tr>\n  </thead>\n  <tbody>\n    <tr>\n      <th>1</th>\n      <td>3666 21st St</td>\n      <td>San Francisco</td>\n      <td>CA 94114</td>\n      <td>USA</td>\n      <td>Madeira</td>\n      <td>8</td>\n    </tr>\n    <tr>\n      <th>2</th>\n      <td>735 Dolores St</td>\n      <td>San Francisco</td>\n      <td>CA 94119</td>\n      <td>USA</td>\n      <td>Bready Shop</td>\n      <td>15</td>\n    </tr>\n    <tr>\n      <th>3</th>\n      <td>332 Hill St</td>\n      <td>San Francisco</td>\n      <td>California 94114</td>\n      <td>USA</td>\n      <td>Super River</td>\n      <td>25</td>\n    </tr>\n    <tr>\n      <th>4</th>\n      <td>3995 23rd St</td>\n      <td>San Francisco</td>\n      <td>CA 94114</td>\n      <td>USA</td>\n      <td>Ben's Shop</td>\n      <td>10</td>\n    </tr>\n    <tr>\n      <th>5</th>\n      <td>1056 Sanchez St</td>\n      <td>San Francisco</td>\n      <td>California</td>\n      <td>USA</td>\n      <td>Sanchez</td>\n      <td>12</td>\n    </tr>\n    <tr>\n      <th>6</th>\n      <td>551 Alvarado St</td>\n      <td>San Francisco</td>\n      <td>CA 94114</td>\n      <td>USA</td>\n      <td>Richvalley</td>\n      <td>20</td>\n    </tr>\n  </tbody>\n</table>\n</div>",
            "text/plain": "            Address           City             State Country         Name  \\\nID                                                                          \n1      3666 21st St  San Francisco          CA 94114     USA      Madeira   \n2    735 Dolores St  San Francisco          CA 94119     USA  Bready Shop   \n3       332 Hill St  San Francisco  California 94114     USA  Super River   \n4      3995 23rd St  San Francisco          CA 94114     USA   Ben's Shop   \n5   1056 Sanchez St  San Francisco        California     USA      Sanchez   \n6   551 Alvarado St  San Francisco          CA 94114     USA   Richvalley   \n\n    Employees  \nID             \n1           8  \n2          15  \n3          25  \n4          10  \n5          12  \n6          20  "
          },
          "execution_count": 105,
          "metadata": {},
          "output_type": "execute_result"
        }
      ]
    },
    {
      "metadata": {
        "trusted": false
      },
      "cell_type": "code",
      "source": "market_df.index",
      "execution_count": 106,
      "outputs": [
        {
          "data": {
            "text/plain": "Int64Index([1, 2, 3, 4, 5, 6], dtype='int64', name='ID')"
          },
          "execution_count": 106,
          "metadata": {},
          "output_type": "execute_result"
        }
      ]
    },
    {
      "metadata": {
        "trusted": false
      },
      "cell_type": "code",
      "source": "market_df.iloc[:5,1:3]",
      "execution_count": 111,
      "outputs": [
        {
          "data": {
            "text/html": "<div>\n<style>\n    .dataframe thead tr:only-child th {\n        text-align: right;\n    }\n\n    .dataframe thead th {\n        text-align: left;\n    }\n\n    .dataframe tbody tr th {\n        vertical-align: top;\n    }\n</style>\n<table border=\"1\" class=\"dataframe\">\n  <thead>\n    <tr style=\"text-align: right;\">\n      <th></th>\n      <th>City</th>\n      <th>State</th>\n    </tr>\n    <tr>\n      <th>ID</th>\n      <th></th>\n      <th></th>\n    </tr>\n  </thead>\n  <tbody>\n    <tr>\n      <th>1</th>\n      <td>San Francisco</td>\n      <td>CA 94114</td>\n    </tr>\n    <tr>\n      <th>2</th>\n      <td>San Francisco</td>\n      <td>CA 94119</td>\n    </tr>\n    <tr>\n      <th>3</th>\n      <td>San Francisco</td>\n      <td>California 94114</td>\n    </tr>\n    <tr>\n      <th>4</th>\n      <td>San Francisco</td>\n      <td>CA 94114</td>\n    </tr>\n    <tr>\n      <th>5</th>\n      <td>San Francisco</td>\n      <td>California</td>\n    </tr>\n  </tbody>\n</table>\n</div>",
            "text/plain": "             City             State\nID                                 \n1   San Francisco          CA 94114\n2   San Francisco          CA 94119\n3   San Francisco  California 94114\n4   San Francisco          CA 94114\n5   San Francisco        California"
          },
          "execution_count": 111,
          "metadata": {},
          "output_type": "execute_result"
        }
      ]
    },
    {
      "metadata": {
        "trusted": false
      },
      "cell_type": "code",
      "source": "market_df.iloc[2:5,0:5]",
      "execution_count": 117,
      "outputs": [
        {
          "data": {
            "text/html": "<div>\n<style>\n    .dataframe thead tr:only-child th {\n        text-align: right;\n    }\n\n    .dataframe thead th {\n        text-align: left;\n    }\n\n    .dataframe tbody tr th {\n        vertical-align: top;\n    }\n</style>\n<table border=\"1\" class=\"dataframe\">\n  <thead>\n    <tr style=\"text-align: right;\">\n      <th></th>\n      <th>Address</th>\n      <th>City</th>\n      <th>State</th>\n      <th>Country</th>\n      <th>Name</th>\n    </tr>\n    <tr>\n      <th>ID</th>\n      <th></th>\n      <th></th>\n      <th></th>\n      <th></th>\n      <th></th>\n    </tr>\n  </thead>\n  <tbody>\n    <tr>\n      <th>3</th>\n      <td>332 Hill St</td>\n      <td>San Francisco</td>\n      <td>California 94114</td>\n      <td>USA</td>\n      <td>Super River</td>\n    </tr>\n    <tr>\n      <th>4</th>\n      <td>3995 23rd St</td>\n      <td>San Francisco</td>\n      <td>CA 94114</td>\n      <td>USA</td>\n      <td>Ben's Shop</td>\n    </tr>\n    <tr>\n      <th>5</th>\n      <td>1056 Sanchez St</td>\n      <td>San Francisco</td>\n      <td>California</td>\n      <td>USA</td>\n      <td>Sanchez</td>\n    </tr>\n  </tbody>\n</table>\n</div>",
            "text/plain": "            Address           City             State Country         Name\nID                                                                       \n3       332 Hill St  San Francisco  California 94114     USA  Super River\n4      3995 23rd St  San Francisco          CA 94114     USA   Ben's Shop\n5   1056 Sanchez St  San Francisco        California     USA      Sanchez"
          },
          "execution_count": 117,
          "metadata": {},
          "output_type": "execute_result"
        }
      ]
    },
    {
      "metadata": {
        "trusted": false
      },
      "cell_type": "code",
      "source": "market_df.iloc[:4,1:4]",
      "execution_count": 115,
      "outputs": [
        {
          "data": {
            "text/html": "<div>\n<style>\n    .dataframe thead tr:only-child th {\n        text-align: right;\n    }\n\n    .dataframe thead th {\n        text-align: left;\n    }\n\n    .dataframe tbody tr th {\n        vertical-align: top;\n    }\n</style>\n<table border=\"1\" class=\"dataframe\">\n  <thead>\n    <tr style=\"text-align: right;\">\n      <th></th>\n      <th>City</th>\n      <th>State</th>\n      <th>Country</th>\n    </tr>\n    <tr>\n      <th>ID</th>\n      <th></th>\n      <th></th>\n      <th></th>\n    </tr>\n  </thead>\n  <tbody>\n    <tr>\n      <th>1</th>\n      <td>San Francisco</td>\n      <td>CA 94114</td>\n      <td>USA</td>\n    </tr>\n    <tr>\n      <th>2</th>\n      <td>San Francisco</td>\n      <td>CA 94119</td>\n      <td>USA</td>\n    </tr>\n    <tr>\n      <th>3</th>\n      <td>San Francisco</td>\n      <td>California 94114</td>\n      <td>USA</td>\n    </tr>\n    <tr>\n      <th>4</th>\n      <td>San Francisco</td>\n      <td>CA 94114</td>\n      <td>USA</td>\n    </tr>\n  </tbody>\n</table>\n</div>",
            "text/plain": "             City             State Country\nID                                         \n1   San Francisco          CA 94114     USA\n2   San Francisco          CA 94119     USA\n3   San Francisco  California 94114     USA\n4   San Francisco          CA 94114     USA"
          },
          "execution_count": 115,
          "metadata": {},
          "output_type": "execute_result"
        }
      ]
    },
    {
      "metadata": {
        "trusted": false
      },
      "cell_type": "code",
      "source": "market_df",
      "execution_count": 118,
      "outputs": [
        {
          "data": {
            "text/html": "<div>\n<style>\n    .dataframe thead tr:only-child th {\n        text-align: right;\n    }\n\n    .dataframe thead th {\n        text-align: left;\n    }\n\n    .dataframe tbody tr th {\n        vertical-align: top;\n    }\n</style>\n<table border=\"1\" class=\"dataframe\">\n  <thead>\n    <tr style=\"text-align: right;\">\n      <th></th>\n      <th>Address</th>\n      <th>City</th>\n      <th>State</th>\n      <th>Country</th>\n      <th>Name</th>\n      <th>Employees</th>\n    </tr>\n    <tr>\n      <th>ID</th>\n      <th></th>\n      <th></th>\n      <th></th>\n      <th></th>\n      <th></th>\n      <th></th>\n    </tr>\n  </thead>\n  <tbody>\n    <tr>\n      <th>1</th>\n      <td>3666 21st St</td>\n      <td>San Francisco</td>\n      <td>CA 94114</td>\n      <td>USA</td>\n      <td>Madeira</td>\n      <td>8</td>\n    </tr>\n    <tr>\n      <th>2</th>\n      <td>735 Dolores St</td>\n      <td>San Francisco</td>\n      <td>CA 94119</td>\n      <td>USA</td>\n      <td>Bready Shop</td>\n      <td>15</td>\n    </tr>\n    <tr>\n      <th>3</th>\n      <td>332 Hill St</td>\n      <td>San Francisco</td>\n      <td>California 94114</td>\n      <td>USA</td>\n      <td>Super River</td>\n      <td>25</td>\n    </tr>\n    <tr>\n      <th>4</th>\n      <td>3995 23rd St</td>\n      <td>San Francisco</td>\n      <td>CA 94114</td>\n      <td>USA</td>\n      <td>Ben's Shop</td>\n      <td>10</td>\n    </tr>\n    <tr>\n      <th>5</th>\n      <td>1056 Sanchez St</td>\n      <td>San Francisco</td>\n      <td>California</td>\n      <td>USA</td>\n      <td>Sanchez</td>\n      <td>12</td>\n    </tr>\n    <tr>\n      <th>6</th>\n      <td>551 Alvarado St</td>\n      <td>San Francisco</td>\n      <td>CA 94114</td>\n      <td>USA</td>\n      <td>Richvalley</td>\n      <td>20</td>\n    </tr>\n  </tbody>\n</table>\n</div>",
            "text/plain": "            Address           City             State Country         Name  \\\nID                                                                          \n1      3666 21st St  San Francisco          CA 94114     USA      Madeira   \n2    735 Dolores St  San Francisco          CA 94119     USA  Bready Shop   \n3       332 Hill St  San Francisco  California 94114     USA  Super River   \n4      3995 23rd St  San Francisco          CA 94114     USA   Ben's Shop   \n5   1056 Sanchez St  San Francisco        California     USA      Sanchez   \n6   551 Alvarado St  San Francisco          CA 94114     USA   Richvalley   \n\n    Employees  \nID             \n1           8  \n2          15  \n3          25  \n4          10  \n5          12  \n6          20  "
          },
          "execution_count": 118,
          "metadata": {},
          "output_type": "execute_result"
        }
      ]
    },
    {
      "metadata": {
        "trusted": false
      },
      "cell_type": "code",
      "source": "market_df.loc[3:5,'Address']",
      "execution_count": 120,
      "outputs": [
        {
          "data": {
            "text/plain": "ID\n3        332 Hill St\n4       3995 23rd St\n5    1056 Sanchez St\nName: Address, dtype: object"
          },
          "execution_count": 120,
          "metadata": {},
          "output_type": "execute_result"
        }
      ]
    },
    {
      "metadata": {
        "trusted": false
      },
      "cell_type": "code",
      "source": "market_df.loc[3:5,'Address':\"Country\"]",
      "execution_count": 121,
      "outputs": [
        {
          "data": {
            "text/html": "<div>\n<style>\n    .dataframe thead tr:only-child th {\n        text-align: right;\n    }\n\n    .dataframe thead th {\n        text-align: left;\n    }\n\n    .dataframe tbody tr th {\n        vertical-align: top;\n    }\n</style>\n<table border=\"1\" class=\"dataframe\">\n  <thead>\n    <tr style=\"text-align: right;\">\n      <th></th>\n      <th>Address</th>\n      <th>City</th>\n      <th>State</th>\n      <th>Country</th>\n    </tr>\n    <tr>\n      <th>ID</th>\n      <th></th>\n      <th></th>\n      <th></th>\n      <th></th>\n    </tr>\n  </thead>\n  <tbody>\n    <tr>\n      <th>3</th>\n      <td>332 Hill St</td>\n      <td>San Francisco</td>\n      <td>California 94114</td>\n      <td>USA</td>\n    </tr>\n    <tr>\n      <th>4</th>\n      <td>3995 23rd St</td>\n      <td>San Francisco</td>\n      <td>CA 94114</td>\n      <td>USA</td>\n    </tr>\n    <tr>\n      <th>5</th>\n      <td>1056 Sanchez St</td>\n      <td>San Francisco</td>\n      <td>California</td>\n      <td>USA</td>\n    </tr>\n  </tbody>\n</table>\n</div>",
            "text/plain": "            Address           City             State Country\nID                                                          \n3       332 Hill St  San Francisco  California 94114     USA\n4      3995 23rd St  San Francisco          CA 94114     USA\n5   1056 Sanchez St  San Francisco        California     USA"
          },
          "execution_count": 121,
          "metadata": {},
          "output_type": "execute_result"
        }
      ]
    },
    {
      "metadata": {
        "trusted": false
      },
      "cell_type": "code",
      "source": "market_df.loc[:,['Address',\"Name\"]]",
      "execution_count": 123,
      "outputs": [
        {
          "data": {
            "text/html": "<div>\n<style>\n    .dataframe thead tr:only-child th {\n        text-align: right;\n    }\n\n    .dataframe thead th {\n        text-align: left;\n    }\n\n    .dataframe tbody tr th {\n        vertical-align: top;\n    }\n</style>\n<table border=\"1\" class=\"dataframe\">\n  <thead>\n    <tr style=\"text-align: right;\">\n      <th></th>\n      <th>Address</th>\n      <th>Name</th>\n    </tr>\n    <tr>\n      <th>ID</th>\n      <th></th>\n      <th></th>\n    </tr>\n  </thead>\n  <tbody>\n    <tr>\n      <th>1</th>\n      <td>3666 21st St</td>\n      <td>Madeira</td>\n    </tr>\n    <tr>\n      <th>2</th>\n      <td>735 Dolores St</td>\n      <td>Bready Shop</td>\n    </tr>\n    <tr>\n      <th>3</th>\n      <td>332 Hill St</td>\n      <td>Super River</td>\n    </tr>\n    <tr>\n      <th>4</th>\n      <td>3995 23rd St</td>\n      <td>Ben's Shop</td>\n    </tr>\n    <tr>\n      <th>5</th>\n      <td>1056 Sanchez St</td>\n      <td>Sanchez</td>\n    </tr>\n    <tr>\n      <th>6</th>\n      <td>551 Alvarado St</td>\n      <td>Richvalley</td>\n    </tr>\n  </tbody>\n</table>\n</div>",
            "text/plain": "            Address         Name\nID                              \n1      3666 21st St      Madeira\n2    735 Dolores St  Bready Shop\n3       332 Hill St  Super River\n4      3995 23rd St   Ben's Shop\n5   1056 Sanchez St      Sanchez\n6   551 Alvarado St   Richvalley"
          },
          "execution_count": 123,
          "metadata": {},
          "output_type": "execute_result"
        }
      ]
    },
    {
      "metadata": {
        "trusted": false
      },
      "cell_type": "code",
      "source": "market_df.loc[:,['State',\"Country\"]]",
      "execution_count": 124,
      "outputs": [
        {
          "data": {
            "text/html": "<div>\n<style>\n    .dataframe thead tr:only-child th {\n        text-align: right;\n    }\n\n    .dataframe thead th {\n        text-align: left;\n    }\n\n    .dataframe tbody tr th {\n        vertical-align: top;\n    }\n</style>\n<table border=\"1\" class=\"dataframe\">\n  <thead>\n    <tr style=\"text-align: right;\">\n      <th></th>\n      <th>State</th>\n      <th>Country</th>\n    </tr>\n    <tr>\n      <th>ID</th>\n      <th></th>\n      <th></th>\n    </tr>\n  </thead>\n  <tbody>\n    <tr>\n      <th>1</th>\n      <td>CA 94114</td>\n      <td>USA</td>\n    </tr>\n    <tr>\n      <th>2</th>\n      <td>CA 94119</td>\n      <td>USA</td>\n    </tr>\n    <tr>\n      <th>3</th>\n      <td>California 94114</td>\n      <td>USA</td>\n    </tr>\n    <tr>\n      <th>4</th>\n      <td>CA 94114</td>\n      <td>USA</td>\n    </tr>\n    <tr>\n      <th>5</th>\n      <td>California</td>\n      <td>USA</td>\n    </tr>\n    <tr>\n      <th>6</th>\n      <td>CA 94114</td>\n      <td>USA</td>\n    </tr>\n  </tbody>\n</table>\n</div>",
            "text/plain": "               State Country\nID                          \n1           CA 94114     USA\n2           CA 94119     USA\n3   California 94114     USA\n4           CA 94114     USA\n5         California     USA\n6           CA 94114     USA"
          },
          "execution_count": 124,
          "metadata": {},
          "output_type": "execute_result"
        }
      ]
    },
    {
      "metadata": {
        "collapsed": true,
        "trusted": false
      },
      "cell_type": "code",
      "source": "import pandas as pd",
      "execution_count": 125,
      "outputs": []
    },
    {
      "metadata": {
        "collapsed": true,
        "trusted": false
      },
      "cell_type": "code",
      "source": "df1=pd.DataFrame({\n    'id':[1,2,3,4,5],\n    'name':['a','b','c','d','e'],\n    'sub':['sub1','sub2','sub3','sub4','sub5']\n})\n\ndf2=pd.DataFrame({\n    'id':[1,2,3,4,5],\n    'name':['b','b','d','e','f'],\n    'sub':['sub3','sub4','sub5','sub6','sub7']\n})",
      "execution_count": 126,
      "outputs": []
    },
    {
      "metadata": {
        "trusted": false
      },
      "cell_type": "code",
      "source": "print(df1)\nprint('\\n\\n')\nprint(df2)",
      "execution_count": 129,
      "outputs": [
        {
          "name": "stdout",
          "output_type": "stream",
          "text": "   id name   sub\n0   1    a  sub1\n1   2    b  sub2\n2   3    c  sub3\n3   4    d  sub4\n4   5    e  sub5\n\n\n\n   id name   sub\n0   1    b  sub3\n1   2    b  sub4\n2   3    d  sub5\n3   4    e  sub6\n4   5    f  sub7\n"
        }
      ]
    },
    {
      "metadata": {
        "trusted": false
      },
      "cell_type": "code",
      "source": "pd.concat([df1,df2],axis=0)",
      "execution_count": 130,
      "outputs": [
        {
          "data": {
            "text/html": "<div>\n<style>\n    .dataframe thead tr:only-child th {\n        text-align: right;\n    }\n\n    .dataframe thead th {\n        text-align: left;\n    }\n\n    .dataframe tbody tr th {\n        vertical-align: top;\n    }\n</style>\n<table border=\"1\" class=\"dataframe\">\n  <thead>\n    <tr style=\"text-align: right;\">\n      <th></th>\n      <th>id</th>\n      <th>name</th>\n      <th>sub</th>\n    </tr>\n  </thead>\n  <tbody>\n    <tr>\n      <th>0</th>\n      <td>1</td>\n      <td>a</td>\n      <td>sub1</td>\n    </tr>\n    <tr>\n      <th>1</th>\n      <td>2</td>\n      <td>b</td>\n      <td>sub2</td>\n    </tr>\n    <tr>\n      <th>2</th>\n      <td>3</td>\n      <td>c</td>\n      <td>sub3</td>\n    </tr>\n    <tr>\n      <th>3</th>\n      <td>4</td>\n      <td>d</td>\n      <td>sub4</td>\n    </tr>\n    <tr>\n      <th>4</th>\n      <td>5</td>\n      <td>e</td>\n      <td>sub5</td>\n    </tr>\n    <tr>\n      <th>0</th>\n      <td>1</td>\n      <td>b</td>\n      <td>sub3</td>\n    </tr>\n    <tr>\n      <th>1</th>\n      <td>2</td>\n      <td>b</td>\n      <td>sub4</td>\n    </tr>\n    <tr>\n      <th>2</th>\n      <td>3</td>\n      <td>d</td>\n      <td>sub5</td>\n    </tr>\n    <tr>\n      <th>3</th>\n      <td>4</td>\n      <td>e</td>\n      <td>sub6</td>\n    </tr>\n    <tr>\n      <th>4</th>\n      <td>5</td>\n      <td>f</td>\n      <td>sub7</td>\n    </tr>\n  </tbody>\n</table>\n</div>",
            "text/plain": "   id name   sub\n0   1    a  sub1\n1   2    b  sub2\n2   3    c  sub3\n3   4    d  sub4\n4   5    e  sub5\n0   1    b  sub3\n1   2    b  sub4\n2   3    d  sub5\n3   4    e  sub6\n4   5    f  sub7"
          },
          "execution_count": 130,
          "metadata": {},
          "output_type": "execute_result"
        }
      ]
    },
    {
      "metadata": {
        "trusted": false
      },
      "cell_type": "code",
      "source": "pd.concat([df1,df2],axis=0,ignore_index=True)",
      "execution_count": 131,
      "outputs": [
        {
          "data": {
            "text/html": "<div>\n<style>\n    .dataframe thead tr:only-child th {\n        text-align: right;\n    }\n\n    .dataframe thead th {\n        text-align: left;\n    }\n\n    .dataframe tbody tr th {\n        vertical-align: top;\n    }\n</style>\n<table border=\"1\" class=\"dataframe\">\n  <thead>\n    <tr style=\"text-align: right;\">\n      <th></th>\n      <th>id</th>\n      <th>name</th>\n      <th>sub</th>\n    </tr>\n  </thead>\n  <tbody>\n    <tr>\n      <th>0</th>\n      <td>1</td>\n      <td>a</td>\n      <td>sub1</td>\n    </tr>\n    <tr>\n      <th>1</th>\n      <td>2</td>\n      <td>b</td>\n      <td>sub2</td>\n    </tr>\n    <tr>\n      <th>2</th>\n      <td>3</td>\n      <td>c</td>\n      <td>sub3</td>\n    </tr>\n    <tr>\n      <th>3</th>\n      <td>4</td>\n      <td>d</td>\n      <td>sub4</td>\n    </tr>\n    <tr>\n      <th>4</th>\n      <td>5</td>\n      <td>e</td>\n      <td>sub5</td>\n    </tr>\n    <tr>\n      <th>5</th>\n      <td>1</td>\n      <td>b</td>\n      <td>sub3</td>\n    </tr>\n    <tr>\n      <th>6</th>\n      <td>2</td>\n      <td>b</td>\n      <td>sub4</td>\n    </tr>\n    <tr>\n      <th>7</th>\n      <td>3</td>\n      <td>d</td>\n      <td>sub5</td>\n    </tr>\n    <tr>\n      <th>8</th>\n      <td>4</td>\n      <td>e</td>\n      <td>sub6</td>\n    </tr>\n    <tr>\n      <th>9</th>\n      <td>5</td>\n      <td>f</td>\n      <td>sub7</td>\n    </tr>\n  </tbody>\n</table>\n</div>",
            "text/plain": "   id name   sub\n0   1    a  sub1\n1   2    b  sub2\n2   3    c  sub3\n3   4    d  sub4\n4   5    e  sub5\n5   1    b  sub3\n6   2    b  sub4\n7   3    d  sub5\n8   4    e  sub6\n9   5    f  sub7"
          },
          "execution_count": 131,
          "metadata": {},
          "output_type": "execute_result"
        }
      ]
    },
    {
      "metadata": {
        "trusted": false
      },
      "cell_type": "code",
      "source": "pd.concat([df1,df2],axis=1)",
      "execution_count": 6,
      "outputs": [
        {
          "data": {
            "text/html": "<div>\n<style>\n    .dataframe thead tr:only-child th {\n        text-align: right;\n    }\n\n    .dataframe thead th {\n        text-align: left;\n    }\n\n    .dataframe tbody tr th {\n        vertical-align: top;\n    }\n</style>\n<table border=\"1\" class=\"dataframe\">\n  <thead>\n    <tr style=\"text-align: right;\">\n      <th></th>\n      <th>EmployeeId</th>\n      <th>EmployeeName</th>\n      <th>sub</th>\n      <th>DeptId</th>\n      <th>DeptName</th>\n      <th>sub</th>\n    </tr>\n  </thead>\n  <tbody>\n    <tr>\n      <th>0</th>\n      <td>1</td>\n      <td>a</td>\n      <td>sub1</td>\n      <td>1</td>\n      <td>b</td>\n      <td>sub3</td>\n    </tr>\n    <tr>\n      <th>1</th>\n      <td>2</td>\n      <td>b</td>\n      <td>sub2</td>\n      <td>2</td>\n      <td>b</td>\n      <td>sub4</td>\n    </tr>\n    <tr>\n      <th>2</th>\n      <td>3</td>\n      <td>c</td>\n      <td>sub3</td>\n      <td>3</td>\n      <td>d</td>\n      <td>sub5</td>\n    </tr>\n    <tr>\n      <th>3</th>\n      <td>4</td>\n      <td>d</td>\n      <td>sub4</td>\n      <td>4</td>\n      <td>e</td>\n      <td>sub6</td>\n    </tr>\n    <tr>\n      <th>4</th>\n      <td>5</td>\n      <td>e</td>\n      <td>sub5</td>\n      <td>5</td>\n      <td>f</td>\n      <td>sub7</td>\n    </tr>\n  </tbody>\n</table>\n</div>",
            "text/plain": "   EmployeeId EmployeeName   sub  DeptId DeptName   sub\n0           1            a  sub1       1        b  sub3\n1           2            b  sub2       2        b  sub4\n2           3            c  sub3       3        d  sub5\n3           4            d  sub4       4        e  sub6\n4           5            e  sub5       5        f  sub7"
          },
          "execution_count": 6,
          "metadata": {},
          "output_type": "execute_result"
        }
      ]
    },
    {
      "metadata": {
        "collapsed": true,
        "trusted": false
      },
      "cell_type": "code",
      "source": "df1=pd.DataFrame({\n    'EmployeeId':[1,2,3,4,5],\n    'EmployeeName':['a','b','c','d','e'],\n    'sub':['sub1','sub2','sub3','sub4','sub5']\n})\n\ndf2=pd.DataFrame({\n    'DeptId':[1,2,3,4,5],\n    'DeptName':['b','b','d','e','f'],\n    'sub':['sub3','sub4','sub5','sub6','sub7']\n})",
      "execution_count": 4,
      "outputs": []
    },
    {
      "metadata": {
        "trusted": false
      },
      "cell_type": "code",
      "source": "print(df1)\nprint('\\n\\n')\nprint(df2)",
      "execution_count": 5,
      "outputs": [
        {
          "name": "stdout",
          "output_type": "stream",
          "text": "   EmployeeId EmployeeName   sub\n0           1            a  sub1\n1           2            b  sub2\n2           3            c  sub3\n3           4            d  sub4\n4           5            e  sub5\n\n\n\n   DeptId DeptName   sub\n0       1        b  sub3\n1       2        b  sub4\n2       3        d  sub5\n3       4        e  sub6\n4       5        f  sub7\n"
        }
      ]
    },
    {
      "metadata": {
        "trusted": false
      },
      "cell_type": "code",
      "source": "pd.concat([df1,df2],axis=1)",
      "execution_count": 135,
      "outputs": [
        {
          "data": {
            "text/html": "<div>\n<style>\n    .dataframe thead tr:only-child th {\n        text-align: right;\n    }\n\n    .dataframe thead th {\n        text-align: left;\n    }\n\n    .dataframe tbody tr th {\n        vertical-align: top;\n    }\n</style>\n<table border=\"1\" class=\"dataframe\">\n  <thead>\n    <tr style=\"text-align: right;\">\n      <th></th>\n      <th>EmployeeId</th>\n      <th>EmployeeName</th>\n      <th>sub</th>\n      <th>DeptId</th>\n      <th>DeptName</th>\n      <th>sub</th>\n    </tr>\n  </thead>\n  <tbody>\n    <tr>\n      <th>0</th>\n      <td>1</td>\n      <td>a</td>\n      <td>sub1</td>\n      <td>1</td>\n      <td>b</td>\n      <td>sub3</td>\n    </tr>\n    <tr>\n      <th>1</th>\n      <td>2</td>\n      <td>b</td>\n      <td>sub2</td>\n      <td>2</td>\n      <td>b</td>\n      <td>sub4</td>\n    </tr>\n    <tr>\n      <th>2</th>\n      <td>3</td>\n      <td>c</td>\n      <td>sub3</td>\n      <td>3</td>\n      <td>d</td>\n      <td>sub5</td>\n    </tr>\n    <tr>\n      <th>3</th>\n      <td>4</td>\n      <td>d</td>\n      <td>sub4</td>\n      <td>4</td>\n      <td>e</td>\n      <td>sub6</td>\n    </tr>\n    <tr>\n      <th>4</th>\n      <td>5</td>\n      <td>e</td>\n      <td>sub5</td>\n      <td>5</td>\n      <td>f</td>\n      <td>sub7</td>\n    </tr>\n  </tbody>\n</table>\n</div>",
            "text/plain": "   EmployeeId EmployeeName   sub  DeptId DeptName   sub\n0           1            a  sub1       1        b  sub3\n1           2            b  sub2       2        b  sub4\n2           3            c  sub3       3        d  sub5\n3           4            d  sub4       4        e  sub6\n4           5            e  sub5       5        f  sub7"
          },
          "execution_count": 135,
          "metadata": {},
          "output_type": "execute_result"
        }
      ]
    },
    {
      "metadata": {
        "trusted": false
      },
      "cell_type": "code",
      "source": "pd.merge(left=df1,right=df2,on='sub')",
      "execution_count": 139,
      "outputs": [
        {
          "data": {
            "text/html": "<div>\n<style>\n    .dataframe thead tr:only-child th {\n        text-align: right;\n    }\n\n    .dataframe thead th {\n        text-align: left;\n    }\n\n    .dataframe tbody tr th {\n        vertical-align: top;\n    }\n</style>\n<table border=\"1\" class=\"dataframe\">\n  <thead>\n    <tr style=\"text-align: right;\">\n      <th></th>\n      <th>EmployeeId</th>\n      <th>EmployeeName</th>\n      <th>sub</th>\n      <th>DeptId</th>\n      <th>DeptName</th>\n    </tr>\n  </thead>\n  <tbody>\n    <tr>\n      <th>0</th>\n      <td>3</td>\n      <td>c</td>\n      <td>sub3</td>\n      <td>1</td>\n      <td>b</td>\n    </tr>\n    <tr>\n      <th>1</th>\n      <td>4</td>\n      <td>d</td>\n      <td>sub4</td>\n      <td>2</td>\n      <td>b</td>\n    </tr>\n    <tr>\n      <th>2</th>\n      <td>5</td>\n      <td>e</td>\n      <td>sub5</td>\n      <td>3</td>\n      <td>d</td>\n    </tr>\n  </tbody>\n</table>\n</div>",
            "text/plain": "   EmployeeId EmployeeName   sub  DeptId DeptName\n0           3            c  sub3       1        b\n1           4            d  sub4       2        b\n2           5            e  sub5       3        d"
          },
          "execution_count": 139,
          "metadata": {},
          "output_type": "execute_result"
        }
      ]
    },
    {
      "metadata": {
        "trusted": false
      },
      "cell_type": "code",
      "source": "pd.merge(left=df1,right=df2,on='sub',how='left')",
      "execution_count": 8,
      "outputs": [
        {
          "data": {
            "text/html": "<div>\n<style>\n    .dataframe thead tr:only-child th {\n        text-align: right;\n    }\n\n    .dataframe thead th {\n        text-align: left;\n    }\n\n    .dataframe tbody tr th {\n        vertical-align: top;\n    }\n</style>\n<table border=\"1\" class=\"dataframe\">\n  <thead>\n    <tr style=\"text-align: right;\">\n      <th></th>\n      <th>EmployeeId</th>\n      <th>EmployeeName</th>\n      <th>sub</th>\n      <th>DeptId</th>\n      <th>DeptName</th>\n    </tr>\n  </thead>\n  <tbody>\n    <tr>\n      <th>0</th>\n      <td>1</td>\n      <td>a</td>\n      <td>sub1</td>\n      <td>NaN</td>\n      <td>NaN</td>\n    </tr>\n    <tr>\n      <th>1</th>\n      <td>2</td>\n      <td>b</td>\n      <td>sub2</td>\n      <td>NaN</td>\n      <td>NaN</td>\n    </tr>\n    <tr>\n      <th>2</th>\n      <td>3</td>\n      <td>c</td>\n      <td>sub3</td>\n      <td>1.0</td>\n      <td>b</td>\n    </tr>\n    <tr>\n      <th>3</th>\n      <td>4</td>\n      <td>d</td>\n      <td>sub4</td>\n      <td>2.0</td>\n      <td>b</td>\n    </tr>\n    <tr>\n      <th>4</th>\n      <td>5</td>\n      <td>e</td>\n      <td>sub5</td>\n      <td>3.0</td>\n      <td>d</td>\n    </tr>\n  </tbody>\n</table>\n</div>",
            "text/plain": "   EmployeeId EmployeeName   sub  DeptId DeptName\n0           1            a  sub1     NaN      NaN\n1           2            b  sub2     NaN      NaN\n2           3            c  sub3     1.0        b\n3           4            d  sub4     2.0        b\n4           5            e  sub5     3.0        d"
          },
          "execution_count": 8,
          "metadata": {},
          "output_type": "execute_result"
        }
      ]
    },
    {
      "metadata": {
        "trusted": false
      },
      "cell_type": "code",
      "source": "df_onlyright = pd.merge(left=df1,right=df2,on=\"sub\",how='right',indicator=True).query('_merge==\"right_only\"')\ndf_onlyright",
      "execution_count": 13,
      "outputs": [
        {
          "data": {
            "text/html": "<div>\n<style>\n    .dataframe thead tr:only-child th {\n        text-align: right;\n    }\n\n    .dataframe thead th {\n        text-align: left;\n    }\n\n    .dataframe tbody tr th {\n        vertical-align: top;\n    }\n</style>\n<table border=\"1\" class=\"dataframe\">\n  <thead>\n    <tr style=\"text-align: right;\">\n      <th></th>\n      <th>EmployeeId</th>\n      <th>EmployeeName</th>\n      <th>sub</th>\n      <th>DeptId</th>\n      <th>DeptName</th>\n      <th>_merge</th>\n    </tr>\n  </thead>\n  <tbody>\n    <tr>\n      <th>3</th>\n      <td>NaN</td>\n      <td>NaN</td>\n      <td>sub6</td>\n      <td>4</td>\n      <td>e</td>\n      <td>right_only</td>\n    </tr>\n    <tr>\n      <th>4</th>\n      <td>NaN</td>\n      <td>NaN</td>\n      <td>sub7</td>\n      <td>5</td>\n      <td>f</td>\n      <td>right_only</td>\n    </tr>\n  </tbody>\n</table>\n</div>",
            "text/plain": "   EmployeeId EmployeeName   sub  DeptId DeptName      _merge\n3         NaN          NaN  sub6       4        e  right_only\n4         NaN          NaN  sub7       5        f  right_only"
          },
          "execution_count": 13,
          "metadata": {},
          "output_type": "execute_result"
        }
      ]
    },
    {
      "metadata": {
        "trusted": false
      },
      "cell_type": "code",
      "source": "pd.merge(left=df1,right=df2,on='sub',how='right')",
      "execution_count": 7,
      "outputs": [
        {
          "data": {
            "text/html": "<div>\n<style>\n    .dataframe thead tr:only-child th {\n        text-align: right;\n    }\n\n    .dataframe thead th {\n        text-align: left;\n    }\n\n    .dataframe tbody tr th {\n        vertical-align: top;\n    }\n</style>\n<table border=\"1\" class=\"dataframe\">\n  <thead>\n    <tr style=\"text-align: right;\">\n      <th></th>\n      <th>EmployeeId</th>\n      <th>EmployeeName</th>\n      <th>sub</th>\n      <th>DeptId</th>\n      <th>DeptName</th>\n    </tr>\n  </thead>\n  <tbody>\n    <tr>\n      <th>0</th>\n      <td>3.0</td>\n      <td>c</td>\n      <td>sub3</td>\n      <td>1</td>\n      <td>b</td>\n    </tr>\n    <tr>\n      <th>1</th>\n      <td>4.0</td>\n      <td>d</td>\n      <td>sub4</td>\n      <td>2</td>\n      <td>b</td>\n    </tr>\n    <tr>\n      <th>2</th>\n      <td>5.0</td>\n      <td>e</td>\n      <td>sub5</td>\n      <td>3</td>\n      <td>d</td>\n    </tr>\n    <tr>\n      <th>3</th>\n      <td>NaN</td>\n      <td>NaN</td>\n      <td>sub6</td>\n      <td>4</td>\n      <td>e</td>\n    </tr>\n    <tr>\n      <th>4</th>\n      <td>NaN</td>\n      <td>NaN</td>\n      <td>sub7</td>\n      <td>5</td>\n      <td>f</td>\n    </tr>\n  </tbody>\n</table>\n</div>",
            "text/plain": "   EmployeeId EmployeeName   sub  DeptId DeptName\n0         3.0            c  sub3       1        b\n1         4.0            d  sub4       2        b\n2         5.0            e  sub5       3        d\n3         NaN          NaN  sub6       4        e\n4         NaN          NaN  sub7       5        f"
          },
          "execution_count": 7,
          "metadata": {},
          "output_type": "execute_result"
        }
      ]
    },
    {
      "metadata": {
        "trusted": false
      },
      "cell_type": "code",
      "source": "pd.merge(left=df1,right=df2,on='sub',how='outer')",
      "execution_count": 146,
      "outputs": [
        {
          "data": {
            "text/html": "<div>\n<style>\n    .dataframe thead tr:only-child th {\n        text-align: right;\n    }\n\n    .dataframe thead th {\n        text-align: left;\n    }\n\n    .dataframe tbody tr th {\n        vertical-align: top;\n    }\n</style>\n<table border=\"1\" class=\"dataframe\">\n  <thead>\n    <tr style=\"text-align: right;\">\n      <th></th>\n      <th>EmployeeId</th>\n      <th>EmployeeName</th>\n      <th>sub</th>\n      <th>DeptId</th>\n      <th>DeptName</th>\n    </tr>\n  </thead>\n  <tbody>\n    <tr>\n      <th>0</th>\n      <td>1.0</td>\n      <td>a</td>\n      <td>sub1</td>\n      <td>NaN</td>\n      <td>NaN</td>\n    </tr>\n    <tr>\n      <th>1</th>\n      <td>2.0</td>\n      <td>b</td>\n      <td>sub2</td>\n      <td>NaN</td>\n      <td>NaN</td>\n    </tr>\n    <tr>\n      <th>2</th>\n      <td>3.0</td>\n      <td>c</td>\n      <td>sub3</td>\n      <td>1.0</td>\n      <td>b</td>\n    </tr>\n    <tr>\n      <th>3</th>\n      <td>4.0</td>\n      <td>d</td>\n      <td>sub4</td>\n      <td>2.0</td>\n      <td>b</td>\n    </tr>\n    <tr>\n      <th>4</th>\n      <td>5.0</td>\n      <td>e</td>\n      <td>sub5</td>\n      <td>3.0</td>\n      <td>d</td>\n    </tr>\n    <tr>\n      <th>5</th>\n      <td>NaN</td>\n      <td>NaN</td>\n      <td>sub6</td>\n      <td>4.0</td>\n      <td>e</td>\n    </tr>\n    <tr>\n      <th>6</th>\n      <td>NaN</td>\n      <td>NaN</td>\n      <td>sub7</td>\n      <td>5.0</td>\n      <td>f</td>\n    </tr>\n  </tbody>\n</table>\n</div>",
            "text/plain": "   EmployeeId EmployeeName   sub  DeptId DeptName\n0         1.0            a  sub1     NaN      NaN\n1         2.0            b  sub2     NaN      NaN\n2         3.0            c  sub3     1.0        b\n3         4.0            d  sub4     2.0        b\n4         5.0            e  sub5     3.0        d\n5         NaN          NaN  sub6     4.0        e\n6         NaN          NaN  sub7     5.0        f"
          },
          "execution_count": 146,
          "metadata": {},
          "output_type": "execute_result"
        }
      ]
    },
    {
      "metadata": {
        "trusted": false
      },
      "cell_type": "code",
      "source": "pd.merge(left=df1,right=(pd.merge(left=df1,right=df2,on='sub',how='outer')),on='sub',how='outer')",
      "execution_count": 152,
      "outputs": [
        {
          "data": {
            "text/html": "<div>\n<style>\n    .dataframe thead tr:only-child th {\n        text-align: right;\n    }\n\n    .dataframe thead th {\n        text-align: left;\n    }\n\n    .dataframe tbody tr th {\n        vertical-align: top;\n    }\n</style>\n<table border=\"1\" class=\"dataframe\">\n  <thead>\n    <tr style=\"text-align: right;\">\n      <th></th>\n      <th>EmployeeId_x</th>\n      <th>EmployeeName_x</th>\n      <th>sub</th>\n      <th>EmployeeId_y</th>\n      <th>EmployeeName_y</th>\n      <th>DeptId</th>\n      <th>DeptName</th>\n    </tr>\n  </thead>\n  <tbody>\n    <tr>\n      <th>0</th>\n      <td>1.0</td>\n      <td>a</td>\n      <td>sub1</td>\n      <td>1.0</td>\n      <td>a</td>\n      <td>NaN</td>\n      <td>NaN</td>\n    </tr>\n    <tr>\n      <th>1</th>\n      <td>2.0</td>\n      <td>b</td>\n      <td>sub2</td>\n      <td>2.0</td>\n      <td>b</td>\n      <td>NaN</td>\n      <td>NaN</td>\n    </tr>\n    <tr>\n      <th>2</th>\n      <td>3.0</td>\n      <td>c</td>\n      <td>sub3</td>\n      <td>3.0</td>\n      <td>c</td>\n      <td>1.0</td>\n      <td>b</td>\n    </tr>\n    <tr>\n      <th>3</th>\n      <td>4.0</td>\n      <td>d</td>\n      <td>sub4</td>\n      <td>4.0</td>\n      <td>d</td>\n      <td>2.0</td>\n      <td>b</td>\n    </tr>\n    <tr>\n      <th>4</th>\n      <td>5.0</td>\n      <td>e</td>\n      <td>sub5</td>\n      <td>5.0</td>\n      <td>e</td>\n      <td>3.0</td>\n      <td>d</td>\n    </tr>\n    <tr>\n      <th>5</th>\n      <td>NaN</td>\n      <td>NaN</td>\n      <td>sub6</td>\n      <td>NaN</td>\n      <td>NaN</td>\n      <td>4.0</td>\n      <td>e</td>\n    </tr>\n    <tr>\n      <th>6</th>\n      <td>NaN</td>\n      <td>NaN</td>\n      <td>sub7</td>\n      <td>NaN</td>\n      <td>NaN</td>\n      <td>5.0</td>\n      <td>f</td>\n    </tr>\n  </tbody>\n</table>\n</div>",
            "text/plain": "   EmployeeId_x EmployeeName_x   sub  EmployeeId_y EmployeeName_y  DeptId  \\\n0           1.0              a  sub1           1.0              a     NaN   \n1           2.0              b  sub2           2.0              b     NaN   \n2           3.0              c  sub3           3.0              c     1.0   \n3           4.0              d  sub4           4.0              d     2.0   \n4           5.0              e  sub5           5.0              e     3.0   \n5           NaN            NaN  sub6           NaN            NaN     4.0   \n6           NaN            NaN  sub7           NaN            NaN     5.0   \n\n  DeptName  \n0      NaN  \n1      NaN  \n2        b  \n3        b  \n4        d  \n5        e  \n6        f  "
          },
          "execution_count": 152,
          "metadata": {},
          "output_type": "execute_result"
        }
      ]
    },
    {
      "metadata": {
        "trusted": false
      },
      "cell_type": "code",
      "source": "df3=pd.DataFrame({'emp_id':[10],\n                  'emp_name':['z'],\n                  'sub':['sub10']})\ndf3",
      "execution_count": 3,
      "outputs": [
        {
          "data": {
            "text/html": "<div>\n<style>\n    .dataframe thead tr:only-child th {\n        text-align: right;\n    }\n\n    .dataframe thead th {\n        text-align: left;\n    }\n\n    .dataframe tbody tr th {\n        vertical-align: top;\n    }\n</style>\n<table border=\"1\" class=\"dataframe\">\n  <thead>\n    <tr style=\"text-align: right;\">\n      <th></th>\n      <th>emp_id</th>\n      <th>emp_name</th>\n      <th>sub</th>\n    </tr>\n  </thead>\n  <tbody>\n    <tr>\n      <th>0</th>\n      <td>10</td>\n      <td>z</td>\n      <td>sub10</td>\n    </tr>\n  </tbody>\n</table>\n</div>",
            "text/plain": "   emp_id emp_name    sub\n0      10        z  sub10"
          },
          "execution_count": 3,
          "metadata": {},
          "output_type": "execute_result"
        }
      ]
    },
    {
      "metadata": {
        "trusted": false
      },
      "cell_type": "code",
      "source": "df1=pd.DataFrame({\n    'emp_id':[1,2,3,4,5],\n    'emp_name':['a','b','c','d','e'],\n    'sub':['sub1','sub2','sub3','sub4','sub5']\n})\ndf1",
      "execution_count": 8,
      "outputs": [
        {
          "data": {
            "text/html": "<div>\n<style>\n    .dataframe thead tr:only-child th {\n        text-align: right;\n    }\n\n    .dataframe thead th {\n        text-align: left;\n    }\n\n    .dataframe tbody tr th {\n        vertical-align: top;\n    }\n</style>\n<table border=\"1\" class=\"dataframe\">\n  <thead>\n    <tr style=\"text-align: right;\">\n      <th></th>\n      <th>emp_id</th>\n      <th>emp_name</th>\n      <th>sub</th>\n    </tr>\n  </thead>\n  <tbody>\n    <tr>\n      <th>0</th>\n      <td>1</td>\n      <td>a</td>\n      <td>sub1</td>\n    </tr>\n    <tr>\n      <th>1</th>\n      <td>2</td>\n      <td>b</td>\n      <td>sub2</td>\n    </tr>\n    <tr>\n      <th>2</th>\n      <td>3</td>\n      <td>c</td>\n      <td>sub3</td>\n    </tr>\n    <tr>\n      <th>3</th>\n      <td>4</td>\n      <td>d</td>\n      <td>sub4</td>\n    </tr>\n    <tr>\n      <th>4</th>\n      <td>5</td>\n      <td>e</td>\n      <td>sub5</td>\n    </tr>\n  </tbody>\n</table>\n</div>",
            "text/plain": "   emp_id emp_name   sub\n0       1        a  sub1\n1       2        b  sub2\n2       3        c  sub3\n3       4        d  sub4\n4       5        e  sub5"
          },
          "execution_count": 8,
          "metadata": {},
          "output_type": "execute_result"
        }
      ]
    },
    {
      "metadata": {
        "trusted": false
      },
      "cell_type": "code",
      "source": "df1.append(df3)\n",
      "execution_count": 12,
      "outputs": [
        {
          "data": {
            "text/html": "<div>\n<style>\n    .dataframe thead tr:only-child th {\n        text-align: right;\n    }\n\n    .dataframe thead th {\n        text-align: left;\n    }\n\n    .dataframe tbody tr th {\n        vertical-align: top;\n    }\n</style>\n<table border=\"1\" class=\"dataframe\">\n  <thead>\n    <tr style=\"text-align: right;\">\n      <th></th>\n      <th>emp_id</th>\n      <th>emp_name</th>\n      <th>sub</th>\n    </tr>\n  </thead>\n  <tbody>\n    <tr>\n      <th>0</th>\n      <td>1</td>\n      <td>a</td>\n      <td>sub1</td>\n    </tr>\n    <tr>\n      <th>1</th>\n      <td>2</td>\n      <td>b</td>\n      <td>sub2</td>\n    </tr>\n    <tr>\n      <th>2</th>\n      <td>3</td>\n      <td>c</td>\n      <td>sub3</td>\n    </tr>\n    <tr>\n      <th>3</th>\n      <td>4</td>\n      <td>d</td>\n      <td>sub4</td>\n    </tr>\n    <tr>\n      <th>4</th>\n      <td>5</td>\n      <td>e</td>\n      <td>sub5</td>\n    </tr>\n    <tr>\n      <th>0</th>\n      <td>10</td>\n      <td>z</td>\n      <td>sub10</td>\n    </tr>\n  </tbody>\n</table>\n</div>",
            "text/plain": "   emp_id emp_name    sub\n0       1        a   sub1\n1       2        b   sub2\n2       3        c   sub3\n3       4        d   sub4\n4       5        e   sub5\n0      10        z  sub10"
          },
          "execution_count": 12,
          "metadata": {},
          "output_type": "execute_result"
        }
      ]
    },
    {
      "metadata": {
        "trusted": false
      },
      "cell_type": "code",
      "source": "df1.append(df3,ignore_index=True)",
      "execution_count": 13,
      "outputs": [
        {
          "data": {
            "text/html": "<div>\n<style>\n    .dataframe thead tr:only-child th {\n        text-align: right;\n    }\n\n    .dataframe thead th {\n        text-align: left;\n    }\n\n    .dataframe tbody tr th {\n        vertical-align: top;\n    }\n</style>\n<table border=\"1\" class=\"dataframe\">\n  <thead>\n    <tr style=\"text-align: right;\">\n      <th></th>\n      <th>emp_id</th>\n      <th>emp_name</th>\n      <th>sub</th>\n    </tr>\n  </thead>\n  <tbody>\n    <tr>\n      <th>0</th>\n      <td>1</td>\n      <td>a</td>\n      <td>sub1</td>\n    </tr>\n    <tr>\n      <th>1</th>\n      <td>2</td>\n      <td>b</td>\n      <td>sub2</td>\n    </tr>\n    <tr>\n      <th>2</th>\n      <td>3</td>\n      <td>c</td>\n      <td>sub3</td>\n    </tr>\n    <tr>\n      <th>3</th>\n      <td>4</td>\n      <td>d</td>\n      <td>sub4</td>\n    </tr>\n    <tr>\n      <th>4</th>\n      <td>5</td>\n      <td>e</td>\n      <td>sub5</td>\n    </tr>\n    <tr>\n      <th>5</th>\n      <td>10</td>\n      <td>z</td>\n      <td>sub10</td>\n    </tr>\n  </tbody>\n</table>\n</div>",
            "text/plain": "   emp_id emp_name    sub\n0       1        a   sub1\n1       2        b   sub2\n2       3        c   sub3\n3       4        d   sub4\n4       5        e   sub5\n5      10        z  sub10"
          },
          "execution_count": 13,
          "metadata": {},
          "output_type": "execute_result"
        }
      ]
    },
    {
      "metadata": {
        "trusted": false
      },
      "cell_type": "code",
      "source": "df1",
      "execution_count": 15,
      "outputs": [
        {
          "data": {
            "text/html": "<div>\n<style>\n    .dataframe thead tr:only-child th {\n        text-align: right;\n    }\n\n    .dataframe thead th {\n        text-align: left;\n    }\n\n    .dataframe tbody tr th {\n        vertical-align: top;\n    }\n</style>\n<table border=\"1\" class=\"dataframe\">\n  <thead>\n    <tr style=\"text-align: right;\">\n      <th></th>\n      <th>emp_id</th>\n      <th>emp_name</th>\n      <th>sub</th>\n    </tr>\n  </thead>\n  <tbody>\n    <tr>\n      <th>0</th>\n      <td>1</td>\n      <td>a</td>\n      <td>sub1</td>\n    </tr>\n    <tr>\n      <th>1</th>\n      <td>2</td>\n      <td>b</td>\n      <td>sub2</td>\n    </tr>\n    <tr>\n      <th>2</th>\n      <td>3</td>\n      <td>c</td>\n      <td>sub3</td>\n    </tr>\n    <tr>\n      <th>3</th>\n      <td>4</td>\n      <td>d</td>\n      <td>sub4</td>\n    </tr>\n    <tr>\n      <th>4</th>\n      <td>5</td>\n      <td>e</td>\n      <td>sub5</td>\n    </tr>\n  </tbody>\n</table>\n</div>",
            "text/plain": "   emp_id emp_name   sub\n0       1        a  sub1\n1       2        b  sub2\n2       3        c  sub3\n3       4        d  sub4\n4       5        e  sub5"
          },
          "execution_count": 15,
          "metadata": {},
          "output_type": "execute_result"
        }
      ]
    },
    {
      "metadata": {
        "collapsed": true,
        "trusted": false
      },
      "cell_type": "code",
      "source": "df4=df1.append(df3,ignore_index=True)",
      "execution_count": 17,
      "outputs": []
    },
    {
      "metadata": {
        "trusted": false
      },
      "cell_type": "code",
      "source": "df4",
      "execution_count": 18,
      "outputs": [
        {
          "data": {
            "text/html": "<div>\n<style>\n    .dataframe thead tr:only-child th {\n        text-align: right;\n    }\n\n    .dataframe thead th {\n        text-align: left;\n    }\n\n    .dataframe tbody tr th {\n        vertical-align: top;\n    }\n</style>\n<table border=\"1\" class=\"dataframe\">\n  <thead>\n    <tr style=\"text-align: right;\">\n      <th></th>\n      <th>emp_id</th>\n      <th>emp_name</th>\n      <th>sub</th>\n    </tr>\n  </thead>\n  <tbody>\n    <tr>\n      <th>0</th>\n      <td>1</td>\n      <td>a</td>\n      <td>sub1</td>\n    </tr>\n    <tr>\n      <th>1</th>\n      <td>2</td>\n      <td>b</td>\n      <td>sub2</td>\n    </tr>\n    <tr>\n      <th>2</th>\n      <td>3</td>\n      <td>c</td>\n      <td>sub3</td>\n    </tr>\n    <tr>\n      <th>3</th>\n      <td>4</td>\n      <td>d</td>\n      <td>sub4</td>\n    </tr>\n    <tr>\n      <th>4</th>\n      <td>5</td>\n      <td>e</td>\n      <td>sub5</td>\n    </tr>\n    <tr>\n      <th>5</th>\n      <td>10</td>\n      <td>z</td>\n      <td>sub10</td>\n    </tr>\n  </tbody>\n</table>\n</div>",
            "text/plain": "   emp_id emp_name    sub\n0       1        a   sub1\n1       2        b   sub2\n2       3        c   sub3\n3       4        d   sub4\n4       5        e   sub5\n5      10        z  sub10"
          },
          "execution_count": 18,
          "metadata": {},
          "output_type": "execute_result"
        }
      ]
    },
    {
      "metadata": {
        "collapsed": true,
        "trusted": false
      },
      "cell_type": "code",
      "source": "df1=df1.append(df3,ignore_index=True)",
      "execution_count": 31,
      "outputs": []
    },
    {
      "metadata": {
        "trusted": false
      },
      "cell_type": "code",
      "source": "df1",
      "execution_count": 32,
      "outputs": [
        {
          "data": {
            "text/html": "<div>\n<style>\n    .dataframe thead tr:only-child th {\n        text-align: right;\n    }\n\n    .dataframe thead th {\n        text-align: left;\n    }\n\n    .dataframe tbody tr th {\n        vertical-align: top;\n    }\n</style>\n<table border=\"1\" class=\"dataframe\">\n  <thead>\n    <tr style=\"text-align: right;\">\n      <th></th>\n      <th>emp_id</th>\n      <th>emp_name</th>\n      <th>index</th>\n      <th>level_0</th>\n      <th>sub</th>\n    </tr>\n  </thead>\n  <tbody>\n    <tr>\n      <th>0</th>\n      <td>1</td>\n      <td>a</td>\n      <td>0.0</td>\n      <td>0.0</td>\n      <td>sub1</td>\n    </tr>\n    <tr>\n      <th>1</th>\n      <td>2</td>\n      <td>b</td>\n      <td>1.0</td>\n      <td>1.0</td>\n      <td>sub2</td>\n    </tr>\n    <tr>\n      <th>2</th>\n      <td>3</td>\n      <td>c</td>\n      <td>2.0</td>\n      <td>2.0</td>\n      <td>sub3</td>\n    </tr>\n    <tr>\n      <th>3</th>\n      <td>4</td>\n      <td>d</td>\n      <td>3.0</td>\n      <td>3.0</td>\n      <td>sub4</td>\n    </tr>\n    <tr>\n      <th>4</th>\n      <td>5</td>\n      <td>e</td>\n      <td>4.0</td>\n      <td>4.0</td>\n      <td>sub5</td>\n    </tr>\n    <tr>\n      <th>5</th>\n      <td>10</td>\n      <td>z</td>\n      <td>NaN</td>\n      <td>NaN</td>\n      <td>sub10</td>\n    </tr>\n    <tr>\n      <th>6</th>\n      <td>10</td>\n      <td>z</td>\n      <td>NaN</td>\n      <td>NaN</td>\n      <td>sub10</td>\n    </tr>\n  </tbody>\n</table>\n</div>",
            "text/plain": "   emp_id emp_name  index  level_0    sub\n0       1        a    0.0      0.0   sub1\n1       2        b    1.0      1.0   sub2\n2       3        c    2.0      2.0   sub3\n3       4        d    3.0      3.0   sub4\n4       5        e    4.0      4.0   sub5\n5      10        z    NaN      NaN  sub10\n6      10        z    NaN      NaN  sub10"
          },
          "execution_count": 32,
          "metadata": {},
          "output_type": "execute_result"
        }
      ]
    },
    {
      "metadata": {
        "trusted": false
      },
      "cell_type": "code",
      "source": "import pandas as pd\nmarket_df=pd.read_csv('C:/Users/SP20635/Desktop/Desk/INSAID/module2/supermarkets.csv')\nmarket_df",
      "execution_count": 34,
      "outputs": [
        {
          "data": {
            "text/html": "<div>\n<style>\n    .dataframe thead tr:only-child th {\n        text-align: right;\n    }\n\n    .dataframe thead th {\n        text-align: left;\n    }\n\n    .dataframe tbody tr th {\n        vertical-align: top;\n    }\n</style>\n<table border=\"1\" class=\"dataframe\">\n  <thead>\n    <tr style=\"text-align: right;\">\n      <th></th>\n      <th>ID</th>\n      <th>Address</th>\n      <th>City</th>\n      <th>State</th>\n      <th>Country</th>\n      <th>Name</th>\n      <th>Employees</th>\n    </tr>\n  </thead>\n  <tbody>\n    <tr>\n      <th>0</th>\n      <td>1</td>\n      <td>3666 21st St</td>\n      <td>San Francisco</td>\n      <td>CA 94114</td>\n      <td>USA</td>\n      <td>Madeira</td>\n      <td>8</td>\n    </tr>\n    <tr>\n      <th>1</th>\n      <td>2</td>\n      <td>735 Dolores St</td>\n      <td>San Francisco</td>\n      <td>CA 94119</td>\n      <td>USA</td>\n      <td>Bready Shop</td>\n      <td>15</td>\n    </tr>\n    <tr>\n      <th>2</th>\n      <td>3</td>\n      <td>332 Hill St</td>\n      <td>San Francisco</td>\n      <td>California 94114</td>\n      <td>USA</td>\n      <td>Super River</td>\n      <td>25</td>\n    </tr>\n    <tr>\n      <th>3</th>\n      <td>4</td>\n      <td>3995 23rd St</td>\n      <td>San Francisco</td>\n      <td>CA 94114</td>\n      <td>USA</td>\n      <td>Ben's Shop</td>\n      <td>10</td>\n    </tr>\n    <tr>\n      <th>4</th>\n      <td>5</td>\n      <td>1056 Sanchez St</td>\n      <td>San Francisco</td>\n      <td>California</td>\n      <td>USA</td>\n      <td>Sanchez</td>\n      <td>12</td>\n    </tr>\n    <tr>\n      <th>5</th>\n      <td>6</td>\n      <td>551 Alvarado St</td>\n      <td>San Francisco</td>\n      <td>CA 94114</td>\n      <td>USA</td>\n      <td>Richvalley</td>\n      <td>20</td>\n    </tr>\n  </tbody>\n</table>\n</div>",
            "text/plain": "   ID          Address           City             State Country         Name  \\\n0   1     3666 21st St  San Francisco          CA 94114     USA      Madeira   \n1   2   735 Dolores St  San Francisco          CA 94119     USA  Bready Shop   \n2   3      332 Hill St  San Francisco  California 94114     USA  Super River   \n3   4     3995 23rd St  San Francisco          CA 94114     USA   Ben's Shop   \n4   5  1056 Sanchez St  San Francisco        California     USA      Sanchez   \n5   6  551 Alvarado St  San Francisco          CA 94114     USA   Richvalley   \n\n   Employees  \n0          8  \n1         15  \n2         25  \n3         10  \n4         12  \n5         20  "
          },
          "execution_count": 34,
          "metadata": {},
          "output_type": "execute_result"
        }
      ]
    },
    {
      "metadata": {
        "trusted": false
      },
      "cell_type": "code",
      "source": "market_df['Employees']<15",
      "execution_count": 35,
      "outputs": [
        {
          "data": {
            "text/plain": "0     True\n1    False\n2    False\n3     True\n4     True\n5    False\nName: Employees, dtype: bool"
          },
          "execution_count": 35,
          "metadata": {},
          "output_type": "execute_result"
        }
      ]
    },
    {
      "metadata": {
        "trusted": false
      },
      "cell_type": "code",
      "source": "market_df[market_df['Employees']<15]",
      "execution_count": 36,
      "outputs": [
        {
          "data": {
            "text/html": "<div>\n<style>\n    .dataframe thead tr:only-child th {\n        text-align: right;\n    }\n\n    .dataframe thead th {\n        text-align: left;\n    }\n\n    .dataframe tbody tr th {\n        vertical-align: top;\n    }\n</style>\n<table border=\"1\" class=\"dataframe\">\n  <thead>\n    <tr style=\"text-align: right;\">\n      <th></th>\n      <th>ID</th>\n      <th>Address</th>\n      <th>City</th>\n      <th>State</th>\n      <th>Country</th>\n      <th>Name</th>\n      <th>Employees</th>\n    </tr>\n  </thead>\n  <tbody>\n    <tr>\n      <th>0</th>\n      <td>1</td>\n      <td>3666 21st St</td>\n      <td>San Francisco</td>\n      <td>CA 94114</td>\n      <td>USA</td>\n      <td>Madeira</td>\n      <td>8</td>\n    </tr>\n    <tr>\n      <th>3</th>\n      <td>4</td>\n      <td>3995 23rd St</td>\n      <td>San Francisco</td>\n      <td>CA 94114</td>\n      <td>USA</td>\n      <td>Ben's Shop</td>\n      <td>10</td>\n    </tr>\n    <tr>\n      <th>4</th>\n      <td>5</td>\n      <td>1056 Sanchez St</td>\n      <td>San Francisco</td>\n      <td>California</td>\n      <td>USA</td>\n      <td>Sanchez</td>\n      <td>12</td>\n    </tr>\n  </tbody>\n</table>\n</div>",
            "text/plain": "   ID          Address           City       State Country        Name  \\\n0   1     3666 21st St  San Francisco    CA 94114     USA     Madeira   \n3   4     3995 23rd St  San Francisco    CA 94114     USA  Ben's Shop   \n4   5  1056 Sanchez St  San Francisco  California     USA     Sanchez   \n\n   Employees  \n0          8  \n3         10  \n4         12  "
          },
          "execution_count": 36,
          "metadata": {},
          "output_type": "execute_result"
        }
      ]
    },
    {
      "metadata": {
        "trusted": false
      },
      "cell_type": "code",
      "source": "market_df[market_df['Employees']>=15]",
      "execution_count": 37,
      "outputs": [
        {
          "data": {
            "text/html": "<div>\n<style>\n    .dataframe thead tr:only-child th {\n        text-align: right;\n    }\n\n    .dataframe thead th {\n        text-align: left;\n    }\n\n    .dataframe tbody tr th {\n        vertical-align: top;\n    }\n</style>\n<table border=\"1\" class=\"dataframe\">\n  <thead>\n    <tr style=\"text-align: right;\">\n      <th></th>\n      <th>ID</th>\n      <th>Address</th>\n      <th>City</th>\n      <th>State</th>\n      <th>Country</th>\n      <th>Name</th>\n      <th>Employees</th>\n    </tr>\n  </thead>\n  <tbody>\n    <tr>\n      <th>1</th>\n      <td>2</td>\n      <td>735 Dolores St</td>\n      <td>San Francisco</td>\n      <td>CA 94119</td>\n      <td>USA</td>\n      <td>Bready Shop</td>\n      <td>15</td>\n    </tr>\n    <tr>\n      <th>2</th>\n      <td>3</td>\n      <td>332 Hill St</td>\n      <td>San Francisco</td>\n      <td>California 94114</td>\n      <td>USA</td>\n      <td>Super River</td>\n      <td>25</td>\n    </tr>\n    <tr>\n      <th>5</th>\n      <td>6</td>\n      <td>551 Alvarado St</td>\n      <td>San Francisco</td>\n      <td>CA 94114</td>\n      <td>USA</td>\n      <td>Richvalley</td>\n      <td>20</td>\n    </tr>\n  </tbody>\n</table>\n</div>",
            "text/plain": "   ID          Address           City             State Country         Name  \\\n1   2   735 Dolores St  San Francisco          CA 94119     USA  Bready Shop   \n2   3      332 Hill St  San Francisco  California 94114     USA  Super River   \n5   6  551 Alvarado St  San Francisco          CA 94114     USA   Richvalley   \n\n   Employees  \n1         15  \n2         25  \n5         20  "
          },
          "execution_count": 37,
          "metadata": {},
          "output_type": "execute_result"
        }
      ]
    },
    {
      "metadata": {
        "trusted": false
      },
      "cell_type": "code",
      "source": "market_df['Employees']>=15",
      "execution_count": 38,
      "outputs": [
        {
          "data": {
            "text/plain": "0    False\n1     True\n2     True\n3    False\n4    False\n5     True\nName: Employees, dtype: bool"
          },
          "execution_count": 38,
          "metadata": {},
          "output_type": "execute_result"
        }
      ]
    },
    {
      "metadata": {
        "trusted": false
      },
      "cell_type": "code",
      "source": "market_df[~(market_df['Employees']>=15)]",
      "execution_count": 39,
      "outputs": [
        {
          "data": {
            "text/html": "<div>\n<style>\n    .dataframe thead tr:only-child th {\n        text-align: right;\n    }\n\n    .dataframe thead th {\n        text-align: left;\n    }\n\n    .dataframe tbody tr th {\n        vertical-align: top;\n    }\n</style>\n<table border=\"1\" class=\"dataframe\">\n  <thead>\n    <tr style=\"text-align: right;\">\n      <th></th>\n      <th>ID</th>\n      <th>Address</th>\n      <th>City</th>\n      <th>State</th>\n      <th>Country</th>\n      <th>Name</th>\n      <th>Employees</th>\n    </tr>\n  </thead>\n  <tbody>\n    <tr>\n      <th>0</th>\n      <td>1</td>\n      <td>3666 21st St</td>\n      <td>San Francisco</td>\n      <td>CA 94114</td>\n      <td>USA</td>\n      <td>Madeira</td>\n      <td>8</td>\n    </tr>\n    <tr>\n      <th>3</th>\n      <td>4</td>\n      <td>3995 23rd St</td>\n      <td>San Francisco</td>\n      <td>CA 94114</td>\n      <td>USA</td>\n      <td>Ben's Shop</td>\n      <td>10</td>\n    </tr>\n    <tr>\n      <th>4</th>\n      <td>5</td>\n      <td>1056 Sanchez St</td>\n      <td>San Francisco</td>\n      <td>California</td>\n      <td>USA</td>\n      <td>Sanchez</td>\n      <td>12</td>\n    </tr>\n  </tbody>\n</table>\n</div>",
            "text/plain": "   ID          Address           City       State Country        Name  \\\n0   1     3666 21st St  San Francisco    CA 94114     USA     Madeira   \n3   4     3995 23rd St  San Francisco    CA 94114     USA  Ben's Shop   \n4   5  1056 Sanchez St  San Francisco  California     USA     Sanchez   \n\n   Employees  \n0          8  \n3         10  \n4         12  "
          },
          "execution_count": 39,
          "metadata": {},
          "output_type": "execute_result"
        }
      ]
    },
    {
      "metadata": {
        "trusted": false
      },
      "cell_type": "code",
      "source": "market_df.info()",
      "execution_count": 40,
      "outputs": [
        {
          "name": "stdout",
          "output_type": "stream",
          "text": "<class 'pandas.core.frame.DataFrame'>\nRangeIndex: 6 entries, 0 to 5\nData columns (total 7 columns):\nID           6 non-null int64\nAddress      6 non-null object\nCity         6 non-null object\nState        6 non-null object\nCountry      6 non-null object\nName         6 non-null object\nEmployees    6 non-null int64\ndtypes: int64(2), object(5)\nmemory usage: 416.0+ bytes\n"
        }
      ]
    },
    {
      "metadata": {
        "trusted": false
      },
      "cell_type": "code",
      "source": "market_df[market_df['State'].str.contains('California')]",
      "execution_count": 42,
      "outputs": [
        {
          "data": {
            "text/html": "<div>\n<style>\n    .dataframe thead tr:only-child th {\n        text-align: right;\n    }\n\n    .dataframe thead th {\n        text-align: left;\n    }\n\n    .dataframe tbody tr th {\n        vertical-align: top;\n    }\n</style>\n<table border=\"1\" class=\"dataframe\">\n  <thead>\n    <tr style=\"text-align: right;\">\n      <th></th>\n      <th>ID</th>\n      <th>Address</th>\n      <th>City</th>\n      <th>State</th>\n      <th>Country</th>\n      <th>Name</th>\n      <th>Employees</th>\n    </tr>\n  </thead>\n  <tbody>\n    <tr>\n      <th>2</th>\n      <td>3</td>\n      <td>332 Hill St</td>\n      <td>San Francisco</td>\n      <td>California 94114</td>\n      <td>USA</td>\n      <td>Super River</td>\n      <td>25</td>\n    </tr>\n    <tr>\n      <th>4</th>\n      <td>5</td>\n      <td>1056 Sanchez St</td>\n      <td>San Francisco</td>\n      <td>California</td>\n      <td>USA</td>\n      <td>Sanchez</td>\n      <td>12</td>\n    </tr>\n  </tbody>\n</table>\n</div>",
            "text/plain": "   ID          Address           City             State Country         Name  \\\n2   3      332 Hill St  San Francisco  California 94114     USA  Super River   \n4   5  1056 Sanchez St  San Francisco        California     USA      Sanchez   \n\n   Employees  \n2         25  \n4         12  "
          },
          "execution_count": 42,
          "metadata": {},
          "output_type": "execute_result"
        }
      ]
    },
    {
      "metadata": {
        "trusted": false
      },
      "cell_type": "code",
      "source": "market_df[market_df['Name'].str.startswith('Super')]",
      "execution_count": 43,
      "outputs": [
        {
          "data": {
            "text/html": "<div>\n<style>\n    .dataframe thead tr:only-child th {\n        text-align: right;\n    }\n\n    .dataframe thead th {\n        text-align: left;\n    }\n\n    .dataframe tbody tr th {\n        vertical-align: top;\n    }\n</style>\n<table border=\"1\" class=\"dataframe\">\n  <thead>\n    <tr style=\"text-align: right;\">\n      <th></th>\n      <th>ID</th>\n      <th>Address</th>\n      <th>City</th>\n      <th>State</th>\n      <th>Country</th>\n      <th>Name</th>\n      <th>Employees</th>\n    </tr>\n  </thead>\n  <tbody>\n    <tr>\n      <th>2</th>\n      <td>3</td>\n      <td>332 Hill St</td>\n      <td>San Francisco</td>\n      <td>California 94114</td>\n      <td>USA</td>\n      <td>Super River</td>\n      <td>25</td>\n    </tr>\n  </tbody>\n</table>\n</div>",
            "text/plain": "   ID      Address           City             State Country         Name  \\\n2   3  332 Hill St  San Francisco  California 94114     USA  Super River   \n\n   Employees  \n2         25  "
          },
          "execution_count": 43,
          "metadata": {},
          "output_type": "execute_result"
        }
      ]
    },
    {
      "metadata": {
        "trusted": false
      },
      "cell_type": "code",
      "source": "market_df[(market_df['Employees']>=15)& (market_df['State']!='CA 94119')]",
      "execution_count": 44,
      "outputs": [
        {
          "data": {
            "text/html": "<div>\n<style>\n    .dataframe thead tr:only-child th {\n        text-align: right;\n    }\n\n    .dataframe thead th {\n        text-align: left;\n    }\n\n    .dataframe tbody tr th {\n        vertical-align: top;\n    }\n</style>\n<table border=\"1\" class=\"dataframe\">\n  <thead>\n    <tr style=\"text-align: right;\">\n      <th></th>\n      <th>ID</th>\n      <th>Address</th>\n      <th>City</th>\n      <th>State</th>\n      <th>Country</th>\n      <th>Name</th>\n      <th>Employees</th>\n    </tr>\n  </thead>\n  <tbody>\n    <tr>\n      <th>2</th>\n      <td>3</td>\n      <td>332 Hill St</td>\n      <td>San Francisco</td>\n      <td>California 94114</td>\n      <td>USA</td>\n      <td>Super River</td>\n      <td>25</td>\n    </tr>\n    <tr>\n      <th>5</th>\n      <td>6</td>\n      <td>551 Alvarado St</td>\n      <td>San Francisco</td>\n      <td>CA 94114</td>\n      <td>USA</td>\n      <td>Richvalley</td>\n      <td>20</td>\n    </tr>\n  </tbody>\n</table>\n</div>",
            "text/plain": "   ID          Address           City             State Country         Name  \\\n2   3      332 Hill St  San Francisco  California 94114     USA  Super River   \n5   6  551 Alvarado St  San Francisco          CA 94114     USA   Richvalley   \n\n   Employees  \n2         25  \n5         20  "
          },
          "execution_count": 44,
          "metadata": {},
          "output_type": "execute_result"
        }
      ]
    },
    {
      "metadata": {
        "trusted": false
      },
      "cell_type": "code",
      "source": "market_df[(market_df['Employees']<15) | (market_df['State']!='CA 94119')]",
      "execution_count": 45,
      "outputs": [
        {
          "data": {
            "text/html": "<div>\n<style>\n    .dataframe thead tr:only-child th {\n        text-align: right;\n    }\n\n    .dataframe thead th {\n        text-align: left;\n    }\n\n    .dataframe tbody tr th {\n        vertical-align: top;\n    }\n</style>\n<table border=\"1\" class=\"dataframe\">\n  <thead>\n    <tr style=\"text-align: right;\">\n      <th></th>\n      <th>ID</th>\n      <th>Address</th>\n      <th>City</th>\n      <th>State</th>\n      <th>Country</th>\n      <th>Name</th>\n      <th>Employees</th>\n    </tr>\n  </thead>\n  <tbody>\n    <tr>\n      <th>0</th>\n      <td>1</td>\n      <td>3666 21st St</td>\n      <td>San Francisco</td>\n      <td>CA 94114</td>\n      <td>USA</td>\n      <td>Madeira</td>\n      <td>8</td>\n    </tr>\n    <tr>\n      <th>2</th>\n      <td>3</td>\n      <td>332 Hill St</td>\n      <td>San Francisco</td>\n      <td>California 94114</td>\n      <td>USA</td>\n      <td>Super River</td>\n      <td>25</td>\n    </tr>\n    <tr>\n      <th>3</th>\n      <td>4</td>\n      <td>3995 23rd St</td>\n      <td>San Francisco</td>\n      <td>CA 94114</td>\n      <td>USA</td>\n      <td>Ben's Shop</td>\n      <td>10</td>\n    </tr>\n    <tr>\n      <th>4</th>\n      <td>5</td>\n      <td>1056 Sanchez St</td>\n      <td>San Francisco</td>\n      <td>California</td>\n      <td>USA</td>\n      <td>Sanchez</td>\n      <td>12</td>\n    </tr>\n    <tr>\n      <th>5</th>\n      <td>6</td>\n      <td>551 Alvarado St</td>\n      <td>San Francisco</td>\n      <td>CA 94114</td>\n      <td>USA</td>\n      <td>Richvalley</td>\n      <td>20</td>\n    </tr>\n  </tbody>\n</table>\n</div>",
            "text/plain": "   ID          Address           City             State Country         Name  \\\n0   1     3666 21st St  San Francisco          CA 94114     USA      Madeira   \n2   3      332 Hill St  San Francisco  California 94114     USA  Super River   \n3   4     3995 23rd St  San Francisco          CA 94114     USA   Ben's Shop   \n4   5  1056 Sanchez St  San Francisco        California     USA      Sanchez   \n5   6  551 Alvarado St  San Francisco          CA 94114     USA   Richvalley   \n\n   Employees  \n0          8  \n2         25  \n3         10  \n4         12  \n5         20  "
          },
          "execution_count": 45,
          "metadata": {},
          "output_type": "execute_result"
        }
      ]
    },
    {
      "metadata": {
        "trusted": false
      },
      "cell_type": "code",
      "source": "market_df[(market_df['Employees']<15) & (market_df['State']!='CA 94119')]",
      "execution_count": 46,
      "outputs": [
        {
          "data": {
            "text/html": "<div>\n<style>\n    .dataframe thead tr:only-child th {\n        text-align: right;\n    }\n\n    .dataframe thead th {\n        text-align: left;\n    }\n\n    .dataframe tbody tr th {\n        vertical-align: top;\n    }\n</style>\n<table border=\"1\" class=\"dataframe\">\n  <thead>\n    <tr style=\"text-align: right;\">\n      <th></th>\n      <th>ID</th>\n      <th>Address</th>\n      <th>City</th>\n      <th>State</th>\n      <th>Country</th>\n      <th>Name</th>\n      <th>Employees</th>\n    </tr>\n  </thead>\n  <tbody>\n    <tr>\n      <th>0</th>\n      <td>1</td>\n      <td>3666 21st St</td>\n      <td>San Francisco</td>\n      <td>CA 94114</td>\n      <td>USA</td>\n      <td>Madeira</td>\n      <td>8</td>\n    </tr>\n    <tr>\n      <th>3</th>\n      <td>4</td>\n      <td>3995 23rd St</td>\n      <td>San Francisco</td>\n      <td>CA 94114</td>\n      <td>USA</td>\n      <td>Ben's Shop</td>\n      <td>10</td>\n    </tr>\n    <tr>\n      <th>4</th>\n      <td>5</td>\n      <td>1056 Sanchez St</td>\n      <td>San Francisco</td>\n      <td>California</td>\n      <td>USA</td>\n      <td>Sanchez</td>\n      <td>12</td>\n    </tr>\n  </tbody>\n</table>\n</div>",
            "text/plain": "   ID          Address           City       State Country        Name  \\\n0   1     3666 21st St  San Francisco    CA 94114     USA     Madeira   \n3   4     3995 23rd St  San Francisco    CA 94114     USA  Ben's Shop   \n4   5  1056 Sanchez St  San Francisco  California     USA     Sanchez   \n\n   Employees  \n0          8  \n3         10  \n4         12  "
          },
          "execution_count": 46,
          "metadata": {},
          "output_type": "execute_result"
        }
      ]
    },
    {
      "metadata": {
        "trusted": false
      },
      "cell_type": "code",
      "source": "import pandas as pd\n\ncompany_df={\n    'Company':['Google','Google','Google','Microsoft','Microsoft','Microsoft'],\n    'Year':[2008,2009,2010,2008,2009,2010],\n    'Revenue':[11,15,16,9,12,14],\n    'Employee':[300,400,500,350,450,550]\n}\n\ncmp_df=pd.DataFrame(company_df)\ncmp_df",
      "execution_count": 62,
      "outputs": [
        {
          "data": {
            "text/html": "<div>\n<style>\n    .dataframe thead tr:only-child th {\n        text-align: right;\n    }\n\n    .dataframe thead th {\n        text-align: left;\n    }\n\n    .dataframe tbody tr th {\n        vertical-align: top;\n    }\n</style>\n<table border=\"1\" class=\"dataframe\">\n  <thead>\n    <tr style=\"text-align: right;\">\n      <th></th>\n      <th>Company</th>\n      <th>Employee</th>\n      <th>Revenue</th>\n      <th>Year</th>\n    </tr>\n  </thead>\n  <tbody>\n    <tr>\n      <th>0</th>\n      <td>Google</td>\n      <td>300</td>\n      <td>11</td>\n      <td>2008</td>\n    </tr>\n    <tr>\n      <th>1</th>\n      <td>Google</td>\n      <td>400</td>\n      <td>15</td>\n      <td>2009</td>\n    </tr>\n    <tr>\n      <th>2</th>\n      <td>Google</td>\n      <td>500</td>\n      <td>16</td>\n      <td>2010</td>\n    </tr>\n    <tr>\n      <th>3</th>\n      <td>Microsoft</td>\n      <td>350</td>\n      <td>9</td>\n      <td>2008</td>\n    </tr>\n    <tr>\n      <th>4</th>\n      <td>Microsoft</td>\n      <td>450</td>\n      <td>12</td>\n      <td>2009</td>\n    </tr>\n    <tr>\n      <th>5</th>\n      <td>Microsoft</td>\n      <td>550</td>\n      <td>14</td>\n      <td>2010</td>\n    </tr>\n  </tbody>\n</table>\n</div>",
            "text/plain": "     Company  Employee  Revenue  Year\n0     Google       300       11  2008\n1     Google       400       15  2009\n2     Google       500       16  2010\n3  Microsoft       350        9  2008\n4  Microsoft       450       12  2009\n5  Microsoft       550       14  2010"
          },
          "execution_count": 62,
          "metadata": {},
          "output_type": "execute_result"
        }
      ]
    },
    {
      "metadata": {
        "trusted": false
      },
      "cell_type": "code",
      "source": "cmp_df.set_index(['Company','Year'],inplace=True)\ncmp_df",
      "execution_count": 54,
      "outputs": [
        {
          "data": {
            "text/html": "<div>\n<style>\n    .dataframe thead tr:only-child th {\n        text-align: right;\n    }\n\n    .dataframe thead th {\n        text-align: left;\n    }\n\n    .dataframe tbody tr th {\n        vertical-align: top;\n    }\n</style>\n<table border=\"1\" class=\"dataframe\">\n  <thead>\n    <tr style=\"text-align: right;\">\n      <th></th>\n      <th></th>\n      <th>Employee</th>\n      <th>Revenue</th>\n    </tr>\n    <tr>\n      <th>Company</th>\n      <th>Year</th>\n      <th></th>\n      <th></th>\n    </tr>\n  </thead>\n  <tbody>\n    <tr>\n      <th rowspan=\"3\" valign=\"top\">Google</th>\n      <th>2008</th>\n      <td>300</td>\n      <td>11</td>\n    </tr>\n    <tr>\n      <th>2009</th>\n      <td>400</td>\n      <td>15</td>\n    </tr>\n    <tr>\n      <th>2010</th>\n      <td>500</td>\n      <td>16</td>\n    </tr>\n    <tr>\n      <th rowspan=\"3\" valign=\"top\">Microsoft</th>\n      <th>2008</th>\n      <td>350</td>\n      <td>9</td>\n    </tr>\n    <tr>\n      <th>2009</th>\n      <td>450</td>\n      <td>12</td>\n    </tr>\n    <tr>\n      <th>2010</th>\n      <td>550</td>\n      <td>14</td>\n    </tr>\n  </tbody>\n</table>\n</div>",
            "text/plain": "                Employee  Revenue\nCompany   Year                   \nGoogle    2008       300       11\n          2009       400       15\n          2010       500       16\nMicrosoft 2008       350        9\n          2009       450       12\n          2010       550       14"
          },
          "execution_count": 54,
          "metadata": {},
          "output_type": "execute_result"
        }
      ]
    },
    {
      "metadata": {
        "trusted": false
      },
      "cell_type": "code",
      "source": "cmp_df.set_index(['Year','Company'],inplace=True)\ncmp_df",
      "execution_count": 60,
      "outputs": [
        {
          "data": {
            "text/html": "<div>\n<style>\n    .dataframe thead tr:only-child th {\n        text-align: right;\n    }\n\n    .dataframe thead th {\n        text-align: left;\n    }\n\n    .dataframe tbody tr th {\n        vertical-align: top;\n    }\n</style>\n<table border=\"1\" class=\"dataframe\">\n  <thead>\n    <tr style=\"text-align: right;\">\n      <th></th>\n      <th></th>\n      <th>Employee</th>\n      <th>Revenue</th>\n    </tr>\n    <tr>\n      <th>Year</th>\n      <th>Company</th>\n      <th></th>\n      <th></th>\n    </tr>\n  </thead>\n  <tbody>\n    <tr>\n      <th>2008</th>\n      <th>Google</th>\n      <td>300</td>\n      <td>11</td>\n    </tr>\n    <tr>\n      <th>2009</th>\n      <th>Google</th>\n      <td>400</td>\n      <td>15</td>\n    </tr>\n    <tr>\n      <th>2010</th>\n      <th>Google</th>\n      <td>500</td>\n      <td>16</td>\n    </tr>\n    <tr>\n      <th>2008</th>\n      <th>Microsoft</th>\n      <td>350</td>\n      <td>9</td>\n    </tr>\n    <tr>\n      <th>2009</th>\n      <th>Microsoft</th>\n      <td>450</td>\n      <td>12</td>\n    </tr>\n    <tr>\n      <th>2010</th>\n      <th>Microsoft</th>\n      <td>550</td>\n      <td>14</td>\n    </tr>\n  </tbody>\n</table>\n</div>",
            "text/plain": "                Employee  Revenue\nYear Company                     \n2008 Google          300       11\n2009 Google          400       15\n2010 Google          500       16\n2008 Microsoft       350        9\n2009 Microsoft       450       12\n2010 Microsoft       550       14"
          },
          "execution_count": 60,
          "metadata": {},
          "output_type": "execute_result"
        }
      ]
    },
    {
      "metadata": {
        "trusted": false
      },
      "cell_type": "code",
      "source": "cmp_df.set_index(['Company','Year'],inplace=True)\ncmp_df",
      "execution_count": 63,
      "outputs": [
        {
          "data": {
            "text/html": "<div>\n<style>\n    .dataframe thead tr:only-child th {\n        text-align: right;\n    }\n\n    .dataframe thead th {\n        text-align: left;\n    }\n\n    .dataframe tbody tr th {\n        vertical-align: top;\n    }\n</style>\n<table border=\"1\" class=\"dataframe\">\n  <thead>\n    <tr style=\"text-align: right;\">\n      <th></th>\n      <th></th>\n      <th>Employee</th>\n      <th>Revenue</th>\n    </tr>\n    <tr>\n      <th>Company</th>\n      <th>Year</th>\n      <th></th>\n      <th></th>\n    </tr>\n  </thead>\n  <tbody>\n    <tr>\n      <th rowspan=\"3\" valign=\"top\">Google</th>\n      <th>2008</th>\n      <td>300</td>\n      <td>11</td>\n    </tr>\n    <tr>\n      <th>2009</th>\n      <td>400</td>\n      <td>15</td>\n    </tr>\n    <tr>\n      <th>2010</th>\n      <td>500</td>\n      <td>16</td>\n    </tr>\n    <tr>\n      <th rowspan=\"3\" valign=\"top\">Microsoft</th>\n      <th>2008</th>\n      <td>350</td>\n      <td>9</td>\n    </tr>\n    <tr>\n      <th>2009</th>\n      <td>450</td>\n      <td>12</td>\n    </tr>\n    <tr>\n      <th>2010</th>\n      <td>550</td>\n      <td>14</td>\n    </tr>\n  </tbody>\n</table>\n</div>",
            "text/plain": "                Employee  Revenue\nCompany   Year                   \nGoogle    2008       300       11\n          2009       400       15\n          2010       500       16\nMicrosoft 2008       350        9\n          2009       450       12\n          2010       550       14"
          },
          "execution_count": 63,
          "metadata": {},
          "output_type": "execute_result"
        }
      ]
    },
    {
      "metadata": {
        "trusted": false
      },
      "cell_type": "code",
      "source": "cmp_df.loc['Google']",
      "execution_count": 67,
      "outputs": [
        {
          "data": {
            "text/html": "<div>\n<style>\n    .dataframe thead tr:only-child th {\n        text-align: right;\n    }\n\n    .dataframe thead th {\n        text-align: left;\n    }\n\n    .dataframe tbody tr th {\n        vertical-align: top;\n    }\n</style>\n<table border=\"1\" class=\"dataframe\">\n  <thead>\n    <tr style=\"text-align: right;\">\n      <th></th>\n      <th>Employee</th>\n      <th>Revenue</th>\n    </tr>\n    <tr>\n      <th>Year</th>\n      <th></th>\n      <th></th>\n    </tr>\n  </thead>\n  <tbody>\n    <tr>\n      <th>2008</th>\n      <td>300</td>\n      <td>11</td>\n    </tr>\n    <tr>\n      <th>2009</th>\n      <td>400</td>\n      <td>15</td>\n    </tr>\n    <tr>\n      <th>2010</th>\n      <td>500</td>\n      <td>16</td>\n    </tr>\n  </tbody>\n</table>\n</div>",
            "text/plain": "      Employee  Revenue\nYear                   \n2008       300       11\n2009       400       15\n2010       500       16"
          },
          "execution_count": 67,
          "metadata": {},
          "output_type": "execute_result"
        }
      ]
    },
    {
      "metadata": {
        "trusted": false
      },
      "cell_type": "code",
      "source": "cmp_df.loc['Google'].loc[2010]",
      "execution_count": 68,
      "outputs": [
        {
          "data": {
            "text/plain": "Employee    500\nRevenue      16\nName: 2010, dtype: int64"
          },
          "execution_count": 68,
          "metadata": {},
          "output_type": "execute_result"
        }
      ]
    },
    {
      "metadata": {
        "trusted": false
      },
      "cell_type": "code",
      "source": "cmp_df.loc['Google'].loc[2010][0]",
      "execution_count": 69,
      "outputs": [
        {
          "data": {
            "text/plain": "500"
          },
          "execution_count": 69,
          "metadata": {},
          "output_type": "execute_result"
        }
      ]
    },
    {
      "metadata": {
        "trusted": false
      },
      "cell_type": "code",
      "source": "cmp_df.loc['Google'].loc[2010][1]",
      "execution_count": 70,
      "outputs": [
        {
          "data": {
            "text/plain": "16"
          },
          "execution_count": 70,
          "metadata": {},
          "output_type": "execute_result"
        }
      ]
    },
    {
      "metadata": {
        "trusted": false
      },
      "cell_type": "code",
      "source": "cmp_df.xs(2009,level='Year')",
      "execution_count": 71,
      "outputs": [
        {
          "data": {
            "text/html": "<div>\n<style>\n    .dataframe thead tr:only-child th {\n        text-align: right;\n    }\n\n    .dataframe thead th {\n        text-align: left;\n    }\n\n    .dataframe tbody tr th {\n        vertical-align: top;\n    }\n</style>\n<table border=\"1\" class=\"dataframe\">\n  <thead>\n    <tr style=\"text-align: right;\">\n      <th></th>\n      <th>Employee</th>\n      <th>Revenue</th>\n    </tr>\n    <tr>\n      <th>Company</th>\n      <th></th>\n      <th></th>\n    </tr>\n  </thead>\n  <tbody>\n    <tr>\n      <th>Google</th>\n      <td>400</td>\n      <td>15</td>\n    </tr>\n    <tr>\n      <th>Microsoft</th>\n      <td>450</td>\n      <td>12</td>\n    </tr>\n  </tbody>\n</table>\n</div>",
            "text/plain": "           Employee  Revenue\nCompany                     \nGoogle          400       15\nMicrosoft       450       12"
          },
          "execution_count": 71,
          "metadata": {},
          "output_type": "execute_result"
        }
      ]
    },
    {
      "metadata": {
        "trusted": false
      },
      "cell_type": "code",
      "source": "cmp_df.xs('Google',level='Company')",
      "execution_count": 72,
      "outputs": [
        {
          "data": {
            "text/html": "<div>\n<style>\n    .dataframe thead tr:only-child th {\n        text-align: right;\n    }\n\n    .dataframe thead th {\n        text-align: left;\n    }\n\n    .dataframe tbody tr th {\n        vertical-align: top;\n    }\n</style>\n<table border=\"1\" class=\"dataframe\">\n  <thead>\n    <tr style=\"text-align: right;\">\n      <th></th>\n      <th>Employee</th>\n      <th>Revenue</th>\n    </tr>\n    <tr>\n      <th>Year</th>\n      <th></th>\n      <th></th>\n    </tr>\n  </thead>\n  <tbody>\n    <tr>\n      <th>2008</th>\n      <td>300</td>\n      <td>11</td>\n    </tr>\n    <tr>\n      <th>2009</th>\n      <td>400</td>\n      <td>15</td>\n    </tr>\n    <tr>\n      <th>2010</th>\n      <td>500</td>\n      <td>16</td>\n    </tr>\n  </tbody>\n</table>\n</div>",
            "text/plain": "      Employee  Revenue\nYear                   \n2008       300       11\n2009       400       15\n2010       500       16"
          },
          "execution_count": 72,
          "metadata": {},
          "output_type": "execute_result"
        }
      ]
    },
    {
      "metadata": {
        "trusted": false
      },
      "cell_type": "code",
      "source": "import seaborn as sns\nimport pandas as pd\ntips=sns.load_dataset('tips')\ntips.head()",
      "execution_count": 76,
      "outputs": [
        {
          "data": {
            "text/html": "<div>\n<style>\n    .dataframe thead tr:only-child th {\n        text-align: right;\n    }\n\n    .dataframe thead th {\n        text-align: left;\n    }\n\n    .dataframe tbody tr th {\n        vertical-align: top;\n    }\n</style>\n<table border=\"1\" class=\"dataframe\">\n  <thead>\n    <tr style=\"text-align: right;\">\n      <th></th>\n      <th>total_bill</th>\n      <th>tip</th>\n      <th>sex</th>\n      <th>smoker</th>\n      <th>day</th>\n      <th>time</th>\n      <th>size</th>\n    </tr>\n  </thead>\n  <tbody>\n    <tr>\n      <th>0</th>\n      <td>16.99</td>\n      <td>1.01</td>\n      <td>Female</td>\n      <td>No</td>\n      <td>Sun</td>\n      <td>Dinner</td>\n      <td>2</td>\n    </tr>\n    <tr>\n      <th>1</th>\n      <td>10.34</td>\n      <td>1.66</td>\n      <td>Male</td>\n      <td>No</td>\n      <td>Sun</td>\n      <td>Dinner</td>\n      <td>3</td>\n    </tr>\n    <tr>\n      <th>2</th>\n      <td>21.01</td>\n      <td>3.50</td>\n      <td>Male</td>\n      <td>No</td>\n      <td>Sun</td>\n      <td>Dinner</td>\n      <td>3</td>\n    </tr>\n    <tr>\n      <th>3</th>\n      <td>23.68</td>\n      <td>3.31</td>\n      <td>Male</td>\n      <td>No</td>\n      <td>Sun</td>\n      <td>Dinner</td>\n      <td>2</td>\n    </tr>\n    <tr>\n      <th>4</th>\n      <td>24.59</td>\n      <td>3.61</td>\n      <td>Female</td>\n      <td>No</td>\n      <td>Sun</td>\n      <td>Dinner</td>\n      <td>4</td>\n    </tr>\n  </tbody>\n</table>\n</div>",
            "text/plain": "   total_bill   tip     sex smoker  day    time  size\n0       16.99  1.01  Female     No  Sun  Dinner     2\n1       10.34  1.66    Male     No  Sun  Dinner     3\n2       21.01  3.50    Male     No  Sun  Dinner     3\n3       23.68  3.31    Male     No  Sun  Dinner     2\n4       24.59  3.61  Female     No  Sun  Dinner     4"
          },
          "execution_count": 76,
          "metadata": {},
          "output_type": "execute_result"
        }
      ]
    },
    {
      "metadata": {
        "trusted": false
      },
      "cell_type": "code",
      "source": "tips.info()",
      "execution_count": 77,
      "outputs": [
        {
          "name": "stdout",
          "output_type": "stream",
          "text": "<class 'pandas.core.frame.DataFrame'>\nRangeIndex: 244 entries, 0 to 243\nData columns (total 7 columns):\ntotal_bill    244 non-null float64\ntip           244 non-null float64\nsex           244 non-null category\nsmoker        244 non-null category\nday           244 non-null category\ntime          244 non-null category\nsize          244 non-null int64\ndtypes: category(4), float64(2), int64(1)\nmemory usage: 7.2 KB\n"
        }
      ]
    },
    {
      "metadata": {
        "trusted": false
      },
      "cell_type": "code",
      "source": "tips.describe(include='all')",
      "execution_count": 79,
      "outputs": [
        {
          "data": {
            "text/html": "<div>\n<style>\n    .dataframe thead tr:only-child th {\n        text-align: right;\n    }\n\n    .dataframe thead th {\n        text-align: left;\n    }\n\n    .dataframe tbody tr th {\n        vertical-align: top;\n    }\n</style>\n<table border=\"1\" class=\"dataframe\">\n  <thead>\n    <tr style=\"text-align: right;\">\n      <th></th>\n      <th>total_bill</th>\n      <th>tip</th>\n      <th>sex</th>\n      <th>smoker</th>\n      <th>day</th>\n      <th>time</th>\n      <th>size</th>\n    </tr>\n  </thead>\n  <tbody>\n    <tr>\n      <th>count</th>\n      <td>244.000000</td>\n      <td>244.000000</td>\n      <td>244</td>\n      <td>244</td>\n      <td>244</td>\n      <td>244</td>\n      <td>244.000000</td>\n    </tr>\n    <tr>\n      <th>unique</th>\n      <td>NaN</td>\n      <td>NaN</td>\n      <td>2</td>\n      <td>2</td>\n      <td>4</td>\n      <td>2</td>\n      <td>NaN</td>\n    </tr>\n    <tr>\n      <th>top</th>\n      <td>NaN</td>\n      <td>NaN</td>\n      <td>Male</td>\n      <td>No</td>\n      <td>Sat</td>\n      <td>Dinner</td>\n      <td>NaN</td>\n    </tr>\n    <tr>\n      <th>freq</th>\n      <td>NaN</td>\n      <td>NaN</td>\n      <td>157</td>\n      <td>151</td>\n      <td>87</td>\n      <td>176</td>\n      <td>NaN</td>\n    </tr>\n    <tr>\n      <th>mean</th>\n      <td>19.785943</td>\n      <td>2.998279</td>\n      <td>NaN</td>\n      <td>NaN</td>\n      <td>NaN</td>\n      <td>NaN</td>\n      <td>2.569672</td>\n    </tr>\n    <tr>\n      <th>std</th>\n      <td>8.902412</td>\n      <td>1.383638</td>\n      <td>NaN</td>\n      <td>NaN</td>\n      <td>NaN</td>\n      <td>NaN</td>\n      <td>0.951100</td>\n    </tr>\n    <tr>\n      <th>min</th>\n      <td>3.070000</td>\n      <td>1.000000</td>\n      <td>NaN</td>\n      <td>NaN</td>\n      <td>NaN</td>\n      <td>NaN</td>\n      <td>1.000000</td>\n    </tr>\n    <tr>\n      <th>25%</th>\n      <td>13.347500</td>\n      <td>2.000000</td>\n      <td>NaN</td>\n      <td>NaN</td>\n      <td>NaN</td>\n      <td>NaN</td>\n      <td>2.000000</td>\n    </tr>\n    <tr>\n      <th>50%</th>\n      <td>17.795000</td>\n      <td>2.900000</td>\n      <td>NaN</td>\n      <td>NaN</td>\n      <td>NaN</td>\n      <td>NaN</td>\n      <td>2.000000</td>\n    </tr>\n    <tr>\n      <th>75%</th>\n      <td>24.127500</td>\n      <td>3.562500</td>\n      <td>NaN</td>\n      <td>NaN</td>\n      <td>NaN</td>\n      <td>NaN</td>\n      <td>3.000000</td>\n    </tr>\n    <tr>\n      <th>max</th>\n      <td>50.810000</td>\n      <td>10.000000</td>\n      <td>NaN</td>\n      <td>NaN</td>\n      <td>NaN</td>\n      <td>NaN</td>\n      <td>6.000000</td>\n    </tr>\n  </tbody>\n</table>\n</div>",
            "text/plain": "        total_bill         tip   sex smoker  day    time        size\ncount   244.000000  244.000000   244    244  244     244  244.000000\nunique         NaN         NaN     2      2    4       2         NaN\ntop            NaN         NaN  Male     No  Sat  Dinner         NaN\nfreq           NaN         NaN   157    151   87     176         NaN\nmean     19.785943    2.998279   NaN    NaN  NaN     NaN    2.569672\nstd       8.902412    1.383638   NaN    NaN  NaN     NaN    0.951100\nmin       3.070000    1.000000   NaN    NaN  NaN     NaN    1.000000\n25%      13.347500    2.000000   NaN    NaN  NaN     NaN    2.000000\n50%      17.795000    2.900000   NaN    NaN  NaN     NaN    2.000000\n75%      24.127500    3.562500   NaN    NaN  NaN     NaN    3.000000\nmax      50.810000   10.000000   NaN    NaN  NaN     NaN    6.000000"
          },
          "execution_count": 79,
          "metadata": {},
          "output_type": "execute_result"
        }
      ]
    },
    {
      "metadata": {
        "trusted": false
      },
      "cell_type": "code",
      "source": "tips['day'].unique()",
      "execution_count": 80,
      "outputs": [
        {
          "data": {
            "text/plain": "[Sun, Sat, Thur, Fri]\nCategories (4, object): [Sun, Sat, Thur, Fri]"
          },
          "execution_count": 80,
          "metadata": {},
          "output_type": "execute_result"
        }
      ]
    },
    {
      "metadata": {
        "trusted": false
      },
      "cell_type": "code",
      "source": "tips['time'].unique()",
      "execution_count": 81,
      "outputs": [
        {
          "data": {
            "text/plain": "[Dinner, Lunch]\nCategories (2, object): [Dinner, Lunch]"
          },
          "execution_count": 81,
          "metadata": {},
          "output_type": "execute_result"
        }
      ]
    },
    {
      "metadata": {
        "trusted": false
      },
      "cell_type": "code",
      "source": "tips['smoker'].unique()",
      "execution_count": 82,
      "outputs": [
        {
          "data": {
            "text/plain": "[No, Yes]\nCategories (2, object): [No, Yes]"
          },
          "execution_count": 82,
          "metadata": {},
          "output_type": "execute_result"
        }
      ]
    },
    {
      "metadata": {
        "trusted": false
      },
      "cell_type": "code",
      "source": "tips['sex'].unique()",
      "execution_count": 83,
      "outputs": [
        {
          "data": {
            "text/plain": "[Female, Male]\nCategories (2, object): [Female, Male]"
          },
          "execution_count": 83,
          "metadata": {},
          "output_type": "execute_result"
        }
      ]
    },
    {
      "metadata": {
        "trusted": false
      },
      "cell_type": "code",
      "source": "tips[tips.time=='Lunch']['tip'].sum()",
      "execution_count": 85,
      "outputs": [
        {
          "data": {
            "text/plain": "185.51"
          },
          "execution_count": 85,
          "metadata": {},
          "output_type": "execute_result"
        }
      ]
    },
    {
      "metadata": {
        "trusted": false
      },
      "cell_type": "code",
      "source": "tips[tips.time=='Dinner']['tip'].sum()",
      "execution_count": 87,
      "outputs": [
        {
          "data": {
            "text/plain": "546.0699999999999"
          },
          "execution_count": 87,
          "metadata": {},
          "output_type": "execute_result"
        }
      ]
    },
    {
      "metadata": {
        "trusted": false
      },
      "cell_type": "code",
      "source": "tips[tips.time=='Lunch']['tip'].count()",
      "execution_count": 89,
      "outputs": [
        {
          "data": {
            "text/plain": "68"
          },
          "execution_count": 89,
          "metadata": {},
          "output_type": "execute_result"
        }
      ]
    },
    {
      "metadata": {
        "trusted": false
      },
      "cell_type": "code",
      "source": "tips[tips.time=='Lunch']['tip'].mean()",
      "execution_count": 86,
      "outputs": [
        {
          "data": {
            "text/plain": "2.7280882352941176"
          },
          "execution_count": 86,
          "metadata": {},
          "output_type": "execute_result"
        }
      ]
    },
    {
      "metadata": {
        "trusted": false
      },
      "cell_type": "code",
      "source": "tips[tips.time=='Dinner']['tip'].mean()",
      "execution_count": 88,
      "outputs": [
        {
          "data": {
            "text/plain": "3.102670454545454"
          },
          "execution_count": 88,
          "metadata": {},
          "output_type": "execute_result"
        }
      ]
    },
    {
      "metadata": {
        "trusted": false
      },
      "cell_type": "code",
      "source": "tips[tips.time=='Dinner']['tip'].count()",
      "execution_count": 90,
      "outputs": [
        {
          "data": {
            "text/plain": "176"
          },
          "execution_count": 90,
          "metadata": {},
          "output_type": "execute_result"
        }
      ]
    },
    {
      "metadata": {
        "trusted": false
      },
      "cell_type": "code",
      "source": "tips.shape",
      "execution_count": 91,
      "outputs": [
        {
          "data": {
            "text/plain": "(244, 7)"
          },
          "execution_count": 91,
          "metadata": {},
          "output_type": "execute_result"
        }
      ]
    },
    {
      "metadata": {
        "trusted": false
      },
      "cell_type": "code",
      "source": "tips[tips.time==\"Lunch\"].shape",
      "execution_count": 92,
      "outputs": [
        {
          "data": {
            "text/plain": "(68, 7)"
          },
          "execution_count": 92,
          "metadata": {},
          "output_type": "execute_result"
        }
      ]
    },
    {
      "metadata": {
        "trusted": false
      },
      "cell_type": "code",
      "source": "tips.groupby('time').sum()",
      "execution_count": 93,
      "outputs": [
        {
          "data": {
            "text/html": "<div>\n<style>\n    .dataframe thead tr:only-child th {\n        text-align: right;\n    }\n\n    .dataframe thead th {\n        text-align: left;\n    }\n\n    .dataframe tbody tr th {\n        vertical-align: top;\n    }\n</style>\n<table border=\"1\" class=\"dataframe\">\n  <thead>\n    <tr style=\"text-align: right;\">\n      <th></th>\n      <th>total_bill</th>\n      <th>tip</th>\n      <th>size</th>\n    </tr>\n    <tr>\n      <th>time</th>\n      <th></th>\n      <th></th>\n      <th></th>\n    </tr>\n  </thead>\n  <tbody>\n    <tr>\n      <th>Lunch</th>\n      <td>1167.47</td>\n      <td>185.51</td>\n      <td>164</td>\n    </tr>\n    <tr>\n      <th>Dinner</th>\n      <td>3660.30</td>\n      <td>546.07</td>\n      <td>463</td>\n    </tr>\n  </tbody>\n</table>\n</div>",
            "text/plain": "        total_bill     tip  size\ntime                            \nLunch      1167.47  185.51   164\nDinner     3660.30  546.07   463"
          },
          "execution_count": 93,
          "metadata": {},
          "output_type": "execute_result"
        }
      ]
    },
    {
      "metadata": {
        "trusted": false
      },
      "cell_type": "code",
      "source": "tips.groupby('time').mean()",
      "execution_count": 94,
      "outputs": [
        {
          "data": {
            "text/html": "<div>\n<style>\n    .dataframe thead tr:only-child th {\n        text-align: right;\n    }\n\n    .dataframe thead th {\n        text-align: left;\n    }\n\n    .dataframe tbody tr th {\n        vertical-align: top;\n    }\n</style>\n<table border=\"1\" class=\"dataframe\">\n  <thead>\n    <tr style=\"text-align: right;\">\n      <th></th>\n      <th>total_bill</th>\n      <th>tip</th>\n      <th>size</th>\n    </tr>\n    <tr>\n      <th>time</th>\n      <th></th>\n      <th></th>\n      <th></th>\n    </tr>\n  </thead>\n  <tbody>\n    <tr>\n      <th>Lunch</th>\n      <td>17.168676</td>\n      <td>2.728088</td>\n      <td>2.411765</td>\n    </tr>\n    <tr>\n      <th>Dinner</th>\n      <td>20.797159</td>\n      <td>3.102670</td>\n      <td>2.630682</td>\n    </tr>\n  </tbody>\n</table>\n</div>",
            "text/plain": "        total_bill       tip      size\ntime                                  \nLunch    17.168676  2.728088  2.411765\nDinner   20.797159  3.102670  2.630682"
          },
          "execution_count": 94,
          "metadata": {},
          "output_type": "execute_result"
        }
      ]
    },
    {
      "metadata": {
        "trusted": false
      },
      "cell_type": "code",
      "source": "tips.groupby(['time','sex']).sum()",
      "execution_count": 95,
      "outputs": [
        {
          "data": {
            "text/html": "<div>\n<style>\n    .dataframe thead tr:only-child th {\n        text-align: right;\n    }\n\n    .dataframe thead th {\n        text-align: left;\n    }\n\n    .dataframe tbody tr th {\n        vertical-align: top;\n    }\n</style>\n<table border=\"1\" class=\"dataframe\">\n  <thead>\n    <tr style=\"text-align: right;\">\n      <th></th>\n      <th></th>\n      <th>total_bill</th>\n      <th>tip</th>\n      <th>size</th>\n    </tr>\n    <tr>\n      <th>time</th>\n      <th>sex</th>\n      <th></th>\n      <th></th>\n      <th></th>\n    </tr>\n  </thead>\n  <tbody>\n    <tr>\n      <th rowspan=\"2\" valign=\"top\">Lunch</th>\n      <th>Male</th>\n      <td>595.60</td>\n      <td>95.11</td>\n      <td>78</td>\n    </tr>\n    <tr>\n      <th>Female</th>\n      <td>571.87</td>\n      <td>90.40</td>\n      <td>86</td>\n    </tr>\n    <tr>\n      <th rowspan=\"2\" valign=\"top\">Dinner</th>\n      <th>Male</th>\n      <td>2661.22</td>\n      <td>389.96</td>\n      <td>335</td>\n    </tr>\n    <tr>\n      <th>Female</th>\n      <td>999.08</td>\n      <td>156.11</td>\n      <td>128</td>\n    </tr>\n  </tbody>\n</table>\n</div>",
            "text/plain": "               total_bill     tip  size\ntime   sex                             \nLunch  Male        595.60   95.11    78\n       Female      571.87   90.40    86\nDinner Male       2661.22  389.96   335\n       Female      999.08  156.11   128"
          },
          "execution_count": 95,
          "metadata": {},
          "output_type": "execute_result"
        }
      ]
    },
    {
      "metadata": {
        "trusted": false
      },
      "cell_type": "code",
      "source": "tips.groupby(['sex','time']).sum()",
      "execution_count": 96,
      "outputs": [
        {
          "data": {
            "text/html": "<div>\n<style>\n    .dataframe thead tr:only-child th {\n        text-align: right;\n    }\n\n    .dataframe thead th {\n        text-align: left;\n    }\n\n    .dataframe tbody tr th {\n        vertical-align: top;\n    }\n</style>\n<table border=\"1\" class=\"dataframe\">\n  <thead>\n    <tr style=\"text-align: right;\">\n      <th></th>\n      <th></th>\n      <th>total_bill</th>\n      <th>tip</th>\n      <th>size</th>\n    </tr>\n    <tr>\n      <th>sex</th>\n      <th>time</th>\n      <th></th>\n      <th></th>\n      <th></th>\n    </tr>\n  </thead>\n  <tbody>\n    <tr>\n      <th rowspan=\"2\" valign=\"top\">Male</th>\n      <th>Lunch</th>\n      <td>595.60</td>\n      <td>95.11</td>\n      <td>78</td>\n    </tr>\n    <tr>\n      <th>Dinner</th>\n      <td>2661.22</td>\n      <td>389.96</td>\n      <td>335</td>\n    </tr>\n    <tr>\n      <th rowspan=\"2\" valign=\"top\">Female</th>\n      <th>Lunch</th>\n      <td>571.87</td>\n      <td>90.40</td>\n      <td>86</td>\n    </tr>\n    <tr>\n      <th>Dinner</th>\n      <td>999.08</td>\n      <td>156.11</td>\n      <td>128</td>\n    </tr>\n  </tbody>\n</table>\n</div>",
            "text/plain": "               total_bill     tip  size\nsex    time                            \nMale   Lunch       595.60   95.11    78\n       Dinner     2661.22  389.96   335\nFemale Lunch       571.87   90.40    86\n       Dinner      999.08  156.11   128"
          },
          "execution_count": 96,
          "metadata": {},
          "output_type": "execute_result"
        }
      ]
    },
    {
      "metadata": {
        "trusted": false
      },
      "cell_type": "code",
      "source": "tips.groupby(['sex','time','day']).sum()",
      "execution_count": 97,
      "outputs": [
        {
          "data": {
            "text/html": "<div>\n<style>\n    .dataframe thead tr:only-child th {\n        text-align: right;\n    }\n\n    .dataframe thead th {\n        text-align: left;\n    }\n\n    .dataframe tbody tr th {\n        vertical-align: top;\n    }\n</style>\n<table border=\"1\" class=\"dataframe\">\n  <thead>\n    <tr style=\"text-align: right;\">\n      <th></th>\n      <th></th>\n      <th></th>\n      <th>total_bill</th>\n      <th>tip</th>\n      <th>size</th>\n    </tr>\n    <tr>\n      <th>sex</th>\n      <th>time</th>\n      <th>day</th>\n      <th></th>\n      <th></th>\n      <th></th>\n    </tr>\n  </thead>\n  <tbody>\n    <tr>\n      <th rowspan=\"8\" valign=\"top\">Male</th>\n      <th rowspan=\"4\" valign=\"top\">Lunch</th>\n      <th>Thur</th>\n      <td>561.44</td>\n      <td>89.41</td>\n      <td>73.0</td>\n    </tr>\n    <tr>\n      <th>Fri</th>\n      <td>34.16</td>\n      <td>5.70</td>\n      <td>5.0</td>\n    </tr>\n    <tr>\n      <th>Sat</th>\n      <td>NaN</td>\n      <td>NaN</td>\n      <td>NaN</td>\n    </tr>\n    <tr>\n      <th>Sun</th>\n      <td>NaN</td>\n      <td>NaN</td>\n      <td>NaN</td>\n    </tr>\n    <tr>\n      <th rowspan=\"4\" valign=\"top\">Dinner</th>\n      <th>Thur</th>\n      <td>NaN</td>\n      <td>NaN</td>\n      <td>NaN</td>\n    </tr>\n    <tr>\n      <th>Fri</th>\n      <td>164.41</td>\n      <td>21.23</td>\n      <td>16.0</td>\n    </tr>\n    <tr>\n      <th>Sat</th>\n      <td>1227.35</td>\n      <td>181.95</td>\n      <td>156.0</td>\n    </tr>\n    <tr>\n      <th>Sun</th>\n      <td>1269.46</td>\n      <td>186.78</td>\n      <td>163.0</td>\n    </tr>\n    <tr>\n      <th rowspan=\"8\" valign=\"top\">Female</th>\n      <th rowspan=\"4\" valign=\"top\">Lunch</th>\n      <th>Thur</th>\n      <td>516.11</td>\n      <td>79.42</td>\n      <td>77.0</td>\n    </tr>\n    <tr>\n      <th>Fri</th>\n      <td>55.76</td>\n      <td>10.98</td>\n      <td>9.0</td>\n    </tr>\n    <tr>\n      <th>Sat</th>\n      <td>NaN</td>\n      <td>NaN</td>\n      <td>NaN</td>\n    </tr>\n    <tr>\n      <th>Sun</th>\n      <td>NaN</td>\n      <td>NaN</td>\n      <td>NaN</td>\n    </tr>\n    <tr>\n      <th rowspan=\"4\" valign=\"top\">Dinner</th>\n      <th>Thur</th>\n      <td>18.78</td>\n      <td>3.00</td>\n      <td>2.0</td>\n    </tr>\n    <tr>\n      <th>Fri</th>\n      <td>71.55</td>\n      <td>14.05</td>\n      <td>10.0</td>\n    </tr>\n    <tr>\n      <th>Sat</th>\n      <td>551.05</td>\n      <td>78.45</td>\n      <td>63.0</td>\n    </tr>\n    <tr>\n      <th>Sun</th>\n      <td>357.70</td>\n      <td>60.61</td>\n      <td>53.0</td>\n    </tr>\n  </tbody>\n</table>\n</div>",
            "text/plain": "                    total_bill     tip   size\nsex    time   day                            \nMale   Lunch  Thur      561.44   89.41   73.0\n              Fri        34.16    5.70    5.0\n              Sat          NaN     NaN    NaN\n              Sun          NaN     NaN    NaN\n       Dinner Thur         NaN     NaN    NaN\n              Fri       164.41   21.23   16.0\n              Sat      1227.35  181.95  156.0\n              Sun      1269.46  186.78  163.0\nFemale Lunch  Thur      516.11   79.42   77.0\n              Fri        55.76   10.98    9.0\n              Sat          NaN     NaN    NaN\n              Sun          NaN     NaN    NaN\n       Dinner Thur       18.78    3.00    2.0\n              Fri        71.55   14.05   10.0\n              Sat       551.05   78.45   63.0\n              Sun       357.70   60.61   53.0"
          },
          "execution_count": 97,
          "metadata": {},
          "output_type": "execute_result"
        }
      ]
    },
    {
      "metadata": {
        "trusted": false
      },
      "cell_type": "code",
      "source": "tips.groupby(['sex','time','day','smoker']).sum()",
      "execution_count": 98,
      "outputs": [
        {
          "data": {
            "text/html": "<div>\n<style>\n    .dataframe thead tr:only-child th {\n        text-align: right;\n    }\n\n    .dataframe thead th {\n        text-align: left;\n    }\n\n    .dataframe tbody tr th {\n        vertical-align: top;\n    }\n</style>\n<table border=\"1\" class=\"dataframe\">\n  <thead>\n    <tr style=\"text-align: right;\">\n      <th></th>\n      <th></th>\n      <th></th>\n      <th></th>\n      <th>total_bill</th>\n      <th>tip</th>\n      <th>size</th>\n    </tr>\n    <tr>\n      <th>sex</th>\n      <th>time</th>\n      <th>day</th>\n      <th>smoker</th>\n      <th></th>\n      <th></th>\n      <th></th>\n    </tr>\n  </thead>\n  <tbody>\n    <tr>\n      <th rowspan=\"16\" valign=\"top\">Male</th>\n      <th rowspan=\"8\" valign=\"top\">Lunch</th>\n      <th rowspan=\"2\" valign=\"top\">Thur</th>\n      <th>Yes</th>\n      <td>191.71</td>\n      <td>30.58</td>\n      <td>23.0</td>\n    </tr>\n    <tr>\n      <th>No</th>\n      <td>369.73</td>\n      <td>58.83</td>\n      <td>50.0</td>\n    </tr>\n    <tr>\n      <th rowspan=\"2\" valign=\"top\">Fri</th>\n      <th>Yes</th>\n      <td>34.16</td>\n      <td>5.70</td>\n      <td>5.0</td>\n    </tr>\n    <tr>\n      <th>No</th>\n      <td>NaN</td>\n      <td>NaN</td>\n      <td>NaN</td>\n    </tr>\n    <tr>\n      <th rowspan=\"2\" valign=\"top\">Sat</th>\n      <th>Yes</th>\n      <td>NaN</td>\n      <td>NaN</td>\n      <td>NaN</td>\n    </tr>\n    <tr>\n      <th>No</th>\n      <td>NaN</td>\n      <td>NaN</td>\n      <td>NaN</td>\n    </tr>\n    <tr>\n      <th rowspan=\"2\" valign=\"top\">Sun</th>\n      <th>Yes</th>\n      <td>NaN</td>\n      <td>NaN</td>\n      <td>NaN</td>\n    </tr>\n    <tr>\n      <th>No</th>\n      <td>NaN</td>\n      <td>NaN</td>\n      <td>NaN</td>\n    </tr>\n    <tr>\n      <th rowspan=\"8\" valign=\"top\">Dinner</th>\n      <th rowspan=\"2\" valign=\"top\">Thur</th>\n      <th>Yes</th>\n      <td>NaN</td>\n      <td>NaN</td>\n      <td>NaN</td>\n    </tr>\n    <tr>\n      <th>No</th>\n      <td>NaN</td>\n      <td>NaN</td>\n      <td>NaN</td>\n    </tr>\n    <tr>\n      <th rowspan=\"2\" valign=\"top\">Fri</th>\n      <th>Yes</th>\n      <td>129.46</td>\n      <td>16.23</td>\n      <td>12.0</td>\n    </tr>\n    <tr>\n      <th>No</th>\n      <td>34.95</td>\n      <td>5.00</td>\n      <td>4.0</td>\n    </tr>\n    <tr>\n      <th rowspan=\"2\" valign=\"top\">Sat</th>\n      <th>Yes</th>\n      <td>589.62</td>\n      <td>77.74</td>\n      <td>71.0</td>\n    </tr>\n    <tr>\n      <th>No</th>\n      <td>637.73</td>\n      <td>104.21</td>\n      <td>85.0</td>\n    </tr>\n    <tr>\n      <th rowspan=\"2\" valign=\"top\">Sun</th>\n      <th>Yes</th>\n      <td>392.12</td>\n      <td>52.82</td>\n      <td>39.0</td>\n    </tr>\n    <tr>\n      <th>No</th>\n      <td>877.34</td>\n      <td>133.96</td>\n      <td>124.0</td>\n    </tr>\n    <tr>\n      <th rowspan=\"16\" valign=\"top\">Female</th>\n      <th rowspan=\"8\" valign=\"top\">Lunch</th>\n      <th rowspan=\"2\" valign=\"top\">Thur</th>\n      <th>Yes</th>\n      <td>134.53</td>\n      <td>20.93</td>\n      <td>17.0</td>\n    </tr>\n    <tr>\n      <th>No</th>\n      <td>381.58</td>\n      <td>58.49</td>\n      <td>60.0</td>\n    </tr>\n    <tr>\n      <th rowspan=\"2\" valign=\"top\">Fri</th>\n      <th>Yes</th>\n      <td>39.78</td>\n      <td>7.98</td>\n      <td>6.0</td>\n    </tr>\n    <tr>\n      <th>No</th>\n      <td>15.98</td>\n      <td>3.00</td>\n      <td>3.0</td>\n    </tr>\n    <tr>\n      <th rowspan=\"2\" valign=\"top\">Sat</th>\n      <th>Yes</th>\n      <td>NaN</td>\n      <td>NaN</td>\n      <td>NaN</td>\n    </tr>\n    <tr>\n      <th>No</th>\n      <td>NaN</td>\n      <td>NaN</td>\n      <td>NaN</td>\n    </tr>\n    <tr>\n      <th rowspan=\"2\" valign=\"top\">Sun</th>\n      <th>Yes</th>\n      <td>NaN</td>\n      <td>NaN</td>\n      <td>NaN</td>\n    </tr>\n    <tr>\n      <th>No</th>\n      <td>NaN</td>\n      <td>NaN</td>\n      <td>NaN</td>\n    </tr>\n    <tr>\n      <th rowspan=\"8\" valign=\"top\">Dinner</th>\n      <th rowspan=\"2\" valign=\"top\">Thur</th>\n      <th>Yes</th>\n      <td>NaN</td>\n      <td>NaN</td>\n      <td>NaN</td>\n    </tr>\n    <tr>\n      <th>No</th>\n      <td>18.78</td>\n      <td>3.00</td>\n      <td>2.0</td>\n    </tr>\n    <tr>\n      <th rowspan=\"2\" valign=\"top\">Fri</th>\n      <th>Yes</th>\n      <td>48.80</td>\n      <td>10.80</td>\n      <td>8.0</td>\n    </tr>\n    <tr>\n      <th>No</th>\n      <td>22.75</td>\n      <td>3.25</td>\n      <td>2.0</td>\n    </tr>\n    <tr>\n      <th rowspan=\"2\" valign=\"top\">Sat</th>\n      <th>Yes</th>\n      <td>304.00</td>\n      <td>43.03</td>\n      <td>33.0</td>\n    </tr>\n    <tr>\n      <th>No</th>\n      <td>247.05</td>\n      <td>35.42</td>\n      <td>30.0</td>\n    </tr>\n    <tr>\n      <th rowspan=\"2\" valign=\"top\">Sun</th>\n      <th>Yes</th>\n      <td>66.16</td>\n      <td>14.00</td>\n      <td>10.0</td>\n    </tr>\n    <tr>\n      <th>No</th>\n      <td>291.54</td>\n      <td>46.61</td>\n      <td>43.0</td>\n    </tr>\n  </tbody>\n</table>\n</div>",
            "text/plain": "                           total_bill     tip   size\nsex    time   day  smoker                           \nMale   Lunch  Thur Yes         191.71   30.58   23.0\n                   No          369.73   58.83   50.0\n              Fri  Yes          34.16    5.70    5.0\n                   No             NaN     NaN    NaN\n              Sat  Yes            NaN     NaN    NaN\n                   No             NaN     NaN    NaN\n              Sun  Yes            NaN     NaN    NaN\n                   No             NaN     NaN    NaN\n       Dinner Thur Yes            NaN     NaN    NaN\n                   No             NaN     NaN    NaN\n              Fri  Yes         129.46   16.23   12.0\n                   No           34.95    5.00    4.0\n              Sat  Yes         589.62   77.74   71.0\n                   No          637.73  104.21   85.0\n              Sun  Yes         392.12   52.82   39.0\n                   No          877.34  133.96  124.0\nFemale Lunch  Thur Yes         134.53   20.93   17.0\n                   No          381.58   58.49   60.0\n              Fri  Yes          39.78    7.98    6.0\n                   No           15.98    3.00    3.0\n              Sat  Yes            NaN     NaN    NaN\n                   No             NaN     NaN    NaN\n              Sun  Yes            NaN     NaN    NaN\n                   No             NaN     NaN    NaN\n       Dinner Thur Yes            NaN     NaN    NaN\n                   No           18.78    3.00    2.0\n              Fri  Yes          48.80   10.80    8.0\n                   No           22.75    3.25    2.0\n              Sat  Yes         304.00   43.03   33.0\n                   No          247.05   35.42   30.0\n              Sun  Yes          66.16   14.00   10.0\n                   No          291.54   46.61   43.0"
          },
          "execution_count": 98,
          "metadata": {},
          "output_type": "execute_result"
        }
      ]
    },
    {
      "metadata": {
        "trusted": false
      },
      "cell_type": "code",
      "source": "tips.groupby(['time','day'])[['tip','total_bill','size']].agg(['sum','mean','count'])",
      "execution_count": 99,
      "outputs": [
        {
          "data": {
            "text/html": "<div>\n<style>\n    .dataframe thead tr:only-child th {\n        text-align: right;\n    }\n\n    .dataframe thead th {\n        text-align: left;\n    }\n\n    .dataframe tbody tr th {\n        vertical-align: top;\n    }\n</style>\n<table border=\"1\" class=\"dataframe\">\n  <thead>\n    <tr>\n      <th></th>\n      <th></th>\n      <th colspan=\"3\" halign=\"left\">tip</th>\n      <th colspan=\"3\" halign=\"left\">total_bill</th>\n      <th colspan=\"3\" halign=\"left\">size</th>\n    </tr>\n    <tr>\n      <th></th>\n      <th></th>\n      <th>sum</th>\n      <th>mean</th>\n      <th>count</th>\n      <th>sum</th>\n      <th>mean</th>\n      <th>count</th>\n      <th>sum</th>\n      <th>mean</th>\n      <th>count</th>\n    </tr>\n    <tr>\n      <th>time</th>\n      <th>day</th>\n      <th></th>\n      <th></th>\n      <th></th>\n      <th></th>\n      <th></th>\n      <th></th>\n      <th></th>\n      <th></th>\n      <th></th>\n    </tr>\n  </thead>\n  <tbody>\n    <tr>\n      <th rowspan=\"2\" valign=\"top\">Lunch</th>\n      <th>Thur</th>\n      <td>168.83</td>\n      <td>2.767705</td>\n      <td>61</td>\n      <td>1077.55</td>\n      <td>17.664754</td>\n      <td>61</td>\n      <td>150</td>\n      <td>2.459016</td>\n      <td>61</td>\n    </tr>\n    <tr>\n      <th>Fri</th>\n      <td>16.68</td>\n      <td>2.382857</td>\n      <td>7</td>\n      <td>89.92</td>\n      <td>12.845714</td>\n      <td>7</td>\n      <td>14</td>\n      <td>2.000000</td>\n      <td>7</td>\n    </tr>\n    <tr>\n      <th rowspan=\"4\" valign=\"top\">Dinner</th>\n      <th>Thur</th>\n      <td>3.00</td>\n      <td>3.000000</td>\n      <td>1</td>\n      <td>18.78</td>\n      <td>18.780000</td>\n      <td>1</td>\n      <td>2</td>\n      <td>2.000000</td>\n      <td>1</td>\n    </tr>\n    <tr>\n      <th>Fri</th>\n      <td>35.28</td>\n      <td>2.940000</td>\n      <td>12</td>\n      <td>235.96</td>\n      <td>19.663333</td>\n      <td>12</td>\n      <td>26</td>\n      <td>2.166667</td>\n      <td>12</td>\n    </tr>\n    <tr>\n      <th>Sat</th>\n      <td>260.40</td>\n      <td>2.993103</td>\n      <td>87</td>\n      <td>1778.40</td>\n      <td>20.441379</td>\n      <td>87</td>\n      <td>219</td>\n      <td>2.517241</td>\n      <td>87</td>\n    </tr>\n    <tr>\n      <th>Sun</th>\n      <td>247.39</td>\n      <td>3.255132</td>\n      <td>76</td>\n      <td>1627.16</td>\n      <td>21.410000</td>\n      <td>76</td>\n      <td>216</td>\n      <td>2.842105</td>\n      <td>76</td>\n    </tr>\n  </tbody>\n</table>\n</div>",
            "text/plain": "                tip                 total_bill                  size  \\\n                sum      mean count        sum       mean count  sum   \ntime   day                                                             \nLunch  Thur  168.83  2.767705    61    1077.55  17.664754    61  150   \n       Fri    16.68  2.382857     7      89.92  12.845714     7   14   \nDinner Thur    3.00  3.000000     1      18.78  18.780000     1    2   \n       Fri    35.28  2.940000    12     235.96  19.663333    12   26   \n       Sat   260.40  2.993103    87    1778.40  20.441379    87  219   \n       Sun   247.39  3.255132    76    1627.16  21.410000    76  216   \n\n                             \n                 mean count  \ntime   day                   \nLunch  Thur  2.459016    61  \n       Fri   2.000000     7  \nDinner Thur  2.000000     1  \n       Fri   2.166667    12  \n       Sat   2.517241    87  \n       Sun   2.842105    76  "
          },
          "execution_count": 99,
          "metadata": {},
          "output_type": "execute_result"
        }
      ]
    },
    {
      "metadata": {
        "trusted": false
      },
      "cell_type": "code",
      "source": "tips.groupby(['time','day','sex'])[['tip','total_bill','size']].agg(['sum','mean','count'])",
      "execution_count": 100,
      "outputs": [
        {
          "data": {
            "text/html": "<div>\n<style>\n    .dataframe thead tr:only-child th {\n        text-align: right;\n    }\n\n    .dataframe thead th {\n        text-align: left;\n    }\n\n    .dataframe tbody tr th {\n        vertical-align: top;\n    }\n</style>\n<table border=\"1\" class=\"dataframe\">\n  <thead>\n    <tr>\n      <th></th>\n      <th></th>\n      <th></th>\n      <th colspan=\"3\" halign=\"left\">tip</th>\n      <th colspan=\"3\" halign=\"left\">total_bill</th>\n      <th colspan=\"3\" halign=\"left\">size</th>\n    </tr>\n    <tr>\n      <th></th>\n      <th></th>\n      <th></th>\n      <th>sum</th>\n      <th>mean</th>\n      <th>count</th>\n      <th>sum</th>\n      <th>mean</th>\n      <th>count</th>\n      <th>sum</th>\n      <th>mean</th>\n      <th>count</th>\n    </tr>\n    <tr>\n      <th>time</th>\n      <th>day</th>\n      <th>sex</th>\n      <th></th>\n      <th></th>\n      <th></th>\n      <th></th>\n      <th></th>\n      <th></th>\n      <th></th>\n      <th></th>\n      <th></th>\n    </tr>\n  </thead>\n  <tbody>\n    <tr>\n      <th rowspan=\"4\" valign=\"top\">Lunch</th>\n      <th rowspan=\"2\" valign=\"top\">Thur</th>\n      <th>Male</th>\n      <td>89.41</td>\n      <td>2.980333</td>\n      <td>30</td>\n      <td>561.44</td>\n      <td>18.714667</td>\n      <td>30</td>\n      <td>73</td>\n      <td>2.433333</td>\n      <td>30</td>\n    </tr>\n    <tr>\n      <th>Female</th>\n      <td>79.42</td>\n      <td>2.561935</td>\n      <td>31</td>\n      <td>516.11</td>\n      <td>16.648710</td>\n      <td>31</td>\n      <td>77</td>\n      <td>2.483871</td>\n      <td>31</td>\n    </tr>\n    <tr>\n      <th rowspan=\"2\" valign=\"top\">Fri</th>\n      <th>Male</th>\n      <td>5.70</td>\n      <td>1.900000</td>\n      <td>3</td>\n      <td>34.16</td>\n      <td>11.386667</td>\n      <td>3</td>\n      <td>5</td>\n      <td>1.666667</td>\n      <td>3</td>\n    </tr>\n    <tr>\n      <th>Female</th>\n      <td>10.98</td>\n      <td>2.745000</td>\n      <td>4</td>\n      <td>55.76</td>\n      <td>13.940000</td>\n      <td>4</td>\n      <td>9</td>\n      <td>2.250000</td>\n      <td>4</td>\n    </tr>\n    <tr>\n      <th rowspan=\"7\" valign=\"top\">Dinner</th>\n      <th>Thur</th>\n      <th>Female</th>\n      <td>3.00</td>\n      <td>3.000000</td>\n      <td>1</td>\n      <td>18.78</td>\n      <td>18.780000</td>\n      <td>1</td>\n      <td>2</td>\n      <td>2.000000</td>\n      <td>1</td>\n    </tr>\n    <tr>\n      <th rowspan=\"2\" valign=\"top\">Fri</th>\n      <th>Male</th>\n      <td>21.23</td>\n      <td>3.032857</td>\n      <td>7</td>\n      <td>164.41</td>\n      <td>23.487143</td>\n      <td>7</td>\n      <td>16</td>\n      <td>2.285714</td>\n      <td>7</td>\n    </tr>\n    <tr>\n      <th>Female</th>\n      <td>14.05</td>\n      <td>2.810000</td>\n      <td>5</td>\n      <td>71.55</td>\n      <td>14.310000</td>\n      <td>5</td>\n      <td>10</td>\n      <td>2.000000</td>\n      <td>5</td>\n    </tr>\n    <tr>\n      <th rowspan=\"2\" valign=\"top\">Sat</th>\n      <th>Male</th>\n      <td>181.95</td>\n      <td>3.083898</td>\n      <td>59</td>\n      <td>1227.35</td>\n      <td>20.802542</td>\n      <td>59</td>\n      <td>156</td>\n      <td>2.644068</td>\n      <td>59</td>\n    </tr>\n    <tr>\n      <th>Female</th>\n      <td>78.45</td>\n      <td>2.801786</td>\n      <td>28</td>\n      <td>551.05</td>\n      <td>19.680357</td>\n      <td>28</td>\n      <td>63</td>\n      <td>2.250000</td>\n      <td>28</td>\n    </tr>\n    <tr>\n      <th rowspan=\"2\" valign=\"top\">Sun</th>\n      <th>Male</th>\n      <td>186.78</td>\n      <td>3.220345</td>\n      <td>58</td>\n      <td>1269.46</td>\n      <td>21.887241</td>\n      <td>58</td>\n      <td>163</td>\n      <td>2.810345</td>\n      <td>58</td>\n    </tr>\n    <tr>\n      <th>Female</th>\n      <td>60.61</td>\n      <td>3.367222</td>\n      <td>18</td>\n      <td>357.70</td>\n      <td>19.872222</td>\n      <td>18</td>\n      <td>53</td>\n      <td>2.944444</td>\n      <td>18</td>\n    </tr>\n  </tbody>\n</table>\n</div>",
            "text/plain": "                       tip                 total_bill                  size  \\\n                       sum      mean count        sum       mean count  sum   \ntime   day  sex                                                               \nLunch  Thur Male     89.41  2.980333    30     561.44  18.714667    30   73   \n            Female   79.42  2.561935    31     516.11  16.648710    31   77   \n       Fri  Male      5.70  1.900000     3      34.16  11.386667     3    5   \n            Female   10.98  2.745000     4      55.76  13.940000     4    9   \nDinner Thur Female    3.00  3.000000     1      18.78  18.780000     1    2   \n       Fri  Male     21.23  3.032857     7     164.41  23.487143     7   16   \n            Female   14.05  2.810000     5      71.55  14.310000     5   10   \n       Sat  Male    181.95  3.083898    59    1227.35  20.802542    59  156   \n            Female   78.45  2.801786    28     551.05  19.680357    28   63   \n       Sun  Male    186.78  3.220345    58    1269.46  21.887241    58  163   \n            Female   60.61  3.367222    18     357.70  19.872222    18   53   \n\n                                    \n                        mean count  \ntime   day  sex                     \nLunch  Thur Male    2.433333    30  \n            Female  2.483871    31  \n       Fri  Male    1.666667     3  \n            Female  2.250000     4  \nDinner Thur Female  2.000000     1  \n       Fri  Male    2.285714     7  \n            Female  2.000000     5  \n       Sat  Male    2.644068    59  \n            Female  2.250000    28  \n       Sun  Male    2.810345    58  \n            Female  2.944444    18  "
          },
          "execution_count": 100,
          "metadata": {},
          "output_type": "execute_result"
        }
      ]
    },
    {
      "metadata": {
        "trusted": false
      },
      "cell_type": "code",
      "source": "people_df",
      "execution_count": 111,
      "outputs": [
        {
          "data": {
            "text/html": "<div>\n<style>\n    .dataframe thead tr:only-child th {\n        text-align: right;\n    }\n\n    .dataframe thead th {\n        text-align: left;\n    }\n\n    .dataframe tbody tr th {\n        vertical-align: top;\n    }\n</style>\n<table border=\"1\" class=\"dataframe\">\n  <thead>\n    <tr style=\"text-align: right;\">\n      <th></th>\n      <th>Name</th>\n      <th>Age</th>\n      <th>Blood Group</th>\n      <th>Score</th>\n      <th>Double Score</th>\n    </tr>\n  </thead>\n  <tbody>\n    <tr>\n      <th>0</th>\n      <td>Rick</td>\n      <td>60</td>\n      <td>O+</td>\n      <td>10</td>\n      <td>20</td>\n    </tr>\n    <tr>\n      <th>1</th>\n      <td>Morty</td>\n      <td>10</td>\n      <td>O+</td>\n      <td>15</td>\n      <td>30</td>\n    </tr>\n    <tr>\n      <th>2</th>\n      <td>Summer</td>\n      <td>45</td>\n      <td>A-</td>\n      <td>2</td>\n      <td>4</td>\n    </tr>\n    <tr>\n      <th>3</th>\n      <td>Beth</td>\n      <td>18</td>\n      <td>B+</td>\n      <td>35</td>\n      <td>70</td>\n    </tr>\n  </tbody>\n</table>\n</div>",
            "text/plain": "     Name  Age Blood Group  Score  Double Score\n0    Rick   60          O+     10            20\n1   Morty   10          O+     15            30\n2  Summer   45          A-      2             4\n3    Beth   18          B+     35            70"
          },
          "execution_count": 111,
          "metadata": {},
          "output_type": "execute_result"
        }
      ]
    },
    {
      "metadata": {
        "trusted": false
      },
      "cell_type": "code",
      "source": "people_df['Double Score'] = people_df['Score']*2\npeople_df",
      "execution_count": 110,
      "outputs": [
        {
          "data": {
            "text/html": "<div>\n<style>\n    .dataframe thead tr:only-child th {\n        text-align: right;\n    }\n\n    .dataframe thead th {\n        text-align: left;\n    }\n\n    .dataframe tbody tr th {\n        vertical-align: top;\n    }\n</style>\n<table border=\"1\" class=\"dataframe\">\n  <thead>\n    <tr style=\"text-align: right;\">\n      <th></th>\n      <th>Name</th>\n      <th>Age</th>\n      <th>Blood Group</th>\n      <th>Score</th>\n      <th>Double Score</th>\n    </tr>\n  </thead>\n  <tbody>\n    <tr>\n      <th>0</th>\n      <td>Rick</td>\n      <td>60</td>\n      <td>O+</td>\n      <td>10</td>\n      <td>20</td>\n    </tr>\n    <tr>\n      <th>1</th>\n      <td>Morty</td>\n      <td>10</td>\n      <td>O+</td>\n      <td>15</td>\n      <td>30</td>\n    </tr>\n    <tr>\n      <th>2</th>\n      <td>Summer</td>\n      <td>45</td>\n      <td>A-</td>\n      <td>2</td>\n      <td>4</td>\n    </tr>\n    <tr>\n      <th>3</th>\n      <td>Beth</td>\n      <td>18</td>\n      <td>B+</td>\n      <td>35</td>\n      <td>70</td>\n    </tr>\n  </tbody>\n</table>\n</div>",
            "text/plain": "     Name  Age Blood Group  Score  Double Score\n0    Rick   60          O+     10            20\n1   Morty   10          O+     15            30\n2  Summer   45          A-      2             4\n3    Beth   18          B+     35            70"
          },
          "execution_count": 110,
          "metadata": {},
          "output_type": "execute_result"
        }
      ]
    },
    {
      "metadata": {
        "collapsed": true,
        "trusted": false
      },
      "cell_type": "code",
      "source": "def time3(x):\n    num = x\n    if x%3==0:\n        num*=3\n    return num",
      "execution_count": 114,
      "outputs": []
    },
    {
      "metadata": {
        "scrolled": true,
        "trusted": false
      },
      "cell_type": "code",
      "source": "people_df['Triple Score'] = people_df['Score'].apply(time3)\npeople_df",
      "execution_count": 115,
      "outputs": [
        {
          "data": {
            "text/html": "<div>\n<style>\n    .dataframe thead tr:only-child th {\n        text-align: right;\n    }\n\n    .dataframe thead th {\n        text-align: left;\n    }\n\n    .dataframe tbody tr th {\n        vertical-align: top;\n    }\n</style>\n<table border=\"1\" class=\"dataframe\">\n  <thead>\n    <tr style=\"text-align: right;\">\n      <th></th>\n      <th>Name</th>\n      <th>Age</th>\n      <th>Blood Group</th>\n      <th>Score</th>\n      <th>Double Score</th>\n      <th>Triple Score</th>\n    </tr>\n  </thead>\n  <tbody>\n    <tr>\n      <th>0</th>\n      <td>Rick</td>\n      <td>60</td>\n      <td>O+</td>\n      <td>10</td>\n      <td>20</td>\n      <td>10</td>\n    </tr>\n    <tr>\n      <th>1</th>\n      <td>Morty</td>\n      <td>10</td>\n      <td>O+</td>\n      <td>15</td>\n      <td>30</td>\n      <td>45</td>\n    </tr>\n    <tr>\n      <th>2</th>\n      <td>Summer</td>\n      <td>45</td>\n      <td>A-</td>\n      <td>2</td>\n      <td>4</td>\n      <td>2</td>\n    </tr>\n    <tr>\n      <th>3</th>\n      <td>Beth</td>\n      <td>18</td>\n      <td>B+</td>\n      <td>35</td>\n      <td>70</td>\n      <td>35</td>\n    </tr>\n  </tbody>\n</table>\n</div>",
            "text/plain": "     Name  Age Blood Group  Score  Double Score  Triple Score\n0    Rick   60          O+     10            20            10\n1   Morty   10          O+     15            30            45\n2  Summer   45          A-      2             4             2\n3    Beth   18          B+     35            70            35"
          },
          "execution_count": 115,
          "metadata": {},
          "output_type": "execute_result"
        }
      ]
    },
    {
      "metadata": {
        "scrolled": true,
        "trusted": false
      },
      "cell_type": "code",
      "source": "people_df['Score'].apply(lambda x:x*2)",
      "execution_count": 117,
      "outputs": [
        {
          "data": {
            "text/plain": "0    20\n1    30\n2     4\n3    70\nName: Score, dtype: int64"
          },
          "execution_count": 117,
          "metadata": {},
          "output_type": "execute_result"
        }
      ]
    },
    {
      "metadata": {
        "scrolled": true,
        "trusted": false
      },
      "cell_type": "code",
      "source": "people_df.sort_values(['Blood Group','Score','Age'])",
      "execution_count": 118,
      "outputs": [
        {
          "data": {
            "text/html": "<div>\n<style>\n    .dataframe thead tr:only-child th {\n        text-align: right;\n    }\n\n    .dataframe thead th {\n        text-align: left;\n    }\n\n    .dataframe tbody tr th {\n        vertical-align: top;\n    }\n</style>\n<table border=\"1\" class=\"dataframe\">\n  <thead>\n    <tr style=\"text-align: right;\">\n      <th></th>\n      <th>Name</th>\n      <th>Age</th>\n      <th>Blood Group</th>\n      <th>Score</th>\n      <th>Double Score</th>\n      <th>Triple Score</th>\n    </tr>\n  </thead>\n  <tbody>\n    <tr>\n      <th>2</th>\n      <td>Summer</td>\n      <td>45</td>\n      <td>A-</td>\n      <td>2</td>\n      <td>4</td>\n      <td>2</td>\n    </tr>\n    <tr>\n      <th>3</th>\n      <td>Beth</td>\n      <td>18</td>\n      <td>B+</td>\n      <td>35</td>\n      <td>70</td>\n      <td>35</td>\n    </tr>\n    <tr>\n      <th>0</th>\n      <td>Rick</td>\n      <td>60</td>\n      <td>O+</td>\n      <td>10</td>\n      <td>20</td>\n      <td>10</td>\n    </tr>\n    <tr>\n      <th>1</th>\n      <td>Morty</td>\n      <td>10</td>\n      <td>O+</td>\n      <td>15</td>\n      <td>30</td>\n      <td>45</td>\n    </tr>\n  </tbody>\n</table>\n</div>",
            "text/plain": "     Name  Age Blood Group  Score  Double Score  Triple Score\n2  Summer   45          A-      2             4             2\n3    Beth   18          B+     35            70            35\n0    Rick   60          O+     10            20            10\n1   Morty   10          O+     15            30            45"
          },
          "execution_count": 118,
          "metadata": {},
          "output_type": "execute_result"
        }
      ]
    },
    {
      "metadata": {
        "trusted": false
      },
      "cell_type": "code",
      "source": "import pandas as pd\nimport datetime as dt\n#AirQualityUCI.csv\nair_df=pd.read_csv('https://raw.githubusercontent.com/insaid2018/Term-1/master/Data/Casestudy/AirQualityUCI.csv')\nair_df.head()",
      "execution_count": 6,
      "outputs": [
        {
          "data": {
            "text/html": "<div>\n<style>\n    .dataframe thead tr:only-child th {\n        text-align: right;\n    }\n\n    .dataframe thead th {\n        text-align: left;\n    }\n\n    .dataframe tbody tr th {\n        vertical-align: top;\n    }\n</style>\n<table border=\"1\" class=\"dataframe\">\n  <thead>\n    <tr style=\"text-align: right;\">\n      <th></th>\n      <th>Date</th>\n      <th>Time</th>\n      <th>CO(GT)</th>\n      <th>PT08.S1(CO)</th>\n      <th>NMHC(GT)</th>\n      <th>C6H6(GT)</th>\n      <th>PT08.S2(NMHC)</th>\n      <th>NOx(GT)</th>\n      <th>PT08.S3(NOx)</th>\n      <th>NO2(GT)</th>\n      <th>PT08.S4(NO2)</th>\n      <th>PT08.S5(O3)</th>\n      <th>T</th>\n      <th>RH</th>\n      <th>AH</th>\n    </tr>\n  </thead>\n  <tbody>\n    <tr>\n      <th>0</th>\n      <td>3/10/2004</td>\n      <td>18:00:00</td>\n      <td>2.6</td>\n      <td>1360</td>\n      <td>150</td>\n      <td>11.9</td>\n      <td>1046</td>\n      <td>166</td>\n      <td>1056</td>\n      <td>113</td>\n      <td>1692</td>\n      <td>1268</td>\n      <td>13.6</td>\n      <td>48.9</td>\n      <td>0.7578</td>\n    </tr>\n    <tr>\n      <th>1</th>\n      <td>3/10/2004</td>\n      <td>19:00:00</td>\n      <td>2.0</td>\n      <td>1292</td>\n      <td>112</td>\n      <td>9.4</td>\n      <td>955</td>\n      <td>103</td>\n      <td>1174</td>\n      <td>92</td>\n      <td>1559</td>\n      <td>972</td>\n      <td>13.3</td>\n      <td>47.7</td>\n      <td>0.7255</td>\n    </tr>\n    <tr>\n      <th>2</th>\n      <td>3/10/2004</td>\n      <td>20:00:00</td>\n      <td>2.2</td>\n      <td>1402</td>\n      <td>88</td>\n      <td>9.0</td>\n      <td>939</td>\n      <td>131</td>\n      <td>1140</td>\n      <td>114</td>\n      <td>1555</td>\n      <td>1074</td>\n      <td>11.9</td>\n      <td>54.0</td>\n      <td>0.7502</td>\n    </tr>\n    <tr>\n      <th>3</th>\n      <td>3/10/2004</td>\n      <td>21:00:00</td>\n      <td>2.2</td>\n      <td>1376</td>\n      <td>80</td>\n      <td>9.2</td>\n      <td>948</td>\n      <td>172</td>\n      <td>1092</td>\n      <td>122</td>\n      <td>1584</td>\n      <td>1203</td>\n      <td>11.0</td>\n      <td>60.0</td>\n      <td>0.7867</td>\n    </tr>\n    <tr>\n      <th>4</th>\n      <td>3/10/2004</td>\n      <td>22:00:00</td>\n      <td>1.6</td>\n      <td>1272</td>\n      <td>51</td>\n      <td>6.5</td>\n      <td>836</td>\n      <td>131</td>\n      <td>1205</td>\n      <td>116</td>\n      <td>1490</td>\n      <td>1110</td>\n      <td>11.2</td>\n      <td>59.6</td>\n      <td>0.7888</td>\n    </tr>\n  </tbody>\n</table>\n</div>",
            "text/plain": "        Date      Time  CO(GT)  PT08.S1(CO)  NMHC(GT)  C6H6(GT)  \\\n0  3/10/2004  18:00:00     2.6         1360       150      11.9   \n1  3/10/2004  19:00:00     2.0         1292       112       9.4   \n2  3/10/2004  20:00:00     2.2         1402        88       9.0   \n3  3/10/2004  21:00:00     2.2         1376        80       9.2   \n4  3/10/2004  22:00:00     1.6         1272        51       6.5   \n\n   PT08.S2(NMHC)  NOx(GT)  PT08.S3(NOx)  NO2(GT)  PT08.S4(NO2)  PT08.S5(O3)  \\\n0           1046      166          1056      113          1692         1268   \n1            955      103          1174       92          1559          972   \n2            939      131          1140      114          1555         1074   \n3            948      172          1092      122          1584         1203   \n4            836      131          1205      116          1490         1110   \n\n      T    RH      AH  \n0  13.6  48.9  0.7578  \n1  13.3  47.7  0.7255  \n2  11.9  54.0  0.7502  \n3  11.0  60.0  0.7867  \n4  11.2  59.6  0.7888  "
          },
          "execution_count": 6,
          "metadata": {},
          "output_type": "execute_result"
        }
      ]
    },
    {
      "metadata": {
        "trusted": false
      },
      "cell_type": "code",
      "source": "type(air_df['CO(GT)'])",
      "execution_count": 8,
      "outputs": [
        {
          "data": {
            "text/plain": "pandas.core.series.Series"
          },
          "execution_count": 8,
          "metadata": {},
          "output_type": "execute_result"
        }
      ]
    },
    {
      "metadata": {
        "trusted": false
      },
      "cell_type": "code",
      "source": "air_df.head(10)",
      "execution_count": 9,
      "outputs": [
        {
          "data": {
            "text/html": "<div>\n<style>\n    .dataframe thead tr:only-child th {\n        text-align: right;\n    }\n\n    .dataframe thead th {\n        text-align: left;\n    }\n\n    .dataframe tbody tr th {\n        vertical-align: top;\n    }\n</style>\n<table border=\"1\" class=\"dataframe\">\n  <thead>\n    <tr style=\"text-align: right;\">\n      <th></th>\n      <th>Date</th>\n      <th>Time</th>\n      <th>CO(GT)</th>\n      <th>PT08.S1(CO)</th>\n      <th>NMHC(GT)</th>\n      <th>C6H6(GT)</th>\n      <th>PT08.S2(NMHC)</th>\n      <th>NOx(GT)</th>\n      <th>PT08.S3(NOx)</th>\n      <th>NO2(GT)</th>\n      <th>PT08.S4(NO2)</th>\n      <th>PT08.S5(O3)</th>\n      <th>T</th>\n      <th>RH</th>\n      <th>AH</th>\n    </tr>\n  </thead>\n  <tbody>\n    <tr>\n      <th>0</th>\n      <td>3/10/2004</td>\n      <td>18:00:00</td>\n      <td>2.6</td>\n      <td>1360</td>\n      <td>150</td>\n      <td>11.9</td>\n      <td>1046</td>\n      <td>166</td>\n      <td>1056</td>\n      <td>113</td>\n      <td>1692</td>\n      <td>1268</td>\n      <td>13.6</td>\n      <td>48.9</td>\n      <td>0.7578</td>\n    </tr>\n    <tr>\n      <th>1</th>\n      <td>3/10/2004</td>\n      <td>19:00:00</td>\n      <td>2.0</td>\n      <td>1292</td>\n      <td>112</td>\n      <td>9.4</td>\n      <td>955</td>\n      <td>103</td>\n      <td>1174</td>\n      <td>92</td>\n      <td>1559</td>\n      <td>972</td>\n      <td>13.3</td>\n      <td>47.7</td>\n      <td>0.7255</td>\n    </tr>\n    <tr>\n      <th>2</th>\n      <td>3/10/2004</td>\n      <td>20:00:00</td>\n      <td>2.2</td>\n      <td>1402</td>\n      <td>88</td>\n      <td>9.0</td>\n      <td>939</td>\n      <td>131</td>\n      <td>1140</td>\n      <td>114</td>\n      <td>1555</td>\n      <td>1074</td>\n      <td>11.9</td>\n      <td>54.0</td>\n      <td>0.7502</td>\n    </tr>\n    <tr>\n      <th>3</th>\n      <td>3/10/2004</td>\n      <td>21:00:00</td>\n      <td>2.2</td>\n      <td>1376</td>\n      <td>80</td>\n      <td>9.2</td>\n      <td>948</td>\n      <td>172</td>\n      <td>1092</td>\n      <td>122</td>\n      <td>1584</td>\n      <td>1203</td>\n      <td>11.0</td>\n      <td>60.0</td>\n      <td>0.7867</td>\n    </tr>\n    <tr>\n      <th>4</th>\n      <td>3/10/2004</td>\n      <td>22:00:00</td>\n      <td>1.6</td>\n      <td>1272</td>\n      <td>51</td>\n      <td>6.5</td>\n      <td>836</td>\n      <td>131</td>\n      <td>1205</td>\n      <td>116</td>\n      <td>1490</td>\n      <td>1110</td>\n      <td>11.2</td>\n      <td>59.6</td>\n      <td>0.7888</td>\n    </tr>\n    <tr>\n      <th>5</th>\n      <td>3/10/2004</td>\n      <td>23:00:00</td>\n      <td>1.2</td>\n      <td>1197</td>\n      <td>38</td>\n      <td>4.7</td>\n      <td>750</td>\n      <td>89</td>\n      <td>1337</td>\n      <td>96</td>\n      <td>1393</td>\n      <td>949</td>\n      <td>11.2</td>\n      <td>59.2</td>\n      <td>0.7848</td>\n    </tr>\n    <tr>\n      <th>6</th>\n      <td>3/11/2004</td>\n      <td>0:00:00</td>\n      <td>1.2</td>\n      <td>1185</td>\n      <td>31</td>\n      <td>3.6</td>\n      <td>690</td>\n      <td>62</td>\n      <td>1462</td>\n      <td>77</td>\n      <td>1333</td>\n      <td>733</td>\n      <td>11.3</td>\n      <td>56.8</td>\n      <td>0.7603</td>\n    </tr>\n    <tr>\n      <th>7</th>\n      <td>3/11/2004</td>\n      <td>1:00:00</td>\n      <td>1.0</td>\n      <td>1136</td>\n      <td>31</td>\n      <td>3.3</td>\n      <td>672</td>\n      <td>62</td>\n      <td>1453</td>\n      <td>76</td>\n      <td>1333</td>\n      <td>730</td>\n      <td>10.7</td>\n      <td>60.0</td>\n      <td>0.7702</td>\n    </tr>\n    <tr>\n      <th>8</th>\n      <td>3/11/2004</td>\n      <td>2:00:00</td>\n      <td>0.9</td>\n      <td>1094</td>\n      <td>24</td>\n      <td>2.3</td>\n      <td>609</td>\n      <td>45</td>\n      <td>1579</td>\n      <td>60</td>\n      <td>1276</td>\n      <td>620</td>\n      <td>10.7</td>\n      <td>59.7</td>\n      <td>0.7648</td>\n    </tr>\n    <tr>\n      <th>9</th>\n      <td>3/11/2004</td>\n      <td>3:00:00</td>\n      <td>0.6</td>\n      <td>1010</td>\n      <td>19</td>\n      <td>1.7</td>\n      <td>561</td>\n      <td>-200</td>\n      <td>1705</td>\n      <td>-200</td>\n      <td>1235</td>\n      <td>501</td>\n      <td>10.3</td>\n      <td>60.2</td>\n      <td>0.7517</td>\n    </tr>\n  </tbody>\n</table>\n</div>",
            "text/plain": "        Date      Time  CO(GT)  PT08.S1(CO)  NMHC(GT)  C6H6(GT)  \\\n0  3/10/2004  18:00:00     2.6         1360       150      11.9   \n1  3/10/2004  19:00:00     2.0         1292       112       9.4   \n2  3/10/2004  20:00:00     2.2         1402        88       9.0   \n3  3/10/2004  21:00:00     2.2         1376        80       9.2   \n4  3/10/2004  22:00:00     1.6         1272        51       6.5   \n5  3/10/2004  23:00:00     1.2         1197        38       4.7   \n6  3/11/2004   0:00:00     1.2         1185        31       3.6   \n7  3/11/2004   1:00:00     1.0         1136        31       3.3   \n8  3/11/2004   2:00:00     0.9         1094        24       2.3   \n9  3/11/2004   3:00:00     0.6         1010        19       1.7   \n\n   PT08.S2(NMHC)  NOx(GT)  PT08.S3(NOx)  NO2(GT)  PT08.S4(NO2)  PT08.S5(O3)  \\\n0           1046      166          1056      113          1692         1268   \n1            955      103          1174       92          1559          972   \n2            939      131          1140      114          1555         1074   \n3            948      172          1092      122          1584         1203   \n4            836      131          1205      116          1490         1110   \n5            750       89          1337       96          1393          949   \n6            690       62          1462       77          1333          733   \n7            672       62          1453       76          1333          730   \n8            609       45          1579       60          1276          620   \n9            561     -200          1705     -200          1235          501   \n\n      T    RH      AH  \n0  13.6  48.9  0.7578  \n1  13.3  47.7  0.7255  \n2  11.9  54.0  0.7502  \n3  11.0  60.0  0.7867  \n4  11.2  59.6  0.7888  \n5  11.2  59.2  0.7848  \n6  11.3  56.8  0.7603  \n7  10.7  60.0  0.7702  \n8  10.7  59.7  0.7648  \n9  10.3  60.2  0.7517  "
          },
          "execution_count": 9,
          "metadata": {},
          "output_type": "execute_result"
        }
      ]
    },
    {
      "metadata": {
        "trusted": false
      },
      "cell_type": "code",
      "source": "air_df.info()",
      "execution_count": 10,
      "outputs": [
        {
          "name": "stdout",
          "output_type": "stream",
          "text": "<class 'pandas.core.frame.DataFrame'>\nRangeIndex: 9357 entries, 0 to 9356\nData columns (total 15 columns):\nDate             9357 non-null object\nTime             9357 non-null object\nCO(GT)           9357 non-null float64\nPT08.S1(CO)      9357 non-null int64\nNMHC(GT)         9357 non-null int64\nC6H6(GT)         9357 non-null float64\nPT08.S2(NMHC)    9357 non-null int64\nNOx(GT)          9357 non-null int64\nPT08.S3(NOx)     9357 non-null int64\nNO2(GT)          9357 non-null int64\nPT08.S4(NO2)     9357 non-null int64\nPT08.S5(O3)      9357 non-null int64\nT                9357 non-null float64\nRH               9357 non-null float64\nAH               9357 non-null float64\ndtypes: float64(5), int64(8), object(2)\nmemory usage: 1.1+ MB\n"
        }
      ]
    },
    {
      "metadata": {
        "trusted": false
      },
      "cell_type": "code",
      "source": "air_df.describe()",
      "execution_count": 2,
      "outputs": [
        {
          "data": {
            "text/html": "<div>\n<style>\n    .dataframe thead tr:only-child th {\n        text-align: right;\n    }\n\n    .dataframe thead th {\n        text-align: left;\n    }\n\n    .dataframe tbody tr th {\n        vertical-align: top;\n    }\n</style>\n<table border=\"1\" class=\"dataframe\">\n  <thead>\n    <tr style=\"text-align: right;\">\n      <th></th>\n      <th>CO(GT)</th>\n      <th>PT08.S1(CO)</th>\n      <th>NMHC(GT)</th>\n      <th>C6H6(GT)</th>\n      <th>PT08.S2(NMHC)</th>\n      <th>NOx(GT)</th>\n      <th>PT08.S3(NOx)</th>\n      <th>NO2(GT)</th>\n      <th>PT08.S4(NO2)</th>\n      <th>PT08.S5(O3)</th>\n      <th>T</th>\n      <th>RH</th>\n      <th>AH</th>\n    </tr>\n  </thead>\n  <tbody>\n    <tr>\n      <th>count</th>\n      <td>9357.000000</td>\n      <td>9357.000000</td>\n      <td>9357.000000</td>\n      <td>9357.000000</td>\n      <td>9357.000000</td>\n      <td>9357.000000</td>\n      <td>9357.000000</td>\n      <td>9357.000000</td>\n      <td>9357.000000</td>\n      <td>9357.000000</td>\n      <td>9357.000000</td>\n      <td>9357.000000</td>\n      <td>9357.000000</td>\n    </tr>\n    <tr>\n      <th>mean</th>\n      <td>-34.207524</td>\n      <td>1048.990061</td>\n      <td>-159.090093</td>\n      <td>1.865683</td>\n      <td>894.595276</td>\n      <td>168.616971</td>\n      <td>794.990168</td>\n      <td>58.148873</td>\n      <td>1391.479641</td>\n      <td>975.072032</td>\n      <td>9.778305</td>\n      <td>39.485380</td>\n      <td>-6.837604</td>\n    </tr>\n    <tr>\n      <th>std</th>\n      <td>77.657170</td>\n      <td>329.832710</td>\n      <td>139.789093</td>\n      <td>41.380206</td>\n      <td>342.333252</td>\n      <td>257.433866</td>\n      <td>321.993552</td>\n      <td>126.940455</td>\n      <td>467.210125</td>\n      <td>456.938184</td>\n      <td>43.203623</td>\n      <td>51.216145</td>\n      <td>38.976670</td>\n    </tr>\n    <tr>\n      <th>min</th>\n      <td>-200.000000</td>\n      <td>-200.000000</td>\n      <td>-200.000000</td>\n      <td>-200.000000</td>\n      <td>-200.000000</td>\n      <td>-200.000000</td>\n      <td>-200.000000</td>\n      <td>-200.000000</td>\n      <td>-200.000000</td>\n      <td>-200.000000</td>\n      <td>-200.000000</td>\n      <td>-200.000000</td>\n      <td>-200.000000</td>\n    </tr>\n    <tr>\n      <th>25%</th>\n      <td>0.600000</td>\n      <td>921.000000</td>\n      <td>-200.000000</td>\n      <td>4.000000</td>\n      <td>711.000000</td>\n      <td>50.000000</td>\n      <td>637.000000</td>\n      <td>53.000000</td>\n      <td>1185.000000</td>\n      <td>700.000000</td>\n      <td>10.900000</td>\n      <td>34.100000</td>\n      <td>0.692300</td>\n    </tr>\n    <tr>\n      <th>50%</th>\n      <td>1.500000</td>\n      <td>1053.000000</td>\n      <td>-200.000000</td>\n      <td>7.900000</td>\n      <td>895.000000</td>\n      <td>141.000000</td>\n      <td>794.000000</td>\n      <td>96.000000</td>\n      <td>1446.000000</td>\n      <td>942.000000</td>\n      <td>17.200000</td>\n      <td>48.600000</td>\n      <td>0.976800</td>\n    </tr>\n    <tr>\n      <th>75%</th>\n      <td>2.600000</td>\n      <td>1221.000000</td>\n      <td>-200.000000</td>\n      <td>13.600000</td>\n      <td>1105.000000</td>\n      <td>284.000000</td>\n      <td>960.000000</td>\n      <td>133.000000</td>\n      <td>1662.000000</td>\n      <td>1255.000000</td>\n      <td>24.100000</td>\n      <td>61.900000</td>\n      <td>1.296200</td>\n    </tr>\n    <tr>\n      <th>max</th>\n      <td>11.900000</td>\n      <td>2040.000000</td>\n      <td>1189.000000</td>\n      <td>63.700000</td>\n      <td>2214.000000</td>\n      <td>1479.000000</td>\n      <td>2683.000000</td>\n      <td>340.000000</td>\n      <td>2775.000000</td>\n      <td>2523.000000</td>\n      <td>44.600000</td>\n      <td>88.700000</td>\n      <td>2.231000</td>\n    </tr>\n  </tbody>\n</table>\n</div>",
            "text/plain": "            CO(GT)  PT08.S1(CO)     NMHC(GT)     C6H6(GT)  PT08.S2(NMHC)  \\\ncount  9357.000000  9357.000000  9357.000000  9357.000000    9357.000000   \nmean    -34.207524  1048.990061  -159.090093     1.865683     894.595276   \nstd      77.657170   329.832710   139.789093    41.380206     342.333252   \nmin    -200.000000  -200.000000  -200.000000  -200.000000    -200.000000   \n25%       0.600000   921.000000  -200.000000     4.000000     711.000000   \n50%       1.500000  1053.000000  -200.000000     7.900000     895.000000   \n75%       2.600000  1221.000000  -200.000000    13.600000    1105.000000   \nmax      11.900000  2040.000000  1189.000000    63.700000    2214.000000   \n\n           NOx(GT)  PT08.S3(NOx)      NO2(GT)  PT08.S4(NO2)  PT08.S5(O3)  \\\ncount  9357.000000   9357.000000  9357.000000   9357.000000  9357.000000   \nmean    168.616971    794.990168    58.148873   1391.479641   975.072032   \nstd     257.433866    321.993552   126.940455    467.210125   456.938184   \nmin    -200.000000   -200.000000  -200.000000   -200.000000  -200.000000   \n25%      50.000000    637.000000    53.000000   1185.000000   700.000000   \n50%     141.000000    794.000000    96.000000   1446.000000   942.000000   \n75%     284.000000    960.000000   133.000000   1662.000000  1255.000000   \nmax    1479.000000   2683.000000   340.000000   2775.000000  2523.000000   \n\n                 T           RH           AH  \ncount  9357.000000  9357.000000  9357.000000  \nmean      9.778305    39.485380    -6.837604  \nstd      43.203623    51.216145    38.976670  \nmin    -200.000000  -200.000000  -200.000000  \n25%      10.900000    34.100000     0.692300  \n50%      17.200000    48.600000     0.976800  \n75%      24.100000    61.900000     1.296200  \nmax      44.600000    88.700000     2.231000  "
          },
          "execution_count": 2,
          "metadata": {},
          "output_type": "execute_result"
        }
      ]
    },
    {
      "metadata": {
        "trusted": false
      },
      "cell_type": "code",
      "source": "air_df[air_df['NMHC(GT)']==-200]['NMHC(GT)'].count()",
      "execution_count": 125,
      "outputs": [
        {
          "data": {
            "text/plain": "8443"
          },
          "execution_count": 125,
          "metadata": {},
          "output_type": "execute_result"
        }
      ]
    },
    {
      "metadata": {
        "trusted": false
      },
      "cell_type": "code",
      "source": "8433/9357",
      "execution_count": 126,
      "outputs": [
        {
          "data": {
            "text/plain": "0.9012504007694774"
          },
          "execution_count": 126,
          "metadata": {},
          "output_type": "execute_result"
        }
      ]
    },
    {
      "metadata": {
        "trusted": false
      },
      "cell_type": "code",
      "source": "air_df.drop(['NMHC(GT)'],axis=1).head()",
      "execution_count": 127,
      "outputs": [
        {
          "data": {
            "text/html": "<div>\n<style>\n    .dataframe thead tr:only-child th {\n        text-align: right;\n    }\n\n    .dataframe thead th {\n        text-align: left;\n    }\n\n    .dataframe tbody tr th {\n        vertical-align: top;\n    }\n</style>\n<table border=\"1\" class=\"dataframe\">\n  <thead>\n    <tr style=\"text-align: right;\">\n      <th></th>\n      <th>Date</th>\n      <th>Time</th>\n      <th>CO(GT)</th>\n      <th>PT08.S1(CO)</th>\n      <th>C6H6(GT)</th>\n      <th>PT08.S2(NMHC)</th>\n      <th>NOx(GT)</th>\n      <th>PT08.S3(NOx)</th>\n      <th>NO2(GT)</th>\n      <th>PT08.S4(NO2)</th>\n      <th>PT08.S5(O3)</th>\n      <th>T</th>\n      <th>RH</th>\n      <th>AH</th>\n    </tr>\n  </thead>\n  <tbody>\n    <tr>\n      <th>0</th>\n      <td>3/10/2004</td>\n      <td>18:00:00</td>\n      <td>2.6</td>\n      <td>1360</td>\n      <td>11.9</td>\n      <td>1046</td>\n      <td>166</td>\n      <td>1056</td>\n      <td>113</td>\n      <td>1692</td>\n      <td>1268</td>\n      <td>13.6</td>\n      <td>48.9</td>\n      <td>0.7578</td>\n    </tr>\n    <tr>\n      <th>1</th>\n      <td>3/10/2004</td>\n      <td>19:00:00</td>\n      <td>2.0</td>\n      <td>1292</td>\n      <td>9.4</td>\n      <td>955</td>\n      <td>103</td>\n      <td>1174</td>\n      <td>92</td>\n      <td>1559</td>\n      <td>972</td>\n      <td>13.3</td>\n      <td>47.7</td>\n      <td>0.7255</td>\n    </tr>\n    <tr>\n      <th>2</th>\n      <td>3/10/2004</td>\n      <td>20:00:00</td>\n      <td>2.2</td>\n      <td>1402</td>\n      <td>9.0</td>\n      <td>939</td>\n      <td>131</td>\n      <td>1140</td>\n      <td>114</td>\n      <td>1555</td>\n      <td>1074</td>\n      <td>11.9</td>\n      <td>54.0</td>\n      <td>0.7502</td>\n    </tr>\n    <tr>\n      <th>3</th>\n      <td>3/10/2004</td>\n      <td>21:00:00</td>\n      <td>2.2</td>\n      <td>1376</td>\n      <td>9.2</td>\n      <td>948</td>\n      <td>172</td>\n      <td>1092</td>\n      <td>122</td>\n      <td>1584</td>\n      <td>1203</td>\n      <td>11.0</td>\n      <td>60.0</td>\n      <td>0.7867</td>\n    </tr>\n    <tr>\n      <th>4</th>\n      <td>3/10/2004</td>\n      <td>22:00:00</td>\n      <td>1.6</td>\n      <td>1272</td>\n      <td>6.5</td>\n      <td>836</td>\n      <td>131</td>\n      <td>1205</td>\n      <td>116</td>\n      <td>1490</td>\n      <td>1110</td>\n      <td>11.2</td>\n      <td>59.6</td>\n      <td>0.7888</td>\n    </tr>\n  </tbody>\n</table>\n</div>",
            "text/plain": "        Date      Time  CO(GT)  PT08.S1(CO)  C6H6(GT)  PT08.S2(NMHC)  NOx(GT)  \\\n0  3/10/2004  18:00:00     2.6         1360      11.9           1046      166   \n1  3/10/2004  19:00:00     2.0         1292       9.4            955      103   \n2  3/10/2004  20:00:00     2.2         1402       9.0            939      131   \n3  3/10/2004  21:00:00     2.2         1376       9.2            948      172   \n4  3/10/2004  22:00:00     1.6         1272       6.5            836      131   \n\n   PT08.S3(NOx)  NO2(GT)  PT08.S4(NO2)  PT08.S5(O3)     T    RH      AH  \n0          1056      113          1692         1268  13.6  48.9  0.7578  \n1          1174       92          1559          972  13.3  47.7  0.7255  \n2          1140      114          1555         1074  11.9  54.0  0.7502  \n3          1092      122          1584         1203  11.0  60.0  0.7867  \n4          1205      116          1490         1110  11.2  59.6  0.7888  "
          },
          "execution_count": 127,
          "metadata": {},
          "output_type": "execute_result"
        }
      ]
    },
    {
      "metadata": {
        "trusted": false
      },
      "cell_type": "code",
      "source": "air_df.head()",
      "execution_count": 128,
      "outputs": [
        {
          "data": {
            "text/html": "<div>\n<style>\n    .dataframe thead tr:only-child th {\n        text-align: right;\n    }\n\n    .dataframe thead th {\n        text-align: left;\n    }\n\n    .dataframe tbody tr th {\n        vertical-align: top;\n    }\n</style>\n<table border=\"1\" class=\"dataframe\">\n  <thead>\n    <tr style=\"text-align: right;\">\n      <th></th>\n      <th>Date</th>\n      <th>Time</th>\n      <th>CO(GT)</th>\n      <th>PT08.S1(CO)</th>\n      <th>NMHC(GT)</th>\n      <th>C6H6(GT)</th>\n      <th>PT08.S2(NMHC)</th>\n      <th>NOx(GT)</th>\n      <th>PT08.S3(NOx)</th>\n      <th>NO2(GT)</th>\n      <th>PT08.S4(NO2)</th>\n      <th>PT08.S5(O3)</th>\n      <th>T</th>\n      <th>RH</th>\n      <th>AH</th>\n    </tr>\n  </thead>\n  <tbody>\n    <tr>\n      <th>0</th>\n      <td>3/10/2004</td>\n      <td>18:00:00</td>\n      <td>2.6</td>\n      <td>1360</td>\n      <td>150</td>\n      <td>11.9</td>\n      <td>1046</td>\n      <td>166</td>\n      <td>1056</td>\n      <td>113</td>\n      <td>1692</td>\n      <td>1268</td>\n      <td>13.6</td>\n      <td>48.9</td>\n      <td>0.7578</td>\n    </tr>\n    <tr>\n      <th>1</th>\n      <td>3/10/2004</td>\n      <td>19:00:00</td>\n      <td>2.0</td>\n      <td>1292</td>\n      <td>112</td>\n      <td>9.4</td>\n      <td>955</td>\n      <td>103</td>\n      <td>1174</td>\n      <td>92</td>\n      <td>1559</td>\n      <td>972</td>\n      <td>13.3</td>\n      <td>47.7</td>\n      <td>0.7255</td>\n    </tr>\n    <tr>\n      <th>2</th>\n      <td>3/10/2004</td>\n      <td>20:00:00</td>\n      <td>2.2</td>\n      <td>1402</td>\n      <td>88</td>\n      <td>9.0</td>\n      <td>939</td>\n      <td>131</td>\n      <td>1140</td>\n      <td>114</td>\n      <td>1555</td>\n      <td>1074</td>\n      <td>11.9</td>\n      <td>54.0</td>\n      <td>0.7502</td>\n    </tr>\n    <tr>\n      <th>3</th>\n      <td>3/10/2004</td>\n      <td>21:00:00</td>\n      <td>2.2</td>\n      <td>1376</td>\n      <td>80</td>\n      <td>9.2</td>\n      <td>948</td>\n      <td>172</td>\n      <td>1092</td>\n      <td>122</td>\n      <td>1584</td>\n      <td>1203</td>\n      <td>11.0</td>\n      <td>60.0</td>\n      <td>0.7867</td>\n    </tr>\n    <tr>\n      <th>4</th>\n      <td>3/10/2004</td>\n      <td>22:00:00</td>\n      <td>1.6</td>\n      <td>1272</td>\n      <td>51</td>\n      <td>6.5</td>\n      <td>836</td>\n      <td>131</td>\n      <td>1205</td>\n      <td>116</td>\n      <td>1490</td>\n      <td>1110</td>\n      <td>11.2</td>\n      <td>59.6</td>\n      <td>0.7888</td>\n    </tr>\n  </tbody>\n</table>\n</div>",
            "text/plain": "        Date      Time  CO(GT)  PT08.S1(CO)  NMHC(GT)  C6H6(GT)  \\\n0  3/10/2004  18:00:00     2.6         1360       150      11.9   \n1  3/10/2004  19:00:00     2.0         1292       112       9.4   \n2  3/10/2004  20:00:00     2.2         1402        88       9.0   \n3  3/10/2004  21:00:00     2.2         1376        80       9.2   \n4  3/10/2004  22:00:00     1.6         1272        51       6.5   \n\n   PT08.S2(NMHC)  NOx(GT)  PT08.S3(NOx)  NO2(GT)  PT08.S4(NO2)  PT08.S5(O3)  \\\n0           1046      166          1056      113          1692         1268   \n1            955      103          1174       92          1559          972   \n2            939      131          1140      114          1555         1074   \n3            948      172          1092      122          1584         1203   \n4            836      131          1205      116          1490         1110   \n\n      T    RH      AH  \n0  13.6  48.9  0.7578  \n1  13.3  47.7  0.7255  \n2  11.9  54.0  0.7502  \n3  11.0  60.0  0.7867  \n4  11.2  59.6  0.7888  "
          },
          "execution_count": 128,
          "metadata": {},
          "output_type": "execute_result"
        }
      ]
    },
    {
      "metadata": {
        "trusted": false
      },
      "cell_type": "code",
      "source": "air_df[95:120]",
      "execution_count": 129,
      "outputs": [
        {
          "data": {
            "text/html": "<div>\n<style>\n    .dataframe thead tr:only-child th {\n        text-align: right;\n    }\n\n    .dataframe thead th {\n        text-align: left;\n    }\n\n    .dataframe tbody tr th {\n        vertical-align: top;\n    }\n</style>\n<table border=\"1\" class=\"dataframe\">\n  <thead>\n    <tr style=\"text-align: right;\">\n      <th></th>\n      <th>Date</th>\n      <th>Time</th>\n      <th>CO(GT)</th>\n      <th>PT08.S1(CO)</th>\n      <th>NMHC(GT)</th>\n      <th>C6H6(GT)</th>\n      <th>PT08.S2(NMHC)</th>\n      <th>NOx(GT)</th>\n      <th>PT08.S3(NOx)</th>\n      <th>NO2(GT)</th>\n      <th>PT08.S4(NO2)</th>\n      <th>PT08.S5(O3)</th>\n      <th>T</th>\n      <th>RH</th>\n      <th>AH</th>\n    </tr>\n  </thead>\n  <tbody>\n    <tr>\n      <th>95</th>\n      <td>3/14/2004</td>\n      <td>17:00:00</td>\n      <td>2.9</td>\n      <td>1438</td>\n      <td>156</td>\n      <td>12.0</td>\n      <td>1051</td>\n      <td>180</td>\n      <td>943</td>\n      <td>128</td>\n      <td>1668</td>\n      <td>1206</td>\n      <td>21.3</td>\n      <td>30.8</td>\n      <td>0.7696</td>\n    </tr>\n    <tr>\n      <th>96</th>\n      <td>3/14/2004</td>\n      <td>18:00:00</td>\n      <td>2.5</td>\n      <td>1478</td>\n      <td>122</td>\n      <td>12.2</td>\n      <td>1055</td>\n      <td>160</td>\n      <td>929</td>\n      <td>121</td>\n      <td>1671</td>\n      <td>1262</td>\n      <td>19.7</td>\n      <td>36.7</td>\n      <td>0.8307</td>\n    </tr>\n    <tr>\n      <th>97</th>\n      <td>3/14/2004</td>\n      <td>19:00:00</td>\n      <td>4.6</td>\n      <td>1808</td>\n      <td>262</td>\n      <td>20.6</td>\n      <td>1312</td>\n      <td>261</td>\n      <td>753</td>\n      <td>157</td>\n      <td>1993</td>\n      <td>1698</td>\n      <td>18.4</td>\n      <td>41.7</td>\n      <td>0.8732</td>\n    </tr>\n    <tr>\n      <th>98</th>\n      <td>3/14/2004</td>\n      <td>20:00:00</td>\n      <td>5.9</td>\n      <td>1898</td>\n      <td>341</td>\n      <td>23.1</td>\n      <td>1381</td>\n      <td>325</td>\n      <td>681</td>\n      <td>173</td>\n      <td>2103</td>\n      <td>1905</td>\n      <td>17.6</td>\n      <td>46.1</td>\n      <td>0.9210</td>\n    </tr>\n    <tr>\n      <th>99</th>\n      <td>3/14/2004</td>\n      <td>21:00:00</td>\n      <td>3.4</td>\n      <td>1560</td>\n      <td>214</td>\n      <td>14.7</td>\n      <td>1140</td>\n      <td>217</td>\n      <td>784</td>\n      <td>146</td>\n      <td>1818</td>\n      <td>1648</td>\n      <td>16.7</td>\n      <td>49.6</td>\n      <td>0.9320</td>\n    </tr>\n    <tr>\n      <th>100</th>\n      <td>3/14/2004</td>\n      <td>22:00:00</td>\n      <td>2.1</td>\n      <td>1324</td>\n      <td>100</td>\n      <td>9.0</td>\n      <td>940</td>\n      <td>146</td>\n      <td>924</td>\n      <td>121</td>\n      <td>1587</td>\n      <td>1423</td>\n      <td>16.3</td>\n      <td>51.0</td>\n      <td>0.9341</td>\n    </tr>\n    <tr>\n      <th>101</th>\n      <td>3/14/2004</td>\n      <td>23:00:00</td>\n      <td>2.2</td>\n      <td>1349</td>\n      <td>79</td>\n      <td>8.8</td>\n      <td>933</td>\n      <td>152</td>\n      <td>933</td>\n      <td>119</td>\n      <td>1617</td>\n      <td>1349</td>\n      <td>14.7</td>\n      <td>55.9</td>\n      <td>0.9314</td>\n    </tr>\n    <tr>\n      <th>102</th>\n      <td>3/15/2004</td>\n      <td>0:00:00</td>\n      <td>1.8</td>\n      <td>1239</td>\n      <td>66</td>\n      <td>7.4</td>\n      <td>872</td>\n      <td>104</td>\n      <td>985</td>\n      <td>99</td>\n      <td>1547</td>\n      <td>1250</td>\n      <td>14.8</td>\n      <td>54.7</td>\n      <td>0.9164</td>\n    </tr>\n    <tr>\n      <th>103</th>\n      <td>3/15/2004</td>\n      <td>1:00:00</td>\n      <td>1.8</td>\n      <td>1239</td>\n      <td>73</td>\n      <td>6.9</td>\n      <td>853</td>\n      <td>106</td>\n      <td>1010</td>\n      <td>93</td>\n      <td>1543</td>\n      <td>1174</td>\n      <td>14.0</td>\n      <td>57.0</td>\n      <td>0.9094</td>\n    </tr>\n    <tr>\n      <th>104</th>\n      <td>3/15/2004</td>\n      <td>2:00:00</td>\n      <td>1.8</td>\n      <td>1224</td>\n      <td>66</td>\n      <td>7.0</td>\n      <td>855</td>\n      <td>108</td>\n      <td>998</td>\n      <td>88</td>\n      <td>1566</td>\n      <td>1149</td>\n      <td>13.4</td>\n      <td>61.3</td>\n      <td>0.9361</td>\n    </tr>\n    <tr>\n      <th>105</th>\n      <td>3/15/2004</td>\n      <td>3:00:00</td>\n      <td>1.1</td>\n      <td>1078</td>\n      <td>44</td>\n      <td>4.4</td>\n      <td>734</td>\n      <td>-200</td>\n      <td>1128</td>\n      <td>-200</td>\n      <td>1487</td>\n      <td>1021</td>\n      <td>12.6</td>\n      <td>63.5</td>\n      <td>0.9230</td>\n    </tr>\n    <tr>\n      <th>106</th>\n      <td>3/15/2004</td>\n      <td>4:00:00</td>\n      <td>-200.0</td>\n      <td>1078</td>\n      <td>44</td>\n      <td>4.0</td>\n      <td>711</td>\n      <td>66</td>\n      <td>1150</td>\n      <td>71</td>\n      <td>1468</td>\n      <td>1013</td>\n      <td>12.3</td>\n      <td>65.4</td>\n      <td>0.9351</td>\n    </tr>\n    <tr>\n      <th>107</th>\n      <td>3/15/2004</td>\n      <td>5:00:00</td>\n      <td>1.0</td>\n      <td>1075</td>\n      <td>39</td>\n      <td>3.9</td>\n      <td>703</td>\n      <td>88</td>\n      <td>1156</td>\n      <td>74</td>\n      <td>1464</td>\n      <td>1010</td>\n      <td>11.9</td>\n      <td>67.4</td>\n      <td>0.9375</td>\n    </tr>\n    <tr>\n      <th>108</th>\n      <td>3/15/2004</td>\n      <td>6:00:00</td>\n      <td>1.4</td>\n      <td>1157</td>\n      <td>51</td>\n      <td>6.4</td>\n      <td>830</td>\n      <td>138</td>\n      <td>1030</td>\n      <td>80</td>\n      <td>1584</td>\n      <td>1083</td>\n      <td>11.4</td>\n      <td>70.5</td>\n      <td>0.9475</td>\n    </tr>\n    <tr>\n      <th>109</th>\n      <td>3/15/2004</td>\n      <td>7:00:00</td>\n      <td>2.2</td>\n      <td>1314</td>\n      <td>107</td>\n      <td>9.7</td>\n      <td>966</td>\n      <td>228</td>\n      <td>897</td>\n      <td>89</td>\n      <td>1710</td>\n      <td>1235</td>\n      <td>11.3</td>\n      <td>70.2</td>\n      <td>0.9401</td>\n    </tr>\n    <tr>\n      <th>110</th>\n      <td>3/15/2004</td>\n      <td>8:00:00</td>\n      <td>5.5</td>\n      <td>1797</td>\n      <td>336</td>\n      <td>25.9</td>\n      <td>1451</td>\n      <td>360</td>\n      <td>652</td>\n      <td>114</td>\n      <td>2323</td>\n      <td>1680</td>\n      <td>12.4</td>\n      <td>63.9</td>\n      <td>0.9170</td>\n    </tr>\n    <tr>\n      <th>111</th>\n      <td>3/15/2004</td>\n      <td>9:00:00</td>\n      <td>8.1</td>\n      <td>1961</td>\n      <td>618</td>\n      <td>36.7</td>\n      <td>1701</td>\n      <td>478</td>\n      <td>537</td>\n      <td>149</td>\n      <td>2665</td>\n      <td>2184</td>\n      <td>14.8</td>\n      <td>54.3</td>\n      <td>0.9076</td>\n    </tr>\n    <tr>\n      <th>112</th>\n      <td>3/15/2004</td>\n      <td>10:00:00</td>\n      <td>5.8</td>\n      <td>1771</td>\n      <td>438</td>\n      <td>26.6</td>\n      <td>1470</td>\n      <td>394</td>\n      <td>622</td>\n      <td>157</td>\n      <td>2262</td>\n      <td>1973</td>\n      <td>17.4</td>\n      <td>45.6</td>\n      <td>0.8993</td>\n    </tr>\n    <tr>\n      <th>113</th>\n      <td>3/15/2004</td>\n      <td>11:00:00</td>\n      <td>4.2</td>\n      <td>1564</td>\n      <td>334</td>\n      <td>20.1</td>\n      <td>1300</td>\n      <td>319</td>\n      <td>710</td>\n      <td>155</td>\n      <td>2029</td>\n      <td>1798</td>\n      <td>19.8</td>\n      <td>38.5</td>\n      <td>0.8801</td>\n    </tr>\n    <tr>\n      <th>114</th>\n      <td>3/15/2004</td>\n      <td>12:00:00</td>\n      <td>3.1</td>\n      <td>1430</td>\n      <td>221</td>\n      <td>14.1</td>\n      <td>1120</td>\n      <td>201</td>\n      <td>831</td>\n      <td>134</td>\n      <td>1783</td>\n      <td>1522</td>\n      <td>22.0</td>\n      <td>34.1</td>\n      <td>0.8904</td>\n    </tr>\n    <tr>\n      <th>115</th>\n      <td>3/15/2004</td>\n      <td>13:00:00</td>\n      <td>2.9</td>\n      <td>1417</td>\n      <td>207</td>\n      <td>14.9</td>\n      <td>1146</td>\n      <td>171</td>\n      <td>830</td>\n      <td>119</td>\n      <td>1831</td>\n      <td>1404</td>\n      <td>23.3</td>\n      <td>32.2</td>\n      <td>0.9096</td>\n    </tr>\n    <tr>\n      <th>116</th>\n      <td>3/15/2004</td>\n      <td>14:00:00</td>\n      <td>2.9</td>\n      <td>1400</td>\n      <td>191</td>\n      <td>15.4</td>\n      <td>1162</td>\n      <td>159</td>\n      <td>838</td>\n      <td>111</td>\n      <td>1829</td>\n      <td>1263</td>\n      <td>23.9</td>\n      <td>30.0</td>\n      <td>0.8757</td>\n    </tr>\n    <tr>\n      <th>117</th>\n      <td>3/15/2004</td>\n      <td>15:00:00</td>\n      <td>2.5</td>\n      <td>1317</td>\n      <td>185</td>\n      <td>12.1</td>\n      <td>1053</td>\n      <td>153</td>\n      <td>926</td>\n      <td>104</td>\n      <td>1707</td>\n      <td>1137</td>\n      <td>24.4</td>\n      <td>28.9</td>\n      <td>0.8736</td>\n    </tr>\n    <tr>\n      <th>118</th>\n      <td>3/15/2004</td>\n      <td>16:00:00</td>\n      <td>2.3</td>\n      <td>1318</td>\n      <td>141</td>\n      <td>11.5</td>\n      <td>1033</td>\n      <td>143</td>\n      <td>950</td>\n      <td>99</td>\n      <td>1675</td>\n      <td>1068</td>\n      <td>24.4</td>\n      <td>29.4</td>\n      <td>0.8848</td>\n    </tr>\n    <tr>\n      <th>119</th>\n      <td>3/15/2004</td>\n      <td>17:00:00</td>\n      <td>2.8</td>\n      <td>1445</td>\n      <td>214</td>\n      <td>14.8</td>\n      <td>1141</td>\n      <td>156</td>\n      <td>857</td>\n      <td>110</td>\n      <td>1824</td>\n      <td>1252</td>\n      <td>23.8</td>\n      <td>31.3</td>\n      <td>0.9137</td>\n    </tr>\n  </tbody>\n</table>\n</div>",
            "text/plain": "          Date      Time  CO(GT)  PT08.S1(CO)  NMHC(GT)  C6H6(GT)  \\\n95   3/14/2004  17:00:00     2.9         1438       156      12.0   \n96   3/14/2004  18:00:00     2.5         1478       122      12.2   \n97   3/14/2004  19:00:00     4.6         1808       262      20.6   \n98   3/14/2004  20:00:00     5.9         1898       341      23.1   \n99   3/14/2004  21:00:00     3.4         1560       214      14.7   \n100  3/14/2004  22:00:00     2.1         1324       100       9.0   \n101  3/14/2004  23:00:00     2.2         1349        79       8.8   \n102  3/15/2004   0:00:00     1.8         1239        66       7.4   \n103  3/15/2004   1:00:00     1.8         1239        73       6.9   \n104  3/15/2004   2:00:00     1.8         1224        66       7.0   \n105  3/15/2004   3:00:00     1.1         1078        44       4.4   \n106  3/15/2004   4:00:00  -200.0         1078        44       4.0   \n107  3/15/2004   5:00:00     1.0         1075        39       3.9   \n108  3/15/2004   6:00:00     1.4         1157        51       6.4   \n109  3/15/2004   7:00:00     2.2         1314       107       9.7   \n110  3/15/2004   8:00:00     5.5         1797       336      25.9   \n111  3/15/2004   9:00:00     8.1         1961       618      36.7   \n112  3/15/2004  10:00:00     5.8         1771       438      26.6   \n113  3/15/2004  11:00:00     4.2         1564       334      20.1   \n114  3/15/2004  12:00:00     3.1         1430       221      14.1   \n115  3/15/2004  13:00:00     2.9         1417       207      14.9   \n116  3/15/2004  14:00:00     2.9         1400       191      15.4   \n117  3/15/2004  15:00:00     2.5         1317       185      12.1   \n118  3/15/2004  16:00:00     2.3         1318       141      11.5   \n119  3/15/2004  17:00:00     2.8         1445       214      14.8   \n\n     PT08.S2(NMHC)  NOx(GT)  PT08.S3(NOx)  NO2(GT)  PT08.S4(NO2)  PT08.S5(O3)  \\\n95            1051      180           943      128          1668         1206   \n96            1055      160           929      121          1671         1262   \n97            1312      261           753      157          1993         1698   \n98            1381      325           681      173          2103         1905   \n99            1140      217           784      146          1818         1648   \n100            940      146           924      121          1587         1423   \n101            933      152           933      119          1617         1349   \n102            872      104           985       99          1547         1250   \n103            853      106          1010       93          1543         1174   \n104            855      108           998       88          1566         1149   \n105            734     -200          1128     -200          1487         1021   \n106            711       66          1150       71          1468         1013   \n107            703       88          1156       74          1464         1010   \n108            830      138          1030       80          1584         1083   \n109            966      228           897       89          1710         1235   \n110           1451      360           652      114          2323         1680   \n111           1701      478           537      149          2665         2184   \n112           1470      394           622      157          2262         1973   \n113           1300      319           710      155          2029         1798   \n114           1120      201           831      134          1783         1522   \n115           1146      171           830      119          1831         1404   \n116           1162      159           838      111          1829         1263   \n117           1053      153           926      104          1707         1137   \n118           1033      143           950       99          1675         1068   \n119           1141      156           857      110          1824         1252   \n\n        T    RH      AH  \n95   21.3  30.8  0.7696  \n96   19.7  36.7  0.8307  \n97   18.4  41.7  0.8732  \n98   17.6  46.1  0.9210  \n99   16.7  49.6  0.9320  \n100  16.3  51.0  0.9341  \n101  14.7  55.9  0.9314  \n102  14.8  54.7  0.9164  \n103  14.0  57.0  0.9094  \n104  13.4  61.3  0.9361  \n105  12.6  63.5  0.9230  \n106  12.3  65.4  0.9351  \n107  11.9  67.4  0.9375  \n108  11.4  70.5  0.9475  \n109  11.3  70.2  0.9401  \n110  12.4  63.9  0.9170  \n111  14.8  54.3  0.9076  \n112  17.4  45.6  0.8993  \n113  19.8  38.5  0.8801  \n114  22.0  34.1  0.8904  \n115  23.3  32.2  0.9096  \n116  23.9  30.0  0.8757  \n117  24.4  28.9  0.8736  \n118  24.4  29.4  0.8848  \n119  23.8  31.3  0.9137  "
          },
          "execution_count": 129,
          "metadata": {},
          "output_type": "execute_result"
        }
      ]
    },
    {
      "metadata": {
        "trusted": false
      },
      "cell_type": "code",
      "source": "air_df['Date']=pd.to_datetime(air_df['Date'],format ='%m/%d/%Y')\nair_df['Time']=pd.to_datetime(air_df['Time'],format ='%H:%M:%S')\nair_df.dtypes",
      "execution_count": 11,
      "outputs": [
        {
          "data": {
            "text/plain": "Date             datetime64[ns]\nTime             datetime64[ns]\nCO(GT)                  float64\nPT08.S1(CO)               int64\nNMHC(GT)                  int64\nC6H6(GT)                float64\nPT08.S2(NMHC)             int64\nNOx(GT)                   int64\nPT08.S3(NOx)              int64\nNO2(GT)                   int64\nPT08.S4(NO2)              int64\nPT08.S5(O3)               int64\nT                       float64\nRH                      float64\nAH                      float64\ndtype: object"
          },
          "execution_count": 11,
          "metadata": {},
          "output_type": "execute_result"
        }
      ]
    },
    {
      "metadata": {
        "trusted": false
      },
      "cell_type": "code",
      "source": "year = air_df.Date.dt.year\nprint(year.unique())",
      "execution_count": 12,
      "outputs": [
        {
          "name": "stdout",
          "output_type": "stream",
          "text": "[2004 2005]\n"
        }
      ]
    },
    {
      "metadata": {
        "trusted": false
      },
      "cell_type": "code",
      "source": "month = air_df.Date.dt.month\nprint(month.unique())",
      "execution_count": 13,
      "outputs": [
        {
          "name": "stdout",
          "output_type": "stream",
          "text": "[ 3  4  5  6  7  8  9 10 11 12  1  2]\n"
        }
      ]
    },
    {
      "metadata": {
        "trusted": false
      },
      "cell_type": "code",
      "source": "month = air_df.Date.dt.month\nprint(month.nunique())",
      "execution_count": 139,
      "outputs": [
        {
          "name": "stdout",
          "output_type": "stream",
          "text": "12\n"
        }
      ]
    },
    {
      "metadata": {
        "trusted": false
      },
      "cell_type": "code",
      "source": "day = air_df.Date.dt.day\nprint(day.unique())",
      "execution_count": 140,
      "outputs": [
        {
          "name": "stdout",
          "output_type": "stream",
          "text": "[10 11 12 13 14 15 16 17 18 19 20 21 22 23 24 25 26 27 28 29 30 31  1  2  3\n  4  5  6  7  8  9]\n"
        }
      ]
    },
    {
      "metadata": {
        "trusted": false
      },
      "cell_type": "code",
      "source": "week = air_df.Date.dt.week\nprint(week.unique())",
      "execution_count": 142,
      "outputs": [
        {
          "name": "stdout",
          "output_type": "stream",
          "text": "[11 12 13 14 15 16 17 18 19 20 21 22 23 24 25 26 27 28 29 30 31 32 33 34 35\n 36 37 38 39 40 41 42 43 44 45 46 47 48 49 50 51 52 53  1  2  3  4  5  6  7\n  8  9 10]\n"
        }
      ]
    },
    {
      "metadata": {
        "trusted": false
      },
      "cell_type": "code",
      "source": "print(day.nunique())",
      "execution_count": 141,
      "outputs": [
        {
          "name": "stdout",
          "output_type": "stream",
          "text": "31\n"
        }
      ]
    },
    {
      "metadata": {
        "trusted": false
      },
      "cell_type": "code",
      "source": "day_of_week = air_df.Date.dt.dayofweek\nprint(day_of_week.head())",
      "execution_count": 143,
      "outputs": [
        {
          "name": "stdout",
          "output_type": "stream",
          "text": "0    2\n1    2\n2    2\n3    2\n4    2\nName: Date, dtype: int64\n"
        }
      ]
    },
    {
      "metadata": {
        "trusted": false
      },
      "cell_type": "code",
      "source": "day_name = air_df.Date.dt.weekday_name\nprint(day_name.head())",
      "execution_count": 144,
      "outputs": [
        {
          "name": "stdout",
          "output_type": "stream",
          "text": "0    Wednesday\n1    Wednesday\n2    Wednesday\n3    Wednesday\n4    Wednesday\nName: Date, dtype: object\n"
        }
      ]
    },
    {
      "metadata": {
        "trusted": false
      },
      "cell_type": "code",
      "source": "timestamp=pd.to_datetime(\"09:00:00\",format='%H:%M:%S')\nair_df[air_df['Time']<timestamp].shape",
      "execution_count": 15,
      "outputs": [
        {
          "data": {
            "text/plain": "(3510, 15)"
          },
          "execution_count": 15,
          "metadata": {},
          "output_type": "execute_result"
        }
      ]
    },
    {
      "metadata": {
        "trusted": false
      },
      "cell_type": "code",
      "source": "air_df[air_df['Time']<timestamp]",
      "execution_count": 16,
      "outputs": [
        {
          "data": {
            "text/html": "<div>\n<style>\n    .dataframe thead tr:only-child th {\n        text-align: right;\n    }\n\n    .dataframe thead th {\n        text-align: left;\n    }\n\n    .dataframe tbody tr th {\n        vertical-align: top;\n    }\n</style>\n<table border=\"1\" class=\"dataframe\">\n  <thead>\n    <tr style=\"text-align: right;\">\n      <th></th>\n      <th>Date</th>\n      <th>Time</th>\n      <th>CO(GT)</th>\n      <th>PT08.S1(CO)</th>\n      <th>NMHC(GT)</th>\n      <th>C6H6(GT)</th>\n      <th>PT08.S2(NMHC)</th>\n      <th>NOx(GT)</th>\n      <th>PT08.S3(NOx)</th>\n      <th>NO2(GT)</th>\n      <th>PT08.S4(NO2)</th>\n      <th>PT08.S5(O3)</th>\n      <th>T</th>\n      <th>RH</th>\n      <th>AH</th>\n    </tr>\n  </thead>\n  <tbody>\n    <tr>\n      <th>6</th>\n      <td>2004-03-11</td>\n      <td>1900-01-01 00:00:00</td>\n      <td>1.2</td>\n      <td>1185</td>\n      <td>31</td>\n      <td>3.6</td>\n      <td>690</td>\n      <td>62</td>\n      <td>1462</td>\n      <td>77</td>\n      <td>1333</td>\n      <td>733</td>\n      <td>11.3</td>\n      <td>56.8</td>\n      <td>0.7603</td>\n    </tr>\n    <tr>\n      <th>7</th>\n      <td>2004-03-11</td>\n      <td>1900-01-01 01:00:00</td>\n      <td>1.0</td>\n      <td>1136</td>\n      <td>31</td>\n      <td>3.3</td>\n      <td>672</td>\n      <td>62</td>\n      <td>1453</td>\n      <td>76</td>\n      <td>1333</td>\n      <td>730</td>\n      <td>10.7</td>\n      <td>60.0</td>\n      <td>0.7702</td>\n    </tr>\n    <tr>\n      <th>8</th>\n      <td>2004-03-11</td>\n      <td>1900-01-01 02:00:00</td>\n      <td>0.9</td>\n      <td>1094</td>\n      <td>24</td>\n      <td>2.3</td>\n      <td>609</td>\n      <td>45</td>\n      <td>1579</td>\n      <td>60</td>\n      <td>1276</td>\n      <td>620</td>\n      <td>10.7</td>\n      <td>59.7</td>\n      <td>0.7648</td>\n    </tr>\n    <tr>\n      <th>9</th>\n      <td>2004-03-11</td>\n      <td>1900-01-01 03:00:00</td>\n      <td>0.6</td>\n      <td>1010</td>\n      <td>19</td>\n      <td>1.7</td>\n      <td>561</td>\n      <td>-200</td>\n      <td>1705</td>\n      <td>-200</td>\n      <td>1235</td>\n      <td>501</td>\n      <td>10.3</td>\n      <td>60.2</td>\n      <td>0.7517</td>\n    </tr>\n    <tr>\n      <th>10</th>\n      <td>2004-03-11</td>\n      <td>1900-01-01 04:00:00</td>\n      <td>-200.0</td>\n      <td>1011</td>\n      <td>14</td>\n      <td>1.3</td>\n      <td>527</td>\n      <td>21</td>\n      <td>1818</td>\n      <td>34</td>\n      <td>1197</td>\n      <td>445</td>\n      <td>10.1</td>\n      <td>60.5</td>\n      <td>0.7465</td>\n    </tr>\n    <tr>\n      <th>11</th>\n      <td>2004-03-11</td>\n      <td>1900-01-01 05:00:00</td>\n      <td>0.7</td>\n      <td>1066</td>\n      <td>8</td>\n      <td>1.1</td>\n      <td>512</td>\n      <td>16</td>\n      <td>1918</td>\n      <td>28</td>\n      <td>1182</td>\n      <td>422</td>\n      <td>11.0</td>\n      <td>56.2</td>\n      <td>0.7366</td>\n    </tr>\n    <tr>\n      <th>12</th>\n      <td>2004-03-11</td>\n      <td>1900-01-01 06:00:00</td>\n      <td>0.7</td>\n      <td>1052</td>\n      <td>16</td>\n      <td>1.6</td>\n      <td>553</td>\n      <td>34</td>\n      <td>1738</td>\n      <td>48</td>\n      <td>1221</td>\n      <td>472</td>\n      <td>10.5</td>\n      <td>58.1</td>\n      <td>0.7353</td>\n    </tr>\n    <tr>\n      <th>13</th>\n      <td>2004-03-11</td>\n      <td>1900-01-01 07:00:00</td>\n      <td>1.1</td>\n      <td>1144</td>\n      <td>29</td>\n      <td>3.2</td>\n      <td>667</td>\n      <td>98</td>\n      <td>1490</td>\n      <td>82</td>\n      <td>1339</td>\n      <td>730</td>\n      <td>10.2</td>\n      <td>59.6</td>\n      <td>0.7417</td>\n    </tr>\n    <tr>\n      <th>14</th>\n      <td>2004-03-11</td>\n      <td>1900-01-01 08:00:00</td>\n      <td>2.0</td>\n      <td>1333</td>\n      <td>64</td>\n      <td>8.0</td>\n      <td>900</td>\n      <td>174</td>\n      <td>1136</td>\n      <td>112</td>\n      <td>1517</td>\n      <td>1102</td>\n      <td>10.8</td>\n      <td>57.4</td>\n      <td>0.7408</td>\n    </tr>\n    <tr>\n      <th>30</th>\n      <td>2004-03-12</td>\n      <td>1900-01-01 00:00:00</td>\n      <td>1.7</td>\n      <td>1080</td>\n      <td>55</td>\n      <td>5.9</td>\n      <td>805</td>\n      <td>122</td>\n      <td>1254</td>\n      <td>97</td>\n      <td>1375</td>\n      <td>816</td>\n      <td>8.3</td>\n      <td>58.5</td>\n      <td>0.6438</td>\n    </tr>\n    <tr>\n      <th>31</th>\n      <td>2004-03-12</td>\n      <td>1900-01-01 01:00:00</td>\n      <td>1.9</td>\n      <td>1044</td>\n      <td>53</td>\n      <td>6.4</td>\n      <td>829</td>\n      <td>133</td>\n      <td>1247</td>\n      <td>110</td>\n      <td>1378</td>\n      <td>832</td>\n      <td>7.7</td>\n      <td>59.7</td>\n      <td>0.6308</td>\n    </tr>\n    <tr>\n      <th>32</th>\n      <td>2004-03-12</td>\n      <td>1900-01-01 02:00:00</td>\n      <td>1.4</td>\n      <td>988</td>\n      <td>40</td>\n      <td>4.1</td>\n      <td>718</td>\n      <td>82</td>\n      <td>1396</td>\n      <td>91</td>\n      <td>1304</td>\n      <td>692</td>\n      <td>7.1</td>\n      <td>61.8</td>\n      <td>0.6276</td>\n    </tr>\n    <tr>\n      <th>33</th>\n      <td>2004-03-12</td>\n      <td>1900-01-01 03:00:00</td>\n      <td>0.8</td>\n      <td>889</td>\n      <td>21</td>\n      <td>1.9</td>\n      <td>574</td>\n      <td>-200</td>\n      <td>1680</td>\n      <td>-200</td>\n      <td>1187</td>\n      <td>512</td>\n      <td>7.0</td>\n      <td>62.3</td>\n      <td>0.6261</td>\n    </tr>\n    <tr>\n      <th>34</th>\n      <td>2004-03-12</td>\n      <td>1900-01-01 04:00:00</td>\n      <td>-200.0</td>\n      <td>831</td>\n      <td>10</td>\n      <td>1.1</td>\n      <td>506</td>\n      <td>21</td>\n      <td>1893</td>\n      <td>32</td>\n      <td>1134</td>\n      <td>384</td>\n      <td>6.1</td>\n      <td>65.9</td>\n      <td>0.6248</td>\n    </tr>\n    <tr>\n      <th>35</th>\n      <td>2004-03-12</td>\n      <td>1900-01-01 05:00:00</td>\n      <td>0.6</td>\n      <td>847</td>\n      <td>7</td>\n      <td>1.0</td>\n      <td>501</td>\n      <td>30</td>\n      <td>1895</td>\n      <td>44</td>\n      <td>1155</td>\n      <td>394</td>\n      <td>6.3</td>\n      <td>65.0</td>\n      <td>0.6233</td>\n    </tr>\n    <tr>\n      <th>36</th>\n      <td>2004-03-12</td>\n      <td>1900-01-01 06:00:00</td>\n      <td>0.8</td>\n      <td>927</td>\n      <td>17</td>\n      <td>1.8</td>\n      <td>571</td>\n      <td>56</td>\n      <td>1685</td>\n      <td>71</td>\n      <td>1223</td>\n      <td>487</td>\n      <td>6.8</td>\n      <td>62.9</td>\n      <td>0.6234</td>\n    </tr>\n    <tr>\n      <th>37</th>\n      <td>2004-03-12</td>\n      <td>1900-01-01 07:00:00</td>\n      <td>1.4</td>\n      <td>1091</td>\n      <td>33</td>\n      <td>4.4</td>\n      <td>730</td>\n      <td>109</td>\n      <td>1387</td>\n      <td>104</td>\n      <td>1361</td>\n      <td>748</td>\n      <td>6.4</td>\n      <td>65.1</td>\n      <td>0.6316</td>\n    </tr>\n    <tr>\n      <th>38</th>\n      <td>2004-03-12</td>\n      <td>1900-01-01 08:00:00</td>\n      <td>4.4</td>\n      <td>1587</td>\n      <td>202</td>\n      <td>17.9</td>\n      <td>1236</td>\n      <td>307</td>\n      <td>897</td>\n      <td>141</td>\n      <td>1900</td>\n      <td>1400</td>\n      <td>7.3</td>\n      <td>63.1</td>\n      <td>0.6499</td>\n    </tr>\n    <tr>\n      <th>54</th>\n      <td>2004-03-13</td>\n      <td>1900-01-01 00:00:00</td>\n      <td>2.7</td>\n      <td>1280</td>\n      <td>122</td>\n      <td>9.6</td>\n      <td>964</td>\n      <td>193</td>\n      <td>963</td>\n      <td>113</td>\n      <td>1544</td>\n      <td>1285</td>\n      <td>9.5</td>\n      <td>64.1</td>\n      <td>0.7597</td>\n    </tr>\n    <tr>\n      <th>55</th>\n      <td>2004-03-13</td>\n      <td>1900-01-01 01:00:00</td>\n      <td>1.9</td>\n      <td>1196</td>\n      <td>67</td>\n      <td>7.4</td>\n      <td>873</td>\n      <td>139</td>\n      <td>1071</td>\n      <td>97</td>\n      <td>1463</td>\n      <td>1144</td>\n      <td>9.1</td>\n      <td>63.9</td>\n      <td>0.7423</td>\n    </tr>\n    <tr>\n      <th>56</th>\n      <td>2004-03-13</td>\n      <td>1900-01-01 02:00:00</td>\n      <td>1.6</td>\n      <td>1184</td>\n      <td>43</td>\n      <td>5.4</td>\n      <td>782</td>\n      <td>83</td>\n      <td>1176</td>\n      <td>82</td>\n      <td>1365</td>\n      <td>1043</td>\n      <td>8.8</td>\n      <td>63.9</td>\n      <td>0.7256</td>\n    </tr>\n    <tr>\n      <th>57</th>\n      <td>2004-03-13</td>\n      <td>1900-01-01 03:00:00</td>\n      <td>1.7</td>\n      <td>1172</td>\n      <td>46</td>\n      <td>5.4</td>\n      <td>783</td>\n      <td>-200</td>\n      <td>1179</td>\n      <td>-200</td>\n      <td>1380</td>\n      <td>996</td>\n      <td>7.8</td>\n      <td>67.5</td>\n      <td>0.7173</td>\n    </tr>\n    <tr>\n      <th>58</th>\n      <td>2004-03-13</td>\n      <td>1900-01-01 04:00:00</td>\n      <td>-200.0</td>\n      <td>1147</td>\n      <td>56</td>\n      <td>6.2</td>\n      <td>821</td>\n      <td>109</td>\n      <td>1132</td>\n      <td>83</td>\n      <td>1412</td>\n      <td>992</td>\n      <td>7.0</td>\n      <td>71.1</td>\n      <td>0.7158</td>\n    </tr>\n    <tr>\n      <th>59</th>\n      <td>2004-03-13</td>\n      <td>1900-01-01 05:00:00</td>\n      <td>1.0</td>\n      <td>978</td>\n      <td>30</td>\n      <td>2.6</td>\n      <td>625</td>\n      <td>62</td>\n      <td>1420</td>\n      <td>65</td>\n      <td>1274</td>\n      <td>819</td>\n      <td>8.3</td>\n      <td>63.6</td>\n      <td>0.6982</td>\n    </tr>\n    <tr>\n      <th>60</th>\n      <td>2004-03-13</td>\n      <td>1900-01-01 06:00:00</td>\n      <td>1.2</td>\n      <td>1100</td>\n      <td>27</td>\n      <td>2.9</td>\n      <td>646</td>\n      <td>53</td>\n      <td>1406</td>\n      <td>60</td>\n      <td>1268</td>\n      <td>835</td>\n      <td>7.2</td>\n      <td>67.5</td>\n      <td>0.6887</td>\n    </tr>\n    <tr>\n      <th>61</th>\n      <td>2004-03-13</td>\n      <td>1900-01-01 07:00:00</td>\n      <td>1.5</td>\n      <td>1112</td>\n      <td>47</td>\n      <td>5.1</td>\n      <td>770</td>\n      <td>139</td>\n      <td>1228</td>\n      <td>77</td>\n      <td>1409</td>\n      <td>940</td>\n      <td>6.3</td>\n      <td>71.9</td>\n      <td>0.6932</td>\n    </tr>\n    <tr>\n      <th>62</th>\n      <td>2004-03-13</td>\n      <td>1900-01-01 08:00:00</td>\n      <td>2.7</td>\n      <td>1336</td>\n      <td>132</td>\n      <td>11.8</td>\n      <td>1043</td>\n      <td>256</td>\n      <td>935</td>\n      <td>96</td>\n      <td>1678</td>\n      <td>1192</td>\n      <td>6.5</td>\n      <td>71.6</td>\n      <td>0.6945</td>\n    </tr>\n    <tr>\n      <th>78</th>\n      <td>2004-03-14</td>\n      <td>1900-01-01 00:00:00</td>\n      <td>2.9</td>\n      <td>1534</td>\n      <td>93</td>\n      <td>11.0</td>\n      <td>1013</td>\n      <td>190</td>\n      <td>889</td>\n      <td>129</td>\n      <td>1611</td>\n      <td>1535</td>\n      <td>13.9</td>\n      <td>53.6</td>\n      <td>0.8498</td>\n    </tr>\n    <tr>\n      <th>79</th>\n      <td>2004-03-14</td>\n      <td>1900-01-01 01:00:00</td>\n      <td>2.8</td>\n      <td>1484</td>\n      <td>131</td>\n      <td>11.9</td>\n      <td>1045</td>\n      <td>174</td>\n      <td>880</td>\n      <td>119</td>\n      <td>1624</td>\n      <td>1530</td>\n      <td>14.6</td>\n      <td>51.5</td>\n      <td>0.8536</td>\n    </tr>\n    <tr>\n      <th>80</th>\n      <td>2004-03-14</td>\n      <td>1900-01-01 02:00:00</td>\n      <td>2.5</td>\n      <td>1367</td>\n      <td>92</td>\n      <td>8.6</td>\n      <td>925</td>\n      <td>128</td>\n      <td>953</td>\n      <td>104</td>\n      <td>1543</td>\n      <td>1337</td>\n      <td>12.5</td>\n      <td>58.9</td>\n      <td>0.8537</td>\n    </tr>\n    <tr>\n      <th>...</th>\n      <td>...</td>\n      <td>...</td>\n      <td>...</td>\n      <td>...</td>\n      <td>...</td>\n      <td>...</td>\n      <td>...</td>\n      <td>...</td>\n      <td>...</td>\n      <td>...</td>\n      <td>...</td>\n      <td>...</td>\n      <td>...</td>\n      <td>...</td>\n      <td>...</td>\n    </tr>\n    <tr>\n      <th>9276</th>\n      <td>2005-04-01</td>\n      <td>1900-01-01 06:00:00</td>\n      <td>0.6</td>\n      <td>901</td>\n      <td>-200</td>\n      <td>2.0</td>\n      <td>586</td>\n      <td>135</td>\n      <td>993</td>\n      <td>89</td>\n      <td>979</td>\n      <td>510</td>\n      <td>13.7</td>\n      <td>47.4</td>\n      <td>0.7412</td>\n    </tr>\n    <tr>\n      <th>9277</th>\n      <td>2005-04-01</td>\n      <td>1900-01-01 07:00:00</td>\n      <td>1.5</td>\n      <td>1044</td>\n      <td>-200</td>\n      <td>6.7</td>\n      <td>845</td>\n      <td>280</td>\n      <td>710</td>\n      <td>150</td>\n      <td>1158</td>\n      <td>909</td>\n      <td>13.7</td>\n      <td>45.9</td>\n      <td>0.7154</td>\n    </tr>\n    <tr>\n      <th>9278</th>\n      <td>2005-04-01</td>\n      <td>1900-01-01 08:00:00</td>\n      <td>1.9</td>\n      <td>1030</td>\n      <td>-200</td>\n      <td>6.3</td>\n      <td>828</td>\n      <td>313</td>\n      <td>705</td>\n      <td>150</td>\n      <td>1130</td>\n      <td>869</td>\n      <td>16.1</td>\n      <td>41.0</td>\n      <td>0.7435</td>\n    </tr>\n    <tr>\n      <th>9294</th>\n      <td>2005-04-02</td>\n      <td>1900-01-01 00:00:00</td>\n      <td>1.5</td>\n      <td>965</td>\n      <td>-200</td>\n      <td>5.8</td>\n      <td>803</td>\n      <td>280</td>\n      <td>802</td>\n      <td>174</td>\n      <td>951</td>\n      <td>889</td>\n      <td>13.1</td>\n      <td>32.0</td>\n      <td>0.4817</td>\n    </tr>\n    <tr>\n      <th>9295</th>\n      <td>2005-04-02</td>\n      <td>1900-01-01 01:00:00</td>\n      <td>1.1</td>\n      <td>838</td>\n      <td>-200</td>\n      <td>1.9</td>\n      <td>580</td>\n      <td>167</td>\n      <td>1055</td>\n      <td>127</td>\n      <td>791</td>\n      <td>516</td>\n      <td>12.7</td>\n      <td>33.6</td>\n      <td>0.4902</td>\n    </tr>\n    <tr>\n      <th>9296</th>\n      <td>2005-04-02</td>\n      <td>1900-01-01 02:00:00</td>\n      <td>0.6</td>\n      <td>835</td>\n      <td>-200</td>\n      <td>1.5</td>\n      <td>546</td>\n      <td>102</td>\n      <td>1111</td>\n      <td>81</td>\n      <td>768</td>\n      <td>391</td>\n      <td>12.2</td>\n      <td>35.6</td>\n      <td>0.5038</td>\n    </tr>\n    <tr>\n      <th>9297</th>\n      <td>2005-04-02</td>\n      <td>1900-01-01 03:00:00</td>\n      <td>0.5</td>\n      <td>820</td>\n      <td>-200</td>\n      <td>1.4</td>\n      <td>536</td>\n      <td>92</td>\n      <td>1137</td>\n      <td>70</td>\n      <td>777</td>\n      <td>374</td>\n      <td>11.9</td>\n      <td>35.6</td>\n      <td>0.4945</td>\n    </tr>\n    <tr>\n      <th>9298</th>\n      <td>2005-04-02</td>\n      <td>1900-01-01 04:00:00</td>\n      <td>0.4</td>\n      <td>815</td>\n      <td>-200</td>\n      <td>0.9</td>\n      <td>488</td>\n      <td>63</td>\n      <td>1223</td>\n      <td>49</td>\n      <td>742</td>\n      <td>326</td>\n      <td>11.2</td>\n      <td>38.3</td>\n      <td>0.5099</td>\n    </tr>\n    <tr>\n      <th>9299</th>\n      <td>2005-04-02</td>\n      <td>1900-01-01 05:00:00</td>\n      <td>0.4</td>\n      <td>842</td>\n      <td>-200</td>\n      <td>1.4</td>\n      <td>535</td>\n      <td>59</td>\n      <td>1140</td>\n      <td>44</td>\n      <td>805</td>\n      <td>352</td>\n      <td>11.0</td>\n      <td>40.5</td>\n      <td>0.5316</td>\n    </tr>\n    <tr>\n      <th>9300</th>\n      <td>2005-04-02</td>\n      <td>1900-01-01 06:00:00</td>\n      <td>0.6</td>\n      <td>884</td>\n      <td>-200</td>\n      <td>2.0</td>\n      <td>587</td>\n      <td>163</td>\n      <td>999</td>\n      <td>107</td>\n      <td>863</td>\n      <td>566</td>\n      <td>10.7</td>\n      <td>42.8</td>\n      <td>0.5489</td>\n    </tr>\n    <tr>\n      <th>9301</th>\n      <td>2005-04-02</td>\n      <td>1900-01-01 07:00:00</td>\n      <td>0.9</td>\n      <td>922</td>\n      <td>-200</td>\n      <td>3.1</td>\n      <td>658</td>\n      <td>227</td>\n      <td>898</td>\n      <td>141</td>\n      <td>922</td>\n      <td>706</td>\n      <td>11.1</td>\n      <td>43.3</td>\n      <td>0.5720</td>\n    </tr>\n    <tr>\n      <th>9302</th>\n      <td>2005-04-02</td>\n      <td>1900-01-01 08:00:00</td>\n      <td>0.9</td>\n      <td>903</td>\n      <td>-200</td>\n      <td>2.5</td>\n      <td>618</td>\n      <td>183</td>\n      <td>933</td>\n      <td>121</td>\n      <td>899</td>\n      <td>575</td>\n      <td>14.2</td>\n      <td>36.9</td>\n      <td>0.5939</td>\n    </tr>\n    <tr>\n      <th>9318</th>\n      <td>2005-04-03</td>\n      <td>1900-01-01 00:00:00</td>\n      <td>0.8</td>\n      <td>929</td>\n      <td>-200</td>\n      <td>2.5</td>\n      <td>617</td>\n      <td>140</td>\n      <td>953</td>\n      <td>102</td>\n      <td>898</td>\n      <td>544</td>\n      <td>13.5</td>\n      <td>37.4</td>\n      <td>0.5745</td>\n    </tr>\n    <tr>\n      <th>9319</th>\n      <td>2005-04-03</td>\n      <td>1900-01-01 01:00:00</td>\n      <td>0.8</td>\n      <td>951</td>\n      <td>-200</td>\n      <td>2.8</td>\n      <td>642</td>\n      <td>109</td>\n      <td>895</td>\n      <td>86</td>\n      <td>929</td>\n      <td>666</td>\n      <td>12.7</td>\n      <td>40.8</td>\n      <td>0.5977</td>\n    </tr>\n    <tr>\n      <th>9320</th>\n      <td>2005-04-03</td>\n      <td>1900-01-01 02:00:00</td>\n      <td>0.7</td>\n      <td>938</td>\n      <td>-200</td>\n      <td>2.7</td>\n      <td>631</td>\n      <td>99</td>\n      <td>882</td>\n      <td>77</td>\n      <td>931</td>\n      <td>679</td>\n      <td>12.0</td>\n      <td>44.2</td>\n      <td>0.6177</td>\n    </tr>\n    <tr>\n      <th>9321</th>\n      <td>2005-04-03</td>\n      <td>1900-01-01 03:00:00</td>\n      <td>0.8</td>\n      <td>921</td>\n      <td>-200</td>\n      <td>2.8</td>\n      <td>642</td>\n      <td>120</td>\n      <td>861</td>\n      <td>88</td>\n      <td>948</td>\n      <td>768</td>\n      <td>10.5</td>\n      <td>48.7</td>\n      <td>0.6164</td>\n    </tr>\n    <tr>\n      <th>9322</th>\n      <td>2005-04-03</td>\n      <td>1900-01-01 04:00:00</td>\n      <td>0.5</td>\n      <td>850</td>\n      <td>-200</td>\n      <td>2.0</td>\n      <td>583</td>\n      <td>83</td>\n      <td>955</td>\n      <td>64</td>\n      <td>914</td>\n      <td>589</td>\n      <td>10.1</td>\n      <td>49.7</td>\n      <td>0.6122</td>\n    </tr>\n    <tr>\n      <th>9323</th>\n      <td>2005-04-03</td>\n      <td>1900-01-01 05:00:00</td>\n      <td>0.3</td>\n      <td>811</td>\n      <td>-200</td>\n      <td>1.0</td>\n      <td>494</td>\n      <td>60</td>\n      <td>1118</td>\n      <td>46</td>\n      <td>872</td>\n      <td>470</td>\n      <td>9.6</td>\n      <td>51.0</td>\n      <td>0.6082</td>\n    </tr>\n    <tr>\n      <th>9324</th>\n      <td>2005-04-03</td>\n      <td>1900-01-01 06:00:00</td>\n      <td>0.4</td>\n      <td>848</td>\n      <td>-200</td>\n      <td>1.3</td>\n      <td>530</td>\n      <td>75</td>\n      <td>1072</td>\n      <td>55</td>\n      <td>901</td>\n      <td>523</td>\n      <td>9.1</td>\n      <td>52.4</td>\n      <td>0.6074</td>\n    </tr>\n    <tr>\n      <th>9325</th>\n      <td>2005-04-03</td>\n      <td>1900-01-01 07:00:00</td>\n      <td>0.6</td>\n      <td>882</td>\n      <td>-200</td>\n      <td>1.7</td>\n      <td>563</td>\n      <td>127</td>\n      <td>978</td>\n      <td>84</td>\n      <td>936</td>\n      <td>660</td>\n      <td>8.9</td>\n      <td>52.7</td>\n      <td>0.6034</td>\n    </tr>\n    <tr>\n      <th>9326</th>\n      <td>2005-04-03</td>\n      <td>1900-01-01 08:00:00</td>\n      <td>0.7</td>\n      <td>936</td>\n      <td>-200</td>\n      <td>2.4</td>\n      <td>611</td>\n      <td>134</td>\n      <td>911</td>\n      <td>89</td>\n      <td>949</td>\n      <td>741</td>\n      <td>13.5</td>\n      <td>40.0</td>\n      <td>0.6168</td>\n    </tr>\n    <tr>\n      <th>9342</th>\n      <td>2005-04-04</td>\n      <td>1900-01-01 00:00:00</td>\n      <td>0.9</td>\n      <td>1012</td>\n      <td>-200</td>\n      <td>3.5</td>\n      <td>683</td>\n      <td>117</td>\n      <td>801</td>\n      <td>93</td>\n      <td>1073</td>\n      <td>816</td>\n      <td>14.2</td>\n      <td>51.4</td>\n      <td>0.8275</td>\n    </tr>\n    <tr>\n      <th>9343</th>\n      <td>2005-04-04</td>\n      <td>1900-01-01 01:00:00</td>\n      <td>0.6</td>\n      <td>944</td>\n      <td>-200</td>\n      <td>1.9</td>\n      <td>579</td>\n      <td>70</td>\n      <td>925</td>\n      <td>58</td>\n      <td>1002</td>\n      <td>598</td>\n      <td>13.8</td>\n      <td>51.2</td>\n      <td>0.8058</td>\n    </tr>\n    <tr>\n      <th>9344</th>\n      <td>2005-04-04</td>\n      <td>1900-01-01 02:00:00</td>\n      <td>0.5</td>\n      <td>912</td>\n      <td>-200</td>\n      <td>1.5</td>\n      <td>544</td>\n      <td>69</td>\n      <td>959</td>\n      <td>55</td>\n      <td>1002</td>\n      <td>573</td>\n      <td>12.1</td>\n      <td>56.3</td>\n      <td>0.7927</td>\n    </tr>\n    <tr>\n      <th>9345</th>\n      <td>2005-04-04</td>\n      <td>1900-01-01 03:00:00</td>\n      <td>0.4</td>\n      <td>887</td>\n      <td>-200</td>\n      <td>1.1</td>\n      <td>508</td>\n      <td>62</td>\n      <td>1047</td>\n      <td>51</td>\n      <td>974</td>\n      <td>549</td>\n      <td>11.3</td>\n      <td>58.9</td>\n      <td>0.7888</td>\n    </tr>\n    <tr>\n      <th>9346</th>\n      <td>2005-04-04</td>\n      <td>1900-01-01 04:00:00</td>\n      <td>-200.0</td>\n      <td>864</td>\n      <td>-200</td>\n      <td>0.8</td>\n      <td>478</td>\n      <td>52</td>\n      <td>1116</td>\n      <td>43</td>\n      <td>958</td>\n      <td>489</td>\n      <td>11.8</td>\n      <td>56.0</td>\n      <td>0.7743</td>\n    </tr>\n    <tr>\n      <th>9347</th>\n      <td>2005-04-04</td>\n      <td>1900-01-01 05:00:00</td>\n      <td>0.5</td>\n      <td>888</td>\n      <td>-200</td>\n      <td>1.3</td>\n      <td>528</td>\n      <td>77</td>\n      <td>1077</td>\n      <td>53</td>\n      <td>987</td>\n      <td>578</td>\n      <td>10.4</td>\n      <td>59.9</td>\n      <td>0.7550</td>\n    </tr>\n    <tr>\n      <th>9348</th>\n      <td>2005-04-04</td>\n      <td>1900-01-01 06:00:00</td>\n      <td>1.1</td>\n      <td>1031</td>\n      <td>-200</td>\n      <td>4.4</td>\n      <td>730</td>\n      <td>182</td>\n      <td>760</td>\n      <td>93</td>\n      <td>1129</td>\n      <td>905</td>\n      <td>9.5</td>\n      <td>63.1</td>\n      <td>0.7531</td>\n    </tr>\n    <tr>\n      <th>9349</th>\n      <td>2005-04-04</td>\n      <td>1900-01-01 07:00:00</td>\n      <td>4.0</td>\n      <td>1384</td>\n      <td>-200</td>\n      <td>17.4</td>\n      <td>1221</td>\n      <td>594</td>\n      <td>470</td>\n      <td>155</td>\n      <td>1600</td>\n      <td>1457</td>\n      <td>9.7</td>\n      <td>61.9</td>\n      <td>0.7446</td>\n    </tr>\n    <tr>\n      <th>9350</th>\n      <td>2005-04-04</td>\n      <td>1900-01-01 08:00:00</td>\n      <td>5.0</td>\n      <td>1446</td>\n      <td>-200</td>\n      <td>22.4</td>\n      <td>1362</td>\n      <td>586</td>\n      <td>415</td>\n      <td>174</td>\n      <td>1777</td>\n      <td>1705</td>\n      <td>13.5</td>\n      <td>48.9</td>\n      <td>0.7553</td>\n    </tr>\n  </tbody>\n</table>\n<p>3510 rows × 15 columns</p>\n</div>",
            "text/plain": "           Date                Time  CO(GT)  PT08.S1(CO)  NMHC(GT)  C6H6(GT)  \\\n6    2004-03-11 1900-01-01 00:00:00     1.2         1185        31       3.6   \n7    2004-03-11 1900-01-01 01:00:00     1.0         1136        31       3.3   \n8    2004-03-11 1900-01-01 02:00:00     0.9         1094        24       2.3   \n9    2004-03-11 1900-01-01 03:00:00     0.6         1010        19       1.7   \n10   2004-03-11 1900-01-01 04:00:00  -200.0         1011        14       1.3   \n11   2004-03-11 1900-01-01 05:00:00     0.7         1066         8       1.1   \n12   2004-03-11 1900-01-01 06:00:00     0.7         1052        16       1.6   \n13   2004-03-11 1900-01-01 07:00:00     1.1         1144        29       3.2   \n14   2004-03-11 1900-01-01 08:00:00     2.0         1333        64       8.0   \n30   2004-03-12 1900-01-01 00:00:00     1.7         1080        55       5.9   \n31   2004-03-12 1900-01-01 01:00:00     1.9         1044        53       6.4   \n32   2004-03-12 1900-01-01 02:00:00     1.4          988        40       4.1   \n33   2004-03-12 1900-01-01 03:00:00     0.8          889        21       1.9   \n34   2004-03-12 1900-01-01 04:00:00  -200.0          831        10       1.1   \n35   2004-03-12 1900-01-01 05:00:00     0.6          847         7       1.0   \n36   2004-03-12 1900-01-01 06:00:00     0.8          927        17       1.8   \n37   2004-03-12 1900-01-01 07:00:00     1.4         1091        33       4.4   \n38   2004-03-12 1900-01-01 08:00:00     4.4         1587       202      17.9   \n54   2004-03-13 1900-01-01 00:00:00     2.7         1280       122       9.6   \n55   2004-03-13 1900-01-01 01:00:00     1.9         1196        67       7.4   \n56   2004-03-13 1900-01-01 02:00:00     1.6         1184        43       5.4   \n57   2004-03-13 1900-01-01 03:00:00     1.7         1172        46       5.4   \n58   2004-03-13 1900-01-01 04:00:00  -200.0         1147        56       6.2   \n59   2004-03-13 1900-01-01 05:00:00     1.0          978        30       2.6   \n60   2004-03-13 1900-01-01 06:00:00     1.2         1100        27       2.9   \n61   2004-03-13 1900-01-01 07:00:00     1.5         1112        47       5.1   \n62   2004-03-13 1900-01-01 08:00:00     2.7         1336       132      11.8   \n78   2004-03-14 1900-01-01 00:00:00     2.9         1534        93      11.0   \n79   2004-03-14 1900-01-01 01:00:00     2.8         1484       131      11.9   \n80   2004-03-14 1900-01-01 02:00:00     2.5         1367        92       8.6   \n...         ...                 ...     ...          ...       ...       ...   \n9276 2005-04-01 1900-01-01 06:00:00     0.6          901      -200       2.0   \n9277 2005-04-01 1900-01-01 07:00:00     1.5         1044      -200       6.7   \n9278 2005-04-01 1900-01-01 08:00:00     1.9         1030      -200       6.3   \n9294 2005-04-02 1900-01-01 00:00:00     1.5          965      -200       5.8   \n9295 2005-04-02 1900-01-01 01:00:00     1.1          838      -200       1.9   \n9296 2005-04-02 1900-01-01 02:00:00     0.6          835      -200       1.5   \n9297 2005-04-02 1900-01-01 03:00:00     0.5          820      -200       1.4   \n9298 2005-04-02 1900-01-01 04:00:00     0.4          815      -200       0.9   \n9299 2005-04-02 1900-01-01 05:00:00     0.4          842      -200       1.4   \n9300 2005-04-02 1900-01-01 06:00:00     0.6          884      -200       2.0   \n9301 2005-04-02 1900-01-01 07:00:00     0.9          922      -200       3.1   \n9302 2005-04-02 1900-01-01 08:00:00     0.9          903      -200       2.5   \n9318 2005-04-03 1900-01-01 00:00:00     0.8          929      -200       2.5   \n9319 2005-04-03 1900-01-01 01:00:00     0.8          951      -200       2.8   \n9320 2005-04-03 1900-01-01 02:00:00     0.7          938      -200       2.7   \n9321 2005-04-03 1900-01-01 03:00:00     0.8          921      -200       2.8   \n9322 2005-04-03 1900-01-01 04:00:00     0.5          850      -200       2.0   \n9323 2005-04-03 1900-01-01 05:00:00     0.3          811      -200       1.0   \n9324 2005-04-03 1900-01-01 06:00:00     0.4          848      -200       1.3   \n9325 2005-04-03 1900-01-01 07:00:00     0.6          882      -200       1.7   \n9326 2005-04-03 1900-01-01 08:00:00     0.7          936      -200       2.4   \n9342 2005-04-04 1900-01-01 00:00:00     0.9         1012      -200       3.5   \n9343 2005-04-04 1900-01-01 01:00:00     0.6          944      -200       1.9   \n9344 2005-04-04 1900-01-01 02:00:00     0.5          912      -200       1.5   \n9345 2005-04-04 1900-01-01 03:00:00     0.4          887      -200       1.1   \n9346 2005-04-04 1900-01-01 04:00:00  -200.0          864      -200       0.8   \n9347 2005-04-04 1900-01-01 05:00:00     0.5          888      -200       1.3   \n9348 2005-04-04 1900-01-01 06:00:00     1.1         1031      -200       4.4   \n9349 2005-04-04 1900-01-01 07:00:00     4.0         1384      -200      17.4   \n9350 2005-04-04 1900-01-01 08:00:00     5.0         1446      -200      22.4   \n\n      PT08.S2(NMHC)  NOx(GT)  PT08.S3(NOx)  NO2(GT)  PT08.S4(NO2)  \\\n6               690       62          1462       77          1333   \n7               672       62          1453       76          1333   \n8               609       45          1579       60          1276   \n9               561     -200          1705     -200          1235   \n10              527       21          1818       34          1197   \n11              512       16          1918       28          1182   \n12              553       34          1738       48          1221   \n13              667       98          1490       82          1339   \n14              900      174          1136      112          1517   \n30              805      122          1254       97          1375   \n31              829      133          1247      110          1378   \n32              718       82          1396       91          1304   \n33              574     -200          1680     -200          1187   \n34              506       21          1893       32          1134   \n35              501       30          1895       44          1155   \n36              571       56          1685       71          1223   \n37              730      109          1387      104          1361   \n38             1236      307           897      141          1900   \n54              964      193           963      113          1544   \n55              873      139          1071       97          1463   \n56              782       83          1176       82          1365   \n57              783     -200          1179     -200          1380   \n58              821      109          1132       83          1412   \n59              625       62          1420       65          1274   \n60              646       53          1406       60          1268   \n61              770      139          1228       77          1409   \n62             1043      256           935       96          1678   \n78             1013      190           889      129          1611   \n79             1045      174           880      119          1624   \n80              925      128           953      104          1543   \n...             ...      ...           ...      ...           ...   \n9276            586      135           993       89           979   \n9277            845      280           710      150          1158   \n9278            828      313           705      150          1130   \n9294            803      280           802      174           951   \n9295            580      167          1055      127           791   \n9296            546      102          1111       81           768   \n9297            536       92          1137       70           777   \n9298            488       63          1223       49           742   \n9299            535       59          1140       44           805   \n9300            587      163           999      107           863   \n9301            658      227           898      141           922   \n9302            618      183           933      121           899   \n9318            617      140           953      102           898   \n9319            642      109           895       86           929   \n9320            631       99           882       77           931   \n9321            642      120           861       88           948   \n9322            583       83           955       64           914   \n9323            494       60          1118       46           872   \n9324            530       75          1072       55           901   \n9325            563      127           978       84           936   \n9326            611      134           911       89           949   \n9342            683      117           801       93          1073   \n9343            579       70           925       58          1002   \n9344            544       69           959       55          1002   \n9345            508       62          1047       51           974   \n9346            478       52          1116       43           958   \n9347            528       77          1077       53           987   \n9348            730      182           760       93          1129   \n9349           1221      594           470      155          1600   \n9350           1362      586           415      174          1777   \n\n      PT08.S5(O3)     T    RH      AH  \n6             733  11.3  56.8  0.7603  \n7             730  10.7  60.0  0.7702  \n8             620  10.7  59.7  0.7648  \n9             501  10.3  60.2  0.7517  \n10            445  10.1  60.5  0.7465  \n11            422  11.0  56.2  0.7366  \n12            472  10.5  58.1  0.7353  \n13            730  10.2  59.6  0.7417  \n14           1102  10.8  57.4  0.7408  \n30            816   8.3  58.5  0.6438  \n31            832   7.7  59.7  0.6308  \n32            692   7.1  61.8  0.6276  \n33            512   7.0  62.3  0.6261  \n34            384   6.1  65.9  0.6248  \n35            394   6.3  65.0  0.6233  \n36            487   6.8  62.9  0.6234  \n37            748   6.4  65.1  0.6316  \n38           1400   7.3  63.1  0.6499  \n54           1285   9.5  64.1  0.7597  \n55           1144   9.1  63.9  0.7423  \n56           1043   8.8  63.9  0.7256  \n57            996   7.8  67.5  0.7173  \n58            992   7.0  71.1  0.7158  \n59            819   8.3  63.6  0.6982  \n60            835   7.2  67.5  0.6887  \n61            940   6.3  71.9  0.6932  \n62           1192   6.5  71.6  0.6945  \n78           1535  13.9  53.6  0.8498  \n79           1530  14.6  51.5  0.8536  \n80           1337  12.5  58.9  0.8537  \n...           ...   ...   ...     ...  \n9276          510  13.7  47.4  0.7412  \n9277          909  13.7  45.9  0.7154  \n9278          869  16.1  41.0  0.7435  \n9294          889  13.1  32.0  0.4817  \n9295          516  12.7  33.6  0.4902  \n9296          391  12.2  35.6  0.5038  \n9297          374  11.9  35.6  0.4945  \n9298          326  11.2  38.3  0.5099  \n9299          352  11.0  40.5  0.5316  \n9300          566  10.7  42.8  0.5489  \n9301          706  11.1  43.3  0.5720  \n9302          575  14.2  36.9  0.5939  \n9318          544  13.5  37.4  0.5745  \n9319          666  12.7  40.8  0.5977  \n9320          679  12.0  44.2  0.6177  \n9321          768  10.5  48.7  0.6164  \n9322          589  10.1  49.7  0.6122  \n9323          470   9.6  51.0  0.6082  \n9324          523   9.1  52.4  0.6074  \n9325          660   8.9  52.7  0.6034  \n9326          741  13.5  40.0  0.6168  \n9342          816  14.2  51.4  0.8275  \n9343          598  13.8  51.2  0.8058  \n9344          573  12.1  56.3  0.7927  \n9345          549  11.3  58.9  0.7888  \n9346          489  11.8  56.0  0.7743  \n9347          578  10.4  59.9  0.7550  \n9348          905   9.5  63.1  0.7531  \n9349         1457   9.7  61.9  0.7446  \n9350         1705  13.5  48.9  0.7553  \n\n[3510 rows x 15 columns]"
          },
          "execution_count": 16,
          "metadata": {},
          "output_type": "execute_result"
        }
      ]
    },
    {
      "metadata": {
        "trusted": false
      },
      "cell_type": "code",
      "source": "datestamp=pd.to_datetime(\"01/01/2005\",format='%d/%m/%Y')\nair_df[air_df['Date']<datestamp].shape",
      "execution_count": 19,
      "outputs": [
        {
          "data": {
            "text/plain": "(7110, 15)"
          },
          "execution_count": 19,
          "metadata": {},
          "output_type": "execute_result"
        }
      ]
    },
    {
      "metadata": {
        "trusted": false
      },
      "cell_type": "code",
      "source": "air_df[air_df['Date']<datestamp]",
      "execution_count": 22,
      "outputs": [
        {
          "data": {
            "text/html": "<div>\n<style>\n    .dataframe thead tr:only-child th {\n        text-align: right;\n    }\n\n    .dataframe thead th {\n        text-align: left;\n    }\n\n    .dataframe tbody tr th {\n        vertical-align: top;\n    }\n</style>\n<table border=\"1\" class=\"dataframe\">\n  <thead>\n    <tr style=\"text-align: right;\">\n      <th></th>\n      <th>Date</th>\n      <th>Time</th>\n      <th>CO(GT)</th>\n      <th>PT08.S1(CO)</th>\n      <th>NMHC(GT)</th>\n      <th>C6H6(GT)</th>\n      <th>PT08.S2(NMHC)</th>\n      <th>NOx(GT)</th>\n      <th>PT08.S3(NOx)</th>\n      <th>NO2(GT)</th>\n      <th>PT08.S4(NO2)</th>\n      <th>PT08.S5(O3)</th>\n      <th>T</th>\n      <th>RH</th>\n      <th>AH</th>\n    </tr>\n  </thead>\n  <tbody>\n    <tr>\n      <th>0</th>\n      <td>2004-03-10</td>\n      <td>1900-01-01 18:00:00</td>\n      <td>2.6</td>\n      <td>1360</td>\n      <td>150</td>\n      <td>11.9</td>\n      <td>1046</td>\n      <td>166</td>\n      <td>1056</td>\n      <td>113</td>\n      <td>1692</td>\n      <td>1268</td>\n      <td>13.6</td>\n      <td>48.9</td>\n      <td>0.7578</td>\n    </tr>\n    <tr>\n      <th>1</th>\n      <td>2004-03-10</td>\n      <td>1900-01-01 19:00:00</td>\n      <td>2.0</td>\n      <td>1292</td>\n      <td>112</td>\n      <td>9.4</td>\n      <td>955</td>\n      <td>103</td>\n      <td>1174</td>\n      <td>92</td>\n      <td>1559</td>\n      <td>972</td>\n      <td>13.3</td>\n      <td>47.7</td>\n      <td>0.7255</td>\n    </tr>\n    <tr>\n      <th>2</th>\n      <td>2004-03-10</td>\n      <td>1900-01-01 20:00:00</td>\n      <td>2.2</td>\n      <td>1402</td>\n      <td>88</td>\n      <td>9.0</td>\n      <td>939</td>\n      <td>131</td>\n      <td>1140</td>\n      <td>114</td>\n      <td>1555</td>\n      <td>1074</td>\n      <td>11.9</td>\n      <td>54.0</td>\n      <td>0.7502</td>\n    </tr>\n    <tr>\n      <th>3</th>\n      <td>2004-03-10</td>\n      <td>1900-01-01 21:00:00</td>\n      <td>2.2</td>\n      <td>1376</td>\n      <td>80</td>\n      <td>9.2</td>\n      <td>948</td>\n      <td>172</td>\n      <td>1092</td>\n      <td>122</td>\n      <td>1584</td>\n      <td>1203</td>\n      <td>11.0</td>\n      <td>60.0</td>\n      <td>0.7867</td>\n    </tr>\n    <tr>\n      <th>4</th>\n      <td>2004-03-10</td>\n      <td>1900-01-01 22:00:00</td>\n      <td>1.6</td>\n      <td>1272</td>\n      <td>51</td>\n      <td>6.5</td>\n      <td>836</td>\n      <td>131</td>\n      <td>1205</td>\n      <td>116</td>\n      <td>1490</td>\n      <td>1110</td>\n      <td>11.2</td>\n      <td>59.6</td>\n      <td>0.7888</td>\n    </tr>\n    <tr>\n      <th>5</th>\n      <td>2004-03-10</td>\n      <td>1900-01-01 23:00:00</td>\n      <td>1.2</td>\n      <td>1197</td>\n      <td>38</td>\n      <td>4.7</td>\n      <td>750</td>\n      <td>89</td>\n      <td>1337</td>\n      <td>96</td>\n      <td>1393</td>\n      <td>949</td>\n      <td>11.2</td>\n      <td>59.2</td>\n      <td>0.7848</td>\n    </tr>\n    <tr>\n      <th>6</th>\n      <td>2004-03-11</td>\n      <td>1900-01-01 00:00:00</td>\n      <td>1.2</td>\n      <td>1185</td>\n      <td>31</td>\n      <td>3.6</td>\n      <td>690</td>\n      <td>62</td>\n      <td>1462</td>\n      <td>77</td>\n      <td>1333</td>\n      <td>733</td>\n      <td>11.3</td>\n      <td>56.8</td>\n      <td>0.7603</td>\n    </tr>\n    <tr>\n      <th>7</th>\n      <td>2004-03-11</td>\n      <td>1900-01-01 01:00:00</td>\n      <td>1.0</td>\n      <td>1136</td>\n      <td>31</td>\n      <td>3.3</td>\n      <td>672</td>\n      <td>62</td>\n      <td>1453</td>\n      <td>76</td>\n      <td>1333</td>\n      <td>730</td>\n      <td>10.7</td>\n      <td>60.0</td>\n      <td>0.7702</td>\n    </tr>\n    <tr>\n      <th>8</th>\n      <td>2004-03-11</td>\n      <td>1900-01-01 02:00:00</td>\n      <td>0.9</td>\n      <td>1094</td>\n      <td>24</td>\n      <td>2.3</td>\n      <td>609</td>\n      <td>45</td>\n      <td>1579</td>\n      <td>60</td>\n      <td>1276</td>\n      <td>620</td>\n      <td>10.7</td>\n      <td>59.7</td>\n      <td>0.7648</td>\n    </tr>\n    <tr>\n      <th>9</th>\n      <td>2004-03-11</td>\n      <td>1900-01-01 03:00:00</td>\n      <td>0.6</td>\n      <td>1010</td>\n      <td>19</td>\n      <td>1.7</td>\n      <td>561</td>\n      <td>-200</td>\n      <td>1705</td>\n      <td>-200</td>\n      <td>1235</td>\n      <td>501</td>\n      <td>10.3</td>\n      <td>60.2</td>\n      <td>0.7517</td>\n    </tr>\n    <tr>\n      <th>10</th>\n      <td>2004-03-11</td>\n      <td>1900-01-01 04:00:00</td>\n      <td>-200.0</td>\n      <td>1011</td>\n      <td>14</td>\n      <td>1.3</td>\n      <td>527</td>\n      <td>21</td>\n      <td>1818</td>\n      <td>34</td>\n      <td>1197</td>\n      <td>445</td>\n      <td>10.1</td>\n      <td>60.5</td>\n      <td>0.7465</td>\n    </tr>\n    <tr>\n      <th>11</th>\n      <td>2004-03-11</td>\n      <td>1900-01-01 05:00:00</td>\n      <td>0.7</td>\n      <td>1066</td>\n      <td>8</td>\n      <td>1.1</td>\n      <td>512</td>\n      <td>16</td>\n      <td>1918</td>\n      <td>28</td>\n      <td>1182</td>\n      <td>422</td>\n      <td>11.0</td>\n      <td>56.2</td>\n      <td>0.7366</td>\n    </tr>\n    <tr>\n      <th>12</th>\n      <td>2004-03-11</td>\n      <td>1900-01-01 06:00:00</td>\n      <td>0.7</td>\n      <td>1052</td>\n      <td>16</td>\n      <td>1.6</td>\n      <td>553</td>\n      <td>34</td>\n      <td>1738</td>\n      <td>48</td>\n      <td>1221</td>\n      <td>472</td>\n      <td>10.5</td>\n      <td>58.1</td>\n      <td>0.7353</td>\n    </tr>\n    <tr>\n      <th>13</th>\n      <td>2004-03-11</td>\n      <td>1900-01-01 07:00:00</td>\n      <td>1.1</td>\n      <td>1144</td>\n      <td>29</td>\n      <td>3.2</td>\n      <td>667</td>\n      <td>98</td>\n      <td>1490</td>\n      <td>82</td>\n      <td>1339</td>\n      <td>730</td>\n      <td>10.2</td>\n      <td>59.6</td>\n      <td>0.7417</td>\n    </tr>\n    <tr>\n      <th>14</th>\n      <td>2004-03-11</td>\n      <td>1900-01-01 08:00:00</td>\n      <td>2.0</td>\n      <td>1333</td>\n      <td>64</td>\n      <td>8.0</td>\n      <td>900</td>\n      <td>174</td>\n      <td>1136</td>\n      <td>112</td>\n      <td>1517</td>\n      <td>1102</td>\n      <td>10.8</td>\n      <td>57.4</td>\n      <td>0.7408</td>\n    </tr>\n    <tr>\n      <th>15</th>\n      <td>2004-03-11</td>\n      <td>1900-01-01 09:00:00</td>\n      <td>2.2</td>\n      <td>1351</td>\n      <td>87</td>\n      <td>9.5</td>\n      <td>960</td>\n      <td>129</td>\n      <td>1079</td>\n      <td>101</td>\n      <td>1583</td>\n      <td>1028</td>\n      <td>10.5</td>\n      <td>60.6</td>\n      <td>0.7691</td>\n    </tr>\n    <tr>\n      <th>16</th>\n      <td>2004-03-11</td>\n      <td>1900-01-01 10:00:00</td>\n      <td>1.7</td>\n      <td>1233</td>\n      <td>77</td>\n      <td>6.3</td>\n      <td>827</td>\n      <td>112</td>\n      <td>1218</td>\n      <td>98</td>\n      <td>1446</td>\n      <td>860</td>\n      <td>10.8</td>\n      <td>58.4</td>\n      <td>0.7552</td>\n    </tr>\n    <tr>\n      <th>17</th>\n      <td>2004-03-11</td>\n      <td>1900-01-01 11:00:00</td>\n      <td>1.5</td>\n      <td>1179</td>\n      <td>43</td>\n      <td>5.0</td>\n      <td>762</td>\n      <td>95</td>\n      <td>1328</td>\n      <td>92</td>\n      <td>1362</td>\n      <td>671</td>\n      <td>10.5</td>\n      <td>57.9</td>\n      <td>0.7352</td>\n    </tr>\n    <tr>\n      <th>18</th>\n      <td>2004-03-11</td>\n      <td>1900-01-01 12:00:00</td>\n      <td>1.6</td>\n      <td>1236</td>\n      <td>61</td>\n      <td>5.2</td>\n      <td>774</td>\n      <td>104</td>\n      <td>1301</td>\n      <td>95</td>\n      <td>1401</td>\n      <td>664</td>\n      <td>9.5</td>\n      <td>66.8</td>\n      <td>0.7951</td>\n    </tr>\n    <tr>\n      <th>19</th>\n      <td>2004-03-11</td>\n      <td>1900-01-01 13:00:00</td>\n      <td>1.9</td>\n      <td>1286</td>\n      <td>63</td>\n      <td>7.3</td>\n      <td>869</td>\n      <td>146</td>\n      <td>1162</td>\n      <td>112</td>\n      <td>1537</td>\n      <td>799</td>\n      <td>8.3</td>\n      <td>76.4</td>\n      <td>0.8393</td>\n    </tr>\n    <tr>\n      <th>20</th>\n      <td>2004-03-11</td>\n      <td>1900-01-01 14:00:00</td>\n      <td>2.9</td>\n      <td>1371</td>\n      <td>164</td>\n      <td>11.5</td>\n      <td>1034</td>\n      <td>207</td>\n      <td>983</td>\n      <td>128</td>\n      <td>1730</td>\n      <td>1037</td>\n      <td>8.0</td>\n      <td>81.1</td>\n      <td>0.8736</td>\n    </tr>\n    <tr>\n      <th>21</th>\n      <td>2004-03-11</td>\n      <td>1900-01-01 15:00:00</td>\n      <td>2.2</td>\n      <td>1310</td>\n      <td>79</td>\n      <td>8.8</td>\n      <td>933</td>\n      <td>184</td>\n      <td>1082</td>\n      <td>126</td>\n      <td>1647</td>\n      <td>946</td>\n      <td>8.3</td>\n      <td>79.8</td>\n      <td>0.8778</td>\n    </tr>\n    <tr>\n      <th>22</th>\n      <td>2004-03-11</td>\n      <td>1900-01-01 16:00:00</td>\n      <td>2.2</td>\n      <td>1292</td>\n      <td>95</td>\n      <td>8.3</td>\n      <td>912</td>\n      <td>193</td>\n      <td>1103</td>\n      <td>131</td>\n      <td>1591</td>\n      <td>957</td>\n      <td>9.7</td>\n      <td>71.2</td>\n      <td>0.8569</td>\n    </tr>\n    <tr>\n      <th>23</th>\n      <td>2004-03-11</td>\n      <td>1900-01-01 17:00:00</td>\n      <td>2.9</td>\n      <td>1383</td>\n      <td>150</td>\n      <td>11.2</td>\n      <td>1020</td>\n      <td>243</td>\n      <td>1008</td>\n      <td>135</td>\n      <td>1719</td>\n      <td>1104</td>\n      <td>9.8</td>\n      <td>67.6</td>\n      <td>0.8185</td>\n    </tr>\n    <tr>\n      <th>24</th>\n      <td>2004-03-11</td>\n      <td>1900-01-01 18:00:00</td>\n      <td>4.8</td>\n      <td>1581</td>\n      <td>307</td>\n      <td>20.8</td>\n      <td>1319</td>\n      <td>281</td>\n      <td>799</td>\n      <td>151</td>\n      <td>2083</td>\n      <td>1409</td>\n      <td>10.3</td>\n      <td>64.2</td>\n      <td>0.8065</td>\n    </tr>\n    <tr>\n      <th>25</th>\n      <td>2004-03-11</td>\n      <td>1900-01-01 19:00:00</td>\n      <td>6.9</td>\n      <td>1776</td>\n      <td>461</td>\n      <td>27.4</td>\n      <td>1488</td>\n      <td>383</td>\n      <td>702</td>\n      <td>172</td>\n      <td>2333</td>\n      <td>1704</td>\n      <td>9.7</td>\n      <td>69.3</td>\n      <td>0.8319</td>\n    </tr>\n    <tr>\n      <th>26</th>\n      <td>2004-03-11</td>\n      <td>1900-01-01 20:00:00</td>\n      <td>6.1</td>\n      <td>1640</td>\n      <td>401</td>\n      <td>24.0</td>\n      <td>1404</td>\n      <td>351</td>\n      <td>743</td>\n      <td>165</td>\n      <td>2191</td>\n      <td>1654</td>\n      <td>9.6</td>\n      <td>67.8</td>\n      <td>0.8133</td>\n    </tr>\n    <tr>\n      <th>27</th>\n      <td>2004-03-11</td>\n      <td>1900-01-01 21:00:00</td>\n      <td>3.9</td>\n      <td>1313</td>\n      <td>197</td>\n      <td>12.8</td>\n      <td>1076</td>\n      <td>240</td>\n      <td>957</td>\n      <td>136</td>\n      <td>1707</td>\n      <td>1285</td>\n      <td>9.1</td>\n      <td>64.0</td>\n      <td>0.7419</td>\n    </tr>\n    <tr>\n      <th>28</th>\n      <td>2004-03-11</td>\n      <td>1900-01-01 22:00:00</td>\n      <td>1.5</td>\n      <td>965</td>\n      <td>61</td>\n      <td>4.7</td>\n      <td>749</td>\n      <td>94</td>\n      <td>1325</td>\n      <td>85</td>\n      <td>1333</td>\n      <td>821</td>\n      <td>8.2</td>\n      <td>63.4</td>\n      <td>0.6905</td>\n    </tr>\n    <tr>\n      <th>29</th>\n      <td>2004-03-11</td>\n      <td>1900-01-01 23:00:00</td>\n      <td>1.0</td>\n      <td>913</td>\n      <td>26</td>\n      <td>2.6</td>\n      <td>629</td>\n      <td>47</td>\n      <td>1565</td>\n      <td>53</td>\n      <td>1252</td>\n      <td>552</td>\n      <td>8.2</td>\n      <td>60.8</td>\n      <td>0.6657</td>\n    </tr>\n    <tr>\n      <th>...</th>\n      <td>...</td>\n      <td>...</td>\n      <td>...</td>\n      <td>...</td>\n      <td>...</td>\n      <td>...</td>\n      <td>...</td>\n      <td>...</td>\n      <td>...</td>\n      <td>...</td>\n      <td>...</td>\n      <td>...</td>\n      <td>...</td>\n      <td>...</td>\n      <td>...</td>\n    </tr>\n    <tr>\n      <th>7080</th>\n      <td>2004-12-30</td>\n      <td>1900-01-01 18:00:00</td>\n      <td>-200.0</td>\n      <td>994</td>\n      <td>-200</td>\n      <td>8.1</td>\n      <td>903</td>\n      <td>-200</td>\n      <td>781</td>\n      <td>-200</td>\n      <td>1079</td>\n      <td>922</td>\n      <td>9.3</td>\n      <td>40.8</td>\n      <td>0.4781</td>\n    </tr>\n    <tr>\n      <th>7081</th>\n      <td>2004-12-30</td>\n      <td>1900-01-01 19:00:00</td>\n      <td>-200.0</td>\n      <td>927</td>\n      <td>-200</td>\n      <td>5.2</td>\n      <td>774</td>\n      <td>-200</td>\n      <td>883</td>\n      <td>-200</td>\n      <td>976</td>\n      <td>755</td>\n      <td>8.6</td>\n      <td>45.1</td>\n      <td>0.5038</td>\n    </tr>\n    <tr>\n      <th>7082</th>\n      <td>2004-12-30</td>\n      <td>1900-01-01 20:00:00</td>\n      <td>-200.0</td>\n      <td>1078</td>\n      <td>-200</td>\n      <td>10.2</td>\n      <td>987</td>\n      <td>-200</td>\n      <td>718</td>\n      <td>-200</td>\n      <td>1152</td>\n      <td>1015</td>\n      <td>9.3</td>\n      <td>41.7</td>\n      <td>0.4884</td>\n    </tr>\n    <tr>\n      <th>7083</th>\n      <td>2004-12-30</td>\n      <td>1900-01-01 21:00:00</td>\n      <td>-200.0</td>\n      <td>952</td>\n      <td>-200</td>\n      <td>5.5</td>\n      <td>788</td>\n      <td>-200</td>\n      <td>849</td>\n      <td>-200</td>\n      <td>1018</td>\n      <td>876</td>\n      <td>8.7</td>\n      <td>44.3</td>\n      <td>0.4998</td>\n    </tr>\n    <tr>\n      <th>7084</th>\n      <td>2004-12-30</td>\n      <td>1900-01-01 22:00:00</td>\n      <td>-200.0</td>\n      <td>882</td>\n      <td>-200</td>\n      <td>3.1</td>\n      <td>660</td>\n      <td>-200</td>\n      <td>991</td>\n      <td>-200</td>\n      <td>922</td>\n      <td>727</td>\n      <td>8.0</td>\n      <td>47.6</td>\n      <td>0.5113</td>\n    </tr>\n    <tr>\n      <th>7085</th>\n      <td>2004-12-30</td>\n      <td>1900-01-01 23:00:00</td>\n      <td>-200.0</td>\n      <td>924</td>\n      <td>-200</td>\n      <td>4.2</td>\n      <td>724</td>\n      <td>-200</td>\n      <td>946</td>\n      <td>-200</td>\n      <td>969</td>\n      <td>781</td>\n      <td>7.7</td>\n      <td>47.2</td>\n      <td>0.4975</td>\n    </tr>\n    <tr>\n      <th>7086</th>\n      <td>2004-12-31</td>\n      <td>1900-01-01 00:00:00</td>\n      <td>-200.0</td>\n      <td>987</td>\n      <td>-200</td>\n      <td>6.2</td>\n      <td>823</td>\n      <td>-200</td>\n      <td>827</td>\n      <td>-200</td>\n      <td>1027</td>\n      <td>893</td>\n      <td>7.2</td>\n      <td>50.2</td>\n      <td>0.5118</td>\n    </tr>\n    <tr>\n      <th>7087</th>\n      <td>2004-12-31</td>\n      <td>1900-01-01 01:00:00</td>\n      <td>-200.0</td>\n      <td>930</td>\n      <td>-200</td>\n      <td>4.8</td>\n      <td>752</td>\n      <td>-200</td>\n      <td>889</td>\n      <td>-200</td>\n      <td>981</td>\n      <td>820</td>\n      <td>6.9</td>\n      <td>50.3</td>\n      <td>0.5029</td>\n    </tr>\n    <tr>\n      <th>7088</th>\n      <td>2004-12-31</td>\n      <td>1900-01-01 02:00:00</td>\n      <td>-200.0</td>\n      <td>861</td>\n      <td>-200</td>\n      <td>3.0</td>\n      <td>654</td>\n      <td>-200</td>\n      <td>995</td>\n      <td>-200</td>\n      <td>919</td>\n      <td>632</td>\n      <td>6.7</td>\n      <td>50.7</td>\n      <td>0.4998</td>\n    </tr>\n    <tr>\n      <th>7089</th>\n      <td>2004-12-31</td>\n      <td>1900-01-01 03:00:00</td>\n      <td>-200.0</td>\n      <td>783</td>\n      <td>-200</td>\n      <td>1.2</td>\n      <td>522</td>\n      <td>-200</td>\n      <td>1241</td>\n      <td>-200</td>\n      <td>832</td>\n      <td>458</td>\n      <td>7.6</td>\n      <td>46.4</td>\n      <td>0.4869</td>\n    </tr>\n    <tr>\n      <th>7090</th>\n      <td>2004-12-31</td>\n      <td>1900-01-01 04:00:00</td>\n      <td>-200.0</td>\n      <td>744</td>\n      <td>-200</td>\n      <td>0.4</td>\n      <td>431</td>\n      <td>-200</td>\n      <td>1539</td>\n      <td>-200</td>\n      <td>778</td>\n      <td>345</td>\n      <td>7.4</td>\n      <td>45.7</td>\n      <td>0.4714</td>\n    </tr>\n    <tr>\n      <th>7091</th>\n      <td>2004-12-31</td>\n      <td>1900-01-01 05:00:00</td>\n      <td>-200.0</td>\n      <td>753</td>\n      <td>-200</td>\n      <td>0.4</td>\n      <td>426</td>\n      <td>-200</td>\n      <td>1568</td>\n      <td>-200</td>\n      <td>792</td>\n      <td>337</td>\n      <td>6.9</td>\n      <td>49.3</td>\n      <td>0.4913</td>\n    </tr>\n    <tr>\n      <th>7092</th>\n      <td>2004-12-31</td>\n      <td>1900-01-01 06:00:00</td>\n      <td>-200.0</td>\n      <td>787</td>\n      <td>-200</td>\n      <td>0.6</td>\n      <td>452</td>\n      <td>-200</td>\n      <td>1400</td>\n      <td>-200</td>\n      <td>823</td>\n      <td>370</td>\n      <td>7.8</td>\n      <td>48.1</td>\n      <td>0.5095</td>\n    </tr>\n    <tr>\n      <th>7093</th>\n      <td>2004-12-31</td>\n      <td>1900-01-01 07:00:00</td>\n      <td>-200.0</td>\n      <td>820</td>\n      <td>-200</td>\n      <td>1.1</td>\n      <td>506</td>\n      <td>-200</td>\n      <td>1221</td>\n      <td>-200</td>\n      <td>871</td>\n      <td>466</td>\n      <td>8.1</td>\n      <td>47.8</td>\n      <td>0.5157</td>\n    </tr>\n    <tr>\n      <th>7094</th>\n      <td>2004-12-31</td>\n      <td>1900-01-01 08:00:00</td>\n      <td>-200.0</td>\n      <td>840</td>\n      <td>-200</td>\n      <td>1.6</td>\n      <td>552</td>\n      <td>-200</td>\n      <td>1152</td>\n      <td>-200</td>\n      <td>893</td>\n      <td>510</td>\n      <td>8.5</td>\n      <td>46.7</td>\n      <td>0.5191</td>\n    </tr>\n    <tr>\n      <th>7095</th>\n      <td>2004-12-31</td>\n      <td>1900-01-01 09:00:00</td>\n      <td>-200.0</td>\n      <td>897</td>\n      <td>-200</td>\n      <td>3.1</td>\n      <td>656</td>\n      <td>-200</td>\n      <td>953</td>\n      <td>-200</td>\n      <td>964</td>\n      <td>641</td>\n      <td>8.9</td>\n      <td>44.1</td>\n      <td>0.5039</td>\n    </tr>\n    <tr>\n      <th>7096</th>\n      <td>2004-12-31</td>\n      <td>1900-01-01 10:00:00</td>\n      <td>-200.0</td>\n      <td>989</td>\n      <td>-200</td>\n      <td>5.6</td>\n      <td>793</td>\n      <td>-200</td>\n      <td>815</td>\n      <td>-200</td>\n      <td>1052</td>\n      <td>862</td>\n      <td>9.4</td>\n      <td>42.5</td>\n      <td>0.5038</td>\n    </tr>\n    <tr>\n      <th>7097</th>\n      <td>2004-12-31</td>\n      <td>1900-01-01 11:00:00</td>\n      <td>-200.0</td>\n      <td>909</td>\n      <td>-200</td>\n      <td>4.5</td>\n      <td>737</td>\n      <td>-200</td>\n      <td>909</td>\n      <td>-200</td>\n      <td>941</td>\n      <td>753</td>\n      <td>10.8</td>\n      <td>36.3</td>\n      <td>0.4712</td>\n    </tr>\n    <tr>\n      <th>7098</th>\n      <td>2004-12-31</td>\n      <td>1900-01-01 12:00:00</td>\n      <td>-200.0</td>\n      <td>865</td>\n      <td>-200</td>\n      <td>3.8</td>\n      <td>697</td>\n      <td>-200</td>\n      <td>1002</td>\n      <td>-200</td>\n      <td>883</td>\n      <td>589</td>\n      <td>11.9</td>\n      <td>30.6</td>\n      <td>0.4264</td>\n    </tr>\n    <tr>\n      <th>7099</th>\n      <td>2004-12-31</td>\n      <td>1900-01-01 13:00:00</td>\n      <td>-200.0</td>\n      <td>924</td>\n      <td>-200</td>\n      <td>6.2</td>\n      <td>821</td>\n      <td>-200</td>\n      <td>899</td>\n      <td>-200</td>\n      <td>955</td>\n      <td>704</td>\n      <td>12.2</td>\n      <td>29.7</td>\n      <td>0.4205</td>\n    </tr>\n    <tr>\n      <th>7100</th>\n      <td>2004-12-31</td>\n      <td>1900-01-01 14:00:00</td>\n      <td>-200.0</td>\n      <td>912</td>\n      <td>-200</td>\n      <td>5.6</td>\n      <td>794</td>\n      <td>-200</td>\n      <td>885</td>\n      <td>-200</td>\n      <td>943</td>\n      <td>731</td>\n      <td>12.0</td>\n      <td>31.1</td>\n      <td>0.4340</td>\n    </tr>\n    <tr>\n      <th>7101</th>\n      <td>2004-12-31</td>\n      <td>1900-01-01 15:00:00</td>\n      <td>-200.0</td>\n      <td>872</td>\n      <td>-200</td>\n      <td>4.1</td>\n      <td>717</td>\n      <td>-200</td>\n      <td>991</td>\n      <td>-200</td>\n      <td>882</td>\n      <td>592</td>\n      <td>12.7</td>\n      <td>28.4</td>\n      <td>0.4160</td>\n    </tr>\n    <tr>\n      <th>7102</th>\n      <td>2004-12-31</td>\n      <td>1900-01-01 16:00:00</td>\n      <td>-200.0</td>\n      <td>917</td>\n      <td>-200</td>\n      <td>5.6</td>\n      <td>794</td>\n      <td>-200</td>\n      <td>907</td>\n      <td>-200</td>\n      <td>946</td>\n      <td>740</td>\n      <td>13.3</td>\n      <td>27.5</td>\n      <td>0.4185</td>\n    </tr>\n    <tr>\n      <th>7103</th>\n      <td>2004-12-31</td>\n      <td>1900-01-01 17:00:00</td>\n      <td>-200.0</td>\n      <td>962</td>\n      <td>-200</td>\n      <td>7.6</td>\n      <td>883</td>\n      <td>-200</td>\n      <td>818</td>\n      <td>-200</td>\n      <td>996</td>\n      <td>896</td>\n      <td>11.4</td>\n      <td>30.8</td>\n      <td>0.4148</td>\n    </tr>\n    <tr>\n      <th>7104</th>\n      <td>2004-12-31</td>\n      <td>1900-01-01 18:00:00</td>\n      <td>-200.0</td>\n      <td>932</td>\n      <td>-200</td>\n      <td>6.1</td>\n      <td>817</td>\n      <td>-200</td>\n      <td>883</td>\n      <td>-200</td>\n      <td>942</td>\n      <td>854</td>\n      <td>9.8</td>\n      <td>34.0</td>\n      <td>0.4112</td>\n    </tr>\n    <tr>\n      <th>7105</th>\n      <td>2004-12-31</td>\n      <td>1900-01-01 19:00:00</td>\n      <td>-200.0</td>\n      <td>930</td>\n      <td>-200</td>\n      <td>5.3</td>\n      <td>781</td>\n      <td>-200</td>\n      <td>933</td>\n      <td>-200</td>\n      <td>906</td>\n      <td>866</td>\n      <td>9.3</td>\n      <td>33.6</td>\n      <td>0.3958</td>\n    </tr>\n    <tr>\n      <th>7106</th>\n      <td>2004-12-31</td>\n      <td>1900-01-01 20:00:00</td>\n      <td>-200.0</td>\n      <td>962</td>\n      <td>-200</td>\n      <td>5.3</td>\n      <td>780</td>\n      <td>-200</td>\n      <td>919</td>\n      <td>-200</td>\n      <td>909</td>\n      <td>884</td>\n      <td>9.6</td>\n      <td>32.3</td>\n      <td>0.3871</td>\n    </tr>\n    <tr>\n      <th>7107</th>\n      <td>2004-12-31</td>\n      <td>1900-01-01 21:00:00</td>\n      <td>-200.0</td>\n      <td>974</td>\n      <td>-200</td>\n      <td>5.5</td>\n      <td>790</td>\n      <td>-200</td>\n      <td>915</td>\n      <td>-200</td>\n      <td>895</td>\n      <td>951</td>\n      <td>9.1</td>\n      <td>32.5</td>\n      <td>0.3766</td>\n    </tr>\n    <tr>\n      <th>7108</th>\n      <td>2004-12-31</td>\n      <td>1900-01-01 22:00:00</td>\n      <td>-200.0</td>\n      <td>1055</td>\n      <td>-200</td>\n      <td>5.6</td>\n      <td>791</td>\n      <td>-200</td>\n      <td>845</td>\n      <td>-200</td>\n      <td>936</td>\n      <td>1195</td>\n      <td>9.1</td>\n      <td>37.2</td>\n      <td>0.4310</td>\n    </tr>\n    <tr>\n      <th>7109</th>\n      <td>2004-12-31</td>\n      <td>1900-01-01 23:00:00</td>\n      <td>-200.0</td>\n      <td>1003</td>\n      <td>-200</td>\n      <td>4.6</td>\n      <td>744</td>\n      <td>-200</td>\n      <td>882</td>\n      <td>-200</td>\n      <td>899</td>\n      <td>1138</td>\n      <td>7.8</td>\n      <td>38.4</td>\n      <td>0.4085</td>\n    </tr>\n  </tbody>\n</table>\n<p>7110 rows × 15 columns</p>\n</div>",
            "text/plain": "           Date                Time  CO(GT)  PT08.S1(CO)  NMHC(GT)  C6H6(GT)  \\\n0    2004-03-10 1900-01-01 18:00:00     2.6         1360       150      11.9   \n1    2004-03-10 1900-01-01 19:00:00     2.0         1292       112       9.4   \n2    2004-03-10 1900-01-01 20:00:00     2.2         1402        88       9.0   \n3    2004-03-10 1900-01-01 21:00:00     2.2         1376        80       9.2   \n4    2004-03-10 1900-01-01 22:00:00     1.6         1272        51       6.5   \n5    2004-03-10 1900-01-01 23:00:00     1.2         1197        38       4.7   \n6    2004-03-11 1900-01-01 00:00:00     1.2         1185        31       3.6   \n7    2004-03-11 1900-01-01 01:00:00     1.0         1136        31       3.3   \n8    2004-03-11 1900-01-01 02:00:00     0.9         1094        24       2.3   \n9    2004-03-11 1900-01-01 03:00:00     0.6         1010        19       1.7   \n10   2004-03-11 1900-01-01 04:00:00  -200.0         1011        14       1.3   \n11   2004-03-11 1900-01-01 05:00:00     0.7         1066         8       1.1   \n12   2004-03-11 1900-01-01 06:00:00     0.7         1052        16       1.6   \n13   2004-03-11 1900-01-01 07:00:00     1.1         1144        29       3.2   \n14   2004-03-11 1900-01-01 08:00:00     2.0         1333        64       8.0   \n15   2004-03-11 1900-01-01 09:00:00     2.2         1351        87       9.5   \n16   2004-03-11 1900-01-01 10:00:00     1.7         1233        77       6.3   \n17   2004-03-11 1900-01-01 11:00:00     1.5         1179        43       5.0   \n18   2004-03-11 1900-01-01 12:00:00     1.6         1236        61       5.2   \n19   2004-03-11 1900-01-01 13:00:00     1.9         1286        63       7.3   \n20   2004-03-11 1900-01-01 14:00:00     2.9         1371       164      11.5   \n21   2004-03-11 1900-01-01 15:00:00     2.2         1310        79       8.8   \n22   2004-03-11 1900-01-01 16:00:00     2.2         1292        95       8.3   \n23   2004-03-11 1900-01-01 17:00:00     2.9         1383       150      11.2   \n24   2004-03-11 1900-01-01 18:00:00     4.8         1581       307      20.8   \n25   2004-03-11 1900-01-01 19:00:00     6.9         1776       461      27.4   \n26   2004-03-11 1900-01-01 20:00:00     6.1         1640       401      24.0   \n27   2004-03-11 1900-01-01 21:00:00     3.9         1313       197      12.8   \n28   2004-03-11 1900-01-01 22:00:00     1.5          965        61       4.7   \n29   2004-03-11 1900-01-01 23:00:00     1.0          913        26       2.6   \n...         ...                 ...     ...          ...       ...       ...   \n7080 2004-12-30 1900-01-01 18:00:00  -200.0          994      -200       8.1   \n7081 2004-12-30 1900-01-01 19:00:00  -200.0          927      -200       5.2   \n7082 2004-12-30 1900-01-01 20:00:00  -200.0         1078      -200      10.2   \n7083 2004-12-30 1900-01-01 21:00:00  -200.0          952      -200       5.5   \n7084 2004-12-30 1900-01-01 22:00:00  -200.0          882      -200       3.1   \n7085 2004-12-30 1900-01-01 23:00:00  -200.0          924      -200       4.2   \n7086 2004-12-31 1900-01-01 00:00:00  -200.0          987      -200       6.2   \n7087 2004-12-31 1900-01-01 01:00:00  -200.0          930      -200       4.8   \n7088 2004-12-31 1900-01-01 02:00:00  -200.0          861      -200       3.0   \n7089 2004-12-31 1900-01-01 03:00:00  -200.0          783      -200       1.2   \n7090 2004-12-31 1900-01-01 04:00:00  -200.0          744      -200       0.4   \n7091 2004-12-31 1900-01-01 05:00:00  -200.0          753      -200       0.4   \n7092 2004-12-31 1900-01-01 06:00:00  -200.0          787      -200       0.6   \n7093 2004-12-31 1900-01-01 07:00:00  -200.0          820      -200       1.1   \n7094 2004-12-31 1900-01-01 08:00:00  -200.0          840      -200       1.6   \n7095 2004-12-31 1900-01-01 09:00:00  -200.0          897      -200       3.1   \n7096 2004-12-31 1900-01-01 10:00:00  -200.0          989      -200       5.6   \n7097 2004-12-31 1900-01-01 11:00:00  -200.0          909      -200       4.5   \n7098 2004-12-31 1900-01-01 12:00:00  -200.0          865      -200       3.8   \n7099 2004-12-31 1900-01-01 13:00:00  -200.0          924      -200       6.2   \n7100 2004-12-31 1900-01-01 14:00:00  -200.0          912      -200       5.6   \n7101 2004-12-31 1900-01-01 15:00:00  -200.0          872      -200       4.1   \n7102 2004-12-31 1900-01-01 16:00:00  -200.0          917      -200       5.6   \n7103 2004-12-31 1900-01-01 17:00:00  -200.0          962      -200       7.6   \n7104 2004-12-31 1900-01-01 18:00:00  -200.0          932      -200       6.1   \n7105 2004-12-31 1900-01-01 19:00:00  -200.0          930      -200       5.3   \n7106 2004-12-31 1900-01-01 20:00:00  -200.0          962      -200       5.3   \n7107 2004-12-31 1900-01-01 21:00:00  -200.0          974      -200       5.5   \n7108 2004-12-31 1900-01-01 22:00:00  -200.0         1055      -200       5.6   \n7109 2004-12-31 1900-01-01 23:00:00  -200.0         1003      -200       4.6   \n\n      PT08.S2(NMHC)  NOx(GT)  PT08.S3(NOx)  NO2(GT)  PT08.S4(NO2)  \\\n0              1046      166          1056      113          1692   \n1               955      103          1174       92          1559   \n2               939      131          1140      114          1555   \n3               948      172          1092      122          1584   \n4               836      131          1205      116          1490   \n5               750       89          1337       96          1393   \n6               690       62          1462       77          1333   \n7               672       62          1453       76          1333   \n8               609       45          1579       60          1276   \n9               561     -200          1705     -200          1235   \n10              527       21          1818       34          1197   \n11              512       16          1918       28          1182   \n12              553       34          1738       48          1221   \n13              667       98          1490       82          1339   \n14              900      174          1136      112          1517   \n15              960      129          1079      101          1583   \n16              827      112          1218       98          1446   \n17              762       95          1328       92          1362   \n18              774      104          1301       95          1401   \n19              869      146          1162      112          1537   \n20             1034      207           983      128          1730   \n21              933      184          1082      126          1647   \n22              912      193          1103      131          1591   \n23             1020      243          1008      135          1719   \n24             1319      281           799      151          2083   \n25             1488      383           702      172          2333   \n26             1404      351           743      165          2191   \n27             1076      240           957      136          1707   \n28              749       94          1325       85          1333   \n29              629       47          1565       53          1252   \n...             ...      ...           ...      ...           ...   \n7080            903     -200           781     -200          1079   \n7081            774     -200           883     -200           976   \n7082            987     -200           718     -200          1152   \n7083            788     -200           849     -200          1018   \n7084            660     -200           991     -200           922   \n7085            724     -200           946     -200           969   \n7086            823     -200           827     -200          1027   \n7087            752     -200           889     -200           981   \n7088            654     -200           995     -200           919   \n7089            522     -200          1241     -200           832   \n7090            431     -200          1539     -200           778   \n7091            426     -200          1568     -200           792   \n7092            452     -200          1400     -200           823   \n7093            506     -200          1221     -200           871   \n7094            552     -200          1152     -200           893   \n7095            656     -200           953     -200           964   \n7096            793     -200           815     -200          1052   \n7097            737     -200           909     -200           941   \n7098            697     -200          1002     -200           883   \n7099            821     -200           899     -200           955   \n7100            794     -200           885     -200           943   \n7101            717     -200           991     -200           882   \n7102            794     -200           907     -200           946   \n7103            883     -200           818     -200           996   \n7104            817     -200           883     -200           942   \n7105            781     -200           933     -200           906   \n7106            780     -200           919     -200           909   \n7107            790     -200           915     -200           895   \n7108            791     -200           845     -200           936   \n7109            744     -200           882     -200           899   \n\n      PT08.S5(O3)     T    RH      AH  \n0            1268  13.6  48.9  0.7578  \n1             972  13.3  47.7  0.7255  \n2            1074  11.9  54.0  0.7502  \n3            1203  11.0  60.0  0.7867  \n4            1110  11.2  59.6  0.7888  \n5             949  11.2  59.2  0.7848  \n6             733  11.3  56.8  0.7603  \n7             730  10.7  60.0  0.7702  \n8             620  10.7  59.7  0.7648  \n9             501  10.3  60.2  0.7517  \n10            445  10.1  60.5  0.7465  \n11            422  11.0  56.2  0.7366  \n12            472  10.5  58.1  0.7353  \n13            730  10.2  59.6  0.7417  \n14           1102  10.8  57.4  0.7408  \n15           1028  10.5  60.6  0.7691  \n16            860  10.8  58.4  0.7552  \n17            671  10.5  57.9  0.7352  \n18            664   9.5  66.8  0.7951  \n19            799   8.3  76.4  0.8393  \n20           1037   8.0  81.1  0.8736  \n21            946   8.3  79.8  0.8778  \n22            957   9.7  71.2  0.8569  \n23           1104   9.8  67.6  0.8185  \n24           1409  10.3  64.2  0.8065  \n25           1704   9.7  69.3  0.8319  \n26           1654   9.6  67.8  0.8133  \n27           1285   9.1  64.0  0.7419  \n28            821   8.2  63.4  0.6905  \n29            552   8.2  60.8  0.6657  \n...           ...   ...   ...     ...  \n7080          922   9.3  40.8  0.4781  \n7081          755   8.6  45.1  0.5038  \n7082         1015   9.3  41.7  0.4884  \n7083          876   8.7  44.3  0.4998  \n7084          727   8.0  47.6  0.5113  \n7085          781   7.7  47.2  0.4975  \n7086          893   7.2  50.2  0.5118  \n7087          820   6.9  50.3  0.5029  \n7088          632   6.7  50.7  0.4998  \n7089          458   7.6  46.4  0.4869  \n7090          345   7.4  45.7  0.4714  \n7091          337   6.9  49.3  0.4913  \n7092          370   7.8  48.1  0.5095  \n7093          466   8.1  47.8  0.5157  \n7094          510   8.5  46.7  0.5191  \n7095          641   8.9  44.1  0.5039  \n7096          862   9.4  42.5  0.5038  \n7097          753  10.8  36.3  0.4712  \n7098          589  11.9  30.6  0.4264  \n7099          704  12.2  29.7  0.4205  \n7100          731  12.0  31.1  0.4340  \n7101          592  12.7  28.4  0.4160  \n7102          740  13.3  27.5  0.4185  \n7103          896  11.4  30.8  0.4148  \n7104          854   9.8  34.0  0.4112  \n7105          866   9.3  33.6  0.3958  \n7106          884   9.6  32.3  0.3871  \n7107          951   9.1  32.5  0.3766  \n7108         1195   9.1  37.2  0.4310  \n7109         1138   7.8  38.4  0.4085  \n\n[7110 rows x 15 columns]"
          },
          "execution_count": 22,
          "metadata": {},
          "output_type": "execute_result"
        }
      ]
    },
    {
      "metadata": {
        "trusted": false
      },
      "cell_type": "code",
      "source": "from datetime import timedelta\ndatestamp+timedelta(days=1)",
      "execution_count": 23,
      "outputs": [
        {
          "data": {
            "text/plain": "Timestamp('2005-01-02 00:00:00')"
          },
          "execution_count": 23,
          "metadata": {},
          "output_type": "execute_result"
        }
      ]
    },
    {
      "metadata": {
        "trusted": false
      },
      "cell_type": "code",
      "source": "datestamp+timedelta(days=-1)",
      "execution_count": 24,
      "outputs": [
        {
          "data": {
            "text/plain": "Timestamp('2004-12-31 00:00:00')"
          },
          "execution_count": 24,
          "metadata": {},
          "output_type": "execute_result"
        }
      ]
    },
    {
      "metadata": {
        "trusted": false
      },
      "cell_type": "code",
      "source": "datestamp+timedelta(days=5)",
      "execution_count": 25,
      "outputs": [
        {
          "data": {
            "text/plain": "Timestamp('2005-01-06 00:00:00')"
          },
          "execution_count": 25,
          "metadata": {},
          "output_type": "execute_result"
        }
      ]
    },
    {
      "metadata": {
        "trusted": false
      },
      "cell_type": "code",
      "source": "air_df[air_df['Date']<datestamp].Date.dt.year.unique()",
      "execution_count": 26,
      "outputs": [
        {
          "data": {
            "text/plain": "array([2004], dtype=int64)"
          },
          "execution_count": 26,
          "metadata": {},
          "output_type": "execute_result"
        }
      ]
    },
    {
      "metadata": {
        "trusted": false
      },
      "cell_type": "code",
      "source": "datestamp1=pd.to_datetime(\"01/01/2005\", format=\"%d/%m/%Y\")\ndatestamp2=pd.to_datetime(\"01/07/2005\", format=\"%d/%m/%Y\")\n\ndatestamp2.dayofyear - datestamp1.dayofyear",
      "execution_count": 28,
      "outputs": [
        {
          "data": {
            "text/plain": "181"
          },
          "execution_count": 28,
          "metadata": {},
          "output_type": "execute_result"
        }
      ]
    }
  ],
  "metadata": {
    "kernelspec": {
      "name": "python3",
      "display_name": "Python 3",
      "language": "python"
    },
    "language_info": {
      "mimetype": "text/x-python",
      "nbconvert_exporter": "python",
      "name": "python",
      "pygments_lexer": "ipython3",
      "version": "3.5.4",
      "file_extension": ".py",
      "codemirror_mode": {
        "version": 3,
        "name": "ipython"
      }
    }
  },
  "nbformat": 4,
  "nbformat_minor": 2
}