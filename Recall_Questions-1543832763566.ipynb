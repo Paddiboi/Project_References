{
  "cells": [
    {
      "metadata": {
        "colab_type": "text",
        "id": "pT9NkahsoXlx"
      },
      "cell_type": "markdown",
      "source": "<img src=\"https://github.com/insaid2018/Term-1/blob/master/Images/INSAID_Full%20Logo.png?raw=true\" width=\"240\" height=\"360\" />\n\n# ASSIGNMENT\n## PORTUGUESE INSTITUTIONS BANK MARKETING (RECALL CASE)"
    },
    {
      "metadata": {
        "colab_type": "text",
        "id": "vUDV0_7foXl5"
      },
      "cell_type": "markdown",
      "source": "\n##  Bank Marketing\n\n\n**Abstract:** \nThe data is related with direct marketing campaigns (phone calls) of a Portuguese banking institution. The classification goal is to predict if the client will subscribe a term deposit (variable y).\n\n**Data Set Information:**\nThe data is related with direct marketing campaigns of a Portuguese banking institution. The marketing campaigns were based on phone calls. Often, more than one contact to the same client was required, in order to access if the product (bank term deposit) would be ('yes') or not ('no') subscribed. \n\n###  Source:\n\n - Dataset from : http://archive.ics.uci.edu/ml/datasets/Bank+Marketing#\n \n### FALSE POSITIVE & FALSE NEGATIVE AND IT'S IMPACT ON BUSINESS\n__FALSE POSITIVE__ - The events which are __predicted__ to happen but they __don't occur in real life__. Here in the context of dataset and business involved, the false positive results in predicted term deposit by customers ont he basis of phone marketing, but they actually do not turn up to make the term deposit.<br/>\n__FALSE NEGATIVE__ - The events which are __not predicted__ to happen but they __do occur in real life__. In this case the prediction is made as the customer will not be making term deposit but they do actually make the term deposit.\n\nSo, concluding from the above two case, we need to __cater/ lower down the False negative__ becasue in any business we cannot __assume__ customer will have prior knowledge of our products and services. Even though they know, we need to do the marketing in order to not loose a single customer .\n "
    },
    {
      "metadata": {
        "colab_type": "text",
        "id": "Pdbn-OVBoXl_"
      },
      "cell_type": "markdown",
      "source": "### Import the dataset"
    },
    {
      "metadata": {
        "colab": {
          "base_uri": "https://localhost:8080/",
          "height": 256
        },
        "colab_type": "code",
        "id": "Ou5LklFnoXmE",
        "outputId": "85e7a19f-8337-4611-9874-a706a1b14fe1",
        "trusted": true
      },
      "cell_type": "code",
      "source": "import pandas as pd\nbank = pd.read_csv('https://raw.githubusercontent.com/insaid2018/Term-2/master/Data/bank.csv')\nbank.head() ",
      "execution_count": 1,
      "outputs": [
        {
          "output_type": "execute_result",
          "execution_count": 1,
          "data": {
            "text/html": "<div>\n<table border=\"1\" class=\"dataframe\">\n  <thead>\n    <tr style=\"text-align: right;\">\n      <th></th>\n      <th>age</th>\n      <th>job</th>\n      <th>marital</th>\n      <th>education</th>\n      <th>default</th>\n      <th>housing</th>\n      <th>loan</th>\n      <th>contact</th>\n      <th>month</th>\n      <th>day_of_week</th>\n      <th>...</th>\n      <th>campaign</th>\n      <th>pdays</th>\n      <th>previous</th>\n      <th>poutcome</th>\n      <th>emp.var.rate</th>\n      <th>cons.price.idx</th>\n      <th>cons.conf.idx</th>\n      <th>euribor3m</th>\n      <th>nr.employed</th>\n      <th>y</th>\n    </tr>\n  </thead>\n  <tbody>\n    <tr>\n      <th>0</th>\n      <td>46</td>\n      <td>blue-collar</td>\n      <td>married</td>\n      <td>basic.9y</td>\n      <td>no</td>\n      <td>no</td>\n      <td>yes</td>\n      <td>telephone</td>\n      <td>may</td>\n      <td>tue</td>\n      <td>...</td>\n      <td>3</td>\n      <td>999</td>\n      <td>0</td>\n      <td>nonexistent</td>\n      <td>1.1</td>\n      <td>93.994</td>\n      <td>-36.4</td>\n      <td>4.857</td>\n      <td>5191.0</td>\n      <td>no</td>\n    </tr>\n    <tr>\n      <th>1</th>\n      <td>29</td>\n      <td>admin.</td>\n      <td>single</td>\n      <td>university.degree</td>\n      <td>no</td>\n      <td>no</td>\n      <td>no</td>\n      <td>cellular</td>\n      <td>may</td>\n      <td>wed</td>\n      <td>...</td>\n      <td>2</td>\n      <td>999</td>\n      <td>0</td>\n      <td>nonexistent</td>\n      <td>-1.8</td>\n      <td>92.893</td>\n      <td>-46.2</td>\n      <td>1.281</td>\n      <td>5099.1</td>\n      <td>no</td>\n    </tr>\n    <tr>\n      <th>2</th>\n      <td>50</td>\n      <td>management</td>\n      <td>married</td>\n      <td>university.degree</td>\n      <td>no</td>\n      <td>yes</td>\n      <td>yes</td>\n      <td>cellular</td>\n      <td>apr</td>\n      <td>fri</td>\n      <td>...</td>\n      <td>1</td>\n      <td>999</td>\n      <td>0</td>\n      <td>nonexistent</td>\n      <td>-1.8</td>\n      <td>93.075</td>\n      <td>-47.1</td>\n      <td>1.405</td>\n      <td>5099.1</td>\n      <td>no</td>\n    </tr>\n    <tr>\n      <th>3</th>\n      <td>31</td>\n      <td>admin.</td>\n      <td>married</td>\n      <td>high.school</td>\n      <td>unknown</td>\n      <td>yes</td>\n      <td>no</td>\n      <td>telephone</td>\n      <td>may</td>\n      <td>thu</td>\n      <td>...</td>\n      <td>2</td>\n      <td>999</td>\n      <td>0</td>\n      <td>nonexistent</td>\n      <td>1.1</td>\n      <td>93.994</td>\n      <td>-36.4</td>\n      <td>4.860</td>\n      <td>5191.0</td>\n      <td>no</td>\n    </tr>\n    <tr>\n      <th>4</th>\n      <td>32</td>\n      <td>admin.</td>\n      <td>single</td>\n      <td>high.school</td>\n      <td>no</td>\n      <td>yes</td>\n      <td>no</td>\n      <td>cellular</td>\n      <td>jun</td>\n      <td>tue</td>\n      <td>...</td>\n      <td>1</td>\n      <td>999</td>\n      <td>0</td>\n      <td>nonexistent</td>\n      <td>-2.9</td>\n      <td>92.963</td>\n      <td>-40.8</td>\n      <td>1.262</td>\n      <td>5076.2</td>\n      <td>yes</td>\n    </tr>\n  </tbody>\n</table>\n<p>5 rows × 21 columns</p>\n</div>",
            "text/plain": "   age          job  marital          education  default housing loan  \\\n0   46  blue-collar  married           basic.9y       no      no  yes   \n1   29       admin.   single  university.degree       no      no   no   \n2   50   management  married  university.degree       no     yes  yes   \n3   31       admin.  married        high.school  unknown     yes   no   \n4   32       admin.   single        high.school       no     yes   no   \n\n     contact month day_of_week ...   campaign  pdays  previous     poutcome  \\\n0  telephone   may         tue ...          3    999         0  nonexistent   \n1   cellular   may         wed ...          2    999         0  nonexistent   \n2   cellular   apr         fri ...          1    999         0  nonexistent   \n3  telephone   may         thu ...          2    999         0  nonexistent   \n4   cellular   jun         tue ...          1    999         0  nonexistent   \n\n  emp.var.rate  cons.price.idx  cons.conf.idx  euribor3m  nr.employed    y  \n0          1.1          93.994          -36.4      4.857       5191.0   no  \n1         -1.8          92.893          -46.2      1.281       5099.1   no  \n2         -1.8          93.075          -47.1      1.405       5099.1   no  \n3          1.1          93.994          -36.4      4.860       5191.0   no  \n4         -2.9          92.963          -40.8      1.262       5076.2  yes  \n\n[5 rows x 21 columns]"
          },
          "metadata": {}
        }
      ]
    },
    {
      "metadata": {
        "colab_type": "text",
        "id": "VlCrU2rrU8h2"
      },
      "cell_type": "markdown",
      "source": "### Check the columns present in the dataset"
    },
    {
      "metadata": {
        "colab": {
          "base_uri": "https://localhost:8080/",
          "height": 109
        },
        "colab_type": "code",
        "id": "0KNg7cFCoXmf",
        "outputId": "4536cff3-b592-4c28-ec1e-58b1fa0c126e",
        "trusted": true
      },
      "cell_type": "code",
      "source": "bank.columns",
      "execution_count": 2,
      "outputs": [
        {
          "output_type": "execute_result",
          "execution_count": 2,
          "data": {
            "text/plain": "Index(['age', 'job', 'marital', 'education', 'default', 'housing', 'loan',\n       'contact', 'month', 'day_of_week', 'duration', 'campaign', 'pdays',\n       'previous', 'poutcome', 'emp.var.rate', 'cons.price.idx',\n       'cons.conf.idx', 'euribor3m', 'nr.employed', 'y'],\n      dtype='object')"
          },
          "metadata": {}
        }
      ]
    },
    {
      "metadata": {
        "colab_type": "text",
        "id": "tAkyKLofoXmx"
      },
      "cell_type": "markdown",
      "source": "### Check the shape of Dataset"
    },
    {
      "metadata": {
        "colab": {
          "base_uri": "https://localhost:8080/",
          "height": 35
        },
        "colab_type": "code",
        "id": "SxbjHquvoXm1",
        "outputId": "05f24ce1-42b9-4ebe-9304-94feffa6fe8a",
        "trusted": true
      },
      "cell_type": "code",
      "source": "bank.shape ",
      "execution_count": 3,
      "outputs": [
        {
          "output_type": "execute_result",
          "execution_count": 3,
          "data": {
            "text/plain": "(10297, 21)"
          },
          "metadata": {}
        }
      ]
    },
    {
      "metadata": {
        "colab_type": "text",
        "id": "0kILdc4ZoXnD"
      },
      "cell_type": "markdown",
      "source": "### Check the descriptive statistics of the dataset"
    },
    {
      "metadata": {
        "colab": {
          "base_uri": "https://localhost:8080/",
          "height": 320
        },
        "colab_type": "code",
        "id": "-CGyYNy3oXnI",
        "outputId": "439ac205-e6a1-4f35-db79-2bfeac278a02",
        "trusted": true
      },
      "cell_type": "code",
      "source": "bank.describe() ",
      "execution_count": 4,
      "outputs": [
        {
          "output_type": "execute_result",
          "execution_count": 4,
          "data": {
            "text/html": "<div>\n<table border=\"1\" class=\"dataframe\">\n  <thead>\n    <tr style=\"text-align: right;\">\n      <th></th>\n      <th>age</th>\n      <th>duration</th>\n      <th>campaign</th>\n      <th>pdays</th>\n      <th>previous</th>\n      <th>emp.var.rate</th>\n      <th>cons.price.idx</th>\n      <th>cons.conf.idx</th>\n      <th>euribor3m</th>\n      <th>nr.employed</th>\n    </tr>\n  </thead>\n  <tbody>\n    <tr>\n      <th>count</th>\n      <td>10297.000000</td>\n      <td>10297.000000</td>\n      <td>10297.000000</td>\n      <td>10297.000000</td>\n      <td>10297.000000</td>\n      <td>10297.000000</td>\n      <td>10297.000000</td>\n      <td>10297.000000</td>\n      <td>10297.000000</td>\n      <td>10297.000000</td>\n    </tr>\n    <tr>\n      <th>mean</th>\n      <td>40.080606</td>\n      <td>261.388268</td>\n      <td>2.561134</td>\n      <td>963.609692</td>\n      <td>0.171506</td>\n      <td>0.077256</td>\n      <td>93.574206</td>\n      <td>-40.445780</td>\n      <td>3.621923</td>\n      <td>5166.850442</td>\n    </tr>\n    <tr>\n      <th>std</th>\n      <td>10.472190</td>\n      <td>263.722874</td>\n      <td>2.827084</td>\n      <td>184.098592</td>\n      <td>0.496992</td>\n      <td>1.576732</td>\n      <td>0.577502</td>\n      <td>4.622221</td>\n      <td>1.734170</td>\n      <td>72.492914</td>\n    </tr>\n    <tr>\n      <th>min</th>\n      <td>18.000000</td>\n      <td>0.000000</td>\n      <td>1.000000</td>\n      <td>0.000000</td>\n      <td>0.000000</td>\n      <td>-3.400000</td>\n      <td>92.201000</td>\n      <td>-50.800000</td>\n      <td>0.634000</td>\n      <td>4963.600000</td>\n    </tr>\n    <tr>\n      <th>25%</th>\n      <td>32.000000</td>\n      <td>103.000000</td>\n      <td>1.000000</td>\n      <td>999.000000</td>\n      <td>0.000000</td>\n      <td>-1.800000</td>\n      <td>93.075000</td>\n      <td>-42.700000</td>\n      <td>1.344000</td>\n      <td>5099.100000</td>\n    </tr>\n    <tr>\n      <th>50%</th>\n      <td>38.000000</td>\n      <td>180.000000</td>\n      <td>2.000000</td>\n      <td>999.000000</td>\n      <td>0.000000</td>\n      <td>1.100000</td>\n      <td>93.749000</td>\n      <td>-41.800000</td>\n      <td>4.857000</td>\n      <td>5191.000000</td>\n    </tr>\n    <tr>\n      <th>75%</th>\n      <td>47.000000</td>\n      <td>327.000000</td>\n      <td>3.000000</td>\n      <td>999.000000</td>\n      <td>0.000000</td>\n      <td>1.400000</td>\n      <td>93.994000</td>\n      <td>-36.400000</td>\n      <td>4.961000</td>\n      <td>5228.100000</td>\n    </tr>\n    <tr>\n      <th>max</th>\n      <td>94.000000</td>\n      <td>3643.000000</td>\n      <td>56.000000</td>\n      <td>999.000000</td>\n      <td>6.000000</td>\n      <td>1.400000</td>\n      <td>94.767000</td>\n      <td>-26.900000</td>\n      <td>5.045000</td>\n      <td>5228.100000</td>\n    </tr>\n  </tbody>\n</table>\n</div>",
            "text/plain": "                age      duration      campaign         pdays      previous  \\\ncount  10297.000000  10297.000000  10297.000000  10297.000000  10297.000000   \nmean      40.080606    261.388268      2.561134    963.609692      0.171506   \nstd       10.472190    263.722874      2.827084    184.098592      0.496992   \nmin       18.000000      0.000000      1.000000      0.000000      0.000000   \n25%       32.000000    103.000000      1.000000    999.000000      0.000000   \n50%       38.000000    180.000000      2.000000    999.000000      0.000000   \n75%       47.000000    327.000000      3.000000    999.000000      0.000000   \nmax       94.000000   3643.000000     56.000000    999.000000      6.000000   \n\n       emp.var.rate  cons.price.idx  cons.conf.idx     euribor3m   nr.employed  \ncount  10297.000000    10297.000000   10297.000000  10297.000000  10297.000000  \nmean       0.077256       93.574206     -40.445780      3.621923   5166.850442  \nstd        1.576732        0.577502       4.622221      1.734170     72.492914  \nmin       -3.400000       92.201000     -50.800000      0.634000   4963.600000  \n25%       -1.800000       93.075000     -42.700000      1.344000   5099.100000  \n50%        1.100000       93.749000     -41.800000      4.857000   5191.000000  \n75%        1.400000       93.994000     -36.400000      4.961000   5228.100000  \nmax        1.400000       94.767000     -26.900000      5.045000   5228.100000  "
          },
          "metadata": {}
        }
      ]
    },
    {
      "metadata": {
        "colab_type": "text",
        "id": "yTIXcVRyU8ja"
      },
      "cell_type": "markdown",
      "source": "### Check the info of the dataset"
    },
    {
      "metadata": {
        "colab": {
          "base_uri": "https://localhost:8080/",
          "height": 495
        },
        "colab_type": "code",
        "id": "UDIhfsO3oXnZ",
        "outputId": "0d136bf1-75c7-4593-8597-76048cfac781",
        "trusted": true
      },
      "cell_type": "code",
      "source": "bank.info() ",
      "execution_count": 5,
      "outputs": [
        {
          "output_type": "stream",
          "text": "<class 'pandas.core.frame.DataFrame'>\nRangeIndex: 10297 entries, 0 to 10296\nData columns (total 21 columns):\nage               10297 non-null int64\njob               10297 non-null object\nmarital           10297 non-null object\neducation         10297 non-null object\ndefault           10297 non-null object\nhousing           10297 non-null object\nloan              10297 non-null object\ncontact           10297 non-null object\nmonth             10297 non-null object\nday_of_week       10297 non-null object\nduration          10297 non-null int64\ncampaign          10297 non-null int64\npdays             10297 non-null int64\nprevious          10297 non-null int64\npoutcome          10297 non-null object\nemp.var.rate      10297 non-null float64\ncons.price.idx    10297 non-null float64\ncons.conf.idx     10297 non-null float64\neuribor3m         10297 non-null float64\nnr.employed       10297 non-null float64\ny                 10297 non-null object\ndtypes: float64(5), int64(5), object(11)\nmemory usage: 1.6+ MB\n",
          "name": "stdout"
        }
      ]
    },
    {
      "metadata": {
        "colab_type": "text",
        "id": "w84BIPaiU8j3"
      },
      "cell_type": "markdown",
      "source": "### Count of Yes and No for the term deposit"
    },
    {
      "metadata": {
        "colab": {
          "base_uri": "https://localhost:8080/",
          "height": 72
        },
        "colab_type": "code",
        "id": "FhCPEoQRU8j8",
        "outputId": "cf2071a9-9758-4bcc-ac11-e24f7a8812b1",
        "trusted": true
      },
      "cell_type": "code",
      "source": "bank.y.value_counts()",
      "execution_count": 6,
      "outputs": [
        {
          "output_type": "execute_result",
          "execution_count": 6,
          "data": {
            "text/plain": "no     9137\nyes    1160\nName: y, dtype: int64"
          },
          "metadata": {}
        }
      ]
    },
    {
      "metadata": {
        "colab_type": "text",
        "id": "DFQmK8yEoXoY"
      },
      "cell_type": "markdown",
      "source": "### Q 1. Write a code to check the missing values present in the dataset."
    },
    {
      "metadata": {
        "colab": {
          "base_uri": "https://localhost:8080/",
          "height": 421
        },
        "colab_type": "code",
        "id": "YyWsdU1goXoc",
        "outputId": "bc8c192b-4b1c-43e1-fe29-a5d70e2440c9",
        "trusted": true
      },
      "cell_type": "code",
      "source": "def me():\n    print(bank.isnull().sum())\nme()",
      "execution_count": 7,
      "outputs": [
        {
          "output_type": "stream",
          "text": "age               0\njob               0\nmarital           0\neducation         0\ndefault           0\nhousing           0\nloan              0\ncontact           0\nmonth             0\nday_of_week       0\nduration          0\ncampaign          0\npdays             0\nprevious          0\npoutcome          0\nemp.var.rate      0\ncons.price.idx    0\ncons.conf.idx     0\neuribor3m         0\nnr.employed       0\ny                 0\ndtype: int64\n",
          "name": "stdout"
        }
      ]
    },
    {
      "metadata": {
        "colab_type": "text",
        "id": "AS_xU9-JoXov"
      },
      "cell_type": "markdown",
      "source": "### Q 2. Write a user defined function to calculate the Inter quartile range for quantile values outside 25 to 75 range. And do the outlier capping for lower level with min value and for upper level with 'q3=1.5*iqr' value."
    },
    {
      "metadata": {
        "colab": {},
        "colab_type": "code",
        "id": "b8xY5HIBoXox",
        "trusted": true
      },
      "cell_type": "code",
      "source": "def remove_outlier(df_in, col_name):\n    q1 = df_in[col_name].quantile(0.25)\n    q3 = df_in[col_name].quantile(0.75)\n    iqr = q3-q1 \n    lower_bound = df_in[col_name].min()\n    upper_bound = q3+1.5*iqr\n    print('Column',col_name,'IQR lower bound and upper bound are', lower_bound, 'and', upper_bound, 'respectively')\n    df_out = df_in.loc[(df_in[col_name] > lower_bound) & (df_in[col_name] < upper_bound)]\n    return df_out",
      "execution_count": 8,
      "outputs": []
    },
    {
      "metadata": {
        "colab_type": "text",
        "id": "he46Wf0VU8lI"
      },
      "cell_type": "markdown",
      "source": "### Q 2.1 Using the above created function , remove the outlier from 'age' variables:"
    },
    {
      "metadata": {
        "colab": {
          "base_uri": "https://localhost:8080/",
          "height": 35
        },
        "colab_type": "code",
        "id": "n4NjbpBwU8lN",
        "outputId": "1b42d867-e421-4d20-a56b-7ff79a840cb9",
        "trusted": true
      },
      "cell_type": "code",
      "source": "def me(bank):\n    return remove_outlier(bank,'age')\nbank = me(bank) ",
      "execution_count": 9,
      "outputs": [
        {
          "output_type": "stream",
          "text": "Column age IQR lower bound and upper bound are 18 and 69.5 respectively\n",
          "name": "stdout"
        }
      ]
    },
    {
      "metadata": {
        "colab_type": "text",
        "id": "5rCEc9iAU8lk"
      },
      "cell_type": "markdown",
      "source": "### Q 2.2 Using the above created function , remove the outlier from 'campaign' variables:"
    },
    {
      "metadata": {
        "colab": {
          "base_uri": "https://localhost:8080/",
          "height": 35
        },
        "colab_type": "code",
        "id": "q1BW91sAU8lq",
        "outputId": "b5c2c56c-3e6d-433d-ad29-bb1f20ae5359",
        "trusted": true
      },
      "cell_type": "code",
      "source": "def me(bank):\n    return remove_outlier(bank,'campaign')\nbank = me(bank) ",
      "execution_count": 10,
      "outputs": [
        {
          "output_type": "stream",
          "text": "Column campaign IQR lower bound and upper bound are 1 and 6.0 respectively\n",
          "name": "stdout"
        }
      ]
    },
    {
      "metadata": {
        "colab_type": "text",
        "id": "FyofSnJdU8mC"
      },
      "cell_type": "markdown",
      "source": "### Q 2.3 Using the above created function , remove the outlier from 'duration' variables:"
    },
    {
      "metadata": {
        "colab": {
          "base_uri": "https://localhost:8080/",
          "height": 35
        },
        "colab_type": "code",
        "id": "EFsnl7d_U8mJ",
        "outputId": "34eeed76-1c73-4952-fa4a-75471f76b190",
        "trusted": true
      },
      "cell_type": "code",
      "source": "def me(bank):\n    return remove_outlier(bank,'duration')\nbank = me(bank) ",
      "execution_count": 11,
      "outputs": [
        {
          "output_type": "stream",
          "text": "Column duration IQR lower bound and upper bound are 0 and 684.0 respectively\n",
          "name": "stdout"
        }
      ]
    },
    {
      "metadata": {
        "colab_type": "text",
        "id": "HLlfELTEU8md"
      },
      "cell_type": "markdown",
      "source": "### Dividing dataset into two, on the basis of categorical and numerical."
    },
    {
      "metadata": {
        "colab": {},
        "colab_type": "code",
        "id": "9tXuJ6FtU8mi",
        "trusted": true
      },
      "cell_type": "code",
      "source": "bank_cat=bank[['job', 'marital','default', 'education', 'loan', 'housing', 'contact', 'month', 'day_of_week', 'poutcome', 'y']]",
      "execution_count": 12,
      "outputs": []
    },
    {
      "metadata": {
        "colab": {},
        "colab_type": "code",
        "id": "Jt2Xwn4FU8m1",
        "trusted": true
      },
      "cell_type": "code",
      "source": "bank_cont = bank.drop(['job', 'marital','default', 'education', 'loan', 'housing', 'contact', 'month', 'day_of_week', 'poutcome', 'y'], axis=1)",
      "execution_count": 13,
      "outputs": []
    },
    {
      "metadata": {
        "colab_type": "text",
        "id": "WE1w4vgcoXpP"
      },
      "cell_type": "markdown",
      "source": "### Q 3. Label encode the below mentioned categorical variable to numerical values.\n``` ['job', 'marital','default', 'education', 'loan', 'housing', 'contact', 'month', 'day_of_week', 'poutcome', 'y'] ```"
    },
    {
      "metadata": {
        "colab": {},
        "colab_type": "code",
        "id": "Nkcuko4HU8nK",
        "trusted": true
      },
      "cell_type": "code",
      "source": "from sklearn.preprocessing import LabelEncoder\ndef me(bank_cat):\n    return bank_cat.apply(LabelEncoder().fit_transform)\nbank_cat = me(bank_cat)",
      "execution_count": 14,
      "outputs": []
    },
    {
      "metadata": {
        "colab_type": "text",
        "id": "SuRcfr_oU8nY"
      },
      "cell_type": "markdown",
      "source": "### Combining the numerical and categorical dataset."
    },
    {
      "metadata": {
        "colab": {},
        "colab_type": "code",
        "id": "0GCw5hTRU8nZ",
        "trusted": true
      },
      "cell_type": "code",
      "source": "bank_final= pd.concat([bank_cont, bank_cat], axis = 1)\n# bank_final",
      "execution_count": 15,
      "outputs": []
    },
    {
      "metadata": {
        "colab_type": "text",
        "id": "CcPZnIwUoXsz"
      },
      "cell_type": "markdown",
      "source": "### Q 4. Extract the independent columns to prepare X "
    },
    {
      "metadata": {
        "colab": {
          "base_uri": "https://localhost:8080/",
          "height": 226
        },
        "colab_type": "code",
        "id": "hDJYsbNgoXs0",
        "outputId": "20068cf2-9497-4e88-b2ae-100c3507fc93",
        "trusted": true
      },
      "cell_type": "code",
      "source": "X = pd.DataFrame()\ndef me():\n    X = bank_final.loc[:,bank.columns != 'y']\n    return X\nX = me()",
      "execution_count": 16,
      "outputs": []
    },
    {
      "metadata": {
        "trusted": true
      },
      "cell_type": "code",
      "source": "X.head()",
      "execution_count": 17,
      "outputs": [
        {
          "output_type": "execute_result",
          "execution_count": 17,
          "data": {
            "text/html": "<div>\n<table border=\"1\" class=\"dataframe\">\n  <thead>\n    <tr style=\"text-align: right;\">\n      <th></th>\n      <th>age</th>\n      <th>duration</th>\n      <th>campaign</th>\n      <th>pdays</th>\n      <th>previous</th>\n      <th>emp.var.rate</th>\n      <th>cons.price.idx</th>\n      <th>cons.conf.idx</th>\n      <th>euribor3m</th>\n      <th>nr.employed</th>\n      <th>job</th>\n      <th>marital</th>\n      <th>default</th>\n      <th>education</th>\n      <th>loan</th>\n      <th>housing</th>\n      <th>contact</th>\n      <th>month</th>\n      <th>day_of_week</th>\n      <th>poutcome</th>\n    </tr>\n  </thead>\n  <tbody>\n    <tr>\n      <th>0</th>\n      <td>46</td>\n      <td>329</td>\n      <td>3</td>\n      <td>999</td>\n      <td>0</td>\n      <td>1.1</td>\n      <td>93.994</td>\n      <td>-36.4</td>\n      <td>4.857</td>\n      <td>5191.0</td>\n      <td>1</td>\n      <td>1</td>\n      <td>0</td>\n      <td>2</td>\n      <td>2</td>\n      <td>0</td>\n      <td>1</td>\n      <td>6</td>\n      <td>3</td>\n      <td>1</td>\n    </tr>\n    <tr>\n      <th>1</th>\n      <td>29</td>\n      <td>132</td>\n      <td>2</td>\n      <td>999</td>\n      <td>0</td>\n      <td>-1.8</td>\n      <td>92.893</td>\n      <td>-46.2</td>\n      <td>1.281</td>\n      <td>5099.1</td>\n      <td>0</td>\n      <td>2</td>\n      <td>0</td>\n      <td>6</td>\n      <td>0</td>\n      <td>0</td>\n      <td>0</td>\n      <td>6</td>\n      <td>4</td>\n      <td>1</td>\n    </tr>\n    <tr>\n      <th>3</th>\n      <td>31</td>\n      <td>199</td>\n      <td>2</td>\n      <td>999</td>\n      <td>0</td>\n      <td>1.1</td>\n      <td>93.994</td>\n      <td>-36.4</td>\n      <td>4.860</td>\n      <td>5191.0</td>\n      <td>0</td>\n      <td>1</td>\n      <td>1</td>\n      <td>3</td>\n      <td>0</td>\n      <td>2</td>\n      <td>1</td>\n      <td>6</td>\n      <td>2</td>\n      <td>1</td>\n    </tr>\n    <tr>\n      <th>5</th>\n      <td>33</td>\n      <td>174</td>\n      <td>4</td>\n      <td>999</td>\n      <td>0</td>\n      <td>1.4</td>\n      <td>93.444</td>\n      <td>-36.1</td>\n      <td>4.963</td>\n      <td>5228.1</td>\n      <td>0</td>\n      <td>2</td>\n      <td>0</td>\n      <td>6</td>\n      <td>2</td>\n      <td>2</td>\n      <td>0</td>\n      <td>1</td>\n      <td>1</td>\n      <td>1</td>\n    </tr>\n    <tr>\n      <th>8</th>\n      <td>34</td>\n      <td>65</td>\n      <td>2</td>\n      <td>999</td>\n      <td>1</td>\n      <td>-1.8</td>\n      <td>92.893</td>\n      <td>-46.2</td>\n      <td>1.281</td>\n      <td>5099.1</td>\n      <td>1</td>\n      <td>1</td>\n      <td>1</td>\n      <td>5</td>\n      <td>0</td>\n      <td>0</td>\n      <td>0</td>\n      <td>6</td>\n      <td>4</td>\n      <td>0</td>\n    </tr>\n  </tbody>\n</table>\n</div>",
            "text/plain": "   age  duration  campaign  pdays  previous  emp.var.rate  cons.price.idx  \\\n0   46       329         3    999         0           1.1          93.994   \n1   29       132         2    999         0          -1.8          92.893   \n3   31       199         2    999         0           1.1          93.994   \n5   33       174         4    999         0           1.4          93.444   \n8   34        65         2    999         1          -1.8          92.893   \n\n   cons.conf.idx  euribor3m  nr.employed  job  marital  default  education  \\\n0          -36.4      4.857       5191.0    1        1        0          2   \n1          -46.2      1.281       5099.1    0        2        0          6   \n3          -36.4      4.860       5191.0    0        1        1          3   \n5          -36.1      4.963       5228.1    0        2        0          6   \n8          -46.2      1.281       5099.1    1        1        1          5   \n\n   loan  housing  contact  month  day_of_week  poutcome  \n0     2        0        1      6            3         1  \n1     0        0        0      6            4         1  \n3     0        2        1      6            2         1  \n5     2        2        0      1            1         1  \n8     0        0        0      6            4         0  "
          },
          "metadata": {}
        }
      ]
    },
    {
      "metadata": {
        "colab_type": "text",
        "id": "wHcJANUYoXtF"
      },
      "cell_type": "markdown",
      "source": "### Q 5. Extract dependent column into a dataframe 'y' for model prediction"
    },
    {
      "metadata": {
        "colab": {
          "base_uri": "https://localhost:8080/",
          "height": 206
        },
        "colab_type": "code",
        "id": "hHMKoEstorlz",
        "outputId": "8994d426-376a-48a0-c4a1-eb422751b707",
        "trusted": true
      },
      "cell_type": "code",
      "source": "y = pd.DataFrame()\ndef me():\n    y = bank_final.loc[:,bank.columns == 'y']\n    return y\ny = me()",
      "execution_count": 18,
      "outputs": []
    },
    {
      "metadata": {
        "trusted": true
      },
      "cell_type": "code",
      "source": "y.head()",
      "execution_count": 19,
      "outputs": [
        {
          "output_type": "execute_result",
          "execution_count": 19,
          "data": {
            "text/html": "<div>\n<table border=\"1\" class=\"dataframe\">\n  <thead>\n    <tr style=\"text-align: right;\">\n      <th></th>\n      <th>y</th>\n    </tr>\n  </thead>\n  <tbody>\n    <tr>\n      <th>0</th>\n      <td>0</td>\n    </tr>\n    <tr>\n      <th>1</th>\n      <td>0</td>\n    </tr>\n    <tr>\n      <th>3</th>\n      <td>0</td>\n    </tr>\n    <tr>\n      <th>5</th>\n      <td>0</td>\n    </tr>\n    <tr>\n      <th>8</th>\n      <td>0</td>\n    </tr>\n  </tbody>\n</table>\n</div>",
            "text/plain": "   y\n0  0\n1  0\n3  0\n5  0\n8  0"
          },
          "metadata": {}
        }
      ]
    },
    {
      "metadata": {
        "colab_type": "text",
        "id": "JTmL7SIeoXtK"
      },
      "cell_type": "markdown",
      "source": "### Q 6. Splitting X and y into train and test dataset"
    },
    {
      "metadata": {
        "colab": {
          "base_uri": "https://localhost:8080/",
          "height": 74
        },
        "colab_type": "code",
        "id": "w-f6KcKzoXtM",
        "outputId": "c74bd04f-9ab5-490e-9ed0-4ca81d9e2430",
        "trusted": true
      },
      "cell_type": "code",
      "source": "from sklearn.cross_validation import train_test_split\ndef log():\n    return train_test_split(X, y, test_size=0.25, random_state=1)\nX_train, X_test, y_train, y_test = log()",
      "execution_count": 20,
      "outputs": [
        {
          "output_type": "stream",
          "text": "/home/nbuser/anaconda3_420/lib/python3.5/site-packages/sklearn/cross_validation.py:41: DeprecationWarning: This module was deprecated in version 0.18 in favor of the model_selection module into which all the refactored classes and functions are moved. Also note that the interface of the new CV iterators are different from that of this module. This module will be removed in 0.20.\n  \"This module will be removed in 0.20.\", DeprecationWarning)\n",
          "name": "stderr"
        }
      ]
    },
    {
      "metadata": {
        "colab_type": "text",
        "id": "-IStU1XdoXtZ"
      },
      "cell_type": "markdown",
      "source": "### Check the shape of X an y of train dataset."
    },
    {
      "metadata": {
        "colab": {
          "base_uri": "https://localhost:8080/",
          "height": 54
        },
        "colab_type": "code",
        "id": "16m9WrO3oXtb",
        "outputId": "e8275877-b763-4fc0-f2f1-9832c8a54274",
        "trusted": true
      },
      "cell_type": "code",
      "source": "def me():\n    print(X_train.shape)\n    print(y_train.shape)\nme()",
      "execution_count": 21,
      "outputs": [
        {
          "output_type": "stream",
          "text": "(3465, 20)\n(3465, 1)\n",
          "name": "stdout"
        }
      ]
    },
    {
      "metadata": {
        "colab_type": "text",
        "id": "6MDCzbAPoXth"
      },
      "cell_type": "markdown",
      "source": "### Check the shape of X and y of test dataset."
    },
    {
      "metadata": {
        "colab": {
          "base_uri": "https://localhost:8080/",
          "height": 54
        },
        "colab_type": "code",
        "id": "jqz4Hhm2oXti",
        "outputId": "63e71691-7279-4cde-c87a-4680f9c0db20",
        "trusted": true
      },
      "cell_type": "code",
      "source": "def me():\n    print(X_test.shape)\n    print(y_test.shape)\nme()",
      "execution_count": 22,
      "outputs": [
        {
          "output_type": "stream",
          "text": "(1156, 20)\n(1156, 1)\n",
          "name": "stdout"
        }
      ]
    },
    {
      "metadata": {
        "colab_type": "text",
        "id": "j-WWbUBMoXty"
      },
      "cell_type": "markdown",
      "source": "### Q 7. Instantiate RandomForestClassifier using scikit-learn with (n_estimators=600)"
    },
    {
      "metadata": {
        "colab": {},
        "colab_type": "code",
        "id": "oYhaCzUxoXtz",
        "trusted": true
      },
      "cell_type": "code",
      "source": "from sklearn.ensemble import RandomForestClassifier\ndef me():\n    rf = RandomForestClassifier(n_estimators=600)\n    return rf\nrf = me()",
      "execution_count": 23,
      "outputs": [
        {
          "output_type": "stream",
          "text": "/home/nbuser/anaconda3_420/lib/python3.5/site-packages/sklearn/ensemble/weight_boosting.py:29: DeprecationWarning: numpy.core.umath_tests is an internal NumPy module and should not be imported. It will be removed in a future NumPy release.\n  from numpy.core.umath_tests import inner1d\n",
          "name": "stderr"
        }
      ]
    },
    {
      "metadata": {
        "colab_type": "text",
        "id": "WaRZqThOU8pP"
      },
      "cell_type": "markdown",
      "source": "### Q 8. Fit the model"
    },
    {
      "metadata": {
        "colab": {
          "base_uri": "https://localhost:8080/",
          "height": 202
        },
        "colab_type": "code",
        "id": "EYBw18RvU8pT",
        "outputId": "ad253fb9-8fc3-447b-aeea-960c033420e4",
        "trusted": true
      },
      "cell_type": "code",
      "source": "def me():\n    return rf.fit(X_train,y_train)\nme()",
      "execution_count": 24,
      "outputs": [
        {
          "output_type": "stream",
          "text": "/home/nbuser/anaconda3_420/lib/python3.5/site-packages/ipykernel/__main__.py:2: DataConversionWarning: A column-vector y was passed when a 1d array was expected. Please change the shape of y to (n_samples,), for example using ravel().\n  from ipykernel import kernelapp as app\n",
          "name": "stderr"
        },
        {
          "output_type": "execute_result",
          "execution_count": 24,
          "data": {
            "text/plain": "RandomForestClassifier(bootstrap=True, class_weight=None, criterion='gini',\n            max_depth=None, max_features='auto', max_leaf_nodes=None,\n            min_impurity_decrease=0.0, min_impurity_split=None,\n            min_samples_leaf=1, min_samples_split=2,\n            min_weight_fraction_leaf=0.0, n_estimators=600, n_jobs=1,\n            oob_score=False, random_state=None, verbose=0,\n            warm_start=False)"
          },
          "metadata": {}
        }
      ]
    },
    {
      "metadata": {
        "colab_type": "text",
        "id": "uRWVhEQhU8pg"
      },
      "cell_type": "markdown",
      "source": "### Q 9. Use the model for predictions"
    },
    {
      "metadata": {
        "colab": {},
        "colab_type": "code",
        "id": "1cM_n1hrU8pl",
        "trusted": true
      },
      "cell_type": "code",
      "source": "predictions_new = pd.DataFrame()\ndef me():\n    predictions_new = rf.predict(X_test)\n    return predictions_new\npredictions_new = me()",
      "execution_count": 25,
      "outputs": []
    },
    {
      "metadata": {
        "colab_type": "text",
        "id": "g1ZcThNEU8pw"
      },
      "cell_type": "markdown",
      "source": "### Q 10. Model evaluation using accuracy score"
    },
    {
      "metadata": {
        "colab": {
          "base_uri": "https://localhost:8080/",
          "height": 35
        },
        "colab_type": "code",
        "id": "QcOZ6-T3U8p1",
        "outputId": "72ff34f5-3e7d-4c3c-c81d-7c22f7209467",
        "trusted": true
      },
      "cell_type": "code",
      "source": "from sklearn.metrics import accuracy_score\ndef me():\n    print('Accuracy score for test data with model rf is:',accuracy_score(y_test, predictions_new))\nme()",
      "execution_count": 26,
      "outputs": [
        {
          "output_type": "stream",
          "text": "Accuracy score for test data with model rf is: 0.9420415224913494\n",
          "name": "stdout"
        }
      ]
    },
    {
      "metadata": {
        "colab_type": "text",
        "id": "98sOG1W4U8qB"
      },
      "cell_type": "markdown",
      "source": "### Q 11. Model evaluation using confusion matrix"
    },
    {
      "metadata": {
        "colab": {
          "base_uri": "https://localhost:8080/",
          "height": 54
        },
        "colab_type": "code",
        "id": "Sm7EqIBB_BhK",
        "outputId": "13c3b55e-8869-4813-869b-3c17d87c72b6",
        "trusted": true
      },
      "cell_type": "code",
      "source": "from sklearn.metrics import confusion_matrix\nconfusion_matrix = pd.DataFrame(confusion_matrix(y_test, predictions_new))\ndef me():\n    confusion_matrix.index = ['Actual No_Deposit','Actual Deposit']\n    confusion_matrix.columns = ['Predicted No_Deposit','Predicted Deposit']\n    print(confusion_matrix)\nme()",
      "execution_count": 27,
      "outputs": [
        {
          "output_type": "stream",
          "text": "                   Predicted No_Deposit  Predicted Deposit\nActual No_Deposit                  1059                 17\nActual Deposit                       50                 30\n",
          "name": "stdout"
        }
      ]
    },
    {
      "metadata": {
        "colab_type": "text",
        "id": "MajES6AXU8rN"
      },
      "cell_type": "markdown",
      "source": "### Q 12. Model evaluation using Precision score"
    },
    {
      "metadata": {
        "colab": {
          "base_uri": "https://localhost:8080/",
          "height": 35
        },
        "colab_type": "code",
        "id": "PQ26tCVlU8rO",
        "outputId": "92c6124e-3063-4698-d8e6-fb47ef49dc43",
        "trusted": true
      },
      "cell_type": "code",
      "source": "from sklearn.metrics import precision_score\ndef me():\n    precision = precision_score(y_test,predictions_new)\n    print('Precision score for test data using model rf is:', precision)\n    return precision\nme()",
      "execution_count": 28,
      "outputs": [
        {
          "output_type": "stream",
          "text": "Precision score for test data using model rf is: 0.6382978723404256\n",
          "name": "stdout"
        },
        {
          "output_type": "execute_result",
          "execution_count": 28,
          "data": {
            "text/plain": "0.6382978723404256"
          },
          "metadata": {}
        }
      ]
    },
    {
      "metadata": {
        "colab_type": "text",
        "id": "8miLygnWU8rW"
      },
      "cell_type": "markdown",
      "source": "### Q 13. Model evaluation using Recall score"
    },
    {
      "metadata": {
        "colab": {
          "base_uri": "https://localhost:8080/",
          "height": 35
        },
        "colab_type": "code",
        "id": "JuaUrB5FU8rY",
        "outputId": "2ccdcea2-227d-4129-ffa1-2ea75bc6e920",
        "trusted": true
      },
      "cell_type": "code",
      "source": "from sklearn.metrics import recall_score\n\ndef me():\n    recall2 = recall_score(y_test,predictions_new)\n    print('Recall score for test data using model rf is:',recall2) \n    return recall2\nme()",
      "execution_count": 29,
      "outputs": [
        {
          "output_type": "stream",
          "text": "Recall score for test data using model rf is: 0.375\n",
          "name": "stdout"
        },
        {
          "output_type": "execute_result",
          "execution_count": 29,
          "data": {
            "text/plain": "0.375"
          },
          "metadata": {}
        }
      ]
    },
    {
      "metadata": {
        "colab_type": "text",
        "id": "DQdOfwu5U8rf"
      },
      "cell_type": "markdown",
      "source": "### Q 14. Model evaluation using F1-score"
    },
    {
      "metadata": {
        "colab": {
          "base_uri": "https://localhost:8080/",
          "height": 35
        },
        "colab_type": "code",
        "id": "qBILEidZU8rh",
        "outputId": "69d35abf-2466-457f-e5d9-b00ca6f371d5",
        "trusted": true
      },
      "cell_type": "code",
      "source": "from sklearn.metrics import f1_score\ndef me():\n    print('F1_score for test data using model rfc is:',f1_score(y_test, predictions_new))\nme()",
      "execution_count": 30,
      "outputs": [
        {
          "output_type": "stream",
          "text": "F1_score for test data using model rfc is: 0.47244094488188976\n",
          "name": "stdout"
        }
      ]
    },
    {
      "metadata": {
        "colab_type": "text",
        "id": "shis15srU8r4"
      },
      "cell_type": "markdown",
      "source": "### Q 15. Model evaluation using ROC_AUC score"
    },
    {
      "metadata": {
        "colab": {
          "base_uri": "https://localhost:8080/",
          "height": 376
        },
        "colab_type": "code",
        "id": "gMeSipWAXssC",
        "outputId": "718ad579-63bc-4cd4-b1b1-80a2cd7bf552",
        "trusted": true
      },
      "cell_type": "code",
      "source": "from sklearn import metrics\ndef me():\n    probs = rf.predict_proba(X_test)\n    preds = probs[:,1]\n    fpr, tpr, threshold = metrics.roc_curve(y_test, preds)\n    roc_auc = metrics.auc(fpr, tpr)\n    \n    import matplotlib.pyplot as plt\n    plt.title('Receiver Operating Characteristic')\n    plt.plot(fpr, tpr, 'b', label = 'AUC = %0.2f' % roc_auc)\n    plt.legend(loc = 'lower right')\n    plt.plot([0, 1], [0, 1],'r--')\n    plt.xlim([0, 1])\n    plt.ylim([0, 1])\n    plt.ylabel('True Positive Rate')\n    plt.xlabel('False Positive Rate')\n    plt.show()\n    return roc_auc\nme()",
      "execution_count": 31,
      "outputs": [
        {
          "output_type": "display_data",
          "data": {
            "text/plain": "<matplotlib.figure.Figure at 0x7fa44e90b978>"
          },
          "metadata": {}
        },
        {
          "output_type": "execute_result",
          "execution_count": 31,
          "data": {
            "text/plain": "0.9445690055762082"
          },
          "metadata": {}
        }
      ]
    },
    {
      "metadata": {
        "colab_type": "text",
        "id": "j-WWbUBMoXty"
      },
      "cell_type": "markdown",
      "source": "### Q 16.1. Instantiate RandomForestClassifier using scikit-learn with (criterion='entropy',n_estimators = 100, random_state = 0, max_depth = 2, min_samples_split=4, min_samples_leaf=3, max_leaf_nodes=5, class_weight='balanced')"
    },
    {
      "metadata": {
        "colab": {},
        "colab_type": "code",
        "id": "oYhaCzUxoXtz",
        "trusted": true
      },
      "cell_type": "code",
      "source": "from sklearn.ensemble import RandomForestClassifier\ndef me():\n    rfc = RandomForestClassifier(criterion='entropy',n_estimators = 100, random_state = 0, \n                                 max_depth = 2, min_samples_split=4, min_samples_leaf=3, \n                                 max_leaf_nodes=5, class_weight='balanced')\n    return rfc\nrfc = me()",
      "execution_count": 32,
      "outputs": []
    },
    {
      "metadata": {
        "colab_type": "text",
        "id": "WaRZqThOU8pP"
      },
      "cell_type": "markdown",
      "source": "### 16.2. Fit the model"
    },
    {
      "metadata": {
        "colab": {
          "base_uri": "https://localhost:8080/",
          "height": 202
        },
        "colab_type": "code",
        "id": "EYBw18RvU8pT",
        "outputId": "ad253fb9-8fc3-447b-aeea-960c033420e4",
        "trusted": true
      },
      "cell_type": "code",
      "source": "def me():\n    return rfc.fit(X_train, y_train)\nme()",
      "execution_count": 33,
      "outputs": [
        {
          "output_type": "stream",
          "text": "/home/nbuser/anaconda3_420/lib/python3.5/site-packages/ipykernel/__main__.py:2: DataConversionWarning: A column-vector y was passed when a 1d array was expected. Please change the shape of y to (n_samples,), for example using ravel().\n  from ipykernel import kernelapp as app\n",
          "name": "stderr"
        },
        {
          "output_type": "execute_result",
          "execution_count": 33,
          "data": {
            "text/plain": "RandomForestClassifier(bootstrap=True, class_weight='balanced',\n            criterion='entropy', max_depth=2, max_features='auto',\n            max_leaf_nodes=5, min_impurity_decrease=0.0,\n            min_impurity_split=None, min_samples_leaf=3,\n            min_samples_split=4, min_weight_fraction_leaf=0.0,\n            n_estimators=100, n_jobs=1, oob_score=False, random_state=0,\n            verbose=0, warm_start=False)"
          },
          "metadata": {}
        }
      ]
    },
    {
      "metadata": {
        "colab_type": "text",
        "id": "uRWVhEQhU8pg"
      },
      "cell_type": "markdown",
      "source": "### Q 16.3. Use the model for predictions"
    },
    {
      "metadata": {
        "colab": {},
        "colab_type": "code",
        "id": "1cM_n1hrU8pl",
        "trusted": true
      },
      "cell_type": "code",
      "source": "predictions = pd.DataFrame()\ndef me():\n    predictions = rfc.predict(X_test)   \n    return predictions\npredictions = me()",
      "execution_count": 34,
      "outputs": []
    },
    {
      "metadata": {
        "colab_type": "text",
        "id": "g1ZcThNEU8pw"
      },
      "cell_type": "markdown",
      "source": "### Q 16.4. Model evaluation using accuracy score"
    },
    {
      "metadata": {
        "colab": {
          "base_uri": "https://localhost:8080/",
          "height": 35
        },
        "colab_type": "code",
        "id": "QcOZ6-T3U8p1",
        "outputId": "72ff34f5-3e7d-4c3c-c81d-7c22f7209467",
        "trusted": true
      },
      "cell_type": "code",
      "source": "from sklearn.metrics import accuracy_score\ndef me():\n    print('Accuracy score for test data using the model rfc:', accuracy_score(y_test,predictions))\nme()",
      "execution_count": 35,
      "outputs": [
        {
          "output_type": "stream",
          "text": "Accuracy score for test data using the model rfc: 0.879757785467128\n",
          "name": "stdout"
        }
      ]
    },
    {
      "metadata": {
        "colab_type": "text",
        "id": "98sOG1W4U8qB"
      },
      "cell_type": "markdown",
      "source": "### Q 16.5. Model evaluation using confusion matrix"
    },
    {
      "metadata": {
        "colab": {
          "base_uri": "https://localhost:8080/",
          "height": 54
        },
        "colab_type": "code",
        "id": "Sm7EqIBB_BhK",
        "outputId": "13c3b55e-8869-4813-869b-3c17d87c72b6",
        "trusted": true
      },
      "cell_type": "code",
      "source": "from sklearn.metrics import confusion_matrix\nconfusion_matrix = pd.DataFrame(confusion_matrix(y_test, predictions))\ndef me():\n    confusion_matrix.index = ['Actual No_Deposit','Actual Deposit']\n    confusion_matrix.columns = ['Predicted No_Deposit','Predicted Deposit']\n    print(confusion_matrix)\nme()",
      "execution_count": 36,
      "outputs": [
        {
          "output_type": "stream",
          "text": "                   Predicted No_Deposit  Predicted Deposit\nActual No_Deposit                   963                113\nActual Deposit                       26                 54\n",
          "name": "stdout"
        }
      ]
    },
    {
      "metadata": {
        "colab_type": "text",
        "id": "MajES6AXU8rN"
      },
      "cell_type": "markdown",
      "source": "### Q 16.6. Model evaluation using Precision score"
    },
    {
      "metadata": {
        "colab": {
          "base_uri": "https://localhost:8080/",
          "height": 35
        },
        "colab_type": "code",
        "id": "PQ26tCVlU8rO",
        "outputId": "92c6124e-3063-4698-d8e6-fb47ef49dc43",
        "trusted": true
      },
      "cell_type": "code",
      "source": "from sklearn.metrics import precision_score\ndef me():\n    precision = precision_score(y_test,predictions)\n    print('Precision score for test data using model rfc is:', precision)\n    return precision\nme()",
      "execution_count": 37,
      "outputs": [
        {
          "output_type": "stream",
          "text": "Precision score for test data using model rfc is: 0.32335329341317365\n",
          "name": "stdout"
        },
        {
          "output_type": "execute_result",
          "execution_count": 37,
          "data": {
            "text/plain": "0.32335329341317365"
          },
          "metadata": {}
        }
      ]
    },
    {
      "metadata": {
        "colab_type": "text",
        "id": "8miLygnWU8rW"
      },
      "cell_type": "markdown",
      "source": "### Q 16.7. Model evaluation using Recall score"
    },
    {
      "metadata": {
        "colab": {
          "base_uri": "https://localhost:8080/",
          "height": 35
        },
        "colab_type": "code",
        "id": "JuaUrB5FU8rY",
        "outputId": "2ccdcea2-227d-4129-ffa1-2ea75bc6e920",
        "trusted": true
      },
      "cell_type": "code",
      "source": "from sklearn.metrics import recall_score\ndef me():\n    recall1 = recall_score(y_test,predictions)\n    print('Recall score for test data using model rfc is:',recall1)\n    return recall1\nrecall1 = me()",
      "execution_count": 38,
      "outputs": [
        {
          "output_type": "stream",
          "text": "Recall score for test data using model rfc is: 0.675\n",
          "name": "stdout"
        }
      ]
    },
    {
      "metadata": {
        "colab_type": "text",
        "id": "DQdOfwu5U8rf"
      },
      "cell_type": "markdown",
      "source": "### Q 16.8. Model evaluation using F1-score"
    },
    {
      "metadata": {
        "colab": {
          "base_uri": "https://localhost:8080/",
          "height": 35
        },
        "colab_type": "code",
        "id": "qBILEidZU8rh",
        "outputId": "69d35abf-2466-457f-e5d9-b00ca6f371d5",
        "trusted": true
      },
      "cell_type": "code",
      "source": "from sklearn.metrics import f1_score\ndef me():\n    print('F1_score for test data using model rfc is:',f1_score(y_test,predictions))\nme()",
      "execution_count": 39,
      "outputs": [
        {
          "output_type": "stream",
          "text": "F1_score for test data using model rfc is: 0.43724696356275305\n",
          "name": "stdout"
        }
      ]
    },
    {
      "metadata": {
        "colab_type": "text",
        "id": "shis15srU8r4"
      },
      "cell_type": "markdown",
      "source": "### Q 16.9. Model evaluation using ROC_AUC curve"
    },
    {
      "metadata": {
        "colab": {
          "base_uri": "https://localhost:8080/",
          "height": 376
        },
        "colab_type": "code",
        "id": "gMeSipWAXssC",
        "outputId": "718ad579-63bc-4cd4-b1b1-80a2cd7bf552",
        "trusted": true
      },
      "cell_type": "code",
      "source": "from sklearn import metrics\ndef me():\n    probs = rfc.predict_proba(X_test)\n    preds = probs[:,1]\n    fpr, tpr, threshold = metrics.roc_curve(y_test, preds)\n    roc_auc = metrics.auc(fpr, tpr)\n   \n    \n    import matplotlib.pyplot as plt\n    plt.title('Receiver Operating Characteristic')\n    plt.plot(fpr, tpr, 'b', label = 'AUC = %0.2f' % roc_auc)\n    plt.legend(loc = 'lower right')\n    plt.plot([0, 1], [0, 1],'r--')\n    plt.xlim([0, 1])\n    plt.ylim([0, 1])\n    plt.ylabel('True Positive Rate')\n    plt.xlabel('False Positive Rate')\n    plt.show()\n    return roc_auc\nme()",
      "execution_count": 40,
      "outputs": [
        {
          "output_type": "display_data",
          "data": {
            "image/png": "[encoded data removed]",
            "text/plain": "<matplotlib.figure.Figure at 0x7fa44e9022b0>"
          },
          "metadata": {}
        },
        {
          "output_type": "execute_result",
          "execution_count": 40,
          "data": {
            "text/plain": "0.9068192379182156"
          },
          "metadata": {}
        }
      ]
    },
    {
      "metadata": {},
      "cell_type": "markdown",
      "source": "### Q 17. What is the inference you can draw from 2 different models on the basis of recall score (provide the absolute score)."
    },
    {
      "metadata": {
        "trusted": true
      },
      "cell_type": "code",
      "source": "def me():\n    recall_diff = recall1\n    return recall_diff\nme()",
      "execution_count": 41,
      "outputs": [
        {
          "output_type": "execute_result",
          "execution_count": 41,
          "data": {
            "text/plain": "0.675"
          },
          "metadata": {}
        }
      ]
    },
    {
      "metadata": {},
      "cell_type": "markdown",
      "source": "### Conclusion \nIn this use case, the company stands to loose more if '__False Negative__' is not treated properly.\nRecall value of our first model in __Q.no.- 13__ is way lower than the other model created in __Q.no.-16__.\nTherefore, __second model__ is a better option for bank marketing."
    }
  ],
  "metadata": {
    "kernelspec": {
      "name": "python3",
      "display_name": "Python 3",
      "language": "python"
    },
    "language_info": {
      "mimetype": "text/x-python",
      "nbconvert_exporter": "python",
      "name": "python",
      "pygments_lexer": "ipython3",
      "version": "3.5.4",
      "file_extension": ".py",
      "codemirror_mode": {
        "version": 3,
        "name": "ipython"
      }
    }
  },
  "nbformat": 4,
  "nbformat_minor": 2
}