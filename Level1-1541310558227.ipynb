{
  "cells": [
    {
      "metadata": {},
      "cell_type": "markdown",
      "source": "<img src = 'https://github.com/insaid2018/Term-1/blob/master/Images/INSAID_Full%20Logo.png?raw=true' width=\"240\" height=\"360\">\n# __Assignment: Numpy and Pandas__\n### Level: 1"
    },
    {
      "metadata": {},
      "cell_type": "markdown",
      "source": "### 1. Create a null vector of size 7 but the third and last value as 2."
    },
    {
      "metadata": {
        "trusted": true
      },
      "cell_type": "code",
      "source": "import numpy as np\nimport pandas as pd",
      "execution_count": 1,
      "outputs": []
    },
    {
      "metadata": {
        "trusted": true
      },
      "cell_type": "code",
      "source": "import numpy as np\ndef generate():\n    vector=np.zeros(7)\n    vector[2]=2\n    vector[-1]=2\n    print(vector)\ngenerate()",
      "execution_count": 2,
      "outputs": [
        {
          "output_type": "stream",
          "text": "[0. 0. 2. 0. 0. 0. 2.]\n",
          "name": "stdout"
        }
      ]
    },
    {
      "metadata": {
        "trusted": true
      },
      "cell_type": "code",
      "source": "x = lambda a : a + 10\nprint(x(15))",
      "execution_count": 3,
      "outputs": [
        {
          "output_type": "stream",
          "text": "25\n",
          "name": "stdout"
        }
      ]
    },
    {
      "metadata": {},
      "cell_type": "markdown",
      "source": "### 2. Create a vector of size 9 with values ranging from 0 to 2, both excluded."
    },
    {
      "metadata": {
        "trusted": true
      },
      "cell_type": "code",
      "source": "import numpy as np\ndef generate():\n    vector=np.arange(0.2,2,0.2)\n    print(vector)\ngenerate()",
      "execution_count": 4,
      "outputs": [
        {
          "output_type": "stream",
          "text": "[0.2 0.4 0.6 0.8 1.  1.2 1.4 1.6 1.8]\n",
          "name": "stdout"
        }
      ]
    },
    {
      "metadata": {
        "trusted": true
      },
      "cell_type": "code",
      "source": "import numpy as np\ndef generate():\n    vector=np.linspace(0,2,num=11, endpoint=True)[1:-1]\n    print(vector)\ngenerate()",
      "execution_count": 5,
      "outputs": [
        {
          "output_type": "stream",
          "text": "[0.2 0.4 0.6 0.8 1.  1.2 1.4 1.6 1.8]\n",
          "name": "stdout"
        }
      ]
    },
    {
      "metadata": {},
      "cell_type": "markdown",
      "source": "### 3. Convert the first character of each element in a series to uppercase? And return the new series."
    },
    {
      "metadata": {
        "trusted": true
      },
      "cell_type": "code",
      "source": "import pandas as pd\nseries = pd.Series(['how', 'to', 'learn', 'data science?'])\ndef generate():\n    new_series = series.map(lambda x: x[0].upper() + x[1:])\n    #return new_series\n    print(new_series)\ngenerate() ",
      "execution_count": 6,
      "outputs": [
        {
          "output_type": "stream",
          "text": "0              How\n1               To\n2            Learn\n3    Data science?\ndtype: object\n",
          "name": "stdout"
        }
      ]
    },
    {
      "metadata": {},
      "cell_type": "markdown",
      "source": "### 4. Given a 3*3 matrix named matrix_fab, From each element of this matrix subtract the mean of that row, name this matrix as matrix_sub. Divide each element of this matrix by twice of the largest element to get matrix_norm. Print it out."
    },
    {
      "metadata": {
        "trusted": true
      },
      "cell_type": "code",
      "source": "import numpy as np\narr = np.arange(0,9)                                \nmatrix_fab = arr.reshape(3,3)\ndef generate():\n    matrix_sub=matrix_fab-matrix_fab.mean(axis = 1, keepdims = True)\n    matrix_norm=matrix_sub/(2*matrix_sub.max())\n    #return matrix_fab, matrix_sub,matrix_norm\n    print(matrix_fab,\"\\n\\n\", matrix_sub,\"\\n\\n\",matrix_norm)\ngenerate()",
      "execution_count": 7,
      "outputs": [
        {
          "output_type": "stream",
          "text": "[[0 1 2]\n [3 4 5]\n [6 7 8]] \n\n [[-1.  0.  1.]\n [-1.  0.  1.]\n [-1.  0.  1.]] \n\n [[-0.5  0.   0.5]\n [-0.5  0.   0.5]\n [-0.5  0.   0.5]]\n",
          "name": "stdout"
        }
      ]
    },
    {
      "metadata": {
        "trusted": true
      },
      "cell_type": "code",
      "source": "arr = np.arange(0,9)                                \nmatrix_fab = arr.reshape(3,3)\nmatrix_sub=matrix_fab-matrix_fab.mean(axis = 1, keepdims = True)\nmatrix_norm=matrix_sub/(2*matrix_sub.max())\nprint(matrix_fab)\nprint(matrix_sub)\nprint(matrix_norm)",
      "execution_count": 8,
      "outputs": [
        {
          "output_type": "stream",
          "text": "[[0 1 2]\n [3 4 5]\n [6 7 8]]\n[[-1.  0.  1.]\n [-1.  0.  1.]\n [-1.  0.  1.]]\n[[-0.5  0.   0.5]\n [-0.5  0.   0.5]\n [-0.5  0.   0.5]]\n",
          "name": "stdout"
        }
      ]
    },
    {
      "metadata": {},
      "cell_type": "markdown",
      "source": "### 5. Create a random vector of size 12 , sort it in decreasing order, make 4*3 array using it.\nHint: use reshape and sort function."
    },
    {
      "metadata": {
        "trusted": true
      },
      "cell_type": "code",
      "source": "import numpy as np\ndef generate():\n    arr=np.random.random(12)\n    arr1=np.array(sorted(arr,reverse=True))\n    arr2=arr1.reshape(4,3)\n    print(arr,\"\\n\\n\")\n    print(arr1,\"\\n\\n\")\n    print(arr2)\ngenerate()",
      "execution_count": 9,
      "outputs": [
        {
          "output_type": "stream",
          "text": "[0.53470753 0.76795136 0.39662433 0.82295504 0.23188848 0.90059044\n 0.03100715 0.88563376 0.01366739 0.26201745 0.37617459 0.30942127] \n\n\n[0.90059044 0.88563376 0.82295504 0.76795136 0.53470753 0.39662433\n 0.37617459 0.30942127 0.26201745 0.23188848 0.03100715 0.01366739] \n\n\n[[0.90059044 0.88563376 0.82295504]\n [0.76795136 0.53470753 0.39662433]\n [0.37617459 0.30942127 0.26201745]\n [0.23188848 0.03100715 0.01366739]]\n",
          "name": "stdout"
        }
      ]
    },
    {
      "metadata": {},
      "cell_type": "markdown",
      "source": "### 6. Below is Python dictionary data and Python list labels. Create a DataFrame df from this dictionary data which has index as labels. Select the rows where the age is missing, i.e. is NaN."
    },
    {
      "metadata": {
        "trusted": true
      },
      "cell_type": "code",
      "source": "import numpy as np\ndata = {'animal': ['cat', 'cat', 'snake', 'dog', 'dog', 'cat', 'snake', 'cat', 'dog', 'dog'],\n        'age': [2.5, 3, 0.5, np.nan, 5, 2, 4.5, np.nan, 7, 3],\n        'visits': [1, 3, 2, 3, 2, 3, 1, 1, 2, 1],\n        'priority': ['yes', 'yes', 'no', 'yes', 'no', 'no', 'no', 'yes', 'no', 'no']}\n\nlabels = ['a', 'b', 'c', 'd', 'e', 'f', 'g', 'h', 'i', 'j']\nimport pandas as pd\ndef generate():\n    df=pd.DataFrame(data=data, index=labels)\n    print(df,\"\\n\\n\")\n    print(df[df['age'].isnull()])\ngenerate()",
      "execution_count": 10,
      "outputs": [
        {
          "output_type": "stream",
          "text": "   age animal priority  visits\na  2.5    cat      yes       1\nb  3.0    cat      yes       3\nc  0.5  snake       no       2\nd  NaN    dog      yes       3\ne  5.0    dog       no       2\nf  2.0    cat       no       3\ng  4.5  snake       no       1\nh  NaN    cat      yes       1\ni  7.0    dog       no       2\nj  3.0    dog       no       1 \n\n\n   age animal priority  visits\nd  NaN    dog      yes       3\nh  NaN    cat      yes       1\n",
          "name": "stdout"
        }
      ]
    },
    {
      "metadata": {},
      "cell_type": "markdown",
      "source": "### 7. From the give dataframe df, in the 'animal' column change the 'dog' entries to 'Labrador', change the age in row 'd' to 2.7 and calculate the mean age (name it mean_age) for each different animal in df. Print df and return mean_age."
    },
    {
      "metadata": {
        "trusted": true
      },
      "cell_type": "code",
      "source": "import pandas as pd\ndata = {'animal': ['cat', 'cat', 'snake', 'dog', 'dog', 'cat', 'snake', 'cat', 'dog', 'dog'],\n        'age': [2.5, 3, 0.5, np.nan, 5, 2, 4.5, np.nan, 7, 3],\n        'visits': [1, 3, 2, 3, 2, 3, 1, 1, 2, 1],\n        'priority': ['yes', 'yes', 'no', 'yes', 'no', 'no', 'no', 'yes', 'no', 'no']}\n\nlabels = ['a', 'b', 'c', 'd', 'e', 'f', 'g', 'h', 'i', 'j']\ndf=pd.DataFrame(data=data, index=labels)\nprint(df,\"\\n\\n\")\ndef generate():\n    df['animal']=df['animal'].replace('dog','Labrador')\n    df.loc['d','age']=2.7\n    mean_age=df.groupby('animal')['age'].mean()\n    \n    print(df,\"\\n\\n\")\n    print(mean_age)\ngenerate()",
      "execution_count": 11,
      "outputs": [
        {
          "output_type": "stream",
          "text": "   age animal priority  visits\na  2.5    cat      yes       1\nb  3.0    cat      yes       3\nc  0.5  snake       no       2\nd  NaN    dog      yes       3\ne  5.0    dog       no       2\nf  2.0    cat       no       3\ng  4.5  snake       no       1\nh  NaN    cat      yes       1\ni  7.0    dog       no       2\nj  3.0    dog       no       1 \n\n\n   age    animal priority  visits\na  2.5       cat      yes       1\nb  3.0       cat      yes       3\nc  0.5     snake       no       2\nd  2.7  Labrador      yes       3\ne  5.0  Labrador       no       2\nf  2.0       cat       no       3\ng  4.5     snake       no       1\nh  NaN       cat      yes       1\ni  7.0  Labrador       no       2\nj  3.0  Labrador       no       1 \n\n\nanimal\nLabrador    4.425\ncat         2.500\nsnake       2.500\nName: age, dtype: float64\n",
          "name": "stdout"
        }
      ]
    },
    {
      "metadata": {},
      "cell_type": "markdown",
      "source": "### 8.  From the given dataframe get the positions where values of two columns match?"
    },
    {
      "metadata": {
        "trusted": true
      },
      "cell_type": "code",
      "source": "import pandas as pd\nimport numpy as np\ndf = pd.DataFrame({'fruit1': np.random.choice(['apple', 'orange', 'banana'], 10),\n                    'fruit2': np.random.choice(['apple', 'orange', 'banana'], 10)})\ndef generate():\n    same=np.where(df.fruit1==df.fruit2)\n    print(df,\"\\n\\n\")\n    print(same)\ngenerate()",
      "execution_count": 12,
      "outputs": [
        {
          "output_type": "stream",
          "text": "   fruit1  fruit2\n0  orange  orange\n1   apple  banana\n2  banana  banana\n3   apple  orange\n4  banana   apple\n5   apple   apple\n6   apple  orange\n7   apple  banana\n8  banana   apple\n9   apple  orange \n\n\n(array([0, 2, 5]),)\n",
          "name": "stdout"
        }
      ]
    },
    {
      "metadata": {},
      "cell_type": "markdown",
      "source": "### 9. Find the positions of numbers that are multiples of 4 from a series? Print series and return position. Hint: use argwhere."
    },
    {
      "metadata": {
        "trusted": true
      },
      "cell_type": "code",
      "source": "import pandas as pd\nimport numpy as np\nseries = pd.Series(np.random.randint(1, 10, 7))\ndef generate():\n    multiple = np.where(series%4==0)\n    print(series,\"\\n\\n\")\n    print(multiple)\ngenerate()",
      "execution_count": 13,
      "outputs": [
        {
          "output_type": "stream",
          "text": "0    6\n1    5\n2    6\n3    2\n4    8\n5    4\n6    1\ndtype: int64 \n\n\n(array([4, 5]),)\n",
          "name": "stdout"
        }
      ]
    },
    {
      "metadata": {},
      "cell_type": "markdown",
      "source": "### 10. Stack two given series vertically and horizontally ? Print out both."
    },
    {
      "metadata": {
        "trusted": true
      },
      "cell_type": "code",
      "source": "import pandas as pd\nimport numpy as np\nseries1 = pd.Series(range(5))\nseries2 = pd.Series(list('abcde'))\ndef generate():\n    V = series1.append(series2)\n    print(V,\"\\n\\n\")\n    \n    H=pd.concat([series1,series2], axis=1)\n    print(H)\n    \ngenerate()",
      "execution_count": 14,
      "outputs": [
        {
          "output_type": "stream",
          "text": "0    0\n1    1\n2    2\n3    3\n4    4\n0    a\n1    b\n2    c\n3    d\n4    e\ndtype: object \n\n\n   0  1\n0  0  a\n1  1  b\n2  2  c\n3  3  d\n4  4  e\n",
          "name": "stdout"
        }
      ]
    }
  ],
  "metadata": {
    "kernelspec": {
      "name": "python3",
      "display_name": "Python 3",
      "language": "python"
    },
    "language_info": {
      "mimetype": "text/x-python",
      "nbconvert_exporter": "python",
      "name": "python",
      "pygments_lexer": "ipython3",
      "version": "3.5.4",
      "file_extension": ".py",
      "codemirror_mode": {
        "version": 3,
        "name": "ipython"
      }
    }
  },
  "nbformat": 4,
  "nbformat_minor": 2
}