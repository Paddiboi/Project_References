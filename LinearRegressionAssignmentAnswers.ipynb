{
  "cells": [
    {
      "metadata": {},
      "cell_type": "markdown",
      "source": "<img src=\"https://github.com/insaid2018/Term-1/blob/master/Images/INSAID_Full%20Logo.png?raw=true\" width=\"240\" height=\"360\" />\n\n# ASSIGNMENT\n\n###  This is a cars dataset having 156 observation and 16 different variables. You have to create a linear regression model using the provided predictor variables for the prediction of sales value of cars.\n\n#### Note: Please run your code step by step as provided in the sheet or else you may face challenges with the code."
    },
    {
      "metadata": {},
      "cell_type": "markdown",
      "source": "### Import the dataset."
    },
    {
      "metadata": {
        "scrolled": true,
        "trusted": true
      },
      "cell_type": "code",
      "source": "import pandas as pd\ncar = pd.read_csv(\"https://raw.githubusercontent.com/insaid2018/Term-2/master/Data/car_sales.csv\")\ncar.head()",
      "execution_count": 4,
      "outputs": [
        {
          "output_type": "execute_result",
          "execution_count": 4,
          "data": {
            "text/plain": "  Manufacturer    Model  Sales_in_thousands  _year_resale_value Vehicle_type  \\\n0        Acura  Integra              16.919              16.360    Passenger   \n1        Acura       TL              39.384              19.875    Passenger   \n2        Acura       CL              14.114              18.225    Passenger   \n3        Acura       RL               8.588              29.725    Passenger   \n4         Audi       A4              20.397              22.255    Passenger   \n\n   Price_in_thousands  Engine_size  Horsepower  Wheelbase  Width  Length  \\\n0               21.50          1.8         140      101.2   67.3   172.4   \n1               28.40          3.2         225      108.1   70.3   192.9   \n2               29.00          3.2         225      106.9   70.6   192.0   \n3               42.00          3.5         210      114.6   71.4   196.6   \n4               23.99          1.8         150      102.6   68.2   178.0   \n\n   Curb_weight  Fuel_capacity  Fuel_efficiency Latest_Launch  \\\n0        2.639           13.2               28      2/2/2012   \n1        3.517           17.2               25      6/3/2011   \n2        3.470           17.2               26      1/4/2012   \n3        3.850           18.0               22     3/10/2011   \n4        2.998           16.4               27     10/8/2011   \n\n   Power_perf_factor  \n0          58.280150  \n1          91.370778  \n2          90.345000  \n3          91.389779  \n4          62.777639  ",
            "text/html": "<div>\n<table border=\"1\" class=\"dataframe\">\n  <thead>\n    <tr style=\"text-align: right;\">\n      <th></th>\n      <th>Manufacturer</th>\n      <th>Model</th>\n      <th>Sales_in_thousands</th>\n      <th>_year_resale_value</th>\n      <th>Vehicle_type</th>\n      <th>Price_in_thousands</th>\n      <th>Engine_size</th>\n      <th>Horsepower</th>\n      <th>Wheelbase</th>\n      <th>Width</th>\n      <th>Length</th>\n      <th>Curb_weight</th>\n      <th>Fuel_capacity</th>\n      <th>Fuel_efficiency</th>\n      <th>Latest_Launch</th>\n      <th>Power_perf_factor</th>\n    </tr>\n  </thead>\n  <tbody>\n    <tr>\n      <th>0</th>\n      <td>Acura</td>\n      <td>Integra</td>\n      <td>16.919</td>\n      <td>16.360</td>\n      <td>Passenger</td>\n      <td>21.50</td>\n      <td>1.8</td>\n      <td>140</td>\n      <td>101.2</td>\n      <td>67.3</td>\n      <td>172.4</td>\n      <td>2.639</td>\n      <td>13.2</td>\n      <td>28</td>\n      <td>2/2/2012</td>\n      <td>58.280150</td>\n    </tr>\n    <tr>\n      <th>1</th>\n      <td>Acura</td>\n      <td>TL</td>\n      <td>39.384</td>\n      <td>19.875</td>\n      <td>Passenger</td>\n      <td>28.40</td>\n      <td>3.2</td>\n      <td>225</td>\n      <td>108.1</td>\n      <td>70.3</td>\n      <td>192.9</td>\n      <td>3.517</td>\n      <td>17.2</td>\n      <td>25</td>\n      <td>6/3/2011</td>\n      <td>91.370778</td>\n    </tr>\n    <tr>\n      <th>2</th>\n      <td>Acura</td>\n      <td>CL</td>\n      <td>14.114</td>\n      <td>18.225</td>\n      <td>Passenger</td>\n      <td>29.00</td>\n      <td>3.2</td>\n      <td>225</td>\n      <td>106.9</td>\n      <td>70.6</td>\n      <td>192.0</td>\n      <td>3.470</td>\n      <td>17.2</td>\n      <td>26</td>\n      <td>1/4/2012</td>\n      <td>90.345000</td>\n    </tr>\n    <tr>\n      <th>3</th>\n      <td>Acura</td>\n      <td>RL</td>\n      <td>8.588</td>\n      <td>29.725</td>\n      <td>Passenger</td>\n      <td>42.00</td>\n      <td>3.5</td>\n      <td>210</td>\n      <td>114.6</td>\n      <td>71.4</td>\n      <td>196.6</td>\n      <td>3.850</td>\n      <td>18.0</td>\n      <td>22</td>\n      <td>3/10/2011</td>\n      <td>91.389779</td>\n    </tr>\n    <tr>\n      <th>4</th>\n      <td>Audi</td>\n      <td>A4</td>\n      <td>20.397</td>\n      <td>22.255</td>\n      <td>Passenger</td>\n      <td>23.99</td>\n      <td>1.8</td>\n      <td>150</td>\n      <td>102.6</td>\n      <td>68.2</td>\n      <td>178.0</td>\n      <td>2.998</td>\n      <td>16.4</td>\n      <td>27</td>\n      <td>10/8/2011</td>\n      <td>62.777639</td>\n    </tr>\n  </tbody>\n</table>\n</div>"
          },
          "metadata": {}
        }
      ]
    },
    {
      "metadata": {},
      "cell_type": "markdown",
      "source": "### Check the shape of the dataset."
    },
    {
      "metadata": {
        "trusted": true
      },
      "cell_type": "code",
      "source": "def lr():\n    return car.shape \nlr()",
      "execution_count": 5,
      "outputs": [
        {
          "output_type": "execute_result",
          "execution_count": 5,
          "data": {
            "text/plain": "(156, 16)"
          },
          "metadata": {}
        }
      ]
    },
    {
      "metadata": {},
      "cell_type": "markdown",
      "source": "### Check the descriptive stats of the dataset."
    },
    {
      "metadata": {
        "trusted": true
      },
      "cell_type": "code",
      "source": "def lr():\n    return car.describe()\nlr()",
      "execution_count": 6,
      "outputs": [
        {
          "output_type": "execute_result",
          "execution_count": 6,
          "data": {
            "text/plain": "       Sales_in_thousands  _year_resale_value  Price_in_thousands  \\\ncount          151.000000          156.000000          156.000000   \nmean            52.051742           18.063571           27.401071   \nstd             68.907116           10.076941           14.305863   \nmin              0.110000            5.160000            9.235000   \n25%             13.630000           12.527500           18.081250   \n50%             27.609000           17.617500           23.099500   \n75%             65.905500           18.089731           31.938750   \nmax            540.561000           67.550000           85.500000   \n\n       Engine_size  Horsepower   Wheelbase       Width      Length  \\\ncount   156.000000  156.000000  156.000000  156.000000  156.000000   \nmean      3.060897  185.948718  107.487179   71.150000  187.343590   \nstd       1.044653   56.700321    7.641303    3.451872   13.431754   \nmin       1.000000   55.000000   92.600000   62.600000  149.400000   \n25%       2.300000  149.500000  103.000000   68.400000  177.575000   \n50%       3.000000  177.500000  107.000000   70.550000  187.900000   \n75%       3.575000  215.000000  112.200000   73.425000  196.125000   \nmax       8.000000  450.000000  138.700000   79.900000  224.500000   \n\n       Curb_weight  Fuel_capacity  Fuel_efficiency  Power_perf_factor  \ncount   156.000000     156.000000       156.000000         156.000000  \nmean      3.380462      17.951923        23.833333          77.128857  \nstd       0.629200       3.887921         4.256052          25.084045  \nmin       1.895000      10.300000        15.000000          23.276272  \n25%       2.973000      15.800000        21.000000          60.567577  \n50%       3.355000      17.200000        24.000000          72.160636  \n75%       3.788750      19.575000        26.000000          89.623790  \nmax       5.572000      32.000000        45.000000         188.144323  ",
            "text/html": "<div>\n<table border=\"1\" class=\"dataframe\">\n  <thead>\n    <tr style=\"text-align: right;\">\n      <th></th>\n      <th>Sales_in_thousands</th>\n      <th>_year_resale_value</th>\n      <th>Price_in_thousands</th>\n      <th>Engine_size</th>\n      <th>Horsepower</th>\n      <th>Wheelbase</th>\n      <th>Width</th>\n      <th>Length</th>\n      <th>Curb_weight</th>\n      <th>Fuel_capacity</th>\n      <th>Fuel_efficiency</th>\n      <th>Power_perf_factor</th>\n    </tr>\n  </thead>\n  <tbody>\n    <tr>\n      <th>count</th>\n      <td>151.000000</td>\n      <td>156.000000</td>\n      <td>156.000000</td>\n      <td>156.000000</td>\n      <td>156.000000</td>\n      <td>156.000000</td>\n      <td>156.000000</td>\n      <td>156.000000</td>\n      <td>156.000000</td>\n      <td>156.000000</td>\n      <td>156.000000</td>\n      <td>156.000000</td>\n    </tr>\n    <tr>\n      <th>mean</th>\n      <td>52.051742</td>\n      <td>18.063571</td>\n      <td>27.401071</td>\n      <td>3.060897</td>\n      <td>185.948718</td>\n      <td>107.487179</td>\n      <td>71.150000</td>\n      <td>187.343590</td>\n      <td>3.380462</td>\n      <td>17.951923</td>\n      <td>23.833333</td>\n      <td>77.128857</td>\n    </tr>\n    <tr>\n      <th>std</th>\n      <td>68.907116</td>\n      <td>10.076941</td>\n      <td>14.305863</td>\n      <td>1.044653</td>\n      <td>56.700321</td>\n      <td>7.641303</td>\n      <td>3.451872</td>\n      <td>13.431754</td>\n      <td>0.629200</td>\n      <td>3.887921</td>\n      <td>4.256052</td>\n      <td>25.084045</td>\n    </tr>\n    <tr>\n      <th>min</th>\n      <td>0.110000</td>\n      <td>5.160000</td>\n      <td>9.235000</td>\n      <td>1.000000</td>\n      <td>55.000000</td>\n      <td>92.600000</td>\n      <td>62.600000</td>\n      <td>149.400000</td>\n      <td>1.895000</td>\n      <td>10.300000</td>\n      <td>15.000000</td>\n      <td>23.276272</td>\n    </tr>\n    <tr>\n      <th>25%</th>\n      <td>13.630000</td>\n      <td>12.527500</td>\n      <td>18.081250</td>\n      <td>2.300000</td>\n      <td>149.500000</td>\n      <td>103.000000</td>\n      <td>68.400000</td>\n      <td>177.575000</td>\n      <td>2.973000</td>\n      <td>15.800000</td>\n      <td>21.000000</td>\n      <td>60.567577</td>\n    </tr>\n    <tr>\n      <th>50%</th>\n      <td>27.609000</td>\n      <td>17.617500</td>\n      <td>23.099500</td>\n      <td>3.000000</td>\n      <td>177.500000</td>\n      <td>107.000000</td>\n      <td>70.550000</td>\n      <td>187.900000</td>\n      <td>3.355000</td>\n      <td>17.200000</td>\n      <td>24.000000</td>\n      <td>72.160636</td>\n    </tr>\n    <tr>\n      <th>75%</th>\n      <td>65.905500</td>\n      <td>18.089731</td>\n      <td>31.938750</td>\n      <td>3.575000</td>\n      <td>215.000000</td>\n      <td>112.200000</td>\n      <td>73.425000</td>\n      <td>196.125000</td>\n      <td>3.788750</td>\n      <td>19.575000</td>\n      <td>26.000000</td>\n      <td>89.623790</td>\n    </tr>\n    <tr>\n      <th>max</th>\n      <td>540.561000</td>\n      <td>67.550000</td>\n      <td>85.500000</td>\n      <td>8.000000</td>\n      <td>450.000000</td>\n      <td>138.700000</td>\n      <td>79.900000</td>\n      <td>224.500000</td>\n      <td>5.572000</td>\n      <td>32.000000</td>\n      <td>45.000000</td>\n      <td>188.144323</td>\n    </tr>\n  </tbody>\n</table>\n</div>"
          },
          "metadata": {}
        }
      ]
    },
    {
      "metadata": {},
      "cell_type": "markdown",
      "source": "### Q 1. Write a code to understand the total count and percentage of missing values."
    },
    {
      "metadata": {
        "trusted": true
      },
      "cell_type": "code",
      "source": "def lr():\n    total = car.isnull().sum().sort_values(ascending=False)\n    percent = (car.isnull().sum()/car.isnull().count()).sort_values(ascending=False)\n    missing_data = pd.concat([total, percent], axis=1, keys=['Total', 'Percent'])\n    missing_data.head(20)\n    miss = print(missing_data)\n    return miss\nlr()",
      "execution_count": 7,
      "outputs": [
        {
          "output_type": "stream",
          "text": "                    Total   Percent\nSales_in_thousands      5  0.032051\nPower_perf_factor       0  0.000000\nLatest_Launch           0  0.000000\nFuel_efficiency         0  0.000000\nFuel_capacity           0  0.000000\nCurb_weight             0  0.000000\nLength                  0  0.000000\nWidth                   0  0.000000\nWheelbase               0  0.000000\nHorsepower              0  0.000000\nEngine_size             0  0.000000\nPrice_in_thousands      0  0.000000\nVehicle_type            0  0.000000\n_year_resale_value      0  0.000000\nModel                   0  0.000000\nManufacturer            0  0.000000\n",
          "name": "stdout"
        }
      ]
    },
    {
      "metadata": {},
      "cell_type": "markdown",
      "source": "### Q 2. Impute the missing value using \"median\" groupby Manufacturer. "
    },
    {
      "metadata": {
        "trusted": true
      },
      "cell_type": "code",
      "source": "def lr():\n    car[\"Sales_in_thousands\"].fillna(car.groupby(\"Manufacturer\")[\"Sales_in_thousands\"].transform(\"median\"), inplace=True)\n    return\nlr()\nprint (car.isnull().sum())",
      "execution_count": 8,
      "outputs": [
        {
          "output_type": "stream",
          "text": "Manufacturer          0\nModel                 0\nSales_in_thousands    0\n_year_resale_value    0\nVehicle_type          0\nPrice_in_thousands    0\nEngine_size           0\nHorsepower            0\nWheelbase             0\nWidth                 0\nLength                0\nCurb_weight           0\nFuel_capacity         0\nFuel_efficiency       0\nLatest_Launch         0\nPower_perf_factor     0\ndtype: int64\n",
          "name": "stdout"
        }
      ]
    },
    {
      "metadata": {},
      "cell_type": "markdown",
      "source": "### Q 3. Create a dummy variable for \"Vehicle_type\"  and  drop the original variable."
    },
    {
      "metadata": {
        "trusted": true
      },
      "cell_type": "code",
      "source": "car_dummy =pd.DataFrame()                                             # Creating an empty data frame\ndef lr(car):\n    dummies = pd.get_dummies(car, columns=['Vehicle_type'], drop_first=True)\n    return dummies\ncar_dummy = lr(car)\nprint(car_dummy)\n",
      "execution_count": 9,
      "outputs": [
        {
          "output_type": "stream",
          "text": "    Manufacturer          Model  Sales_in_thousands  _year_resale_value  \\\n0          Acura        Integra              16.919           16.360000   \n1          Acura             TL              39.384           19.875000   \n2          Acura             CL              14.114           18.225000   \n3          Acura             RL               8.588           29.725000   \n4           Audi             A4              20.397           22.255000   \n5           Audi             A6              18.780           23.555000   \n6           Audi             A8               1.380           39.000000   \n7            BMW           323i              19.747           18.072975   \n8            BMW           328i               9.231           28.675000   \n9            BMW           528i              17.527           36.125000   \n10         Buick        Century              91.561           12.475000   \n11         Buick          Regal              39.350           13.740000   \n12         Buick    Park Avenue              27.851           20.190000   \n13         Buick        LeSabre              83.257           13.360000   \n14      Cadillac        DeVille              63.729           22.525000   \n15      Cadillac        Seville              15.943           27.100000   \n16      Cadillac       Eldorado               6.536           25.725000   \n17      Cadillac         Catera              11.185           18.225000   \n18      Cadillac       Escalade              14.785           18.072975   \n19     Chevrolet       Cavalier             145.519            9.250000   \n20     Chevrolet         Malibu             135.126           11.225000   \n21     Chevrolet         Lumina              24.629           10.310000   \n22     Chevrolet    Monte Carlo              42.593           11.525000   \n23     Chevrolet         Camaro              26.402           13.025000   \n24     Chevrolet       Corvette              17.947           36.225000   \n25     Chevrolet          Prizm              32.299            9.125000   \n26     Chevrolet          Metro              21.855            5.160000   \n27     Chevrolet         Impala             107.995           18.072975   \n28      Chrysler  Sebring Coupe               7.854           12.360000   \n29      Chrysler  Sebring Conv.              32.775           14.180000   \n..           ...            ...                 ...                 ...   \n126         Saab          5-Sep               9.191           18.072975   \n127         Saab          3-Sep              12.115           18.072975   \n128       Saturn             SL              80.620            9.200000   \n129       Saturn             SC              24.546           10.590000   \n130       Saturn             SW               5.223           10.790000   \n131       Saturn             LW               8.472           18.072975   \n132       Saturn             LS              49.989           18.072975   \n133       Subaru        Outback              47.107           18.072975   \n134       Subaru       Forester              33.028           18.072975   \n135       Toyota        Corolla             142.535           10.025000   \n136       Toyota          Camry             247.994           13.245000   \n137       Toyota         Avalon              63.849           18.140000   \n138       Toyota         Celica              33.269           15.445000   \n139       Toyota         Tacoma              84.087            9.575000   \n140       Toyota         Sienna              65.119           18.072975   \n141       Toyota           RAV4              25.106           13.325000   \n142       Toyota        4Runner              68.411           19.425000   \n143       Toyota   Land Cruiser               9.835           34.080000   \n144   Volkswagen           Golf               9.761           11.425000   \n145   Volkswagen          Jetta              83.721           13.240000   \n146   Volkswagen         Passat              51.102           16.725000   \n147   Volkswagen         Cabrio               9.569           16.575000   \n148   Volkswagen            GTI               5.596           13.760000   \n149   Volkswagen         Beetle              49.463           18.072975   \n150        Volvo            S40              16.957           18.072975   \n151        Volvo            V40               3.545           18.072975   \n152        Volvo            S70              15.245           18.072975   \n153        Volvo            V70              17.531           18.072975   \n154        Volvo            C70               3.493           18.072975   \n155        Volvo            S80              18.969           18.072975   \n\n     Price_in_thousands  Engine_size  Horsepower  Wheelbase  Width  Length  \\\n0                21.500          1.8         140      101.2   67.3   172.4   \n1                28.400          3.2         225      108.1   70.3   192.9   \n2                29.000          3.2         225      106.9   70.6   192.0   \n3                42.000          3.5         210      114.6   71.4   196.6   \n4                23.990          1.8         150      102.6   68.2   178.0   \n5                33.950          2.8         200      108.7   76.1   192.0   \n6                62.000          4.2         310      113.0   74.0   198.2   \n7                26.990          2.5         170      107.3   68.4   176.0   \n8                33.400          2.8         193      107.3   68.5   176.0   \n9                38.900          2.8         193      111.4   70.9   188.0   \n10               21.975          3.1         175      109.0   72.7   194.6   \n11               25.300          3.8         240      109.0   72.7   196.2   \n12               31.965          3.8         205      113.8   74.7   206.8   \n13               27.885          3.8         205      112.2   73.5   200.0   \n14               39.895          4.6         275      115.3   74.5   207.2   \n15               44.475          4.6         275      112.2   75.0   201.0   \n16               39.665          4.6         275      108.0   75.5   200.6   \n17               31.010          3.0         200      107.4   70.3   194.8   \n18               46.225          5.7         255      117.5   77.0   201.2   \n19               13.260          2.2         115      104.1   67.9   180.9   \n20               16.535          3.1         170      107.0   69.4   190.4   \n21               18.890          3.1         175      107.5   72.5   200.9   \n22               19.390          3.4         180      110.5   72.7   197.9   \n23               24.340          3.8         200      101.1   74.1   193.2   \n24               45.705          5.7         345      104.5   73.6   179.7   \n25               13.960          1.8         120       97.1   66.7   174.3   \n26                9.235          1.0          55       93.1   62.6   149.4   \n27               18.890          3.4         180      110.5   73.0   200.0   \n28               19.840          2.5         163      103.7   69.7   190.9   \n29               24.495          2.5         168      106.0   69.2   193.0   \n..                  ...          ...         ...        ...    ...     ...   \n126              33.120          2.3         170      106.4   70.6   189.2   \n127              26.100          2.0         185      102.6   67.4   182.2   \n128              10.685          1.9         100      102.4   66.4   176.9   \n129              12.535          1.9         100      102.4   66.4   180.0   \n130              14.290          1.9         124      102.4   66.4   176.9   \n131              18.835          2.2         137      106.5   69.0   190.4   \n132              15.010          2.2         137      106.5   69.0   190.4   \n133              22.695          2.5         165      103.5   67.5   185.8   \n134              20.095          2.5         165       99.4   68.3   175.2   \n135              13.108          1.8         120       97.0   66.7   174.0   \n136              17.518          2.2         133      105.2   70.1   188.5   \n137              25.545          3.0         210      107.1   71.7   191.9   \n138              16.875          1.8         140      102.4   68.3   170.5   \n139              11.528          2.4         142      103.3   66.5   178.7   \n140              22.368          3.0         194      114.2   73.4   193.5   \n141              16.888          2.0         127       94.9   66.7   163.8   \n142              22.288          2.7         150      105.3   66.5   183.3   \n143              51.728          4.7         230      112.2   76.4   192.5   \n144              14.900          2.0         115       98.9   68.3   163.3   \n145              16.700          2.0         115       98.9   68.3   172.3   \n146              21.200          1.8         150      106.4   68.5   184.1   \n147              19.990          2.0         115       97.4   66.7   160.4   \n148              17.500          2.0         115       98.9   68.3   163.3   \n149              15.900          2.0         115       98.9   67.9   161.1   \n150              23.400          1.9         160      100.5   67.6   176.6   \n151              24.400          1.9         160      100.5   67.6   176.6   \n152              27.500          2.4         168      104.9   69.3   185.9   \n153              28.800          2.4         168      104.9   69.3   186.2   \n154              45.500          2.3         236      104.9   71.5   185.7   \n155              36.000          2.9         201      109.9   72.1   189.8   \n\n     Curb_weight  Fuel_capacity  Fuel_efficiency Latest_Launch  \\\n0          2.639           13.2               28      2/2/2012   \n1          3.517           17.2               25      6/3/2011   \n2          3.470           17.2               26      1/4/2012   \n3          3.850           18.0               22     3/10/2011   \n4          2.998           16.4               27     10/8/2011   \n5          3.561           18.5               22      8/9/2011   \n6          3.902           23.7               21     2/27/2012   \n7          3.179           16.6               26     6/28/2011   \n8          3.197           16.6               24     1/29/2012   \n9          3.472           18.5               25      4/4/2011   \n10         3.368           17.5               25     11/2/2011   \n11         3.543           17.5               23      9/3/2011   \n12         3.778           18.5               24     3/23/2012   \n13         3.591           17.5               25     7/23/2011   \n14         3.978           18.5               22     2/23/2012   \n15         3.758           18.5               22     4/29/2011   \n16         3.843           19.0               22    11/27/2011   \n17         3.770           18.0               22     9/28/2011   \n18         5.572           30.0               15     4/17/2012   \n19         2.676           14.3               27     8/17/2011   \n20         3.051           15.0               25     3/19/2012   \n21         3.330           16.6               25     5/24/2011   \n22         3.340           17.0               27    12/22/2011   \n23         3.500           16.8               25    10/23/2011   \n24         3.210           19.1               22     5/12/2012   \n25         2.398           13.2               33     9/11/2011   \n26         1.895           10.3               45     4/13/2012   \n27         3.389           17.0               27     6/18/2011   \n28         2.967           15.9               24     1/16/2012   \n29         3.332           16.0               24    11/17/2011   \n..           ...            ...              ...           ...   \n126        3.280           18.5               23     11/9/2012   \n127        2.990           16.9               23     6/12/2011   \n128        2.332           12.1               33     8/16/2012   \n129        2.367           12.1               33     3/16/2011   \n130        2.452           12.1               31     1/15/2011   \n131        3.075           13.1               27      8/5/2011   \n132        2.910           13.1               28     12/4/2012   \n133        3.415           16.9               25      7/7/2011   \n134        3.125           15.9               24     9/10/2012   \n135        2.420           13.2               33     4/11/2011   \n136        2.998           18.5               27     2/10/2011   \n137        3.417           18.5               26     8/31/2011   \n138        2.425           14.5               31    12/29/2012   \n139        2.580           15.1               23      8/1/2011   \n140        3.759           20.9               22     10/5/2012   \n141        2.668           15.3               27      5/6/2011   \n142        3.440           18.5               23      3/7/2011   \n143        5.115           25.4               15     9/25/2011   \n144        2.767           14.5               26     1/24/2011   \n145        2.853           14.5               26     8/27/2011   \n146        3.043           16.4               27    10/30/2012   \n147        3.079           13.7               26     5/31/2011   \n148        2.762           14.6               26      4/1/2011   \n149        2.769           14.5               26    10/20/2011   \n150        2.998           15.8               25     2/18/2011   \n151        3.042           15.8               25     9/21/2011   \n152        3.208           17.9               25    11/24/2012   \n153        3.259           17.9               25     6/25/2011   \n154        3.601           18.5               23     4/26/2011   \n155        3.600           21.1               24    11/14/2011   \n\n     Power_perf_factor  Vehicle_type_Passenger  \n0            58.280150                       1  \n1            91.370778                       1  \n2            90.345000                       1  \n3            91.389779                       1  \n4            62.777639                       1  \n5            84.565105                       1  \n6           134.656858                       1  \n7            71.191207                       1  \n8            81.877069                       1  \n9            83.998724                       1  \n10           71.181451                       1  \n11           95.636703                       1  \n12           85.828408                       1  \n13           84.254526                       1  \n14          113.854598                       1  \n15          115.621358                       1  \n16          113.765874                       1  \n17           83.483094                       1  \n18          109.509117                       0  \n19           46.363347                       1  \n20           67.314462                       1  \n21           69.991396                       1  \n22           72.030917                       1  \n23           81.118543                       1  \n24          141.141150                       1  \n25           48.297636                       1  \n26           23.276272                       1  \n27           71.838039                       1  \n28           65.957184                       1  \n29           69.521355                       1  \n..                 ...                     ...  \n126          73.503778                       1  \n127          76.023048                       1  \n128          39.986425                       1  \n129          40.700072                       1  \n130          49.865774                       1  \n131          56.295243                       1  \n132          54.819728                       1  \n133          67.765908                       1  \n134          66.762943                       0  \n135          47.968972                       1  \n136          54.372420                       1  \n137          84.911898                       1  \n138          56.496030                       1  \n139          55.297117                       0  \n140          78.027219                       0  \n141          51.955109                       0  \n142          62.355577                       0  \n143         102.528984                       0  \n144          46.943877                       1  \n145          47.638237                       1  \n146          61.701381                       1  \n147          48.907372                       1  \n148          47.946841                       1  \n149          47.329632                       1  \n150          66.113057                       1  \n151          66.498812                       1  \n152          70.654495                       1  \n153          71.155978                       1  \n154         101.623357                       1  \n155          85.735655                       1  \n\n[156 rows x 16 columns]\n",
          "name": "stdout"
        }
      ]
    },
    {
      "metadata": {},
      "cell_type": "markdown",
      "source": "### Q 4. Drop the below mentioned variables which will not help in prediction of sales.\n``` ['Manufacturer', 'Model', 'Latest_Launch'] ```"
    },
    {
      "metadata": {
        "trusted": true
      },
      "cell_type": "code",
      "source": "def lr(car_dummy):\n    car_drop = car_dummy.drop(car_dummy[['Manufacturer', 'Model', 'Latest_Launch']], axis=1)\n    return car_drop\ncar_dummy = lr(car_dummy)\nprint (car_dummy)",
      "execution_count": 10,
      "outputs": [
        {
          "output_type": "stream",
          "text": "     Sales_in_thousands  _year_resale_value  Price_in_thousands  Engine_size  \\\n0                16.919           16.360000              21.500          1.8   \n1                39.384           19.875000              28.400          3.2   \n2                14.114           18.225000              29.000          3.2   \n3                 8.588           29.725000              42.000          3.5   \n4                20.397           22.255000              23.990          1.8   \n5                18.780           23.555000              33.950          2.8   \n6                 1.380           39.000000              62.000          4.2   \n7                19.747           18.072975              26.990          2.5   \n8                 9.231           28.675000              33.400          2.8   \n9                17.527           36.125000              38.900          2.8   \n10               91.561           12.475000              21.975          3.1   \n11               39.350           13.740000              25.300          3.8   \n12               27.851           20.190000              31.965          3.8   \n13               83.257           13.360000              27.885          3.8   \n14               63.729           22.525000              39.895          4.6   \n15               15.943           27.100000              44.475          4.6   \n16                6.536           25.725000              39.665          4.6   \n17               11.185           18.225000              31.010          3.0   \n18               14.785           18.072975              46.225          5.7   \n19              145.519            9.250000              13.260          2.2   \n20              135.126           11.225000              16.535          3.1   \n21               24.629           10.310000              18.890          3.1   \n22               42.593           11.525000              19.390          3.4   \n23               26.402           13.025000              24.340          3.8   \n24               17.947           36.225000              45.705          5.7   \n25               32.299            9.125000              13.960          1.8   \n26               21.855            5.160000               9.235          1.0   \n27              107.995           18.072975              18.890          3.4   \n28                7.854           12.360000              19.840          2.5   \n29               32.775           14.180000              24.495          2.5   \n..                  ...                 ...                 ...          ...   \n126               9.191           18.072975              33.120          2.3   \n127              12.115           18.072975              26.100          2.0   \n128              80.620            9.200000              10.685          1.9   \n129              24.546           10.590000              12.535          1.9   \n130               5.223           10.790000              14.290          1.9   \n131               8.472           18.072975              18.835          2.2   \n132              49.989           18.072975              15.010          2.2   \n133              47.107           18.072975              22.695          2.5   \n134              33.028           18.072975              20.095          2.5   \n135             142.535           10.025000              13.108          1.8   \n136             247.994           13.245000              17.518          2.2   \n137              63.849           18.140000              25.545          3.0   \n138              33.269           15.445000              16.875          1.8   \n139              84.087            9.575000              11.528          2.4   \n140              65.119           18.072975              22.368          3.0   \n141              25.106           13.325000              16.888          2.0   \n142              68.411           19.425000              22.288          2.7   \n143               9.835           34.080000              51.728          4.7   \n144               9.761           11.425000              14.900          2.0   \n145              83.721           13.240000              16.700          2.0   \n146              51.102           16.725000              21.200          1.8   \n147               9.569           16.575000              19.990          2.0   \n148               5.596           13.760000              17.500          2.0   \n149              49.463           18.072975              15.900          2.0   \n150              16.957           18.072975              23.400          1.9   \n151               3.545           18.072975              24.400          1.9   \n152              15.245           18.072975              27.500          2.4   \n153              17.531           18.072975              28.800          2.4   \n154               3.493           18.072975              45.500          2.3   \n155              18.969           18.072975              36.000          2.9   \n\n     Horsepower  Wheelbase  Width  Length  Curb_weight  Fuel_capacity  \\\n0           140      101.2   67.3   172.4        2.639           13.2   \n1           225      108.1   70.3   192.9        3.517           17.2   \n2           225      106.9   70.6   192.0        3.470           17.2   \n3           210      114.6   71.4   196.6        3.850           18.0   \n4           150      102.6   68.2   178.0        2.998           16.4   \n5           200      108.7   76.1   192.0        3.561           18.5   \n6           310      113.0   74.0   198.2        3.902           23.7   \n7           170      107.3   68.4   176.0        3.179           16.6   \n8           193      107.3   68.5   176.0        3.197           16.6   \n9           193      111.4   70.9   188.0        3.472           18.5   \n10          175      109.0   72.7   194.6        3.368           17.5   \n11          240      109.0   72.7   196.2        3.543           17.5   \n12          205      113.8   74.7   206.8        3.778           18.5   \n13          205      112.2   73.5   200.0        3.591           17.5   \n14          275      115.3   74.5   207.2        3.978           18.5   \n15          275      112.2   75.0   201.0        3.758           18.5   \n16          275      108.0   75.5   200.6        3.843           19.0   \n17          200      107.4   70.3   194.8        3.770           18.0   \n18          255      117.5   77.0   201.2        5.572           30.0   \n19          115      104.1   67.9   180.9        2.676           14.3   \n20          170      107.0   69.4   190.4        3.051           15.0   \n21          175      107.5   72.5   200.9        3.330           16.6   \n22          180      110.5   72.7   197.9        3.340           17.0   \n23          200      101.1   74.1   193.2        3.500           16.8   \n24          345      104.5   73.6   179.7        3.210           19.1   \n25          120       97.1   66.7   174.3        2.398           13.2   \n26           55       93.1   62.6   149.4        1.895           10.3   \n27          180      110.5   73.0   200.0        3.389           17.0   \n28          163      103.7   69.7   190.9        2.967           15.9   \n29          168      106.0   69.2   193.0        3.332           16.0   \n..          ...        ...    ...     ...          ...            ...   \n126         170      106.4   70.6   189.2        3.280           18.5   \n127         185      102.6   67.4   182.2        2.990           16.9   \n128         100      102.4   66.4   176.9        2.332           12.1   \n129         100      102.4   66.4   180.0        2.367           12.1   \n130         124      102.4   66.4   176.9        2.452           12.1   \n131         137      106.5   69.0   190.4        3.075           13.1   \n132         137      106.5   69.0   190.4        2.910           13.1   \n133         165      103.5   67.5   185.8        3.415           16.9   \n134         165       99.4   68.3   175.2        3.125           15.9   \n135         120       97.0   66.7   174.0        2.420           13.2   \n136         133      105.2   70.1   188.5        2.998           18.5   \n137         210      107.1   71.7   191.9        3.417           18.5   \n138         140      102.4   68.3   170.5        2.425           14.5   \n139         142      103.3   66.5   178.7        2.580           15.1   \n140         194      114.2   73.4   193.5        3.759           20.9   \n141         127       94.9   66.7   163.8        2.668           15.3   \n142         150      105.3   66.5   183.3        3.440           18.5   \n143         230      112.2   76.4   192.5        5.115           25.4   \n144         115       98.9   68.3   163.3        2.767           14.5   \n145         115       98.9   68.3   172.3        2.853           14.5   \n146         150      106.4   68.5   184.1        3.043           16.4   \n147         115       97.4   66.7   160.4        3.079           13.7   \n148         115       98.9   68.3   163.3        2.762           14.6   \n149         115       98.9   67.9   161.1        2.769           14.5   \n150         160      100.5   67.6   176.6        2.998           15.8   \n151         160      100.5   67.6   176.6        3.042           15.8   \n152         168      104.9   69.3   185.9        3.208           17.9   \n153         168      104.9   69.3   186.2        3.259           17.9   \n154         236      104.9   71.5   185.7        3.601           18.5   \n155         201      109.9   72.1   189.8        3.600           21.1   \n\n     Fuel_efficiency  Power_perf_factor  Vehicle_type_Passenger  \n0                 28          58.280150                       1  \n1                 25          91.370778                       1  \n2                 26          90.345000                       1  \n3                 22          91.389779                       1  \n4                 27          62.777639                       1  \n5                 22          84.565105                       1  \n6                 21         134.656858                       1  \n7                 26          71.191207                       1  \n8                 24          81.877069                       1  \n9                 25          83.998724                       1  \n10                25          71.181451                       1  \n11                23          95.636703                       1  \n12                24          85.828408                       1  \n13                25          84.254526                       1  \n14                22         113.854598                       1  \n15                22         115.621358                       1  \n16                22         113.765874                       1  \n17                22          83.483094                       1  \n18                15         109.509117                       0  \n19                27          46.363347                       1  \n20                25          67.314462                       1  \n21                25          69.991396                       1  \n22                27          72.030917                       1  \n23                25          81.118543                       1  \n24                22         141.141150                       1  \n25                33          48.297636                       1  \n26                45          23.276272                       1  \n27                27          71.838039                       1  \n28                24          65.957184                       1  \n29                24          69.521355                       1  \n..               ...                ...                     ...  \n126               23          73.503778                       1  \n127               23          76.023048                       1  \n128               33          39.986425                       1  \n129               33          40.700072                       1  \n130               31          49.865774                       1  \n131               27          56.295243                       1  \n132               28          54.819728                       1  \n133               25          67.765908                       1  \n134               24          66.762943                       0  \n135               33          47.968972                       1  \n136               27          54.372420                       1  \n137               26          84.911898                       1  \n138               31          56.496030                       1  \n139               23          55.297117                       0  \n140               22          78.027219                       0  \n141               27          51.955109                       0  \n142               23          62.355577                       0  \n143               15         102.528984                       0  \n144               26          46.943877                       1  \n145               26          47.638237                       1  \n146               27          61.701381                       1  \n147               26          48.907372                       1  \n148               26          47.946841                       1  \n149               26          47.329632                       1  \n150               25          66.113057                       1  \n151               25          66.498812                       1  \n152               25          70.654495                       1  \n153               25          71.155978                       1  \n154               23         101.623357                       1  \n155               24          85.735655                       1  \n\n[156 rows x 13 columns]\n",
          "name": "stdout"
        }
      ]
    },
    {
      "metadata": {
        "trusted": true
      },
      "cell_type": "code",
      "source": "def lr():\n    import seaborn as sns\n    sns.boxplot(data=car_dummy, orient=\"h\", palette=\"Set2\")\n    return None \nlr()",
      "execution_count": 32,
      "outputs": [
        {
          "output_type": "display_data",
          "data": {
            "image/png": "[encoded data removed]",
            "text/plain": "<matplotlib.figure.Figure at 0x7f318c670c18>"
          },
          "metadata": {}
        }
      ]
    },
    {
      "metadata": {},
      "cell_type": "markdown",
      "source": "### Q 5. Calculate the Inter quantile range and then drop off outliers for quantile values outside 5 to 95 range."
    },
    {
      "metadata": {
        "trusted": true
      },
      "cell_type": "code",
      "source": "def lr(car_dummy):\n    import pandas as pd\n    Q1 = car_dummy.quantile(0.05)\n    Q3 = car_dummy.quantile(0.95)\n    Q_diff = Q3 - Q1\n    car_out = car_dummy[~((car_dummy < (Q1 - Q_diff))|(car_dummy > (Q3 + Q_diff))).any(axis=1)]\n    print(car_dummy[((car_dummy < (Q1 - Q_diff))|(car_dummy > (Q3 + Q_diff))).any(axis=1)])\n    return car_out\ncar_dummy = lr(car_dummy)\nprint (car_dummy)",
      "execution_count": 33,
      "outputs": [
        {
          "output_type": "stream",
          "text": "     Sales_in_thousands  _year_resale_value  Price_in_thousands  Engine_size  \\\n125               1.866               67.55               74.97          3.4   \n\n     Horsepower  Wheelbase  Width  Length  Curb_weight  Fuel_capacity  \\\n125         300       92.6   69.5   174.5        3.075           17.0   \n\n     Fuel_efficiency  Power_perf_factor  Vehicle_type_Passenger  \n125               23          135.91471                       1  \n     Sales_in_thousands  _year_resale_value  Price_in_thousands  Engine_size  \\\n0                16.919           16.360000              21.500          1.8   \n1                39.384           19.875000              28.400          3.2   \n2                14.114           18.225000              29.000          3.2   \n3                 8.588           29.725000              42.000          3.5   \n4                20.397           22.255000              23.990          1.8   \n5                18.780           23.555000              33.950          2.8   \n6                 1.380           39.000000              62.000          4.2   \n7                19.747           18.072975              26.990          2.5   \n8                 9.231           28.675000              33.400          2.8   \n9                17.527           36.125000              38.900          2.8   \n10               91.561           12.475000              21.975          3.1   \n11               39.350           13.740000              25.300          3.8   \n12               27.851           20.190000              31.965          3.8   \n13               83.257           13.360000              27.885          3.8   \n14               63.729           22.525000              39.895          4.6   \n15               15.943           27.100000              44.475          4.6   \n16                6.536           25.725000              39.665          4.6   \n17               11.185           18.225000              31.010          3.0   \n18               14.785           18.072975              46.225          5.7   \n19              145.519            9.250000              13.260          2.2   \n20              135.126           11.225000              16.535          3.1   \n21               24.629           10.310000              18.890          3.1   \n22               42.593           11.525000              19.390          3.4   \n23               26.402           13.025000              24.340          3.8   \n24               17.947           36.225000              45.705          5.7   \n25               32.299            9.125000              13.960          1.8   \n26               21.855            5.160000               9.235          1.0   \n27              107.995           18.072975              18.890          3.4   \n28                7.854           12.360000              19.840          2.5   \n29               32.775           14.180000              24.495          2.5   \n..                  ...                 ...                 ...          ...   \n126               9.191           18.072975              33.120          2.3   \n127              12.115           18.072975              26.100          2.0   \n128              80.620            9.200000              10.685          1.9   \n129              24.546           10.590000              12.535          1.9   \n130               5.223           10.790000              14.290          1.9   \n131               8.472           18.072975              18.835          2.2   \n132              49.989           18.072975              15.010          2.2   \n133              47.107           18.072975              22.695          2.5   \n134              33.028           18.072975              20.095          2.5   \n135             142.535           10.025000              13.108          1.8   \n136             247.994           13.245000              17.518          2.2   \n137              63.849           18.140000              25.545          3.0   \n138              33.269           15.445000              16.875          1.8   \n139              84.087            9.575000              11.528          2.4   \n140              65.119           18.072975              22.368          3.0   \n141              25.106           13.325000              16.888          2.0   \n142              68.411           19.425000              22.288          2.7   \n143               9.835           34.080000              51.728          4.7   \n144               9.761           11.425000              14.900          2.0   \n145              83.721           13.240000              16.700          2.0   \n146              51.102           16.725000              21.200          1.8   \n147               9.569           16.575000              19.990          2.0   \n148               5.596           13.760000              17.500          2.0   \n149              49.463           18.072975              15.900          2.0   \n150              16.957           18.072975              23.400          1.9   \n151               3.545           18.072975              24.400          1.9   \n152              15.245           18.072975              27.500          2.4   \n153              17.531           18.072975              28.800          2.4   \n154               3.493           18.072975              45.500          2.3   \n155              18.969           18.072975              36.000          2.9   \n\n     Horsepower  Wheelbase  Width  Length  Curb_weight  Fuel_capacity  \\\n0           140      101.2   67.3   172.4        2.639           13.2   \n1           225      108.1   70.3   192.9        3.517           17.2   \n2           225      106.9   70.6   192.0        3.470           17.2   \n3           210      114.6   71.4   196.6        3.850           18.0   \n4           150      102.6   68.2   178.0        2.998           16.4   \n5           200      108.7   76.1   192.0        3.561           18.5   \n6           310      113.0   74.0   198.2        3.902           23.7   \n7           170      107.3   68.4   176.0        3.179           16.6   \n8           193      107.3   68.5   176.0        3.197           16.6   \n9           193      111.4   70.9   188.0        3.472           18.5   \n10          175      109.0   72.7   194.6        3.368           17.5   \n11          240      109.0   72.7   196.2        3.543           17.5   \n12          205      113.8   74.7   206.8        3.778           18.5   \n13          205      112.2   73.5   200.0        3.591           17.5   \n14          275      115.3   74.5   207.2        3.978           18.5   \n15          275      112.2   75.0   201.0        3.758           18.5   \n16          275      108.0   75.5   200.6        3.843           19.0   \n17          200      107.4   70.3   194.8        3.770           18.0   \n18          255      117.5   77.0   201.2        5.572           30.0   \n19          115      104.1   67.9   180.9        2.676           14.3   \n20          170      107.0   69.4   190.4        3.051           15.0   \n21          175      107.5   72.5   200.9        3.330           16.6   \n22          180      110.5   72.7   197.9        3.340           17.0   \n23          200      101.1   74.1   193.2        3.500           16.8   \n24          345      104.5   73.6   179.7        3.210           19.1   \n25          120       97.1   66.7   174.3        2.398           13.2   \n26           55       93.1   62.6   149.4        1.895           10.3   \n27          180      110.5   73.0   200.0        3.389           17.0   \n28          163      103.7   69.7   190.9        2.967           15.9   \n29          168      106.0   69.2   193.0        3.332           16.0   \n..          ...        ...    ...     ...          ...            ...   \n126         170      106.4   70.6   189.2        3.280           18.5   \n127         185      102.6   67.4   182.2        2.990           16.9   \n128         100      102.4   66.4   176.9        2.332           12.1   \n129         100      102.4   66.4   180.0        2.367           12.1   \n130         124      102.4   66.4   176.9        2.452           12.1   \n131         137      106.5   69.0   190.4        3.075           13.1   \n132         137      106.5   69.0   190.4        2.910           13.1   \n133         165      103.5   67.5   185.8        3.415           16.9   \n134         165       99.4   68.3   175.2        3.125           15.9   \n135         120       97.0   66.7   174.0        2.420           13.2   \n136         133      105.2   70.1   188.5        2.998           18.5   \n137         210      107.1   71.7   191.9        3.417           18.5   \n138         140      102.4   68.3   170.5        2.425           14.5   \n139         142      103.3   66.5   178.7        2.580           15.1   \n140         194      114.2   73.4   193.5        3.759           20.9   \n141         127       94.9   66.7   163.8        2.668           15.3   \n142         150      105.3   66.5   183.3        3.440           18.5   \n143         230      112.2   76.4   192.5        5.115           25.4   \n144         115       98.9   68.3   163.3        2.767           14.5   \n145         115       98.9   68.3   172.3        2.853           14.5   \n146         150      106.4   68.5   184.1        3.043           16.4   \n147         115       97.4   66.7   160.4        3.079           13.7   \n148         115       98.9   68.3   163.3        2.762           14.6   \n149         115       98.9   67.9   161.1        2.769           14.5   \n150         160      100.5   67.6   176.6        2.998           15.8   \n151         160      100.5   67.6   176.6        3.042           15.8   \n152         168      104.9   69.3   185.9        3.208           17.9   \n153         168      104.9   69.3   186.2        3.259           17.9   \n154         236      104.9   71.5   185.7        3.601           18.5   \n155         201      109.9   72.1   189.8        3.600           21.1   \n\n     Fuel_efficiency  Power_perf_factor  Vehicle_type_Passenger  \n0                 28          58.280150                       1  \n1                 25          91.370778                       1  \n2                 26          90.345000                       1  \n3                 22          91.389779                       1  \n4                 27          62.777639                       1  \n5                 22          84.565105                       1  \n6                 21         134.656858                       1  \n7                 26          71.191207                       1  \n8                 24          81.877069                       1  \n9                 25          83.998724                       1  \n10                25          71.181451                       1  \n11                23          95.636703                       1  \n12                24          85.828408                       1  \n13                25          84.254526                       1  \n14                22         113.854598                       1  \n15                22         115.621358                       1  \n16                22         113.765874                       1  \n17                22          83.483094                       1  \n18                15         109.509117                       0  \n19                27          46.363347                       1  \n20                25          67.314462                       1  \n21                25          69.991396                       1  \n22                27          72.030917                       1  \n23                25          81.118543                       1  \n24                22         141.141150                       1  \n25                33          48.297636                       1  \n26                45          23.276272                       1  \n27                27          71.838039                       1  \n28                24          65.957184                       1  \n29                24          69.521355                       1  \n..               ...                ...                     ...  \n126               23          73.503778                       1  \n127               23          76.023048                       1  \n128               33          39.986425                       1  \n129               33          40.700072                       1  \n130               31          49.865774                       1  \n131               27          56.295243                       1  \n132               28          54.819728                       1  \n133               25          67.765908                       1  \n134               24          66.762943                       0  \n135               33          47.968972                       1  \n136               27          54.372420                       1  \n137               26          84.911898                       1  \n138               31          56.496030                       1  \n139               23          55.297117                       0  \n140               22          78.027219                       0  \n141               27          51.955109                       0  \n142               23          62.355577                       0  \n143               15         102.528984                       0  \n144               26          46.943877                       1  \n145               26          47.638237                       1  \n146               27          61.701381                       1  \n147               26          48.907372                       1  \n148               26          47.946841                       1  \n149               26          47.329632                       1  \n150               25          66.113057                       1  \n151               25          66.498812                       1  \n152               25          70.654495                       1  \n153               25          71.155978                       1  \n154               23         101.623357                       1  \n155               24          85.735655                       1  \n\n[153 rows x 13 columns]\n",
          "name": "stdout"
        }
      ]
    },
    {
      "metadata": {},
      "cell_type": "markdown",
      "source": "### Q 6. Write code to standardize the variable for model building (return value will be numpy.ndarray)."
    },
    {
      "metadata": {
        "trusted": true
      },
      "cell_type": "code",
      "source": "std = pd.DataFrame()\ncar_modify = car_dummy.drop(car_dummy[['Sales_in_thousands']], axis=1)\ndef lr(car_modify):\n    from sklearn.preprocessing import StandardScaler\n    scaler = StandardScaler().fit(car_modify)\n    st = scaler.transform(car_modify)\n    return st\nstd = lr(car_modify)\nprint(std[1])",
      "execution_count": 13,
      "outputs": [
        {
          "output_type": "stream",
          "text": "[ 0.2147879   0.09116773  0.18859201  0.77851497  0.10306365 -0.22729613\n  0.43698582  0.22647767 -0.18117654  0.25690808  0.64045582  0.58234907]\n",
          "name": "stdout"
        }
      ]
    },
    {
      "metadata": {},
      "cell_type": "markdown",
      "source": "### Q 7. Write a code to create a DataFrame from the standardized value calculated above"
    },
    {
      "metadata": {},
      "cell_type": "markdown",
      "source": "### Since the standardized value is a numpy array, add the data to a dataframe with column header as mentioned below in the same order\n\n```['_year_resale_value','Price_in_thousands','Engine_size','Horsepower','Wheelbase','Width','Length','Curb_weight','Fuel_capacity','Fuel_efficiency','Power_perf_factor','Vehicle_type_Passenger'] ```"
    },
    {
      "metadata": {
        "trusted": true
      },
      "cell_type": "code",
      "source": "columns = ['_year_resale_value','Price_in_thousands','Engine_size','Horsepower','Wheelbase','Width','Length','Curb_weight','Fuel_capacity','Fuel_efficiency','Power_perf_factor','Vehicle_type_Passenger']\ndef lr(std):\n    cars= pd.DataFrame(std)\n    cars.columns = columns\n    return cars\ncars = lr(std)",
      "execution_count": 14,
      "outputs": []
    },
    {
      "metadata": {},
      "cell_type": "markdown",
      "source": "### Q 8: Now since all variable may not be of use, please extract only the following variables for training. Preparing X (independent features) for the model building.\n\n```['Price_in_thousands','Engine_size','Wheelbase','Fuel_efficiency','Vehicle_type_Passenger']```"
    },
    {
      "metadata": {
        "trusted": true
      },
      "cell_type": "code",
      "source": "X = pd.DataFrame()\nfeature_cols = ['Price_in_thousands','Engine_size','Wheelbase','Fuel_efficiency','Vehicle_type_Passenger']                \ndef lr(cars):\n    X = cars[feature_cols]\n    return X\nX = lr(cars)\nprint(X)",
      "execution_count": 15,
      "outputs": [
        {
          "output_type": "stream",
          "text": "     Price_in_thousands  Engine_size  Wheelbase  Fuel_efficiency  \\\n0             -0.403867    -1.268771  -0.856756         0.971917   \n1              0.091168     0.188592   0.103064         0.256908   \n2              0.134214     0.188592  -0.063862         0.495244   \n3              1.066888     0.500884   1.007242        -0.458101   \n4             -0.225224    -1.268771  -0.662010         0.733581   \n5              0.489348    -0.227798   0.186526        -0.458101   \n6              2.501772     1.229566   0.784675        -0.696438   \n7             -0.009992    -0.540090  -0.008220         0.495244   \n8              0.449889    -0.227798  -0.008220         0.018572   \n9              0.844481    -0.227798   0.562108         0.256908   \n10            -0.369789     0.084495   0.228258         0.256908   \n11            -0.131239     0.813176   0.228258        -0.219765   \n12             0.346936     0.813176   0.895958         0.018572   \n13             0.054219     0.813176   0.673391         0.256908   \n14             0.915867     1.645955   1.104615        -0.458101   \n15             1.244455     1.645955   0.673391        -0.458101   \n16             0.899366     1.645955   0.089153        -0.458101   \n17             0.278420    -0.019603   0.005691        -0.458101   \n18             1.370007     2.791027   1.410644        -2.126456   \n19            -0.995039    -0.852382  -0.453354         0.733581   \n20            -0.760077     0.084495  -0.049951         0.256908   \n21            -0.591119     0.084495   0.019601         0.256908   \n22            -0.555247     0.396787   0.436914         0.733581   \n23            -0.200114     0.813176  -0.870667         0.256908   \n24             1.332700     2.791027  -0.397712        -0.458101   \n25            -0.944818    -1.268771  -1.427084         2.163599   \n26            -1.283809    -2.101550  -1.983501         5.023636   \n27            -0.591119     0.396787   0.436914         0.733581   \n28            -0.522962    -0.540090  -0.508995         0.018572   \n29            -0.188993    -0.540090  -0.189055         0.018572   \n..                  ...          ...        ...              ...   \n124            0.429800    -0.748284  -0.133414        -0.219765   \n125           -0.073844    -1.060577  -0.662010        -0.219765   \n126           -1.179780    -1.164674  -0.689831         2.163599   \n127           -1.047053    -1.164674  -0.689831         2.163599   \n128           -0.921142    -1.164674  -0.689831         1.686927   \n129           -0.595065    -0.852382  -0.119503         0.733581   \n130           -0.869487    -0.852382  -0.119503         0.971917   \n131           -0.318133    -0.540090  -0.536816         0.256908   \n132           -0.504668    -0.540090  -1.107144         0.018572   \n133           -1.005944    -1.268771  -1.440994         2.163599   \n134           -0.689552    -0.852382  -0.300339         0.733581   \n135           -0.113662    -0.019603  -0.036041         0.495244   \n136           -0.735684    -1.268771  -0.689831         1.686927   \n137           -1.119300    -0.644187  -0.564637        -0.219765   \n138           -0.341593    -0.019603   0.951600        -0.458101   \n139           -0.734751    -1.060577  -1.733113         0.733581   \n140           -0.347333    -0.331895  -0.286428        -0.219765   \n141            1.764816     1.750053   0.673391        -2.126456   \n142           -0.877378    -1.060577  -1.176696         0.495244   \n143           -0.748239    -1.060577  -1.176696         0.495244   \n144           -0.425390    -1.268771  -0.133414         0.733581   \n145           -0.512201    -1.060577  -1.385352         0.495244   \n146           -0.690844    -1.060577  -1.176696         0.495244   \n147           -0.805634    -1.060577  -1.176696         0.495244   \n148           -0.267553    -1.164674  -0.954129         0.256908   \n149           -0.195809    -1.164674  -0.954129         0.256908   \n150            0.026598    -0.644187  -0.342070         0.256908   \n151            0.119865    -0.644187  -0.342070         0.256908   \n152            1.317993    -0.748284  -0.342070        -0.219765   \n153            0.636423    -0.123700   0.353451         0.018572   \n\n     Vehicle_type_Passenger  \n0                  0.582349  \n1                  0.582349  \n2                  0.582349  \n3                  0.582349  \n4                  0.582349  \n5                  0.582349  \n6                  0.582349  \n7                  0.582349  \n8                  0.582349  \n9                  0.582349  \n10                 0.582349  \n11                 0.582349  \n12                 0.582349  \n13                 0.582349  \n14                 0.582349  \n15                 0.582349  \n16                 0.582349  \n17                 0.582349  \n18                -1.717183  \n19                 0.582349  \n20                 0.582349  \n21                 0.582349  \n22                 0.582349  \n23                 0.582349  \n24                 0.582349  \n25                 0.582349  \n26                 0.582349  \n27                 0.582349  \n28                 0.582349  \n29                 0.582349  \n..                      ...  \n124                0.582349  \n125                0.582349  \n126                0.582349  \n127                0.582349  \n128                0.582349  \n129                0.582349  \n130                0.582349  \n131                0.582349  \n132               -1.717183  \n133                0.582349  \n134                0.582349  \n135                0.582349  \n136                0.582349  \n137               -1.717183  \n138               -1.717183  \n139               -1.717183  \n140               -1.717183  \n141               -1.717183  \n142                0.582349  \n143                0.582349  \n144                0.582349  \n145                0.582349  \n146                0.582349  \n147                0.582349  \n148                0.582349  \n149                0.582349  \n150                0.582349  \n151                0.582349  \n152                0.582349  \n153                0.582349  \n\n[154 rows x 5 columns]\n",
          "name": "stdout"
        }
      ]
    },
    {
      "metadata": {},
      "cell_type": "markdown",
      "source": "### Check for the type and shape of X."
    },
    {
      "metadata": {
        "trusted": true
      },
      "cell_type": "code",
      "source": "def lr():\n    print(type(X))\n    print(X.shape)\nlr()",
      "execution_count": 16,
      "outputs": [
        {
          "output_type": "stream",
          "text": "<class 'pandas.core.frame.DataFrame'>\n(154, 5)\n",
          "name": "stdout"
        }
      ]
    },
    {
      "metadata": {},
      "cell_type": "markdown",
      "source": "### Q 9. Extract y (dependent variable) for model building.\n```['Sales_in_thousands']```"
    },
    {
      "metadata": {
        "trusted": true
      },
      "cell_type": "code",
      "source": "y = pd.DataFrame()\ndef lr(car_dummy):\n    y = car_dummy['Sales_in_thousands']\n    return y\ny = lr(car_dummy)\nprint(y.head())",
      "execution_count": 17,
      "outputs": [
        {
          "output_type": "stream",
          "text": "0    16.919\n1    39.384\n2    14.114\n3     8.588\n4    20.397\nName: Sales_in_thousands, dtype: float64\n",
          "name": "stdout"
        }
      ]
    },
    {
      "metadata": {},
      "cell_type": "markdown",
      "source": "### Check for the type and shape of y. "
    },
    {
      "metadata": {
        "trusted": true
      },
      "cell_type": "code",
      "source": "def lr():\n    print(type(y))\n    print(y.shape)\nlr()",
      "execution_count": 18,
      "outputs": [
        {
          "output_type": "stream",
          "text": "<class 'pandas.core.series.Series'>\n(154,)\n",
          "name": "stdout"
        }
      ]
    },
    {
      "metadata": {},
      "cell_type": "markdown",
      "source": "<a id=section403></a>"
    },
    {
      "metadata": {},
      "cell_type": "markdown",
      "source": "### Q 10. Split the value of X and y into train and test datasets."
    },
    {
      "metadata": {
        "trusted": true
      },
      "cell_type": "code",
      "source": "from sklearn.cross_validation import train_test_split\ndef lr():\n    return train_test_split(X, y, test_size=0.30, random_state=1)\nX_train, X_test, y_train, y_test = lr()",
      "execution_count": 19,
      "outputs": [
        {
          "output_type": "stream",
          "text": "/home/nbuser/anaconda3_420/lib/python3.5/site-packages/sklearn/cross_validation.py:41: DeprecationWarning: This module was deprecated in version 0.18 in favor of the model_selection module into which all the refactored classes and functions are moved. Also note that the interface of the new CV iterators are different from that of this module. This module will be removed in 0.20.\n  \"This module will be removed in 0.20.\", DeprecationWarning)\n",
          "name": "stderr"
        }
      ]
    },
    {
      "metadata": {},
      "cell_type": "markdown",
      "source": "### Check the shape of  X and y of train dataset."
    },
    {
      "metadata": {
        "trusted": true
      },
      "cell_type": "code",
      "source": "def lr():\n    print(X_train.shape)\n    print(y_train.shape)\nlr()",
      "execution_count": 20,
      "outputs": [
        {
          "output_type": "stream",
          "text": "(107, 5)\n(107,)\n",
          "name": "stdout"
        }
      ]
    },
    {
      "metadata": {},
      "cell_type": "markdown",
      "source": "### Check the shape of X and y of test dataset."
    },
    {
      "metadata": {
        "trusted": true
      },
      "cell_type": "code",
      "source": "def lr():\n    print(X_test.shape)\n    print(y_test.shape)\nlr()",
      "execution_count": 21,
      "outputs": [
        {
          "output_type": "stream",
          "text": "(47, 5)\n(47,)\n",
          "name": "stdout"
        }
      ]
    },
    {
      "metadata": {},
      "cell_type": "markdown",
      "source": "<a id=section404></a>"
    },
    {
      "metadata": {},
      "cell_type": "markdown",
      "source": "### Q 11. Instantiate Linear regression model using scikit-learn"
    },
    {
      "metadata": {
        "trusted": true
      },
      "cell_type": "code",
      "source": "from sklearn.linear_model import LinearRegression\ndef lr():\n    linreg = LinearRegression()\n    return linreg\nlinreg = lr()",
      "execution_count": 22,
      "outputs": []
    },
    {
      "metadata": {},
      "cell_type": "markdown",
      "source": "### Q12. Fit the linear model on X_train and y_train."
    },
    {
      "metadata": {
        "trusted": true
      },
      "cell_type": "code",
      "source": "def lr():\n    linreg.fit(X_train, y_train)  \nlr()",
      "execution_count": 23,
      "outputs": []
    },
    {
      "metadata": {},
      "cell_type": "markdown",
      "source": "<a id=section405></a>"
    },
    {
      "metadata": {},
      "cell_type": "markdown",
      "source": "### Q 13. Interpret the Model Coefficients."
    },
    {
      "metadata": {
        "trusted": true
      },
      "cell_type": "code",
      "source": "def lr():\n    print('Intercept:',linreg.intercept_)                                            \n    print('Coefficients:',linreg.coef_)\nlr()",
      "execution_count": 24,
      "outputs": [
        {
          "output_type": "stream",
          "text": "Intercept: 54.799449887479796\nCoefficients: [-34.31886407  15.72311289  14.44766121   1.85806809  -0.48786904]\n",
          "name": "stdout"
        }
      ]
    },
    {
      "metadata": {},
      "cell_type": "markdown",
      "source": "### Q.14 Zip the features to pair the feature names with the coefficients."
    },
    {
      "metadata": {
        "trusted": true
      },
      "cell_type": "code",
      "source": "def lr():\n    feature_cols.insert(0,'Intercept')\n    coef = linreg.coef_.tolist()\n    coef.insert(0, linreg.intercept_)\n    eq1 = zip(feature_cols, coef)\n    for c1,c2 in eq1:\n        print(c1,c2)\nlr()",
      "execution_count": 25,
      "outputs": [
        {
          "output_type": "stream",
          "text": "Intercept 54.799449887479796\nPrice_in_thousands -34.31886407296333\nEngine_size 15.723112890831631\nWheelbase 14.447661212265652\nFuel_efficiency 1.858068093280978\nVehicle_type_Passenger -0.4878690445625964\n",
          "name": "stdout"
        }
      ]
    },
    {
      "metadata": {},
      "cell_type": "markdown",
      "source": "###  Q 15. Predict the train value using the built model."
    },
    {
      "metadata": {
        "trusted": true
      },
      "cell_type": "code",
      "source": "y_pred_train = linreg.predict(X_train)\npred= pd.DataFrame(y_pred_train)\ndef lr():  \n    pred.columns = ['Sales']\n    head = pred.head()\n    return head\nlr()",
      "execution_count": 26,
      "outputs": [
        {
          "output_type": "execute_result",
          "execution_count": 26,
          "data": {
            "text/plain": "       Sales\n0  53.416651\n1  68.933147\n2  68.246112\n3  34.094284\n4  68.870887",
            "text/html": "<div>\n<table border=\"1\" class=\"dataframe\">\n  <thead>\n    <tr style=\"text-align: right;\">\n      <th></th>\n      <th>Sales</th>\n    </tr>\n  </thead>\n  <tbody>\n    <tr>\n      <th>0</th>\n      <td>53.416651</td>\n    </tr>\n    <tr>\n      <th>1</th>\n      <td>68.933147</td>\n    </tr>\n    <tr>\n      <th>2</th>\n      <td>68.246112</td>\n    </tr>\n    <tr>\n      <th>3</th>\n      <td>34.094284</td>\n    </tr>\n    <tr>\n      <th>4</th>\n      <td>68.870887</td>\n    </tr>\n  </tbody>\n</table>\n</div>"
          },
          "metadata": {}
        }
      ]
    },
    {
      "metadata": {},
      "cell_type": "markdown",
      "source": "### Q 16. Predict the test value using the built model."
    },
    {
      "metadata": {
        "trusted": true
      },
      "cell_type": "code",
      "source": "y_pred_test = linreg.predict(X_test)    \npred_test= pd.DataFrame(y_pred_test)\ndef lr():\n    pred_test.columns=['Sales']\n    head = pred_test.head()\n    return head\nlr()",
      "execution_count": 27,
      "outputs": [
        {
          "output_type": "execute_result",
          "execution_count": 27,
          "data": {
            "text/plain": "       Sales\n0  53.079190\n1  68.257593\n2  27.775838\n3  45.468436\n4  66.711264",
            "text/html": "<div>\n<table border=\"1\" class=\"dataframe\">\n  <thead>\n    <tr style=\"text-align: right;\">\n      <th></th>\n      <th>Sales</th>\n    </tr>\n  </thead>\n  <tbody>\n    <tr>\n      <th>0</th>\n      <td>53.079190</td>\n    </tr>\n    <tr>\n      <th>1</th>\n      <td>68.257593</td>\n    </tr>\n    <tr>\n      <th>2</th>\n      <td>27.775838</td>\n    </tr>\n    <tr>\n      <th>3</th>\n      <td>45.468436</td>\n    </tr>\n    <tr>\n      <th>4</th>\n      <td>66.711264</td>\n    </tr>\n  </tbody>\n</table>\n</div>"
          },
          "metadata": {}
        }
      ]
    },
    {
      "metadata": {},
      "cell_type": "markdown",
      "source": "<a id=section406></a>"
    },
    {
      "metadata": {},
      "cell_type": "markdown",
      "source": "### Q 17 Evaluate the model using Mean Absolute Error metrics for both train and test."
    },
    {
      "metadata": {
        "trusted": true
      },
      "cell_type": "code",
      "source": "from sklearn import metrics\ndef lr():\n    MAE_train = metrics.mean_absolute_error(y_train, y_pred_train)\n    MAE_test = metrics.mean_absolute_error(y_test, y_pred_test)\n    print('MAE for training set is {}'.format(MAE_train))\n    print('MAE for test set is {}'.format(MAE_test))\nlr()",
      "execution_count": 28,
      "outputs": [
        {
          "output_type": "stream",
          "text": "MAE for training set is 40.8809821019252\nMAE for test set is 39.65688149451963\n",
          "name": "stdout"
        }
      ]
    },
    {
      "metadata": {},
      "cell_type": "markdown",
      "source": "### Q 18 Evaluate the model using Mean Squared Error for both train and test."
    },
    {
      "metadata": {
        "trusted": true
      },
      "cell_type": "code",
      "source": "def lr():\n    MSE_train = metrics.mean_squared_error(y_train, y_pred_train)\n    MSE_test = metrics.mean_squared_error(y_test, y_pred_test)\n    print('MSE for training set is {}'.format(MSE_train))\n    print('MSE for test set is {}'.format(MSE_test))\nlr()",
      "execution_count": 29,
      "outputs": [
        {
          "output_type": "stream",
          "text": "MSE for training set is 3458.107513092643\nMSE for test set is 2877.9380668138374\n",
          "name": "stdout"
        }
      ]
    },
    {
      "metadata": {},
      "cell_type": "markdown",
      "source": "### Q 19 Evaluate the model using Root Mean Squared Error for both train and test."
    },
    {
      "metadata": {
        "trusted": true
      },
      "cell_type": "code",
      "source": "import numpy as np\ndef lr():\n    RMSE_train = np.sqrt( metrics.mean_squared_error(y_train, y_pred_train))\n    RMSE_test = np.sqrt(metrics.mean_squared_error(y_test, y_pred_test))\n    print('RMSE for training set is {}'.format(RMSE_train))\n    print('RMSE for test set is {}'.format(RMSE_test))\nlr()",
      "execution_count": 30,
      "outputs": [
        {
          "output_type": "stream",
          "text": "RMSE for training set is 58.80567585780001\nRMSE for test set is 53.646417092046676\n",
          "name": "stdout"
        }
      ]
    },
    {
      "metadata": {},
      "cell_type": "markdown",
      "source": "### Q 20. Evaluate the model using R-square value for both train and test."
    },
    {
      "metadata": {
        "trusted": true
      },
      "cell_type": "code",
      "source": "from sklearn.metrics import r2_score\ndef lr():\n    R2_train = r2_score(y_train, y_pred_train) \n    R2_test = r2_score(y_test, y_pred_test) \n    print('R2 for training set is {}'.format(R2_train))\n    print('R2 for test set is {}'.format(R2_test))\nlr()",
      "execution_count": 31,
      "outputs": [
        {
          "output_type": "stream",
          "text": "R2 for training set is 0.20693342971854856\nR2 for test set is 0.18716596176154165\n",
          "name": "stdout"
        }
      ]
    }
  ],
  "metadata": {
    "kernelspec": {
      "name": "python3",
      "display_name": "Python 3",
      "language": "python"
    },
    "language_info": {
      "mimetype": "text/x-python",
      "nbconvert_exporter": "python",
      "name": "python",
      "pygments_lexer": "ipython3",
      "version": "3.5.4",
      "file_extension": ".py",
      "codemirror_mode": {
        "version": 3,
        "name": "ipython"
      }
    }
  },
  "nbformat": 4,
  "nbformat_minor": 2
}