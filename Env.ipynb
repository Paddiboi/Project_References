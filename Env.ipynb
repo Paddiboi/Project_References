{
  "cells": [
    {
      "metadata": {
        "trusted": true
      },
      "cell_type": "code",
      "source": "!pip install virtualenv",
      "execution_count": 1,
      "outputs": [
        {
          "output_type": "stream",
          "text": "Collecting virtualenv\n\u001b[?25l  Downloading https://files.pythonhosted.org/packages/ed/8e/017ae1fa91c225c27235a73e45e1e82b6a5de1fc7c99ffde68914ac78048/virtualenv-20.0.15-py2.py3-none-any.whl (4.6MB)\n\u001b[K     |████████████████████████████████| 4.6MB 3.2MB/s eta 0:00:01     |██████████████████████          | 3.2MB 3.2MB/s eta 0:00:01\n\u001b[?25hRequirement already satisfied: filelock<4,>=3.0.0 in /home/nbuser/anaconda3_501/lib/python3.6/site-packages (from virtualenv) (3.0.8)\nRequirement already satisfied: appdirs<2,>=1.4.3 in /home/nbuser/anaconda3_501/lib/python3.6/site-packages (from virtualenv) (1.4.3)\nRequirement already satisfied: six<2,>=1.9.0 in /home/nbuser/anaconda3_501/lib/python3.6/site-packages (from virtualenv) (1.11.0)\nCollecting importlib-metadata<2,>=0.12; python_version < \"3.8\"\n  Using cached https://files.pythonhosted.org/packages/ad/e4/891bfcaf868ccabc619942f27940c77a8a4b45fd8367098955bb7e152fb1/importlib_metadata-1.6.0-py2.py3-none-any.whl\nCollecting importlib-resources<2,>=1.0; python_version < \"3.7\"\n  Downloading https://files.pythonhosted.org/packages/8f/36/e678bc02cad98e566fbd7e6711ab2f389fc9adfb1edbb9f553eae41f9f97/importlib_resources-1.4.0-py2.py3-none-any.whl\nCollecting distlib<1,>=0.3.0\n\u001b[?25l  Downloading https://files.pythonhosted.org/packages/7d/29/694a3a4d7c0e1aef76092e9167fbe372e0f7da055f5dcf4e1313ec21d96a/distlib-0.3.0.zip (571kB)\n\u001b[K     |████████████████████████████████| 573kB 3.5MB/s eta 0:00:01\n\u001b[?25hCollecting zipp>=0.5\n  Downloading https://files.pythonhosted.org/packages/b2/34/bfcb43cc0ba81f527bc4f40ef41ba2ff4080e047acb0586b56b3d017ace4/zipp-3.1.0-py3-none-any.whl\nBuilding wheels for collected packages: distlib\n  Building wheel for distlib (setup.py) ... \u001b[?25ldone\n\u001b[?25h  Created wheel for distlib: filename=distlib-0.3.0-cp36-none-any.whl size=336972 sha256=d7be32f9a4674c20c715321f1a71b9ab4b66f28261155b43ba6771900d1f15b1\n  Stored in directory: /home/nbuser/.cache/pip/wheels/6e/e8/db/c73dae4867666e89ba3cfbc4b5c092446f0e584eda6f409cbb\nSuccessfully built distlib\nInstalling collected packages: zipp, importlib-metadata, importlib-resources, distlib, virtualenv\nSuccessfully installed distlib-0.3.0 importlib-metadata-1.6.0 importlib-resources-1.4.0 virtualenv-20.0.15 zipp-3.1.0\n\u001b[33mWARNING: You are using pip version 19.3.1; however, version 20.0.2 is available.\nYou should consider upgrading via the 'pip install --upgrade pip' command.\u001b[0m\n",
          "name": "stdout"
        }
      ]
    },
    {
      "metadata": {
        "trusted": true
      },
      "cell_type": "code",
      "source": "!pip install --upgrade pip",
      "execution_count": 2,
      "outputs": [
        {
          "output_type": "stream",
          "text": "Collecting pip\n  Using cached https://files.pythonhosted.org/packages/54/0c/d01aa759fdc501a58f431eb594a17495f15b88da142ce14b5845662c13f3/pip-20.0.2-py2.py3-none-any.whl\nInstalling collected packages: pip\n  Found existing installation: pip 19.3.1\n    Uninstalling pip-19.3.1:\n      Successfully uninstalled pip-19.3.1\nSuccessfully installed pip-20.0.2\n",
          "name": "stdout"
        }
      ]
    },
    {
      "metadata": {
        "trusted": true
      },
      "cell_type": "code",
      "source": "#virtualenv venv\n#source venv/bin/activate",
      "execution_count": 3,
      "outputs": [
        {
          "output_type": "error",
          "ename": "SyntaxError",
          "evalue": "invalid syntax (<ipython-input-3-0ee5a4e6a100>, line 1)",
          "traceback": [
            "\u001b[0;36m  File \u001b[0;32m\"<ipython-input-3-0ee5a4e6a100>\"\u001b[0;36m, line \u001b[0;32m1\u001b[0m\n\u001b[0;31m    virtualenv venv\u001b[0m\n\u001b[0m                  ^\u001b[0m\n\u001b[0;31mSyntaxError\u001b[0m\u001b[0;31m:\u001b[0m invalid syntax\n"
          ]
        }
      ]
    }
  ],
  "metadata": {
    "kernelspec": {
      "name": "python36",
      "display_name": "Python 3.6",
      "language": "python"
    },
    "language_info": {
      "mimetype": "text/x-python",
      "nbconvert_exporter": "python",
      "name": "python",
      "pygments_lexer": "ipython3",
      "version": "3.6.6",
      "file_extension": ".py",
      "codemirror_mode": {
        "version": 3,
        "name": "ipython"
      }
    }
  },
  "nbformat": 4,
  "nbformat_minor": 1
}