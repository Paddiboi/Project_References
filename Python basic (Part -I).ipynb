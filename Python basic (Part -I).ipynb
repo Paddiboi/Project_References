{
  "cells": [
    {
      "metadata": {
        "trusted": true
      },
      "cell_type": "code",
      "source": "print(\"Twinkle, twinkle, little star,\\n\\tHow I wonder what you are!\\n\\t\\tUp above the world so high,\\n\\t\\tLike a diamond in the sky.\\nTwinkle, twinkle, little star,\\n\\tHow I wonder what you are\")",
      "execution_count": 1,
      "outputs": [
        {
          "output_type": "stream",
          "text": "Twinkle, twinkle, little star,\n\tHow I wonder what you are!\n\t\tUp above the world so high,\n\t\tLike a diamond in the sky.\nTwinkle, twinkle, little star,\n\tHow I wonder what you are\n",
          "name": "stdout"
        }
      ]
    },
    {
      "metadata": {
        "trusted": true
      },
      "cell_type": "code",
      "source": "import sys\nprint(\"Python version\")\nprint (sys.version)\nprint(\"Version info.\")\nprint (sys.version_info)",
      "execution_count": 2,
      "outputs": [
        {
          "output_type": "stream",
          "text": "Python version\n3.5.4 |Anaconda custom (64-bit)| (default, Oct 13 2017, 11:22:58) \n[GCC 7.2.0]\nVersion info.\nsys.version_info(major=3, minor=5, micro=4, releaselevel='final', serial=0)\n",
          "name": "stdout"
        }
      ]
    },
    {
      "metadata": {
        "trusted": true
      },
      "cell_type": "code",
      "source": "import datetime\nnow = datetime.datetime.now()\nprint (\"Current date and time : \")\nprint (now.strftime(\"%Y-%m-%d %H:%M:%S\"))",
      "execution_count": 3,
      "outputs": [
        {
          "output_type": "stream",
          "text": "Current date and time : \n2020-04-03 13:25:15\n",
          "name": "stdout"
        }
      ]
    },
    {
      "metadata": {
        "trusted": true
      },
      "cell_type": "code",
      "source": "from math import pi\nr = float(input('Enter Radius'))\nArea = pi*r**2\nprint(\"Area of the cicle with radius {} is {}\".format(r,Area))",
      "execution_count": 4,
      "outputs": [
        {
          "output_type": "stream",
          "name": "stdout",
          "text": "Enter Radius2\nArea of the cicle with radius 2.0 is 12.566370614359172\n"
        }
      ]
    },
    {
      "metadata": {
        "trusted": true
      },
      "cell_type": "code",
      "source": "fname = input(\"Input your First Name : \")\nlname = input(\"Input your Last Name : \")\nprint (\"Hello  \" + lname + \" \" + fname +\"!\")",
      "execution_count": 5,
      "outputs": [
        {
          "output_type": "stream",
          "name": "stdout",
          "text": "Input your First Name : name\nInput your Last Name : pname\nHello  pname name!\n"
        }
      ]
    },
    {
      "metadata": {
        "trusted": true
      },
      "cell_type": "code",
      "source": "values = input(\"Input some comma seprated numbers : \")\nlist = values.split(\",\")\ntuple = tuple(list)\nprint('List : ',list)\nprint('Tuple : ',tuple)",
      "execution_count": 6,
      "outputs": [
        {
          "output_type": "stream",
          "name": "stdout",
          "text": "Input some comma seprated numbers : 1,5,6,8,5,5\nList :  ['1', '5', '6', '8', '5', '5']\nTuple :  ('1', '5', '6', '8', '5', '5')\n"
        }
      ]
    },
    {
      "metadata": {
        "trusted": true
      },
      "cell_type": "code",
      "source": "filename = input(\"Input the Filename: \")\nf_extns = filename.split(\".\")\nprint (\"The extension of the file is : \" + repr(f_extns[-1]))   #repr() returns a string that holds a printable representation of an object.",
      "execution_count": 7,
      "outputs": [
        {
          "output_type": "stream",
          "name": "stdout",
          "text": "Input the Filename: mkmk\nThe extension of the file is : 'mkmk'\n"
        }
      ]
    },
    {
      "metadata": {
        "trusted": true
      },
      "cell_type": "code",
      "source": "color_list = [\"Red\",\"Green\",\"White\" ,\"Black\"]\n\nprint(\"first color in the list is:\",color_list[0])\nprint(\"last color in the list is:\",color_list[-1])\n\n\nprint( \"%s %s\"%(color_list[0],color_list[-1]))",
      "execution_count": 8,
      "outputs": [
        {
          "output_type": "stream",
          "text": "first color in the list is: Red\nlast color in the list is: Black\nRed Black\n",
          "name": "stdout"
        }
      ]
    },
    {
      "metadata": {
        "trusted": true
      },
      "cell_type": "code",
      "source": "exam_st_date = (11, 12, 2014)\n\nprint(\"The Examination Start Date is: {}/{}/{}\".format(exam_st_date[0],exam_st_date[1],exam_st_date[2]))",
      "execution_count": 9,
      "outputs": [
        {
          "output_type": "stream",
          "text": "The Examination Start Date is: 11/12/2014\n",
          "name": "stdout"
        }
      ]
    },
    {
      "metadata": {
        "trusted": true
      },
      "cell_type": "code",
      "source": "a = int(input(\"Input an integer : \"))\nn1 = int( \"%s\" % a )\nn2 = int( \"%s%s\" % (a,a) )\nn3 = int( \"%s%s%s\" % (a,a,a) )\nprint (n1+n2+n3)",
      "execution_count": 10,
      "outputs": [
        {
          "output_type": "stream",
          "name": "stdout",
          "text": "Input an integer : 2\n246\n"
        }
      ]
    },
    {
      "metadata": {
        "trusted": true
      },
      "cell_type": "code",
      "source": "print(abs.__doc__)",
      "execution_count": 11,
      "outputs": [
        {
          "output_type": "stream",
          "text": "Return the absolute value of the argument.\n",
          "name": "stdout"
        }
      ]
    },
    {
      "metadata": {
        "trusted": true
      },
      "cell_type": "code",
      "source": "print('\\\"hello' + \" \" + \"world's end\\\"\")",
      "execution_count": 12,
      "outputs": [
        {
          "output_type": "stream",
          "text": "\"hello world's end\"\n",
          "name": "stdout"
        }
      ]
    }
  ],
  "metadata": {
    "kernelspec": {
      "name": "python3",
      "display_name": "Python 3",
      "language": "python"
    },
    "language_info": {
      "mimetype": "text/x-python",
      "nbconvert_exporter": "python",
      "name": "python",
      "pygments_lexer": "ipython3",
      "version": "3.5.4",
      "file_extension": ".py",
      "codemirror_mode": {
        "version": 3,
        "name": "ipython"
      }
    }
  },
  "nbformat": 4,
  "nbformat_minor": 2
}