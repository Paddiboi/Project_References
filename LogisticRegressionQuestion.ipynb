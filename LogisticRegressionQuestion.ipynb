{
  "cells": [
    {
      "metadata": {},
      "cell_type": "markdown",
      "source": "<img src=\"https://github.com/insaid2018/Term-1/blob/master/Images/INSAID_Full%20Logo.png?raw=true\" width=\"240\" height=\"360\" />\n\n# ASSIGNMENT\n# LOGISTIC REGRESSION"
    },
    {
      "metadata": {},
      "cell_type": "markdown",
      "source": "\n##  Bank Marketing\n\n\n**Abstract:** \nThe data is related with __direct marketing campaigns__ (phone calls) of a Portuguese banking institution. The classification goal is to predict if the client will subscribe a __term deposit (variable y)__.\n\n**Data Set Information:**\nThe data is related with direct marketing campaigns of a Portuguese banking institution. The marketing campaigns were based on phone calls. Often, more than one contact to the same client was required, in order to access if the __product (bank term deposit)__ would be __('yes')__ or __('no')__ subscribed. \n\n###  Source:\n\n - Dataset from : http://archive.ics.uci.edu/ml/datasets/Bank+Marketing#\n "
    },
    {
      "metadata": {},
      "cell_type": "markdown",
      "source": "### Import the dataset"
    },
    {
      "metadata": {
        "trusted": true
      },
      "cell_type": "code",
      "source": "import pandas as pd\nbank = pd.read_csv('https://raw.githubusercontent.com/insaid2018/Term-2/master/Data/bank.csv')\nbank.head() ",
      "execution_count": 14,
      "outputs": [
        {
          "output_type": "execute_result",
          "execution_count": 14,
          "data": {
            "text/html": "<div>\n<table border=\"1\" class=\"dataframe\">\n  <thead>\n    <tr style=\"text-align: right;\">\n      <th></th>\n      <th>age</th>\n      <th>job</th>\n      <th>marital</th>\n      <th>education</th>\n      <th>default</th>\n      <th>housing</th>\n      <th>loan</th>\n      <th>contact</th>\n      <th>month</th>\n      <th>day_of_week</th>\n      <th>...</th>\n      <th>campaign</th>\n      <th>pdays</th>\n      <th>previous</th>\n      <th>poutcome</th>\n      <th>emp.var.rate</th>\n      <th>cons.price.idx</th>\n      <th>cons.conf.idx</th>\n      <th>euribor3m</th>\n      <th>nr.employed</th>\n      <th>y</th>\n    </tr>\n  </thead>\n  <tbody>\n    <tr>\n      <th>0</th>\n      <td>46</td>\n      <td>blue-collar</td>\n      <td>married</td>\n      <td>basic.9y</td>\n      <td>no</td>\n      <td>no</td>\n      <td>yes</td>\n      <td>telephone</td>\n      <td>may</td>\n      <td>tue</td>\n      <td>...</td>\n      <td>3</td>\n      <td>999</td>\n      <td>0</td>\n      <td>nonexistent</td>\n      <td>1.1</td>\n      <td>93.994</td>\n      <td>-36.4</td>\n      <td>4.857</td>\n      <td>5191.0</td>\n      <td>no</td>\n    </tr>\n    <tr>\n      <th>1</th>\n      <td>29</td>\n      <td>admin.</td>\n      <td>single</td>\n      <td>university.degree</td>\n      <td>no</td>\n      <td>no</td>\n      <td>no</td>\n      <td>cellular</td>\n      <td>may</td>\n      <td>wed</td>\n      <td>...</td>\n      <td>2</td>\n      <td>999</td>\n      <td>0</td>\n      <td>nonexistent</td>\n      <td>-1.8</td>\n      <td>92.893</td>\n      <td>-46.2</td>\n      <td>1.281</td>\n      <td>5099.1</td>\n      <td>no</td>\n    </tr>\n    <tr>\n      <th>2</th>\n      <td>50</td>\n      <td>management</td>\n      <td>married</td>\n      <td>university.degree</td>\n      <td>no</td>\n      <td>yes</td>\n      <td>yes</td>\n      <td>cellular</td>\n      <td>apr</td>\n      <td>fri</td>\n      <td>...</td>\n      <td>1</td>\n      <td>999</td>\n      <td>0</td>\n      <td>nonexistent</td>\n      <td>-1.8</td>\n      <td>93.075</td>\n      <td>-47.1</td>\n      <td>1.405</td>\n      <td>5099.1</td>\n      <td>no</td>\n    </tr>\n    <tr>\n      <th>3</th>\n      <td>31</td>\n      <td>admin.</td>\n      <td>married</td>\n      <td>high.school</td>\n      <td>unknown</td>\n      <td>yes</td>\n      <td>no</td>\n      <td>telephone</td>\n      <td>may</td>\n      <td>thu</td>\n      <td>...</td>\n      <td>2</td>\n      <td>999</td>\n      <td>0</td>\n      <td>nonexistent</td>\n      <td>1.1</td>\n      <td>93.994</td>\n      <td>-36.4</td>\n      <td>4.860</td>\n      <td>5191.0</td>\n      <td>no</td>\n    </tr>\n    <tr>\n      <th>4</th>\n      <td>32</td>\n      <td>admin.</td>\n      <td>single</td>\n      <td>high.school</td>\n      <td>no</td>\n      <td>yes</td>\n      <td>no</td>\n      <td>cellular</td>\n      <td>jun</td>\n      <td>tue</td>\n      <td>...</td>\n      <td>1</td>\n      <td>999</td>\n      <td>0</td>\n      <td>nonexistent</td>\n      <td>-2.9</td>\n      <td>92.963</td>\n      <td>-40.8</td>\n      <td>1.262</td>\n      <td>5076.2</td>\n      <td>yes</td>\n    </tr>\n  </tbody>\n</table>\n<p>5 rows × 21 columns</p>\n</div>",
            "text/plain": "   age          job  marital          education  default housing loan  \\\n0   46  blue-collar  married           basic.9y       no      no  yes   \n1   29       admin.   single  university.degree       no      no   no   \n2   50   management  married  university.degree       no     yes  yes   \n3   31       admin.  married        high.school  unknown     yes   no   \n4   32       admin.   single        high.school       no     yes   no   \n\n     contact month day_of_week ...   campaign  pdays  previous     poutcome  \\\n0  telephone   may         tue ...          3    999         0  nonexistent   \n1   cellular   may         wed ...          2    999         0  nonexistent   \n2   cellular   apr         fri ...          1    999         0  nonexistent   \n3  telephone   may         thu ...          2    999         0  nonexistent   \n4   cellular   jun         tue ...          1    999         0  nonexistent   \n\n  emp.var.rate  cons.price.idx  cons.conf.idx  euribor3m  nr.employed    y  \n0          1.1          93.994          -36.4      4.857       5191.0   no  \n1         -1.8          92.893          -46.2      1.281       5099.1   no  \n2         -1.8          93.075          -47.1      1.405       5099.1   no  \n3          1.1          93.994          -36.4      4.860       5191.0   no  \n4         -2.9          92.963          -40.8      1.262       5076.2  yes  \n\n[5 rows x 21 columns]"
          },
          "metadata": {}
        }
      ]
    },
    {
      "metadata": {},
      "cell_type": "markdown",
      "source": "### Check the columns present in the dataset"
    },
    {
      "metadata": {
        "trusted": true
      },
      "cell_type": "code",
      "source": "bank.columns",
      "execution_count": 15,
      "outputs": [
        {
          "output_type": "execute_result",
          "execution_count": 15,
          "data": {
            "text/plain": "Index(['age', 'job', 'marital', 'education', 'default', 'housing', 'loan',\n       'contact', 'month', 'day_of_week', 'duration', 'campaign', 'pdays',\n       'previous', 'poutcome', 'emp.var.rate', 'cons.price.idx',\n       'cons.conf.idx', 'euribor3m', 'nr.employed', 'y'],\n      dtype='object')"
          },
          "metadata": {}
        }
      ]
    },
    {
      "metadata": {},
      "cell_type": "markdown",
      "source": "### Check the shape of Dataset"
    },
    {
      "metadata": {
        "trusted": true
      },
      "cell_type": "code",
      "source": "bank.shape",
      "execution_count": 16,
      "outputs": [
        {
          "output_type": "execute_result",
          "execution_count": 16,
          "data": {
            "text/plain": "(10297, 21)"
          },
          "metadata": {}
        }
      ]
    },
    {
      "metadata": {},
      "cell_type": "markdown",
      "source": "### Check the descriptive statistics of the dataset"
    },
    {
      "metadata": {
        "trusted": true
      },
      "cell_type": "code",
      "source": "bank.describe() ",
      "execution_count": 17,
      "outputs": [
        {
          "output_type": "execute_result",
          "execution_count": 17,
          "data": {
            "text/html": "<div>\n<table border=\"1\" class=\"dataframe\">\n  <thead>\n    <tr style=\"text-align: right;\">\n      <th></th>\n      <th>age</th>\n      <th>duration</th>\n      <th>campaign</th>\n      <th>pdays</th>\n      <th>previous</th>\n      <th>emp.var.rate</th>\n      <th>cons.price.idx</th>\n      <th>cons.conf.idx</th>\n      <th>euribor3m</th>\n      <th>nr.employed</th>\n    </tr>\n  </thead>\n  <tbody>\n    <tr>\n      <th>count</th>\n      <td>10297.000000</td>\n      <td>10297.000000</td>\n      <td>10297.000000</td>\n      <td>10297.000000</td>\n      <td>10297.000000</td>\n      <td>10297.000000</td>\n      <td>10297.000000</td>\n      <td>10297.000000</td>\n      <td>10297.000000</td>\n      <td>10297.000000</td>\n    </tr>\n    <tr>\n      <th>mean</th>\n      <td>40.080606</td>\n      <td>261.388268</td>\n      <td>2.561134</td>\n      <td>963.609692</td>\n      <td>0.171506</td>\n      <td>0.077256</td>\n      <td>93.574206</td>\n      <td>-40.445780</td>\n      <td>3.621923</td>\n      <td>5166.850442</td>\n    </tr>\n    <tr>\n      <th>std</th>\n      <td>10.472190</td>\n      <td>263.722874</td>\n      <td>2.827084</td>\n      <td>184.098592</td>\n      <td>0.496992</td>\n      <td>1.576732</td>\n      <td>0.577502</td>\n      <td>4.622221</td>\n      <td>1.734170</td>\n      <td>72.492914</td>\n    </tr>\n    <tr>\n      <th>min</th>\n      <td>18.000000</td>\n      <td>0.000000</td>\n      <td>1.000000</td>\n      <td>0.000000</td>\n      <td>0.000000</td>\n      <td>-3.400000</td>\n      <td>92.201000</td>\n      <td>-50.800000</td>\n      <td>0.634000</td>\n      <td>4963.600000</td>\n    </tr>\n    <tr>\n      <th>25%</th>\n      <td>32.000000</td>\n      <td>103.000000</td>\n      <td>1.000000</td>\n      <td>999.000000</td>\n      <td>0.000000</td>\n      <td>-1.800000</td>\n      <td>93.075000</td>\n      <td>-42.700000</td>\n      <td>1.344000</td>\n      <td>5099.100000</td>\n    </tr>\n    <tr>\n      <th>50%</th>\n      <td>38.000000</td>\n      <td>180.000000</td>\n      <td>2.000000</td>\n      <td>999.000000</td>\n      <td>0.000000</td>\n      <td>1.100000</td>\n      <td>93.749000</td>\n      <td>-41.800000</td>\n      <td>4.857000</td>\n      <td>5191.000000</td>\n    </tr>\n    <tr>\n      <th>75%</th>\n      <td>47.000000</td>\n      <td>327.000000</td>\n      <td>3.000000</td>\n      <td>999.000000</td>\n      <td>0.000000</td>\n      <td>1.400000</td>\n      <td>93.994000</td>\n      <td>-36.400000</td>\n      <td>4.961000</td>\n      <td>5228.100000</td>\n    </tr>\n    <tr>\n      <th>max</th>\n      <td>94.000000</td>\n      <td>3643.000000</td>\n      <td>56.000000</td>\n      <td>999.000000</td>\n      <td>6.000000</td>\n      <td>1.400000</td>\n      <td>94.767000</td>\n      <td>-26.900000</td>\n      <td>5.045000</td>\n      <td>5228.100000</td>\n    </tr>\n  </tbody>\n</table>\n</div>",
            "text/plain": "                age      duration      campaign         pdays      previous  \\\ncount  10297.000000  10297.000000  10297.000000  10297.000000  10297.000000   \nmean      40.080606    261.388268      2.561134    963.609692      0.171506   \nstd       10.472190    263.722874      2.827084    184.098592      0.496992   \nmin       18.000000      0.000000      1.000000      0.000000      0.000000   \n25%       32.000000    103.000000      1.000000    999.000000      0.000000   \n50%       38.000000    180.000000      2.000000    999.000000      0.000000   \n75%       47.000000    327.000000      3.000000    999.000000      0.000000   \nmax       94.000000   3643.000000     56.000000    999.000000      6.000000   \n\n       emp.var.rate  cons.price.idx  cons.conf.idx     euribor3m   nr.employed  \ncount  10297.000000    10297.000000   10297.000000  10297.000000  10297.000000  \nmean       0.077256       93.574206     -40.445780      3.621923   5166.850442  \nstd        1.576732        0.577502       4.622221      1.734170     72.492914  \nmin       -3.400000       92.201000     -50.800000      0.634000   4963.600000  \n25%       -1.800000       93.075000     -42.700000      1.344000   5099.100000  \n50%        1.100000       93.749000     -41.800000      4.857000   5191.000000  \n75%        1.400000       93.994000     -36.400000      4.961000   5228.100000  \nmax        1.400000       94.767000     -26.900000      5.045000   5228.100000  "
          },
          "metadata": {}
        }
      ]
    },
    {
      "metadata": {},
      "cell_type": "markdown",
      "source": "### Check the info of the dataset"
    },
    {
      "metadata": {
        "trusted": true
      },
      "cell_type": "code",
      "source": "bank.info() ",
      "execution_count": 18,
      "outputs": [
        {
          "output_type": "stream",
          "text": "<class 'pandas.core.frame.DataFrame'>\nRangeIndex: 10297 entries, 0 to 10296\nData columns (total 21 columns):\nage               10297 non-null int64\njob               10297 non-null object\nmarital           10297 non-null object\neducation         10297 non-null object\ndefault           10297 non-null object\nhousing           10297 non-null object\nloan              10297 non-null object\ncontact           10297 non-null object\nmonth             10297 non-null object\nday_of_week       10297 non-null object\nduration          10297 non-null int64\ncampaign          10297 non-null int64\npdays             10297 non-null int64\nprevious          10297 non-null int64\npoutcome          10297 non-null object\nemp.var.rate      10297 non-null float64\ncons.price.idx    10297 non-null float64\ncons.conf.idx     10297 non-null float64\neuribor3m         10297 non-null float64\nnr.employed       10297 non-null float64\ny                 10297 non-null object\ndtypes: float64(5), int64(5), object(11)\nmemory usage: 1.6+ MB\n",
          "name": "stdout"
        }
      ]
    },
    {
      "metadata": {},
      "cell_type": "markdown",
      "source": "### Q 1. Write a code to understand the below mentioned variables and print their 'unique' attributes.\n``` ['job', 'marital', 'education', 'housing', 'loan', 'contact', 'month', 'day_of_week', 'campaign','poutcome', 'pdays', 'emp.var.rate', 'cons.price.idx', 'cons.conf.idx', 'euribor3m'] ```"
    },
    {
      "metadata": {
        "trusted": true
      },
      "cell_type": "code",
      "source": "def log():\n    print('Job have these unique values:',bank['job'].unique())\n    print('Marital have these unique values:',bank['marital'].unique())\n    print('Education have these unique values:',bank['education'].unique())\n    print('Housing have these unique values:',bank['housing'].unique())\n    print('Loan have these unique values:',bank['loan'].unique())\n    print('Default have these unique values:',bank['default'].unique())\n    print('Contact have these unique values:',bank['contact'].unique())\n    print('Month have these unique values:',bank['month'].unique())\n    print('Day_of_week have these unique values:',bank['day_of_week'].unique())\n    print('Campaign have these unique values:',bank['campaign'].unique())\n    print('Poutcome have these unique values:',bank['poutcome'].unique())\n    print('Pdays have these unique values:',bank['pdays'].unique())\n    print('emp.var.rate have these unique values:',bank['emp.var.rate'].unique())\n    print('cons.price.idx have these unique values:',bank['cons.price.idx'].unique())\n    print('cons.conf.idx have these unique values:',bank['cons.conf.idx'].unique())\n    print('euribor3m have these unique values:',bank['euribor3m'].unique())\nlog()",
      "execution_count": 19,
      "outputs": [
        {
          "output_type": "stream",
          "text": "Job have these unique values: ['blue-collar' 'admin.' 'management' 'technician' 'retired' 'services'\n 'entrepreneur' 'self-employed' 'unemployed' 'student' 'housemaid'\n 'unknown']\nMarital have these unique values: ['married' 'single' 'divorced' 'unknown']\nEducation have these unique values: ['basic.9y' 'university.degree' 'high.school' 'professional.course'\n 'basic.6y' 'basic.4y' 'unknown' 'illiterate']\nHousing have these unique values: ['no' 'yes' 'unknown']\nLoan have these unique values: ['yes' 'no' 'unknown']\nDefault have these unique values: ['no' 'unknown']\nContact have these unique values: ['telephone' 'cellular']\nMonth have these unique values: ['may' 'apr' 'jun' 'aug' 'jul' 'oct' 'nov' 'dec' 'sep' 'mar']\nDay_of_week have these unique values: ['tue' 'wed' 'fri' 'thu' 'mon']\nCampaign have these unique values: [ 3  2  1  4  5  6 14  7 21  9 12  8 17 10 20 33 29 15 23 11 18 13 19 39\n 27 16 31 34 26 28 24 32 22 56 25 40]\nPoutcome have these unique values: ['nonexistent' 'failure' 'success']\nPdays have these unique values: [999   6   9   2  16   3   7   4  12  13   0   1   5  11  26  10   8  14\n  15  20  18  17]\nemp.var.rate have these unique values: [ 1.1 -1.8 -2.9  1.4 -3.4 -1.7 -0.1 -3.  -1.1]\ncons.price.idx have these unique values: [93.994 92.893 93.075 92.963 93.444 94.465 93.749 93.918 92.431 94.215\n 94.027 93.2   92.649 92.713 94.199 92.843 92.201 93.876 92.379 93.369\n 93.798 94.601 94.055 94.767 92.469]\ncons.conf.idx have these unique values: [-36.4 -46.2 -47.1 -40.8 -36.1 -41.8 -34.6 -42.7 -26.9 -40.3 -38.3 -42.\n -30.1 -33.  -37.5 -50.  -31.4 -40.  -29.8 -34.8 -40.4 -49.5 -39.8 -50.8\n -33.6]\neuribor3m have these unique values: [4.857 1.281 1.405 4.86  1.262 4.963 4.959 1.313 4.967 0.663 1.299 4.966\n 4.958 1.25  4.96  4.856 4.961 0.728 0.899 4.858 4.964 4.855 4.866 4.864\n 1.365 1.354 4.962 4.968 1.244 0.904 1.264 4.021 1.453 1.334 4.076 4.957\n 1.266 0.72  4.191 4.153 0.896 4.859 4.965 1.26  1.291 1.215 4.12  4.865\n 1.41  0.715 1.445 1.286 0.714 1.344 0.893 1.327 0.879 1.757 1.27  4.97\n 1.268 0.835 0.645 0.699 0.854 0.849 0.781 0.73  1.423 0.773 0.635 0.643\n 1.415 1.483 0.88  0.881 4.947 1.799 0.89  0.877 0.797 0.884 0.724 0.84\n 0.744 0.638 0.695 0.75  0.639 0.821 0.77  0.843 1.372 0.905 0.861 4.918\n 0.803 0.682 0.737 0.873 0.869 4.955 0.838 1.259 0.819 0.802 0.652 0.829\n 1.    0.987 0.9   0.732 0.851 0.729 1.05  0.642 0.719 1.556 0.883 0.731\n 4.921 0.741 0.716 1.028 4.956 0.782 0.876 0.889 1.479 0.697 0.788 0.885\n 1.52  0.898 0.713 0.692 0.878 0.74  0.761 0.822 0.701 0.739 0.809 1.029\n 1.041 0.834 1.466 1.726 1.072 0.706 1.048 0.655 0.702 0.825 0.959 0.637\n 1.392 0.707 0.977 4.912 1.085 1.435 0.722 1.206 1.235 1.498 0.688 1.406\n 0.846 0.71  0.634 0.754 0.712 1.629 0.668 1.043 0.748 0.813 4.936 0.753\n 0.733 4.733 1.538 0.636 1.614 0.903 0.65  1.703 1.687 0.886 0.723 0.742\n 0.87  3.901 1.03  1.811 0.755 0.859 4.406 1.044 0.767 1.252 0.778 0.646\n 0.708 1.4   0.768 0.653 1.531 1.032 0.762 0.651 0.743 1.025 0.654 1.008\n 0.965 0.749 0.827 4.7   0.882 0.718 1.602 0.972 1.059 1.663 1.04  1.099\n 0.685 1.031 0.644 0.683 0.891 0.659 0.735 1.64  1.037 1.046 4.592 0.717\n 0.677 1.51  5.045 1.016 0.953 0.81  0.727 0.993 4.794 0.982 0.709 3.853\n 0.672 1.039 1.778 0.649 4.827 0.793 4.663 0.79  1.548 0.64  1.65  0.69\n 4.76  0.766 0.895 0.914 1.018 0.704 0.985 1.049 4.286 0.908 0.937 0.888\n 0.684 0.7   4.245 0.771 1.224 4.474]\n",
          "name": "stdout"
        }
      ]
    },
    {
      "metadata": {},
      "cell_type": "markdown",
      "source": "### Q 2. Write a code to check the min and max value of age. Also check if there is any null value or not."
    },
    {
      "metadata": {
        "trusted": true
      },
      "cell_type": "code",
      "source": "def log():\n    print('Max age: ', bank['age'].max())\n    print('Min age: ', bank['age'].min())\n    print('Missing values: ', bank.isnull().any())\nlog()",
      "execution_count": 20,
      "outputs": [
        {
          "output_type": "stream",
          "text": "Max age:  94\nMin age:  18\nMissing values:  age               False\njob               False\nmarital           False\neducation         False\ndefault           False\nhousing           False\nloan              False\ncontact           False\nmonth             False\nday_of_week       False\nduration          False\ncampaign          False\npdays             False\nprevious          False\npoutcome          False\nemp.var.rate      False\ncons.price.idx    False\ncons.conf.idx     False\neuribor3m         False\nnr.employed       False\ny                 False\ndtype: bool\n",
          "name": "stdout"
        }
      ]
    },
    {
      "metadata": {},
      "cell_type": "markdown",
      "source": "### Count of Yes and No for the term deposit "
    },
    {
      "metadata": {
        "trusted": true
      },
      "cell_type": "code",
      "source": "bank.y.value_counts()",
      "execution_count": 21,
      "outputs": [
        {
          "output_type": "execute_result",
          "execution_count": 21,
          "data": {
            "text/plain": "no     9137\nyes    1160\nName: y, dtype: int64"
          },
          "metadata": {}
        }
      ]
    },
    {
      "metadata": {},
      "cell_type": "markdown",
      "source": "### Q 3. Write a user defined function to calculate the Inter quartile range for quantile values outside 25 to 75 range. And do the outlier capping for lower level with min value and for upper level with 'q3=1.5*iqr' value."
    },
    {
      "metadata": {
        "trusted": true
      },
      "cell_type": "code",
      "source": "def remove_outlier(df_in, col_name):\n    q1 = df_in[col_name].quantile(0.25)\n    q3 = df_in[col_name].quantile(0.75)\n    iqr = q3-q1 \n    lower_bound = df_in[col_name].min()\n    upper_bound = q3+1.5*iqr\n    print('Column',col_name,'IQR lower bound and upper bound are', lower_bound, 'and', upper_bound, 'respectively')\n    df_out = df_in.loc[(df_in[col_name] > lower_bound) & (df_in[col_name] < upper_bound)]\n    return df_out",
      "execution_count": 22,
      "outputs": []
    },
    {
      "metadata": {},
      "cell_type": "markdown",
      "source": "### Q 3.1 Using the above created function , remove the outlier from 'age' variables:"
    },
    {
      "metadata": {
        "trusted": true
      },
      "cell_type": "code",
      "source": "def log(bank):\n    return remove_outlier(bank, 'age')\nbank = log(bank) ",
      "execution_count": 23,
      "outputs": [
        {
          "output_type": "stream",
          "text": "Column age IQR lower bound and upper bound are 18 and 69.5 respectively\n",
          "name": "stdout"
        }
      ]
    },
    {
      "metadata": {},
      "cell_type": "markdown",
      "source": "### Q 3.2 Using the above created function , remove the outlier from 'campaign' variables:"
    },
    {
      "metadata": {
        "trusted": true
      },
      "cell_type": "code",
      "source": "def log(bank):\n    return remove_outlier(bank, 'campaign')\nbank = log(bank) ",
      "execution_count": 24,
      "outputs": [
        {
          "output_type": "stream",
          "text": "Column campaign IQR lower bound and upper bound are 1 and 6.0 respectively\n",
          "name": "stdout"
        }
      ]
    },
    {
      "metadata": {},
      "cell_type": "markdown",
      "source": "### Q 3.3 Using the above created function , remove the outlier from 'duration' variables:"
    },
    {
      "metadata": {
        "trusted": true
      },
      "cell_type": "code",
      "source": "def log(bank):\n    return remove_outlier(bank, 'duration')\nbank = log(bank) ",
      "execution_count": 25,
      "outputs": [
        {
          "output_type": "stream",
          "text": "Column duration IQR lower bound and upper bound are 0 and 684.0 respectively\n",
          "name": "stdout"
        }
      ]
    },
    {
      "metadata": {},
      "cell_type": "markdown",
      "source": "### Dividing dataset into two, on the basis of categorical and numerical."
    },
    {
      "metadata": {
        "trusted": true
      },
      "cell_type": "code",
      "source": "bank_cat=bank[['job', 'marital','default', 'education', 'loan', 'housing', 'contact', 'month', 'day_of_week', 'poutcome', 'y']]",
      "execution_count": 26,
      "outputs": []
    },
    {
      "metadata": {
        "trusted": true
      },
      "cell_type": "code",
      "source": "bank_cont = bank.drop(['job', 'marital','default', 'education', 'loan', 'housing', 'contact', 'month', 'day_of_week', 'poutcome', 'y'], axis=1)",
      "execution_count": 27,
      "outputs": []
    },
    {
      "metadata": {},
      "cell_type": "markdown",
      "source": "### Q 4. Label encode the below mentioned categorical variable to numerical values.\n``` ['job', 'marital','default','education', 'loan', 'housing', 'contact', 'month', 'day_of_week', 'poutcome', 'y'] ```"
    },
    {
      "metadata": {
        "trusted": true
      },
      "cell_type": "code",
      "source": "from sklearn.preprocessing import LabelEncoder\ndef log(bank_cat):\n    from sklearn.preprocessing import LabelEncoder\n    return bank_cat.apply(LabelEncoder().fit_transform)\nbank_cat = log(bank_cat)",
      "execution_count": 28,
      "outputs": []
    },
    {
      "metadata": {},
      "cell_type": "markdown",
      "source": "### Combining the numerical and categorical dataset."
    },
    {
      "metadata": {
        "trusted": true
      },
      "cell_type": "code",
      "source": "bank_final= pd.concat([bank_cont, bank_cat], axis = 1)\nbank_final",
      "execution_count": 30,
      "outputs": [
        {
          "output_type": "execute_result",
          "execution_count": 30,
          "data": {
            "text/html": "<div>\n<table border=\"1\" class=\"dataframe\">\n  <thead>\n    <tr style=\"text-align: right;\">\n      <th></th>\n      <th>age</th>\n      <th>duration</th>\n      <th>campaign</th>\n      <th>pdays</th>\n      <th>previous</th>\n      <th>emp.var.rate</th>\n      <th>cons.price.idx</th>\n      <th>cons.conf.idx</th>\n      <th>euribor3m</th>\n      <th>nr.employed</th>\n      <th>...</th>\n      <th>marital</th>\n      <th>default</th>\n      <th>education</th>\n      <th>loan</th>\n      <th>housing</th>\n      <th>contact</th>\n      <th>month</th>\n      <th>day_of_week</th>\n      <th>poutcome</th>\n      <th>y</th>\n    </tr>\n  </thead>\n  <tbody>\n    <tr>\n      <th>0</th>\n      <td>46</td>\n      <td>329</td>\n      <td>3</td>\n      <td>999</td>\n      <td>0</td>\n      <td>1.1</td>\n      <td>93.994</td>\n      <td>-36.4</td>\n      <td>4.857</td>\n      <td>5191.0</td>\n      <td>...</td>\n      <td>1</td>\n      <td>0</td>\n      <td>2</td>\n      <td>2</td>\n      <td>0</td>\n      <td>1</td>\n      <td>6</td>\n      <td>3</td>\n      <td>1</td>\n      <td>0</td>\n    </tr>\n    <tr>\n      <th>1</th>\n      <td>29</td>\n      <td>132</td>\n      <td>2</td>\n      <td>999</td>\n      <td>0</td>\n      <td>-1.8</td>\n      <td>92.893</td>\n      <td>-46.2</td>\n      <td>1.281</td>\n      <td>5099.1</td>\n      <td>...</td>\n      <td>2</td>\n      <td>0</td>\n      <td>6</td>\n      <td>0</td>\n      <td>0</td>\n      <td>0</td>\n      <td>6</td>\n      <td>4</td>\n      <td>1</td>\n      <td>0</td>\n    </tr>\n    <tr>\n      <th>3</th>\n      <td>31</td>\n      <td>199</td>\n      <td>2</td>\n      <td>999</td>\n      <td>0</td>\n      <td>1.1</td>\n      <td>93.994</td>\n      <td>-36.4</td>\n      <td>4.860</td>\n      <td>5191.0</td>\n      <td>...</td>\n      <td>1</td>\n      <td>1</td>\n      <td>3</td>\n      <td>0</td>\n      <td>2</td>\n      <td>1</td>\n      <td>6</td>\n      <td>2</td>\n      <td>1</td>\n      <td>0</td>\n    </tr>\n    <tr>\n      <th>5</th>\n      <td>33</td>\n      <td>174</td>\n      <td>4</td>\n      <td>999</td>\n      <td>0</td>\n      <td>1.4</td>\n      <td>93.444</td>\n      <td>-36.1</td>\n      <td>4.963</td>\n      <td>5228.1</td>\n      <td>...</td>\n      <td>2</td>\n      <td>0</td>\n      <td>6</td>\n      <td>2</td>\n      <td>2</td>\n      <td>0</td>\n      <td>1</td>\n      <td>1</td>\n      <td>1</td>\n      <td>0</td>\n    </tr>\n    <tr>\n      <th>8</th>\n      <td>34</td>\n      <td>65</td>\n      <td>2</td>\n      <td>999</td>\n      <td>1</td>\n      <td>-1.8</td>\n      <td>92.893</td>\n      <td>-46.2</td>\n      <td>1.281</td>\n      <td>5099.1</td>\n      <td>...</td>\n      <td>1</td>\n      <td>1</td>\n      <td>5</td>\n      <td>0</td>\n      <td>0</td>\n      <td>0</td>\n      <td>6</td>\n      <td>4</td>\n      <td>0</td>\n      <td>0</td>\n    </tr>\n    <tr>\n      <th>9</th>\n      <td>35</td>\n      <td>282</td>\n      <td>5</td>\n      <td>999</td>\n      <td>0</td>\n      <td>-1.8</td>\n      <td>92.893</td>\n      <td>-46.2</td>\n      <td>1.313</td>\n      <td>5099.1</td>\n      <td>...</td>\n      <td>2</td>\n      <td>0</td>\n      <td>3</td>\n      <td>0</td>\n      <td>0</td>\n      <td>0</td>\n      <td>6</td>\n      <td>0</td>\n      <td>1</td>\n      <td>0</td>\n    </tr>\n    <tr>\n      <th>11</th>\n      <td>34</td>\n      <td>211</td>\n      <td>2</td>\n      <td>6</td>\n      <td>2</td>\n      <td>-1.8</td>\n      <td>93.749</td>\n      <td>-34.6</td>\n      <td>0.663</td>\n      <td>5008.7</td>\n      <td>...</td>\n      <td>1</td>\n      <td>0</td>\n      <td>5</td>\n      <td>0</td>\n      <td>2</td>\n      <td>0</td>\n      <td>0</td>\n      <td>0</td>\n      <td>2</td>\n      <td>0</td>\n    </tr>\n    <tr>\n      <th>14</th>\n      <td>54</td>\n      <td>225</td>\n      <td>2</td>\n      <td>999</td>\n      <td>0</td>\n      <td>1.4</td>\n      <td>93.918</td>\n      <td>-42.7</td>\n      <td>4.958</td>\n      <td>5228.1</td>\n      <td>...</td>\n      <td>1</td>\n      <td>1</td>\n      <td>2</td>\n      <td>0</td>\n      <td>0</td>\n      <td>0</td>\n      <td>3</td>\n      <td>2</td>\n      <td>1</td>\n      <td>0</td>\n    </tr>\n    <tr>\n      <th>18</th>\n      <td>53</td>\n      <td>340</td>\n      <td>2</td>\n      <td>999</td>\n      <td>0</td>\n      <td>1.4</td>\n      <td>94.465</td>\n      <td>-41.8</td>\n      <td>4.961</td>\n      <td>5228.1</td>\n      <td>...</td>\n      <td>1</td>\n      <td>0</td>\n      <td>0</td>\n      <td>2</td>\n      <td>0</td>\n      <td>1</td>\n      <td>4</td>\n      <td>1</td>\n      <td>1</td>\n      <td>0</td>\n    </tr>\n    <tr>\n      <th>25</th>\n      <td>52</td>\n      <td>112</td>\n      <td>2</td>\n      <td>999</td>\n      <td>0</td>\n      <td>1.4</td>\n      <td>94.465</td>\n      <td>-41.8</td>\n      <td>4.866</td>\n      <td>5228.1</td>\n      <td>...</td>\n      <td>1</td>\n      <td>0</td>\n      <td>2</td>\n      <td>0</td>\n      <td>2</td>\n      <td>1</td>\n      <td>4</td>\n      <td>2</td>\n      <td>1</td>\n      <td>0</td>\n    </tr>\n    <tr>\n      <th>26</th>\n      <td>51</td>\n      <td>176</td>\n      <td>3</td>\n      <td>999</td>\n      <td>0</td>\n      <td>1.1</td>\n      <td>93.994</td>\n      <td>-36.4</td>\n      <td>4.860</td>\n      <td>5191.0</td>\n      <td>...</td>\n      <td>1</td>\n      <td>0</td>\n      <td>1</td>\n      <td>0</td>\n      <td>2</td>\n      <td>1</td>\n      <td>6</td>\n      <td>2</td>\n      <td>1</td>\n      <td>0</td>\n    </tr>\n    <tr>\n      <th>29</th>\n      <td>35</td>\n      <td>207</td>\n      <td>2</td>\n      <td>999</td>\n      <td>0</td>\n      <td>1.4</td>\n      <td>93.918</td>\n      <td>-42.7</td>\n      <td>4.958</td>\n      <td>5228.1</td>\n      <td>...</td>\n      <td>1</td>\n      <td>0</td>\n      <td>5</td>\n      <td>2</td>\n      <td>0</td>\n      <td>0</td>\n      <td>3</td>\n      <td>2</td>\n      <td>1</td>\n      <td>0</td>\n    </tr>\n    <tr>\n      <th>34</th>\n      <td>33</td>\n      <td>409</td>\n      <td>2</td>\n      <td>999</td>\n      <td>0</td>\n      <td>-1.8</td>\n      <td>92.893</td>\n      <td>-46.2</td>\n      <td>1.281</td>\n      <td>5099.1</td>\n      <td>...</td>\n      <td>2</td>\n      <td>0</td>\n      <td>0</td>\n      <td>2</td>\n      <td>2</td>\n      <td>0</td>\n      <td>6</td>\n      <td>4</td>\n      <td>1</td>\n      <td>0</td>\n    </tr>\n    <tr>\n      <th>35</th>\n      <td>52</td>\n      <td>434</td>\n      <td>2</td>\n      <td>999</td>\n      <td>0</td>\n      <td>-1.8</td>\n      <td>92.893</td>\n      <td>-46.2</td>\n      <td>1.354</td>\n      <td>5099.1</td>\n      <td>...</td>\n      <td>1</td>\n      <td>0</td>\n      <td>6</td>\n      <td>2</td>\n      <td>0</td>\n      <td>0</td>\n      <td>6</td>\n      <td>1</td>\n      <td>1</td>\n      <td>0</td>\n    </tr>\n    <tr>\n      <th>37</th>\n      <td>32</td>\n      <td>396</td>\n      <td>3</td>\n      <td>999</td>\n      <td>0</td>\n      <td>1.4</td>\n      <td>93.918</td>\n      <td>-42.7</td>\n      <td>4.963</td>\n      <td>5228.1</td>\n      <td>...</td>\n      <td>1</td>\n      <td>0</td>\n      <td>2</td>\n      <td>2</td>\n      <td>2</td>\n      <td>0</td>\n      <td>3</td>\n      <td>0</td>\n      <td>1</td>\n      <td>0</td>\n    </tr>\n    <tr>\n      <th>44</th>\n      <td>27</td>\n      <td>64</td>\n      <td>2</td>\n      <td>999</td>\n      <td>0</td>\n      <td>1.4</td>\n      <td>94.465</td>\n      <td>-41.8</td>\n      <td>4.866</td>\n      <td>5228.1</td>\n      <td>...</td>\n      <td>2</td>\n      <td>0</td>\n      <td>6</td>\n      <td>0</td>\n      <td>0</td>\n      <td>1</td>\n      <td>4</td>\n      <td>2</td>\n      <td>1</td>\n      <td>0</td>\n    </tr>\n    <tr>\n      <th>46</th>\n      <td>45</td>\n      <td>126</td>\n      <td>2</td>\n      <td>999</td>\n      <td>1</td>\n      <td>-0.1</td>\n      <td>93.200</td>\n      <td>-42.0</td>\n      <td>4.021</td>\n      <td>5195.8</td>\n      <td>...</td>\n      <td>1</td>\n      <td>0</td>\n      <td>2</td>\n      <td>0</td>\n      <td>0</td>\n      <td>0</td>\n      <td>7</td>\n      <td>0</td>\n      <td>0</td>\n      <td>0</td>\n    </tr>\n    <tr>\n      <th>48</th>\n      <td>59</td>\n      <td>133</td>\n      <td>3</td>\n      <td>999</td>\n      <td>0</td>\n      <td>1.4</td>\n      <td>93.918</td>\n      <td>-42.7</td>\n      <td>4.963</td>\n      <td>5228.1</td>\n      <td>...</td>\n      <td>1</td>\n      <td>1</td>\n      <td>7</td>\n      <td>0</td>\n      <td>0</td>\n      <td>0</td>\n      <td>3</td>\n      <td>4</td>\n      <td>1</td>\n      <td>0</td>\n    </tr>\n    <tr>\n      <th>51</th>\n      <td>35</td>\n      <td>113</td>\n      <td>2</td>\n      <td>999</td>\n      <td>0</td>\n      <td>1.4</td>\n      <td>94.465</td>\n      <td>-41.8</td>\n      <td>4.864</td>\n      <td>5228.1</td>\n      <td>...</td>\n      <td>1</td>\n      <td>0</td>\n      <td>3</td>\n      <td>0</td>\n      <td>0</td>\n      <td>1</td>\n      <td>4</td>\n      <td>4</td>\n      <td>1</td>\n      <td>0</td>\n    </tr>\n    <tr>\n      <th>55</th>\n      <td>59</td>\n      <td>251</td>\n      <td>5</td>\n      <td>999</td>\n      <td>0</td>\n      <td>1.4</td>\n      <td>93.918</td>\n      <td>-42.7</td>\n      <td>4.960</td>\n      <td>5228.1</td>\n      <td>...</td>\n      <td>1</td>\n      <td>1</td>\n      <td>6</td>\n      <td>0</td>\n      <td>0</td>\n      <td>0</td>\n      <td>3</td>\n      <td>1</td>\n      <td>1</td>\n      <td>0</td>\n    </tr>\n    <tr>\n      <th>56</th>\n      <td>39</td>\n      <td>90</td>\n      <td>3</td>\n      <td>999</td>\n      <td>0</td>\n      <td>-0.1</td>\n      <td>93.200</td>\n      <td>-42.0</td>\n      <td>4.076</td>\n      <td>5195.8</td>\n      <td>...</td>\n      <td>1</td>\n      <td>0</td>\n      <td>6</td>\n      <td>2</td>\n      <td>2</td>\n      <td>0</td>\n      <td>7</td>\n      <td>2</td>\n      <td>1</td>\n      <td>0</td>\n    </tr>\n    <tr>\n      <th>57</th>\n      <td>58</td>\n      <td>275</td>\n      <td>4</td>\n      <td>999</td>\n      <td>0</td>\n      <td>1.4</td>\n      <td>93.918</td>\n      <td>-42.7</td>\n      <td>4.961</td>\n      <td>5228.1</td>\n      <td>...</td>\n      <td>1</td>\n      <td>0</td>\n      <td>6</td>\n      <td>0</td>\n      <td>2</td>\n      <td>0</td>\n      <td>3</td>\n      <td>3</td>\n      <td>1</td>\n      <td>0</td>\n    </tr>\n    <tr>\n      <th>59</th>\n      <td>39</td>\n      <td>99</td>\n      <td>5</td>\n      <td>999</td>\n      <td>0</td>\n      <td>1.4</td>\n      <td>93.918</td>\n      <td>-42.7</td>\n      <td>4.957</td>\n      <td>5228.1</td>\n      <td>...</td>\n      <td>1</td>\n      <td>0</td>\n      <td>2</td>\n      <td>2</td>\n      <td>2</td>\n      <td>1</td>\n      <td>3</td>\n      <td>0</td>\n      <td>1</td>\n      <td>0</td>\n    </tr>\n    <tr>\n      <th>61</th>\n      <td>37</td>\n      <td>574</td>\n      <td>5</td>\n      <td>999</td>\n      <td>0</td>\n      <td>1.1</td>\n      <td>93.994</td>\n      <td>-36.4</td>\n      <td>4.857</td>\n      <td>5191.0</td>\n      <td>...</td>\n      <td>1</td>\n      <td>1</td>\n      <td>1</td>\n      <td>2</td>\n      <td>0</td>\n      <td>1</td>\n      <td>6</td>\n      <td>0</td>\n      <td>1</td>\n      <td>0</td>\n    </tr>\n    <tr>\n      <th>62</th>\n      <td>47</td>\n      <td>374</td>\n      <td>2</td>\n      <td>16</td>\n      <td>1</td>\n      <td>-1.7</td>\n      <td>94.027</td>\n      <td>-38.3</td>\n      <td>0.904</td>\n      <td>4991.6</td>\n      <td>...</td>\n      <td>1</td>\n      <td>0</td>\n      <td>3</td>\n      <td>0</td>\n      <td>0</td>\n      <td>0</td>\n      <td>1</td>\n      <td>2</td>\n      <td>2</td>\n      <td>1</td>\n    </tr>\n    <tr>\n      <th>63</th>\n      <td>29</td>\n      <td>92</td>\n      <td>3</td>\n      <td>999</td>\n      <td>0</td>\n      <td>1.1</td>\n      <td>93.994</td>\n      <td>-36.4</td>\n      <td>4.857</td>\n      <td>5191.0</td>\n      <td>...</td>\n      <td>2</td>\n      <td>0</td>\n      <td>7</td>\n      <td>0</td>\n      <td>0</td>\n      <td>1</td>\n      <td>6</td>\n      <td>0</td>\n      <td>1</td>\n      <td>0</td>\n    </tr>\n    <tr>\n      <th>66</th>\n      <td>52</td>\n      <td>291</td>\n      <td>3</td>\n      <td>999</td>\n      <td>0</td>\n      <td>1.4</td>\n      <td>94.465</td>\n      <td>-41.8</td>\n      <td>4.961</td>\n      <td>5228.1</td>\n      <td>...</td>\n      <td>1</td>\n      <td>1</td>\n      <td>2</td>\n      <td>0</td>\n      <td>0</td>\n      <td>1</td>\n      <td>4</td>\n      <td>1</td>\n      <td>1</td>\n      <td>0</td>\n    </tr>\n    <tr>\n      <th>68</th>\n      <td>35</td>\n      <td>541</td>\n      <td>2</td>\n      <td>999</td>\n      <td>0</td>\n      <td>1.1</td>\n      <td>93.994</td>\n      <td>-36.4</td>\n      <td>4.857</td>\n      <td>5191.0</td>\n      <td>...</td>\n      <td>2</td>\n      <td>0</td>\n      <td>3</td>\n      <td>0</td>\n      <td>2</td>\n      <td>1</td>\n      <td>6</td>\n      <td>0</td>\n      <td>1</td>\n      <td>0</td>\n    </tr>\n    <tr>\n      <th>71</th>\n      <td>46</td>\n      <td>76</td>\n      <td>3</td>\n      <td>999</td>\n      <td>0</td>\n      <td>-0.1</td>\n      <td>93.200</td>\n      <td>-42.0</td>\n      <td>4.191</td>\n      <td>5195.8</td>\n      <td>...</td>\n      <td>1</td>\n      <td>1</td>\n      <td>3</td>\n      <td>0</td>\n      <td>0</td>\n      <td>0</td>\n      <td>7</td>\n      <td>1</td>\n      <td>1</td>\n      <td>0</td>\n    </tr>\n    <tr>\n      <th>77</th>\n      <td>32</td>\n      <td>86</td>\n      <td>3</td>\n      <td>999</td>\n      <td>0</td>\n      <td>-0.1</td>\n      <td>93.200</td>\n      <td>-42.0</td>\n      <td>4.021</td>\n      <td>5195.8</td>\n      <td>...</td>\n      <td>2</td>\n      <td>0</td>\n      <td>5</td>\n      <td>0</td>\n      <td>2</td>\n      <td>0</td>\n      <td>7</td>\n      <td>0</td>\n      <td>1</td>\n      <td>0</td>\n    </tr>\n    <tr>\n      <th>...</th>\n      <td>...</td>\n      <td>...</td>\n      <td>...</td>\n      <td>...</td>\n      <td>...</td>\n      <td>...</td>\n      <td>...</td>\n      <td>...</td>\n      <td>...</td>\n      <td>...</td>\n      <td>...</td>\n      <td>...</td>\n      <td>...</td>\n      <td>...</td>\n      <td>...</td>\n      <td>...</td>\n      <td>...</td>\n      <td>...</td>\n      <td>...</td>\n      <td>...</td>\n      <td>...</td>\n    </tr>\n    <tr>\n      <th>10234</th>\n      <td>31</td>\n      <td>406</td>\n      <td>2</td>\n      <td>999</td>\n      <td>0</td>\n      <td>1.4</td>\n      <td>94.465</td>\n      <td>-41.8</td>\n      <td>4.864</td>\n      <td>5228.1</td>\n      <td>...</td>\n      <td>1</td>\n      <td>0</td>\n      <td>1</td>\n      <td>0</td>\n      <td>2</td>\n      <td>1</td>\n      <td>4</td>\n      <td>4</td>\n      <td>1</td>\n      <td>0</td>\n    </tr>\n    <tr>\n      <th>10236</th>\n      <td>46</td>\n      <td>279</td>\n      <td>4</td>\n      <td>999</td>\n      <td>0</td>\n      <td>1.4</td>\n      <td>93.918</td>\n      <td>-42.7</td>\n      <td>4.962</td>\n      <td>5228.1</td>\n      <td>...</td>\n      <td>2</td>\n      <td>0</td>\n      <td>7</td>\n      <td>0</td>\n      <td>2</td>\n      <td>1</td>\n      <td>3</td>\n      <td>0</td>\n      <td>1</td>\n      <td>1</td>\n    </tr>\n    <tr>\n      <th>10241</th>\n      <td>59</td>\n      <td>133</td>\n      <td>2</td>\n      <td>999</td>\n      <td>0</td>\n      <td>1.4</td>\n      <td>94.465</td>\n      <td>-41.8</td>\n      <td>4.961</td>\n      <td>5228.1</td>\n      <td>...</td>\n      <td>1</td>\n      <td>0</td>\n      <td>1</td>\n      <td>0</td>\n      <td>2</td>\n      <td>1</td>\n      <td>4</td>\n      <td>3</td>\n      <td>1</td>\n      <td>0</td>\n    </tr>\n    <tr>\n      <th>10242</th>\n      <td>52</td>\n      <td>402</td>\n      <td>2</td>\n      <td>999</td>\n      <td>0</td>\n      <td>1.4</td>\n      <td>93.918</td>\n      <td>-42.7</td>\n      <td>4.958</td>\n      <td>5228.1</td>\n      <td>...</td>\n      <td>1</td>\n      <td>0</td>\n      <td>5</td>\n      <td>0</td>\n      <td>2</td>\n      <td>0</td>\n      <td>3</td>\n      <td>2</td>\n      <td>1</td>\n      <td>0</td>\n    </tr>\n    <tr>\n      <th>10247</th>\n      <td>58</td>\n      <td>483</td>\n      <td>2</td>\n      <td>999</td>\n      <td>0</td>\n      <td>-1.8</td>\n      <td>93.075</td>\n      <td>-47.1</td>\n      <td>1.405</td>\n      <td>5099.1</td>\n      <td>...</td>\n      <td>1</td>\n      <td>1</td>\n      <td>5</td>\n      <td>0</td>\n      <td>2</td>\n      <td>0</td>\n      <td>0</td>\n      <td>1</td>\n      <td>1</td>\n      <td>0</td>\n    </tr>\n    <tr>\n      <th>10249</th>\n      <td>38</td>\n      <td>121</td>\n      <td>4</td>\n      <td>999</td>\n      <td>0</td>\n      <td>-1.8</td>\n      <td>93.075</td>\n      <td>-47.1</td>\n      <td>1.405</td>\n      <td>5099.1</td>\n      <td>...</td>\n      <td>1</td>\n      <td>1</td>\n      <td>3</td>\n      <td>0</td>\n      <td>0</td>\n      <td>1</td>\n      <td>0</td>\n      <td>1</td>\n      <td>1</td>\n      <td>0</td>\n    </tr>\n    <tr>\n      <th>10250</th>\n      <td>39</td>\n      <td>433</td>\n      <td>3</td>\n      <td>999</td>\n      <td>0</td>\n      <td>1.1</td>\n      <td>93.994</td>\n      <td>-36.4</td>\n      <td>4.857</td>\n      <td>5191.0</td>\n      <td>...</td>\n      <td>1</td>\n      <td>0</td>\n      <td>3</td>\n      <td>0</td>\n      <td>2</td>\n      <td>1</td>\n      <td>6</td>\n      <td>0</td>\n      <td>1</td>\n      <td>0</td>\n    </tr>\n    <tr>\n      <th>10253</th>\n      <td>41</td>\n      <td>134</td>\n      <td>2</td>\n      <td>999</td>\n      <td>0</td>\n      <td>1.4</td>\n      <td>93.918</td>\n      <td>-42.7</td>\n      <td>4.963</td>\n      <td>5228.1</td>\n      <td>...</td>\n      <td>1</td>\n      <td>0</td>\n      <td>2</td>\n      <td>0</td>\n      <td>0</td>\n      <td>0</td>\n      <td>3</td>\n      <td>0</td>\n      <td>1</td>\n      <td>0</td>\n    </tr>\n    <tr>\n      <th>10254</th>\n      <td>34</td>\n      <td>295</td>\n      <td>3</td>\n      <td>999</td>\n      <td>0</td>\n      <td>1.4</td>\n      <td>93.918</td>\n      <td>-42.7</td>\n      <td>4.962</td>\n      <td>5228.1</td>\n      <td>...</td>\n      <td>1</td>\n      <td>0</td>\n      <td>3</td>\n      <td>0</td>\n      <td>2</td>\n      <td>0</td>\n      <td>3</td>\n      <td>1</td>\n      <td>1</td>\n      <td>0</td>\n    </tr>\n    <tr>\n      <th>10256</th>\n      <td>45</td>\n      <td>220</td>\n      <td>4</td>\n      <td>999</td>\n      <td>1</td>\n      <td>-0.1</td>\n      <td>93.200</td>\n      <td>-42.0</td>\n      <td>4.191</td>\n      <td>5195.8</td>\n      <td>...</td>\n      <td>0</td>\n      <td>1</td>\n      <td>2</td>\n      <td>0</td>\n      <td>0</td>\n      <td>0</td>\n      <td>7</td>\n      <td>1</td>\n      <td>0</td>\n      <td>0</td>\n    </tr>\n    <tr>\n      <th>10260</th>\n      <td>28</td>\n      <td>128</td>\n      <td>2</td>\n      <td>999</td>\n      <td>0</td>\n      <td>1.1</td>\n      <td>93.994</td>\n      <td>-36.4</td>\n      <td>4.859</td>\n      <td>5191.0</td>\n      <td>...</td>\n      <td>1</td>\n      <td>0</td>\n      <td>2</td>\n      <td>0</td>\n      <td>2</td>\n      <td>1</td>\n      <td>6</td>\n      <td>0</td>\n      <td>1</td>\n      <td>0</td>\n    </tr>\n    <tr>\n      <th>10262</th>\n      <td>56</td>\n      <td>162</td>\n      <td>3</td>\n      <td>999</td>\n      <td>0</td>\n      <td>-0.1</td>\n      <td>93.200</td>\n      <td>-42.0</td>\n      <td>4.076</td>\n      <td>5195.8</td>\n      <td>...</td>\n      <td>1</td>\n      <td>0</td>\n      <td>6</td>\n      <td>0</td>\n      <td>0</td>\n      <td>0</td>\n      <td>7</td>\n      <td>2</td>\n      <td>1</td>\n      <td>0</td>\n    </tr>\n    <tr>\n      <th>10264</th>\n      <td>48</td>\n      <td>349</td>\n      <td>2</td>\n      <td>999</td>\n      <td>0</td>\n      <td>1.4</td>\n      <td>94.465</td>\n      <td>-41.8</td>\n      <td>4.961</td>\n      <td>5228.1</td>\n      <td>...</td>\n      <td>1</td>\n      <td>1</td>\n      <td>0</td>\n      <td>0</td>\n      <td>0</td>\n      <td>1</td>\n      <td>4</td>\n      <td>1</td>\n      <td>1</td>\n      <td>0</td>\n    </tr>\n    <tr>\n      <th>10265</th>\n      <td>38</td>\n      <td>136</td>\n      <td>2</td>\n      <td>999</td>\n      <td>1</td>\n      <td>-0.1</td>\n      <td>93.200</td>\n      <td>-42.0</td>\n      <td>4.191</td>\n      <td>5195.8</td>\n      <td>...</td>\n      <td>0</td>\n      <td>0</td>\n      <td>6</td>\n      <td>0</td>\n      <td>0</td>\n      <td>0</td>\n      <td>7</td>\n      <td>1</td>\n      <td>0</td>\n      <td>0</td>\n    </tr>\n    <tr>\n      <th>10266</th>\n      <td>56</td>\n      <td>150</td>\n      <td>2</td>\n      <td>999</td>\n      <td>0</td>\n      <td>1.4</td>\n      <td>94.465</td>\n      <td>-41.8</td>\n      <td>4.866</td>\n      <td>5228.1</td>\n      <td>...</td>\n      <td>1</td>\n      <td>1</td>\n      <td>5</td>\n      <td>0</td>\n      <td>2</td>\n      <td>1</td>\n      <td>4</td>\n      <td>2</td>\n      <td>1</td>\n      <td>0</td>\n    </tr>\n    <tr>\n      <th>10268</th>\n      <td>54</td>\n      <td>150</td>\n      <td>2</td>\n      <td>999</td>\n      <td>0</td>\n      <td>1.4</td>\n      <td>93.918</td>\n      <td>-42.7</td>\n      <td>4.968</td>\n      <td>5228.1</td>\n      <td>...</td>\n      <td>1</td>\n      <td>0</td>\n      <td>2</td>\n      <td>0</td>\n      <td>2</td>\n      <td>0</td>\n      <td>3</td>\n      <td>2</td>\n      <td>1</td>\n      <td>0</td>\n    </tr>\n    <tr>\n      <th>10270</th>\n      <td>52</td>\n      <td>121</td>\n      <td>3</td>\n      <td>999</td>\n      <td>0</td>\n      <td>1.4</td>\n      <td>93.444</td>\n      <td>-36.1</td>\n      <td>4.963</td>\n      <td>5228.1</td>\n      <td>...</td>\n      <td>1</td>\n      <td>0</td>\n      <td>0</td>\n      <td>0</td>\n      <td>0</td>\n      <td>0</td>\n      <td>1</td>\n      <td>3</td>\n      <td>1</td>\n      <td>0</td>\n    </tr>\n    <tr>\n      <th>10271</th>\n      <td>41</td>\n      <td>271</td>\n      <td>3</td>\n      <td>999</td>\n      <td>0</td>\n      <td>1.4</td>\n      <td>93.444</td>\n      <td>-36.1</td>\n      <td>4.965</td>\n      <td>5228.1</td>\n      <td>...</td>\n      <td>0</td>\n      <td>0</td>\n      <td>5</td>\n      <td>1</td>\n      <td>1</td>\n      <td>0</td>\n      <td>1</td>\n      <td>3</td>\n      <td>1</td>\n      <td>0</td>\n    </tr>\n    <tr>\n      <th>10272</th>\n      <td>31</td>\n      <td>200</td>\n      <td>5</td>\n      <td>999</td>\n      <td>0</td>\n      <td>1.4</td>\n      <td>93.918</td>\n      <td>-42.7</td>\n      <td>4.963</td>\n      <td>5228.1</td>\n      <td>...</td>\n      <td>2</td>\n      <td>0</td>\n      <td>5</td>\n      <td>0</td>\n      <td>0</td>\n      <td>0</td>\n      <td>3</td>\n      <td>2</td>\n      <td>1</td>\n      <td>0</td>\n    </tr>\n    <tr>\n      <th>10279</th>\n      <td>32</td>\n      <td>228</td>\n      <td>4</td>\n      <td>999</td>\n      <td>0</td>\n      <td>-1.8</td>\n      <td>92.893</td>\n      <td>-46.2</td>\n      <td>1.327</td>\n      <td>5099.1</td>\n      <td>...</td>\n      <td>1</td>\n      <td>0</td>\n      <td>2</td>\n      <td>0</td>\n      <td>0</td>\n      <td>0</td>\n      <td>6</td>\n      <td>2</td>\n      <td>1</td>\n      <td>0</td>\n    </tr>\n    <tr>\n      <th>10280</th>\n      <td>37</td>\n      <td>230</td>\n      <td>2</td>\n      <td>999</td>\n      <td>0</td>\n      <td>-1.7</td>\n      <td>94.215</td>\n      <td>-40.3</td>\n      <td>0.810</td>\n      <td>4991.6</td>\n      <td>...</td>\n      <td>1</td>\n      <td>0</td>\n      <td>3</td>\n      <td>0</td>\n      <td>2</td>\n      <td>0</td>\n      <td>3</td>\n      <td>2</td>\n      <td>1</td>\n      <td>0</td>\n    </tr>\n    <tr>\n      <th>10281</th>\n      <td>37</td>\n      <td>126</td>\n      <td>2</td>\n      <td>999</td>\n      <td>0</td>\n      <td>1.4</td>\n      <td>93.918</td>\n      <td>-42.7</td>\n      <td>4.963</td>\n      <td>5228.1</td>\n      <td>...</td>\n      <td>1</td>\n      <td>0</td>\n      <td>2</td>\n      <td>0</td>\n      <td>0</td>\n      <td>0</td>\n      <td>3</td>\n      <td>0</td>\n      <td>1</td>\n      <td>0</td>\n    </tr>\n    <tr>\n      <th>10283</th>\n      <td>32</td>\n      <td>93</td>\n      <td>5</td>\n      <td>999</td>\n      <td>0</td>\n      <td>1.1</td>\n      <td>93.994</td>\n      <td>-36.4</td>\n      <td>4.855</td>\n      <td>5191.0</td>\n      <td>...</td>\n      <td>1</td>\n      <td>0</td>\n      <td>6</td>\n      <td>0</td>\n      <td>2</td>\n      <td>1</td>\n      <td>6</td>\n      <td>0</td>\n      <td>1</td>\n      <td>0</td>\n    </tr>\n    <tr>\n      <th>10284</th>\n      <td>57</td>\n      <td>158</td>\n      <td>3</td>\n      <td>999</td>\n      <td>0</td>\n      <td>1.4</td>\n      <td>93.918</td>\n      <td>-42.7</td>\n      <td>4.963</td>\n      <td>5228.1</td>\n      <td>...</td>\n      <td>2</td>\n      <td>0</td>\n      <td>2</td>\n      <td>0</td>\n      <td>2</td>\n      <td>0</td>\n      <td>3</td>\n      <td>4</td>\n      <td>1</td>\n      <td>0</td>\n    </tr>\n    <tr>\n      <th>10287</th>\n      <td>41</td>\n      <td>100</td>\n      <td>2</td>\n      <td>999</td>\n      <td>0</td>\n      <td>-1.8</td>\n      <td>93.075</td>\n      <td>-47.1</td>\n      <td>1.405</td>\n      <td>5099.1</td>\n      <td>...</td>\n      <td>1</td>\n      <td>1</td>\n      <td>0</td>\n      <td>0</td>\n      <td>0</td>\n      <td>0</td>\n      <td>0</td>\n      <td>0</td>\n      <td>1</td>\n      <td>0</td>\n    </tr>\n    <tr>\n      <th>10289</th>\n      <td>36</td>\n      <td>266</td>\n      <td>2</td>\n      <td>2</td>\n      <td>2</td>\n      <td>-1.8</td>\n      <td>93.075</td>\n      <td>-47.1</td>\n      <td>1.365</td>\n      <td>5099.1</td>\n      <td>...</td>\n      <td>1</td>\n      <td>0</td>\n      <td>5</td>\n      <td>2</td>\n      <td>2</td>\n      <td>0</td>\n      <td>0</td>\n      <td>2</td>\n      <td>2</td>\n      <td>1</td>\n    </tr>\n    <tr>\n      <th>10290</th>\n      <td>43</td>\n      <td>87</td>\n      <td>2</td>\n      <td>999</td>\n      <td>0</td>\n      <td>1.1</td>\n      <td>93.994</td>\n      <td>-36.4</td>\n      <td>4.857</td>\n      <td>5191.0</td>\n      <td>...</td>\n      <td>1</td>\n      <td>1</td>\n      <td>6</td>\n      <td>1</td>\n      <td>1</td>\n      <td>1</td>\n      <td>6</td>\n      <td>3</td>\n      <td>1</td>\n      <td>0</td>\n    </tr>\n    <tr>\n      <th>10291</th>\n      <td>58</td>\n      <td>246</td>\n      <td>3</td>\n      <td>999</td>\n      <td>0</td>\n      <td>1.4</td>\n      <td>94.465</td>\n      <td>-41.8</td>\n      <td>4.961</td>\n      <td>5228.1</td>\n      <td>...</td>\n      <td>1</td>\n      <td>0</td>\n      <td>3</td>\n      <td>0</td>\n      <td>0</td>\n      <td>1</td>\n      <td>4</td>\n      <td>2</td>\n      <td>1</td>\n      <td>0</td>\n    </tr>\n    <tr>\n      <th>10294</th>\n      <td>52</td>\n      <td>442</td>\n      <td>2</td>\n      <td>999</td>\n      <td>1</td>\n      <td>-0.1</td>\n      <td>93.200</td>\n      <td>-42.0</td>\n      <td>4.120</td>\n      <td>5195.8</td>\n      <td>...</td>\n      <td>1</td>\n      <td>1</td>\n      <td>5</td>\n      <td>0</td>\n      <td>2</td>\n      <td>0</td>\n      <td>7</td>\n      <td>4</td>\n      <td>0</td>\n      <td>0</td>\n    </tr>\n    <tr>\n      <th>10295</th>\n      <td>35</td>\n      <td>330</td>\n      <td>3</td>\n      <td>999</td>\n      <td>0</td>\n      <td>1.1</td>\n      <td>93.994</td>\n      <td>-36.4</td>\n      <td>4.855</td>\n      <td>5191.0</td>\n      <td>...</td>\n      <td>1</td>\n      <td>0</td>\n      <td>6</td>\n      <td>0</td>\n      <td>2</td>\n      <td>1</td>\n      <td>6</td>\n      <td>2</td>\n      <td>1</td>\n      <td>0</td>\n    </tr>\n  </tbody>\n</table>\n<p>4621 rows × 21 columns</p>\n</div>",
            "text/plain": "       age  duration  campaign  pdays  previous  emp.var.rate  cons.price.idx  \\\n0       46       329         3    999         0           1.1          93.994   \n1       29       132         2    999         0          -1.8          92.893   \n3       31       199         2    999         0           1.1          93.994   \n5       33       174         4    999         0           1.4          93.444   \n8       34        65         2    999         1          -1.8          92.893   \n9       35       282         5    999         0          -1.8          92.893   \n11      34       211         2      6         2          -1.8          93.749   \n14      54       225         2    999         0           1.4          93.918   \n18      53       340         2    999         0           1.4          94.465   \n25      52       112         2    999         0           1.4          94.465   \n26      51       176         3    999         0           1.1          93.994   \n29      35       207         2    999         0           1.4          93.918   \n34      33       409         2    999         0          -1.8          92.893   \n35      52       434         2    999         0          -1.8          92.893   \n37      32       396         3    999         0           1.4          93.918   \n44      27        64         2    999         0           1.4          94.465   \n46      45       126         2    999         1          -0.1          93.200   \n48      59       133         3    999         0           1.4          93.918   \n51      35       113         2    999         0           1.4          94.465   \n55      59       251         5    999         0           1.4          93.918   \n56      39        90         3    999         0          -0.1          93.200   \n57      58       275         4    999         0           1.4          93.918   \n59      39        99         5    999         0           1.4          93.918   \n61      37       574         5    999         0           1.1          93.994   \n62      47       374         2     16         1          -1.7          94.027   \n63      29        92         3    999         0           1.1          93.994   \n66      52       291         3    999         0           1.4          94.465   \n68      35       541         2    999         0           1.1          93.994   \n71      46        76         3    999         0          -0.1          93.200   \n77      32        86         3    999         0          -0.1          93.200   \n...    ...       ...       ...    ...       ...           ...             ...   \n10234   31       406         2    999         0           1.4          94.465   \n10236   46       279         4    999         0           1.4          93.918   \n10241   59       133         2    999         0           1.4          94.465   \n10242   52       402         2    999         0           1.4          93.918   \n10247   58       483         2    999         0          -1.8          93.075   \n10249   38       121         4    999         0          -1.8          93.075   \n10250   39       433         3    999         0           1.1          93.994   \n10253   41       134         2    999         0           1.4          93.918   \n10254   34       295         3    999         0           1.4          93.918   \n10256   45       220         4    999         1          -0.1          93.200   \n10260   28       128         2    999         0           1.1          93.994   \n10262   56       162         3    999         0          -0.1          93.200   \n10264   48       349         2    999         0           1.4          94.465   \n10265   38       136         2    999         1          -0.1          93.200   \n10266   56       150         2    999         0           1.4          94.465   \n10268   54       150         2    999         0           1.4          93.918   \n10270   52       121         3    999         0           1.4          93.444   \n10271   41       271         3    999         0           1.4          93.444   \n10272   31       200         5    999         0           1.4          93.918   \n10279   32       228         4    999         0          -1.8          92.893   \n10280   37       230         2    999         0          -1.7          94.215   \n10281   37       126         2    999         0           1.4          93.918   \n10283   32        93         5    999         0           1.1          93.994   \n10284   57       158         3    999         0           1.4          93.918   \n10287   41       100         2    999         0          -1.8          93.075   \n10289   36       266         2      2         2          -1.8          93.075   \n10290   43        87         2    999         0           1.1          93.994   \n10291   58       246         3    999         0           1.4          94.465   \n10294   52       442         2    999         1          -0.1          93.200   \n10295   35       330         3    999         0           1.1          93.994   \n\n       cons.conf.idx  euribor3m  nr.employed ...  marital  default  education  \\\n0              -36.4      4.857       5191.0 ...        1        0          2   \n1              -46.2      1.281       5099.1 ...        2        0          6   \n3              -36.4      4.860       5191.0 ...        1        1          3   \n5              -36.1      4.963       5228.1 ...        2        0          6   \n8              -46.2      1.281       5099.1 ...        1        1          5   \n9              -46.2      1.313       5099.1 ...        2        0          3   \n11             -34.6      0.663       5008.7 ...        1        0          5   \n14             -42.7      4.958       5228.1 ...        1        1          2   \n18             -41.8      4.961       5228.1 ...        1        0          0   \n25             -41.8      4.866       5228.1 ...        1        0          2   \n26             -36.4      4.860       5191.0 ...        1        0          1   \n29             -42.7      4.958       5228.1 ...        1        0          5   \n34             -46.2      1.281       5099.1 ...        2        0          0   \n35             -46.2      1.354       5099.1 ...        1        0          6   \n37             -42.7      4.963       5228.1 ...        1        0          2   \n44             -41.8      4.866       5228.1 ...        2        0          6   \n46             -42.0      4.021       5195.8 ...        1        0          2   \n48             -42.7      4.963       5228.1 ...        1        1          7   \n51             -41.8      4.864       5228.1 ...        1        0          3   \n55             -42.7      4.960       5228.1 ...        1        1          6   \n56             -42.0      4.076       5195.8 ...        1        0          6   \n57             -42.7      4.961       5228.1 ...        1        0          6   \n59             -42.7      4.957       5228.1 ...        1        0          2   \n61             -36.4      4.857       5191.0 ...        1        1          1   \n62             -38.3      0.904       4991.6 ...        1        0          3   \n63             -36.4      4.857       5191.0 ...        2        0          7   \n66             -41.8      4.961       5228.1 ...        1        1          2   \n68             -36.4      4.857       5191.0 ...        2        0          3   \n71             -42.0      4.191       5195.8 ...        1        1          3   \n77             -42.0      4.021       5195.8 ...        2        0          5   \n...              ...        ...          ... ...      ...      ...        ...   \n10234          -41.8      4.864       5228.1 ...        1        0          1   \n10236          -42.7      4.962       5228.1 ...        2        0          7   \n10241          -41.8      4.961       5228.1 ...        1        0          1   \n10242          -42.7      4.958       5228.1 ...        1        0          5   \n10247          -47.1      1.405       5099.1 ...        1        1          5   \n10249          -47.1      1.405       5099.1 ...        1        1          3   \n10250          -36.4      4.857       5191.0 ...        1        0          3   \n10253          -42.7      4.963       5228.1 ...        1        0          2   \n10254          -42.7      4.962       5228.1 ...        1        0          3   \n10256          -42.0      4.191       5195.8 ...        0        1          2   \n10260          -36.4      4.859       5191.0 ...        1        0          2   \n10262          -42.0      4.076       5195.8 ...        1        0          6   \n10264          -41.8      4.961       5228.1 ...        1        1          0   \n10265          -42.0      4.191       5195.8 ...        0        0          6   \n10266          -41.8      4.866       5228.1 ...        1        1          5   \n10268          -42.7      4.968       5228.1 ...        1        0          2   \n10270          -36.1      4.963       5228.1 ...        1        0          0   \n10271          -36.1      4.965       5228.1 ...        0        0          5   \n10272          -42.7      4.963       5228.1 ...        2        0          5   \n10279          -46.2      1.327       5099.1 ...        1        0          2   \n10280          -40.3      0.810       4991.6 ...        1        0          3   \n10281          -42.7      4.963       5228.1 ...        1        0          2   \n10283          -36.4      4.855       5191.0 ...        1        0          6   \n10284          -42.7      4.963       5228.1 ...        2        0          2   \n10287          -47.1      1.405       5099.1 ...        1        1          0   \n10289          -47.1      1.365       5099.1 ...        1        0          5   \n10290          -36.4      4.857       5191.0 ...        1        1          6   \n10291          -41.8      4.961       5228.1 ...        1        0          3   \n10294          -42.0      4.120       5195.8 ...        1        1          5   \n10295          -36.4      4.855       5191.0 ...        1        0          6   \n\n       loan  housing  contact  month  day_of_week  poutcome  y  \n0         2        0        1      6            3         1  0  \n1         0        0        0      6            4         1  0  \n3         0        2        1      6            2         1  0  \n5         2        2        0      1            1         1  0  \n8         0        0        0      6            4         0  0  \n9         0        0        0      6            0         1  0  \n11        0        2        0      0            0         2  0  \n14        0        0        0      3            2         1  0  \n18        2        0        1      4            1         1  0  \n25        0        2        1      4            2         1  0  \n26        0        2        1      6            2         1  0  \n29        2        0        0      3            2         1  0  \n34        2        2        0      6            4         1  0  \n35        2        0        0      6            1         1  0  \n37        2        2        0      3            0         1  0  \n44        0        0        1      4            2         1  0  \n46        0        0        0      7            0         0  0  \n48        0        0        0      3            4         1  0  \n51        0        0        1      4            4         1  0  \n55        0        0        0      3            1         1  0  \n56        2        2        0      7            2         1  0  \n57        0        2        0      3            3         1  0  \n59        2        2        1      3            0         1  0  \n61        2        0        1      6            0         1  0  \n62        0        0        0      1            2         2  1  \n63        0        0        1      6            0         1  0  \n66        0        0        1      4            1         1  0  \n68        0        2        1      6            0         1  0  \n71        0        0        0      7            1         1  0  \n77        0        2        0      7            0         1  0  \n...     ...      ...      ...    ...          ...       ... ..  \n10234     0        2        1      4            4         1  0  \n10236     0        2        1      3            0         1  1  \n10241     0        2        1      4            3         1  0  \n10242     0        2        0      3            2         1  0  \n10247     0        2        0      0            1         1  0  \n10249     0        0        1      0            1         1  0  \n10250     0        2        1      6            0         1  0  \n10253     0        0        0      3            0         1  0  \n10254     0        2        0      3            1         1  0  \n10256     0        0        0      7            1         0  0  \n10260     0        2        1      6            0         1  0  \n10262     0        0        0      7            2         1  0  \n10264     0        0        1      4            1         1  0  \n10265     0        0        0      7            1         0  0  \n10266     0        2        1      4            2         1  0  \n10268     0        2        0      3            2         1  0  \n10270     0        0        0      1            3         1  0  \n10271     1        1        0      1            3         1  0  \n10272     0        0        0      3            2         1  0  \n10279     0        0        0      6            2         1  0  \n10280     0        2        0      3            2         1  0  \n10281     0        0        0      3            0         1  0  \n10283     0        2        1      6            0         1  0  \n10284     0        2        0      3            4         1  0  \n10287     0        0        0      0            0         1  0  \n10289     2        2        0      0            2         2  1  \n10290     1        1        1      6            3         1  0  \n10291     0        0        1      4            2         1  0  \n10294     0        2        0      7            4         0  0  \n10295     0        2        1      6            2         1  0  \n\n[4621 rows x 21 columns]"
          },
          "metadata": {}
        }
      ]
    },
    {
      "metadata": {},
      "cell_type": "markdown",
      "source": "### Q 6. Extract independent column to prepare X "
    },
    {
      "metadata": {
        "trusted": true
      },
      "cell_type": "code",
      "source": "X = pd.DataFrame()\ndef log():\n    X = bank_final.loc[:,bank.columns != 'y']\n    return X\nX = log()",
      "execution_count": 31,
      "outputs": []
    },
    {
      "metadata": {
        "trusted": true
      },
      "cell_type": "code",
      "source": "X.head()",
      "execution_count": 33,
      "outputs": [
        {
          "output_type": "execute_result",
          "execution_count": 33,
          "data": {
            "text/html": "<div>\n<table border=\"1\" class=\"dataframe\">\n  <thead>\n    <tr style=\"text-align: right;\">\n      <th></th>\n      <th>age</th>\n      <th>duration</th>\n      <th>campaign</th>\n      <th>pdays</th>\n      <th>previous</th>\n      <th>emp.var.rate</th>\n      <th>cons.price.idx</th>\n      <th>cons.conf.idx</th>\n      <th>euribor3m</th>\n      <th>nr.employed</th>\n      <th>job</th>\n      <th>marital</th>\n      <th>default</th>\n      <th>education</th>\n      <th>loan</th>\n      <th>housing</th>\n      <th>contact</th>\n      <th>month</th>\n      <th>day_of_week</th>\n      <th>poutcome</th>\n    </tr>\n  </thead>\n  <tbody>\n    <tr>\n      <th>0</th>\n      <td>46</td>\n      <td>329</td>\n      <td>3</td>\n      <td>999</td>\n      <td>0</td>\n      <td>1.1</td>\n      <td>93.994</td>\n      <td>-36.4</td>\n      <td>4.857</td>\n      <td>5191.0</td>\n      <td>1</td>\n      <td>1</td>\n      <td>0</td>\n      <td>2</td>\n      <td>2</td>\n      <td>0</td>\n      <td>1</td>\n      <td>6</td>\n      <td>3</td>\n      <td>1</td>\n    </tr>\n    <tr>\n      <th>1</th>\n      <td>29</td>\n      <td>132</td>\n      <td>2</td>\n      <td>999</td>\n      <td>0</td>\n      <td>-1.8</td>\n      <td>92.893</td>\n      <td>-46.2</td>\n      <td>1.281</td>\n      <td>5099.1</td>\n      <td>0</td>\n      <td>2</td>\n      <td>0</td>\n      <td>6</td>\n      <td>0</td>\n      <td>0</td>\n      <td>0</td>\n      <td>6</td>\n      <td>4</td>\n      <td>1</td>\n    </tr>\n    <tr>\n      <th>3</th>\n      <td>31</td>\n      <td>199</td>\n      <td>2</td>\n      <td>999</td>\n      <td>0</td>\n      <td>1.1</td>\n      <td>93.994</td>\n      <td>-36.4</td>\n      <td>4.860</td>\n      <td>5191.0</td>\n      <td>0</td>\n      <td>1</td>\n      <td>1</td>\n      <td>3</td>\n      <td>0</td>\n      <td>2</td>\n      <td>1</td>\n      <td>6</td>\n      <td>2</td>\n      <td>1</td>\n    </tr>\n    <tr>\n      <th>5</th>\n      <td>33</td>\n      <td>174</td>\n      <td>4</td>\n      <td>999</td>\n      <td>0</td>\n      <td>1.4</td>\n      <td>93.444</td>\n      <td>-36.1</td>\n      <td>4.963</td>\n      <td>5228.1</td>\n      <td>0</td>\n      <td>2</td>\n      <td>0</td>\n      <td>6</td>\n      <td>2</td>\n      <td>2</td>\n      <td>0</td>\n      <td>1</td>\n      <td>1</td>\n      <td>1</td>\n    </tr>\n    <tr>\n      <th>8</th>\n      <td>34</td>\n      <td>65</td>\n      <td>2</td>\n      <td>999</td>\n      <td>1</td>\n      <td>-1.8</td>\n      <td>92.893</td>\n      <td>-46.2</td>\n      <td>1.281</td>\n      <td>5099.1</td>\n      <td>1</td>\n      <td>1</td>\n      <td>1</td>\n      <td>5</td>\n      <td>0</td>\n      <td>0</td>\n      <td>0</td>\n      <td>6</td>\n      <td>4</td>\n      <td>0</td>\n    </tr>\n  </tbody>\n</table>\n</div>",
            "text/plain": "   age  duration  campaign  pdays  previous  emp.var.rate  cons.price.idx  \\\n0   46       329         3    999         0           1.1          93.994   \n1   29       132         2    999         0          -1.8          92.893   \n3   31       199         2    999         0           1.1          93.994   \n5   33       174         4    999         0           1.4          93.444   \n8   34        65         2    999         1          -1.8          92.893   \n\n   cons.conf.idx  euribor3m  nr.employed  job  marital  default  education  \\\n0          -36.4      4.857       5191.0    1        1        0          2   \n1          -46.2      1.281       5099.1    0        2        0          6   \n3          -36.4      4.860       5191.0    0        1        1          3   \n5          -36.1      4.963       5228.1    0        2        0          6   \n8          -46.2      1.281       5099.1    1        1        1          5   \n\n   loan  housing  contact  month  day_of_week  poutcome  \n0     2        0        1      6            3         1  \n1     0        0        0      6            4         1  \n3     0        2        1      6            2         1  \n5     2        2        0      1            1         1  \n8     0        0        0      6            4         0  "
          },
          "metadata": {}
        }
      ]
    },
    {
      "metadata": {},
      "cell_type": "markdown",
      "source": "### Q 7. Extract dependent variable into a dataframe 'y' for model predcition"
    },
    {
      "metadata": {
        "trusted": true
      },
      "cell_type": "code",
      "source": "y = pd.DataFrame()\ndef log():\n    y = bank_final.loc[:,bank_final.columns == 'y']\n    return y\ny = log()",
      "execution_count": 34,
      "outputs": []
    },
    {
      "metadata": {
        "trusted": true
      },
      "cell_type": "code",
      "source": "y.head()",
      "execution_count": 35,
      "outputs": [
        {
          "output_type": "execute_result",
          "execution_count": 35,
          "data": {
            "text/html": "<div>\n<table border=\"1\" class=\"dataframe\">\n  <thead>\n    <tr style=\"text-align: right;\">\n      <th></th>\n      <th>y</th>\n    </tr>\n  </thead>\n  <tbody>\n    <tr>\n      <th>0</th>\n      <td>0</td>\n    </tr>\n    <tr>\n      <th>1</th>\n      <td>0</td>\n    </tr>\n    <tr>\n      <th>3</th>\n      <td>0</td>\n    </tr>\n    <tr>\n      <th>5</th>\n      <td>0</td>\n    </tr>\n    <tr>\n      <th>8</th>\n      <td>0</td>\n    </tr>\n  </tbody>\n</table>\n</div>",
            "text/plain": "   y\n0  0\n1  0\n3  0\n5  0\n8  0"
          },
          "metadata": {}
        }
      ]
    },
    {
      "metadata": {},
      "cell_type": "markdown",
      "source": "### Q 8. Splitting X and y intro train and test dataset"
    },
    {
      "metadata": {
        "trusted": true
      },
      "cell_type": "code",
      "source": "from sklearn.cross_validation import train_test_split\ndef log():\n    return train_test_split(X, y, test_size=0.25, random_state=1)\nX_train, X_test, y_train, y_test = log()",
      "execution_count": 36,
      "outputs": [
        {
          "output_type": "stream",
          "text": "/home/nbuser/anaconda3_420/lib/python3.5/site-packages/sklearn/cross_validation.py:41: DeprecationWarning: This module was deprecated in version 0.18 in favor of the model_selection module into which all the refactored classes and functions are moved. Also note that the interface of the new CV iterators are different from that of this module. This module will be removed in 0.20.\n  \"This module will be removed in 0.20.\", DeprecationWarning)\n",
          "name": "stderr"
        }
      ]
    },
    {
      "metadata": {},
      "cell_type": "markdown",
      "source": "### Check the shape of X an y of train dataset."
    },
    {
      "metadata": {
        "trusted": true
      },
      "cell_type": "code",
      "source": "def log():\n    print(X_train.shape)\n    print(y_train.shape)\nlog()",
      "execution_count": 37,
      "outputs": [
        {
          "output_type": "stream",
          "text": "(3465, 20)\n(3465, 1)\n",
          "name": "stdout"
        }
      ]
    },
    {
      "metadata": {},
      "cell_type": "markdown",
      "source": "### Check the shape of X and y of test dataset."
    },
    {
      "metadata": {
        "trusted": true
      },
      "cell_type": "code",
      "source": "def log():\n    print(X_test.shape)\n    print(y_test.shape)\nlog()",
      "execution_count": 38,
      "outputs": [
        {
          "output_type": "stream",
          "text": "(1156, 20)\n(1156, 1)\n",
          "name": "stdout"
        }
      ]
    },
    {
      "metadata": {},
      "cell_type": "markdown",
      "source": "### Q 9. Instantitate Logistic Regression model using scikit-learn"
    },
    {
      "metadata": {
        "trusted": true
      },
      "cell_type": "code",
      "source": "from sklearn.linear_model import LogisticRegression\ndef log():\n    logreg = LogisticRegression()\n    return logreg\nlogreg = log()",
      "execution_count": 39,
      "outputs": []
    },
    {
      "metadata": {},
      "cell_type": "markdown",
      "source": "### Q 10. Fit the logistic model on X_train and y_train"
    },
    {
      "metadata": {
        "trusted": true
      },
      "cell_type": "code",
      "source": "def log():\n    logreg.fit(X_train,y_train)\nlog()    ",
      "execution_count": 40,
      "outputs": [
        {
          "output_type": "stream",
          "text": "/home/nbuser/anaconda3_420/lib/python3.5/site-packages/sklearn/utils/validation.py:578: DataConversionWarning: A column-vector y was passed when a 1d array was expected. Please change the shape of y to (n_samples, ), for example using ravel().\n  y = column_or_1d(y, warn=True)\n",
          "name": "stderr"
        }
      ]
    },
    {
      "metadata": {},
      "cell_type": "markdown",
      "source": "### Q 11. Using the model for prediction"
    },
    {
      "metadata": {
        "trusted": true
      },
      "cell_type": "code",
      "source": "y_pred_train = pd.DataFrame()\ndef log():\n    y_pred_train = logreg.predict(X_train)\n    return y_pred_train\ny_pred_train = log()",
      "execution_count": 41,
      "outputs": []
    },
    {
      "metadata": {
        "trusted": true
      },
      "cell_type": "code",
      "source": "y_pred_test = pd.DataFrame()\ndef log():\n    y_pred_test = logreg.predict(X_test)\n    return y_pred_test\ny_pred_test = log()",
      "execution_count": 42,
      "outputs": []
    },
    {
      "metadata": {},
      "cell_type": "markdown",
      "source": "### Q 12. Model evaluation using accuracy classification score"
    },
    {
      "metadata": {
        "trusted": true
      },
      "cell_type": "code",
      "source": "from sklearn.metrics import accuracy_score\ndef log():\n    print('Accuracy score for test data is:', accuracy_score(y_test,y_pred_test))\nlog()",
      "execution_count": 43,
      "outputs": [
        {
          "output_type": "stream",
          "text": "Accuracy score for test data is: 0.9403114186851211\n",
          "name": "stdout"
        }
      ]
    },
    {
      "metadata": {},
      "cell_type": "markdown",
      "source": "### Q 13. Model evaluation using Confusion matrix"
    },
    {
      "metadata": {
        "trusted": true
      },
      "cell_type": "code",
      "source": "from sklearn.metrics import confusion_matrix\nconfusion_matrix = pd.DataFrame(confusion_matrix(y_test, y_pred_test))\ndef log():\n    confusion_matrix.index = ['Actual No_Deposit','Actual Deposit']\n    confusion_matrix.columns = ['Predicted No_Deposit','Predicted Deposit']\n    print(confusion_matrix)\nlog()",
      "execution_count": 44,
      "outputs": [
        {
          "output_type": "stream",
          "text": "                   Predicted No_Deposit  Predicted Deposit\nActual No_Deposit                  1062                 14\nActual Deposit                       55                 25\n",
          "name": "stdout"
        }
      ]
    },
    {
      "metadata": {},
      "cell_type": "markdown",
      "source": "### Q 14. Accuracy prediction setting the threshold = 0.75"
    },
    {
      "metadata": {
        "trusted": true
      },
      "cell_type": "code",
      "source": "import numpy as np\ndef log():\n    preds1 = np.where(logreg.predict_proba(X_test)[:,1]> 0.75,1,0)\n    print('Accuracy score for test data is:', accuracy_score(y_test,preds1))\nlog()",
      "execution_count": 45,
      "outputs": [
        {
          "output_type": "stream",
          "text": "Accuracy score for test data is: 0.9403114186851211\n",
          "name": "stdout"
        }
      ]
    },
    {
      "metadata": {},
      "cell_type": "markdown",
      "source": "### Q 15. Accuracy prediction setting the threshold = 0.25"
    },
    {
      "metadata": {
        "trusted": true
      },
      "cell_type": "code",
      "source": "def log():\n    preds2 = np.where(logreg.predict_proba(X_test)[:,1]> 0.25,1,0)\n    print('Accuracy score for test data is:', accuracy_score(y_test,preds2))\nlog()",
      "execution_count": 46,
      "outputs": [
        {
          "output_type": "stream",
          "text": "Accuracy score for test data is: 0.9359861591695502\n",
          "name": "stdout"
        }
      ]
    },
    {
      "metadata": {
        "trusted": false
      },
      "cell_type": "code",
      "source": "",
      "execution_count": null,
      "outputs": []
    }
  ],
  "metadata": {
    "kernelspec": {
      "name": "python3",
      "display_name": "Python 3",
      "language": "python"
    },
    "language_info": {
      "mimetype": "text/x-python",
      "nbconvert_exporter": "python",
      "name": "python",
      "file_extension": ".py",
      "version": "3.5.4",
      "pygments_lexer": "ipython3",
      "codemirror_mode": {
        "version": 3,
        "name": "ipython"
      }
    }
  },
  "nbformat": 4,
  "nbformat_minor": 2
}